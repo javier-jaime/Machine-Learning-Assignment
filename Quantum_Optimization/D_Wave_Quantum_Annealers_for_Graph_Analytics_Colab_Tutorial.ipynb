{
  "cells": [
    {
      "cell_type": "markdown",
      "metadata": {
        "id": "view-in-github",
        "colab_type": "text"
      },
      "source": [
        "<a href=\"https://colab.research.google.com/github/javier-jaime/Tool-Crib/blob/master/Quantum_Optimization/D_Wave_Quantum_Annealers_for_Graph_Analytics_Colab_Tutorial.ipynb\" target=\"_parent\"><img src=\"https://colab.research.google.com/assets/colab-badge.svg\" alt=\"Open In Colab\"/></a>"
      ]
    },
    {
      "cell_type": "markdown",
      "metadata": {
        "id": "9Ld6xO_gU1GD"
      },
      "source": [
        "# D-Wave Quantum Annealers for Graph Analytics Tutorial"
      ]
    },
    {
      "cell_type": "markdown",
      "metadata": {
        "id": "2SklD0GYwXI1"
      },
      "source": [
        "In this tutorial we will use quantum annealers (a special type of quantum computers) from D-Wave online, to approximate solutions to combinatorial optimization problems for graph analytics.\n",
        "\n",
        "This tutorial is based on code from: A Practical Guide to Quantum Machine Learning and Quantum Optimization by Elias F. Combarro & Samuel Gonzalez-Castillo (2023) https://github.com/PacktPublishing/A-Practical-Guide-to-Quantum-Machine-Learning-and-Quantum-Optimization"
      ]
    },
    {
      "cell_type": "markdown",
      "metadata": {
        "id": "S_U57AGowXI2"
      },
      "source": [
        "### Notebook Preparation"
      ]
    },
    {
      "cell_type": "markdown",
      "metadata": {
        "id": "slyjVTfkwXI2"
      },
      "source": [
        "In order to access D-Wave quantum annealers from a Notebook (Jupyter or Colab) first we need to sign up for a D-Wave account: https://cloud.dwavesys.com/leap/signup/. This will give you a free minute, you will need to copy the token for use at set-up."
      ]
    },
    {
      "cell_type": "code",
      "execution_count": null,
      "metadata": {
        "id": "WMEq13SZwXI2"
      },
      "outputs": [],
      "source": [
        "# Install d-wave ocean libraries the first time, comment/uncomment as required\n",
        "!pip install dwave-ocean-sdk==6.0.1"
      ]
    },
    {
      "cell_type": "code",
      "execution_count": null,
      "metadata": {
        "id": "5VIII_j1wXI3"
      },
      "outputs": [],
      "source": [
        "# Set-up access to D-Wave quantum annealers\n",
        "# enter token when prompted (click and paste right after Authentication token [...]:)\n",
        "! dwave config create -p defaults"
      ]
    },
    {
      "cell_type": "markdown",
      "metadata": {
        "id": "xvTnbzLnwXI3"
      },
      "source": [
        "### Simple Max-Cut Problem"
      ]
    },
    {
      "cell_type": "markdown",
      "metadata": {
        "id": "OrgPNuNCwXI3"
      },
      "source": [
        "In a graph, some given *elements* are represented as **nodes** or vertices, and the *connections* between pairs of these nodes are called **relationships** or edges.\n",
        "\n",
        "The **Max-Cut problem** consists in finding a maximum cut of a graph. So, we want to divide the nodes of the graph in two sets such that the number of relationships with extremes in different set of the cut is the maximum possible, this number is the size of the cut.\n",
        "\n",
        "For example, in a community building networking event, the relationships represent the people that already know each other, and we need to form teams trying to minimize the people that know each other, so they can work with new people."
      ]
    },
    {
      "cell_type": "markdown",
      "metadata": {
        "id": "-grRN2gmwXI3"
      },
      "source": [
        "We start with a very simple instance of the Max-Cut problem to show how easy be transformed into quantum form, consider this graph:"
      ]
    },
    {
      "cell_type": "markdown",
      "metadata": {
        "id": "jaLhWMZpwXI4"
      },
      "source": [
        "![download (1).png](data:image/png;base64,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)"
      ]
    },
    {
      "cell_type": "markdown",
      "metadata": {
        "id": "VAMBHPlJwXI4"
      },
      "source": [
        "The Max-Cut problem can be written as follows:"
      ]
    },
    {
      "cell_type": "markdown",
      "metadata": {
        "id": "z-LQ1luxwXI4"
      },
      "source": [
        "Minimize      $Z_0Z_1 + Z_0Z_2$"
      ]
    },
    {
      "cell_type": "markdown",
      "metadata": {
        "id": "ma0XEumKwXI4"
      },
      "source": [
        "Subject to     $Z_j \\in \\{-1,1\\},  ~ \\forall j$"
      ]
    },
    {
      "cell_type": "markdown",
      "metadata": {
        "id": "7ladedmTwXI4"
      },
      "source": [
        "Variables $Z_j$ are assigned to a node and will take the value 1 or -1, each assignment determines a cut, variables that take 1 will be in one set and variables that take -1 will be in another set. When two nodes are in the same set, the objective function results in 1, and when in different sets the function results to -1."
      ]
    },
    {
      "cell_type": "code",
      "execution_count": null,
      "metadata": {
        "id": "-RybBjoUwXI4"
      },
      "outputs": [],
      "source": [
        "# If you don't like physics you can skip this paragraph"
      ]
    },
    {
      "cell_type": "markdown",
      "metadata": {
        "id": "lCOtsM6QwXI4"
      },
      "source": [
        "This can be seen as a case of an unrelated problem in statistical physics: finding the state of **minimum energy** of an instance of the **Ising Model**, this is a math model for the ferromagnetic interaction of particles with spin, usually arranged in a lattice. The particle spins are represented by variables $Z_j$ that can take values 1 (spin up) or -1 (spin down). The $J$ coefficients represent the interaction between particles, and $h$ represents the influence of an external field.\n",
        "\n",
        "The total energy of the system is given by a quantity called the Hamiltonian function, so in quantum terms the math model of the max-cut problem is equivalent to found the ground state of:\n",
        "$Z_0Z_1 + Z_0Z_2$ which is an Ising Hamiltonian in which $J_{01} = J_{02} = 1$ and the $h$ coefficient is 0.\n",
        "\n",
        "Finding the state of minimum energy of the system consists in obtaining a spin configuration for which the Hamiltonian function attains its minimum value."
      ]
    },
    {
      "cell_type": "markdown",
      "metadata": {
        "id": "WJSTMI6vwXI5"
      },
      "source": [
        "To specify the problem we can use the dimod package included in the D-Wave Ocean library, as follows:"
      ]
    },
    {
      "cell_type": "code",
      "execution_count": null,
      "metadata": {
        "id": "UUFTKnf6FMb4",
        "outputId": "5c1b9a57-c81b-45fe-a915-eb92a7df8fa8"
      },
      "outputs": [
        {
          "name": "stdout",
          "output_type": "stream",
          "text": [
            "The problem we are going to solve is:\n",
            "BinaryQuadraticModel({0: 0.0, 1: 0.0, 2: 0.0}, {(1, 0): 1.0, (2, 0): 1.0}, 0.0, 'SPIN')\n"
          ]
        }
      ],
      "source": [
        "import dimod\n",
        "J = {(0,1):1, (0,2):1}\n",
        "h = {}\n",
        "problem = dimod.BinaryQuadraticModel(h, J, 0.0, dimod.SPIN)\n",
        "print(\"The problem we are going to solve is:\")\n",
        "print(problem)\n"
      ]
    },
    {
      "cell_type": "markdown",
      "metadata": {
        "id": "Mj4NR3iwwXI5"
      },
      "source": [
        "Note:\n",
        "\n",
        " - We used $J$ for the coefficients of the degree 2 terms: (0,1):1 sets the $J_{01}$ coefficient to 1 and (0,2):1 sets the $J_{02}$ coefficient to 1 and $h$ for the linear ones, if we don't specify the coefficients, they are automatically set to 0 by the constructor, but we need to pass both $J$ and $h$ parameters.\n",
        "\n",
        " - We used 0.0 as the value for the offset (second parameter) which is a constant term that can be added to the Hamiltonian.\n",
        " - We used the dimod.SPIN parameter because we are working with and Ising Hamiltonian, so the values of the variables are 1 and -1.\n",
        "\n",
        " The following code runs the annealing process on one of the quantum annealers:"
      ]
    },
    {
      "cell_type": "code",
      "execution_count": null,
      "metadata": {
        "id": "qgAnVWndFlUT",
        "outputId": "91da90b2-2f93-456e-9732-016c16e1daec"
      },
      "outputs": [
        {
          "name": "stdout",
          "output_type": "stream",
          "text": [
            "The solutions that we have obtained are\n",
            "   0  1  2 energy num_oc. chain_.\n",
            "0 +1 -1 -1   -2.0       6     0.0\n",
            "1 -1 +1 +1   -2.0       4     0.0\n",
            "['SPIN', 2 rows, 10 samples, 3 variables]\n"
          ]
        }
      ],
      "source": [
        "# Access the quantum annealers\n",
        "from dwave.system import DWaveSampler\n",
        "\n",
        "# Map or embed the problem in the qubits\n",
        "from dwave.system import EmbeddingComposite\n",
        "\n",
        "# Create an object sampler\n",
        "sampler = EmbeddingComposite(DWaveSampler())\n",
        "\n",
        "# Obtain 10 samples or possible solutions\n",
        "result = sampler.sample(problem, num_reads=10)\n",
        "print(\"The solutions that we have obtained are\")\n",
        "print(result)"
      ]
    },
    {
      "cell_type": "markdown",
      "metadata": {
        "id": "wfc8ntWnwXI6"
      },
      "source": [
        "This means that we obtained 2 different solutions $Z_0 = 1$, $Z_1 = -1$, $Z_2 = -1$ and $Z_0 = -1$, $Z_1 = 1$, $Z_2 = 1$ both with energy -2. These two solutions are, the maximum cuts of the graph. As you can easily check the two sets assigned to 1 and -1 in the graph above."
      ]
    },
    {
      "cell_type": "code",
      "execution_count": null,
      "metadata": {
        "id": "j3mZBbY5wXI6",
        "outputId": "991e920e-7868-4507-ec77-cb007c1e7b23"
      },
      "outputs": [
        {
          "name": "stdout",
          "output_type": "stream",
          "text": [
            "The best solution is:\n",
            " Sample(sample={0: 1, 1: -1, 2: -1}, energy=-2.0, num_occurrences=6, chain_break_fraction=0.0)\n",
            "\n",
            " Access Time 16479.17 microseconds\n"
          ]
        }
      ],
      "source": [
        "# We can get additional information from the result\n",
        "\n",
        "print('The best solution is:\\n', result.first)\n",
        "print ('\\n Access Time', result.info['timing']['qpu_access_time'], 'microseconds')"
      ]
    },
    {
      "cell_type": "markdown",
      "metadata": {
        "id": "Qc8oBGg5wXI6"
      },
      "source": [
        "The time to be substracted from the free plan is only 0.0165 seconds."
      ]
    },
    {
      "cell_type": "markdown",
      "metadata": {
        "id": "rL8zRX98wXI6"
      },
      "source": [
        "This simple problem escale well, defining how well depends on [computational complexity](https://github.com/javier-jaime/Tool-Crib/blob/master/Quantum%20Optimization/Appendix%20C%20-%20Computational%20Compexity.pdf)."
      ]
    },
    {
      "cell_type": "markdown",
      "metadata": {
        "id": "Wu3WG6RWwXI6"
      },
      "source": [
        "### Binary Linear Programming"
      ]
    },
    {
      "cell_type": "markdown",
      "metadata": {
        "id": "DZU86XdQwXI6"
      },
      "source": [
        "In **Binary Linear Programming** problems we want to optimize a linear function on binary variables subject to linear constraints.\n",
        "\n",
        "An example of this type of problem can be written as follows:"
      ]
    },
    {
      "cell_type": "markdown",
      "metadata": {
        "id": "yYLWFqTuwXI6"
      },
      "source": [
        "Minimize      $-5X_0 + 3X_1 - 2X_2$\n",
        "\n",
        "Subject to $A_x\\leq  b,$  \n",
        "$\\\\X_j\\in \\{0,1\\},  ~ j=0,1,2.$\n",
        "\n",
        "   "
      ]
    },
    {
      "cell_type": "markdown",
      "metadata": {
        "id": "oz5fOUnhwXI7"
      },
      "source": [
        "In *dimod* in order to instantiate a binary linear program, first we need to define the variables that we want to use."
      ]
    },
    {
      "cell_type": "code",
      "execution_count": null,
      "metadata": {
        "id": "42ucb8VpFuKt"
      },
      "outputs": [],
      "source": [
        "x0 = dimod.Binary(\"x0\")\n",
        "x1 = dimod.Binary(\"x1\")\n",
        "x2 = dimod.Binary(\"x2\")"
      ]
    },
    {
      "cell_type": "markdown",
      "metadata": {
        "id": "pkJ3KbrwwXI7"
      },
      "source": [
        "Then we need to define a *ConstrainedQuadraticModel* object, set the objective function and fix the constraints."
      ]
    },
    {
      "cell_type": "code",
      "execution_count": null,
      "metadata": {
        "id": "7upiqt8eFzy3",
        "outputId": "d52417c1-fceb-4cdf-c7c2-3d1713786ae8"
      },
      "outputs": [
        {
          "data": {
            "text/plain": [
              "'Second constraint'"
            ]
          },
          "execution_count": 7,
          "metadata": {},
          "output_type": "execute_result"
        }
      ],
      "source": [
        "blp = dimod.ConstrainedQuadraticModel()\n",
        "blp.set_objective(-5*x0+3*x1-2*x2)\n",
        "blp.add_constraint(x0 + x2 <= 1, \"First constraint\")\n",
        "blp.add_constraint(3*x0 -x1 + 3*x2 <= 4, \"Second constraint\")"
      ]
    },
    {
      "cell_type": "markdown",
      "metadata": {
        "id": "MINSoEAmwXI7"
      },
      "source": [
        "We can check the elements of the *blp* object by accessing its variables, objective, and constraints attributes."
      ]
    },
    {
      "cell_type": "code",
      "execution_count": null,
      "metadata": {
        "id": "hJF69F3LF5Dc",
        "outputId": "b106aa95-20d8-4c64-8336-bb6d4853840a"
      },
      "outputs": [
        {
          "name": "stdout",
          "output_type": "stream",
          "text": [
            "Our variables are:\n",
            "Variables(['x0', 'x1', 'x2'])\n",
            "Our objective is:\n",
            "ObjectiveView({'x0': -5.0, 'x1': 3.0, 'x2': -2.0}, {}, 0.0, {'x0': 'BINARY', 'x1': 'BINARY', 'x2': 'BINARY'})\n",
            "Our constraints are:\n",
            "{'First constraint': Le(ConstraintView({'x0': 1.0, 'x2': 1.0}, {}, 0.0, {'x0': 'BINARY', 'x2': 'BINARY'}), 1.0), 'Second constraint': Le(ConstraintView({'x0': 3.0, 'x1': -1.0, 'x2': 3.0}, {}, 0.0, {'x0': 'BINARY', 'x1': 'BINARY', 'x2': 'BINARY'}), 4.0)}\n"
          ]
        }
      ],
      "source": [
        "print(\"Our variables are:\")\n",
        "print(blp.variables)\n",
        "print(\"Our objective is:\")\n",
        "print(blp.objective)\n",
        "print(\"Our constraints are:\")\n",
        "print(blp.constraints)"
      ]
    },
    {
      "cell_type": "markdown",
      "metadata": {
        "id": "ymH2bH4BwXI8"
      },
      "source": [
        "Note that the objective and the constrains are quadratic functions, only the linear part of the constraints is non-empty, the offset of zero and the constrainst are instances of the *dimod* *Le* class, for less than equal to."
      ]
    },
    {
      "cell_type": "markdown",
      "metadata": {
        "id": "k53JdXERwXI8"
      },
      "source": [
        "We can assign values to the variables, check if it is feasible and compute the cost for the problem previously defined."
      ]
    },
    {
      "cell_type": "code",
      "execution_count": null,
      "metadata": {
        "id": "V9Wtt3OlF_uK",
        "outputId": "ed2ff991-f51d-4e91-bea1-31d15340faf8"
      },
      "outputs": [
        {
          "name": "stdout",
          "output_type": "stream",
          "text": [
            "The assignment is {'x0': 1, 'x1': 1, 'x2': 1}\n",
            "Its cost is -4.0\n",
            "Is it feasible? False\n",
            "The violations of the constraints are\n",
            "{'First constraint': 1.0, 'Second constraint': 1.0}\n"
          ]
        }
      ],
      "source": [
        "sample1 = {\"x0\":1, \"x1\":1, \"x2\":1}\n",
        "print(\"The assignment is\", sample1)\n",
        "print(\"Its cost is\", blp.objective.energy(sample1))\n",
        "print(\"Is it feasible?\",blp.check_feasible(sample1))\n",
        "print(\"The violations of the constraints are\")\n",
        "print(blp.violations(sample1))"
      ]
    },
    {
      "cell_type": "markdown",
      "metadata": {
        "id": "67OuzDgNwXI8"
      },
      "source": [
        "This assignment is not feasible and the *violations* method give us the amount that excedded each inequality."
      ]
    },
    {
      "cell_type": "code",
      "execution_count": null,
      "metadata": {
        "id": "tam0h2V1GmP9",
        "outputId": "12596352-3642-4974-a73f-1fd8d2c7a082"
      },
      "outputs": [
        {
          "name": "stdout",
          "output_type": "stream",
          "text": [
            "The assignment is {'x0': 0, 'x1': 0, 'x2': 1}\n",
            "Its cost is -2.0\n",
            "Is it feasible? True\n",
            "The violations of the constraints are\n",
            "{'First constraint': 0.0, 'Second constraint': -1.0}\n"
          ]
        }
      ],
      "source": [
        "sample2 = {\"x0\":0, \"x1\":0, \"x2\":1}\n",
        "print(\"The assignment is\", sample2)\n",
        "print(\"Its cost is\", blp.objective.energy(sample2))\n",
        "print(\"Is it feasible?\",blp.check_feasible(sample2))\n",
        "print(\"The violations of the constraints are\")\n",
        "print(blp.violations(sample2))"
      ]
    },
    {
      "cell_type": "markdown",
      "metadata": {
        "id": "I2bcapS0wXI9"
      },
      "source": [
        "This assignment is feasible so no violation term is positive."
      ]
    },
    {
      "cell_type": "markdown",
      "metadata": {
        "id": "2q92gItkwXJF"
      },
      "source": [
        "The *dimod* package also provides a \"brute-force\" exact solver that tries all posible assignments and sort them by cost."
      ]
    },
    {
      "cell_type": "code",
      "execution_count": null,
      "metadata": {
        "id": "xyQzxTkhGsZo",
        "outputId": "5f8e3d71-36b2-46e3-b2cb-122d1ba9add8"
      },
      "outputs": [
        {
          "name": "stdout",
          "output_type": "stream",
          "text": [
            "The list of assignments is\n",
            "  x0 x1 x2 energy num_oc. is_sat. is_fea.\n",
            "6  1  0  1   -7.0       1 arra...   False\n",
            "2  1  0  0   -5.0       1 arra...    True\n",
            "7  1  1  1   -4.0       1 arra...   False\n",
            "3  1  1  0   -2.0       1 arra...    True\n",
            "4  0  0  1   -2.0       1 arra...    True\n",
            "0  0  0  0    0.0       1 arra...    True\n",
            "5  0  1  1    1.0       1 arra...    True\n",
            "1  0  1  0    3.0       1 arra...    True\n",
            "['INTEGER', 8 rows, 8 samples, 3 variables]\n"
          ]
        }
      ],
      "source": [
        "solver = dimod.ExactCQMSolver()\n",
        "solution = solver.sample_cqm(blp)\n",
        "print(\"The list of assignments is\")\n",
        "print(solution)"
      ]
    },
    {
      "cell_type": "markdown",
      "metadata": {
        "id": "GBcg8mzZwXJF"
      },
      "source": [
        "The first number is the identifier, followed by the variables values, the cost or energy of the assignment, the number of times the solution was found, which constraints are satisfied and if the solution is feasible or not."
      ]
    },
    {
      "cell_type": "code",
      "execution_count": null,
      "metadata": {
        "id": "9dRF20ktG2Wf",
        "outputId": "1f375173-c13c-4971-ebe3-98aa3afa274f"
      },
      "outputs": [
        {
          "data": {
            "text/plain": [
              "Sample(sample={'x0': 1, 'x1': 0, 'x2': 0}, energy=-5.0, num_occurrences=1, is_satisfied=array([ True,  True]), is_feasible=True)"
            ]
          },
          "execution_count": 12,
          "metadata": {},
          "output_type": "execute_result"
        }
      ],
      "source": [
        "feasible_sols = solution.filter(lambda s: s.is_feasible)\n",
        "feasible_sols.first"
      ]
    },
    {
      "cell_type": "markdown",
      "metadata": {
        "id": "dgRminu5wXJF"
      },
      "source": [
        "The first solution does not satisfy either of the two constraints, for the optimal solution we need to filter the unfeasible solutions."
      ]
    },
    {
      "cell_type": "markdown",
      "metadata": {
        "id": "rPFM6ZVlwXJF"
      },
      "source": [
        "The *ConstrainedQuadraticModel* cannot be used to define problems to run on quantum annealers, for this need the *BinaryQuadraticModel*."
      ]
    },
    {
      "cell_type": "markdown",
      "metadata": {
        "id": "39UT0OWEwXJG"
      },
      "source": [
        "### QUBO Model"
      ]
    },
    {
      "cell_type": "markdown",
      "metadata": {
        "id": "V_XrfoKtwXJG"
      },
      "source": [
        "The *dimod* *BinaryQuadraticModel*, in addition to Ising models can be used for Quadratic Unconstrained Binary Optimization (QUBO) Problems. In which we want to minimize quadratic expressions over binary variables with no restrictions (every combination of zeros and ones is valid)."
      ]
    },
    {
      "cell_type": "markdown",
      "metadata": {
        "id": "U488kTmpwXJG"
      },
      "source": [
        "To transform a binary linear problem to **QUBO**, first we need to convert the inequality constraints by adding **slack variables** and second we need to add the constraints as **penalty terms** to the objective function to minimize. Luckily, *dimod* provides the  *ConstrainedQuadraticModel* class that simplify the process."
      ]
    },
    {
      "cell_type": "markdown",
      "metadata": {
        "id": "kRPlifCWwXJG"
      },
      "source": [
        "A simple constrainied problem can be defined as this."
      ]
    },
    {
      "cell_type": "code",
      "execution_count": null,
      "metadata": {
        "id": "JSYjdRNuG_x5"
      },
      "outputs": [],
      "source": [
        "y0, y1 = dimod.Binaries([\"y0\", \"y1\"])\n",
        "cqm = dimod.ConstrainedQuadraticModel()\n",
        "cqm.set_objective(-2*y0-3*y1)\n",
        "cqm.add_constraint(y0 + 2*y1 <= 2);"
      ]
    },
    {
      "cell_type": "markdown",
      "metadata": {
        "id": "2Vjdv-CuwXJG"
      },
      "source": [
        "We can transform the constrained model to unconstrained model with the *cqm_to_bqm* method.\n",
        "\n",
        "Note that the constraints will be added in a penalty term with the lagrange multiplier as a coefficient."
      ]
    },
    {
      "cell_type": "code",
      "execution_count": null,
      "metadata": {
        "id": "pJko6mDSHF63",
        "outputId": "4fb87120-337f-4819-9ed6-4fd91b1da5b6"
      },
      "outputs": [
        {
          "name": "stdout",
          "output_type": "stream",
          "text": [
            "BinaryQuadraticModel({'y0': -17.0, 'y1': -23.0, 'slack_v8fc1599377b24bf592da116fadd1b61b_0': -15.0, 'slack_v8fc1599377b24bf592da116fadd1b61b_1': -15.0}, {('y1', 'y0'): 20.0, ('slack_v8fc1599377b24bf592da116fadd1b61b_0', 'y0'): 10.0, ('slack_v8fc1599377b24bf592da116fadd1b61b_0', 'y1'): 20.0, ('slack_v8fc1599377b24bf592da116fadd1b61b_1', 'y0'): 10.0, ('slack_v8fc1599377b24bf592da116fadd1b61b_1', 'y1'): 20.0, ('slack_v8fc1599377b24bf592da116fadd1b61b_1', 'slack_v8fc1599377b24bf592da116fadd1b61b_0'): 10.0}, 20.0, 'BINARY')\n"
          ]
        }
      ],
      "source": [
        "qubo, invert = dimod.cqm_to_bqm(cqm, lagrange_multiplier = 5)\n",
        "print(qubo)"
      ]
    },
    {
      "cell_type": "markdown",
      "metadata": {
        "id": "zmXScE9twXJH"
      },
      "source": [
        "The results are assigned to a *invert* object, and a *qubo* object that has the specification of the cost function,\n",
        "\n",
        "first is the linear part:\n",
        "\n",
        "- $y_0$ has coefficient -17\n",
        "\n",
        "- $y_1$ has coefficient -23\n",
        "\n",
        "- slack variables have coefficient -15\n",
        "\n",
        "then the quadratic part:\n",
        "\n",
        "- $y_0y_1$ has coefficient 20\n",
        "\n",
        "- the products of the slack variables have coefficients 10 & 20\n",
        "\n",
        "and finally 20 is the offset, all variables are BINARY."
      ]
    },
    {
      "cell_type": "markdown",
      "source": [
        "Now we can use a quantum annealer to solve the problem defined above."
      ],
      "metadata": {
        "id": "ZNmG1cTR3Eq5"
      }
    },
    {
      "cell_type": "code",
      "execution_count": null,
      "metadata": {
        "id": "zeKwEoWxHJXz",
        "outputId": "402b075b-8d48-4292-c103-02254753c3b9"
      },
      "outputs": [
        {
          "name": "stdout",
          "output_type": "stream",
          "text": [
            "The solutions that we have obtained are\n",
            "  slack_v8fc1599377b24bf592da116fadd1b61b_0 ... y1 energy num_oc. chain_.\n",
            "0                                         0 ...  1   -3.0       7     0.0\n",
            "1                                         0 ...  0   -2.0       2     0.0\n",
            "2                                         1 ...  0   -2.0       1     0.0\n",
            "['BINARY', 3 rows, 10 samples, 4 variables]\n"
          ]
        }
      ],
      "source": [
        "sampler = EmbeddingComposite(DWaveSampler())\n",
        "result = sampler.sample(qubo, num_reads=10)\n",
        "print(\"The solutions that we have obtained are\")\n",
        "print(result)"
      ]
    },
    {
      "cell_type": "markdown",
      "source": [
        "This output is not clear because we are looking at the solutions to the transformed problem with the slack variables default long names.\n",
        "\n",
        "So we need the *invert* object from above, this object will help us retrieve the solutions to the original problem."
      ],
      "metadata": {
        "id": "TiFfRxYY3oB_"
      }
    },
    {
      "cell_type": "code",
      "execution_count": null,
      "metadata": {
        "id": "FrhzIllgHQqz",
        "outputId": "0adde8b9-e45e-45b6-bc77-a2a25568e3f3"
      },
      "outputs": [
        {
          "name": "stdout",
          "output_type": "stream",
          "text": [
            "The solutions to the original problem are\n",
            "  y0 y1 energy num_oc. is_sat. is_fea.\n",
            "0  0  1   -3.0       7 arra...    True\n",
            "1  1  0   -2.0       2 arra...    True\n",
            "2  1  0   -2.0       1 arra...    True\n",
            "['INTEGER', 3 rows, 10 samples, 2 variables]\n"
          ]
        }
      ],
      "source": [
        "samples = []\n",
        "occurrences = []\n",
        "for s in result.data():\n",
        "    samples.append(invert(s.sample))\n",
        "    occurrences.append(s.num_occurrences)\n",
        "sampleset = dimod.SampleSet.from_samples_cqm(samples,cqm,\n",
        "    num_occurrences=occurrences)\n",
        "print(\"The solutions to the original problem are\")\n",
        "print(sampleset)"
      ]
    },
    {
      "cell_type": "markdown",
      "source": [
        "Note:\n",
        "\n",
        "- We created a *SampleSet* object to store the results from the samples obtained.\n",
        "\n",
        "- We used the *invert* object to eliminate the slack variables.\n",
        "\n",
        "- We used the *from_samples_cqm* method  to compute the energy without penalties.\n",
        "\n",
        "- We used the number of occurrences to count how many times each solution is sampled.\n",
        "\n"
      ],
      "metadata": {
        "id": "Js30ef5V532M"
      }
    },
    {
      "cell_type": "markdown",
      "source": [
        "We can use the *filter* method to only keep feasible solutions, and the *aggregate* method to merge the duplicated solutions."
      ],
      "metadata": {
        "id": "kCyTNw-C9dg5"
      }
    },
    {
      "cell_type": "code",
      "execution_count": null,
      "metadata": {
        "id": "PKDAg5bsHZCl",
        "outputId": "e7040b51-bd56-4487-fd57-523adbc51948"
      },
      "outputs": [
        {
          "name": "stdout",
          "output_type": "stream",
          "text": [
            "The final solutions are\n",
            "  y0 y1 energy num_oc. is_sat. is_fea.\n",
            "0  0  1   -3.0       7 arra...    True\n",
            "1  1  0   -2.0       3 arra...    True\n",
            "['INTEGER', 2 rows, 10 samples, 2 variables]\n"
          ]
        }
      ],
      "source": [
        "final_sols = sampleset.filter(lambda s: s.is_feasible)\n",
        "final_sols = final_sols.aggregate()\n",
        "print(\"The final solutions are\")\n",
        "print(final_sols)"
      ]
    },
    {
      "cell_type": "markdown",
      "source": [
        "The output is now clear."
      ],
      "metadata": {
        "id": "OjYk8p0P-KQX"
      }
    },
    {
      "cell_type": "markdown",
      "source": [
        "### The Leap Annealers"
      ],
      "metadata": {
        "id": "3vJG5aRy-ve5"
      }
    },
    {
      "cell_type": "markdown",
      "source": [
        "We can list the deviced we have access by using the *get_solvers* method."
      ],
      "metadata": {
        "id": "7AmkywSi_FqC"
      }
    },
    {
      "cell_type": "code",
      "execution_count": null,
      "metadata": {
        "id": "ycO77-2JHhCE",
        "outputId": "e8b3c757-bde6-42bc-b03d-d966bbd4d230"
      },
      "outputs": [
        {
          "name": "stdout",
          "output_type": "stream",
          "text": [
            "BQMSolver(id='hybrid_binary_quadratic_model_version2')\n",
            "DQMSolver(id='hybrid_discrete_quadratic_model_version1')\n",
            "StructuredSolver(id='Advantage_system4.1')\n",
            "CQMSolver(id='hybrid_constrained_quadratic_model_version1')\n",
            "StructuredSolver(id='Advantage2_prototype1.1')\n",
            "StructuredSolver(id='Advantage_system6.2')\n"
          ]
        }
      ],
      "source": [
        "from dwave.cloud import Client\n",
        "for solver in Client.from_config().get_solvers():\n",
        "    print(solver)"
      ]
    },
    {
      "cell_type": "markdown",
      "source": [
        "This is the result for a free account, and this will depends on your privileges.\n",
        "\n",
        "We have access to 6 solvers, from which 3 are hybrids that combine classical and quantum solvers,\n",
        "\n",
        "and the other 3 are the advantage, that are pure quantum annealers."
      ],
      "metadata": {
        "id": "nxjzIT2K_TTM"
      }
    },
    {
      "cell_type": "markdown",
      "source": [
        "We can select a particular annealer by using the solver parameter in the *DWaveSampler* constructor."
      ],
      "metadata": {
        "id": "rtlZ0rbfA1il"
      }
    },
    {
      "cell_type": "code",
      "execution_count": null,
      "metadata": {
        "id": "sICOR7yoHmeB",
        "outputId": "cbf478e2-bef7-456b-bdf8-385edb945136"
      },
      "outputs": [
        {
          "name": "stdout",
          "output_type": "stream",
          "text": [
            "Name: Advantage_system6.2\n",
            "Number of qubits: 5760\n",
            "Category: qpu\n",
            "Supported problems: ['ising', 'qubo']\n",
            "Topology: {'type': 'pegasus', 'shape': [16]}\n",
            "Range of reads: [1, 10000]\n"
          ]
        }
      ],
      "source": [
        "from dwave.system import DWaveSampler\n",
        "sampler=DWaveSampler(solver='Advantage_system6.2')\n",
        "print(\"Name:\",sampler.properties[\"chip_id\"])\n",
        "print(\"Number of qubits:\",sampler.properties[\"num_qubits\"])\n",
        "print(\"Category:\",sampler.properties[\"category\"])\n",
        "print(\"Supported problems:\",sampler.properties[\"supported_problem_types\"])\n",
        "print(\"Topology:\",sampler.properties[\"topology\"])\n",
        "print(\"Range of reads:\",sampler.properties[\"num_reads_range\"])"
      ]
    },
    {
      "cell_type": "markdown",
      "source": [
        "And print the *properties* with the sampler attribute."
      ],
      "metadata": {
        "id": "xAHa55rmBNFH"
      }
    },
    {
      "cell_type": "code",
      "execution_count": null,
      "metadata": {
        "id": "SvYDUn4cHwnT",
        "outputId": "f409d2e7-4c13-479f-e4e2-facd67183cae"
      },
      "outputs": [
        {
          "name": "stdout",
          "output_type": "stream",
          "text": [
            "Name: Advantage_system4.1\n",
            "Number of qubits: 5760\n",
            "Category: qpu\n",
            "Supported problems: ['ising', 'qubo']\n",
            "Topology: {'type': 'pegasus', 'shape': [16]}\n",
            "Range of reads: [1, 10000]\n"
          ]
        }
      ],
      "source": [
        "sampler=DWaveSampler(solver='Advantage_system4.1')\n",
        "print(\"Name:\",sampler.properties[\"chip_id\"])\n",
        "print(\"Number of qubits:\",sampler.properties[\"num_qubits\"])\n",
        "print(\"Category:\",sampler.properties[\"category\"])\n",
        "print(\"Supported problems:\",sampler.properties[\"supported_problem_types\"])\n",
        "print(\"Topology:\",sampler.properties[\"topology\"])\n",
        "print(\"Range of reads:\",sampler.properties[\"num_reads_range\"])"
      ]
    },
    {
      "cell_type": "code",
      "execution_count": null,
      "metadata": {
        "id": "BEbRGsy3H5jP",
        "outputId": "ba405e51-00c8-4a7c-eea9-b007b6815581"
      },
      "outputs": [
        {
          "name": "stdout",
          "output_type": "stream",
          "text": [
            "Name: Advantage2_prototype1.1\n",
            "Number of qubits: 576\n",
            "Category: qpu\n",
            "Supported problems: ['ising', 'qubo']\n",
            "Topology: {'type': 'zephyr', 'shape': [4, 4]}\n",
            "Range of reads: [1, 10000]\n"
          ]
        }
      ],
      "source": [
        "sampler=DWaveSampler(solver='Advantage2_prototype1.1')\n",
        "print(\"Name:\",sampler.properties[\"chip_id\"])\n",
        "print(\"Number of qubits:\",sampler.properties[\"num_qubits\"])\n",
        "print(\"Category:\",sampler.properties[\"category\"])\n",
        "print(\"Supported problems:\",sampler.properties[\"supported_problem_types\"])\n",
        "print(\"Topology:\",sampler.properties[\"topology\"])\n",
        "print(\"Range of reads:\",sampler.properties[\"num_reads_range\"])"
      ]
    },
    {
      "cell_type": "markdown",
      "source": [
        "Most of the properties are the same, all annealers are *qpu* or quantum processing units and all accept QUBO or Ising problems, the maximum number of examples is 10,000.\n"
      ],
      "metadata": {
        "id": "2BgS-H93BlON"
      }
    },
    {
      "cell_type": "markdown",
      "source": [
        "But current quantum computers does not connect the qubits all-to-all, this will be technically too difficult, ussually each qubit connect just to its neighbours by using *couplings*, so the ising model will have non-zero coefficients between the linked qubits. The way how the qubits are connected on a quantum processor is called **topology** and it is important for the design of the algorithms, and this topology and the number of qubits are the different properties between the annealers."
      ],
      "metadata": {
        "id": "39bTZNV54NvX"
      }
    },
    {
      "cell_type": "markdown",
      "source": [
        "\n",
        "We can list all the connection with the *couplers* property, or in a more readable form using the adjecency method, but in most cases it is to big to print."
      ],
      "metadata": {
        "id": "X1D0qw39EV94"
      }
    },
    {
      "cell_type": "code",
      "execution_count": null,
      "metadata": {
        "id": "qWjDsgeNIDYe"
      },
      "outputs": [],
      "source": [
        "# Too bing to print, uncomment at your own risk\n",
        "# sampler=DWaveSampler(solver='Advantage_system6.2')\n",
        "# print(\"Couplings:\",sampler.properties[\"couplers\"])\n",
        "#sampler.adjacency"
      ]
    },
    {
      "cell_type": "markdown",
      "source": [
        "### Embedings"
      ],
      "metadata": {
        "id": "g_7N8JmGEs92"
      }
    },
    {
      "cell_type": "markdown",
      "source": [
        "We need **embeddings** to map the problem Hamiltonian qubits to the annealers phyisical qubits.\n",
        "\n",
        "But the mapping is not ussually one to one, in this case can use a **chain** of several physical qubits to represent a single qubit from the problem. The *dimod* package from the Ocean library takes care of this.   "
      ],
      "metadata": {
        "id": "VbVRmQTMFU-1"
      }
    },
    {
      "cell_type": "code",
      "execution_count": null,
      "metadata": {
        "id": "ntM_2zE4ITU-",
        "outputId": "5b9e69e7-bbc7-4c07-e565-c7a0c798d2be"
      },
      "outputs": [
        {
          "name": "stdout",
          "output_type": "stream",
          "text": [
            "The samples obtained are\n",
            "   0  1  2 energy num_oc. chain_.\n",
            "0 -1 -1 +1   -1.0       1     0.0\n",
            "1 -1 +1 -1   -1.0       1     0.0\n",
            "2 -1 +1 +1   -1.0       3     0.0\n",
            "3 +1 +1 -1   -1.0       2     0.0\n",
            "4 +1 -1 +1   -1.0       3     0.0\n",
            "['SPIN', 5 rows, 10 samples, 3 variables]\n",
            "The embedding used was\n",
            "{'embedding': {1: (4331,), 0: (2092,), 2: (4346,)}, 'chain_break_method': 'majority_vote', 'embedding_parameters': {}, 'chain_strength': 1.9996979771955565}\n"
          ]
        }
      ],
      "source": [
        "# Define the problem\n",
        "J = {(0,1):1, (0,2):1, (1,2):1}\n",
        "h = {}\n",
        "triangle = dimod.BinaryQuadraticModel(h, J, 0.0, dimod.SPIN)\n",
        "# Embed it and solve it on the DW_2000Q_6 annealer\n",
        "sampler = EmbeddingComposite(DWaveSampler(solver = \"Advantage_system6.2\"))\n",
        "result = sampler.sample(triangle, num_reads=10,\n",
        "    return_embedding = True)\n",
        "print(\"The samples obtained are\")\n",
        "print(result)\n",
        "print(\"The embedding used was\")\n",
        "print(result.info[\"embedding_context\"])"
      ]
    },
    {
      "cell_type": "code",
      "execution_count": null,
      "metadata": {
        "id": "p399qlrKIb9g",
        "outputId": "6cbfaea2-28cd-416c-95a3-3c423b95d2c9"
      },
      "outputs": [
        {
          "name": "stdout",
          "output_type": "stream",
          "text": [
            "The default annealing time is 20.0 microseconds\n",
            "The possible values for the annealing time (in microseconds) lie in the range [0.5, 2000.0]\n"
          ]
        }
      ],
      "source": [
        "sampler = DWaveSampler(solver = \"Advantage_system4.1\")\n",
        "print(\"The default annealing time is\",\n",
        "    sampler.properties[\"default_annealing_time\"],\"microseconds\")\n",
        "print(\"The possible values for the annealing time (in microseconds)\"\\\n",
        "    \" lie in the range\",sampler.properties[\"annealing_time_range\"])"
      ]
    },
    {
      "cell_type": "code",
      "execution_count": null,
      "metadata": {
        "id": "erXf3rnXIkOf",
        "outputId": "3fe1dc82-5d8c-46bc-a9a6-ee96f7c721ef"
      },
      "outputs": [
        {
          "name": "stdout",
          "output_type": "stream",
          "text": [
            "The samples obtained are\n",
            "   0  1  2 energy num_oc. chain_.\n",
            "0 +1 -1 -1   -1.0       1     0.0\n",
            "1 -1 -1 +1   -1.0       3     0.0\n",
            "2 -1 +1 -1   -1.0       4     0.0\n",
            "3 -1 +1 +1   -1.0       1     0.0\n",
            "4 +1 +1 -1   -1.0       1     0.0\n",
            "['SPIN', 5 rows, 10 samples, 3 variables]\n"
          ]
        }
      ],
      "source": [
        "J = {(0,1):1, (0,2):1, (1,2):1}\n",
        "h = {}\n",
        "triangle = dimod.BinaryQuadraticModel(h, J, 0.0, dimod.SPIN)\n",
        "sampler = EmbeddingComposite(DWaveSampler(solver = \"Advantage_system6.2\"))\n",
        "result = sampler.sample(triangle, num_reads=10, annealing_time = 100)\n",
        "print(\"The samples obtained are\")\n",
        "print(result)"
      ]
    },
    {
      "cell_type": "code",
      "execution_count": null,
      "metadata": {
        "id": "LYM4kqH3IpGa",
        "outputId": "42695391-8d91-46b8-9476-635a9a2318eb"
      },
      "outputs": [
        {
          "name": "stdout",
          "output_type": "stream",
          "text": [
            "The samples obtained are\n",
            "   0  1  2 energy num_oc. chain_.\n",
            "0 +1 -1 -1   -1.0       4     0.0\n",
            "1 -1 -1 +1   -1.0       2     0.0\n",
            "2 +1 -1 +1   -1.0       2     0.0\n",
            "3 -1 +1 -1   -1.0       1     0.0\n",
            "4 +1 +1 -1   -1.0       1     0.0\n",
            "['SPIN', 5 rows, 10 samples, 3 variables]\n"
          ]
        }
      ],
      "source": [
        "forward_schedule=[[0.0, 0.0], [5.0, 0.25], [25, 0.75], [30, 1.0]]\n",
        "sampler = EmbeddingComposite(DWaveSampler())\n",
        "result = sampler.sample(triangle, num_reads=10,\n",
        "    anneal_schedule = forward_schedule)\n",
        "print(\"The samples obtained are\")\n",
        "print(result)"
      ]
    },
    {
      "cell_type": "code",
      "execution_count": null,
      "metadata": {
        "id": "KbH16epAI1jO",
        "outputId": "9905b671-9e76-4dee-fe38-fe7317d012df"
      },
      "outputs": [
        {
          "name": "stdout",
          "output_type": "stream",
          "text": [
            "The samples obtained are\n",
            "   0  1  2 energy num_oc. chain_.\n",
            "0 -1 -1 +1   -1.0       1     0.0\n",
            "1 -1 +1 -1   -1.0       1     0.0\n",
            "2 +1 -1 +1   -1.0       1     0.0\n",
            "3 -1 +1 -1   -1.0       1     0.0\n",
            "4 -1 +1 +1   -1.0       1     0.0\n",
            "5 +1 -1 +1   -1.0       1     0.0\n",
            "6 +1 +1 -1   -1.0       1     0.0\n",
            "7 +1 +1 -1   -1.0       1     0.0\n",
            "8 +1 -1 +1   -1.0       1     0.0\n",
            "9 -1 -1 +1   -1.0       1     0.0\n",
            "['SPIN', 10 rows, 10 samples, 3 variables]\n"
          ]
        }
      ],
      "source": [
        "reverse_schedule=[[0.0, 1.0], [10.0, 0.5], [20, 1.0]]\n",
        "initial_state = {0:1, 1:1, 2:1}\n",
        "sampler = EmbeddingComposite(DWaveSampler())\n",
        "result = sampler.sample(triangle, num_reads=10,\n",
        "    anneal_schedule = reverse_schedule,\n",
        "    reinitialize_state=False, initial_state = initial_state)\n",
        "print(\"The samples obtained are\")\n",
        "print(result)"
      ]
    },
    {
      "cell_type": "code",
      "execution_count": null,
      "metadata": {
        "id": "7e4K1PxzJDGD",
        "outputId": "78c433c3-5235-4aeb-949f-204d23fcb42c"
      },
      "outputs": [
        {
          "name": "stdout",
          "output_type": "stream",
          "text": [
            "The coupling strength range is [-4.0, 4.0]\n"
          ]
        }
      ],
      "source": [
        "sampler = DWaveSampler(\"Advantage_system4.1\")\n",
        "print(\"The coupling strength range is\", sampler.properties[\"h_range\"])"
      ]
    },
    {
      "cell_type": "code",
      "execution_count": null,
      "metadata": {
        "id": "zbRc9V4CJLKH",
        "outputId": "67697ad7-4534-40ee-d427-92d3c30ebf78"
      },
      "outputs": [
        {
          "name": "stdout",
          "output_type": "stream",
          "text": [
            "The solutions to the original problem are\n",
            "  x0 x1 x2 energy num_oc. is_sat. is_fea.\n",
            "0  1  0  0   -5.0      36 arra...    True\n",
            "1  0  0  1   -2.0      10 arra...    True\n",
            "2  1  1  0   -2.0      32 arra...    True\n",
            "3  0  0  0    0.0       7 arra...    True\n",
            "4  0  1  1    1.0      12 arra...    True\n",
            "5  0  1  0    3.0       3 arra...    True\n",
            "['INTEGER', 6 rows, 100 samples, 3 variables]\n"
          ]
        }
      ],
      "source": [
        "sampler = EmbeddingComposite(DWaveSampler(\"Advantage_system4.1\"))\n",
        "# Define the problem\n",
        "x0 = dimod.Binary(\"x0\")\n",
        "x1 = dimod.Binary(\"x1\")\n",
        "x2 = dimod.Binary(\"x2\")\n",
        "blp = dimod.ConstrainedQuadraticModel()\n",
        "blp.set_objective(-5*x0+3*x1-2*x2)\n",
        "blp.add_constraint(x0 + x2 <= 1, \"First constraint\")\n",
        "blp.add_constraint(3*x0 -x1 + 3*x2 <= 4, \"Second constraint\")\n",
        "# Convert the problem and run it\n",
        "qubo, invert = dimod.cqm_to_bqm(blp, lagrange_multiplier = 10)\n",
        "result = sampler.sample(qubo, num_reads=100)\n",
        "# Aggregate and show the results\n",
        "samples = []\n",
        "occurrences = []\n",
        "for s in result.data():\n",
        "    samples.append(invert(s.sample))\n",
        "    occurrences.append(s.num_occurrences)\n",
        "sampleset = dimod.SampleSet.from_samples_cqm(samples,blp,\n",
        "    num_occurrences=occurrences)\n",
        "print(\"The solutions to the original problem are\")\n",
        "print(sampleset.filter(lambda s: s.is_feasible).aggregate())"
      ]
    },
    {
      "cell_type": "code",
      "execution_count": null,
      "metadata": {
        "id": "DiUb5nqIJQNf",
        "outputId": "7ec54302-568a-4197-c603-5e025370135b"
      },
      "outputs": [
        {
          "name": "stdout",
          "output_type": "stream",
          "text": [
            "The solutions to the original problem are\n",
            "  x0 x1 x2 energy num_oc. is_sat. is_fea.\n",
            "0  1  0  0   -5.0      40 arra...    True\n",
            "1  1  1  0   -2.0      29 arra...    True\n",
            "2  0  0  1   -2.0       7 arra...    True\n",
            "3  0  0  0    0.0      10 arra...    True\n",
            "4  0  1  1    1.0      10 arra...    True\n",
            "5  0  1  0    3.0       4 arra...    True\n",
            "['INTEGER', 6 rows, 100 samples, 3 variables]\n"
          ]
        }
      ],
      "source": [
        "# Convert the problem and run it\n",
        "qubo, invert = dimod.cqm_to_bqm(blp, lagrange_multiplier = 4)\n",
        "result = sampler.sample(qubo, num_reads=100)\n",
        "# Aggregate and show the results\n",
        "samples = []\n",
        "occurrences = []\n",
        "for s in result.data():\n",
        "    samples.append(invert(s.sample))\n",
        "    occurrences.append(s.num_occurrences)\n",
        "sampleset = dimod.SampleSet.from_samples_cqm(samples,blp,\n",
        "    num_occurrences=occurrences)\n",
        "print(\"The solutions to the original problem are\")\n",
        "print(sampleset.filter(lambda s: s.is_feasible).aggregate())"
      ]
    },
    {
      "cell_type": "code",
      "execution_count": null,
      "metadata": {
        "id": "ztgEnnB8JYC4",
        "outputId": "b9212b95-98a3-4fee-d256-bd76820288b8"
      },
      "outputs": [
        {
          "name": "stdout",
          "output_type": "stream",
          "text": [
            "The solutions to the original problem are\n",
            "  x0 x1 x2 energy num_oc. is_sat. is_fea.\n",
            "0  1  0  0   -5.0      64 arra...    True\n",
            "1  1  1  0   -2.0      14 arra...    True\n",
            "2  0  0  1   -2.0       9 arra...    True\n",
            "3  0  0  0    0.0       5 arra...    True\n",
            "4  0  1  1    1.0       2 arra...    True\n",
            "['INTEGER', 5 rows, 94 samples, 3 variables]\n"
          ]
        }
      ],
      "source": [
        "# Convert the problem and run it\n",
        "qubo, invert = dimod.cqm_to_bqm(blp, lagrange_multiplier = 1)\n",
        "result = sampler.sample(qubo, num_reads=100)\n",
        "# Aggregate and show the results\n",
        "samples = []\n",
        "occurrences = []\n",
        "for s in result.data():\n",
        "    samples.append(invert(s.sample))\n",
        "    occurrences.append(s.num_occurrences)\n",
        "sampleset = dimod.SampleSet.from_samples_cqm(samples,blp,\n",
        "    num_occurrences=occurrences)\n",
        "print(\"The solutions to the original problem are\")\n",
        "print(sampleset.filter(lambda s: s.is_feasible).aggregate())"
      ]
    },
    {
      "cell_type": "code",
      "execution_count": null,
      "metadata": {
        "id": "XNpcZwmJJjqs",
        "outputId": "ac256bd0-3412-4fb6-8dce-2960af20883a"
      },
      "outputs": [
        {
          "name": "stdout",
          "output_type": "stream",
          "text": [
            "   0  1  2  3 energy num_oc. num_st.\n",
            "0 +1 -1 +1 -1   -4.0       3       1\n",
            "1 -1 +1 -1 +1   -4.0       2       2\n",
            "2 +1 -1 -1 +1    0.0       4       0\n",
            "3 -1 +1 +1 -1    0.0       1       0\n",
            "['SPIN', 4 rows, 10 samples, 4 variables]\n"
          ]
        }
      ],
      "source": [
        "import greedy\n",
        "import dimod\n",
        "# Define the problem\n",
        "J = {(0,1):1, (1,2):1, (2,3):1, (3,0):1}\n",
        "h = {}\n",
        "problem = dimod.BinaryQuadraticModel(h, J, 0.0, dimod.SPIN)\n",
        "# Sample with SteepestDescentSolver\n",
        "solver = greedy.SteepestDescentSolver()\n",
        "solution = solver.sample(problem, num_reads = 10)\n",
        "print(solution.aggregate())"
      ]
    },
    {
      "cell_type": "code",
      "execution_count": null,
      "metadata": {
        "id": "ED0psiS0Jppm",
        "outputId": "56bd8fe5-13b8-4fe1-f9bd-6f5a67dd34c5"
      },
      "outputs": [
        {
          "name": "stdout",
          "output_type": "stream",
          "text": [
            "   0  1  2  3 energy num_oc. num_re.\n",
            "0 +1 -1 +1 -1   -4.0       5       2\n",
            "1 -1 +1 -1 +1   -4.0       5       2\n",
            "['SPIN', 2 rows, 10 samples, 4 variables]\n"
          ]
        }
      ],
      "source": [
        "import tabu\n",
        "solver = tabu.TabuSampler()\n",
        "solution = solver.sample(problem, num_reads = 10)\n",
        "print(solution.aggregate())"
      ]
    },
    {
      "cell_type": "code",
      "execution_count": null,
      "metadata": {
        "id": "Cmeis9TDJtZ1",
        "outputId": "fd90a2da-9487-44e9-8aa6-5beb00a47236"
      },
      "outputs": [
        {
          "name": "stdout",
          "output_type": "stream",
          "text": [
            "   0  1  2  3 energy num_oc.\n",
            "0 +1 -1 +1 -1   -4.0       3\n",
            "1 -1 +1 -1 +1   -4.0       3\n",
            "2 +1 +1 -1 -1    0.0       2\n",
            "3 +1 +1 +1 -1    0.0       1\n",
            "4 -1 +1 +1 +1    0.0       1\n",
            "['SPIN', 5 rows, 10 samples, 4 variables]\n"
          ]
        }
      ],
      "source": [
        "import neal\n",
        "solver = neal.SimulatedAnnealingSampler()\n",
        "solution = solver.sample(problem, num_reads = 10)\n",
        "print(solution.aggregate())"
      ]
    },
    {
      "cell_type": "code",
      "execution_count": null,
      "metadata": {
        "id": "RHU3aB83Jv0r",
        "outputId": "b7780526-156f-44c4-8492-219bfd02a97a"
      },
      "outputs": [
        {
          "name": "stdout",
          "output_type": "stream",
          "text": [
            "   0  1  2  3 energy num_oc.\n",
            "0 -1 +1 -1 +1   -4.0       5\n",
            "1 +1 -1 +1 -1   -4.0       1\n",
            "2 +1 +1 +1 -1    0.0       2\n",
            "3 -1 +1 +1 +1    0.0       1\n",
            "4 +1 -1 -1 -1    0.0       1\n",
            "['SPIN', 5 rows, 10 samples, 4 variables]\n"
          ]
        }
      ],
      "source": [
        "import dwave.system\n",
        "sampler = dwave.system.LeapHybridSampler()\n",
        "solution = solver.sample(problem, num_reads = 10)\n",
        "print(solution.aggregate())"
      ]
    },
    {
      "cell_type": "code",
      "execution_count": null,
      "metadata": {
        "id": "YQ2I2UvlJzym",
        "outputId": "cc564ad7-d8d7-4be4-c3b8-dfe784c00fd6"
      },
      "outputs": [
        {
          "data": {
            "text/plain": [
              "20"
            ]
          },
          "execution_count": 41,
          "metadata": {},
          "output_type": "execute_result"
        }
      ],
      "source": [
        "sampler.properties[\"quota_conversion_rate\"]\n"
      ]
    }
  ],
  "metadata": {
    "accelerator": "TPU",
    "colab": {
      "provenance": [],
      "include_colab_link": true
    },
    "kernelspec": {
      "display_name": "Python 3 (ipykernel)",
      "language": "python",
      "name": "python3"
    },
    "language_info": {
      "codemirror_mode": {
        "name": "ipython",
        "version": 3
      },
      "file_extension": ".py",
      "mimetype": "text/x-python",
      "name": "python",
      "nbconvert_exporter": "python",
      "pygments_lexer": "ipython3",
      "version": "3.11.0"
    }
  },
  "nbformat": 4,
  "nbformat_minor": 0
}
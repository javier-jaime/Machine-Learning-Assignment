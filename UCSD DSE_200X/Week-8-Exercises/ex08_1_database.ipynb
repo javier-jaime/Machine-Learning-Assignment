{
 "cells": [
  {
   "cell_type": "markdown",
   "metadata": {},
   "source": [
    "# Exercise Notebook on Interacting with Databases"
   ]
  },
  {
   "cell_type": "code",
   "execution_count": 1,
   "metadata": {
    "nbgrader": {
     "grade": false,
     "grade_id": "import",
     "locked": true,
     "schema_version": 1,
     "solution": false
    }
   },
   "outputs": [],
   "source": [
    "import pandas as pd\n",
    "import numpy as np\n",
    "import os.path"
   ]
  },
  {
   "cell_type": "markdown",
   "metadata": {},
   "source": [
    "In this exercise notebook we will work with a SQLite database. First, let's create a new database from the *movielens* dataset. The ratings data are very large, ingesting those into SQLite is quite slow. Let's only take the first 100 thousand records."
   ]
  },
  {
   "cell_type": "code",
   "execution_count": 3,
   "metadata": {},
   "outputs": [],
   "source": [
    "# DO NOT MODIFY\n",
    "\n",
    "# set here the relative path to the movielens folder\n",
    "MOVIELENS=\"../../Week-4-Pandas/movielens\"\n",
    "\n",
    "movies = pd.read_csv(os.path.join(MOVIELENS, 'movies.csv'), sep=',')\n",
    "ratings = pd.read_csv(os.path.join(MOVIELENS, 'ratings.csv'), sep=',')"
   ]
  },
  {
   "cell_type": "code",
   "execution_count": 4,
   "metadata": {},
   "outputs": [],
   "source": [
    "# DO NOT MODIFY\n",
    "\n",
    "ratings = ratings.iloc[:100000]"
   ]
  },
  {
   "cell_type": "markdown",
   "metadata": {},
   "source": [
    "We first create on disk the SQLite database `movielens.db` and then we use the `to_sql` method of DataFrames to store the data there, we specify that is the table exists already, it should be replaced."
   ]
  },
  {
   "cell_type": "code",
   "execution_count": 5,
   "metadata": {},
   "outputs": [],
   "source": [
    "# DO NOT MODIFY\n",
    "\n",
    "import sqlite3\n",
    "conn = sqlite3.connect(\"movielens.db\")"
   ]
  },
  {
   "cell_type": "code",
   "execution_count": 6,
   "metadata": {},
   "outputs": [
    {
     "name": "stdout",
     "output_type": "stream",
     "text": [
      "Size of the database is 0 MB\n"
     ]
    }
   ],
   "source": [
    "print(\"Size of the database is {:.2g} MB\".format(os.path.getsize(\"movielens.db\")/1024**2))"
   ]
  },
  {
   "cell_type": "code",
   "execution_count": 10,
   "metadata": {},
   "outputs": [],
   "source": [
    "# DO NOT MODIFY\n",
    "\n",
    "movies.to_sql(\"movies\", conn, if_exists=\"replace\")"
   ]
  },
  {
   "cell_type": "code",
   "execution_count": 11,
   "metadata": {},
   "outputs": [],
   "source": [
    "# DO NOT MODIFY\n",
    "\n",
    "ratings.to_sql(\"ratings\", conn, if_exists=\"replace\")"
   ]
  },
  {
   "cell_type": "code",
   "execution_count": 12,
   "metadata": {},
   "outputs": [
    {
     "name": "stdout",
     "output_type": "stream",
     "text": [
      "Size of the database is 7.8 MB\n"
     ]
    }
   ],
   "source": [
    "print(\"Size of the database is {:.2g} MB\".format(os.path.getsize(\"movielens.db\")/1024**2))"
   ]
  },
  {
   "cell_type": "markdown",
   "metadata": {},
   "source": [
    "## Exercise 1: get the names of all the tables in the database \n",
    "\n",
    "First let's find out the name of the tables available inside the database"
   ]
  },
  {
   "cell_type": "code",
   "execution_count": 13,
   "metadata": {},
   "outputs": [],
   "source": [
    "cursor = conn.cursor()"
   ]
  },
  {
   "cell_type": "code",
   "execution_count": 21,
   "metadata": {
    "nbgrader": {
     "grade": false,
     "grade_id": "get_list_of_tables",
     "locked": false,
     "schema_version": 1,
     "solution": true
    }
   },
   "outputs": [],
   "source": [
    "def get_list_of_tables(sqlite_cursor):\n",
    "    \"\"\"Return a list of table names in a sqlite database\n",
    "    \n",
    "    Parameters\n",
    "    ----------\n",
    "    sqlite_cursor : sqlite3.Cursor\n",
    "    SQLite database cursor\n",
    "    \n",
    "    Returns\n",
    "    -------\n",
    "    tables : list of strings\n",
    "    list of table names\"\"\"\n",
    "### BEGIN SOLUTION\n",
    "    tables = []\n",
    "    for row in sqlite_cursor.execute(\"SELECT name FROM sqlite_master\"):\n",
    "        tables.append(row[0])\n",
    "    return tables\n",
    "### END SOLUTION"
   ]
  },
  {
   "cell_type": "code",
   "execution_count": 22,
   "metadata": {},
   "outputs": [
    {
     "data": {
      "text/plain": [
       "['movies', 'ix_movies_index', 'ratings', 'ix_ratings_index']"
      ]
     },
     "execution_count": 22,
     "metadata": {},
     "output_type": "execute_result"
    }
   ],
   "source": [
    "movielens_db_tables = get_list_of_tables(cursor)\n",
    "movielens_db_tables"
   ]
  },
  {
   "cell_type": "code",
   "execution_count": 23,
   "metadata": {},
   "outputs": [],
   "source": [
    "# DO NOT MODIFY\n",
    "\n",
    "assert isinstance(movielens_db_tables[0], str), \"Make sure that the function does not return a list of tuples but just a list of strings\"\n",
    "assert \"movies\" in movielens_db_tables, \"It looks like the movies table is missing\"\n",
    "assert \"ratings\" in movielens_db_tables, \"It looks like the ratings table is missing\""
   ]
  },
  {
   "cell_type": "markdown",
   "metadata": {},
   "source": [
    "## Exercise 2: Print a few ratings records\n",
    "\n",
    "Let's use the `sqlite3` package to extract the first 3 ratings from the ratings table."
   ]
  },
  {
   "cell_type": "code",
   "execution_count": 27,
   "metadata": {
    "nbgrader": {
     "grade": false,
     "grade_id": "first_3_ratings",
     "locked": false,
     "schema_version": 1,
     "solution": true
    }
   },
   "outputs": [],
   "source": [
    "first_3_ratings = None\n",
    "### BEGIN SOLUTION\n",
    "first_3_ratings = cursor.execute(\"SELECT * FROM sqlite_master LIMIT 3\").fetchall()\n",
    "### END SOLUTION"
   ]
  },
  {
   "cell_type": "code",
   "execution_count": 28,
   "metadata": {},
   "outputs": [
    {
     "data": {
      "text/plain": [
       "[('table',\n",
       "  'movies',\n",
       "  'movies',\n",
       "  2,\n",
       "  'CREATE TABLE \"movies\" (\\n\"index\" INTEGER,\\n  \"movieId\" INTEGER,\\n  \"title\" TEXT,\\n  \"genres\" TEXT\\n)'),\n",
       " ('index',\n",
       "  'ix_movies_index',\n",
       "  'movies',\n",
       "  584,\n",
       "  'CREATE INDEX \"ix_movies_index\"ON \"movies\" (\"index\")'),\n",
       " ('table',\n",
       "  'ratings',\n",
       "  'ratings',\n",
       "  1043,\n",
       "  'CREATE TABLE \"ratings\" (\\n\"index\" INTEGER,\\n  \"userId\" INTEGER,\\n  \"movieId\" INTEGER,\\n  \"rating\" REAL,\\n  \"timestamp\" INTEGER\\n)')]"
      ]
     },
     "execution_count": 28,
     "metadata": {},
     "output_type": "execute_result"
    }
   ],
   "source": [
    "first_3_ratings"
   ]
  },
  {
   "cell_type": "code",
   "execution_count": 29,
   "metadata": {},
   "outputs": [],
   "source": [
    "assert len(first_3_ratings) == 3, \"Make sure you are selecting only 3 rows\"\n",
    "assert len(first_3_ratings[0]) == 5, \"Something went wrong, each row of ratings should have 5 columns\""
   ]
  },
  {
   "cell_type": "markdown",
   "metadata": {},
   "source": [
    "Explore more the first_3_ratings data structure, what kind of Python object is it? Find out with `type()`.\n",
    "What kind of Python object is each element of it?"
   ]
  },
  {
   "cell_type": "markdown",
   "metadata": {},
   "source": [
    "## Exercise 3: Load the ratings table in Pandas\n",
    "\n",
    "Let's load the entire ratings table into a dataframe"
   ]
  },
  {
   "cell_type": "code",
   "execution_count": 32,
   "metadata": {
    "nbgrader": {
     "grade": false,
     "grade_id": "ratings_dataframe",
     "locked": false,
     "schema_version": 1,
     "solution": true
    }
   },
   "outputs": [],
   "source": [
    "ratings_dataframe = None\n",
    "### BEGIN SOLUTION\n",
    "ratings_dataframe = pd.read_sql_query(\"SELECT * FROM ratings\", conn)\n",
    "### END SOLUTION"
   ]
  },
  {
   "cell_type": "code",
   "execution_count": 33,
   "metadata": {},
   "outputs": [],
   "source": [
    "assert len(ratings_dataframe) == 100000, \"Check your code, you should have 100000 rows\""
   ]
  },
  {
   "cell_type": "markdown",
   "metadata": {},
   "source": [
    "## Exercise 4: Load a subset of the movies table in Pandas\n",
    "\n",
    "We would like now to only load the movies of the Fantasy genre into a Pandas dataframe, not the complete movies table. This is very useful for large datasets because we can save a lot of memory if you avoid doing the filtering in pandas but let the database take care of it.\n",
    "\n",
    "Let's first introduce the SQL syntax for checking if a records contains a string, for example let's print the first 3 Children movies:"
   ]
  },
  {
   "cell_type": "code",
   "execution_count": 45,
   "metadata": {},
   "outputs": [
    {
     "data": {
      "text/plain": [
       "[(0, 1, 'Toy Story (1995)', 'Adventure|Animation|Children|Comedy|Fantasy'),\n",
       " (1, 2, 'Jumanji (1995)', 'Adventure|Children|Fantasy'),\n",
       " (7, 8, 'Tom and Huck (1995)', 'Adventure|Children')]"
      ]
     },
     "execution_count": 45,
     "metadata": {},
     "output_type": "execute_result"
    }
   ],
   "source": [
    "cursor.execute(\"SELECT * FROM movies WHERE genres LIKE '%Children%' LIMIT 3\").fetchall()"
   ]
  },
  {
   "cell_type": "code",
   "execution_count": 66,
   "metadata": {
    "nbgrader": {
     "grade": false,
     "grade_id": "fantasy_movies_dataframe",
     "locked": false,
     "schema_version": 1,
     "solution": true
    }
   },
   "outputs": [
    {
     "data": {
      "text/html": [
       "<div>\n",
       "<style scoped>\n",
       "    .dataframe tbody tr th:only-of-type {\n",
       "        vertical-align: middle;\n",
       "    }\n",
       "\n",
       "    .dataframe tbody tr th {\n",
       "        vertical-align: top;\n",
       "    }\n",
       "\n",
       "    .dataframe thead th {\n",
       "        text-align: right;\n",
       "    }\n",
       "</style>\n",
       "<table border=\"1\" class=\"dataframe\">\n",
       "  <thead>\n",
       "    <tr style=\"text-align: right;\">\n",
       "      <th></th>\n",
       "      <th>index</th>\n",
       "      <th>movieId</th>\n",
       "      <th>title</th>\n",
       "      <th>genres</th>\n",
       "    </tr>\n",
       "  </thead>\n",
       "  <tbody>\n",
       "    <tr>\n",
       "      <th>0</th>\n",
       "      <td>0</td>\n",
       "      <td>1</td>\n",
       "      <td>Toy Story (1995)</td>\n",
       "      <td>Adventure|Animation|Children|Comedy|Fantasy</td>\n",
       "    </tr>\n",
       "    <tr>\n",
       "      <th>1</th>\n",
       "      <td>1</td>\n",
       "      <td>2</td>\n",
       "      <td>Jumanji (1995)</td>\n",
       "      <td>Adventure|Children|Fantasy</td>\n",
       "    </tr>\n",
       "    <tr>\n",
       "      <th>2</th>\n",
       "      <td>28</td>\n",
       "      <td>29</td>\n",
       "      <td>City of Lost Children, The (Cité des enfants p...</td>\n",
       "      <td>Adventure|Drama|Fantasy|Mystery|Sci-Fi</td>\n",
       "    </tr>\n",
       "    <tr>\n",
       "      <th>3</th>\n",
       "      <td>43</td>\n",
       "      <td>44</td>\n",
       "      <td>Mortal Kombat (1995)</td>\n",
       "      <td>Action|Adventure|Fantasy</td>\n",
       "    </tr>\n",
       "    <tr>\n",
       "      <th>4</th>\n",
       "      <td>55</td>\n",
       "      <td>56</td>\n",
       "      <td>Kids of the Round Table (1995)</td>\n",
       "      <td>Adventure|Children|Comedy|Fantasy</td>\n",
       "    </tr>\n",
       "    <tr>\n",
       "      <th>...</th>\n",
       "      <td>...</td>\n",
       "      <td>...</td>\n",
       "      <td>...</td>\n",
       "      <td>...</td>\n",
       "    </tr>\n",
       "    <tr>\n",
       "      <th>2726</th>\n",
       "      <td>62299</td>\n",
       "      <td>208679</td>\n",
       "      <td>Deer Boy (2017)</td>\n",
       "      <td>Drama|Fantasy</td>\n",
       "    </tr>\n",
       "    <tr>\n",
       "      <th>2727</th>\n",
       "      <td>62301</td>\n",
       "      <td>208683</td>\n",
       "      <td>The Man Without Gravity (2019)</td>\n",
       "      <td>Fantasy</td>\n",
       "    </tr>\n",
       "    <tr>\n",
       "      <th>2728</th>\n",
       "      <td>62365</td>\n",
       "      <td>208909</td>\n",
       "      <td>Super Xuxa Contra o Baixo Astral (1988)</td>\n",
       "      <td>Children|Comedy|Fantasy</td>\n",
       "    </tr>\n",
       "    <tr>\n",
       "      <th>2729</th>\n",
       "      <td>62385</td>\n",
       "      <td>209041</td>\n",
       "      <td>Yamasong: March of the Hollows (2017)</td>\n",
       "      <td>Animation|Fantasy</td>\n",
       "    </tr>\n",
       "    <tr>\n",
       "      <th>2730</th>\n",
       "      <td>62408</td>\n",
       "      <td>209135</td>\n",
       "      <td>Jane B. by Agnès V. (1988)</td>\n",
       "      <td>Documentary|Fantasy</td>\n",
       "    </tr>\n",
       "  </tbody>\n",
       "</table>\n",
       "<p>2731 rows × 4 columns</p>\n",
       "</div>"
      ],
      "text/plain": [
       "      index  movieId                                              title  \\\n",
       "0         0        1                                   Toy Story (1995)   \n",
       "1         1        2                                     Jumanji (1995)   \n",
       "2        28       29  City of Lost Children, The (Cité des enfants p...   \n",
       "3        43       44                               Mortal Kombat (1995)   \n",
       "4        55       56                     Kids of the Round Table (1995)   \n",
       "...     ...      ...                                                ...   \n",
       "2726  62299   208679                                    Deer Boy (2017)   \n",
       "2727  62301   208683                     The Man Without Gravity (2019)   \n",
       "2728  62365   208909            Super Xuxa Contra o Baixo Astral (1988)   \n",
       "2729  62385   209041              Yamasong: March of the Hollows (2017)   \n",
       "2730  62408   209135                         Jane B. by Agnès V. (1988)   \n",
       "\n",
       "                                           genres  \n",
       "0     Adventure|Animation|Children|Comedy|Fantasy  \n",
       "1                      Adventure|Children|Fantasy  \n",
       "2          Adventure|Drama|Fantasy|Mystery|Sci-Fi  \n",
       "3                        Action|Adventure|Fantasy  \n",
       "4               Adventure|Children|Comedy|Fantasy  \n",
       "...                                           ...  \n",
       "2726                                Drama|Fantasy  \n",
       "2727                                      Fantasy  \n",
       "2728                      Children|Comedy|Fantasy  \n",
       "2729                            Animation|Fantasy  \n",
       "2730                          Documentary|Fantasy  \n",
       "\n",
       "[2731 rows x 4 columns]"
      ]
     },
     "execution_count": 66,
     "metadata": {},
     "output_type": "execute_result"
    }
   ],
   "source": [
    "fantasy_movies_dataframe = None\n",
    "### BEGIN SOLUTION\n",
    "fantasy_movies_dataframe = pd.read_sql_query(\"SELECT * FROM movies WHERE genres LIKE '%Fantasy%'\", conn)\n",
    "### END SOLUTION\n",
    "fantasy_movies_dataframe"
   ]
  },
  {
   "cell_type": "code",
   "execution_count": 67,
   "metadata": {},
   "outputs": [
    {
     "ename": "AssertionError",
     "evalue": "Make sure you do not have LIMIT in the SQL query",
     "output_type": "error",
     "traceback": [
      "\u001b[1;31m---------------------------------------------------------------------------\u001b[0m",
      "\u001b[1;31mAssertionError\u001b[0m                            Traceback (most recent call last)",
      "\u001b[1;32m<ipython-input-67-5a5604151daa>\u001b[0m in \u001b[0;36m<module>\u001b[1;34m\u001b[0m\n\u001b[0;32m      1\u001b[0m \u001b[1;31m# DO NOT MODIFY\u001b[0m\u001b[1;33m\u001b[0m\u001b[1;33m\u001b[0m\u001b[1;33m\u001b[0m\u001b[0m\n\u001b[0;32m      2\u001b[0m \u001b[1;33m\u001b[0m\u001b[0m\n\u001b[1;32m----> 3\u001b[1;33m \u001b[1;32massert\u001b[0m \u001b[0mlen\u001b[0m\u001b[1;33m(\u001b[0m\u001b[0mfantasy_movies_dataframe\u001b[0m\u001b[1;33m)\u001b[0m \u001b[1;33m==\u001b[0m \u001b[1;36m1412\u001b[0m\u001b[1;33m,\u001b[0m \u001b[1;34m\"Make sure you do not have LIMIT in the SQL query\"\u001b[0m\u001b[1;33m\u001b[0m\u001b[1;33m\u001b[0m\u001b[0m\n\u001b[0m\u001b[0;32m      4\u001b[0m \u001b[1;32massert\u001b[0m \u001b[0mfantasy_movies_dataframe\u001b[0m\u001b[1;33m.\u001b[0m\u001b[0mgenres\u001b[0m\u001b[1;33m.\u001b[0m\u001b[0mstr\u001b[0m\u001b[1;33m.\u001b[0m\u001b[0mcontains\u001b[0m\u001b[1;33m(\u001b[0m\u001b[1;34m\"Fantasy\"\u001b[0m\u001b[1;33m)\u001b[0m\u001b[1;33m.\u001b[0m\u001b[0mall\u001b[0m\u001b[1;33m(\u001b[0m\u001b[1;33m)\u001b[0m\u001b[1;33m,\u001b[0m \u001b[1;34m\"All rows should contain the Fantasy string, try to identify which rows are not\"\u001b[0m\u001b[1;33m\u001b[0m\u001b[1;33m\u001b[0m\u001b[0m\n",
      "\u001b[1;31mAssertionError\u001b[0m: Make sure you do not have LIMIT in the SQL query"
     ]
    }
   ],
   "source": [
    "# DO NOT MODIFY\n",
    "\n",
    "assert len(fantasy_movies_dataframe) == 1412, \"Make sure you do not have LIMIT in the SQL query\"\n",
    "assert fantasy_movies_dataframe.genres.str.contains(\"Fantasy\").all(), \"All rows should contain the Fantasy string, try to identify which rows are not\""
   ]
  },
  {
   "cell_type": "markdown",
   "metadata": {},
   "source": [
    "In the previous cell, we are using the `.all()` DataFrame method, what is it doing? look for its documentation and play with it!"
   ]
  }
 ],
 "metadata": {
  "anaconda-cloud": {},
  "celltoolbar": "Create Assignment",
  "kernelspec": {
   "display_name": "Python 3",
   "language": "python",
   "name": "python3"
  },
  "language_info": {
   "codemirror_mode": {
    "name": "ipython",
    "version": 3
   },
   "file_extension": ".py",
   "mimetype": "text/x-python",
   "name": "python",
   "nbconvert_exporter": "python",
   "pygments_lexer": "ipython3",
   "version": "3.8.3"
  }
 },
 "nbformat": 4,
 "nbformat_minor": 1
}

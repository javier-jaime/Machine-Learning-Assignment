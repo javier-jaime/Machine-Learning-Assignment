{
 "cells": [
  {
   "cell_type": "markdown",
   "metadata": {
    "nbgrader": {
     "grade": false,
     "grade_id": "1",
     "locked": true,
     "schema_version": 1,
     "solution": false
    }
   },
   "source": [
    "<p style=\"font-family: Arial; font-size:3.75vw;color:purple; font-style:bold\"><br>\n",
    "Clustering Exercise Notebook\n",
    "</p><br>"
   ]
  },
  {
   "cell_type": "markdown",
   "metadata": {
    "nbgrader": {
     "grade": false,
     "grade_id": "c2",
     "locked": true,
     "schema_version": 1,
     "solution": false
    }
   },
   "source": [
    "# Exercise Notebook Instructions\n",
    "\n",
    "### 1. Important: Only modify the cells which instruct you to modify them - leave \"do not modify\" cells alone.  \n",
    "\n",
    "The code which tests your responses assumes you have run the startup/read-only code exactly.\n",
    "\n",
    "### 2. Work through the notebook in order.\n",
    "\n",
    "Some of the steps depend on previous, so you'll want to move through the notebook in order.\n",
    "\n",
    "### 3. It is okay to use numpy libraries.\n",
    "\n",
    "You may find some of these questions are fairly straightforward to answer using built-in numpy functions.  That's totally okay - part of the point of these exercises is to familiarize you with the commonly used numpy functions.\n",
    "\n",
    "### 4. Seek help if stuck\n",
    "\n",
    "If you get stuck, don't worry!  You can either review the videos/notebooks from this week, ask in the course forums, or look to the solutions for the correct answer.  BUT, be careful about looking to the solutions too quickly.  Struggling to get the right answer is an important part of the learning process."
   ]
  },
  {
   "cell_type": "code",
   "execution_count": 1,
   "metadata": {
    "nbgrader": {
     "grade": false,
     "grade_id": "c3",
     "locked": true,
     "schema_version": 1,
     "solution": false
    }
   },
   "outputs": [],
   "source": [
    "# DO NOT MODIFY\n",
    "\n",
    "# import appropriate libraries\n",
    "\n",
    "from sklearn.preprocessing import StandardScaler\n",
    "from sklearn.cluster import KMeans\n",
    "import pandas as pd\n",
    "import numpy as np"
   ]
  },
  {
   "cell_type": "code",
   "execution_count": 2,
   "metadata": {
    "nbgrader": {
     "grade": false,
     "grade_id": "c2c",
     "locked": true,
     "schema_version": 1,
     "solution": false
    }
   },
   "outputs": [],
   "source": [
    "# DO NOT MODIFY\n",
    "\n",
    "# We will use the minute weather dataset for this exercise.\n",
    "\n",
    "def get_data():\n",
    "    return pd.read_csv('../Week-7-MachineLearning/weather/minute_weather.csv')\n",
    "\n",
    "df = get_data()"
   ]
  },
  {
   "cell_type": "code",
   "execution_count": 3,
   "metadata": {},
   "outputs": [
    {
     "data": {
      "text/html": [
       "<div>\n",
       "<style scoped>\n",
       "    .dataframe tbody tr th:only-of-type {\n",
       "        vertical-align: middle;\n",
       "    }\n",
       "\n",
       "    .dataframe tbody tr th {\n",
       "        vertical-align: top;\n",
       "    }\n",
       "\n",
       "    .dataframe thead th {\n",
       "        text-align: right;\n",
       "    }\n",
       "</style>\n",
       "<table border=\"1\" class=\"dataframe\">\n",
       "  <thead>\n",
       "    <tr style=\"text-align: right;\">\n",
       "      <th></th>\n",
       "      <th>rowID</th>\n",
       "      <th>hpwren_timestamp</th>\n",
       "      <th>air_pressure</th>\n",
       "      <th>air_temp</th>\n",
       "      <th>avg_wind_direction</th>\n",
       "      <th>avg_wind_speed</th>\n",
       "      <th>max_wind_direction</th>\n",
       "      <th>max_wind_speed</th>\n",
       "      <th>min_wind_direction</th>\n",
       "      <th>min_wind_speed</th>\n",
       "      <th>rain_accumulation</th>\n",
       "      <th>rain_duration</th>\n",
       "      <th>relative_humidity</th>\n",
       "    </tr>\n",
       "  </thead>\n",
       "  <tbody>\n",
       "    <tr>\n",
       "      <th>0</th>\n",
       "      <td>0</td>\n",
       "      <td>2011-09-10 00:00:49</td>\n",
       "      <td>912.3</td>\n",
       "      <td>64.76</td>\n",
       "      <td>97.0</td>\n",
       "      <td>1.2</td>\n",
       "      <td>106.0</td>\n",
       "      <td>1.6</td>\n",
       "      <td>85.0</td>\n",
       "      <td>1.0</td>\n",
       "      <td>NaN</td>\n",
       "      <td>NaN</td>\n",
       "      <td>60.5</td>\n",
       "    </tr>\n",
       "    <tr>\n",
       "      <th>1</th>\n",
       "      <td>1</td>\n",
       "      <td>2011-09-10 00:01:49</td>\n",
       "      <td>912.3</td>\n",
       "      <td>63.86</td>\n",
       "      <td>161.0</td>\n",
       "      <td>0.8</td>\n",
       "      <td>215.0</td>\n",
       "      <td>1.5</td>\n",
       "      <td>43.0</td>\n",
       "      <td>0.2</td>\n",
       "      <td>0.0</td>\n",
       "      <td>0.0</td>\n",
       "      <td>39.9</td>\n",
       "    </tr>\n",
       "    <tr>\n",
       "      <th>2</th>\n",
       "      <td>2</td>\n",
       "      <td>2011-09-10 00:02:49</td>\n",
       "      <td>912.3</td>\n",
       "      <td>64.22</td>\n",
       "      <td>77.0</td>\n",
       "      <td>0.7</td>\n",
       "      <td>143.0</td>\n",
       "      <td>1.2</td>\n",
       "      <td>324.0</td>\n",
       "      <td>0.3</td>\n",
       "      <td>0.0</td>\n",
       "      <td>0.0</td>\n",
       "      <td>43.0</td>\n",
       "    </tr>\n",
       "    <tr>\n",
       "      <th>3</th>\n",
       "      <td>3</td>\n",
       "      <td>2011-09-10 00:03:49</td>\n",
       "      <td>912.3</td>\n",
       "      <td>64.40</td>\n",
       "      <td>89.0</td>\n",
       "      <td>1.2</td>\n",
       "      <td>112.0</td>\n",
       "      <td>1.6</td>\n",
       "      <td>12.0</td>\n",
       "      <td>0.7</td>\n",
       "      <td>0.0</td>\n",
       "      <td>0.0</td>\n",
       "      <td>49.5</td>\n",
       "    </tr>\n",
       "    <tr>\n",
       "      <th>4</th>\n",
       "      <td>4</td>\n",
       "      <td>2011-09-10 00:04:49</td>\n",
       "      <td>912.3</td>\n",
       "      <td>64.40</td>\n",
       "      <td>185.0</td>\n",
       "      <td>0.4</td>\n",
       "      <td>260.0</td>\n",
       "      <td>1.0</td>\n",
       "      <td>100.0</td>\n",
       "      <td>0.1</td>\n",
       "      <td>0.0</td>\n",
       "      <td>0.0</td>\n",
       "      <td>58.8</td>\n",
       "    </tr>\n",
       "  </tbody>\n",
       "</table>\n",
       "</div>"
      ],
      "text/plain": [
       "   rowID     hpwren_timestamp  air_pressure  air_temp  avg_wind_direction  \\\n",
       "0      0  2011-09-10 00:00:49         912.3     64.76                97.0   \n",
       "1      1  2011-09-10 00:01:49         912.3     63.86               161.0   \n",
       "2      2  2011-09-10 00:02:49         912.3     64.22                77.0   \n",
       "3      3  2011-09-10 00:03:49         912.3     64.40                89.0   \n",
       "4      4  2011-09-10 00:04:49         912.3     64.40               185.0   \n",
       "\n",
       "   avg_wind_speed  max_wind_direction  max_wind_speed  min_wind_direction  \\\n",
       "0             1.2               106.0             1.6                85.0   \n",
       "1             0.8               215.0             1.5                43.0   \n",
       "2             0.7               143.0             1.2               324.0   \n",
       "3             1.2               112.0             1.6                12.0   \n",
       "4             0.4               260.0             1.0               100.0   \n",
       "\n",
       "   min_wind_speed  rain_accumulation  rain_duration  relative_humidity  \n",
       "0             1.0                NaN            NaN               60.5  \n",
       "1             0.2                0.0            0.0               39.9  \n",
       "2             0.3                0.0            0.0               43.0  \n",
       "3             0.7                0.0            0.0               49.5  \n",
       "4             0.1                0.0            0.0               58.8  "
      ]
     },
     "execution_count": 3,
     "metadata": {},
     "output_type": "execute_result"
    }
   ],
   "source": [
    "df.head()"
   ]
  },
  {
   "cell_type": "markdown",
   "metadata": {
    "nbgrader": {
     "grade": false,
     "grade_id": "c445c",
     "locked": true,
     "schema_version": 1,
     "solution": false
    }
   },
   "source": [
    "<p style=\"font-family: Arial; font-size:2.75vw;color:purple; font-style:bold\"><br>\n",
    "\n",
    "Exercise 1: Sampling Down a Time Series Dataset<br><br></p>\n",
    "\n",
    "\n",
    "In the cell below, modify the function to RETURN a new dataframe that is \n",
    "sampled down by taking every k row only. For example, if k = 5, the \n",
    "function will take every 5th row and skip rows in between.\n",
    "\n",
    "The inputs to function are a dataframe and an integer k."
   ]
  },
  {
   "cell_type": "code",
   "execution_count": 4,
   "metadata": {
    "nbgrader": {
     "grade": false,
     "grade_id": "c555",
     "locked": false,
     "schema_version": 1,
     "solution": true
    }
   },
   "outputs": [],
   "source": [
    "# modify this cell\n",
    "\n",
    "def down_sample(df, k):\n",
    "    ### BEGIN SOLUTION\n",
    "    reduced_df = df[(df['rowID'] % k) == 0]\n",
    "    return reduced_df\n",
    "    ### END SOLUTION"
   ]
  },
  {
   "cell_type": "code",
   "execution_count": 5,
   "metadata": {
    "nbgrader": {
     "grade": true,
     "grade_id": "ex15",
     "locked": true,
     "points": 1,
     "schema_version": 1,
     "solution": false
    }
   },
   "outputs": [],
   "source": [
    "# DO NOT MODIFY\n",
    "ans = 15873\n",
    "\n",
    "try:\n",
    "    sampled_df = down_sample(df, 100)\n",
    "    assert np.alltrue(sampled_df.shape[0] == ans)\n",
    "except AssertionError as e: print(\"Try again, your output did not match the expected answer above\")"
   ]
  },
  {
   "cell_type": "markdown",
   "metadata": {
    "nbgrader": {
     "grade": false,
     "grade_id": "cc445",
     "locked": true,
     "schema_version": 1,
     "solution": false
    }
   },
   "source": [
    "<p style=\"font-family: Arial; font-size:2.75vw;color:purple; font-style:bold\"><br>\n",
    "\n",
    "Exercise 2: Data Cleaning<br><br></p>\n",
    "\n",
    "\n",
    "In the cell below, modify the function to do following tasks and RETURN a new data frame: (do not modify the input dataframe) <br><br>\n",
    "\n",
    "- delete column 'rain_accumulation'\n",
    "- delete column 'rain_duration'\n",
    "- delete rows that contain atleast one NULL"
   ]
  },
  {
   "cell_type": "code",
   "execution_count": 6,
   "metadata": {
    "nbgrader": {
     "grade": false,
     "grade_id": "5551",
     "locked": false,
     "schema_version": 1,
     "solution": true
    }
   },
   "outputs": [],
   "source": [
    "# modify this cell\n",
    "\n",
    "def clean_data(df):\n",
    "    ### BEGIN SOLUTION\n",
    "    clean_df = df\n",
    "    del clean_df['rain_accumulation']\n",
    "    del clean_df['rain_duration']\n",
    "    return clean_df.dropna()\n",
    "    ### END SOLUTION"
   ]
  },
  {
   "cell_type": "code",
   "execution_count": 7,
   "metadata": {
    "nbgrader": {
     "grade": true,
     "grade_id": "ex151",
     "locked": true,
     "points": 1,
     "schema_version": 1,
     "solution": false
    }
   },
   "outputs": [
    {
     "name": "stdout",
     "output_type": "stream",
     "text": [
      "Try again ! Check both  clean_data and down_sample functions\n"
     ]
    }
   ],
   "source": [
    "# DO NOT MODIFY\n",
    "\n",
    "try: \n",
    "    cleaned_df = clean_data(sampled_df)\n",
    "    assert np.alltrue(sampled_df.shape == (15873, 13))\n",
    "    assert np.alltrue(cleaned_df.shape == (15870, 11))\n",
    "except AssertionError as e: print(\"Try again ! Check both  clean_data and down_sample functions\")"
   ]
  },
  {
   "cell_type": "code",
   "execution_count": 8,
   "metadata": {},
   "outputs": [
    {
     "data": {
      "text/html": [
       "<div>\n",
       "<style scoped>\n",
       "    .dataframe tbody tr th:only-of-type {\n",
       "        vertical-align: middle;\n",
       "    }\n",
       "\n",
       "    .dataframe tbody tr th {\n",
       "        vertical-align: top;\n",
       "    }\n",
       "\n",
       "    .dataframe thead th {\n",
       "        text-align: right;\n",
       "    }\n",
       "</style>\n",
       "<table border=\"1\" class=\"dataframe\">\n",
       "  <thead>\n",
       "    <tr style=\"text-align: right;\">\n",
       "      <th></th>\n",
       "      <th>rowID</th>\n",
       "      <th>air_pressure</th>\n",
       "      <th>air_temp</th>\n",
       "      <th>avg_wind_direction</th>\n",
       "      <th>avg_wind_speed</th>\n",
       "      <th>max_wind_direction</th>\n",
       "      <th>max_wind_speed</th>\n",
       "      <th>min_wind_direction</th>\n",
       "      <th>min_wind_speed</th>\n",
       "      <th>relative_humidity</th>\n",
       "    </tr>\n",
       "  </thead>\n",
       "  <tbody>\n",
       "    <tr>\n",
       "      <th>count</th>\n",
       "      <td>1.587000e+04</td>\n",
       "      <td>15870.000000</td>\n",
       "      <td>15870.000000</td>\n",
       "      <td>15870.000000</td>\n",
       "      <td>15870.000000</td>\n",
       "      <td>15870.000000</td>\n",
       "      <td>15870.000000</td>\n",
       "      <td>15870.000000</td>\n",
       "      <td>15870.000000</td>\n",
       "      <td>15870.000000</td>\n",
       "    </tr>\n",
       "    <tr>\n",
       "      <th>mean</th>\n",
       "      <td>7.936240e+05</td>\n",
       "      <td>916.829464</td>\n",
       "      <td>61.857384</td>\n",
       "      <td>161.287524</td>\n",
       "      <td>2.792804</td>\n",
       "      <td>162.700945</td>\n",
       "      <td>3.414625</td>\n",
       "      <td>166.644297</td>\n",
       "      <td>2.152268</td>\n",
       "      <td>47.591084</td>\n",
       "    </tr>\n",
       "    <tr>\n",
       "      <th>std</th>\n",
       "      <td>4.582191e+05</td>\n",
       "      <td>3.051662</td>\n",
       "      <td>11.834858</td>\n",
       "      <td>95.313161</td>\n",
       "      <td>2.070506</td>\n",
       "      <td>92.269601</td>\n",
       "      <td>2.428906</td>\n",
       "      <td>97.824836</td>\n",
       "      <td>1.758114</td>\n",
       "      <td>26.189680</td>\n",
       "    </tr>\n",
       "    <tr>\n",
       "      <th>min</th>\n",
       "      <td>0.000000e+00</td>\n",
       "      <td>905.100000</td>\n",
       "      <td>32.360000</td>\n",
       "      <td>0.000000</td>\n",
       "      <td>0.100000</td>\n",
       "      <td>0.000000</td>\n",
       "      <td>0.100000</td>\n",
       "      <td>0.000000</td>\n",
       "      <td>0.000000</td>\n",
       "      <td>1.500000</td>\n",
       "    </tr>\n",
       "    <tr>\n",
       "      <th>25%</th>\n",
       "      <td>3.968250e+05</td>\n",
       "      <td>914.800000</td>\n",
       "      <td>52.700000</td>\n",
       "      <td>61.000000</td>\n",
       "      <td>1.300000</td>\n",
       "      <td>68.000000</td>\n",
       "      <td>1.600000</td>\n",
       "      <td>75.000000</td>\n",
       "      <td>0.800000</td>\n",
       "      <td>24.700000</td>\n",
       "    </tr>\n",
       "    <tr>\n",
       "      <th>50%</th>\n",
       "      <td>7.936500e+05</td>\n",
       "      <td>916.700000</td>\n",
       "      <td>62.420000</td>\n",
       "      <td>182.000000</td>\n",
       "      <td>2.200000</td>\n",
       "      <td>186.000000</td>\n",
       "      <td>2.800000</td>\n",
       "      <td>180.000000</td>\n",
       "      <td>1.700000</td>\n",
       "      <td>44.600000</td>\n",
       "    </tr>\n",
       "    <tr>\n",
       "      <th>75%</th>\n",
       "      <td>1.190375e+06</td>\n",
       "      <td>918.700000</td>\n",
       "      <td>70.880000</td>\n",
       "      <td>217.000000</td>\n",
       "      <td>3.800000</td>\n",
       "      <td>223.000000</td>\n",
       "      <td>4.600000</td>\n",
       "      <td>212.000000</td>\n",
       "      <td>3.000000</td>\n",
       "      <td>67.900000</td>\n",
       "    </tr>\n",
       "    <tr>\n",
       "      <th>max</th>\n",
       "      <td>1.587200e+06</td>\n",
       "      <td>929.400000</td>\n",
       "      <td>96.440000</td>\n",
       "      <td>359.000000</td>\n",
       "      <td>20.100000</td>\n",
       "      <td>359.000000</td>\n",
       "      <td>20.900000</td>\n",
       "      <td>359.000000</td>\n",
       "      <td>19.500000</td>\n",
       "      <td>92.900000</td>\n",
       "    </tr>\n",
       "  </tbody>\n",
       "</table>\n",
       "</div>"
      ],
      "text/plain": [
       "              rowID  air_pressure      air_temp  avg_wind_direction  \\\n",
       "count  1.587000e+04  15870.000000  15870.000000        15870.000000   \n",
       "mean   7.936240e+05    916.829464     61.857384          161.287524   \n",
       "std    4.582191e+05      3.051662     11.834858           95.313161   \n",
       "min    0.000000e+00    905.100000     32.360000            0.000000   \n",
       "25%    3.968250e+05    914.800000     52.700000           61.000000   \n",
       "50%    7.936500e+05    916.700000     62.420000          182.000000   \n",
       "75%    1.190375e+06    918.700000     70.880000          217.000000   \n",
       "max    1.587200e+06    929.400000     96.440000          359.000000   \n",
       "\n",
       "       avg_wind_speed  max_wind_direction  max_wind_speed  min_wind_direction  \\\n",
       "count    15870.000000        15870.000000    15870.000000        15870.000000   \n",
       "mean         2.792804          162.700945        3.414625          166.644297   \n",
       "std          2.070506           92.269601        2.428906           97.824836   \n",
       "min          0.100000            0.000000        0.100000            0.000000   \n",
       "25%          1.300000           68.000000        1.600000           75.000000   \n",
       "50%          2.200000          186.000000        2.800000          180.000000   \n",
       "75%          3.800000          223.000000        4.600000          212.000000   \n",
       "max         20.100000          359.000000       20.900000          359.000000   \n",
       "\n",
       "       min_wind_speed  relative_humidity  \n",
       "count    15870.000000       15870.000000  \n",
       "mean         2.152268          47.591084  \n",
       "std          1.758114          26.189680  \n",
       "min          0.000000           1.500000  \n",
       "25%          0.800000          24.700000  \n",
       "50%          1.700000          44.600000  \n",
       "75%          3.000000          67.900000  \n",
       "max         19.500000          92.900000  "
      ]
     },
     "execution_count": 8,
     "metadata": {},
     "output_type": "execute_result"
    }
   ],
   "source": [
    "cleaned_df.describe()"
   ]
  },
  {
   "cell_type": "markdown",
   "metadata": {
    "nbgrader": {
     "grade": false,
     "grade_id": "cccc445",
     "locked": true,
     "schema_version": 1,
     "solution": false
    }
   },
   "source": [
    "<p style=\"font-family: Arial; font-size:2.75vw;color:purple; font-style:bold\"><br>\n",
    "\n",
    "Exercise 3: Perform Scaling of input data<br><br></p>\n",
    "\n",
    "In the cell below, modify the function that takes three inputs: a dataframe D, a list of features F\n",
    "<br>\n",
    "The function should do the following:\n",
    "<br>\n",
    "- Pick out columns corresponding to features F from dataframe D\n",
    "- Use StandardScaler to perform scaling and return the scaled data frame"
   ]
  },
  {
   "cell_type": "code",
   "execution_count": 11,
   "metadata": {
    "nbgrader": {
     "grade": false,
     "grade_id": "c5552",
     "locked": false,
     "schema_version": 1,
     "solution": true
    }
   },
   "outputs": [],
   "source": [
    "# modify this cell\n",
    "\n",
    "def scale_task(D, F):\n",
    "    ### BEGIN SOLUTION\n",
    "    df_copy = D.copy()\n",
    "    df_copy = df_copy[F]\n",
    "    X = StandardScaler().fit_transform(df_copy)  \n",
    "    return pd.DataFrame(X, columns=df_copy.columns)\n",
    "    ### END SOLUTION"
   ]
  },
  {
   "cell_type": "code",
   "execution_count": 12,
   "metadata": {
    "nbgrader": {
     "grade": true,
     "grade_id": "ex152",
     "locked": true,
     "points": 1,
     "schema_version": 1,
     "solution": false
    }
   },
   "outputs": [],
   "source": [
    "# DO NOT MODIFY\n",
    "\n",
    "try: \n",
    "    features = ['air_pressure', 'air_temp', 'relative_humidity']\n",
    "    scaled_data = scale_task(cleaned_df, features)\n",
    "    assert np.allclose(scaled_data.mean(axis=0), 0)\n",
    "    assert np.allclose(scaled_data.std(axis=0),1, atol=1e-04)\n",
    "except AssertionError as e: print(\"Try again, your solution did not produce the expected output above\")"
   ]
  },
  {
   "cell_type": "markdown",
   "metadata": {
    "nbgrader": {
     "grade": false,
     "grade_id": "cv445",
     "locked": true,
     "schema_version": 1,
     "solution": false
    }
   },
   "source": [
    "<p style=\"font-family: Arial; font-size:2.75vw;color:purple; font-style:bold\"><br>\n",
    "\n",
    "Exercise 4: Perform Clustering<br><br></p>\n",
    "\n",
    "In the cell below, modify the function that takes two inputs: a dataframe D (already scaled using your previous function), and an integer for # of clusters to create N.\n",
    "<br>\n",
    "The function should do the following:\n",
    "<br>\n",
    "- Perform clustering using your algorithm of choice\n",
    "- Create N clusters\n",
    "- Return a **dataframe** of N rows, where each row is a cluster center."
   ]
  },
  {
   "cell_type": "code",
   "execution_count": 13,
   "metadata": {
    "nbgrader": {
     "grade": false,
     "grade_id": "c5553",
     "locked": false,
     "schema_version": 1,
     "solution": true
    }
   },
   "outputs": [],
   "source": [
    "# modify this cell\n",
    "\n",
    "def clustering_task(D, N):\n",
    "    ### BEGIN SOLUTION\n",
    "    kmeans = KMeans(n_clusters=N)\n",
    "    model = kmeans.fit(D)\n",
    "    return pd.DataFrame(model.cluster_centers_, columns=D.columns)\n",
    "    ### END SOLUTION"
   ]
  },
  {
   "cell_type": "code",
   "execution_count": 14,
   "metadata": {
    "nbgrader": {
     "grade": true,
     "grade_id": "ex153",
     "locked": true,
     "points": 1,
     "schema_version": 1,
     "solution": false
    }
   },
   "outputs": [
    {
     "name": "stdout",
     "output_type": "stream",
     "text": [
      "----------------------------------------\n",
      "       air_pressure  air_temp  relative_humidity\n",
      "count      3.000000  3.000000           3.000000\n",
      "mean       0.147056 -0.077007          -0.055481\n",
      "std        0.896782  0.903785           1.043080\n",
      "min       -0.452012 -0.965790          -0.850051\n",
      "25%       -0.368449 -0.536045          -0.646077\n",
      "50%       -0.284886 -0.106299          -0.442103\n",
      "75%        0.446590  0.367384           0.341804\n",
      "max        1.178065  0.841067           1.125711\n"
     ]
    }
   ],
   "source": [
    "# DO NOT MODIFY\n",
    "\n",
    "try: \n",
    "    ct = clustering_task(scaled_data, 3)\n",
    "    assert np.alltrue(ct.shape == (3, 3))\n",
    "except AssertionError as e: print(\"Keep trying - ensure all previous functions also work correctly \")\n",
    "\n",
    "try:\n",
    "    print(40*'-')\n",
    "    print(ct.describe())\n",
    "except AssertionError as e: print(\"Ensure clustering_task returns a Pandas dataframe\")"
   ]
  },
  {
   "cell_type": "code",
   "execution_count": null,
   "metadata": {},
   "outputs": [],
   "source": []
  }
 ],
 "metadata": {
  "celltoolbar": "Create Assignment",
  "kernelspec": {
   "display_name": "Python 3",
   "language": "python",
   "name": "python3"
  },
  "language_info": {
   "codemirror_mode": {
    "name": "ipython",
    "version": 3
   },
   "file_extension": ".py",
   "mimetype": "text/x-python",
   "name": "python",
   "nbconvert_exporter": "python",
   "pygments_lexer": "ipython3",
   "version": "3.8.5"
  }
 },
 "nbformat": 4,
 "nbformat_minor": 4
}

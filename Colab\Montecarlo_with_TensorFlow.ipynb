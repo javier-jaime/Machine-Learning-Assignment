{
  "nbformat": 4,
  "nbformat_minor": 0,
  "metadata": {
    "colab": {
      "name": "Montecarlo_with_TensorFlow.ipynb",
      "provenance": [],
      "collapsed_sections": [],
      "authorship_tag": "ABX9TyMfA4qrPBAssdW5MBJm7q6V",
      "include_colab_link": true
    },
    "kernelspec": {
      "name": "python3",
      "display_name": "Python 3"
    },
    "language_info": {
      "name": "python"
    },
    "accelerator": "TPU"
  },
  "cells": [
    {
      "cell_type": "markdown",
      "metadata": {
        "id": "view-in-github",
        "colab_type": "text"
      },
      "source": [
        "<a href=\"https://colab.research.google.com/github/javier-jaime/Tool-Crib/blob/master/Colab%5CMontecarlo_with_TensorFlow.ipynb\" target=\"_parent\"><img src=\"https://colab.research.google.com/assets/colab-badge.svg\" alt=\"Open In Colab\"/></a>"
      ]
    },
    {
      "cell_type": "markdown",
      "source": [
        "## Estimate the decimals of π\n",
        "\n",
        "Suppose you are randomly throwing darts at a square board of dimension 2x2 with an inner circle of radius 1.\n",
        "The surface of the board is 4, the surface of the circle is π, so the probability to land in the circle (assuming all darts land on the board) is p=π/4."
      ],
      "metadata": {
        "id": "XNFcypOaJP5e"
      }
    },
    {
      "cell_type": "code",
      "source": [
        "# Function to estimate the probability to land in the circle\n",
        "import random \n",
        "import math \n",
        "def estimate_p(m): \n",
        "    count = 0     \n",
        "    # repeat m times \n",
        "    for _ in range(m): \n",
        "        # pick horizontal and vertical coordinates \n",
        "        x = random.random() \n",
        "        y = random.random()         \n",
        "        # in the circle? \n",
        "        if x ** 2 + y ** 2 < 1: \n",
        "            count += 1             \n",
        "    # return fraction of success \n",
        "    return count / m "
      ],
      "metadata": {
        "id": "8peX13WvJp4v"
      },
      "execution_count": 1,
      "outputs": []
    },
    {
      "cell_type": "code",
      "source": [
        "# Function to estimate π (by The Strong Law of Large Numbers)\n",
        "def estimate_pi(m): \n",
        "    p = estimate_p(m) \n",
        "    # estimate of the standard error (by Central Limit Theorem)\n",
        "    std = math.sqrt(p * (1-p) / m) \n",
        "    # answer \n",
        "    print(\"pi =\", 4*p, \"+/-\", 4*std) "
      ],
      "metadata": {
        "id": "byIAoe3XJ5Bm"
      },
      "execution_count": 2,
      "outputs": []
    },
    {
      "cell_type": "code",
      "source": [
        "# To estimate π correctly to the 4th decimal, you will need more than 10m\n",
        "estimate_pi(1000)\n",
        "estimate_pi(10000) \n",
        "estimate_pi(100000)\n",
        "estimate_pi(10000000)    "
      ],
      "metadata": {
        "colab": {
          "base_uri": "https://localhost:8080/"
        },
        "id": "bcIWqNdJKJ35",
        "outputId": "5065bcfb-0b74-4281-b7f2-50a89d246d31"
      },
      "execution_count": 3,
      "outputs": [
        {
          "output_type": "stream",
          "name": "stdout",
          "text": [
            "pi = 3.176 +/- 0.0511568568229128\n",
            "pi = 3.1604 +/- 0.016289480777483364\n",
            "pi = 3.14208 +/- 0.0051919680985152445\n",
            "pi = 3.1411476 +/- 0.0005194017861939098\n"
          ]
        }
      ]
    },
    {
      "cell_type": "code",
      "source": [
        "# run the computation on GPU (Runtime) with TensorFlow v.1\n",
        "%tensorflow_version 1.x\n",
        "import tensorflow as tf \n",
        "def estimate_p_tf(m): \n",
        "\t# random numbers \n",
        "\txs = tf.random.uniform([m]) \n",
        "\tys = tf.random.uniform([m]) \n",
        "\t# square distances from origin \n",
        "\tr = xs **2 + ys **2 \n",
        "\t# result \n",
        "\treturn tf.size(tf.where(r < 1.0)) / m \n",
        "\n",
        "def estimate_pi_tf(m): \n",
        "  p_ = estimate_p_tf(m) \n",
        "  with tf.Session() as sess:\n",
        "    p = sess.run(p_)\n",
        "    std = math.sqrt(p * (1-p) / m) \n",
        "  print(\"pi =\", 4*p, \"+/-\", 4*std) "
      ],
      "metadata": {
        "colab": {
          "base_uri": "https://localhost:8080/"
        },
        "id": "b7MkuTS_MqB6",
        "outputId": "cd31f27d-d72a-4561-9d7c-570e2c7767ae"
      },
      "execution_count": 4,
      "outputs": [
        {
          "output_type": "stream",
          "name": "stdout",
          "text": [
            "TensorFlow 1.x selected.\n"
          ]
        }
      ]
    },
    {
      "cell_type": "code",
      "source": [
        "# You can estimate π correctly to the 4th decimal in a fraction of a second\n",
        "%%time\n",
        "estimate_pi_tf(10000000)  "
      ],
      "metadata": {
        "colab": {
          "base_uri": "https://localhost:8080/"
        },
        "id": "fZOfv872O3cJ",
        "outputId": "78e5f7fe-7ca7-4ffc-c5c0-bbf7c70cf973"
      },
      "execution_count": 10,
      "outputs": [
        {
          "output_type": "stream",
          "name": "stdout",
          "text": [
            "pi = 3.1415172 +/- 0.0005193205640165004\n",
            "CPU times: user 367 ms, sys: 2.87 ms, total: 370 ms\n",
            "Wall time: 309 ms\n"
          ]
        }
      ]
    },
    {
      "cell_type": "code",
      "source": [
        "# The Monte-Carlo estimate of the call price with NumPy\n",
        "# (the average payoff over your m simulations)\n",
        "import numpy as np \n",
        "def estimate_call_price(m, spot, volatility, strike, maturity): \n",
        "\tresult = 0.0 \n",
        "\tstd = np.sqrt(maturity) \n",
        "\tdrift = 0.5 * volatility ** 2 * maturity \n",
        "\t# repeat m times \n",
        "\tfor _ in range(m): \n",
        "\t\t# sample Brownian \n",
        "\t\tWT = np.random.normal(0.0, std) \n",
        "\t\t# final spot price \n",
        "\t\tST = spot * np.exp(- drift + volatility * WT) \n",
        "\t\t# payoff \n",
        "\t\tresult += np.maximum(0.0, ST - strike) \n",
        "\t# return estimate of expectation/price = average payoff \n",
        "\treturn result / m "
      ],
      "metadata": {
        "id": "u0HlUM_rQf8c"
      },
      "execution_count": 8,
      "outputs": []
    },
    {
      "cell_type": "code",
      "source": [
        "%%time\n",
        "estimate_call_price(100000, 100, 0.2,  110, 2)"
      ],
      "metadata": {
        "colab": {
          "base_uri": "https://localhost:8080/"
        },
        "id": "QRLlWT9AS42Y",
        "outputId": "4ac27982-9eb4-4d3d-df18-19e184f83406"
      },
      "execution_count": 13,
      "outputs": [
        {
          "output_type": "stream",
          "name": "stdout",
          "text": [
            "CPU times: user 677 ms, sys: 735 µs, total: 678 ms\n",
            "Wall time: 681 ms\n"
          ]
        },
        {
          "output_type": "execute_result",
          "data": {
            "text/plain": [
              "7.484448393715921"
            ]
          },
          "metadata": {},
          "execution_count": 13
        }
      ]
    },
    {
      "cell_type": "code",
      "source": [
        "# The Monte-Carlo estimate of the call price with TensorFlow\n",
        "%tensorflow_version 1.x\n",
        "def estimate_call_price_tf(m, spot, volatility, strike, maturity): \n",
        "    std = tf.sqrt(maturity) \n",
        "    drift = 0.5 * volatility ** 2 * maturity \n",
        "    # Sample m Brownians \n",
        "    WTs = tf.random.normal([m], 0.0, std) \n",
        "    # Compute the m spots \n",
        "    STs = spot * tf.exp(- drift + volatility * WTs) \n",
        "    # Compute the m payoffs \n",
        "    payoffs = tf.maximum(0.0, STs - strike) \n",
        "    # Compute the average \n",
        "    result = tf.reduce_mean(payoffs) \n",
        "    # Do the computation on GPU \n",
        "    with tf.Session() as sess: \n",
        "        call = sess.run(result) \n",
        "\t# result \n",
        "    return call "
      ],
      "metadata": {
        "id": "QsCXCzDGR25E"
      },
      "execution_count": 14,
      "outputs": []
    },
    {
      "cell_type": "markdown",
      "source": [
        "## Pricing Exotic Options with Monte Carlo in TensorFlow"
      ],
      "metadata": {
        "id": "V9puFVRGUPlZ"
      }
    },
    {
      "cell_type": "code",
      "source": [
        "import numpy as np\n",
        "import tensorflow as tf\n",
        "import scipy.stats as stats\n",
        "import matplotlib.pyplot as plt\n",
        "from mpl_toolkits.mplot3d import Axes3D\n",
        "from matplotlib import cm"
      ],
      "metadata": {
        "id": "5s3i9G29UEla"
      },
      "execution_count": 19,
      "outputs": []
    },
    {
      "cell_type": "code",
      "source": [
        "# Plain Vanilla Call in TF\n",
        "def blackScholes_py(S_0, strike, time_to_expiry, implied_vol, riskfree_rate):\n",
        "    S = S_0\n",
        "    K = strike\n",
        "    dt = time_to_expiry\n",
        "    sigma = implied_vol\n",
        "    r = riskfree_rate\n",
        "    Phi = stats.norm.cdf\n",
        "    d_1 = (np.log(S_0 / K) + (r+sigma**2/2)*dt) / (sigma*np.sqrt(dt))\n",
        "    d_2 = d_1 - sigma*np.sqrt(dt)\n",
        "    return S*Phi(d_1) - K*np.exp(-r*dt)*Phi(d_2)\n",
        " "
      ],
      "metadata": {
        "id": "Us0xx-gRUWtQ"
      },
      "execution_count": 20,
      "outputs": []
    },
    {
      "cell_type": "code",
      "source": [
        "%%time\n",
        "blackScholes_py(100., 110., 2., 0.2, 0.03)"
      ],
      "metadata": {
        "colab": {
          "base_uri": "https://localhost:8080/"
        },
        "id": "2IxKxSh4iarL",
        "outputId": "7266bca1-bae5-4c8b-a4d3-2d37220af556"
      },
      "execution_count": 21,
      "outputs": [
        {
          "output_type": "stream",
          "name": "stdout",
          "text": [
            "CPU times: user 722 µs, sys: 994 µs, total: 1.72 ms\n",
            "Wall time: 1.59 ms\n"
          ]
        },
        {
          "output_type": "execute_result",
          "data": {
            "text/plain": [
              "9.73983632580859"
            ]
          },
          "metadata": {},
          "execution_count": 21
        }
      ]
    },
    {
      "cell_type": "code",
      "source": [
        "# Same BSM formula with function closure\n",
        "def blackScholes_tf_pricer(enable_greeks = True):\n",
        "    # Build the static computational graph\n",
        "    S = tf.placeholder(tf.float32)\n",
        "    K = tf.placeholder(tf.float32)\n",
        "    dt = tf.placeholder(tf.float32)\n",
        "    sigma = tf.placeholder(tf.float32)\n",
        "    r = tf.placeholder(tf.float32)\n",
        "    Phi = tf.distributions.Normal(0.,1.).cdf\n",
        "    d_1 = (tf.log(S / K) + (r+sigma**2/2)*dt) / (sigma*tf.sqrt(dt))\n",
        "    d_2 = d_1 - sigma*tf.sqrt(dt)\n",
        "    npv =  S*Phi(d_1) - K*tf.exp(-r*dt)*Phi(d_2)\n",
        "    target_calc = [npv]\n",
        "    if enable_greeks:\n",
        "        greeks = tf.gradients(npv, [S, sigma, r, K, dt])\n",
        "        dS_2ndOrder = tf.gradients(greeks[0], [S, sigma, r, K, dt]) \n",
        "        # Calculate mixed 2nd order greeks for S (esp. gamma, vanna) and sigma (esp. volga)\n",
        "        dsigma_2ndOrder = tf.gradients(greeks[1], [S, sigma, r, K, dt])\n",
        "        dr_2ndOrder = tf.gradients(greeks[2], [S, sigma, r, K, dt]) \n",
        "        dK_2ndOrder = tf.gradients(greeks[3], [S, sigma, r, K, dt]) \n",
        "        dT_2ndOrder = tf.gradients(greeks[4], [S, sigma, r, K, dt])\n",
        "        target_calc += [greeks, dS_2ndOrder, dsigma_2ndOrder, dr_2ndOrder, dK_2ndOrder, dT_2ndOrder]\n",
        "     \n",
        "    # Function to feed in the input and calculate the computational graph\n",
        "    def execute_graph(S_0, strike, time_to_expiry, implied_vol, riskfree_rate):\n",
        "        with tf.Session() as sess:\n",
        "            res = sess.run(target_calc, \n",
        "                           {\n",
        "                               S: S_0,\n",
        "                               K : strike,\n",
        "                               r : riskfree_rate,\n",
        "                               sigma: implied_vol,\n",
        "                               dt: time_to_expiry})\n",
        "        return res\n",
        "    return execute_graph\n",
        " \n",
        "tf_pricer = blackScholes_tf_pricer()\n",
        "tf_pricer(100., 110., 2., 0.2, 0.03)"
      ],
      "metadata": {
        "colab": {
          "base_uri": "https://localhost:8080/"
        },
        "id": "PqJ1V76SUpTU",
        "outputId": "b30fb2bd-de49-40d2-e8fa-bcc6ad19b361"
      },
      "execution_count": 22,
      "outputs": [
        {
          "output_type": "stream",
          "name": "stdout",
          "text": [
            "WARNING:tensorflow:From <ipython-input-22-99b1297d8d8c>:9: Normal.__init__ (from tensorflow.python.ops.distributions.normal) is deprecated and will be removed after 2019-01-01.\n",
            "Instructions for updating:\n",
            "The TensorFlow Distributions library has moved to TensorFlow Probability (https://github.com/tensorflow/probability). You should update all references to use `tfp.distributions` instead of `tf.distributions`.\n",
            "WARNING:tensorflow:From /tensorflow-1.15.2/python3.7/tensorflow_core/python/ops/distributions/normal.py:160: Distribution.__init__ (from tensorflow.python.ops.distributions.distribution) is deprecated and will be removed after 2019-01-01.\n",
            "Instructions for updating:\n",
            "The TensorFlow Distributions library has moved to TensorFlow Probability (https://github.com/tensorflow/probability). You should update all references to use `tfp.distributions` instead of `tf.distributions`.\n"
          ]
        },
        {
          "output_type": "execute_result",
          "data": {
            "text/plain": [
              "[9.739834,\n",
              " [0.5066145, 56.411205, 81.843216, -0.37201464, 4.0482087],\n",
              " [0.014102802, 0.5310427, 2.8205605, -0.012820729, 0.06886054],\n",
              " [0.5310427, -1.2452297, -6.613867, 0.030063031, 13.941332],\n",
              " [2.8205605, -6.613866, 400.42563, -1.8201164, 46.597298],\n",
              " [-0.012820728, 0.030063028, -1.8201163, 0.011655207, -0.025798593],\n",
              " [0.06886053, 13.941331, 46.597298, -0.025798589, -0.62807804]]"
            ]
          },
          "metadata": {},
          "execution_count": 22
        }
      ]
    },
    {
      "cell_type": "code",
      "source": [
        "# The function will return the operator to calculate the random price paths and the placeholder\n",
        "def create_tf_graph_for_simulate_paths():\n",
        "    S = tf.placeholder(tf.float32)\n",
        "    K = tf.placeholder(tf.float32)\n",
        "    dt = tf.placeholder(tf.float32)\n",
        "    T = tf.placeholder(tf.float32)\n",
        "    sigma = tf.placeholder(tf.float32)\n",
        "    r = tf.placeholder(tf.float32)\n",
        "    dw = tf.placeholder(tf.float32)\n",
        "    S_T = S * tf.cumprod(tf.exp((r-sigma**2/2)*dt+sigma*tf.sqrt(dt)*dw), axis=1)\n",
        "    return (S, K, dt, T, sigma, r, dw, S_T)"
      ],
      "metadata": {
        "id": "GnGgrPoAVENB"
      },
      "execution_count": 23,
      "outputs": []
    },
    {
      "cell_type": "code",
      "source": [
        "# To test the function we create another function\n",
        "def make_path_simulator():\n",
        "    (S,K, dt, T, sigma, r, dw, S_T) = create_tf_graph_for_simulate_paths()\n",
        "    def paths(S_0, strike, time_to_expiry, implied_vol, riskfree_rate, seed, n_sims, obs):\n",
        "        if seed != 0:\n",
        "            np.random.seed(seed)\n",
        "        stdnorm_random_variates = np.random.randn(n_sims, obs)\n",
        "        with tf.Session() as sess:\n",
        "            timedelta = time_to_expiry / stdnorm_random_variates.shape[1]\n",
        "            res = sess.run(S_T, \n",
        "                           {\n",
        "                               S: S_0,\n",
        "                               K : strike,\n",
        "                               r : riskfree_rate,\n",
        "                               sigma: implied_vol,\n",
        "                               dt : timedelta,\n",
        "                               T: time_to_expiry,\n",
        "                               dw : stdnorm_random_variates\n",
        "                         })\n",
        "            return res\n",
        "    return paths\n",
        " \n",
        "path_simulator = make_path_simulator()\n",
        "paths = path_simulator(100, 110.,  2, 0.2, 0.03, 1312, 10, 400)\n",
        "plt.figure(figsize=(8,5))\n",
        "_= plt.plot(np.transpose(paths))\n",
        "_ = plt.title('Simulated Path')\n",
        "_ = plt.ylabel('Price')\n",
        "_ = plt.xlabel('TimeStep') "
      ],
      "metadata": {
        "colab": {
          "base_uri": "https://localhost:8080/",
          "height": 350
        },
        "id": "FT6AavNgVFnl",
        "outputId": "dea9ea8d-b440-44ea-9470-2983b5a2c37d"
      },
      "execution_count": 24,
      "outputs": [
        {
          "output_type": "display_data",
          "data": {
            "text/plain": [
              "<Figure size 576x360 with 1 Axes>"
            ],
            "image/png": "[encoded data removed]"
          },
          "metadata": {
            "needs_background": "light"
          }
        }
      ]
    },
    {
      "cell_type": "code",
      "source": [
        "# This function will create the computational graph and returns a function that generates the random numbers, feed our parameter into the graph and run it.\n",
        "def create_plain_vanilla_mc_tf_pricer(enable_greeks = True):\n",
        "    (S,K, dt, T, sigma, r, dw, S_T) = create_tf_graph_for_simulate_paths()\n",
        "    payout = tf.maximum(S_T[:,-1] - K, 0)\n",
        "    npv = tf.exp(-r*T) * tf.reduce_mean(payout)\n",
        "    target_calc = [npv]\n",
        "    if enable_greeks:\n",
        "        greeks = tf.gradients(npv, [S, sigma, r, K, T])\n",
        "        target_calc += [greeks]\n",
        "    def pricer(S_0, strike, time_to_expiry, implied_vol, riskfree_rate, seed, n_sims):\n",
        "        if seed != 0:\n",
        "            np.random.seed(seed)\n",
        "        stdnorm_random_variates = np.random.randn(n_sims, 1)\n",
        "        with tf.Session() as sess:\n",
        "            timedelta = time_to_expiry / stdnorm_random_variates.shape[1]\n",
        "            res = sess.run(target_calc, \n",
        "                           {\n",
        "                               S: S_0,\n",
        "                               K : strike,\n",
        "                               r : riskfree_rate,\n",
        "                               sigma: implied_vol,\n",
        "                               dt : timedelta,\n",
        "                               T: time_to_expiry,\n",
        "                               dw : stdnorm_random_variates\n",
        "                         })\n",
        "            return res\n",
        "    return pricer\n",
        " \n",
        "plain_vanilla_mc_tf_pricer = create_plain_vanilla_mc_tf_pricer()\n",
        "plain_vanilla_mc_tf_pricer(100, 110, 2, 0.2, 0.03, 1312, 1000000)"
      ],
      "metadata": {
        "colab": {
          "base_uri": "https://localhost:8080/"
        },
        "id": "XRmDc-IqVykJ",
        "outputId": "895cdc29-1d63-45e0-e6c2-07ace87f2310"
      },
      "execution_count": 25,
      "outputs": [
        {
          "output_type": "execute_result",
          "data": {
            "text/plain": [
              "[9.734384, [0.50598943, 56.385994, 81.72911, -0.37149754, -0.2920315]]"
            ]
          },
          "metadata": {},
          "execution_count": 25
        }
      ]
    },
    {
      "cell_type": "code",
      "source": [
        "%%timeit\n",
        "plain_vanilla_mc_tf_pricer(100, 110, 2, 0.2, 0.03, 1312, 1000000)\n",
        "\n",
        "%timeit\n",
        "plain_vanilla_mc_tf_pricer(100, 110, 2, 0.2, 0.03, 1312, 1000000)\n",
        "\n"
      ],
      "metadata": {
        "colab": {
          "base_uri": "https://localhost:8080/"
        },
        "id": "aMDl16mtWEEo",
        "outputId": "6cc16123-3138-416b-985c-a7d0448dbd06"
      },
      "execution_count": 26,
      "outputs": [
        {
          "output_type": "stream",
          "name": "stdout",
          "text": [
            "1 loop, best of 5: 754 ms per loop\n"
          ]
        }
      ]
    },
    {
      "cell_type": "code",
      "source": [
        "%%timeit\n",
        "plain_vanilla_mc_tf_pricer(100, 110, 2, 0.2, 0.03, 1312, 1000000)"
      ],
      "metadata": {
        "colab": {
          "base_uri": "https://localhost:8080/"
        },
        "id": "Z9yCR1VlWalq",
        "outputId": "01484666-cdc6-4593-d49d-03e1c9273c89"
      },
      "execution_count": 27,
      "outputs": [
        {
          "output_type": "stream",
          "name": "stdout",
          "text": [
            "1 loop, best of 5: 374 ms per loop\n"
          ]
        }
      ]
    },
    {
      "cell_type": "markdown",
      "source": [
        "## low level TensorFlow framework to solve simple integration problems\n",
        "\n",
        "As an example problem, let’s find the solution of the following equation:\n",
        "\n",
        "$\\int_{0}^{2}{x^{2}}dx$\n",
        "\n",
        "This can easily be integrated to obtain:\n",
        "\n",
        "$\\tfrac{x^{3}}{3}\\big|_0^2 = 2.667$\n",
        "\n",
        "Now if want to solve it using Monte Carlo simulation, we have to generate random samples within some bounded region and see how many of those fall within our region of interest i.e. lie under the line drawn by y=x2."
      ],
      "metadata": {
        "id": "JN4gRFRnW5yE"
      }
    },
    {
      "cell_type": "code",
      "source": [
        "# Function to compute the integral\n",
        "def compute_integral(n_samples):\n",
        "    # Generate Samples\n",
        "    x = tf.random_uniform((n_samples,1),0,2)\n",
        "    y = tf.random_uniform((n_samples,1),0,4)\n",
        "    # Find region of interest\n",
        "    c_in_region = y<x**2\n",
        "    # Find the total count of these samples\n",
        "    count = tf.reduce_sum(tf.cast(c_in_region,tf.int16))\n",
        "    # Compute the area\n",
        "    return count*8/n_samples"
      ],
      "metadata": {
        "id": "VoDnM2--Y5iP"
      },
      "execution_count": 28,
      "outputs": []
    },
    {
      "cell_type": "code",
      "source": [
        "# Using TensorFlow session\n",
        "with tf.Session() as sess:\n",
        "    result = sess.run(compute_integral(10000))\n",
        "    print(result)"
      ],
      "metadata": {
        "colab": {
          "base_uri": "https://localhost:8080/"
        },
        "id": "FDlgNGRhY8JQ",
        "outputId": "5a695608-6fdf-4856-ee24-4cbb3aa3dca6"
      },
      "execution_count": 29,
      "outputs": [
        {
          "output_type": "stream",
          "name": "stdout",
          "text": [
            "2.6824\n"
          ]
        }
      ]
    }
  ]
}
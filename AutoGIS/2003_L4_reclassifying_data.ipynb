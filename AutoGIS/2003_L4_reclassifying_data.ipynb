{
  "cells": [
    {
      "cell_type": "markdown",
      "metadata": {
        "id": "view-in-github",
        "colab_type": "text"
      },
      "source": [
        "<a href=\"https://colab.research.google.com/github/javier-jaime/Tool-Crib/blob/master/AutoGIS/2003_L4_reclassifying_data.ipynb\" target=\"_parent\"><img src=\"https://colab.research.google.com/assets/colab-badge.svg\" alt=\"Open In Colab\"/></a>"
      ]
    },
    {
      "cell_type": "markdown",
      "id": "df4abb24",
      "metadata": {
        "id": "df4abb24"
      },
      "source": [
        "# Reclassifying data\n",
        "\n",
        "Reclassifying data based on specific criteria is a common task when doing GIS\n",
        "analysis. The purpose of this lesson is to see how we can reclassify values\n",
        "based on some criteria. We could, for example, classify information based on\n",
        "travel times and housing prices using these criteria:\n",
        "\n",
        "\n",
        "1. if travel time to my work is less than 30 minutes, **AND**\n",
        "2. the rent of the apartment is less than 1000 € per month\n",
        "\n",
        "If both criteria are met: I go to see the appartment and try to rent it\n",
        "If not: I continue to look for something else\n",
        "\n",
        "\n",
        "In this tutorial, we will:\n",
        "\n",
        "1. Use classification schemes from the PySAL [mapclassify\n",
        "   library](https://pysal.org/mapclassify/) to classify travel times into\n",
        "   multiple classes.\n",
        "\n",
        "2. Create a custom classifier to classify travel times and distances in order\n",
        "   to find out good locations to buy an apartment with these conditions:\n",
        "   - good public transport accessibility to city center\n",
        "   - bit further away from city center where the prices are presumably lower\n",
        "\n",
        "\n",
        "## Input data\n",
        "\n",
        "We will use [Travel Time Matrix data from\n",
        "Helsinki](https://blogs.helsinki.fi/accessibility/helsinki-region-travel-time-matrix/)\n",
        "that contains travel time and distance information for routes between all 250 m\n",
        "x 250 m grid cell centroids (n = 13231) in the Capital Region of Helsinki by\n",
        "walking, cycling, public transportation and car."
      ]
    },
    {
      "cell_type": "code",
      "execution_count": 1,
      "id": "a35ffb01",
      "metadata": {
        "id": "a35ffb01"
      },
      "outputs": [],
      "source": [
        "import pathlib\n",
        "NOTEBOOK_PATH = pathlib.Path().resolve()\n",
        "DATA_DIRECTORY = NOTEBOOK_PATH / \"data\""
      ]
    },
    {
      "cell_type": "code",
      "execution_count": 2,
      "id": "26d82c76",
      "metadata": {
        "colab": {
          "base_uri": "https://localhost:8080/",
          "height": 573
        },
        "id": "26d82c76",
        "outputId": "dfc744f6-d647-4645-db89-8d04b9c20b82"
      },
      "outputs": [
        {
          "output_type": "execute_result",
          "data": {
            "text/plain": [
              "   car_m_d  car_m_t  car_r_d  car_r_t  from_id  pt_m_d  pt_m_t  pt_m_tt  \\\n",
              "0    32297       43    32260       48  5785640   32616     116      147   \n",
              "1    32508       43    32471       49  5785641   32822     119      145   \n",
              "2    30133       50    31872       56  5785642   32940     121      146   \n",
              "3    32690       54    34429       60  5785643   33233     125      150   \n",
              "4    31872       42    31834       48  5787544   32127     109      126   \n",
              "\n",
              "   pt_r_d  pt_r_t  pt_r_tt    to_id  walk_d  walk_t  \\\n",
              "0   32616     108      139  5975375   32164     459   \n",
              "1   32822     111      133  5975375   29547     422   \n",
              "2   32940     113      133  5975375   29626     423   \n",
              "3   33233     117      144  5975375   29919     427   \n",
              "4   32127     101      121  5975375   31674     452   \n",
              "\n",
              "                                            geometry  \n",
              "0  POLYGON ((382000.000 6697750.000, 381750.000 6...  \n",
              "1  POLYGON ((382250.000 6697750.000, 382000.000 6...  \n",
              "2  POLYGON ((382500.000 6697750.000, 382250.000 6...  \n",
              "3  POLYGON ((382750.000 6697750.000, 382500.000 6...  \n",
              "4  POLYGON ((381250.000 6697500.000, 381000.000 6...  "
            ],
            "text/html": [
              "\n",
              "  <div id=\"df-6a1fdbe8-9519-4afa-9451-81f7076d757b\" class=\"colab-df-container\">\n",
              "    <div>\n",
              "<style scoped>\n",
              "    .dataframe tbody tr th:only-of-type {\n",
              "        vertical-align: middle;\n",
              "    }\n",
              "\n",
              "    .dataframe tbody tr th {\n",
              "        vertical-align: top;\n",
              "    }\n",
              "\n",
              "    .dataframe thead th {\n",
              "        text-align: right;\n",
              "    }\n",
              "</style>\n",
              "<table border=\"1\" class=\"dataframe\">\n",
              "  <thead>\n",
              "    <tr style=\"text-align: right;\">\n",
              "      <th></th>\n",
              "      <th>car_m_d</th>\n",
              "      <th>car_m_t</th>\n",
              "      <th>car_r_d</th>\n",
              "      <th>car_r_t</th>\n",
              "      <th>from_id</th>\n",
              "      <th>pt_m_d</th>\n",
              "      <th>pt_m_t</th>\n",
              "      <th>pt_m_tt</th>\n",
              "      <th>pt_r_d</th>\n",
              "      <th>pt_r_t</th>\n",
              "      <th>pt_r_tt</th>\n",
              "      <th>to_id</th>\n",
              "      <th>walk_d</th>\n",
              "      <th>walk_t</th>\n",
              "      <th>geometry</th>\n",
              "    </tr>\n",
              "  </thead>\n",
              "  <tbody>\n",
              "    <tr>\n",
              "      <th>0</th>\n",
              "      <td>32297</td>\n",
              "      <td>43</td>\n",
              "      <td>32260</td>\n",
              "      <td>48</td>\n",
              "      <td>5785640</td>\n",
              "      <td>32616</td>\n",
              "      <td>116</td>\n",
              "      <td>147</td>\n",
              "      <td>32616</td>\n",
              "      <td>108</td>\n",
              "      <td>139</td>\n",
              "      <td>5975375</td>\n",
              "      <td>32164</td>\n",
              "      <td>459</td>\n",
              "      <td>POLYGON ((382000.000 6697750.000, 381750.000 6...</td>\n",
              "    </tr>\n",
              "    <tr>\n",
              "      <th>1</th>\n",
              "      <td>32508</td>\n",
              "      <td>43</td>\n",
              "      <td>32471</td>\n",
              "      <td>49</td>\n",
              "      <td>5785641</td>\n",
              "      <td>32822</td>\n",
              "      <td>119</td>\n",
              "      <td>145</td>\n",
              "      <td>32822</td>\n",
              "      <td>111</td>\n",
              "      <td>133</td>\n",
              "      <td>5975375</td>\n",
              "      <td>29547</td>\n",
              "      <td>422</td>\n",
              "      <td>POLYGON ((382250.000 6697750.000, 382000.000 6...</td>\n",
              "    </tr>\n",
              "    <tr>\n",
              "      <th>2</th>\n",
              "      <td>30133</td>\n",
              "      <td>50</td>\n",
              "      <td>31872</td>\n",
              "      <td>56</td>\n",
              "      <td>5785642</td>\n",
              "      <td>32940</td>\n",
              "      <td>121</td>\n",
              "      <td>146</td>\n",
              "      <td>32940</td>\n",
              "      <td>113</td>\n",
              "      <td>133</td>\n",
              "      <td>5975375</td>\n",
              "      <td>29626</td>\n",
              "      <td>423</td>\n",
              "      <td>POLYGON ((382500.000 6697750.000, 382250.000 6...</td>\n",
              "    </tr>\n",
              "    <tr>\n",
              "      <th>3</th>\n",
              "      <td>32690</td>\n",
              "      <td>54</td>\n",
              "      <td>34429</td>\n",
              "      <td>60</td>\n",
              "      <td>5785643</td>\n",
              "      <td>33233</td>\n",
              "      <td>125</td>\n",
              "      <td>150</td>\n",
              "      <td>33233</td>\n",
              "      <td>117</td>\n",
              "      <td>144</td>\n",
              "      <td>5975375</td>\n",
              "      <td>29919</td>\n",
              "      <td>427</td>\n",
              "      <td>POLYGON ((382750.000 6697750.000, 382500.000 6...</td>\n",
              "    </tr>\n",
              "    <tr>\n",
              "      <th>4</th>\n",
              "      <td>31872</td>\n",
              "      <td>42</td>\n",
              "      <td>31834</td>\n",
              "      <td>48</td>\n",
              "      <td>5787544</td>\n",
              "      <td>32127</td>\n",
              "      <td>109</td>\n",
              "      <td>126</td>\n",
              "      <td>32127</td>\n",
              "      <td>101</td>\n",
              "      <td>121</td>\n",
              "      <td>5975375</td>\n",
              "      <td>31674</td>\n",
              "      <td>452</td>\n",
              "      <td>POLYGON ((381250.000 6697500.000, 381000.000 6...</td>\n",
              "    </tr>\n",
              "  </tbody>\n",
              "</table>\n",
              "</div>\n",
              "    <div class=\"colab-df-buttons\">\n",
              "\n",
              "  <div class=\"colab-df-container\">\n",
              "    <button class=\"colab-df-convert\" onclick=\"convertToInteractive('df-6a1fdbe8-9519-4afa-9451-81f7076d757b')\"\n",
              "            title=\"Convert this dataframe to an interactive table.\"\n",
              "            style=\"display:none;\">\n",
              "\n",
              "  <svg xmlns=\"http://www.w3.org/2000/svg\" height=\"24px\" viewBox=\"0 -960 960 960\">\n",
              "    <path d=\"M120-120v-720h720v720H120Zm60-500h600v-160H180v160Zm220 220h160v-160H400v160Zm0 220h160v-160H400v160ZM180-400h160v-160H180v160Zm440 0h160v-160H620v160ZM180-180h160v-160H180v160Zm440 0h160v-160H620v160Z\"/>\n",
              "  </svg>\n",
              "    </button>\n",
              "\n",
              "  <style>\n",
              "    .colab-df-container {\n",
              "      display:flex;\n",
              "      gap: 12px;\n",
              "    }\n",
              "\n",
              "    .colab-df-convert {\n",
              "      background-color: #E8F0FE;\n",
              "      border: none;\n",
              "      border-radius: 50%;\n",
              "      cursor: pointer;\n",
              "      display: none;\n",
              "      fill: #1967D2;\n",
              "      height: 32px;\n",
              "      padding: 0 0 0 0;\n",
              "      width: 32px;\n",
              "    }\n",
              "\n",
              "    .colab-df-convert:hover {\n",
              "      background-color: #E2EBFA;\n",
              "      box-shadow: 0px 1px 2px rgba(60, 64, 67, 0.3), 0px 1px 3px 1px rgba(60, 64, 67, 0.15);\n",
              "      fill: #174EA6;\n",
              "    }\n",
              "\n",
              "    .colab-df-buttons div {\n",
              "      margin-bottom: 4px;\n",
              "    }\n",
              "\n",
              "    [theme=dark] .colab-df-convert {\n",
              "      background-color: #3B4455;\n",
              "      fill: #D2E3FC;\n",
              "    }\n",
              "\n",
              "    [theme=dark] .colab-df-convert:hover {\n",
              "      background-color: #434B5C;\n",
              "      box-shadow: 0px 1px 3px 1px rgba(0, 0, 0, 0.15);\n",
              "      filter: drop-shadow(0px 1px 2px rgba(0, 0, 0, 0.3));\n",
              "      fill: #FFFFFF;\n",
              "    }\n",
              "  </style>\n",
              "\n",
              "    <script>\n",
              "      const buttonEl =\n",
              "        document.querySelector('#df-6a1fdbe8-9519-4afa-9451-81f7076d757b button.colab-df-convert');\n",
              "      buttonEl.style.display =\n",
              "        google.colab.kernel.accessAllowed ? 'block' : 'none';\n",
              "\n",
              "      async function convertToInteractive(key) {\n",
              "        const element = document.querySelector('#df-6a1fdbe8-9519-4afa-9451-81f7076d757b');\n",
              "        const dataTable =\n",
              "          await google.colab.kernel.invokeFunction('convertToInteractive',\n",
              "                                                    [key], {});\n",
              "        if (!dataTable) return;\n",
              "\n",
              "        const docLinkHtml = 'Like what you see? Visit the ' +\n",
              "          '<a target=\"_blank\" href=https://colab.research.google.com/notebooks/data_table.ipynb>data table notebook</a>'\n",
              "          + ' to learn more about interactive tables.';\n",
              "        element.innerHTML = '';\n",
              "        dataTable['output_type'] = 'display_data';\n",
              "        await google.colab.output.renderOutput(dataTable, element);\n",
              "        const docLink = document.createElement('div');\n",
              "        docLink.innerHTML = docLinkHtml;\n",
              "        element.appendChild(docLink);\n",
              "      }\n",
              "    </script>\n",
              "  </div>\n",
              "\n",
              "\n",
              "<div id=\"df-e9d7d79c-2971-48b2-a286-0a040a52a2fc\">\n",
              "  <button class=\"colab-df-quickchart\" onclick=\"quickchart('df-e9d7d79c-2971-48b2-a286-0a040a52a2fc')\"\n",
              "            title=\"Suggest charts\"\n",
              "            style=\"display:none;\">\n",
              "\n",
              "<svg xmlns=\"http://www.w3.org/2000/svg\" height=\"24px\"viewBox=\"0 0 24 24\"\n",
              "     width=\"24px\">\n",
              "    <g>\n",
              "        <path d=\"M19 3H5c-1.1 0-2 .9-2 2v14c0 1.1.9 2 2 2h14c1.1 0 2-.9 2-2V5c0-1.1-.9-2-2-2zM9 17H7v-7h2v7zm4 0h-2V7h2v10zm4 0h-2v-4h2v4z\"/>\n",
              "    </g>\n",
              "</svg>\n",
              "  </button>\n",
              "\n",
              "<style>\n",
              "  .colab-df-quickchart {\n",
              "      --bg-color: #E8F0FE;\n",
              "      --fill-color: #1967D2;\n",
              "      --hover-bg-color: #E2EBFA;\n",
              "      --hover-fill-color: #174EA6;\n",
              "      --disabled-fill-color: #AAA;\n",
              "      --disabled-bg-color: #DDD;\n",
              "  }\n",
              "\n",
              "  [theme=dark] .colab-df-quickchart {\n",
              "      --bg-color: #3B4455;\n",
              "      --fill-color: #D2E3FC;\n",
              "      --hover-bg-color: #434B5C;\n",
              "      --hover-fill-color: #FFFFFF;\n",
              "      --disabled-bg-color: #3B4455;\n",
              "      --disabled-fill-color: #666;\n",
              "  }\n",
              "\n",
              "  .colab-df-quickchart {\n",
              "    background-color: var(--bg-color);\n",
              "    border: none;\n",
              "    border-radius: 50%;\n",
              "    cursor: pointer;\n",
              "    display: none;\n",
              "    fill: var(--fill-color);\n",
              "    height: 32px;\n",
              "    padding: 0;\n",
              "    width: 32px;\n",
              "  }\n",
              "\n",
              "  .colab-df-quickchart:hover {\n",
              "    background-color: var(--hover-bg-color);\n",
              "    box-shadow: 0 1px 2px rgba(60, 64, 67, 0.3), 0 1px 3px 1px rgba(60, 64, 67, 0.15);\n",
              "    fill: var(--button-hover-fill-color);\n",
              "  }\n",
              "\n",
              "  .colab-df-quickchart-complete:disabled,\n",
              "  .colab-df-quickchart-complete:disabled:hover {\n",
              "    background-color: var(--disabled-bg-color);\n",
              "    fill: var(--disabled-fill-color);\n",
              "    box-shadow: none;\n",
              "  }\n",
              "\n",
              "  .colab-df-spinner {\n",
              "    border: 2px solid var(--fill-color);\n",
              "    border-color: transparent;\n",
              "    border-bottom-color: var(--fill-color);\n",
              "    animation:\n",
              "      spin 1s steps(1) infinite;\n",
              "  }\n",
              "\n",
              "  @keyframes spin {\n",
              "    0% {\n",
              "      border-color: transparent;\n",
              "      border-bottom-color: var(--fill-color);\n",
              "      border-left-color: var(--fill-color);\n",
              "    }\n",
              "    20% {\n",
              "      border-color: transparent;\n",
              "      border-left-color: var(--fill-color);\n",
              "      border-top-color: var(--fill-color);\n",
              "    }\n",
              "    30% {\n",
              "      border-color: transparent;\n",
              "      border-left-color: var(--fill-color);\n",
              "      border-top-color: var(--fill-color);\n",
              "      border-right-color: var(--fill-color);\n",
              "    }\n",
              "    40% {\n",
              "      border-color: transparent;\n",
              "      border-right-color: var(--fill-color);\n",
              "      border-top-color: var(--fill-color);\n",
              "    }\n",
              "    60% {\n",
              "      border-color: transparent;\n",
              "      border-right-color: var(--fill-color);\n",
              "    }\n",
              "    80% {\n",
              "      border-color: transparent;\n",
              "      border-right-color: var(--fill-color);\n",
              "      border-bottom-color: var(--fill-color);\n",
              "    }\n",
              "    90% {\n",
              "      border-color: transparent;\n",
              "      border-bottom-color: var(--fill-color);\n",
              "    }\n",
              "  }\n",
              "</style>\n",
              "\n",
              "  <script>\n",
              "    async function quickchart(key) {\n",
              "      const quickchartButtonEl =\n",
              "        document.querySelector('#' + key + ' button');\n",
              "      quickchartButtonEl.disabled = true;  // To prevent multiple clicks.\n",
              "      quickchartButtonEl.classList.add('colab-df-spinner');\n",
              "      try {\n",
              "        const charts = await google.colab.kernel.invokeFunction(\n",
              "            'suggestCharts', [key], {});\n",
              "      } catch (error) {\n",
              "        console.error('Error during call to suggestCharts:', error);\n",
              "      }\n",
              "      quickchartButtonEl.classList.remove('colab-df-spinner');\n",
              "      quickchartButtonEl.classList.add('colab-df-quickchart-complete');\n",
              "    }\n",
              "    (() => {\n",
              "      let quickchartButtonEl =\n",
              "        document.querySelector('#df-e9d7d79c-2971-48b2-a286-0a040a52a2fc button');\n",
              "      quickchartButtonEl.style.display =\n",
              "        google.colab.kernel.accessAllowed ? 'block' : 'none';\n",
              "    })();\n",
              "  </script>\n",
              "</div>\n",
              "\n",
              "    </div>\n",
              "  </div>\n"
            ],
            "application/vnd.google.colaboratory.intrinsic+json": {
              "type": "dataframe",
              "variable_name": "accessibility_grid",
              "summary": "{\n  \"name\": \"accessibility_grid\",\n  \"rows\": 13231,\n  \"fields\": [\n    {\n      \"column\": \"car_m_d\",\n      \"properties\": {\n        \"dtype\": \"number\",\n        \"std\": 8015,\n        \"min\": -1,\n        \"max\": 40588,\n        \"num_unique_values\": 10573,\n        \"samples\": [\n          24519,\n          28687,\n          10479\n        ],\n        \"semantic_type\": \"\",\n        \"description\": \"\"\n      }\n    },\n    {\n      \"column\": \"car_m_t\",\n      \"properties\": {\n        \"dtype\": \"number\",\n        \"std\": 9,\n        \"min\": -1,\n        \"max\": 70,\n        \"num_unique_values\": 66,\n        \"samples\": [\n          16,\n          8,\n          43\n        ],\n        \"semantic_type\": \"\",\n        \"description\": \"\"\n      }\n    },\n    {\n      \"column\": \"car_r_d\",\n      \"properties\": {\n        \"dtype\": \"number\",\n        \"std\": 8072,\n        \"min\": -1,\n        \"max\": 40620,\n        \"num_unique_values\": 10586,\n        \"samples\": [\n          16561,\n          25988,\n          23764\n        ],\n        \"semantic_type\": \"\",\n        \"description\": \"\"\n      }\n    },\n    {\n      \"column\": \"car_r_t\",\n      \"properties\": {\n        \"dtype\": \"number\",\n        \"std\": 10,\n        \"min\": -1,\n        \"max\": 79,\n        \"num_unique_values\": 75,\n        \"samples\": [\n          51,\n          17,\n          45\n        ],\n        \"semantic_type\": \"\",\n        \"description\": \"\"\n      }\n    },\n    {\n      \"column\": \"from_id\",\n      \"properties\": {\n        \"dtype\": \"number\",\n        \"std\": 49086,\n        \"min\": 5785640,\n        \"max\": 6018254,\n        \"num_unique_values\": 13231,\n        \"samples\": [\n          5960049,\n          5903880,\n          5936648\n        ],\n        \"semantic_type\": \"\",\n        \"description\": \"\"\n      }\n    },\n    {\n      \"column\": \"pt_m_d\",\n      \"properties\": {\n        \"dtype\": \"number\",\n        \"std\": 11724,\n        \"min\": -1,\n        \"max\": 82658,\n        \"num_unique_values\": 10585,\n        \"samples\": [\n          12922,\n          15143,\n          19740\n        ],\n        \"semantic_type\": \"\",\n        \"description\": \"\"\n      }\n    },\n    {\n      \"column\": \"pt_m_t\",\n      \"properties\": {\n        \"dtype\": \"number\",\n        \"std\": 23,\n        \"min\": -1,\n        \"max\": 183,\n        \"num_unique_values\": 145,\n        \"samples\": [\n          48,\n          7,\n          179\n        ],\n        \"semantic_type\": \"\",\n        \"description\": \"\"\n      }\n    },\n    {\n      \"column\": \"pt_m_tt\",\n      \"properties\": {\n        \"dtype\": \"number\",\n        \"std\": 29,\n        \"min\": -1,\n        \"max\": 191,\n        \"num_unique_values\": 166,\n        \"samples\": [\n          152,\n          28,\n          83\n        ],\n        \"semantic_type\": \"\",\n        \"description\": \"\"\n      }\n    },\n    {\n      \"column\": \"pt_r_d\",\n      \"properties\": {\n        \"dtype\": \"number\",\n        \"std\": 12029,\n        \"min\": -1,\n        \"max\": 87224,\n        \"num_unique_values\": 10606,\n        \"samples\": [\n          30893,\n          8152,\n          19934\n        ],\n        \"semantic_type\": \"\",\n        \"description\": \"\"\n      }\n    },\n    {\n      \"column\": \"pt_r_t\",\n      \"properties\": {\n        \"dtype\": \"number\",\n        \"std\": 22,\n        \"min\": -1,\n        \"max\": 181,\n        \"num_unique_values\": 140,\n        \"samples\": [\n          126,\n          123,\n          100\n        ],\n        \"semantic_type\": \"\",\n        \"description\": \"\"\n      }\n    },\n    {\n      \"column\": \"pt_r_tt\",\n      \"properties\": {\n        \"dtype\": \"number\",\n        \"std\": 26,\n        \"min\": -1,\n        \"max\": 199,\n        \"num_unique_values\": 156,\n        \"samples\": [\n          41,\n          80,\n          56\n        ],\n        \"semantic_type\": \"\",\n        \"description\": \"\"\n      }\n    },\n    {\n      \"column\": \"to_id\",\n      \"properties\": {\n        \"dtype\": \"number\",\n        \"std\": 493863,\n        \"min\": -1,\n        \"max\": 5975375,\n        \"num_unique_values\": 2,\n        \"samples\": [\n          -1,\n          5975375\n        ],\n        \"semantic_type\": \"\",\n        \"description\": \"\"\n      }\n    },\n    {\n      \"column\": \"walk_d\",\n      \"properties\": {\n        \"dtype\": \"number\",\n        \"std\": 7480,\n        \"min\": -1,\n        \"max\": 36847,\n        \"num_unique_values\": 10265,\n        \"samples\": [\n          10719,\n          15735\n        ],\n        \"semantic_type\": \"\",\n        \"description\": \"\"\n      }\n    },\n    {\n      \"column\": \"walk_t\",\n      \"properties\": {\n        \"dtype\": \"number\",\n        \"std\": 106,\n        \"min\": -1,\n        \"max\": 526,\n        \"num_unique_values\": 518,\n        \"samples\": [\n          288,\n          331\n        ],\n        \"semantic_type\": \"\",\n        \"description\": \"\"\n      }\n    },\n    {\n      \"column\": \"geometry\",\n      \"properties\": {\n        \"dtype\": \"geometry\",\n        \"num_unique_values\": 13231,\n        \"samples\": [\n          \"POLYGON ((370250.0001388059 6674250.000042439, 370000.00013885554 6674250.000042444, 370000.00013884855 6674500.000042401, 370250.00013879954 6674500.000042393, 370250.0001388059 6674250.000042439))\",\n          \"POLYGON ((381250.0001364355 6682000.000040791, 381000.0001364845 6682000.000040794, 381000.00013647665 6682250.000040752, 381250.000136429 6682250.0000407435, 381250.0001364355 6682000.000040791))\"\n        ],\n        \"semantic_type\": \"\",\n        \"description\": \"\"\n      }\n    }\n  ]\n}"
            }
          },
          "metadata": {},
          "execution_count": 2
        }
      ],
      "source": [
        "import geopandas\n",
        "accessibility_grid = geopandas.read_file(\n",
        "    DATA_DIRECTORY\n",
        "    / \"helsinki_region_travel_times_to_railway_station.gpkg\"\n",
        ")\n",
        "accessibility_grid.head()"
      ]
    },
    {
      "cell_type": "markdown",
      "id": "7dad6a06",
      "metadata": {
        "id": "7dad6a06"
      },
      "source": [
        "## Common classifiers\n",
        "\n",
        "### Classification schemes for thematic maps\n",
        "\n",
        "[PySAL](https://pysal.org/) -module is an extensive Python library for spatial\n",
        "analysis. It also includes all of the most common data classifiers that are\n",
        "used commonly e.g. when visualizing data. Available map classifiers in [pysal's\n",
        "mapclassify -module](https://github.com/pysal/mapclassify):\n",
        "\n",
        "- Box Plot\n",
        "- Equal Interval\n",
        "- Fisher Jenks\n",
        "- Fisher Jenks Sampled\n",
        "- HeadTail Breaks\n",
        "- Jenks Caspall\n",
        "- Jenks Caspall Forced\n",
        "- Jenks Caspall Sampled\n",
        "- Max P Classifier\n",
        "- Maximum Breaks\n",
        "- Natural Breaks\n",
        "- Quantiles\n",
        "- Percentiles\n",
        "- Std Mean\n",
        "- User Defined\n",
        "\n",
        "\n",
        "There are plenty of different variables in the accessibility data set (see\n",
        "[from here the\n",
        "description](http://blogs.helsinki.fi/accessibility/helsinki-region-travel-time-matrix-2015)\n",
        "for all attributes) but what we are interested in are columns called `pt_r_tt`\n",
        "which is telling the time in minutes that it takes to reach city center from\n",
        "different parts of the city, and `walk_d` that tells the network distance by\n",
        "roads to reach city center from different parts of the city (almost equal to\n",
        "Euclidian distance).\n",
        "\n",
        "**The NoData values are presented with value -1**.\n",
        "Thus we need to remove the No Data values first."
      ]
    },
    {
      "cell_type": "code",
      "execution_count": 3,
      "id": "fcda7884",
      "metadata": {
        "id": "fcda7884"
      },
      "outputs": [],
      "source": [
        "# Include only data that is above or equal to 0\n",
        "accessibility_grid = accessibility_grid.loc[accessibility_grid[\"pt_r_tt\"] >=0]"
      ]
    },
    {
      "cell_type": "markdown",
      "id": "5e19de2a",
      "metadata": {
        "id": "5e19de2a"
      },
      "source": [
        "Let's plot the data and see how it looks like\n",
        "- `cmap` parameter defines the color map. Read more about [choosing colormaps in matplotlib](https://matplotlib.org/3.1.0/tutorials/colors/colormaps.html)\n",
        "- `scheme` option scales the colors according to a classification scheme (requires `mapclassify` module to be installed):"
      ]
    },
    {
      "cell_type": "code",
      "source": [
        "# !pip install mapclassify"
      ],
      "metadata": {
        "id": "y_HK21sDAf6_"
      },
      "id": "y_HK21sDAf6_",
      "execution_count": null,
      "outputs": []
    },
    {
      "cell_type": "code",
      "execution_count": 9,
      "id": "70305ffd",
      "metadata": {
        "colab": {
          "base_uri": "https://localhost:8080/",
          "height": 462
        },
        "id": "70305ffd",
        "outputId": "2cb4c0ff-a3c6-4a89-977d-ec6eac528ef7"
      },
      "outputs": [
        {
          "output_type": "execute_result",
          "data": {
            "text/plain": [
              "<Axes: >"
            ]
          },
          "metadata": {},
          "execution_count": 9
        },
        {
          "output_type": "display_data",
          "data": {
            "text/plain": [
              "<Figure size 640x480 with 1 Axes>"
            ],
            "image/png": "[encoded data removed]"
          },
          "metadata": {}
        }
      ],
      "source": [
        "# Plot using 9 classes and classify the values using \"Natural Breaks\" classification\n",
        "accessibility_grid.plot(column=\"pt_r_tt\", scheme=\"Natural_Breaks\", k=9, cmap=\"RdYlBu\", linewidth=0, legend=True)"
      ]
    },
    {
      "cell_type": "markdown",
      "id": "c3bebaf0",
      "metadata": {
        "id": "c3bebaf0"
      },
      "source": [
        "As we can see from this map, the travel times are lower in the south where the\n",
        "city center is located but there are some areas of \"good\" accessibility also in\n",
        "some other areas (where the color is red).\n",
        "\n",
        "Let's also make a plot about walking distances:"
      ]
    },
    {
      "cell_type": "code",
      "execution_count": 7,
      "id": "db2fcf38",
      "metadata": {
        "colab": {
          "base_uri": "https://localhost:8080/",
          "height": 462
        },
        "id": "db2fcf38",
        "outputId": "f8d4b003-1abd-484e-ed18-a70f593b3693"
      },
      "outputs": [
        {
          "output_type": "execute_result",
          "data": {
            "text/plain": [
              "<Axes: >"
            ]
          },
          "metadata": {},
          "execution_count": 7
        },
        {
          "output_type": "display_data",
          "data": {
            "text/plain": [
              "<Figure size 640x480 with 1 Axes>"
            ],
            "image/png": "[encoded data removed]"
          },
          "metadata": {}
        }
      ],
      "source": [
        "# Plot walking distance\n",
        "accessibility_grid.plot(column=\"walk_d\", scheme=\"Natural_Breaks\", k=9, cmap=\"RdYlBu\", linewidth=0, legend=True)\n"
      ]
    },
    {
      "cell_type": "markdown",
      "id": "4325c333",
      "metadata": {
        "id": "4325c333"
      },
      "source": [
        "Okay, from here we can see that the walking distances (along road network)\n",
        "reminds more or less Euclidian distances.\n",
        "\n",
        "### Applying classifiers to data\n",
        "\n",
        "As mentioned, the `scheme` option defines the classification scheme using\n",
        "`pysal/mapclassify`. Let's have a closer look at how these classifiers work."
      ]
    },
    {
      "cell_type": "code",
      "execution_count": 10,
      "id": "96f8759d",
      "metadata": {
        "id": "96f8759d"
      },
      "outputs": [],
      "source": [
        "import mapclassify"
      ]
    },
    {
      "cell_type": "markdown",
      "id": "4e8bb579",
      "metadata": {
        "id": "4e8bb579"
      },
      "source": [
        "#### Natural Breaks"
      ]
    },
    {
      "cell_type": "code",
      "execution_count": 11,
      "id": "46c44b67",
      "metadata": {
        "colab": {
          "base_uri": "https://localhost:8080/"
        },
        "id": "46c44b67",
        "outputId": "7a159bde-f375-4c00-d28a-18dfe322dd2f"
      },
      "outputs": [
        {
          "output_type": "execute_result",
          "data": {
            "text/plain": [
              "NaturalBreaks\n",
              "\n",
              "    Interval       Count\n",
              "------------------------\n",
              "[  0.00,  32.00] |  1037\n",
              "( 32.00,  44.00] |  2386\n",
              "( 44.00,  54.00] |  2228\n",
              "( 54.00,  64.00] |  1944\n",
              "( 64.00,  76.00] |  1707\n",
              "( 76.00,  89.00] |  1602\n",
              "( 89.00, 104.00] |  1108\n",
              "(104.00, 126.00] |   786\n",
              "(126.00, 199.00] |   222"
            ]
          },
          "metadata": {},
          "execution_count": 11
        }
      ],
      "source": [
        "mapclassify.NaturalBreaks(y=accessibility_grid[\"pt_r_tt\"], k=9)"
      ]
    },
    {
      "cell_type": "markdown",
      "id": "ac423dd2",
      "metadata": {
        "id": "ac423dd2"
      },
      "source": [
        "#### Quantiles (default is 5 classes):"
      ]
    },
    {
      "cell_type": "code",
      "execution_count": 12,
      "id": "2543d589",
      "metadata": {
        "colab": {
          "base_uri": "https://localhost:8080/"
        },
        "id": "2543d589",
        "outputId": "1aa946c1-16c8-44f7-e3bd-c81c5b0fa2ce"
      },
      "outputs": [
        {
          "output_type": "execute_result",
          "data": {
            "text/plain": [
              "Quantiles\n",
              "\n",
              "    Interval       Count\n",
              "------------------------\n",
              "[  0.00,  41.00] |  2674\n",
              "( 41.00,  52.00] |  2576\n",
              "( 52.00,  66.00] |  2623\n",
              "( 66.00,  85.00] |  2616\n",
              "( 85.00, 199.00] |  2531"
            ]
          },
          "metadata": {},
          "execution_count": 12
        }
      ],
      "source": [
        "mapclassify.Quantiles(y=accessibility_grid[\"pt_r_tt\"])"
      ]
    },
    {
      "cell_type": "markdown",
      "id": "4a214a91",
      "metadata": {
        "id": "4a214a91"
      },
      "source": [
        "#### Extract threshold values\n",
        "\n",
        "It's possible to extract the threshold values into an array:"
      ]
    },
    {
      "cell_type": "code",
      "execution_count": 13,
      "id": "c90f4c2a",
      "metadata": {
        "colab": {
          "base_uri": "https://localhost:8080/"
        },
        "id": "c90f4c2a",
        "outputId": "a16cf217-a492-4fc0-d3f5-20fe7295bdc0"
      },
      "outputs": [
        {
          "output_type": "execute_result",
          "data": {
            "text/plain": [
              "array([ 31.,  44.,  55.,  66.,  77.,  89., 103., 125., 199.])"
            ]
          },
          "metadata": {},
          "execution_count": 13
        }
      ],
      "source": [
        "classifier = mapclassify.NaturalBreaks(y=accessibility_grid[\"pt_r_tt\"], k=9)\n",
        "classifier.bins"
      ]
    },
    {
      "cell_type": "markdown",
      "id": "1a293eed",
      "metadata": {
        "id": "1a293eed"
      },
      "source": [
        "Let's apply one of the `Pysal` classifiers into our data and classify the\n",
        "travel times by public transport into 9 classes\n",
        "The classifier needs to be initialized first with `make()` function that takes\n",
        "the number of desired classes as input parameter"
      ]
    },
    {
      "cell_type": "code",
      "execution_count": 14,
      "id": "74a2224e",
      "metadata": {
        "id": "74a2224e"
      },
      "outputs": [],
      "source": [
        "# Create a Natural Breaks classifier\n",
        "classifier = mapclassify.NaturalBreaks.make(k=9)"
      ]
    },
    {
      "cell_type": "markdown",
      "id": "0537229a",
      "metadata": {
        "id": "0537229a"
      },
      "source": [
        "- Now we can apply that classifier into our data by using `apply` -function"
      ]
    },
    {
      "cell_type": "code",
      "execution_count": 15,
      "id": "f00144f4",
      "metadata": {
        "id": "f00144f4"
      },
      "outputs": [],
      "source": [
        "# Classify the data\n",
        "classifications = accessibility_grid[[\"pt_r_tt\"]].apply(classifier)"
      ]
    },
    {
      "cell_type": "code",
      "execution_count": 16,
      "id": "68088985",
      "metadata": {
        "colab": {
          "base_uri": "https://localhost:8080/",
          "height": 206
        },
        "id": "68088985",
        "outputId": "7f97ef68-74ba-42c5-8818-1d60cfb4fa93"
      },
      "outputs": [
        {
          "output_type": "execute_result",
          "data": {
            "text/plain": [
              "   pt_r_tt\n",
              "0        8\n",
              "1        8\n",
              "2        8\n",
              "3        8\n",
              "4        7"
            ],
            "text/html": [
              "\n",
              "  <div id=\"df-e04edf07-da6c-4612-9248-c9ecc1dbde23\" class=\"colab-df-container\">\n",
              "    <div>\n",
              "<style scoped>\n",
              "    .dataframe tbody tr th:only-of-type {\n",
              "        vertical-align: middle;\n",
              "    }\n",
              "\n",
              "    .dataframe tbody tr th {\n",
              "        vertical-align: top;\n",
              "    }\n",
              "\n",
              "    .dataframe thead th {\n",
              "        text-align: right;\n",
              "    }\n",
              "</style>\n",
              "<table border=\"1\" class=\"dataframe\">\n",
              "  <thead>\n",
              "    <tr style=\"text-align: right;\">\n",
              "      <th></th>\n",
              "      <th>pt_r_tt</th>\n",
              "    </tr>\n",
              "  </thead>\n",
              "  <tbody>\n",
              "    <tr>\n",
              "      <th>0</th>\n",
              "      <td>8</td>\n",
              "    </tr>\n",
              "    <tr>\n",
              "      <th>1</th>\n",
              "      <td>8</td>\n",
              "    </tr>\n",
              "    <tr>\n",
              "      <th>2</th>\n",
              "      <td>8</td>\n",
              "    </tr>\n",
              "    <tr>\n",
              "      <th>3</th>\n",
              "      <td>8</td>\n",
              "    </tr>\n",
              "    <tr>\n",
              "      <th>4</th>\n",
              "      <td>7</td>\n",
              "    </tr>\n",
              "  </tbody>\n",
              "</table>\n",
              "</div>\n",
              "    <div class=\"colab-df-buttons\">\n",
              "\n",
              "  <div class=\"colab-df-container\">\n",
              "    <button class=\"colab-df-convert\" onclick=\"convertToInteractive('df-e04edf07-da6c-4612-9248-c9ecc1dbde23')\"\n",
              "            title=\"Convert this dataframe to an interactive table.\"\n",
              "            style=\"display:none;\">\n",
              "\n",
              "  <svg xmlns=\"http://www.w3.org/2000/svg\" height=\"24px\" viewBox=\"0 -960 960 960\">\n",
              "    <path d=\"M120-120v-720h720v720H120Zm60-500h600v-160H180v160Zm220 220h160v-160H400v160Zm0 220h160v-160H400v160ZM180-400h160v-160H180v160Zm440 0h160v-160H620v160ZM180-180h160v-160H180v160Zm440 0h160v-160H620v160Z\"/>\n",
              "  </svg>\n",
              "    </button>\n",
              "\n",
              "  <style>\n",
              "    .colab-df-container {\n",
              "      display:flex;\n",
              "      gap: 12px;\n",
              "    }\n",
              "\n",
              "    .colab-df-convert {\n",
              "      background-color: #E8F0FE;\n",
              "      border: none;\n",
              "      border-radius: 50%;\n",
              "      cursor: pointer;\n",
              "      display: none;\n",
              "      fill: #1967D2;\n",
              "      height: 32px;\n",
              "      padding: 0 0 0 0;\n",
              "      width: 32px;\n",
              "    }\n",
              "\n",
              "    .colab-df-convert:hover {\n",
              "      background-color: #E2EBFA;\n",
              "      box-shadow: 0px 1px 2px rgba(60, 64, 67, 0.3), 0px 1px 3px 1px rgba(60, 64, 67, 0.15);\n",
              "      fill: #174EA6;\n",
              "    }\n",
              "\n",
              "    .colab-df-buttons div {\n",
              "      margin-bottom: 4px;\n",
              "    }\n",
              "\n",
              "    [theme=dark] .colab-df-convert {\n",
              "      background-color: #3B4455;\n",
              "      fill: #D2E3FC;\n",
              "    }\n",
              "\n",
              "    [theme=dark] .colab-df-convert:hover {\n",
              "      background-color: #434B5C;\n",
              "      box-shadow: 0px 1px 3px 1px rgba(0, 0, 0, 0.15);\n",
              "      filter: drop-shadow(0px 1px 2px rgba(0, 0, 0, 0.3));\n",
              "      fill: #FFFFFF;\n",
              "    }\n",
              "  </style>\n",
              "\n",
              "    <script>\n",
              "      const buttonEl =\n",
              "        document.querySelector('#df-e04edf07-da6c-4612-9248-c9ecc1dbde23 button.colab-df-convert');\n",
              "      buttonEl.style.display =\n",
              "        google.colab.kernel.accessAllowed ? 'block' : 'none';\n",
              "\n",
              "      async function convertToInteractive(key) {\n",
              "        const element = document.querySelector('#df-e04edf07-da6c-4612-9248-c9ecc1dbde23');\n",
              "        const dataTable =\n",
              "          await google.colab.kernel.invokeFunction('convertToInteractive',\n",
              "                                                    [key], {});\n",
              "        if (!dataTable) return;\n",
              "\n",
              "        const docLinkHtml = 'Like what you see? Visit the ' +\n",
              "          '<a target=\"_blank\" href=https://colab.research.google.com/notebooks/data_table.ipynb>data table notebook</a>'\n",
              "          + ' to learn more about interactive tables.';\n",
              "        element.innerHTML = '';\n",
              "        dataTable['output_type'] = 'display_data';\n",
              "        await google.colab.output.renderOutput(dataTable, element);\n",
              "        const docLink = document.createElement('div');\n",
              "        docLink.innerHTML = docLinkHtml;\n",
              "        element.appendChild(docLink);\n",
              "      }\n",
              "    </script>\n",
              "  </div>\n",
              "\n",
              "\n",
              "<div id=\"df-8834911c-dfab-43c3-83a2-9934fbbd11e5\">\n",
              "  <button class=\"colab-df-quickchart\" onclick=\"quickchart('df-8834911c-dfab-43c3-83a2-9934fbbd11e5')\"\n",
              "            title=\"Suggest charts\"\n",
              "            style=\"display:none;\">\n",
              "\n",
              "<svg xmlns=\"http://www.w3.org/2000/svg\" height=\"24px\"viewBox=\"0 0 24 24\"\n",
              "     width=\"24px\">\n",
              "    <g>\n",
              "        <path d=\"M19 3H5c-1.1 0-2 .9-2 2v14c0 1.1.9 2 2 2h14c1.1 0 2-.9 2-2V5c0-1.1-.9-2-2-2zM9 17H7v-7h2v7zm4 0h-2V7h2v10zm4 0h-2v-4h2v4z\"/>\n",
              "    </g>\n",
              "</svg>\n",
              "  </button>\n",
              "\n",
              "<style>\n",
              "  .colab-df-quickchart {\n",
              "      --bg-color: #E8F0FE;\n",
              "      --fill-color: #1967D2;\n",
              "      --hover-bg-color: #E2EBFA;\n",
              "      --hover-fill-color: #174EA6;\n",
              "      --disabled-fill-color: #AAA;\n",
              "      --disabled-bg-color: #DDD;\n",
              "  }\n",
              "\n",
              "  [theme=dark] .colab-df-quickchart {\n",
              "      --bg-color: #3B4455;\n",
              "      --fill-color: #D2E3FC;\n",
              "      --hover-bg-color: #434B5C;\n",
              "      --hover-fill-color: #FFFFFF;\n",
              "      --disabled-bg-color: #3B4455;\n",
              "      --disabled-fill-color: #666;\n",
              "  }\n",
              "\n",
              "  .colab-df-quickchart {\n",
              "    background-color: var(--bg-color);\n",
              "    border: none;\n",
              "    border-radius: 50%;\n",
              "    cursor: pointer;\n",
              "    display: none;\n",
              "    fill: var(--fill-color);\n",
              "    height: 32px;\n",
              "    padding: 0;\n",
              "    width: 32px;\n",
              "  }\n",
              "\n",
              "  .colab-df-quickchart:hover {\n",
              "    background-color: var(--hover-bg-color);\n",
              "    box-shadow: 0 1px 2px rgba(60, 64, 67, 0.3), 0 1px 3px 1px rgba(60, 64, 67, 0.15);\n",
              "    fill: var(--button-hover-fill-color);\n",
              "  }\n",
              "\n",
              "  .colab-df-quickchart-complete:disabled,\n",
              "  .colab-df-quickchart-complete:disabled:hover {\n",
              "    background-color: var(--disabled-bg-color);\n",
              "    fill: var(--disabled-fill-color);\n",
              "    box-shadow: none;\n",
              "  }\n",
              "\n",
              "  .colab-df-spinner {\n",
              "    border: 2px solid var(--fill-color);\n",
              "    border-color: transparent;\n",
              "    border-bottom-color: var(--fill-color);\n",
              "    animation:\n",
              "      spin 1s steps(1) infinite;\n",
              "  }\n",
              "\n",
              "  @keyframes spin {\n",
              "    0% {\n",
              "      border-color: transparent;\n",
              "      border-bottom-color: var(--fill-color);\n",
              "      border-left-color: var(--fill-color);\n",
              "    }\n",
              "    20% {\n",
              "      border-color: transparent;\n",
              "      border-left-color: var(--fill-color);\n",
              "      border-top-color: var(--fill-color);\n",
              "    }\n",
              "    30% {\n",
              "      border-color: transparent;\n",
              "      border-left-color: var(--fill-color);\n",
              "      border-top-color: var(--fill-color);\n",
              "      border-right-color: var(--fill-color);\n",
              "    }\n",
              "    40% {\n",
              "      border-color: transparent;\n",
              "      border-right-color: var(--fill-color);\n",
              "      border-top-color: var(--fill-color);\n",
              "    }\n",
              "    60% {\n",
              "      border-color: transparent;\n",
              "      border-right-color: var(--fill-color);\n",
              "    }\n",
              "    80% {\n",
              "      border-color: transparent;\n",
              "      border-right-color: var(--fill-color);\n",
              "      border-bottom-color: var(--fill-color);\n",
              "    }\n",
              "    90% {\n",
              "      border-color: transparent;\n",
              "      border-bottom-color: var(--fill-color);\n",
              "    }\n",
              "  }\n",
              "</style>\n",
              "\n",
              "  <script>\n",
              "    async function quickchart(key) {\n",
              "      const quickchartButtonEl =\n",
              "        document.querySelector('#' + key + ' button');\n",
              "      quickchartButtonEl.disabled = true;  // To prevent multiple clicks.\n",
              "      quickchartButtonEl.classList.add('colab-df-spinner');\n",
              "      try {\n",
              "        const charts = await google.colab.kernel.invokeFunction(\n",
              "            'suggestCharts', [key], {});\n",
              "      } catch (error) {\n",
              "        console.error('Error during call to suggestCharts:', error);\n",
              "      }\n",
              "      quickchartButtonEl.classList.remove('colab-df-spinner');\n",
              "      quickchartButtonEl.classList.add('colab-df-quickchart-complete');\n",
              "    }\n",
              "    (() => {\n",
              "      let quickchartButtonEl =\n",
              "        document.querySelector('#df-8834911c-dfab-43c3-83a2-9934fbbd11e5 button');\n",
              "      quickchartButtonEl.style.display =\n",
              "        google.colab.kernel.accessAllowed ? 'block' : 'none';\n",
              "    })();\n",
              "  </script>\n",
              "</div>\n",
              "\n",
              "    </div>\n",
              "  </div>\n"
            ],
            "application/vnd.google.colaboratory.intrinsic+json": {
              "type": "dataframe",
              "variable_name": "classifications",
              "summary": "{\n  \"name\": \"classifications\",\n  \"rows\": 13020,\n  \"fields\": [\n    {\n      \"column\": \"pt_r_tt\",\n      \"properties\": {\n        \"dtype\": \"number\",\n        \"std\": 1,\n        \"min\": 0,\n        \"max\": 8,\n        \"num_unique_values\": 9,\n        \"samples\": [\n          1,\n          7,\n          3\n        ],\n        \"semantic_type\": \"\",\n        \"description\": \"\"\n      }\n    }\n  ]\n}"
            }
          },
          "metadata": {},
          "execution_count": 16
        }
      ],
      "source": [
        "# Let's see what we have\n",
        "classifications.head()"
      ]
    },
    {
      "cell_type": "code",
      "source": [
        "type(classifications)"
      ],
      "metadata": {
        "colab": {
          "base_uri": "https://localhost:8080/",
          "height": 203
        },
        "id": "wQZ_By4ZB1VN",
        "outputId": "560913cf-591e-4a75-d9c4-fc2e43bf4d24"
      },
      "id": "wQZ_By4ZB1VN",
      "execution_count": 17,
      "outputs": [
        {
          "output_type": "execute_result",
          "data": {
            "text/plain": [
              "pandas.core.frame.DataFrame"
            ],
            "text/html": [
              "<div style=\"max-width:800px; border: 1px solid var(--colab-border-color);\"><style>\n",
              "      pre.function-repr-contents {\n",
              "        overflow-x: auto;\n",
              "        padding: 8px 12px;\n",
              "        max-height: 500px;\n",
              "      }\n",
              "\n",
              "      pre.function-repr-contents.function-repr-contents-collapsed {\n",
              "        cursor: pointer;\n",
              "        max-height: 100px;\n",
              "      }\n",
              "    </style>\n",
              "    <pre style=\"white-space: initial; background:\n",
              "         var(--colab-secondary-surface-color); padding: 8px 12px;\n",
              "         border-bottom: 1px solid var(--colab-border-color);\"><b>pandas.core.frame.DataFrame</b><br/>def __init__(data=None, index: Axes | None=None, columns: Axes | None=None, dtype: Dtype | None=None, copy: bool | None=None) -&gt; None</pre><pre class=\"function-repr-contents function-repr-contents-collapsed\" style=\"\"><a class=\"filepath\" style=\"display:none\" href=\"#\">/usr/local/lib/python3.10/dist-packages/pandas/core/frame.py</a>Two-dimensional, size-mutable, potentially heterogeneous tabular data.\n",
              "\n",
              "Data structure also contains labeled axes (rows and columns).\n",
              "Arithmetic operations align on both row and column labels. Can be\n",
              "thought of as a dict-like container for Series objects. The primary\n",
              "pandas data structure.\n",
              "\n",
              "Parameters\n",
              "----------\n",
              "data : ndarray (structured or homogeneous), Iterable, dict, or DataFrame\n",
              "    Dict can contain Series, arrays, constants, dataclass or list-like objects. If\n",
              "    data is a dict, column order follows insertion-order. If a dict contains Series\n",
              "    which have an index defined, it is aligned by its index.\n",
              "\n",
              "    .. versionchanged:: 0.25.0\n",
              "       If data is a list of dicts, column order follows insertion-order.\n",
              "\n",
              "index : Index or array-like\n",
              "    Index to use for resulting frame. Will default to RangeIndex if\n",
              "    no indexing information part of input data and no index provided.\n",
              "columns : Index or array-like\n",
              "    Column labels to use for resulting frame when data does not have them,\n",
              "    defaulting to RangeIndex(0, 1, 2, ..., n). If data contains column labels,\n",
              "    will perform column selection instead.\n",
              "dtype : dtype, default None\n",
              "    Data type to force. Only a single dtype is allowed. If None, infer.\n",
              "copy : bool or None, default None\n",
              "    Copy data from inputs.\n",
              "    For dict data, the default of None behaves like ``copy=True``.  For DataFrame\n",
              "    or 2d ndarray input, the default of None behaves like ``copy=False``.\n",
              "    If data is a dict containing one or more Series (possibly of different dtypes),\n",
              "    ``copy=False`` will ensure that these inputs are not copied.\n",
              "\n",
              "    .. versionchanged:: 1.3.0\n",
              "\n",
              "See Also\n",
              "--------\n",
              "DataFrame.from_records : Constructor from tuples, also record arrays.\n",
              "DataFrame.from_dict : From dicts of Series, arrays, or dicts.\n",
              "read_csv : Read a comma-separated values (csv) file into DataFrame.\n",
              "read_table : Read general delimited file into DataFrame.\n",
              "read_clipboard : Read text from clipboard into DataFrame.\n",
              "\n",
              "Notes\n",
              "-----\n",
              "Please reference the :ref:`User Guide &lt;basics.dataframe&gt;` for more information.\n",
              "\n",
              "Examples\n",
              "--------\n",
              "Constructing DataFrame from a dictionary.\n",
              "\n",
              "&gt;&gt;&gt; d = {&#x27;col1&#x27;: [1, 2], &#x27;col2&#x27;: [3, 4]}\n",
              "&gt;&gt;&gt; df = pd.DataFrame(data=d)\n",
              "&gt;&gt;&gt; df\n",
              "   col1  col2\n",
              "0     1     3\n",
              "1     2     4\n",
              "\n",
              "Notice that the inferred dtype is int64.\n",
              "\n",
              "&gt;&gt;&gt; df.dtypes\n",
              "col1    int64\n",
              "col2    int64\n",
              "dtype: object\n",
              "\n",
              "To enforce a single dtype:\n",
              "\n",
              "&gt;&gt;&gt; df = pd.DataFrame(data=d, dtype=np.int8)\n",
              "&gt;&gt;&gt; df.dtypes\n",
              "col1    int8\n",
              "col2    int8\n",
              "dtype: object\n",
              "\n",
              "Constructing DataFrame from a dictionary including Series:\n",
              "\n",
              "&gt;&gt;&gt; d = {&#x27;col1&#x27;: [0, 1, 2, 3], &#x27;col2&#x27;: pd.Series([2, 3], index=[2, 3])}\n",
              "&gt;&gt;&gt; pd.DataFrame(data=d, index=[0, 1, 2, 3])\n",
              "   col1  col2\n",
              "0     0   NaN\n",
              "1     1   NaN\n",
              "2     2   2.0\n",
              "3     3   3.0\n",
              "\n",
              "Constructing DataFrame from numpy ndarray:\n",
              "\n",
              "&gt;&gt;&gt; df2 = pd.DataFrame(np.array([[1, 2, 3], [4, 5, 6], [7, 8, 9]]),\n",
              "...                    columns=[&#x27;a&#x27;, &#x27;b&#x27;, &#x27;c&#x27;])\n",
              "&gt;&gt;&gt; df2\n",
              "   a  b  c\n",
              "0  1  2  3\n",
              "1  4  5  6\n",
              "2  7  8  9\n",
              "\n",
              "Constructing DataFrame from a numpy ndarray that has labeled columns:\n",
              "\n",
              "&gt;&gt;&gt; data = np.array([(1, 2, 3), (4, 5, 6), (7, 8, 9)],\n",
              "...                 dtype=[(&quot;a&quot;, &quot;i4&quot;), (&quot;b&quot;, &quot;i4&quot;), (&quot;c&quot;, &quot;i4&quot;)])\n",
              "&gt;&gt;&gt; df3 = pd.DataFrame(data, columns=[&#x27;c&#x27;, &#x27;a&#x27;])\n",
              "...\n",
              "&gt;&gt;&gt; df3\n",
              "   c  a\n",
              "0  3  1\n",
              "1  6  4\n",
              "2  9  7\n",
              "\n",
              "Constructing DataFrame from dataclass:\n",
              "\n",
              "&gt;&gt;&gt; from dataclasses import make_dataclass\n",
              "&gt;&gt;&gt; Point = make_dataclass(&quot;Point&quot;, [(&quot;x&quot;, int), (&quot;y&quot;, int)])\n",
              "&gt;&gt;&gt; pd.DataFrame([Point(0, 0), Point(0, 3), Point(2, 3)])\n",
              "   x  y\n",
              "0  0  0\n",
              "1  0  3\n",
              "2  2  3</pre>\n",
              "      <script>\n",
              "      if (google.colab.kernel.accessAllowed && google.colab.files && google.colab.files.view) {\n",
              "        for (const element of document.querySelectorAll('.filepath')) {\n",
              "          element.style.display = 'block'\n",
              "          element.onclick = (event) => {\n",
              "            event.preventDefault();\n",
              "            event.stopPropagation();\n",
              "            google.colab.files.view(element.textContent, 475);\n",
              "          };\n",
              "        }\n",
              "      }\n",
              "      for (const element of document.querySelectorAll('.function-repr-contents')) {\n",
              "        element.onclick = (event) => {\n",
              "          event.preventDefault();\n",
              "          event.stopPropagation();\n",
              "          element.classList.toggle('function-repr-contents-collapsed');\n",
              "        };\n",
              "      }\n",
              "      </script>\n",
              "      </div>"
            ]
          },
          "metadata": {},
          "execution_count": 17
        }
      ]
    },
    {
      "cell_type": "markdown",
      "id": "fb44ac91",
      "metadata": {
        "id": "fb44ac91"
      },
      "source": [
        "Okay, so now we have a DataFrame where our input column was classified into 9\n",
        "different classes (numbers 1-9) based on [Natural Breaks\n",
        "classification](http://wiki-1-1930356585.us-east-1.elb.amazonaws.com/wiki/index.php/Jenks_Natural_Breaks_Classification).\n",
        "\n",
        "We can also add the classification values directly into a new column in our dataframe:"
      ]
    },
    {
      "cell_type": "code",
      "execution_count": 18,
      "id": "0c411712",
      "metadata": {
        "colab": {
          "base_uri": "https://localhost:8080/",
          "height": 206
        },
        "id": "0c411712",
        "outputId": "617969bd-7109-4edd-e29b-c5deaefb2249"
      },
      "outputs": [
        {
          "output_type": "execute_result",
          "data": {
            "text/plain": [
              "   pt_r_tt  nb_pt_r_tt\n",
              "0      139           8\n",
              "1      133           8\n",
              "2      133           8\n",
              "3      144           8\n",
              "4      121           7"
            ],
            "text/html": [
              "\n",
              "  <div id=\"df-3bc9c237-919c-4709-bc8d-f1ac4a3e2c7b\" class=\"colab-df-container\">\n",
              "    <div>\n",
              "<style scoped>\n",
              "    .dataframe tbody tr th:only-of-type {\n",
              "        vertical-align: middle;\n",
              "    }\n",
              "\n",
              "    .dataframe tbody tr th {\n",
              "        vertical-align: top;\n",
              "    }\n",
              "\n",
              "    .dataframe thead th {\n",
              "        text-align: right;\n",
              "    }\n",
              "</style>\n",
              "<table border=\"1\" class=\"dataframe\">\n",
              "  <thead>\n",
              "    <tr style=\"text-align: right;\">\n",
              "      <th></th>\n",
              "      <th>pt_r_tt</th>\n",
              "      <th>nb_pt_r_tt</th>\n",
              "    </tr>\n",
              "  </thead>\n",
              "  <tbody>\n",
              "    <tr>\n",
              "      <th>0</th>\n",
              "      <td>139</td>\n",
              "      <td>8</td>\n",
              "    </tr>\n",
              "    <tr>\n",
              "      <th>1</th>\n",
              "      <td>133</td>\n",
              "      <td>8</td>\n",
              "    </tr>\n",
              "    <tr>\n",
              "      <th>2</th>\n",
              "      <td>133</td>\n",
              "      <td>8</td>\n",
              "    </tr>\n",
              "    <tr>\n",
              "      <th>3</th>\n",
              "      <td>144</td>\n",
              "      <td>8</td>\n",
              "    </tr>\n",
              "    <tr>\n",
              "      <th>4</th>\n",
              "      <td>121</td>\n",
              "      <td>7</td>\n",
              "    </tr>\n",
              "  </tbody>\n",
              "</table>\n",
              "</div>\n",
              "    <div class=\"colab-df-buttons\">\n",
              "\n",
              "  <div class=\"colab-df-container\">\n",
              "    <button class=\"colab-df-convert\" onclick=\"convertToInteractive('df-3bc9c237-919c-4709-bc8d-f1ac4a3e2c7b')\"\n",
              "            title=\"Convert this dataframe to an interactive table.\"\n",
              "            style=\"display:none;\">\n",
              "\n",
              "  <svg xmlns=\"http://www.w3.org/2000/svg\" height=\"24px\" viewBox=\"0 -960 960 960\">\n",
              "    <path d=\"M120-120v-720h720v720H120Zm60-500h600v-160H180v160Zm220 220h160v-160H400v160Zm0 220h160v-160H400v160ZM180-400h160v-160H180v160Zm440 0h160v-160H620v160ZM180-180h160v-160H180v160Zm440 0h160v-160H620v160Z\"/>\n",
              "  </svg>\n",
              "    </button>\n",
              "\n",
              "  <style>\n",
              "    .colab-df-container {\n",
              "      display:flex;\n",
              "      gap: 12px;\n",
              "    }\n",
              "\n",
              "    .colab-df-convert {\n",
              "      background-color: #E8F0FE;\n",
              "      border: none;\n",
              "      border-radius: 50%;\n",
              "      cursor: pointer;\n",
              "      display: none;\n",
              "      fill: #1967D2;\n",
              "      height: 32px;\n",
              "      padding: 0 0 0 0;\n",
              "      width: 32px;\n",
              "    }\n",
              "\n",
              "    .colab-df-convert:hover {\n",
              "      background-color: #E2EBFA;\n",
              "      box-shadow: 0px 1px 2px rgba(60, 64, 67, 0.3), 0px 1px 3px 1px rgba(60, 64, 67, 0.15);\n",
              "      fill: #174EA6;\n",
              "    }\n",
              "\n",
              "    .colab-df-buttons div {\n",
              "      margin-bottom: 4px;\n",
              "    }\n",
              "\n",
              "    [theme=dark] .colab-df-convert {\n",
              "      background-color: #3B4455;\n",
              "      fill: #D2E3FC;\n",
              "    }\n",
              "\n",
              "    [theme=dark] .colab-df-convert:hover {\n",
              "      background-color: #434B5C;\n",
              "      box-shadow: 0px 1px 3px 1px rgba(0, 0, 0, 0.15);\n",
              "      filter: drop-shadow(0px 1px 2px rgba(0, 0, 0, 0.3));\n",
              "      fill: #FFFFFF;\n",
              "    }\n",
              "  </style>\n",
              "\n",
              "    <script>\n",
              "      const buttonEl =\n",
              "        document.querySelector('#df-3bc9c237-919c-4709-bc8d-f1ac4a3e2c7b button.colab-df-convert');\n",
              "      buttonEl.style.display =\n",
              "        google.colab.kernel.accessAllowed ? 'block' : 'none';\n",
              "\n",
              "      async function convertToInteractive(key) {\n",
              "        const element = document.querySelector('#df-3bc9c237-919c-4709-bc8d-f1ac4a3e2c7b');\n",
              "        const dataTable =\n",
              "          await google.colab.kernel.invokeFunction('convertToInteractive',\n",
              "                                                    [key], {});\n",
              "        if (!dataTable) return;\n",
              "\n",
              "        const docLinkHtml = 'Like what you see? Visit the ' +\n",
              "          '<a target=\"_blank\" href=https://colab.research.google.com/notebooks/data_table.ipynb>data table notebook</a>'\n",
              "          + ' to learn more about interactive tables.';\n",
              "        element.innerHTML = '';\n",
              "        dataTable['output_type'] = 'display_data';\n",
              "        await google.colab.output.renderOutput(dataTable, element);\n",
              "        const docLink = document.createElement('div');\n",
              "        docLink.innerHTML = docLinkHtml;\n",
              "        element.appendChild(docLink);\n",
              "      }\n",
              "    </script>\n",
              "  </div>\n",
              "\n",
              "\n",
              "<div id=\"df-1af7d7bb-3444-49c5-bf86-e35a54561993\">\n",
              "  <button class=\"colab-df-quickchart\" onclick=\"quickchart('df-1af7d7bb-3444-49c5-bf86-e35a54561993')\"\n",
              "            title=\"Suggest charts\"\n",
              "            style=\"display:none;\">\n",
              "\n",
              "<svg xmlns=\"http://www.w3.org/2000/svg\" height=\"24px\"viewBox=\"0 0 24 24\"\n",
              "     width=\"24px\">\n",
              "    <g>\n",
              "        <path d=\"M19 3H5c-1.1 0-2 .9-2 2v14c0 1.1.9 2 2 2h14c1.1 0 2-.9 2-2V5c0-1.1-.9-2-2-2zM9 17H7v-7h2v7zm4 0h-2V7h2v10zm4 0h-2v-4h2v4z\"/>\n",
              "    </g>\n",
              "</svg>\n",
              "  </button>\n",
              "\n",
              "<style>\n",
              "  .colab-df-quickchart {\n",
              "      --bg-color: #E8F0FE;\n",
              "      --fill-color: #1967D2;\n",
              "      --hover-bg-color: #E2EBFA;\n",
              "      --hover-fill-color: #174EA6;\n",
              "      --disabled-fill-color: #AAA;\n",
              "      --disabled-bg-color: #DDD;\n",
              "  }\n",
              "\n",
              "  [theme=dark] .colab-df-quickchart {\n",
              "      --bg-color: #3B4455;\n",
              "      --fill-color: #D2E3FC;\n",
              "      --hover-bg-color: #434B5C;\n",
              "      --hover-fill-color: #FFFFFF;\n",
              "      --disabled-bg-color: #3B4455;\n",
              "      --disabled-fill-color: #666;\n",
              "  }\n",
              "\n",
              "  .colab-df-quickchart {\n",
              "    background-color: var(--bg-color);\n",
              "    border: none;\n",
              "    border-radius: 50%;\n",
              "    cursor: pointer;\n",
              "    display: none;\n",
              "    fill: var(--fill-color);\n",
              "    height: 32px;\n",
              "    padding: 0;\n",
              "    width: 32px;\n",
              "  }\n",
              "\n",
              "  .colab-df-quickchart:hover {\n",
              "    background-color: var(--hover-bg-color);\n",
              "    box-shadow: 0 1px 2px rgba(60, 64, 67, 0.3), 0 1px 3px 1px rgba(60, 64, 67, 0.15);\n",
              "    fill: var(--button-hover-fill-color);\n",
              "  }\n",
              "\n",
              "  .colab-df-quickchart-complete:disabled,\n",
              "  .colab-df-quickchart-complete:disabled:hover {\n",
              "    background-color: var(--disabled-bg-color);\n",
              "    fill: var(--disabled-fill-color);\n",
              "    box-shadow: none;\n",
              "  }\n",
              "\n",
              "  .colab-df-spinner {\n",
              "    border: 2px solid var(--fill-color);\n",
              "    border-color: transparent;\n",
              "    border-bottom-color: var(--fill-color);\n",
              "    animation:\n",
              "      spin 1s steps(1) infinite;\n",
              "  }\n",
              "\n",
              "  @keyframes spin {\n",
              "    0% {\n",
              "      border-color: transparent;\n",
              "      border-bottom-color: var(--fill-color);\n",
              "      border-left-color: var(--fill-color);\n",
              "    }\n",
              "    20% {\n",
              "      border-color: transparent;\n",
              "      border-left-color: var(--fill-color);\n",
              "      border-top-color: var(--fill-color);\n",
              "    }\n",
              "    30% {\n",
              "      border-color: transparent;\n",
              "      border-left-color: var(--fill-color);\n",
              "      border-top-color: var(--fill-color);\n",
              "      border-right-color: var(--fill-color);\n",
              "    }\n",
              "    40% {\n",
              "      border-color: transparent;\n",
              "      border-right-color: var(--fill-color);\n",
              "      border-top-color: var(--fill-color);\n",
              "    }\n",
              "    60% {\n",
              "      border-color: transparent;\n",
              "      border-right-color: var(--fill-color);\n",
              "    }\n",
              "    80% {\n",
              "      border-color: transparent;\n",
              "      border-right-color: var(--fill-color);\n",
              "      border-bottom-color: var(--fill-color);\n",
              "    }\n",
              "    90% {\n",
              "      border-color: transparent;\n",
              "      border-bottom-color: var(--fill-color);\n",
              "    }\n",
              "  }\n",
              "</style>\n",
              "\n",
              "  <script>\n",
              "    async function quickchart(key) {\n",
              "      const quickchartButtonEl =\n",
              "        document.querySelector('#' + key + ' button');\n",
              "      quickchartButtonEl.disabled = true;  // To prevent multiple clicks.\n",
              "      quickchartButtonEl.classList.add('colab-df-spinner');\n",
              "      try {\n",
              "        const charts = await google.colab.kernel.invokeFunction(\n",
              "            'suggestCharts', [key], {});\n",
              "      } catch (error) {\n",
              "        console.error('Error during call to suggestCharts:', error);\n",
              "      }\n",
              "      quickchartButtonEl.classList.remove('colab-df-spinner');\n",
              "      quickchartButtonEl.classList.add('colab-df-quickchart-complete');\n",
              "    }\n",
              "    (() => {\n",
              "      let quickchartButtonEl =\n",
              "        document.querySelector('#df-1af7d7bb-3444-49c5-bf86-e35a54561993 button');\n",
              "      quickchartButtonEl.style.display =\n",
              "        google.colab.kernel.accessAllowed ? 'block' : 'none';\n",
              "    })();\n",
              "  </script>\n",
              "</div>\n",
              "\n",
              "    </div>\n",
              "  </div>\n"
            ],
            "application/vnd.google.colaboratory.intrinsic+json": {
              "type": "dataframe",
              "summary": "{\n  \"name\": \"accessibility_grid[[\\\"pt_r_tt\\\", \\\"nb_pt_r_tt\\\"]]\",\n  \"rows\": 5,\n  \"fields\": [\n    {\n      \"column\": \"pt_r_tt\",\n      \"properties\": {\n        \"dtype\": \"number\",\n        \"std\": 8,\n        \"min\": 121,\n        \"max\": 144,\n        \"num_unique_values\": 4,\n        \"samples\": [\n          133,\n          121,\n          139\n        ],\n        \"semantic_type\": \"\",\n        \"description\": \"\"\n      }\n    },\n    {\n      \"column\": \"nb_pt_r_tt\",\n      \"properties\": {\n        \"dtype\": \"number\",\n        \"std\": 0,\n        \"min\": 7,\n        \"max\": 8,\n        \"num_unique_values\": 2,\n        \"samples\": [\n          7,\n          8\n        ],\n        \"semantic_type\": \"\",\n        \"description\": \"\"\n      }\n    }\n  ]\n}"
            }
          },
          "metadata": {},
          "execution_count": 18
        }
      ],
      "source": [
        "# Rename the column so that we know that it was classified with natural breaks\n",
        "accessibility_grid[\"nb_pt_r_tt\"] = accessibility_grid[[\"pt_r_tt\"]].apply(classifier)\n",
        "\n",
        "# Check the original values and classification\n",
        "accessibility_grid[[\"pt_r_tt\", \"nb_pt_r_tt\"]].head()"
      ]
    },
    {
      "cell_type": "markdown",
      "id": "f8a2cd0c",
      "metadata": {
        "id": "f8a2cd0c"
      },
      "source": [
        "Great, now we have those values in our accessibility GeoDataFrame. Let's\n",
        "visualize the results and see how they look."
      ]
    },
    {
      "cell_type": "code",
      "execution_count": null,
      "id": "a3e8215c",
      "metadata": {
        "id": "a3e8215c"
      },
      "outputs": [],
      "source": [
        "# Plot\n",
        "accessibility_grid.plot(column=\"nb_pt_r_tt\", linewidth=0, legend=True)"
      ]
    },
    {
      "cell_type": "markdown",
      "id": "b5cb5538",
      "metadata": {
        "id": "b5cb5538"
      },
      "source": [
        "And here we go, now we have a map where we have used one of the common\n",
        "classifiers to classify our data into 9 classes.\n",
        "\n",
        "\n",
        "## Plotting a histogram\n",
        "\n",
        "A histogram is a graphic representation of the distribution of the data. When\n",
        "classifying the data, it's always good to consider how the data is distributed,\n",
        "and how the classification shceme divides values into different ranges.\n",
        "\n",
        "- plot the histogram using [pandas.DataFrame.plot.hist](https://pandas.pydata.org/pandas-docs/stable/reference/api/pandas.DataFrame.plot.hist.html)\n",
        "- Number of histogram bins (groups of data) can be controlled using the parameter `bins`:"
      ]
    },
    {
      "cell_type": "code",
      "execution_count": 20,
      "id": "d58d27b0",
      "metadata": {
        "colab": {
          "base_uri": "https://localhost:8080/",
          "height": 447
        },
        "id": "d58d27b0",
        "outputId": "12be9225-0682-4a73-d070-6b052d9279e6"
      },
      "outputs": [
        {
          "output_type": "execute_result",
          "data": {
            "text/plain": [
              "<Axes: ylabel='Frequency'>"
            ]
          },
          "metadata": {},
          "execution_count": 20
        },
        {
          "output_type": "display_data",
          "data": {
            "text/plain": [
              "<Figure size 640x480 with 1 Axes>"
            ],
            "image/png": "[encoded data removed]"
          },
          "metadata": {}
        }
      ],
      "source": [
        "# Histogram for public transport rush hour travel time\n",
        "accessibility_grid[\"pt_r_tt\"].plot.hist(bins=50)"
      ]
    },
    {
      "cell_type": "markdown",
      "id": "c8f8d5f7",
      "metadata": {
        "id": "c8f8d5f7"
      },
      "source": [
        "Let's also add threshold values on thop of the histogram as vertical lines.\n",
        "\n",
        "- Natural Breaks:"
      ]
    },
    {
      "cell_type": "code",
      "execution_count": 22,
      "id": "953adf26",
      "metadata": {
        "colab": {
          "base_uri": "https://localhost:8080/",
          "height": 430
        },
        "id": "953adf26",
        "outputId": "dd5c3f8d-ff1a-448e-dbe2-7588063168b5"
      },
      "outputs": [
        {
          "output_type": "display_data",
          "data": {
            "text/plain": [
              "<Figure size 640x480 with 1 Axes>"
            ],
            "image/png": "[encoded data removed]"
          },
          "metadata": {}
        }
      ],
      "source": [
        "import matplotlib.pyplot as plt\n",
        "\n",
        "# Define classifier\n",
        "classifier = mapclassify.NaturalBreaks(y=accessibility_grid[\"pt_r_tt\"], k=9)\n",
        "\n",
        "# Plot histogram for public transport rush hour travel time\n",
        "accessibility_grid[\"pt_r_tt\"].plot.hist(bins=50)\n",
        "\n",
        "# Add vertical lines for class breaks\n",
        "for break_point in classifier.bins:\n",
        "    plt.axvline(break_point, color=\"k\", linestyle=\"dashed\", linewidth=1)"
      ]
    },
    {
      "cell_type": "markdown",
      "id": "53a131ff",
      "metadata": {
        "id": "53a131ff"
      },
      "source": [
        "- Quantiles:"
      ]
    },
    {
      "cell_type": "code",
      "execution_count": 23,
      "id": "8dc5bf66",
      "metadata": {
        "colab": {
          "base_uri": "https://localhost:8080/",
          "height": 430
        },
        "id": "8dc5bf66",
        "outputId": "0a80078a-b628-4170-d806-12ba6eea9d2a"
      },
      "outputs": [
        {
          "output_type": "display_data",
          "data": {
            "text/plain": [
              "<Figure size 640x480 with 1 Axes>"
            ],
            "image/png": "[encoded data removed]"
          },
          "metadata": {}
        }
      ],
      "source": [
        "# Define classifier\n",
        "classifier = mapclassify.Quantiles(y=accessibility_grid['pt_r_tt'])\n",
        "\n",
        "# Plot histogram for public transport rush hour travel time\n",
        "accessibility_grid[\"pt_r_tt\"].plot.hist(bins=50)\n",
        "\n",
        "for break_point in classifier.bins:\n",
        "    plt.axvline(break_point, color=\"k\", linestyle=\"dashed\", linewidth=1)"
      ]
    },
    {
      "cell_type": "markdown",
      "id": "85d7f94f",
      "metadata": {
        "id": "85d7f94f"
      },
      "source": [
        ":::{admonition} Check your understanding\n",
        ":class: tip\n",
        "\n",
        "Select another column from the data (for example, travel times by car:\n",
        "`car_r_t`). Do the following visualizations using one of the classification\n",
        "schemes available from\n",
        "[pysal/mapclassify](https://github.com/pysal/mapclassify):\n",
        "    \n",
        "- histogram with vertical lines showing the classification bins\n",
        "- thematic map using the classification scheme\n",
        ":::\n",
        "\n",
        "\n",
        "## Applying a custom classifier\n",
        "\n",
        "### Multicriteria data classification\n",
        "\n",
        "\n",
        "\n",
        "Let's classify the geometries into two classes based\n",
        "on a given `threshold` -parameter. If the area of a polygon is lower than the\n",
        "threshold value (e.g., a certain distance), the output column will get a value\n",
        "0, if it is larger, it will get a value 1. This kind of classification is often\n",
        "called a [binary\n",
        "classification](https://en.wikipedia.org/wiki/Binary_classification).\n",
        "\n",
        "To classify each row of our GeoDataFrame we can iterate over each row or we can apply\n",
        "a function for each row. In our case, we will apply a [lambda function](https://autogis-site.readthedocs.io/en/latest/lessons/lesson-1/exercise-1.html#apply-ing-an-anonymous-lambda-function) for each row in\n",
        "our GeoDataFrame, which returns a value based on the conditions we provide.\n",
        "\n",
        "Let's do our classification based on two criteria: and find out grid cells\n",
        "\n",
        "1. Grid cells where the travel time is **lower or equal to 20 minutes**\n",
        "\n",
        "2. *and* they are further away **than 4 km (4000 meters)** from the city center.\n",
        "\n",
        "\n",
        "Let's first see how to classify a single row:"
      ]
    },
    {
      "cell_type": "code",
      "execution_count": 24,
      "id": "10d95e2c",
      "metadata": {
        "colab": {
          "base_uri": "https://localhost:8080/"
        },
        "id": "10d95e2c",
        "outputId": "c36ae29f-0a4e-4648-c076-ec650921795c"
      },
      "outputs": [
        {
          "output_type": "execute_result",
          "data": {
            "text/plain": [
              "False"
            ]
          },
          "metadata": {},
          "execution_count": 24
        }
      ],
      "source": [
        "accessibility_grid.iloc[0][\"pt_r_tt\"] < 20 and accessibility_grid.iloc[0][\"walk_d\"] > 4000"
      ]
    },
    {
      "cell_type": "code",
      "execution_count": 25,
      "id": "97f68bfe",
      "metadata": {
        "colab": {
          "base_uri": "https://localhost:8080/"
        },
        "id": "97f68bfe",
        "outputId": "9d8bdb4a-ee53-4812-bc0d-985bea87cda3"
      },
      "outputs": [
        {
          "output_type": "execute_result",
          "data": {
            "text/plain": [
              "1"
            ]
          },
          "metadata": {},
          "execution_count": 25
        }
      ],
      "source": [
        "int(accessibility_grid.iloc[11293][\"pt_r_tt\"] < 20 and accessibility_grid.iloc[11293][\"walk_d\"] > 4000)"
      ]
    },
    {
      "cell_type": "markdown",
      "id": "f9b2952e",
      "metadata": {
        "id": "f9b2952e"
      },
      "source": [
        "Let's now apply this to our GeoDataFrame and save it to a column called `\"suitable_area\"`:"
      ]
    },
    {
      "cell_type": "code",
      "execution_count": 26,
      "id": "4e106edd",
      "metadata": {
        "id": "4e106edd"
      },
      "outputs": [],
      "source": [
        "accessibility_grid[\"suitable_area\"] = accessibility_grid.apply(lambda row: int(row[\"pt_r_tt\"] < 20 and row[\"walk_d\"] > 4000), axis=1)"
      ]
    },
    {
      "cell_type": "code",
      "execution_count": 27,
      "id": "1493534d",
      "metadata": {
        "id": "1493534d"
      },
      "outputs": [],
      "source": [
        "accessibility_grid[\"suitable_area\"] = accessibility_grid.apply(lambda row: int(row[\"pt_r_tt\"] < 20 and row[\"walk_d\"] > 4000), axis=1)"
      ]
    },
    {
      "cell_type": "markdown",
      "id": "b9d1a9b3",
      "metadata": {
        "id": "b9d1a9b3"
      },
      "source": [
        "Okey we have new values in `suitable_area` -column.\n",
        "\n",
        "- How many Polygons are suitable for us? Let's find out by using a Pandas\n",
        "  function called `value_counts()` that return the count of different values in\n",
        "  our column."
      ]
    },
    {
      "cell_type": "code",
      "execution_count": 28,
      "id": "53e1bd19",
      "metadata": {
        "colab": {
          "base_uri": "https://localhost:8080/"
        },
        "id": "53e1bd19",
        "outputId": "784a94d8-a3c8-49ed-8658-ed9fce00d07c"
      },
      "outputs": [
        {
          "output_type": "execute_result",
          "data": {
            "text/plain": [
              "0    13011\n",
              "1        9\n",
              "Name: suitable_area, dtype: int64"
            ]
          },
          "metadata": {},
          "execution_count": 28
        }
      ],
      "source": [
        "# Get value counts\n",
        "accessibility_grid[\"suitable_area\"].value_counts()"
      ]
    },
    {
      "cell_type": "markdown",
      "id": "3d8f3f46",
      "metadata": {
        "id": "3d8f3f46"
      },
      "source": [
        "Okay, so there seems to be nine suitable locations for us where we can try to\n",
        "find an appartment to buy.\n",
        "\n",
        "- Let's see where they are located:"
      ]
    },
    {
      "cell_type": "code",
      "execution_count": 29,
      "id": "e48fd661",
      "metadata": {
        "colab": {
          "base_uri": "https://localhost:8080/",
          "height": 462
        },
        "id": "e48fd661",
        "outputId": "e9305fb1-ae0a-46d3-e2d0-71bb991531f9"
      },
      "outputs": [
        {
          "output_type": "execute_result",
          "data": {
            "text/plain": [
              "<Axes: >"
            ]
          },
          "metadata": {},
          "execution_count": 29
        },
        {
          "output_type": "display_data",
          "data": {
            "text/plain": [
              "<Figure size 640x480 with 1 Axes>"
            ],
            "image/png": "[encoded data removed]"
          },
          "metadata": {}
        }
      ],
      "source": [
        "accessibility_grid.plot(column=\"suitable_area\", linewidth=0)"
      ]
    },
    {
      "cell_type": "markdown",
      "id": "251855d4",
      "metadata": {
        "id": "251855d4"
      },
      "source": [
        "A-haa, okay so we can see that suitable places for us with our criteria seem to\n",
        "be located in the eastern part from the city center. Actually, those locations\n",
        "are along the metro line which makes them good locations in terms of travel\n",
        "time to city center since metro is really fast travel mode."
      ]
    }
  ],
  "metadata": {
    "kernelspec": {
      "display_name": "Python 3 (ipykernel)",
      "language": "python",
      "name": "python3"
    },
    "language_info": {
      "codemirror_mode": {
        "name": "ipython",
        "version": 3
      },
      "file_extension": ".py",
      "mimetype": "text/x-python",
      "name": "python",
      "nbconvert_exporter": "python",
      "pygments_lexer": "ipython3",
      "version": "3.10.12"
    },
    "colab": {
      "provenance": [],
      "include_colab_link": true
    }
  },
  "nbformat": 4,
  "nbformat_minor": 5
}
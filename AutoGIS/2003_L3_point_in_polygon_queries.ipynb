{
  "cells": [
    {
      "cell_type": "markdown",
      "metadata": {
        "id": "view-in-github",
        "colab_type": "text"
      },
      "source": [
        "<a href=\"https://colab.research.google.com/github/javier-jaime/Tool-Crib/blob/master/AutoGIS/2003_L3_point_in_polygon_queries.ipynb\" target=\"_parent\"><img src=\"https://colab.research.google.com/assets/colab-badge.svg\" alt=\"Open In Colab\"/></a>"
      ]
    },
    {
      "cell_type": "markdown",
      "id": "b6234ccf",
      "metadata": {
        "id": "b6234ccf"
      },
      "source": [
        "# Point-in-polygon queries\n",
        "\n",
        "Finding out if a certain point is located inside or outside of an area,\n",
        "or finding out if a line intersects with another line or polygon are\n",
        "fundamental geospatial operations that are often used e.g. to select\n",
        "data based on location. Such spatial queries are one of the typical\n",
        "first steps of the workflow when doing spatial analysis. Performing a\n",
        "spatial join (will be introduced later) between two spatial datasets is\n",
        "one of the most typical applications where Point in Polygon (PIP) query\n",
        "is used.\n",
        "\n",
        "For further reading about PIP and other geometric operations,\n",
        "see Chapter 4.2 in Smith, Goodchild & Longley: [Geospatial Analysis - 6th edition](https://www.spatialanalysisonline.com/HTML/index.html).\n",
        "\n",
        "\n",
        "## How to check if point is inside a polygon?\n",
        "\n",
        "Computationally, detecting if a point is inside a polygon is most commonly done using a specific formula called [Ray Casting algorithm](https://en.wikipedia.org/wiki/Point_in_polygon#Ray_casting_algorithm).\n",
        "Luckily, we do not need to create such a function ourselves for\n",
        "conducting the Point in Polygon (PIP) query. Instead, we can take\n",
        "advantage of [Shapely's binary predicates](https://shapely.readthedocs.io/en/stable/manual.html#binary-predicates)\n",
        "that can evaluate the topolocical relationships between geographical\n",
        "objects, such as the PIP as we're interested here.\n",
        "\n",
        "## Point-in-polygon queries on `shapely` geometries\n",
        "\n",
        "There are basically two ways of conducting PIP in Shapely:\n",
        "\n",
        "1. using a function called\n",
        "   [within()](https://shapely.readthedocs.io/en/stable/manual.html#object.within)\n",
        "   that checks if a point is within a polygon\n",
        "2. using a function called\n",
        "   [contains()](https://shapely.readthedocs.io/en/stable/manual.html#object.contains)\n",
        "   that checks if a polygon contains a point\n",
        "\n",
        "\n",
        ":::{note}\n",
        "Even though we are talking here about **Point** in Polygon\n",
        "operation, it is also possible to check if a LineString or Polygon is\n",
        "inside another Polygon.\n",
        ":::\n",
        "\n",
        "\n",
        "Let’s first create a couple of point geometries:"
      ]
    },
    {
      "cell_type": "code",
      "execution_count": 1,
      "id": "85cd2fab",
      "metadata": {
        "id": "85cd2fab"
      },
      "outputs": [],
      "source": [
        "import shapely.geometry\n",
        "point1 = shapely.geometry.Point(24.952242, 60.1696017)\n",
        "point2 = shapely.geometry.Point(24.976567, 60.1612500)"
      ]
    },
    {
      "cell_type": "markdown",
      "id": "f408a280",
      "metadata": {
        "id": "f408a280"
      },
      "source": [
        "... and a polygon:"
      ]
    },
    {
      "cell_type": "code",
      "execution_count": 2,
      "id": "222fef65",
      "metadata": {
        "id": "222fef65"
      },
      "outputs": [],
      "source": [
        "polygon = shapely.geometry.Polygon(\n",
        "    [\n",
        "        (24.950899, 60.169158),\n",
        "        (24.953492, 60.169158),\n",
        "        (24.953510, 60.170104),\n",
        "        (24.950958, 60.169990)\n",
        "    ]\n",
        ")"
      ]
    },
    {
      "cell_type": "code",
      "execution_count": 3,
      "id": "0302b316",
      "metadata": {
        "colab": {
          "base_uri": "https://localhost:8080/"
        },
        "id": "0302b316",
        "outputId": "d87ff4e6-bf44-42de-b425-0c73d6baabeb"
      },
      "outputs": [
        {
          "output_type": "stream",
          "name": "stdout",
          "text": [
            "POINT (24.952242 60.1696017)\n",
            "POINT (24.976567 60.16125)\n",
            "POLYGON ((24.950899 60.169158, 24.953492 60.169158, 24.95351 60.170104, 24.950958 60.16999, 24.950899 60.169158))\n"
          ]
        }
      ],
      "source": [
        "print(point1)\n",
        "print(point2)\n",
        "print(polygon)"
      ]
    },
    {
      "cell_type": "markdown",
      "id": "aab98da1",
      "metadata": {
        "id": "aab98da1"
      },
      "source": [
        "Let’s check if the points are `within()` the polygon:"
      ]
    },
    {
      "cell_type": "code",
      "execution_count": 4,
      "id": "911105af",
      "metadata": {
        "colab": {
          "base_uri": "https://localhost:8080/"
        },
        "id": "911105af",
        "outputId": "fb5c7b6d-4db4-49bb-f2e2-ed857448817a"
      },
      "outputs": [
        {
          "output_type": "execute_result",
          "data": {
            "text/plain": [
              "True"
            ]
          },
          "metadata": {},
          "execution_count": 4
        }
      ],
      "source": [
        "point1.within(polygon)"
      ]
    },
    {
      "cell_type": "code",
      "execution_count": 5,
      "id": "b52c88e4",
      "metadata": {
        "colab": {
          "base_uri": "https://localhost:8080/"
        },
        "id": "b52c88e4",
        "outputId": "8b382dd8-c034-4981-b01d-20898179c7c3"
      },
      "outputs": [
        {
          "output_type": "execute_result",
          "data": {
            "text/plain": [
              "False"
            ]
          },
          "metadata": {},
          "execution_count": 5
        }
      ],
      "source": [
        "point2.within(polygon)"
      ]
    },
    {
      "cell_type": "markdown",
      "id": "93a5b9a0",
      "metadata": {
        "id": "93a5b9a0"
      },
      "source": [
        "It seems that the first point is inside the polygon, but the second one is not.\n",
        "\n",
        "We can turn the logic of the look-up around: Rather than check of the point is\n",
        "within the polygon, we can also ask whether the polygon `contains()` the point:"
      ]
    },
    {
      "cell_type": "code",
      "execution_count": 6,
      "id": "1e0aefcd",
      "metadata": {
        "colab": {
          "base_uri": "https://localhost:8080/"
        },
        "id": "1e0aefcd",
        "outputId": "ae80aec5-46e8-4d8a-de7e-16a7daf6387d"
      },
      "outputs": [
        {
          "output_type": "execute_result",
          "data": {
            "text/plain": [
              "True"
            ]
          },
          "metadata": {},
          "execution_count": 6
        }
      ],
      "source": [
        "polygon.contains(point1)"
      ]
    },
    {
      "cell_type": "code",
      "execution_count": 7,
      "id": "f033b17d",
      "metadata": {
        "colab": {
          "base_uri": "https://localhost:8080/"
        },
        "id": "f033b17d",
        "outputId": "252a8ee8-7674-498e-a7f4-6f8ebc6cba95"
      },
      "outputs": [
        {
          "output_type": "execute_result",
          "data": {
            "text/plain": [
              "False"
            ]
          },
          "metadata": {},
          "execution_count": 7
        }
      ],
      "source": [
        "polygon.contains(point2)"
      ]
    },
    {
      "cell_type": "markdown",
      "id": "8f6340de",
      "metadata": {
        "id": "8f6340de"
      },
      "source": [
        ":::{hint}\n",
        "The two ways of checking the spatial relationship are complementary and yield\n",
        "equivalent results;\n",
        "[`contains()`](https://shapely.readthedocs.io/en/stable/manual.html#object.contains)\n",
        "is inverse to\n",
        "[`within()`](https://shapely.readthedocs.io/en/stable/manual.html#object.within),\n",
        "and vice versa.\n",
        "\n",
        "Then, which one should you use? Well, it depends:\n",
        "\n",
        "-  if you have **many points and just one polygon** and you try to find out\n",
        "   which one of them is inside the polygon: You might need to iterate over the\n",
        "   points and check one at a time if it is **`within()`** the polygon.\n",
        "-  if you have **many polygons and just one point** and you want to find out\n",
        "   which polygon contains the point: You might need to iterate over the\n",
        "   polygons until you find a polygon that **`contains()`** the point specified\n",
        ":::\n",
        "\n",
        "\n",
        "## Point-in-polygon queries on `geopandas.GeoDataFrame`s\n",
        "\n",
        "In the following practical example we find which of the addresses we obtained\n",
        "in the [geocoding section](geocoding-in-geopandas) are located within a certain\n",
        "city district of Helsinki.\n",
        "\n",
        "The data set we are using is from [Helsinki Region Infoshare](https://hri.fi/data/en_GB/dataset/helsingin-piirijako), and licensed under a [Creative-Commons-Attribution-4.0](https://creativecommons.org/licenses/by/4.0/) license."
      ]
    },
    {
      "cell_type": "code",
      "execution_count": 8,
      "id": "a6f500ab",
      "metadata": {
        "id": "a6f500ab"
      },
      "outputs": [],
      "source": [
        "import pathlib\n",
        "NOTEBOOK_PATH = pathlib.Path().resolve()\n",
        "DATA_DIRECTORY = NOTEBOOK_PATH / \"data\""
      ]
    },
    {
      "cell_type": "code",
      "execution_count": 11,
      "id": "06aacdc6",
      "metadata": {
        "colab": {
          "base_uri": "https://localhost:8080/",
          "height": 206
        },
        "id": "06aacdc6",
        "outputId": "7086bf9e-1ae6-4dd0-f019-b33e0e44e871"
      },
      "outputs": [
        {
          "output_type": "execute_result",
          "data": {
            "text/plain": [
              "        name                                           geometry\n",
              "0  Eteläinen  POLYGON ((24.78280 60.09996, 24.80437 60.07607...\n",
              "1   Läntinen  POLYGON ((24.83140 60.25406, 24.83168 60.25321...\n",
              "2   Keskinen  POLYGON ((24.93345 60.18317, 24.93502 60.18005...\n",
              "3  Pohjoinen  POLYGON ((24.90081 60.23526, 24.89944 60.23500...\n",
              "4  Koillinen  POLYGON ((24.97163 60.24253, 24.97163 60.24246..."
            ],
            "text/html": [
              "\n",
              "  <div id=\"df-a938d303-04fe-43b4-9c8e-cc1305e8d4da\" class=\"colab-df-container\">\n",
              "    <div>\n",
              "<style scoped>\n",
              "    .dataframe tbody tr th:only-of-type {\n",
              "        vertical-align: middle;\n",
              "    }\n",
              "\n",
              "    .dataframe tbody tr th {\n",
              "        vertical-align: top;\n",
              "    }\n",
              "\n",
              "    .dataframe thead th {\n",
              "        text-align: right;\n",
              "    }\n",
              "</style>\n",
              "<table border=\"1\" class=\"dataframe\">\n",
              "  <thead>\n",
              "    <tr style=\"text-align: right;\">\n",
              "      <th></th>\n",
              "      <th>name</th>\n",
              "      <th>geometry</th>\n",
              "    </tr>\n",
              "  </thead>\n",
              "  <tbody>\n",
              "    <tr>\n",
              "      <th>0</th>\n",
              "      <td>Eteläinen</td>\n",
              "      <td>POLYGON ((24.78280 60.09996, 24.80437 60.07607...</td>\n",
              "    </tr>\n",
              "    <tr>\n",
              "      <th>1</th>\n",
              "      <td>Läntinen</td>\n",
              "      <td>POLYGON ((24.83140 60.25406, 24.83168 60.25321...</td>\n",
              "    </tr>\n",
              "    <tr>\n",
              "      <th>2</th>\n",
              "      <td>Keskinen</td>\n",
              "      <td>POLYGON ((24.93345 60.18317, 24.93502 60.18005...</td>\n",
              "    </tr>\n",
              "    <tr>\n",
              "      <th>3</th>\n",
              "      <td>Pohjoinen</td>\n",
              "      <td>POLYGON ((24.90081 60.23526, 24.89944 60.23500...</td>\n",
              "    </tr>\n",
              "    <tr>\n",
              "      <th>4</th>\n",
              "      <td>Koillinen</td>\n",
              "      <td>POLYGON ((24.97163 60.24253, 24.97163 60.24246...</td>\n",
              "    </tr>\n",
              "  </tbody>\n",
              "</table>\n",
              "</div>\n",
              "    <div class=\"colab-df-buttons\">\n",
              "\n",
              "  <div class=\"colab-df-container\">\n",
              "    <button class=\"colab-df-convert\" onclick=\"convertToInteractive('df-a938d303-04fe-43b4-9c8e-cc1305e8d4da')\"\n",
              "            title=\"Convert this dataframe to an interactive table.\"\n",
              "            style=\"display:none;\">\n",
              "\n",
              "  <svg xmlns=\"http://www.w3.org/2000/svg\" height=\"24px\" viewBox=\"0 -960 960 960\">\n",
              "    <path d=\"M120-120v-720h720v720H120Zm60-500h600v-160H180v160Zm220 220h160v-160H400v160Zm0 220h160v-160H400v160ZM180-400h160v-160H180v160Zm440 0h160v-160H620v160ZM180-180h160v-160H180v160Zm440 0h160v-160H620v160Z\"/>\n",
              "  </svg>\n",
              "    </button>\n",
              "\n",
              "  <style>\n",
              "    .colab-df-container {\n",
              "      display:flex;\n",
              "      gap: 12px;\n",
              "    }\n",
              "\n",
              "    .colab-df-convert {\n",
              "      background-color: #E8F0FE;\n",
              "      border: none;\n",
              "      border-radius: 50%;\n",
              "      cursor: pointer;\n",
              "      display: none;\n",
              "      fill: #1967D2;\n",
              "      height: 32px;\n",
              "      padding: 0 0 0 0;\n",
              "      width: 32px;\n",
              "    }\n",
              "\n",
              "    .colab-df-convert:hover {\n",
              "      background-color: #E2EBFA;\n",
              "      box-shadow: 0px 1px 2px rgba(60, 64, 67, 0.3), 0px 1px 3px 1px rgba(60, 64, 67, 0.15);\n",
              "      fill: #174EA6;\n",
              "    }\n",
              "\n",
              "    .colab-df-buttons div {\n",
              "      margin-bottom: 4px;\n",
              "    }\n",
              "\n",
              "    [theme=dark] .colab-df-convert {\n",
              "      background-color: #3B4455;\n",
              "      fill: #D2E3FC;\n",
              "    }\n",
              "\n",
              "    [theme=dark] .colab-df-convert:hover {\n",
              "      background-color: #434B5C;\n",
              "      box-shadow: 0px 1px 3px 1px rgba(0, 0, 0, 0.15);\n",
              "      filter: drop-shadow(0px 1px 2px rgba(0, 0, 0, 0.3));\n",
              "      fill: #FFFFFF;\n",
              "    }\n",
              "  </style>\n",
              "\n",
              "    <script>\n",
              "      const buttonEl =\n",
              "        document.querySelector('#df-a938d303-04fe-43b4-9c8e-cc1305e8d4da button.colab-df-convert');\n",
              "      buttonEl.style.display =\n",
              "        google.colab.kernel.accessAllowed ? 'block' : 'none';\n",
              "\n",
              "      async function convertToInteractive(key) {\n",
              "        const element = document.querySelector('#df-a938d303-04fe-43b4-9c8e-cc1305e8d4da');\n",
              "        const dataTable =\n",
              "          await google.colab.kernel.invokeFunction('convertToInteractive',\n",
              "                                                    [key], {});\n",
              "        if (!dataTable) return;\n",
              "\n",
              "        const docLinkHtml = 'Like what you see? Visit the ' +\n",
              "          '<a target=\"_blank\" href=https://colab.research.google.com/notebooks/data_table.ipynb>data table notebook</a>'\n",
              "          + ' to learn more about interactive tables.';\n",
              "        element.innerHTML = '';\n",
              "        dataTable['output_type'] = 'display_data';\n",
              "        await google.colab.output.renderOutput(dataTable, element);\n",
              "        const docLink = document.createElement('div');\n",
              "        docLink.innerHTML = docLinkHtml;\n",
              "        element.appendChild(docLink);\n",
              "      }\n",
              "    </script>\n",
              "  </div>\n",
              "\n",
              "\n",
              "<div id=\"df-ae27e678-cf48-433e-8318-41cdef96aa42\">\n",
              "  <button class=\"colab-df-quickchart\" onclick=\"quickchart('df-ae27e678-cf48-433e-8318-41cdef96aa42')\"\n",
              "            title=\"Suggest charts\"\n",
              "            style=\"display:none;\">\n",
              "\n",
              "<svg xmlns=\"http://www.w3.org/2000/svg\" height=\"24px\"viewBox=\"0 0 24 24\"\n",
              "     width=\"24px\">\n",
              "    <g>\n",
              "        <path d=\"M19 3H5c-1.1 0-2 .9-2 2v14c0 1.1.9 2 2 2h14c1.1 0 2-.9 2-2V5c0-1.1-.9-2-2-2zM9 17H7v-7h2v7zm4 0h-2V7h2v10zm4 0h-2v-4h2v4z\"/>\n",
              "    </g>\n",
              "</svg>\n",
              "  </button>\n",
              "\n",
              "<style>\n",
              "  .colab-df-quickchart {\n",
              "      --bg-color: #E8F0FE;\n",
              "      --fill-color: #1967D2;\n",
              "      --hover-bg-color: #E2EBFA;\n",
              "      --hover-fill-color: #174EA6;\n",
              "      --disabled-fill-color: #AAA;\n",
              "      --disabled-bg-color: #DDD;\n",
              "  }\n",
              "\n",
              "  [theme=dark] .colab-df-quickchart {\n",
              "      --bg-color: #3B4455;\n",
              "      --fill-color: #D2E3FC;\n",
              "      --hover-bg-color: #434B5C;\n",
              "      --hover-fill-color: #FFFFFF;\n",
              "      --disabled-bg-color: #3B4455;\n",
              "      --disabled-fill-color: #666;\n",
              "  }\n",
              "\n",
              "  .colab-df-quickchart {\n",
              "    background-color: var(--bg-color);\n",
              "    border: none;\n",
              "    border-radius: 50%;\n",
              "    cursor: pointer;\n",
              "    display: none;\n",
              "    fill: var(--fill-color);\n",
              "    height: 32px;\n",
              "    padding: 0;\n",
              "    width: 32px;\n",
              "  }\n",
              "\n",
              "  .colab-df-quickchart:hover {\n",
              "    background-color: var(--hover-bg-color);\n",
              "    box-shadow: 0 1px 2px rgba(60, 64, 67, 0.3), 0 1px 3px 1px rgba(60, 64, 67, 0.15);\n",
              "    fill: var(--button-hover-fill-color);\n",
              "  }\n",
              "\n",
              "  .colab-df-quickchart-complete:disabled,\n",
              "  .colab-df-quickchart-complete:disabled:hover {\n",
              "    background-color: var(--disabled-bg-color);\n",
              "    fill: var(--disabled-fill-color);\n",
              "    box-shadow: none;\n",
              "  }\n",
              "\n",
              "  .colab-df-spinner {\n",
              "    border: 2px solid var(--fill-color);\n",
              "    border-color: transparent;\n",
              "    border-bottom-color: var(--fill-color);\n",
              "    animation:\n",
              "      spin 1s steps(1) infinite;\n",
              "  }\n",
              "\n",
              "  @keyframes spin {\n",
              "    0% {\n",
              "      border-color: transparent;\n",
              "      border-bottom-color: var(--fill-color);\n",
              "      border-left-color: var(--fill-color);\n",
              "    }\n",
              "    20% {\n",
              "      border-color: transparent;\n",
              "      border-left-color: var(--fill-color);\n",
              "      border-top-color: var(--fill-color);\n",
              "    }\n",
              "    30% {\n",
              "      border-color: transparent;\n",
              "      border-left-color: var(--fill-color);\n",
              "      border-top-color: var(--fill-color);\n",
              "      border-right-color: var(--fill-color);\n",
              "    }\n",
              "    40% {\n",
              "      border-color: transparent;\n",
              "      border-right-color: var(--fill-color);\n",
              "      border-top-color: var(--fill-color);\n",
              "    }\n",
              "    60% {\n",
              "      border-color: transparent;\n",
              "      border-right-color: var(--fill-color);\n",
              "    }\n",
              "    80% {\n",
              "      border-color: transparent;\n",
              "      border-right-color: var(--fill-color);\n",
              "      border-bottom-color: var(--fill-color);\n",
              "    }\n",
              "    90% {\n",
              "      border-color: transparent;\n",
              "      border-bottom-color: var(--fill-color);\n",
              "    }\n",
              "  }\n",
              "</style>\n",
              "\n",
              "  <script>\n",
              "    async function quickchart(key) {\n",
              "      const quickchartButtonEl =\n",
              "        document.querySelector('#' + key + ' button');\n",
              "      quickchartButtonEl.disabled = true;  // To prevent multiple clicks.\n",
              "      quickchartButtonEl.classList.add('colab-df-spinner');\n",
              "      try {\n",
              "        const charts = await google.colab.kernel.invokeFunction(\n",
              "            'suggestCharts', [key], {});\n",
              "      } catch (error) {\n",
              "        console.error('Error during call to suggestCharts:', error);\n",
              "      }\n",
              "      quickchartButtonEl.classList.remove('colab-df-spinner');\n",
              "      quickchartButtonEl.classList.add('colab-df-quickchart-complete');\n",
              "    }\n",
              "    (() => {\n",
              "      let quickchartButtonEl =\n",
              "        document.querySelector('#df-ae27e678-cf48-433e-8318-41cdef96aa42 button');\n",
              "      quickchartButtonEl.style.display =\n",
              "        google.colab.kernel.accessAllowed ? 'block' : 'none';\n",
              "    })();\n",
              "  </script>\n",
              "</div>\n",
              "\n",
              "    </div>\n",
              "  </div>\n"
            ],
            "application/vnd.google.colaboratory.intrinsic+json": {
              "type": "dataframe",
              "variable_name": "city_districts",
              "summary": "{\n  \"name\": \"city_districts\",\n  \"rows\": 8,\n  \"fields\": [\n    {\n      \"column\": \"name\",\n      \"properties\": {\n        \"dtype\": \"string\",\n        \"num_unique_values\": 8,\n        \"samples\": [\n          \"L\\u00e4ntinen\",\n          \"Kaakkoinen\",\n          \"Etel\\u00e4inen\"\n        ],\n        \"semantic_type\": \"\",\n        \"description\": \"\"\n      }\n    },\n    {\n      \"column\": \"geometry\",\n      \"properties\": {\n        \"dtype\": \"geometry\",\n        \"num_unique_values\": 8,\n        \"samples\": [\n          \"POLYGON ((24.831402979891735 60.254055700474176, 24.83168109588566 60.253205190703, 24.83176026260419 60.25296335164303, 24.831867691769485 60.25263322194602, 24.832069654818348 60.25201428638271, 24.832121237360457 60.25185770489485, 24.83220367522796 60.25160350163494, 24.83250802764389 60.25064971675246, 24.832663224546227 60.25016344857146, 24.832748483033225 60.24989624318965, 24.833423436025704 60.24778086571273, 24.83355285840982 60.247365630800104, 24.833684608818356 60.24694285935813, 24.83382991878668 60.24647669095017, 24.83433014800979 60.24486830436726, 24.834360005185545 60.24478355144103, 24.83481480987376 60.243380219818185, 24.834865846225128 60.24322281964436, 24.834904175982633 60.243057496355995, 24.834943671583087 60.24293309315837, 24.83505535802337 60.24257991700797, 24.835114869521398 60.24239168791988, 24.835180077821825 60.24222648766832, 24.83519825264004 60.24217713678416, 24.83527164983547 60.24196286938589, 24.83534435384278 60.241749839680686, 24.83539113645293 60.24161886642764, 24.835417669619613 60.24153702609663, 24.835490977622932 60.24131477037787, 24.835508689835496 60.241263875110015, 24.83557562521629 60.24106659884243, 24.83564104718505 60.2408721658513, 24.835667957031465 60.24077614485883, 24.835742139855718 60.2405190925876, 24.835821307673932 60.24026850869136, 24.835828256213563 60.240250781971305, 24.83586393067775 60.2401599056768, 24.83586703096915 60.24013196921033, 24.835869582606474 60.24010905826771, 24.83604306061535 60.23957136126899, 24.836195576114303 60.239098547961646, 24.836234697149816 60.238974915732236, 24.836686554720384 60.237547438202604, 24.836746486528824 60.23735807787585, 24.83693839099995 60.23676064418355, 24.835959735718376 60.23668549030089, 24.83628056772576 60.235562493608704, 24.836291092277374 60.23552598581941, 24.83635528768985 60.23530297324171, 24.83641909621436 60.23508136030678, 24.836482922236993 60.234859684528416, 24.836546894111564 60.23463754217305, 24.836621499459348 60.23437844332448, 24.83670409312275 60.234091557533986, 24.836773057450063 60.233852080774085, 24.836888706424638 60.23345037768317, 24.836991331500915 60.23309394819524, 24.837070168860343 60.23282439792986, 24.837082055625483 60.23278216544956, 24.837180840587 60.2324313406759, 24.83725100126351 60.23218212680227, 24.837250115758646 60.23216780102294, 24.837275128030658 60.23207718043472, 24.837364810840686 60.23175225623031, 24.83740362383513 60.23161163277171, 24.837454216316875 60.23142830992673, 24.83755203678317 60.23107382167784, 24.837572636869666 60.23099920768554, 24.837661137558026 60.23067857201457, 24.837679017621788 60.23061378270905, 24.83783701338867 60.23004124824263, 24.83784983962683 60.22999474454692, 24.837882382535813 60.22987681197655, 24.837963361923386 60.229583380204495, 24.838021316523285 60.229373337412206, 24.83811725016404 60.22902571250602, 24.83997139652639 60.22913594392677, 24.840077972505462 60.22868488923288, 24.840165722122777 60.22833429109269, 24.84018589643642 60.2282640112641, 24.84019395735274 60.22823177244287, 24.840250219341417 60.228006423592056, 24.840342330828104 60.22763756565953, 24.84038341729208 60.22748964700917, 24.840446083978666 60.22726403649372, 24.840521696978357 60.22689170304121, 24.840533232073074 60.22684621173422, 24.84061839165608 60.22650301478006, 24.8407175875323 60.22610413339855, 24.840753418994513 60.22596003180642, 24.84081400219549 60.225716413957116, 24.8408363249874 60.225626651031405, 24.840870142498908 60.22549206088566, 24.841006107320215 60.22496614987685, 24.84113361554375 60.22444932062818, 24.841138621539383 60.22442903328337, 24.84115739931903 60.22435184952877, 24.84117256892556 60.22428946185672, 24.84120798843454 60.22414390560046, 24.841485653607105 60.222989859750236, 24.841523088634915 60.222841074652905, 24.84163665054037 60.22238808796999, 24.841695576729123 60.222152365957605, 24.841795238093 60.22169259507121, 24.841835340645677 60.22148383053872, 24.841845193897832 60.22144587640245, 24.84187868761092 60.22131682334808, 24.841884619642048 60.22129886169463, 24.8419053394049 60.22121854770471, 24.841910429667628 60.221199292591415, 24.84235470034046 60.22133241451421, 24.84272187185365 60.22145626176486, 24.84306476098574 60.221587798110235, 24.843232171240476 60.22165607429051, 24.84340277769658 60.2217352680981, 24.84353657299023 60.22180817141774, 24.844359584381127 60.22226426306391, 24.84458959415264 60.222426924258436, 24.844631666498096 60.22245035439925, 24.84484803959963 60.22257083282162, 24.844908143513617 60.22260430048304, 24.84520868309057 60.222771611475046, 24.84545885739973 60.2228914461874, 24.84588439471151 60.22307200520849, 24.84604124150078 60.22315263362695, 24.84631396971159 60.22331993674984, 24.84642921289717 60.223400301106395, 24.84666556804372 60.22357968713927, 24.846893380264373 60.223730494249494, 24.847077868353068 60.22384350956781, 24.847211235870848 60.22391112215366, 24.84772532833628 60.224108614969246, 24.847811080111743 60.224141545282734, 24.848349203916 60.22435287633683, 24.848981100542606 60.22462058757508, 24.849149117524203 60.22468851586366, 24.84939532209968 60.22477141387454, 24.84972809132928 60.22484084768107, 24.849938889802875 60.224873900203576, 24.850147906860446 60.224902013920676, 24.850350235905566 60.22492487814508, 24.850563062195842 60.22494477405616, 24.850786575062347 60.22495973620837, 24.85099766157894 60.224969478312424, 24.85121855428076 60.22497341502978, 24.851375847001307 60.22497237960846, 24.851235621359347 60.22485048045001, 24.851203971001844 60.22482296235553, 24.851192148107 60.224811954259366, 24.8511661635034 60.22478842757705, 24.850642883558642 60.22430710039441, 24.850230019260344 60.22390224932583, 24.850052352100345 60.223727387784166, 24.84971651225379 60.22339684848665, 24.849612014198208 60.22329293879305, 24.849211971149376 60.22289517160608, 24.849144370307684 60.22282729473764, 24.848712576361695 60.22241158402064, 24.84836633600998 60.222084736194724, 24.847939641096758 60.221674737071524, 24.847865243283778 60.221595237599054, 24.847838068505975 60.2212806102497, 24.84782397559691 60.22111757417972, 24.847814661198417 60.22100961654579, 24.847623655601236 60.2205038408266, 24.84761707591406 60.220467680417826, 24.847728041413056 60.22009951182341, 24.84781395698432 60.21981452519729, 24.848019499802003 60.21938920179772, 24.84805381640558 60.218752931012304, 24.84808343329548 60.21859030396968, 24.84801226297862 60.2184736231994, 24.847693086328658 60.21795026131747, 24.847351701902543 60.21739046889007, 24.846826381454733 60.21652902481027, 24.84608532829726 60.21537482038619, 24.845939475736945 60.21331178239717, 24.84597055735867 60.21299181869704, 24.846295058842188 60.209650860692065, 24.846321263525525 60.20938111743053, 24.846361411734854 60.2089642116703, 24.84655603729923 60.20696563267565, 24.84658241481202 60.20665022259744, 24.846655561873096 60.20593872808481, 24.846664454669288 60.20579137117921, 24.846687975112662 60.205604763775355, 24.846698489291413 60.20549635302143, 24.84672338010654 60.205240098033045, 24.846732454608198 60.20514646810176, 24.8467377393429 60.20504570731704, 24.846751226788673 60.20495315055382, 24.8468005139265 60.20444570206063, 24.846838568252867 60.20405371814303, 24.846843796003512 60.203999898656726, 24.846868957093037 60.20373545832407, 24.846476256253958 60.20296653884594, 24.846431835770556 60.202879560583035, 24.846225674620214 60.202475939886135, 24.845943154161688 60.201922726752734, 24.844561760156605 60.19921749626644, 24.843966634359816 60.19805187823389, 24.843107487073258 60.19636907777619, 24.84293098515265 60.196023324183564, 24.842796869572528 60.1957606342455, 24.84283441312769 60.19513265060697, 24.84338627208538 60.18542532838625, 24.843636561128598 60.181021080576976, 24.84364991039386 60.18078673859795, 24.843722533149453 60.179428094977155, 24.84412004173417 60.17356546938355, 24.852988086787533 60.173356689331484, 24.85736644796522 60.173253399210815, 24.85710094648043 60.17189455343081, 24.863207458603338 60.17106393620243, 24.863191033785775 60.170607966388, 24.86303014017361 60.16887066440582, 24.87574560097195 60.16961159643726, 24.882226738374676 60.17211169123758, 24.898988450166158 60.18173975902799, 24.90547598865151 60.18546416578099, 24.90563884394068 60.18541135370329, 24.906478840833287 60.18523216211007, 24.907827600407128 60.18500311131081, 24.908187367688708 60.18492685439889, 24.908648688410413 60.18525202950406, 24.90869358347324 60.18528368084257, 24.909089849676192 60.185727787780706, 24.90934581329184 60.18598519862878, 24.909445286962704 60.186080477876615, 24.909787822624192 60.186389008122035, 24.910069250063316 60.18662479512379, 24.91037912059938 60.186867583622266, 24.910685980236835 60.18709253519712, 24.91086779743509 60.187218510880385, 24.911067160439174 60.1873549005919, 24.911539539822673 60.18765925890933, 24.911655953876465 60.18772583540236, 24.91198262726439 60.18792115132911, 24.912345749077495 60.1881161405004, 24.91268877370815 60.18829946534521, 24.912952649697555 60.188432116003725, 24.913215915859624 60.18856444261934, 24.913309250348384 60.188609596170224, 24.913590803379126 60.188745829321846, 24.91382264943402 60.188847339588506, 24.91406650829557 60.188946029976364, 24.91468061850063 60.189163164895945, 24.915163062674793 60.18930610277462, 24.915490579671744 60.1893907615992, 24.915756296766816 60.18945282514497, 24.916262367418472 60.1895652486302, 24.917121663525304 60.18962873305683, 24.9185837583697 60.189690581859075, 24.920145751758902 60.18975926014664, 24.921028938989625 60.18977182507458, 24.92110240088311 60.189811845303254, 24.92112726054729 60.18982526038697, 24.921151544373494 60.18983828918073, 24.921156908807653 60.189841155527844, 24.921166971633156 60.18984652880883, 24.921237682215484 60.189883998308346, 24.92129568469119 60.18991433374835, 24.921387388852988 60.18996158087756, 24.921477835115105 60.19000733727915, 24.921740490626558 60.19013572430167, 24.9218282983662 60.19017721558336, 24.921888398333813 60.190205209415446, 24.921962669238976 60.19023936869472, 24.921994178485463 60.19025372097085, 24.922022374976475 60.19026648264308, 24.922159218672086 60.19032749713051, 24.922293509590517 60.19038587120824, 24.922353723867968 60.190411585139906, 24.922406538043262 60.19043390200764, 24.922432414155853 60.1904447504712, 24.922532660571587 60.19048632036233, 24.922679675540643 60.19054590418501, 24.92288848215937 60.19062785462004, 24.923140161267664 60.190721802782534, 24.923279536776004 60.190773231833326, 24.923498866111917 60.19085038554418, 24.923733386904733 60.190929585047556, 24.923820346097408 60.19095810504258, 24.92386089023332 60.19097125038197, 24.92390676609963 60.19098601434292, 24.923953957177506 60.19100106625532, 24.92400129268653 60.19101603745494, 24.924043062759296 60.191029147539425, 24.924165906875764 60.19106711204053, 24.924280503324404 60.19110177774175, 24.92440960223895 60.19113996099763, 24.924007984982804 60.191840594537084, 24.923698603885217 60.19225546688033, 24.923436826377 60.19260646104039, 24.92341847963185 60.19262806323795, 24.923396457579525 60.19264879269508, 24.923370904778857 60.192668496911466, 24.923342037894308 60.19268702342835, 24.923310037498055 60.19270423771688, 24.922408767727646 60.19314778988563, 24.922387526034996 60.19315825176049, 24.92222968710105 60.193386996366144, 24.922573487659815 60.19426733520628, 24.922508726450836 60.19436267905622, 24.91788314348672 60.196570583564885, 24.91770650670811 60.197807778661385, 24.91704307295783 60.20245377837379, 24.91643556835531 60.20264105467827, 24.916167741786673 60.20320815777546, 24.91616139440216 60.203222361818554, 24.91615678482376 60.203233919217396, 24.916153370633605 60.20324340405481, 24.916147024618912 60.203264133212215, 24.91614595022777 60.2032682522406, 24.916144565378612 60.203273905865736, 24.916142412518212 60.20328374154069, 24.91613997889504 60.203297606991704, 24.916138342222602 60.20331008175982, 24.916136905097357 60.20332915357138, 24.91613673117521 60.20333371296345, 24.916136645374042 60.203339071221606, 24.91613666361866 60.20334605409254, 24.91613681053731 60.20335207667728, 24.916137956324768 60.20336944479617, 24.916140680311113 60.20339018866225, 24.916144080620377 60.2034073517721, 24.91614891984744 60.20342594287966, 24.91615727763486 60.20345069333376, 24.91616600624007 60.2034714589451, 24.916169862347864 60.20347960206767, 24.916174832273505 60.20348937941635, 24.916177721663566 60.203494775456136, 24.91618648244878 60.20351000326608, 24.91619125934227 60.20351769819992, 24.91621064378055 60.20354598294786, 24.916218155762067 60.203555950383866, 24.916220294524503 60.20355871615713, 24.9162236736985 60.20356297262974, 24.91622653172929 60.20356652869214, 24.91624098580514 60.20358367185343, 24.916252853414687 60.203596837279115, 24.916272492835272 60.203617089198055, 24.916304280125207 60.20364669216801, 24.91633384399347 60.20367138418553, 24.91638047691163 60.20370607657468, 24.916420927127156 60.20373280387449, 24.91646873036434 60.203761169314674, 24.916500747429755 60.20377852993991, 24.91653057030615 60.20379364532739, 24.916568050267596 60.203811368389594, 24.916594131512475 60.20382293612744, 24.916632481571277 60.20383889156525, 24.91665570200414 60.20384798925874, 24.916665826368654 60.20385182811411, 24.916677392149406 60.20385612561942, 24.91668522891207 60.203858984718075, 24.916691408307816 60.20386121449759, 24.916704992448818 60.20386600691492, 24.9167811113862 60.20389253211225, 24.91683920445007 60.203937966102444, 24.91682395513425 60.203942731452415, 24.916805764606284 60.2039482668401, 24.916788675333965 60.20395329131849, 24.916773408948846 60.203957670709855, 24.91673663366817 60.20396774495235, 24.91669955324996 60.20397725354303, 24.916667364011605 60.20398500601844, 24.916636619296515 60.2039919875097, 24.916599615119527 60.203999853622754, 24.916505328318312 60.20401955813134, 24.91645982512791 60.2040296806554, 24.916408133298283 60.20404119045054, 24.916380673777294 60.20404682764319, 24.9163458512701 60.20405473993771, 24.91632158378571 60.20406024450021, 24.916259533841366 60.2040746826575, 24.91620325578326 60.204088496154355, 24.916091097290433 60.20411571045968, 24.915981929845845 60.20414376127657, 24.91581546578453 60.204188837881844, 24.916425136385236 60.204772058701714, 24.915355263251563 60.205049114965675, 24.914534166141994 60.2056410453379, 24.913630286553918 60.205875094670226, 24.90951420339978 60.20830334511821, 24.90856544294947 60.208203794741294, 24.907539721093784 60.20862183968398, 24.910562516957214 60.21280366062352, 24.910792186704416 60.21312135540449, 24.914637734834997 60.218439644477286, 24.913687824289166 60.21958716911857, 24.908007751580758 60.22644709787969, 24.9069940385631 60.22767103519462, 24.906826056849713 60.2278738414046, 24.90250917120559 60.23256865173941, 24.902077993914705 60.23250577607037, 24.90178094594818 60.232462474855666, 24.899444367691952 60.23500282491801, 24.90081401669316 60.23526157385268, 24.90343823872113 60.23584700571131, 24.905125077688783 60.236266662133076, 24.906796791759636 60.23683454133697, 24.909596321996716 60.23765488605963, 24.911802662174214 60.238308815562064, 24.91429760089161 60.23861958780611, 24.914254885336522 60.23874630113461, 24.914196196374974 60.23892040294348, 24.913392501584397 60.23947026737153, 24.913703901682908 60.24038059740036, 24.913417304677633 60.24051023020598, 24.913402719024408 60.24051682654755, 24.913364653822185 60.24053460879957, 24.91332358465926 60.24055512656019, 24.913303120880713 60.24056591053979, 24.91329702851223 60.24056920948856, 24.91328222210071 60.24057734943238, 24.913262135709793 60.24058877090183, 24.913230475949064 60.240607688194174, 24.913197727880576 60.24062854344232, 24.91318562946564 60.24063661334324, 24.913177256083088 60.240642325163115, 24.91316750786564 60.240649113124874, 24.913156529349468 60.24065693244596, 24.913142837099667 60.240666966901316, 24.913135800720482 60.240672248776704, 24.91313042829705 60.24067634699477, 24.913128402292806 60.240677907379364, 24.913125019529893 60.240680534942335, 24.913120822720643 60.24068379922208, 24.913115902150455 60.24068769130233, 24.91311065580379 60.240691897306256, 24.913082449393485 60.24071554683134, 24.913066398937616 60.240729860975264, 24.91305248215243 60.2407428571387, 24.91304757742962 60.240747574958675, 24.913043903268875 60.24075116269081, 24.913038165561947 60.24075684930227, 24.91303003814911 60.2407650923218, 24.913023883279934 60.24077151463778, 24.913018669444295 60.240777066961435, 24.913011807764374 60.24078452995397, 24.913005434354687 60.24079167015365, 24.912998462973672 60.24079965364374, 24.91299690560604 60.24080148359384, 24.91299643474237 60.24080204873207, 24.91299192549131 60.24080739508346, 24.912980605655154 60.240821353303474, 24.912968142336595 60.24083763538767, 24.912956074613174 60.24085450112765, 24.912944837293086 60.240871367411025, 24.912931438350537 60.24089326744527, 24.912918141155128 60.240917635765214, 24.91290948325999 60.24093527561734, 24.912904634736915 60.24094600695117, 24.91290131046384 60.24095378639579, 24.912899202620142 60.24095896378789, 24.91281780223061 60.24122441905776, 24.912767218560493 60.24137377149253, 24.912755736971558 60.24140771768206, 24.91273672243503 60.241463863925254, 24.912713133732282 60.241542894290156, 24.912559943772568 60.242021224279426, 24.912521775789116 60.242130904779714, 24.912996613792306 60.24248431587556, 24.912977059162994 60.24254661887657, 24.912947954663355 60.242635949349946, 24.9128022066998 60.24308502479882, 24.91265593393817 60.243539843933306, 24.912628144286835 60.24362967780818, 24.912546535913474 60.24389533910401, 24.91244036048865 60.24417895277439, 24.912423475722058 60.24425482815729, 24.912325963038533 60.24454565463558, 24.912222086238607 60.24483914249898, 24.91171127785491 60.2463300386787, 24.90601439232451 60.25541693880288, 24.905645745025137 60.25635058710976, 24.904584040602124 60.25903917692755, 24.903222032806955 60.26074084587162, 24.90136113420384 60.26307578837212, 24.90060161974955 60.264850997559755, 24.89864483528063 60.26635599840139, 24.89791339051239 60.267185888082764, 24.89844207497082 60.26818670861505, 24.89885287964538 60.26857254760599, 24.899275791333345 60.268937544834145, 24.898549151552228 60.268797039802116, 24.898147202161997 60.26873055722104, 24.897785883151204 60.26867754073566, 24.897523908379824 60.2686514630552, 24.897009023917466 60.26861278511469, 24.89611832083089 60.26855428150489, 24.89534688306325 60.26851374476413, 24.894967463509804 60.26850694714972, 24.894319628140096 60.26850052753082, 24.893213859497163 60.268523687995064, 24.892824002351436 60.26853185566141, 24.89279868298232 60.26842885249846, 24.892792870389883 60.268405161958306, 24.892772596935316 60.26832277017792, 24.892690706819447 60.26798840057893, 24.892526670486614 60.267360723028546, 24.892477811529055 60.26715307550252, 24.89140644071724 60.266393888522686, 24.889908824785053 60.265743749262114, 24.889852306348615 60.26571901130729, 24.88966512391747 60.26563795243968, 24.889156620578923 60.26541719398889, 24.888707398181413 60.26523376673495, 24.888206018140714 60.26501516466892, 24.88779216909657 60.26483471695178, 24.885840021890107 60.26398348557571, 24.885781867782644 60.26395812517567, 24.885672734318717 60.26391184428287, 24.88512630384448 60.26368817453172, 24.885015225997233 60.26364051818996, 24.884970924809103 60.26362151497675, 24.88464196854141 60.26348037995963, 24.88457385799769 60.26345115099153, 24.880481458451285 60.2616901811162, 24.88017982690234 60.26156127498566, 24.879570188750407 60.26130008015483, 24.8789424468276 60.26103280766395, 24.878898733072134 60.26101316570092, 24.878830127293572 60.260983852540534, 24.878086919353343 60.26066752813656, 24.87763951936679 60.2604750716356, 24.87763056784777 60.26047295418613, 24.877522161960613 60.26042666722771, 24.87741334135171 60.26037543439315, 24.877385322815844 60.26036640627537, 24.87725305912138 60.26030964978724, 24.87722411261521 60.260273506318725, 24.877024563398226 60.26002430126734, 24.876915288171148 60.259887828926125, 24.87683544487765 60.25978810185176, 24.876720256256558 60.259644255116534, 24.876083456161243 60.25884895106126, 24.876051494038983 60.25880849635614, 24.8758328840724 60.25853193280554, 24.8756312650477 60.25827684480585, 24.875592796734637 60.25822817146684, 24.875544819305315 60.25816748021476, 24.8755108091891 60.25812445651105, 24.87535596423598 60.257915105315966, 24.875069494848535 60.25754716174741, 24.87487886981703 60.25729666032062, 24.874713046153243 60.25708395917674, 24.874621777208556 60.25696697832998, 24.874406050076736 60.25668914953807, 24.874150936421344 60.25635926203848, 24.874137656054142 60.25634186423444, 24.874058872885563 60.25623860015037, 24.873630682102707 60.2556902762519, 24.873563323194524 60.25560399508718, 24.873259292243834 60.255215513124256, 24.87289124124958 60.25474876708618, 24.872416751529844 60.254143751458265, 24.871271573543574 60.25386818044997, 24.87070054170912 60.25373120052967, 24.870296123129183 60.25363303777347, 24.870067437820246 60.25357752612507, 24.86913102012296 60.25335417972315, 24.869078408937327 60.25334162521597, 24.8689063222029 60.25330058174669, 24.86876483539524 60.25326683832345, 24.867875246632554 60.25237962359275, 24.867698612695815 60.25245570218532, 24.867630602360162 60.25250501671253, 24.86760712365093 60.2525413164971, 24.867608625614576 60.25261661210411, 24.86759417039621 60.25265885358085, 24.867590094980105 60.25267080466678, 24.86747405250685 60.252821519447316, 24.86745113150229 60.25284484142141, 24.86728426391712 60.253014685583146, 24.867137612172872 60.25314660203604, 24.86706217850071 60.25318222145132, 24.866828900883974 60.2532368629068, 24.866623530512978 60.25328108469517, 24.866487843778113 60.253287123364075, 24.866087080998284 60.253284350305236, 24.865921214801652 60.25327764887786, 24.865753890618453 60.25328743346377, 24.8656201311243 60.25330348967095, 24.865530706393674 60.25332418602145, 24.86542678111509 60.253370976872404, 24.86520521954462 60.253496038869734, 24.865079917616246 60.253545554199604, 24.864867267438772 60.25360670233624, 24.864630341531843 60.25369478729809, 24.86451481469875 60.25375148335357, 24.86443508387552 60.25382514334402, 24.864309245697694 60.25391638373868, 24.863892731012044 60.25373864967375, 24.863341352698203 60.253504437370474, 24.863017201549937 60.25336628705429, 24.862982154631407 60.25335177367447, 24.86264390753018 60.25320802523515, 24.862492929481707 60.25314385685992, 24.86205403118048 60.253187434627094, 24.861935801451775 60.25319916816856, 24.85904967951172 60.25348565336585, 24.85882822952227 60.25350763207238, 24.857814853093124 60.2536082054908, 24.857649330000378 60.25365560641312, 24.857482703432126 60.25370332008158, 24.857338787582172 60.25374453287214, 24.85692566262253 60.25386284107342, 24.856615080122953 60.253951774772084, 24.85522832384617 60.254348864830526, 24.84503207595225 60.25726776866123, 24.84254010651591 60.257980952323955, 24.838641661957677 60.259096502177506, 24.837712984251617 60.25910153658366, 24.836844100104383 60.25902901029603, 24.83598509210144 60.25888222858949, 24.835464679616678 60.25877344997437, 24.834733975754016 60.258498758963775, 24.834707680445288 60.25839776267428, 24.833685006301476 60.254667447646135, 24.83234062829296 60.25430653686624, 24.831402979891735 60.254055700474176))\",\n          \"POLYGON ((24.848089056416338 60.027558448952526, 24.85113221286391 60.02417434855244, 24.94228891736313 59.922490720242294, 25.158552989909857 59.942449739938276, 25.176785280062145 60.09349422587455, 25.194217593815285 60.14665643685876, 25.198054986041907 60.15450418579231, 25.219538049768516 60.197974710167124, 25.20125509359064 60.20059532249244, 25.18019870507888 60.18199595222598, 25.166140340684915 60.16956439580618, 25.160533413738058 60.16460324409783, 25.15754963143592 60.16557795153845, 25.14617395079787 60.165130678866376, 25.125742701140663 60.16509839439104, 25.123361724292206 60.165094429807155, 25.106193605617584 60.167634405476825, 25.11135154941198 60.17185447594539, 25.112564841600538 60.176026268681476, 25.101131327326055 60.18081306228107, 25.08718254309985 60.18664969733566, 25.087491286014806 60.18960130281216, 25.089074901901398 60.191574759206226, 25.08310303837949 60.19447496540539, 25.076123781213926 60.19349065732458, 25.076483329721242 60.19404491537846, 25.074309657229094 60.197746415171444, 25.072951128687436 60.197583852907854, 25.07248051138123 60.19812603684267, 25.070355167139393 60.20057433351654, 25.069947210802802 60.20215846485078, 25.06982492480278 60.20275354427555, 25.064318540008387 60.20240205172432, 25.064332850034415 60.207741048529925, 25.063857663807955 60.20771348133993, 25.060850513871067 60.207538788692645, 25.056680802703035 60.20748658603013, 25.05620039479667 60.207500082976914, 25.055817781347 60.20751082650364, 25.05564363327119 60.20751571944907, 25.05556042736013 60.20751805202367, 25.054860498243315 60.207537703240526, 25.05475274880836 60.20754073656115, 25.054558457104267 60.20754618389316, 25.053626981598942 60.20776252952228, 25.05362227484244 60.20776265708036, 25.053621301032234 60.20776268440013, 25.053581104283825 60.20776379563928, 25.053553585188702 60.207764605561096, 25.05352651697992 60.20776543324605, 25.05352393820125 60.20776551506504, 25.05340217702284 60.20776966588916, 25.05324528847917 60.20777602967555, 25.053142644677735 60.20778081881487, 25.05302110328237 60.20778712329443, 25.05288365818487 60.20779507649966, 25.05282452945546 60.20779877996729, 25.052689629020477 60.207807925684804, 25.052577251781482 60.207816030170584, 25.0524771376004 60.207823968153654, 25.052309494228126 60.20783795519206, 25.052189402681808 60.20784896144137, 25.051914440074512 60.2078767314775, 25.05175241135401 60.20789481736684, 25.05162293058996 60.20791035036148, 25.05143290330815 60.20793434358303, 25.0512382988209 60.20796078858119, 25.051052369139235 60.20798757999571, 25.050916331129205 60.20800827567186, 25.050831427215606 60.20802150205272, 25.050747118745928 60.208034970486956, 25.05067180766134 60.208047295556796, 25.050538422969773 60.2080697669584, 25.050456766652477 60.2080840958348, 25.0503784278452 60.208097920779295, 25.050269601647862 60.20811768099001, 25.050100125690463 60.20814964363172, 25.049918031179182 60.208185542025454, 25.04976254935497 60.20821748999346, 25.049398244022512 60.20829714808578, 25.04861811636286 60.20848997630118, 25.047141507812366 60.209071189849574, 25.046031097769976 60.20968257021891, 25.045240850122287 60.210553912152555, 25.045114037739722 60.2108807311238, 25.0450598987238 60.21134480378303, 25.04513755753492 60.21185273918344, 25.045158779823222 60.21242514593913, 25.045169587486313 60.21269009552686, 25.045042340973435 60.2133777247771, 25.045009680936882 60.213803186835825, 25.044985372162294 60.214532004868225, 25.044818102615537 60.21493994756133, 25.044517100561347 60.21567409120217, 25.044394040317968 60.21604757992585, 25.044088967929405 60.216693702317805, 25.04372336257135 60.21807302430077, 25.04353101301695 60.21873468925947, 25.043331455923898 60.218998648493894, 25.043273592588257 60.21907518242983, 25.043220141262385 60.2191458898858, 25.043176648851812 60.21920341823239, 25.043044598690237 60.21929152748954, 25.0429675240395 60.21934295442753, 25.042267748017004 60.21892620132644, 25.04012982017453 60.217666929123766, 25.03938274182383 60.21723330130948, 25.032577650907317 60.21323469532326, 25.028833564035253 60.21103323660954, 25.02872852124556 60.211094758721124, 25.02823559541908 60.21120294610525, 25.01880695466492 60.21390952817831, 25.00680416172254 60.20489977750653, 24.99797287636225 60.19826682326476, 24.996080956643933 60.196120825251995, 24.99206348132834 60.19156282690795, 24.98960239350217 60.18876990383931, 24.987467788001823 60.18634706643926, 24.987211457695704 60.186055843558464, 24.98709699357892 60.18592723270047, 24.98702907935302 60.185850908105856, 24.986837257947393 60.18569523752298, 24.986247849623844 60.18519943847656, 24.9826935844368 60.18223574248997, 24.97852713423728 60.17876078234716, 24.97682044842576 60.17499731285241, 24.97697732484956 60.17454847882722, 24.978598407214875 60.169909841444515, 24.979066207319093 60.16857099596367, 25.003233181494945 60.16855813218185, 25.003510905219052 60.16722155626731, 25.00398002814364 60.16496377016225, 25.00439277068605 60.16297703305776, 25.004475885554225 60.162576985576464, 25.00519514390504 60.15898638405462, 25.018310395650207 60.15836569023924, 25.02042550452438 60.15826544841096, 25.02222588126858 60.15818009830922, 25.022190451449802 60.146703323822784, 25.02217292968342 60.14102372739057, 25.02800381599424 60.13760847592707, 25.029453362090678 60.11881280886555, 25.010358349342788 60.1175616032968, 25.008044686714403 60.117409799715446, 25.007853884723172 60.116503284583416, 24.98858974027886 60.08585993909255, 24.969150485571575 60.05372705601912, 24.902994508083918 60.03859075024049, 24.89168659507102 60.035998792434725, 24.868852480589588 60.03149836192683, 24.848089056416338 60.027558448952526))\",\n          \"POLYGON ((24.782804440033665 60.099960960186884, 24.804369815565245 60.07606908659717, 24.848089056416338 60.027558448952526, 24.868852480589588 60.03149836192683, 24.89168659507102 60.035998792434725, 24.902994508083918 60.03859075024049, 24.969150485571575 60.05372705601912, 24.98858974027886 60.08585993909255, 25.007853884723172 60.116503284583416, 25.008044686714403 60.117409799715446, 25.010358349342788 60.1175616032968, 25.029453362090678 60.11881280886555, 25.02800381599424 60.13760847592707, 25.02217292968342 60.14102372739057, 25.022190451449802 60.146703323822784, 25.02222588126858 60.15818009830922, 25.02042550452438 60.15826544841096, 25.018310395650207 60.15836569023924, 25.00519514390504 60.15898638405462, 25.004475885554225 60.162576985576464, 25.00439277068605 60.16297703305776, 25.00398002814364 60.16496377016225, 25.003510905219052 60.16722155626731, 25.003233181494945 60.16855813218185, 24.979066207319093 60.16857099596367, 24.978598407214875 60.169909841444515, 24.97697732484956 60.17454847882722, 24.97682044842576 60.17499731285241, 24.966485828951434 60.17627903848444, 24.958122095833193 60.17731562918986, 24.954853757907777 60.17722936171828, 24.953658226118897 60.17719778651557, 24.953341025475236 60.17709685425212, 24.951135046042026 60.17639509632375, 24.95037523159584 60.17637997769814, 24.94935134882857 60.17635959322149, 24.943442754466247 60.1777339724733, 24.94351621572865 60.179726477136036, 24.938693333471686 60.17990765782765, 24.93501646667136 60.180045663022646, 24.93345409354387 60.18316538320864, 24.935982572927443 60.18512386245324, 24.936248231398938 60.18516252192693, 24.93264668002782 60.192778006055036, 24.93115946400743 60.19253131613922, 24.930438399612516 60.19242366576594, 24.929735357382473 60.19231152433759, 24.929283670234483 60.19222529083186, 24.928419420631503 60.192060298890055, 24.926373462495103 60.1916340763278, 24.92576958979728 60.19149049209959, 24.925494683976005 60.191426881767285, 24.925320888540302 60.19138483293092, 24.925235082113684 60.19136354875544, 24.92514769130676 60.19134150071994, 24.92502528096881 60.19130998172256, 24.924969003470935 60.191295248166625, 24.924915500605987 60.19128109058419, 24.92487669776119 60.19127072893266, 24.92487093319861 60.191269181895926, 24.924860647080767 60.19126641164089, 24.92485133369374 60.19126392017408, 24.92481517924994 60.191254152382534, 24.924746725860697 60.191235480597406, 24.924615477265924 60.19119900177708, 24.924428624132247 60.191145509669, 24.92440960223895 60.19113996099763, 24.924280503324404 60.19110177774175, 24.924165906875764 60.19106711204053, 24.924043062759296 60.191029147539425, 24.92400129268653 60.19101603745494, 24.923953957177506 60.19100106625532, 24.92390676609963 60.19098601434292, 24.92386089023332 60.19097125038197, 24.923820346097408 60.19095810504258, 24.923733386904733 60.190929585047556, 24.923498866111917 60.19085038554418, 24.923279536776004 60.190773231833326, 24.923140161267664 60.190721802782534, 24.92288848215937 60.19062785462004, 24.922679675540643 60.19054590418501, 24.922532660571587 60.19048632036233, 24.922432414155853 60.1904447504712, 24.922406538043262 60.19043390200764, 24.922353723867968 60.190411585139906, 24.922293509590517 60.19038587120824, 24.922159218672086 60.19032749713051, 24.922022374976475 60.19026648264308, 24.921994178485463 60.19025372097085, 24.921962669238976 60.19023936869472, 24.921888398333813 60.190205209415446, 24.9218282983662 60.19017721558336, 24.921740490626558 60.19013572430167, 24.921477835115105 60.19000733727915, 24.921387388852988 60.18996158087756, 24.92129568469119 60.18991433374835, 24.921237682215484 60.189883998308346, 24.921166971633156 60.18984652880883, 24.921156908807653 60.189841155527844, 24.921151544373494 60.18983828918073, 24.92112726054729 60.18982526038697, 24.92110240088311 60.189811845303254, 24.921028938989625 60.18977182507458, 24.920145751758902 60.18975926014664, 24.9185837583697 60.189690581859075, 24.917121663525304 60.18962873305683, 24.916262367418472 60.1895652486302, 24.915756296766816 60.18945282514497, 24.915490579671744 60.1893907615992, 24.915163062674793 60.18930610277462, 24.91468061850063 60.189163164895945, 24.91406650829557 60.188946029976364, 24.91382264943402 60.188847339588506, 24.913590803379126 60.188745829321846, 24.913309250348384 60.188609596170224, 24.913215915859624 60.18856444261934, 24.912952649697555 60.188432116003725, 24.91268877370815 60.18829946534521, 24.912345749077495 60.1881161405004, 24.91198262726439 60.18792115132911, 24.911655953876465 60.18772583540236, 24.911539539822673 60.18765925890933, 24.911067160439174 60.1873549005919, 24.91086779743509 60.187218510880385, 24.910685980236835 60.18709253519712, 24.91037912059938 60.186867583622266, 24.910069250063316 60.18662479512379, 24.909787822624192 60.186389008122035, 24.909445286962704 60.186080477876615, 24.90934581329184 60.18598519862878, 24.909089849676192 60.185727787780706, 24.90869358347324 60.18528368084257, 24.908648688410413 60.18525202950406, 24.908187367688708 60.18492685439889, 24.907827600407128 60.18500311131081, 24.906478840833287 60.18523216211007, 24.90563884394068 60.18541135370329, 24.90547598865151 60.18546416578099, 24.898988450166158 60.18173975902799, 24.882226738374676 60.17211169123758, 24.87574560097195 60.16961159643726, 24.86303014017361 60.16887066440582, 24.863191033785775 60.170607966388, 24.863207458603338 60.17106393620243, 24.85710094648043 60.17189455343081, 24.85736644796522 60.173253399210815, 24.84412004173417 60.17356546938355, 24.844139624266752 60.17327651880778, 24.84414063412851 60.17325348898883, 24.844145844033154 60.17313485760675, 24.844165906146923 60.1725429322355, 24.84417348520819 60.17231960497923, 24.84423518144051 60.17050535246985, 24.844390613359348 60.1660198796661, 24.84440543423219 60.16571943454498, 24.84441208644494 60.165584801464504, 24.844348700721454 60.1654218942266, 24.844279817024812 60.165244862093616, 24.843179172168064 60.16258099313452, 24.841748805495428 60.159015933365076, 24.84134058815428 60.1580110631055, 24.840941773745733 60.157029251717205, 24.8409162008017 60.15518893456426, 24.8408589734753 60.15106956088788, 24.83943511750619 60.15026271543484, 24.839378144747013 60.149962407493696, 24.839143518524935 60.148671636697394, 24.838272037879992 60.144162753395705, 24.838022242634864 60.14284071719574, 24.836827871611682 60.136518382688116, 24.835671388701385 60.13041443420454, 24.782804440033665 60.099960960186884))\"\n        ],\n        \"semantic_type\": \"\",\n        \"description\": \"\"\n      }\n    }\n  ]\n}"
            }
          },
          "metadata": {},
          "execution_count": 11
        }
      ],
      "source": [
        "#import os\n",
        "#os.environ['USE_PYGEOS'] = '0'\n",
        "import geopandas\n",
        "\n",
        "city_districts = geopandas.read_file(\n",
        "    DATA_DIRECTORY / \"helsinki_city_districts_2021.gpkg\"\n",
        ")\n",
        "city_districts.head()"
      ]
    },
    {
      "cell_type": "code",
      "execution_count": 12,
      "id": "cf82f74b",
      "metadata": {
        "colab": {
          "base_uri": "https://localhost:8080/",
          "height": 447
        },
        "id": "cf82f74b",
        "outputId": "da7737a9-3bee-49aa-ec43-9b20f644eabf"
      },
      "outputs": [
        {
          "output_type": "execute_result",
          "data": {
            "text/plain": [
              "<Axes: >"
            ]
          },
          "metadata": {},
          "execution_count": 12
        },
        {
          "output_type": "display_data",
          "data": {
            "text/plain": [
              "<Figure size 640x480 with 1 Axes>"
            ],
            "image/png": "[encoded data removed]"
          },
          "metadata": {}
        }
      ],
      "source": [
        "city_districts.plot()"
      ]
    },
    {
      "cell_type": "markdown",
      "id": "f747d4b0",
      "metadata": {
        "id": "f747d4b0"
      },
      "source": [
        "Specifically, we want to find out which points are within the ‘Eteläinen’\n",
        "(‘southern’) city district. Let’s start by obtaining a separate data set for\n",
        "this district, loading the addresses data, and plotting a multi-layer map\n",
        "that shows all districts, the ‘Eteläinen’ district, and all the points in\n",
        "one map:"
      ]
    },
    {
      "cell_type": "code",
      "execution_count": 13,
      "id": "ae182e43",
      "metadata": {
        "colab": {
          "base_uri": "https://localhost:8080/",
          "height": 89
        },
        "id": "ae182e43",
        "outputId": "713711d7-988d-4445-82d6-7b3ddfb4585d"
      },
      "outputs": [
        {
          "output_type": "execute_result",
          "data": {
            "text/plain": [
              "        name                                           geometry\n",
              "0  Eteläinen  POLYGON ((24.78280 60.09996, 24.80437 60.07607..."
            ],
            "text/html": [
              "\n",
              "  <div id=\"df-67eccb07-0785-4be7-9631-8d5031cd0af9\" class=\"colab-df-container\">\n",
              "    <div>\n",
              "<style scoped>\n",
              "    .dataframe tbody tr th:only-of-type {\n",
              "        vertical-align: middle;\n",
              "    }\n",
              "\n",
              "    .dataframe tbody tr th {\n",
              "        vertical-align: top;\n",
              "    }\n",
              "\n",
              "    .dataframe thead th {\n",
              "        text-align: right;\n",
              "    }\n",
              "</style>\n",
              "<table border=\"1\" class=\"dataframe\">\n",
              "  <thead>\n",
              "    <tr style=\"text-align: right;\">\n",
              "      <th></th>\n",
              "      <th>name</th>\n",
              "      <th>geometry</th>\n",
              "    </tr>\n",
              "  </thead>\n",
              "  <tbody>\n",
              "    <tr>\n",
              "      <th>0</th>\n",
              "      <td>Eteläinen</td>\n",
              "      <td>POLYGON ((24.78280 60.09996, 24.80437 60.07607...</td>\n",
              "    </tr>\n",
              "  </tbody>\n",
              "</table>\n",
              "</div>\n",
              "    <div class=\"colab-df-buttons\">\n",
              "\n",
              "  <div class=\"colab-df-container\">\n",
              "    <button class=\"colab-df-convert\" onclick=\"convertToInteractive('df-67eccb07-0785-4be7-9631-8d5031cd0af9')\"\n",
              "            title=\"Convert this dataframe to an interactive table.\"\n",
              "            style=\"display:none;\">\n",
              "\n",
              "  <svg xmlns=\"http://www.w3.org/2000/svg\" height=\"24px\" viewBox=\"0 -960 960 960\">\n",
              "    <path d=\"M120-120v-720h720v720H120Zm60-500h600v-160H180v160Zm220 220h160v-160H400v160Zm0 220h160v-160H400v160ZM180-400h160v-160H180v160Zm440 0h160v-160H620v160ZM180-180h160v-160H180v160Zm440 0h160v-160H620v160Z\"/>\n",
              "  </svg>\n",
              "    </button>\n",
              "\n",
              "  <style>\n",
              "    .colab-df-container {\n",
              "      display:flex;\n",
              "      gap: 12px;\n",
              "    }\n",
              "\n",
              "    .colab-df-convert {\n",
              "      background-color: #E8F0FE;\n",
              "      border: none;\n",
              "      border-radius: 50%;\n",
              "      cursor: pointer;\n",
              "      display: none;\n",
              "      fill: #1967D2;\n",
              "      height: 32px;\n",
              "      padding: 0 0 0 0;\n",
              "      width: 32px;\n",
              "    }\n",
              "\n",
              "    .colab-df-convert:hover {\n",
              "      background-color: #E2EBFA;\n",
              "      box-shadow: 0px 1px 2px rgba(60, 64, 67, 0.3), 0px 1px 3px 1px rgba(60, 64, 67, 0.15);\n",
              "      fill: #174EA6;\n",
              "    }\n",
              "\n",
              "    .colab-df-buttons div {\n",
              "      margin-bottom: 4px;\n",
              "    }\n",
              "\n",
              "    [theme=dark] .colab-df-convert {\n",
              "      background-color: #3B4455;\n",
              "      fill: #D2E3FC;\n",
              "    }\n",
              "\n",
              "    [theme=dark] .colab-df-convert:hover {\n",
              "      background-color: #434B5C;\n",
              "      box-shadow: 0px 1px 3px 1px rgba(0, 0, 0, 0.15);\n",
              "      filter: drop-shadow(0px 1px 2px rgba(0, 0, 0, 0.3));\n",
              "      fill: #FFFFFF;\n",
              "    }\n",
              "  </style>\n",
              "\n",
              "    <script>\n",
              "      const buttonEl =\n",
              "        document.querySelector('#df-67eccb07-0785-4be7-9631-8d5031cd0af9 button.colab-df-convert');\n",
              "      buttonEl.style.display =\n",
              "        google.colab.kernel.accessAllowed ? 'block' : 'none';\n",
              "\n",
              "      async function convertToInteractive(key) {\n",
              "        const element = document.querySelector('#df-67eccb07-0785-4be7-9631-8d5031cd0af9');\n",
              "        const dataTable =\n",
              "          await google.colab.kernel.invokeFunction('convertToInteractive',\n",
              "                                                    [key], {});\n",
              "        if (!dataTable) return;\n",
              "\n",
              "        const docLinkHtml = 'Like what you see? Visit the ' +\n",
              "          '<a target=\"_blank\" href=https://colab.research.google.com/notebooks/data_table.ipynb>data table notebook</a>'\n",
              "          + ' to learn more about interactive tables.';\n",
              "        element.innerHTML = '';\n",
              "        dataTable['output_type'] = 'display_data';\n",
              "        await google.colab.output.renderOutput(dataTable, element);\n",
              "        const docLink = document.createElement('div');\n",
              "        docLink.innerHTML = docLinkHtml;\n",
              "        element.appendChild(docLink);\n",
              "      }\n",
              "    </script>\n",
              "  </div>\n",
              "\n",
              "\n",
              "  <div id=\"id_373664ae-5b7e-4d79-a3ee-a4cd42745cc2\">\n",
              "    <style>\n",
              "      .colab-df-generate {\n",
              "        background-color: #E8F0FE;\n",
              "        border: none;\n",
              "        border-radius: 50%;\n",
              "        cursor: pointer;\n",
              "        display: none;\n",
              "        fill: #1967D2;\n",
              "        height: 32px;\n",
              "        padding: 0 0 0 0;\n",
              "        width: 32px;\n",
              "      }\n",
              "\n",
              "      .colab-df-generate:hover {\n",
              "        background-color: #E2EBFA;\n",
              "        box-shadow: 0px 1px 2px rgba(60, 64, 67, 0.3), 0px 1px 3px 1px rgba(60, 64, 67, 0.15);\n",
              "        fill: #174EA6;\n",
              "      }\n",
              "\n",
              "      [theme=dark] .colab-df-generate {\n",
              "        background-color: #3B4455;\n",
              "        fill: #D2E3FC;\n",
              "      }\n",
              "\n",
              "      [theme=dark] .colab-df-generate:hover {\n",
              "        background-color: #434B5C;\n",
              "        box-shadow: 0px 1px 3px 1px rgba(0, 0, 0, 0.15);\n",
              "        filter: drop-shadow(0px 1px 2px rgba(0, 0, 0, 0.3));\n",
              "        fill: #FFFFFF;\n",
              "      }\n",
              "    </style>\n",
              "    <button class=\"colab-df-generate\" onclick=\"generateWithVariable('southern_district')\"\n",
              "            title=\"Generate code using this dataframe.\"\n",
              "            style=\"display:none;\">\n",
              "\n",
              "  <svg xmlns=\"http://www.w3.org/2000/svg\" height=\"24px\"viewBox=\"0 0 24 24\"\n",
              "       width=\"24px\">\n",
              "    <path d=\"M7,19H8.4L18.45,9,17,7.55,7,17.6ZM5,21V16.75L18.45,3.32a2,2,0,0,1,2.83,0l1.4,1.43a1.91,1.91,0,0,1,.58,1.4,1.91,1.91,0,0,1-.58,1.4L9.25,21ZM18.45,9,17,7.55Zm-12,3A5.31,5.31,0,0,0,4.9,8.1,5.31,5.31,0,0,0,1,6.5,5.31,5.31,0,0,0,4.9,4.9,5.31,5.31,0,0,0,6.5,1,5.31,5.31,0,0,0,8.1,4.9,5.31,5.31,0,0,0,12,6.5,5.46,5.46,0,0,0,6.5,12Z\"/>\n",
              "  </svg>\n",
              "    </button>\n",
              "    <script>\n",
              "      (() => {\n",
              "      const buttonEl =\n",
              "        document.querySelector('#id_373664ae-5b7e-4d79-a3ee-a4cd42745cc2 button.colab-df-generate');\n",
              "      buttonEl.style.display =\n",
              "        google.colab.kernel.accessAllowed ? 'block' : 'none';\n",
              "\n",
              "      buttonEl.onclick = () => {\n",
              "        google.colab.notebook.generateWithVariable('southern_district');\n",
              "      }\n",
              "      })();\n",
              "    </script>\n",
              "  </div>\n",
              "\n",
              "    </div>\n",
              "  </div>\n"
            ],
            "application/vnd.google.colaboratory.intrinsic+json": {
              "type": "dataframe",
              "variable_name": "southern_district",
              "summary": "{\n  \"name\": \"southern_district\",\n  \"rows\": 1,\n  \"fields\": [\n    {\n      \"column\": \"name\",\n      \"properties\": {\n        \"dtype\": \"string\",\n        \"num_unique_values\": 1,\n        \"samples\": [\n          \"Etel\\u00e4inen\"\n        ],\n        \"semantic_type\": \"\",\n        \"description\": \"\"\n      }\n    },\n    {\n      \"column\": \"geometry\",\n      \"properties\": {\n        \"dtype\": \"geometry\",\n        \"num_unique_values\": 1,\n        \"samples\": [\n          \"POLYGON ((24.782804440033665 60.099960960186884, 24.804369815565245 60.07606908659717, 24.848089056416338 60.027558448952526, 24.868852480589588 60.03149836192683, 24.89168659507102 60.035998792434725, 24.902994508083918 60.03859075024049, 24.969150485571575 60.05372705601912, 24.98858974027886 60.08585993909255, 25.007853884723172 60.116503284583416, 25.008044686714403 60.117409799715446, 25.010358349342788 60.1175616032968, 25.029453362090678 60.11881280886555, 25.02800381599424 60.13760847592707, 25.02217292968342 60.14102372739057, 25.022190451449802 60.146703323822784, 25.02222588126858 60.15818009830922, 25.02042550452438 60.15826544841096, 25.018310395650207 60.15836569023924, 25.00519514390504 60.15898638405462, 25.004475885554225 60.162576985576464, 25.00439277068605 60.16297703305776, 25.00398002814364 60.16496377016225, 25.003510905219052 60.16722155626731, 25.003233181494945 60.16855813218185, 24.979066207319093 60.16857099596367, 24.978598407214875 60.169909841444515, 24.97697732484956 60.17454847882722, 24.97682044842576 60.17499731285241, 24.966485828951434 60.17627903848444, 24.958122095833193 60.17731562918986, 24.954853757907777 60.17722936171828, 24.953658226118897 60.17719778651557, 24.953341025475236 60.17709685425212, 24.951135046042026 60.17639509632375, 24.95037523159584 60.17637997769814, 24.94935134882857 60.17635959322149, 24.943442754466247 60.1777339724733, 24.94351621572865 60.179726477136036, 24.938693333471686 60.17990765782765, 24.93501646667136 60.180045663022646, 24.93345409354387 60.18316538320864, 24.935982572927443 60.18512386245324, 24.936248231398938 60.18516252192693, 24.93264668002782 60.192778006055036, 24.93115946400743 60.19253131613922, 24.930438399612516 60.19242366576594, 24.929735357382473 60.19231152433759, 24.929283670234483 60.19222529083186, 24.928419420631503 60.192060298890055, 24.926373462495103 60.1916340763278, 24.92576958979728 60.19149049209959, 24.925494683976005 60.191426881767285, 24.925320888540302 60.19138483293092, 24.925235082113684 60.19136354875544, 24.92514769130676 60.19134150071994, 24.92502528096881 60.19130998172256, 24.924969003470935 60.191295248166625, 24.924915500605987 60.19128109058419, 24.92487669776119 60.19127072893266, 24.92487093319861 60.191269181895926, 24.924860647080767 60.19126641164089, 24.92485133369374 60.19126392017408, 24.92481517924994 60.191254152382534, 24.924746725860697 60.191235480597406, 24.924615477265924 60.19119900177708, 24.924428624132247 60.191145509669, 24.92440960223895 60.19113996099763, 24.924280503324404 60.19110177774175, 24.924165906875764 60.19106711204053, 24.924043062759296 60.191029147539425, 24.92400129268653 60.19101603745494, 24.923953957177506 60.19100106625532, 24.92390676609963 60.19098601434292, 24.92386089023332 60.19097125038197, 24.923820346097408 60.19095810504258, 24.923733386904733 60.190929585047556, 24.923498866111917 60.19085038554418, 24.923279536776004 60.190773231833326, 24.923140161267664 60.190721802782534, 24.92288848215937 60.19062785462004, 24.922679675540643 60.19054590418501, 24.922532660571587 60.19048632036233, 24.922432414155853 60.1904447504712, 24.922406538043262 60.19043390200764, 24.922353723867968 60.190411585139906, 24.922293509590517 60.19038587120824, 24.922159218672086 60.19032749713051, 24.922022374976475 60.19026648264308, 24.921994178485463 60.19025372097085, 24.921962669238976 60.19023936869472, 24.921888398333813 60.190205209415446, 24.9218282983662 60.19017721558336, 24.921740490626558 60.19013572430167, 24.921477835115105 60.19000733727915, 24.921387388852988 60.18996158087756, 24.92129568469119 60.18991433374835, 24.921237682215484 60.189883998308346, 24.921166971633156 60.18984652880883, 24.921156908807653 60.189841155527844, 24.921151544373494 60.18983828918073, 24.92112726054729 60.18982526038697, 24.92110240088311 60.189811845303254, 24.921028938989625 60.18977182507458, 24.920145751758902 60.18975926014664, 24.9185837583697 60.189690581859075, 24.917121663525304 60.18962873305683, 24.916262367418472 60.1895652486302, 24.915756296766816 60.18945282514497, 24.915490579671744 60.1893907615992, 24.915163062674793 60.18930610277462, 24.91468061850063 60.189163164895945, 24.91406650829557 60.188946029976364, 24.91382264943402 60.188847339588506, 24.913590803379126 60.188745829321846, 24.913309250348384 60.188609596170224, 24.913215915859624 60.18856444261934, 24.912952649697555 60.188432116003725, 24.91268877370815 60.18829946534521, 24.912345749077495 60.1881161405004, 24.91198262726439 60.18792115132911, 24.911655953876465 60.18772583540236, 24.911539539822673 60.18765925890933, 24.911067160439174 60.1873549005919, 24.91086779743509 60.187218510880385, 24.910685980236835 60.18709253519712, 24.91037912059938 60.186867583622266, 24.910069250063316 60.18662479512379, 24.909787822624192 60.186389008122035, 24.909445286962704 60.186080477876615, 24.90934581329184 60.18598519862878, 24.909089849676192 60.185727787780706, 24.90869358347324 60.18528368084257, 24.908648688410413 60.18525202950406, 24.908187367688708 60.18492685439889, 24.907827600407128 60.18500311131081, 24.906478840833287 60.18523216211007, 24.90563884394068 60.18541135370329, 24.90547598865151 60.18546416578099, 24.898988450166158 60.18173975902799, 24.882226738374676 60.17211169123758, 24.87574560097195 60.16961159643726, 24.86303014017361 60.16887066440582, 24.863191033785775 60.170607966388, 24.863207458603338 60.17106393620243, 24.85710094648043 60.17189455343081, 24.85736644796522 60.173253399210815, 24.84412004173417 60.17356546938355, 24.844139624266752 60.17327651880778, 24.84414063412851 60.17325348898883, 24.844145844033154 60.17313485760675, 24.844165906146923 60.1725429322355, 24.84417348520819 60.17231960497923, 24.84423518144051 60.17050535246985, 24.844390613359348 60.1660198796661, 24.84440543423219 60.16571943454498, 24.84441208644494 60.165584801464504, 24.844348700721454 60.1654218942266, 24.844279817024812 60.165244862093616, 24.843179172168064 60.16258099313452, 24.841748805495428 60.159015933365076, 24.84134058815428 60.1580110631055, 24.840941773745733 60.157029251717205, 24.8409162008017 60.15518893456426, 24.8408589734753 60.15106956088788, 24.83943511750619 60.15026271543484, 24.839378144747013 60.149962407493696, 24.839143518524935 60.148671636697394, 24.838272037879992 60.144162753395705, 24.838022242634864 60.14284071719574, 24.836827871611682 60.136518382688116, 24.835671388701385 60.13041443420454, 24.782804440033665 60.099960960186884))\"\n        ],\n        \"semantic_type\": \"\",\n        \"description\": \"\"\n      }\n    }\n  ]\n}"
            }
          },
          "metadata": {},
          "execution_count": 13
        }
      ],
      "source": [
        "southern_district = city_districts[city_districts.name == \"Eteläinen\"]\n",
        "southern_district"
      ]
    },
    {
      "cell_type": "code",
      "execution_count": 17,
      "id": "94a89c20",
      "metadata": {
        "id": "94a89c20"
      },
      "outputs": [],
      "source": [
        "addresses = geopandas.read_file(DATA_DIRECTORY / \"addresses.gpkg\")"
      ]
    },
    {
      "cell_type": "markdown",
      "id": "b60287c3",
      "metadata": {
        "id": "b60287c3"
      },
      "source": [
        ":::{admonition} Plotting multiple map layers\n",
        ":class: hint\n",
        "\n",
        "To plot several map layers in one figure, use the `ax` parameter to specify in\n",
        "which *axes* data should be plotted. We used this in [lesson 7 of\n",
        "Geo-Python](https://geo-python-site.readthedocs.io/en/latest/notebooks/L7/matplotlib.html) to add text to a plot, or modify axes’ properties.\n",
        "\n",
        "The easiest way to obtain an *axes* is to save the first `plot()`’s\n",
        "return value (see below). Another option is to create [`subplots()`](https://geo-python-site.readthedocs.io/en/latest/notebooks/L7/advanced-plotting.html#using-subplots), possibly with only one row and one column.\n",
        ":::"
      ]
    },
    {
      "cell_type": "code",
      "execution_count": 18,
      "id": "07c01fec",
      "metadata": {
        "colab": {
          "base_uri": "https://localhost:8080/",
          "height": 447
        },
        "id": "07c01fec",
        "outputId": "a84f8f6f-8307-4d73-d5e8-1ab589a91c9a"
      },
      "outputs": [
        {
          "output_type": "execute_result",
          "data": {
            "text/plain": [
              "<Axes: >"
            ]
          },
          "metadata": {},
          "execution_count": 18
        },
        {
          "output_type": "display_data",
          "data": {
            "text/plain": [
              "<Figure size 640x480 with 1 Axes>"
            ],
            "image/png": "[encoded data removed]"
          },
          "metadata": {}
        }
      ],
      "source": [
        "axes = city_districts.plot(facecolor=\"grey\")\n",
        "southern_district.plot(ax=axes, facecolor=\"red\")\n",
        "addresses.plot(ax=axes, color=\"blue\", markersize=5)"
      ]
    },
    {
      "cell_type": "markdown",
      "id": "d5cd8272",
      "metadata": {
        "id": "d5cd8272"
      },
      "source": [
        "Some points are within the ‘Eteläinen’ district, but others are not. To find\n",
        "out which are the ones inside the district, we can use a **point-in-polygon\n",
        "query**, this time on the entire `geopandas.GeoDataFrame`. Its method\n",
        "`within()` returns Boolean (`True`/`False`) values that indicate whether or not\n",
        "a row’s geometry is contained in the supplied *other* geometry:\n",
        "\n",
        "\n",
        ":::{admonition} geometry vs. geometry column\n",
        ":class: caution\n",
        "\n",
        "In the example below, we use `southern.at[0, \"geometry\"]` to obtain a single\n",
        "value, a `shapely.geometry.Polygon`, instead of an entire column (a\n",
        "`GeoSeries`). This is in order to match each row’s geometry of the entire\n",
        "`addresses` data frame against *the same polygon*. If, in contrast, we would\n",
        "run `within()` against a column, the operation would be carried out row-wise,\n",
        "i.e. the first address point would be checked against the first polygon, the\n",
        "second address point against the second polygon, and so forth.\n",
        "\n",
        "Check the [documentation for\n",
        "`within()`](https://geopandas.org/en/stable/docs/reference/api/geopandas.GeoSeries.within.html)\n",
        "to learn more!\n",
        ":::"
      ]
    },
    {
      "cell_type": "code",
      "execution_count": 21,
      "id": "7806baac",
      "metadata": {
        "colab": {
          "base_uri": "https://localhost:8080/"
        },
        "id": "7806baac",
        "outputId": "e57ede70-bd64-4ae2-d6b2-050af0833685"
      },
      "outputs": [
        {
          "output_type": "execute_result",
          "data": {
            "text/plain": [
              "0      True\n",
              "1      True\n",
              "2      True\n",
              "3     False\n",
              "4      True\n",
              "5     False\n",
              "6     False\n",
              "7     False\n",
              "8     False\n",
              "9     False\n",
              "10     True\n",
              "11    False\n",
              "12    False\n",
              "13    False\n",
              "14    False\n",
              "15    False\n",
              "16    False\n",
              "17    False\n",
              "18    False\n",
              "19    False\n",
              "20    False\n",
              "21    False\n",
              "22    False\n",
              "23    False\n",
              "24    False\n",
              "25    False\n",
              "26    False\n",
              "27    False\n",
              "28    False\n",
              "29    False\n",
              "30     True\n",
              "31     True\n",
              "32     True\n",
              "33     True\n",
              "dtype: bool"
            ]
          },
          "metadata": {},
          "execution_count": 21
        }
      ],
      "source": [
        "addresses.within(southern_district.at[0, \"geometry\"])"
      ]
    },
    {
      "cell_type": "markdown",
      "id": "ad26ede4",
      "metadata": {
        "id": "ad26ede4"
      },
      "source": [
        "This list of Boolean values, also called a *mask array* can be used to filter\n",
        "the input data frame:"
      ]
    },
    {
      "cell_type": "code",
      "source": [
        "addresses_in_the_southern_district = addresses[\n",
        "    addresses.within(southern_district.at[0, \"geometry\"])\n",
        "]\n",
        "addresses_in_the_southern_district"
      ],
      "metadata": {
        "colab": {
          "base_uri": "https://localhost:8080/",
          "height": 331
        },
        "id": "GEdUGbNNjym1",
        "outputId": "b9d315ef-37fd-42bc-a64a-b4da7dd318a8"
      },
      "id": "GEdUGbNNjym1",
      "execution_count": 22,
      "outputs": [
        {
          "output_type": "execute_result",
          "data": {
            "text/plain": [
              "                                              address  \\\n",
              "0   Ruoholahti, 14, Itämerenkatu, Salmisaari, Ruoh...   \n",
              "1   Kamppi, 1, Kampinkuja, Kamppi, Eteläinen suurp...   \n",
              "2   Kauppakeskus Citycenter, 8, Kaivokatu, Keskust...   \n",
              "4   9, Tyynenmerenkatu, Jätkäsaari, Länsisatama, E...   \n",
              "10  Rautatientori, Keskusta, Kluuvi, Eteläinen suu...   \n",
              "30  1, Urho Kekkosen katu, Kamppi, Eteläinen suurp...   \n",
              "31  Ruoholahdenkatu, Kamppi, Eteläinen suurpiiri, ...   \n",
              "32  3, Tyynenmerenkatu, Jätkäsaari, Länsisatama, E...   \n",
              "33  4, Vilhonkatu, Kaisaniemi, Kluuvi, Eteläinen s...   \n",
              "\n",
              "                     geometry  \n",
              "0   POINT (24.91556 60.16320)  \n",
              "1   POINT (24.93166 60.16905)  \n",
              "2   POINT (24.94179 60.16989)  \n",
              "4   POINT (24.92169 60.15667)  \n",
              "10  POINT (24.94269 60.17118)  \n",
              "30  POINT (24.93366 60.16975)  \n",
              "31  POINT (24.93039 60.16641)  \n",
              "32  POINT (24.92121 60.15878)  \n",
              "33  POINT (24.94694 60.17198)  "
            ],
            "text/html": [
              "\n",
              "  <div id=\"df-647c6535-db6b-4518-a06f-9aa3aae9e7e6\" class=\"colab-df-container\">\n",
              "    <div>\n",
              "<style scoped>\n",
              "    .dataframe tbody tr th:only-of-type {\n",
              "        vertical-align: middle;\n",
              "    }\n",
              "\n",
              "    .dataframe tbody tr th {\n",
              "        vertical-align: top;\n",
              "    }\n",
              "\n",
              "    .dataframe thead th {\n",
              "        text-align: right;\n",
              "    }\n",
              "</style>\n",
              "<table border=\"1\" class=\"dataframe\">\n",
              "  <thead>\n",
              "    <tr style=\"text-align: right;\">\n",
              "      <th></th>\n",
              "      <th>address</th>\n",
              "      <th>geometry</th>\n",
              "    </tr>\n",
              "  </thead>\n",
              "  <tbody>\n",
              "    <tr>\n",
              "      <th>0</th>\n",
              "      <td>Ruoholahti, 14, Itämerenkatu, Salmisaari, Ruoh...</td>\n",
              "      <td>POINT (24.91556 60.16320)</td>\n",
              "    </tr>\n",
              "    <tr>\n",
              "      <th>1</th>\n",
              "      <td>Kamppi, 1, Kampinkuja, Kamppi, Eteläinen suurp...</td>\n",
              "      <td>POINT (24.93166 60.16905)</td>\n",
              "    </tr>\n",
              "    <tr>\n",
              "      <th>2</th>\n",
              "      <td>Kauppakeskus Citycenter, 8, Kaivokatu, Keskust...</td>\n",
              "      <td>POINT (24.94179 60.16989)</td>\n",
              "    </tr>\n",
              "    <tr>\n",
              "      <th>4</th>\n",
              "      <td>9, Tyynenmerenkatu, Jätkäsaari, Länsisatama, E...</td>\n",
              "      <td>POINT (24.92169 60.15667)</td>\n",
              "    </tr>\n",
              "    <tr>\n",
              "      <th>10</th>\n",
              "      <td>Rautatientori, Keskusta, Kluuvi, Eteläinen suu...</td>\n",
              "      <td>POINT (24.94269 60.17118)</td>\n",
              "    </tr>\n",
              "    <tr>\n",
              "      <th>30</th>\n",
              "      <td>1, Urho Kekkosen katu, Kamppi, Eteläinen suurp...</td>\n",
              "      <td>POINT (24.93366 60.16975)</td>\n",
              "    </tr>\n",
              "    <tr>\n",
              "      <th>31</th>\n",
              "      <td>Ruoholahdenkatu, Kamppi, Eteläinen suurpiiri, ...</td>\n",
              "      <td>POINT (24.93039 60.16641)</td>\n",
              "    </tr>\n",
              "    <tr>\n",
              "      <th>32</th>\n",
              "      <td>3, Tyynenmerenkatu, Jätkäsaari, Länsisatama, E...</td>\n",
              "      <td>POINT (24.92121 60.15878)</td>\n",
              "    </tr>\n",
              "    <tr>\n",
              "      <th>33</th>\n",
              "      <td>4, Vilhonkatu, Kaisaniemi, Kluuvi, Eteläinen s...</td>\n",
              "      <td>POINT (24.94694 60.17198)</td>\n",
              "    </tr>\n",
              "  </tbody>\n",
              "</table>\n",
              "</div>\n",
              "    <div class=\"colab-df-buttons\">\n",
              "\n",
              "  <div class=\"colab-df-container\">\n",
              "    <button class=\"colab-df-convert\" onclick=\"convertToInteractive('df-647c6535-db6b-4518-a06f-9aa3aae9e7e6')\"\n",
              "            title=\"Convert this dataframe to an interactive table.\"\n",
              "            style=\"display:none;\">\n",
              "\n",
              "  <svg xmlns=\"http://www.w3.org/2000/svg\" height=\"24px\" viewBox=\"0 -960 960 960\">\n",
              "    <path d=\"M120-120v-720h720v720H120Zm60-500h600v-160H180v160Zm220 220h160v-160H400v160Zm0 220h160v-160H400v160ZM180-400h160v-160H180v160Zm440 0h160v-160H620v160ZM180-180h160v-160H180v160Zm440 0h160v-160H620v160Z\"/>\n",
              "  </svg>\n",
              "    </button>\n",
              "\n",
              "  <style>\n",
              "    .colab-df-container {\n",
              "      display:flex;\n",
              "      gap: 12px;\n",
              "    }\n",
              "\n",
              "    .colab-df-convert {\n",
              "      background-color: #E8F0FE;\n",
              "      border: none;\n",
              "      border-radius: 50%;\n",
              "      cursor: pointer;\n",
              "      display: none;\n",
              "      fill: #1967D2;\n",
              "      height: 32px;\n",
              "      padding: 0 0 0 0;\n",
              "      width: 32px;\n",
              "    }\n",
              "\n",
              "    .colab-df-convert:hover {\n",
              "      background-color: #E2EBFA;\n",
              "      box-shadow: 0px 1px 2px rgba(60, 64, 67, 0.3), 0px 1px 3px 1px rgba(60, 64, 67, 0.15);\n",
              "      fill: #174EA6;\n",
              "    }\n",
              "\n",
              "    .colab-df-buttons div {\n",
              "      margin-bottom: 4px;\n",
              "    }\n",
              "\n",
              "    [theme=dark] .colab-df-convert {\n",
              "      background-color: #3B4455;\n",
              "      fill: #D2E3FC;\n",
              "    }\n",
              "\n",
              "    [theme=dark] .colab-df-convert:hover {\n",
              "      background-color: #434B5C;\n",
              "      box-shadow: 0px 1px 3px 1px rgba(0, 0, 0, 0.15);\n",
              "      filter: drop-shadow(0px 1px 2px rgba(0, 0, 0, 0.3));\n",
              "      fill: #FFFFFF;\n",
              "    }\n",
              "  </style>\n",
              "\n",
              "    <script>\n",
              "      const buttonEl =\n",
              "        document.querySelector('#df-647c6535-db6b-4518-a06f-9aa3aae9e7e6 button.colab-df-convert');\n",
              "      buttonEl.style.display =\n",
              "        google.colab.kernel.accessAllowed ? 'block' : 'none';\n",
              "\n",
              "      async function convertToInteractive(key) {\n",
              "        const element = document.querySelector('#df-647c6535-db6b-4518-a06f-9aa3aae9e7e6');\n",
              "        const dataTable =\n",
              "          await google.colab.kernel.invokeFunction('convertToInteractive',\n",
              "                                                    [key], {});\n",
              "        if (!dataTable) return;\n",
              "\n",
              "        const docLinkHtml = 'Like what you see? Visit the ' +\n",
              "          '<a target=\"_blank\" href=https://colab.research.google.com/notebooks/data_table.ipynb>data table notebook</a>'\n",
              "          + ' to learn more about interactive tables.';\n",
              "        element.innerHTML = '';\n",
              "        dataTable['output_type'] = 'display_data';\n",
              "        await google.colab.output.renderOutput(dataTable, element);\n",
              "        const docLink = document.createElement('div');\n",
              "        docLink.innerHTML = docLinkHtml;\n",
              "        element.appendChild(docLink);\n",
              "      }\n",
              "    </script>\n",
              "  </div>\n",
              "\n",
              "\n",
              "<div id=\"df-846e8ca2-e514-4623-adc7-c4cb7d49f5cb\">\n",
              "  <button class=\"colab-df-quickchart\" onclick=\"quickchart('df-846e8ca2-e514-4623-adc7-c4cb7d49f5cb')\"\n",
              "            title=\"Suggest charts\"\n",
              "            style=\"display:none;\">\n",
              "\n",
              "<svg xmlns=\"http://www.w3.org/2000/svg\" height=\"24px\"viewBox=\"0 0 24 24\"\n",
              "     width=\"24px\">\n",
              "    <g>\n",
              "        <path d=\"M19 3H5c-1.1 0-2 .9-2 2v14c0 1.1.9 2 2 2h14c1.1 0 2-.9 2-2V5c0-1.1-.9-2-2-2zM9 17H7v-7h2v7zm4 0h-2V7h2v10zm4 0h-2v-4h2v4z\"/>\n",
              "    </g>\n",
              "</svg>\n",
              "  </button>\n",
              "\n",
              "<style>\n",
              "  .colab-df-quickchart {\n",
              "      --bg-color: #E8F0FE;\n",
              "      --fill-color: #1967D2;\n",
              "      --hover-bg-color: #E2EBFA;\n",
              "      --hover-fill-color: #174EA6;\n",
              "      --disabled-fill-color: #AAA;\n",
              "      --disabled-bg-color: #DDD;\n",
              "  }\n",
              "\n",
              "  [theme=dark] .colab-df-quickchart {\n",
              "      --bg-color: #3B4455;\n",
              "      --fill-color: #D2E3FC;\n",
              "      --hover-bg-color: #434B5C;\n",
              "      --hover-fill-color: #FFFFFF;\n",
              "      --disabled-bg-color: #3B4455;\n",
              "      --disabled-fill-color: #666;\n",
              "  }\n",
              "\n",
              "  .colab-df-quickchart {\n",
              "    background-color: var(--bg-color);\n",
              "    border: none;\n",
              "    border-radius: 50%;\n",
              "    cursor: pointer;\n",
              "    display: none;\n",
              "    fill: var(--fill-color);\n",
              "    height: 32px;\n",
              "    padding: 0;\n",
              "    width: 32px;\n",
              "  }\n",
              "\n",
              "  .colab-df-quickchart:hover {\n",
              "    background-color: var(--hover-bg-color);\n",
              "    box-shadow: 0 1px 2px rgba(60, 64, 67, 0.3), 0 1px 3px 1px rgba(60, 64, 67, 0.15);\n",
              "    fill: var(--button-hover-fill-color);\n",
              "  }\n",
              "\n",
              "  .colab-df-quickchart-complete:disabled,\n",
              "  .colab-df-quickchart-complete:disabled:hover {\n",
              "    background-color: var(--disabled-bg-color);\n",
              "    fill: var(--disabled-fill-color);\n",
              "    box-shadow: none;\n",
              "  }\n",
              "\n",
              "  .colab-df-spinner {\n",
              "    border: 2px solid var(--fill-color);\n",
              "    border-color: transparent;\n",
              "    border-bottom-color: var(--fill-color);\n",
              "    animation:\n",
              "      spin 1s steps(1) infinite;\n",
              "  }\n",
              "\n",
              "  @keyframes spin {\n",
              "    0% {\n",
              "      border-color: transparent;\n",
              "      border-bottom-color: var(--fill-color);\n",
              "      border-left-color: var(--fill-color);\n",
              "    }\n",
              "    20% {\n",
              "      border-color: transparent;\n",
              "      border-left-color: var(--fill-color);\n",
              "      border-top-color: var(--fill-color);\n",
              "    }\n",
              "    30% {\n",
              "      border-color: transparent;\n",
              "      border-left-color: var(--fill-color);\n",
              "      border-top-color: var(--fill-color);\n",
              "      border-right-color: var(--fill-color);\n",
              "    }\n",
              "    40% {\n",
              "      border-color: transparent;\n",
              "      border-right-color: var(--fill-color);\n",
              "      border-top-color: var(--fill-color);\n",
              "    }\n",
              "    60% {\n",
              "      border-color: transparent;\n",
              "      border-right-color: var(--fill-color);\n",
              "    }\n",
              "    80% {\n",
              "      border-color: transparent;\n",
              "      border-right-color: var(--fill-color);\n",
              "      border-bottom-color: var(--fill-color);\n",
              "    }\n",
              "    90% {\n",
              "      border-color: transparent;\n",
              "      border-bottom-color: var(--fill-color);\n",
              "    }\n",
              "  }\n",
              "</style>\n",
              "\n",
              "  <script>\n",
              "    async function quickchart(key) {\n",
              "      const quickchartButtonEl =\n",
              "        document.querySelector('#' + key + ' button');\n",
              "      quickchartButtonEl.disabled = true;  // To prevent multiple clicks.\n",
              "      quickchartButtonEl.classList.add('colab-df-spinner');\n",
              "      try {\n",
              "        const charts = await google.colab.kernel.invokeFunction(\n",
              "            'suggestCharts', [key], {});\n",
              "      } catch (error) {\n",
              "        console.error('Error during call to suggestCharts:', error);\n",
              "      }\n",
              "      quickchartButtonEl.classList.remove('colab-df-spinner');\n",
              "      quickchartButtonEl.classList.add('colab-df-quickchart-complete');\n",
              "    }\n",
              "    (() => {\n",
              "      let quickchartButtonEl =\n",
              "        document.querySelector('#df-846e8ca2-e514-4623-adc7-c4cb7d49f5cb button');\n",
              "      quickchartButtonEl.style.display =\n",
              "        google.colab.kernel.accessAllowed ? 'block' : 'none';\n",
              "    })();\n",
              "  </script>\n",
              "</div>\n",
              "\n",
              "  <div id=\"id_56188bb0-9283-41ac-8bd5-0549aa2f1100\">\n",
              "    <style>\n",
              "      .colab-df-generate {\n",
              "        background-color: #E8F0FE;\n",
              "        border: none;\n",
              "        border-radius: 50%;\n",
              "        cursor: pointer;\n",
              "        display: none;\n",
              "        fill: #1967D2;\n",
              "        height: 32px;\n",
              "        padding: 0 0 0 0;\n",
              "        width: 32px;\n",
              "      }\n",
              "\n",
              "      .colab-df-generate:hover {\n",
              "        background-color: #E2EBFA;\n",
              "        box-shadow: 0px 1px 2px rgba(60, 64, 67, 0.3), 0px 1px 3px 1px rgba(60, 64, 67, 0.15);\n",
              "        fill: #174EA6;\n",
              "      }\n",
              "\n",
              "      [theme=dark] .colab-df-generate {\n",
              "        background-color: #3B4455;\n",
              "        fill: #D2E3FC;\n",
              "      }\n",
              "\n",
              "      [theme=dark] .colab-df-generate:hover {\n",
              "        background-color: #434B5C;\n",
              "        box-shadow: 0px 1px 3px 1px rgba(0, 0, 0, 0.15);\n",
              "        filter: drop-shadow(0px 1px 2px rgba(0, 0, 0, 0.3));\n",
              "        fill: #FFFFFF;\n",
              "      }\n",
              "    </style>\n",
              "    <button class=\"colab-df-generate\" onclick=\"generateWithVariable('addresses_in_the_southern_district')\"\n",
              "            title=\"Generate code using this dataframe.\"\n",
              "            style=\"display:none;\">\n",
              "\n",
              "  <svg xmlns=\"http://www.w3.org/2000/svg\" height=\"24px\"viewBox=\"0 0 24 24\"\n",
              "       width=\"24px\">\n",
              "    <path d=\"M7,19H8.4L18.45,9,17,7.55,7,17.6ZM5,21V16.75L18.45,3.32a2,2,0,0,1,2.83,0l1.4,1.43a1.91,1.91,0,0,1,.58,1.4,1.91,1.91,0,0,1-.58,1.4L9.25,21ZM18.45,9,17,7.55Zm-12,3A5.31,5.31,0,0,0,4.9,8.1,5.31,5.31,0,0,0,1,6.5,5.31,5.31,0,0,0,4.9,4.9,5.31,5.31,0,0,0,6.5,1,5.31,5.31,0,0,0,8.1,4.9,5.31,5.31,0,0,0,12,6.5,5.46,5.46,0,0,0,6.5,12Z\"/>\n",
              "  </svg>\n",
              "    </button>\n",
              "    <script>\n",
              "      (() => {\n",
              "      const buttonEl =\n",
              "        document.querySelector('#id_56188bb0-9283-41ac-8bd5-0549aa2f1100 button.colab-df-generate');\n",
              "      buttonEl.style.display =\n",
              "        google.colab.kernel.accessAllowed ? 'block' : 'none';\n",
              "\n",
              "      buttonEl.onclick = () => {\n",
              "        google.colab.notebook.generateWithVariable('addresses_in_the_southern_district');\n",
              "      }\n",
              "      })();\n",
              "    </script>\n",
              "  </div>\n",
              "\n",
              "    </div>\n",
              "  </div>\n"
            ],
            "application/vnd.google.colaboratory.intrinsic+json": {
              "type": "dataframe",
              "variable_name": "addresses_in_the_southern_district",
              "summary": "{\n  \"name\": \"addresses_in_the_southern_district\",\n  \"rows\": 9,\n  \"fields\": [\n    {\n      \"column\": \"address\",\n      \"properties\": {\n        \"dtype\": \"string\",\n        \"num_unique_values\": 9,\n        \"samples\": [\n          \"3, Tyynenmerenkatu, J\\u00e4tk\\u00e4saari, L\\u00e4nsisatama, Etel\\u00e4inen suurpiiri, Helsinki, Helsingin seutukunta, Uusimaa, Etel\\u00e4-Suomen aluehallintovirasto, Manner-Suomi, 00220, Suomi / Finland\",\n          \"Kamppi, 1, Kampinkuja, Kamppi, Etel\\u00e4inen suurpiiri, Helsinki, Helsingin seutukunta, Uusimaa, Etel\\u00e4-Suomen aluehallintovirasto, Manner-Suomi, 00100, Suomi / Finland\",\n          \"1, Urho Kekkosen katu, Kamppi, Etel\\u00e4inen suurpiiri, Helsinki, Helsingin seutukunta, Uusimaa, Etel\\u00e4-Suomen aluehallintovirasto, Manner-Suomi, 00100, Suomi / Finland\"\n        ],\n        \"semantic_type\": \"\",\n        \"description\": \"\"\n      }\n    },\n    {\n      \"column\": \"geometry\",\n      \"properties\": {\n        \"dtype\": \"geometry\",\n        \"num_unique_values\": 9,\n        \"samples\": [\n          \"POINT (24.9212065 60.1587845)\",\n          \"POINT (24.9316621 60.1690477)\",\n          \"POINT (24.9336646 60.1697529)\"\n        ],\n        \"semantic_type\": \"\",\n        \"description\": \"\"\n      }\n    }\n  ]\n}"
            }
          },
          "metadata": {},
          "execution_count": 22
        }
      ]
    },
    {
      "cell_type": "markdown",
      "id": "028de037",
      "metadata": {
        "id": "028de037"
      },
      "source": [
        "Finally, let’s plot this list of addresses one more time to visually verify\n",
        "that all of them, indeed, are located within the ‘Eteläinen’ city district:"
      ]
    },
    {
      "cell_type": "code",
      "execution_count": 23,
      "id": "24682226",
      "metadata": {
        "colab": {
          "base_uri": "https://localhost:8080/",
          "height": 447
        },
        "id": "24682226",
        "outputId": "c325d15c-429b-4d53-ad3c-0e6745065ad6"
      },
      "outputs": [
        {
          "output_type": "execute_result",
          "data": {
            "text/plain": [
              "<Axes: >"
            ]
          },
          "metadata": {},
          "execution_count": 23
        },
        {
          "output_type": "display_data",
          "data": {
            "text/plain": [
              "<Figure size 640x480 with 1 Axes>"
            ],
            "image/png": "[encoded data removed]"
          },
          "metadata": {}
        }
      ],
      "source": [
        "axes = city_districts.plot(facecolor=\"grey\")\n",
        "southern_district.plot(ax=axes, facecolor=\"red\")\n",
        "\n",
        "addresses_in_the_southern_district.plot(\n",
        "    ax=axes,\n",
        "    color=\"gold\",\n",
        "    markersize=5\n",
        ")"
      ]
    },
    {
      "cell_type": "markdown",
      "id": "e978f484",
      "metadata": {
        "id": "e978f484"
      },
      "source": [
        "Perfect! Now we are left with only the (golden) points which, indeed, are\n",
        "inside the red polygon. That’s exactly what we wanted!"
      ]
    }
  ],
  "metadata": {
    "kernelspec": {
      "display_name": "Python 3 (ipykernel)",
      "language": "python",
      "name": "python3"
    },
    "language_info": {
      "codemirror_mode": {
        "name": "ipython",
        "version": 3
      },
      "file_extension": ".py",
      "mimetype": "text/x-python",
      "name": "python",
      "nbconvert_exporter": "python",
      "pygments_lexer": "ipython3",
      "version": "3.10.12"
    },
    "colab": {
      "provenance": [],
      "include_colab_link": true
    }
  },
  "nbformat": 4,
  "nbformat_minor": 5
}
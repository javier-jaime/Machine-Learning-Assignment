{
  "cells": [
    {
      "cell_type": "markdown",
      "metadata": {
        "id": "view-in-github",
        "colab_type": "text"
      },
      "source": [
        "<a href=\"https://colab.research.google.com/github/javier-jaime/Tool-Crib/blob/master/AutoGIS/2003_L3_intersect.ipynb\" target=\"_parent\"><img src=\"https://colab.research.google.com/assets/colab-badge.svg\" alt=\"Open In Colab\"/></a>"
      ]
    },
    {
      "cell_type": "markdown",
      "id": "ddd238f0",
      "metadata": {
        "id": "ddd238f0"
      },
      "source": [
        "# Intersect\n",
        "\n",
        "Similar to the spatial relationships `within` and `contains` covered in the [previous section](point-in-polygon-queries), another common geospatial query asks whether two geometries intersect or touch.\n",
        "\n",
        "Both queries are implemented in `shapely`:\n",
        "- [`intersects()`](https://shapely.readthedocs.io/en/stable/manual.html#object.intersects): two objects intersect if the boundary or interior of one object intersect in any way with the boundary or interior of the other object.\n",
        "- [`touches()`](https://shapely.readthedocs.io/en/stable/manual.html#object.touches): two objects touch if the objects have at least one point in common, but their interiors do not intersect with any part of the other object.\n",
        "\n",
        "Let’s try these functions out, for instance, using two lines:"
      ]
    },
    {
      "cell_type": "code",
      "execution_count": 1,
      "id": "12073ab7",
      "metadata": {
        "id": "12073ab7"
      },
      "outputs": [],
      "source": [
        "import shapely.geometry\n",
        "\n",
        "line1 = shapely.geometry.LineString([(0, 0), (1, 1)])\n",
        "line2 = shapely.geometry.LineString([(1, 1), (0, 2)])"
      ]
    },
    {
      "cell_type": "code",
      "execution_count": 2,
      "id": "19888c52",
      "metadata": {
        "colab": {
          "base_uri": "https://localhost:8080/"
        },
        "id": "19888c52",
        "outputId": "3b86e644-8440-4bce-91bc-6c5dc32266cb"
      },
      "outputs": [
        {
          "output_type": "execute_result",
          "data": {
            "text/plain": [
              "True"
            ]
          },
          "metadata": {},
          "execution_count": 2
        }
      ],
      "source": [
        "line1.intersects(line2)"
      ]
    },
    {
      "cell_type": "markdown",
      "id": "03d06fee",
      "metadata": {
        "id": "03d06fee"
      },
      "source": [
        "The lines intersect. Do they also touch?"
      ]
    },
    {
      "cell_type": "code",
      "execution_count": 3,
      "id": "14292d67",
      "metadata": {
        "colab": {
          "base_uri": "https://localhost:8080/"
        },
        "id": "14292d67",
        "outputId": "435f67cc-0e69-46c8-f47f-bd97d73bc500"
      },
      "outputs": [
        {
          "output_type": "execute_result",
          "data": {
            "text/plain": [
              "True"
            ]
          },
          "metadata": {},
          "execution_count": 3
        }
      ],
      "source": [
        "line1.touches(line2)"
      ]
    },
    {
      "cell_type": "markdown",
      "id": "53397772",
      "metadata": {
        "id": "53397772"
      },
      "source": [
        "`line1` touches `line2`. Adding them both to a multi-line is a quick way of\n",
        "drawing them inside a Jupyter notebook:"
      ]
    },
    {
      "cell_type": "code",
      "execution_count": 4,
      "id": "e84e89b7",
      "metadata": {
        "colab": {
          "base_uri": "https://localhost:8080/",
          "height": 121
        },
        "id": "e84e89b7",
        "outputId": "213124f4-e6f0-4289-d7a7-84c97c97a3ed"
      },
      "outputs": [
        {
          "output_type": "execute_result",
          "data": {
            "text/plain": [
              "<MULTILINESTRING ((0 0, 1 1), (1 1, 0 2))>"
            ],
            "image/svg+xml": "<svg xmlns=\"http://www.w3.org/2000/svg\" xmlns:xlink=\"http://www.w3.org/1999/xlink\" width=\"100.0\" height=\"100.0\" viewBox=\"-0.08 -0.08 1.1600000000000001 2.16\" preserveAspectRatio=\"xMinYMin meet\"><g transform=\"matrix(1,0,0,-1,0,2.0)\"><g><polyline fill=\"none\" stroke=\"#66cc99\" stroke-width=\"0.0432\" points=\"0.0,0.0 1.0,1.0\" opacity=\"0.8\" /><polyline fill=\"none\" stroke=\"#66cc99\" stroke-width=\"0.0432\" points=\"1.0,1.0 0.0,2.0\" opacity=\"0.8\" /></g></g></svg>"
          },
          "metadata": {},
          "execution_count": 4
        }
      ],
      "source": [
        "shapely.geometry.MultiLineString([line1, line2])"
      ]
    },
    {
      "cell_type": "markdown",
      "id": "986f5d21",
      "metadata": {
        "id": "986f5d21"
      },
      "source": [
        "We can see here, that the share the point `(1, 1)`, in which `line1` ends, and\n",
        "`line2` begins. The two lines do not intersect otherwise (‘in their interior’),\n",
        "so the predicament ’`touch()`’ - as defined above - is true.\n",
        "\n",
        "If the lines would share some of their interior, the would not be counted as\n",
        "touching. For instance, `line1` does not touch `line1` (itself), but fulfils\n",
        "all requirements to be counted as `intersect()`ing with itself:"
      ]
    },
    {
      "cell_type": "code",
      "execution_count": 5,
      "id": "6f8723c7",
      "metadata": {
        "colab": {
          "base_uri": "https://localhost:8080/"
        },
        "id": "6f8723c7",
        "outputId": "470f5e50-12bd-4380-eef8-237933934e2a"
      },
      "outputs": [
        {
          "output_type": "execute_result",
          "data": {
            "text/plain": [
              "False"
            ]
          },
          "metadata": {},
          "execution_count": 5
        }
      ],
      "source": [
        "line1.touches(line1)"
      ]
    },
    {
      "cell_type": "code",
      "execution_count": 6,
      "id": "0065f62e",
      "metadata": {
        "colab": {
          "base_uri": "https://localhost:8080/"
        },
        "id": "0065f62e",
        "outputId": "e460e283-613b-43c5-91cd-36a83ab74341"
      },
      "outputs": [
        {
          "output_type": "execute_result",
          "data": {
            "text/plain": [
              "True"
            ]
          },
          "metadata": {},
          "execution_count": 6
        }
      ],
      "source": [
        "line1.intersects(line1)"
      ]
    }
  ],
  "metadata": {
    "kernelspec": {
      "display_name": "Python 3 (ipykernel)",
      "language": "python",
      "name": "python3"
    },
    "language_info": {
      "codemirror_mode": {
        "name": "ipython",
        "version": 3
      },
      "file_extension": ".py",
      "mimetype": "text/x-python",
      "name": "python",
      "nbconvert_exporter": "python",
      "pygments_lexer": "ipython3",
      "version": "3.10.12"
    },
    "colab": {
      "provenance": [],
      "include_colab_link": true
    }
  },
  "nbformat": 4,
  "nbformat_minor": 5
}
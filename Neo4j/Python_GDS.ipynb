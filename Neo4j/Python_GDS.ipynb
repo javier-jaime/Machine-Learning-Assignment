{
 "cells": [
  {
   "cell_type": "markdown",
   "metadata": {},
   "source": [
    "# Using the Neo4j Graph Data Science Library from Python"
   ]
  },
  {
   "cell_type": "code",
   "execution_count": 3,
   "metadata": {},
   "outputs": [],
   "source": [
    "from neo4j import GraphDatabase"
   ]
  },
  {
   "cell_type": "code",
   "execution_count": 4,
   "metadata": {},
   "outputs": [],
   "source": [
    "# TODO: set your own connection credentials here\n",
    "driver = GraphDatabase.driver(\"bolt://localhost:7687\", auth=(\"neo4j\", \"admin\"))"
   ]
  },
  {
   "cell_type": "markdown",
   "metadata": {},
   "source": [
    "## Creating the named projected graph"
   ]
  },
  {
   "cell_type": "code",
   "execution_count": 5,
   "metadata": {},
   "outputs": [],
   "source": [
    "graphName = \"my_complex_projected_graph\"\n",
    "\n",
    "nodeProj = {\n",
    "    \"User\": {\n",
    "        \"label\": \"User\",\n",
    "    }\n",
    "}\n",
    "\n",
    "relProj = {\n",
    "    \"FOLLOWS\": {\n",
    "        \"type\": \"FOLLOWS\",\n",
    "        \"orientation\": \"UNDIRECTED\",\n",
    "        \"aggregation\": \"SINGLE\"\n",
    "    }\n",
    "}"
   ]
  },
  {
   "cell_type": "code",
   "execution_count": 8,
   "metadata": {},
   "outputs": [],
   "source": [
    "cypher = \"CALL gds.graph.project( $graphName, $nodeProj, $relProj)\""
   ]
  },
  {
   "cell_type": "code",
   "execution_count": 9,
   "metadata": {},
   "outputs": [
    {
     "data": {
      "text/plain": [
       "[{'nodeProjection': {'User': {'label': 'User', 'properties': {}}},\n",
       "  'relationshipProjection': {'FOLLOWS': {'orientation': 'UNDIRECTED',\n",
       "    'aggregation': 'SINGLE',\n",
       "    'type': 'FOLLOWS',\n",
       "    'properties': {}}},\n",
       "  'graphName': 'my_complex_projected_graph',\n",
       "  'nodeCount': 596,\n",
       "  'relationshipCount': 1192,\n",
       "  'projectMillis': 742}]"
      ]
     },
     "metadata": {},
     "output_type": "display_data"
    }
   ],
   "source": [
    "with driver.session() as session:\n",
    "    result = session.run(\n",
    "        cypher,\n",
    "        graphName=graphName,\n",
    "        nodeProj=nodeProj,\n",
    "        relProj=relProj\n",
    "    )\n",
    "    display(result.data())"
   ]
  },
  {
   "cell_type": "markdown",
   "metadata": {},
   "source": [
    "**WARNING** if you run the above cell twice, you will get the following error message:\n",
    "\n",
    "> ClientError: Failed to invoke procedure `gds.graph.create`: Caused by: java.lang.IllegalArgumentException: A graph with name 'my_complex_projected_graph' already exists.\n",
    "\n",
    "No worry, it just means the GDS can't recreate an existing projected graph. You can run the rest of this notebook safely. If you want to, the queries to drop this projected graph is at the end of this notebook.\n"
   ]
  },
  {
   "cell_type": "markdown",
   "metadata": {},
   "source": [
    "## Running an algorithm: example with PageRank\n",
    "\n",
    "### Algorithm configuration dict"
   ]
  },
  {
   "cell_type": "code",
   "execution_count": 10,
   "metadata": {},
   "outputs": [],
   "source": [
    "algoConfig = {\n",
    "    \"dampingFactor\": 0.85,\n",
    "    # \"relationshipWeightProperty\": \"weight\"\n",
    "}"
   ]
  },
  {
   "cell_type": "code",
   "execution_count": 11,
   "metadata": {},
   "outputs": [
    {
     "data": {
      "text/plain": [
       "{'nodeId': 0, 'score': 0.15000000000000002}"
      ]
     },
     "metadata": {},
     "output_type": "display_data"
    },
    {
     "data": {
      "text/plain": [
       "{'nodeId': 1, 'score': 1.2015889465401788}"
      ]
     },
     "metadata": {},
     "output_type": "display_data"
    },
    {
     "data": {
      "text/plain": [
       "{'nodeId': 2, 'score': 0.9368947641923059}"
      ]
     },
     "metadata": {},
     "output_type": "display_data"
    },
    {
     "data": {
      "text/plain": [
       "{'nodeId': 3, 'score': 0.40118663210085753}"
      ]
     },
     "metadata": {},
     "output_type": "display_data"
    },
    {
     "data": {
      "text/plain": [
       "{'nodeId': 4, 'score': 0.6474721600976866}"
      ]
     },
     "metadata": {},
     "output_type": "display_data"
    },
    {
     "data": {
      "text/plain": [
       "{'nodeId': 5, 'score': 1.7195233403071672}"
      ]
     },
     "metadata": {},
     "output_type": "display_data"
    },
    {
     "data": {
      "text/plain": [
       "{'nodeId': 6, 'score': 1.9510034872007922}"
      ]
     },
     "metadata": {},
     "output_type": "display_data"
    },
    {
     "data": {
      "text/plain": [
       "{'nodeId': 7, 'score': 0.40118663210085753}"
      ]
     },
     "metadata": {},
     "output_type": "display_data"
    },
    {
     "data": {
      "text/plain": [
       "{'nodeId': 8, 'score': 2.7849972380498356}"
      ]
     },
     "metadata": {},
     "output_type": "display_data"
    },
    {
     "data": {
      "text/plain": [
       "{'nodeId': 9, 'score': 0.9060119443147444}"
      ]
     },
     "metadata": {},
     "output_type": "display_data"
    },
    {
     "data": {
      "text/plain": [
       "{'nodeId': 10, 'score': 8.958210849039709}"
      ]
     },
     "metadata": {},
     "output_type": "display_data"
    },
    {
     "data": {
      "text/plain": [
       "{'nodeId': 11, 'score': 11.39142650805512}"
      ]
     },
     "metadata": {},
     "output_type": "display_data"
    },
    {
     "data": {
      "text/plain": [
       "{'nodeId': 12, 'score': 10.281084237399568}"
      ]
     },
     "metadata": {},
     "output_type": "display_data"
    },
    {
     "data": {
      "text/plain": [
       "{'nodeId': 13, 'score': 3.5017948106256043}"
      ]
     },
     "metadata": {},
     "output_type": "display_data"
    },
    {
     "data": {
      "text/plain": [
       "{'nodeId': 14, 'score': 4.415276402886349}"
      ]
     },
     "metadata": {},
     "output_type": "display_data"
    },
    {
     "data": {
      "text/plain": [
       "{'nodeId': 15, 'score': 12.85524284850597}"
      ]
     },
     "metadata": {},
     "output_type": "display_data"
    },
    {
     "data": {
      "text/plain": [
       "{'nodeId': 16, 'score': 10.37241246941699}"
      ]
     },
     "metadata": {},
     "output_type": "display_data"
    },
    {
     "data": {
      "text/plain": [
       "{'nodeId': 17, 'score': 1.8365514900370796}"
      ]
     },
     "metadata": {},
     "output_type": "display_data"
    },
    {
     "data": {
      "text/plain": [
       "{'nodeId': 18, 'score': 14.577395463398377}"
      ]
     },
     "metadata": {},
     "output_type": "display_data"
    },
    {
     "data": {
      "text/plain": [
       "{'nodeId': 19, 'score': 2.150172397267708}"
      ]
     },
     "metadata": {},
     "output_type": "display_data"
    },
    {
     "data": {
      "text/plain": [
       "{'nodeId': 20, 'score': 9.217454568749671}"
      ]
     },
     "metadata": {},
     "output_type": "display_data"
    },
    {
     "data": {
      "text/plain": [
       "{'nodeId': 21, 'score': 5.671682283086752}"
      ]
     },
     "metadata": {},
     "output_type": "display_data"
    },
    {
     "data": {
      "text/plain": [
       "{'nodeId': 22, 'score': 10.595479889706656}"
      ]
     },
     "metadata": {},
     "output_type": "display_data"
    },
    {
     "data": {
      "text/plain": [
       "{'nodeId': 23, 'score': 4.629366092607626}"
      ]
     },
     "metadata": {},
     "output_type": "display_data"
    },
    {
     "data": {
      "text/plain": [
       "{'nodeId': 24, 'score': 3.908020961206628}"
      ]
     },
     "metadata": {},
     "output_type": "display_data"
    },
    {
     "data": {
      "text/plain": [
       "{'nodeId': 25, 'score': 10.428847456696767}"
      ]
     },
     "metadata": {},
     "output_type": "display_data"
    },
    {
     "data": {
      "text/plain": [
       "{'nodeId': 26, 'score': 7.819638819061649}"
      ]
     },
     "metadata": {},
     "output_type": "display_data"
    },
    {
     "data": {
      "text/plain": [
       "{'nodeId': 27, 'score': 7.9270567014025275}"
      ]
     },
     "metadata": {},
     "output_type": "display_data"
    },
    {
     "data": {
      "text/plain": [
       "{'nodeId': 28, 'score': 1.4355091719974722}"
      ]
     },
     "metadata": {},
     "output_type": "display_data"
    },
    {
     "data": {
      "text/plain": [
       "{'nodeId': 29, 'score': 9.681024473826707}"
      ]
     },
     "metadata": {},
     "output_type": "display_data"
    },
    {
     "data": {
      "text/plain": [
       "{'nodeId': 30, 'score': 13.769120230411012}"
      ]
     },
     "metadata": {},
     "output_type": "display_data"
    },
    {
     "data": {
      "text/plain": [
       "{'nodeId': 31, 'score': 10.271747985774319}"
      ]
     },
     "metadata": {},
     "output_type": "display_data"
    },
    {
     "data": {
      "text/plain": [
       "{'nodeId': 32, 'score': 2.1484198026774175}"
      ]
     },
     "metadata": {},
     "output_type": "display_data"
    },
    {
     "data": {
      "text/plain": [
       "{'nodeId': 33, 'score': 10.858332639222349}"
      ]
     },
     "metadata": {},
     "output_type": "display_data"
    },
    {
     "data": {
      "text/plain": [
       "{'nodeId': 34, 'score': 1.0451680935984478}"
      ]
     },
     "metadata": {},
     "output_type": "display_data"
    },
    {
     "data": {
      "text/plain": [
       "{'nodeId': 35, 'score': 5.106388740052653}"
      ]
     },
     "metadata": {},
     "output_type": "display_data"
    },
    {
     "data": {
      "text/plain": [
       "{'nodeId': 36, 'score': 1.3150636204630122}"
      ]
     },
     "metadata": {},
     "output_type": "display_data"
    },
    {
     "data": {
      "text/plain": [
       "{'nodeId': 37, 'score': 11.588365163700056}"
      ]
     },
     "metadata": {},
     "output_type": "display_data"
    },
    {
     "data": {
      "text/plain": [
       "{'nodeId': 38, 'score': 11.04530351721124}"
      ]
     },
     "metadata": {},
     "output_type": "display_data"
    },
    {
     "data": {
      "text/plain": [
       "{'nodeId': 39, 'score': 1.0750426913683968}"
      ]
     },
     "metadata": {},
     "output_type": "display_data"
    },
    {
     "data": {
      "text/plain": [
       "{'nodeId': 40, 'score': 0.40118663210085753}"
      ]
     },
     "metadata": {},
     "output_type": "display_data"
    },
    {
     "data": {
      "text/plain": [
       "{'nodeId': 41, 'score': 0.40118663210085753}"
      ]
     },
     "metadata": {},
     "output_type": "display_data"
    },
    {
     "data": {
      "text/plain": [
       "{'nodeId': 42, 'score': 0.40118663210085753}"
      ]
     },
     "metadata": {},
     "output_type": "display_data"
    },
    {
     "data": {
      "text/plain": [
       "{'nodeId': 43, 'score': 0.40118663210085753}"
      ]
     },
     "metadata": {},
     "output_type": "display_data"
    },
    {
     "data": {
      "text/plain": [
       "{'nodeId': 44, 'score': 0.6597264163179154}"
      ]
     },
     "metadata": {},
     "output_type": "display_data"
    },
    {
     "data": {
      "text/plain": [
       "{'nodeId': 45, 'score': 0.40118663210085753}"
      ]
     },
     "metadata": {},
     "output_type": "display_data"
    },
    {
     "data": {
      "text/plain": [
       "{'nodeId': 46, 'score': 2.485155219999961}"
      ]
     },
     "metadata": {},
     "output_type": "display_data"
    },
    {
     "data": {
      "text/plain": [
       "{'nodeId': 47, 'score': 0.40118663210085753}"
      ]
     },
     "metadata": {},
     "output_type": "display_data"
    },
    {
     "data": {
      "text/plain": [
       "{'nodeId': 48, 'score': 0.40118663210085753}"
      ]
     },
     "metadata": {},
     "output_type": "display_data"
    },
    {
     "data": {
      "text/plain": [
       "{'nodeId': 49, 'score': 0.40118663210085753}"
      ]
     },
     "metadata": {},
     "output_type": "display_data"
    },
    {
     "data": {
      "text/plain": [
       "{'nodeId': 50, 'score': 0.6892331738285513}"
      ]
     },
     "metadata": {},
     "output_type": "display_data"
    },
    {
     "data": {
      "text/plain": [
       "{'nodeId': 51, 'score': 1.914974093402249}"
      ]
     },
     "metadata": {},
     "output_type": "display_data"
    },
    {
     "data": {
      "text/plain": [
       "{'nodeId': 52, 'score': 0.40118663210085753}"
      ]
     },
     "metadata": {},
     "output_type": "display_data"
    },
    {
     "data": {
      "text/plain": [
       "{'nodeId': 53, 'score': 1.626927551674555}"
      ]
     },
     "metadata": {},
     "output_type": "display_data"
    },
    {
     "data": {
      "text/plain": [
       "{'nodeId': 54, 'score': 0.40118663210085753}"
      ]
     },
     "metadata": {},
     "output_type": "display_data"
    },
    {
     "data": {
      "text/plain": [
       "{'nodeId': 55, 'score': 0.40118663210085753}"
      ]
     },
     "metadata": {},
     "output_type": "display_data"
    },
    {
     "data": {
      "text/plain": [
       "{'nodeId': 56, 'score': 0.40118663210085753}"
      ]
     },
     "metadata": {},
     "output_type": "display_data"
    },
    {
     "data": {
      "text/plain": [
       "{'nodeId': 57, 'score': 1.626927551674555}"
      ]
     },
     "metadata": {},
     "output_type": "display_data"
    },
    {
     "data": {
      "text/plain": [
       "{'nodeId': 58, 'score': 0.9848753089455855}"
      ]
     },
     "metadata": {},
     "output_type": "display_data"
    },
    {
     "data": {
      "text/plain": [
       "{'nodeId': 59, 'score': 0.3962855279968291}"
      ]
     },
     "metadata": {},
     "output_type": "display_data"
    },
    {
     "data": {
      "text/plain": [
       "{'nodeId': 60, 'score': 0.9504023144393219}"
      ]
     },
     "metadata": {},
     "output_type": "display_data"
    },
    {
     "data": {
      "text/plain": [
       "{'nodeId': 61, 'score': 0.7062545303310644}"
      ]
     },
     "metadata": {},
     "output_type": "display_data"
    },
    {
     "data": {
      "text/plain": [
       "{'nodeId': 62, 'score': 0.6527612330884018}"
      ]
     },
     "metadata": {},
     "output_type": "display_data"
    },
    {
     "data": {
      "text/plain": [
       "{'nodeId': 63, 'score': 0.6527612330884018}"
      ]
     },
     "metadata": {},
     "output_type": "display_data"
    },
    {
     "data": {
      "text/plain": [
       "{'nodeId': 64, 'score': 0.7062545303310644}"
      ]
     },
     "metadata": {},
     "output_type": "display_data"
    },
    {
     "data": {
      "text/plain": [
       "{'nodeId': 65, 'score': 0.3962855279968291}"
      ]
     },
     "metadata": {},
     "output_type": "display_data"
    },
    {
     "data": {
      "text/plain": [
       "{'nodeId': 66, 'score': 0.6527612330884018}"
      ]
     },
     "metadata": {},
     "output_type": "display_data"
    },
    {
     "data": {
      "text/plain": [
       "{'nodeId': 67, 'score': 0.3962855279968291}"
      ]
     },
     "metadata": {},
     "output_type": "display_data"
    },
    {
     "data": {
      "text/plain": [
       "{'nodeId': 68, 'score': 0.9319936600882777}"
      ]
     },
     "metadata": {},
     "output_type": "display_data"
    },
    {
     "data": {
      "text/plain": [
       "{'nodeId': 69, 'score': 0.7211669273117128}"
      ]
     },
     "metadata": {},
     "output_type": "display_data"
    },
    {
     "data": {
      "text/plain": [
       "{'nodeId': 70, 'score': 0.3962855279968291}"
      ]
     },
     "metadata": {},
     "output_type": "display_data"
    },
    {
     "data": {
      "text/plain": [
       "{'nodeId': 71, 'score': 0.3962855279968291}"
      ]
     },
     "metadata": {},
     "output_type": "display_data"
    },
    {
     "data": {
      "text/plain": [
       "{'nodeId': 72, 'score': 0.6548253122138868}"
      ]
     },
     "metadata": {},
     "output_type": "display_data"
    },
    {
     "data": {
      "text/plain": [
       "{'nodeId': 73, 'score': 0.3962855279968291}"
      ]
     },
     "metadata": {},
     "output_type": "display_data"
    },
    {
     "data": {
      "text/plain": [
       "{'nodeId': 74, 'score': 0.3962855279968291}"
      ]
     },
     "metadata": {},
     "output_type": "display_data"
    },
    {
     "data": {
      "text/plain": [
       "{'nodeId': 75, 'score': 0.3962855279968291}"
      ]
     },
     "metadata": {},
     "output_type": "display_data"
    },
    {
     "data": {
      "text/plain": [
       "{'nodeId': 76, 'score': 0.3962855279968291}"
      ]
     },
     "metadata": {},
     "output_type": "display_data"
    },
    {
     "data": {
      "text/plain": [
       "{'nodeId': 77, 'score': 0.3962855279968291}"
      ]
     },
     "metadata": {},
     "output_type": "display_data"
    },
    {
     "data": {
      "text/plain": [
       "{'nodeId': 78, 'score': 0.9600136006507631}"
      ]
     },
     "metadata": {},
     "output_type": "display_data"
    },
    {
     "data": {
      "text/plain": [
       "{'nodeId': 79, 'score': 0.3962855279968291}"
      ]
     },
     "metadata": {},
     "output_type": "display_data"
    },
    {
     "data": {
      "text/plain": [
       "{'nodeId': 80, 'score': 0.4292324269998761}"
      ]
     },
     "metadata": {},
     "output_type": "display_data"
    },
    {
     "data": {
      "text/plain": [
       "{'nodeId': 81, 'score': 0.4292324269998761}"
      ]
     },
     "metadata": {},
     "output_type": "display_data"
    },
    {
     "data": {
      "text/plain": [
       "{'nodeId': 82, 'score': 0.4292324269998761}"
      ]
     },
     "metadata": {},
     "output_type": "display_data"
    },
    {
     "data": {
      "text/plain": [
       "{'nodeId': 83, 'score': 0.4292324269998761}"
      ]
     },
     "metadata": {},
     "output_type": "display_data"
    },
    {
     "data": {
      "text/plain": [
       "{'nodeId': 84, 'score': 0.4292324269998761}"
      ]
     },
     "metadata": {},
     "output_type": "display_data"
    },
    {
     "data": {
      "text/plain": [
       "{'nodeId': 85, 'score': 0.4292324269998761}"
      ]
     },
     "metadata": {},
     "output_type": "display_data"
    },
    {
     "data": {
      "text/plain": [
       "{'nodeId': 86, 'score': 0.4292324269998761}"
      ]
     },
     "metadata": {},
     "output_type": "display_data"
    },
    {
     "data": {
      "text/plain": [
       "{'nodeId': 87, 'score': 0.4292324269998761}"
      ]
     },
     "metadata": {},
     "output_type": "display_data"
    },
    {
     "data": {
      "text/plain": [
       "{'nodeId': 88, 'score': 0.4292324269998761}"
      ]
     },
     "metadata": {},
     "output_type": "display_data"
    },
    {
     "data": {
      "text/plain": [
       "{'nodeId': 89, 'score': 0.4292324269998761}"
      ]
     },
     "metadata": {},
     "output_type": "display_data"
    },
    {
     "data": {
      "text/plain": [
       "{'nodeId': 90, 'score': 0.4292324269998761}"
      ]
     },
     "metadata": {},
     "output_type": "display_data"
    },
    {
     "data": {
      "text/plain": [
       "{'nodeId': 91, 'score': 0.4292324269998761}"
      ]
     },
     "metadata": {},
     "output_type": "display_data"
    },
    {
     "data": {
      "text/plain": [
       "{'nodeId': 92, 'score': 0.4292324269998761}"
      ]
     },
     "metadata": {},
     "output_type": "display_data"
    },
    {
     "data": {
      "text/plain": [
       "{'nodeId': 93, 'score': 0.7172789687275696}"
      ]
     },
     "metadata": {},
     "output_type": "display_data"
    },
    {
     "data": {
      "text/plain": [
       "{'nodeId': 94, 'score': 0.4292324269998761}"
      ]
     },
     "metadata": {},
     "output_type": "display_data"
    },
    {
     "data": {
      "text/plain": [
       "{'nodeId': 95, 'score': 0.4292324269998761}"
      ]
     },
     "metadata": {},
     "output_type": "display_data"
    },
    {
     "data": {
      "text/plain": [
       "{'nodeId': 96, 'score': 0.4292324269998761}"
      ]
     },
     "metadata": {},
     "output_type": "display_data"
    },
    {
     "data": {
      "text/plain": [
       "{'nodeId': 97, 'score': 0.4292324269998761}"
      ]
     },
     "metadata": {},
     "output_type": "display_data"
    },
    {
     "data": {
      "text/plain": [
       "{'nodeId': 98, 'score': 0.7172789687275696}"
      ]
     },
     "metadata": {},
     "output_type": "display_data"
    },
    {
     "data": {
      "text/plain": [
       "{'nodeId': 99, 'score': 0.4292324269998761}"
      ]
     },
     "metadata": {},
     "output_type": "display_data"
    },
    {
     "data": {
      "text/plain": [
       "{'nodeId': 100, 'score': 0.4292324269998761}"
      ]
     },
     "metadata": {},
     "output_type": "display_data"
    },
    {
     "data": {
      "text/plain": [
       "{'nodeId': 101, 'score': 1.008227668325406}"
      ]
     },
     "metadata": {},
     "output_type": "display_data"
    },
    {
     "data": {
      "text/plain": [
       "{'nodeId': 102, 'score': 0.47745017736230666}"
      ]
     },
     "metadata": {},
     "output_type": "display_data"
    },
    {
     "data": {
      "text/plain": [
       "{'nodeId': 103, 'score': 0.47745017736230666}"
      ]
     },
     "metadata": {},
     "output_type": "display_data"
    },
    {
     "data": {
      "text/plain": [
       "{'nodeId': 104, 'score': 0.47745017736230666}"
      ]
     },
     "metadata": {},
     "output_type": "display_data"
    },
    {
     "data": {
      "text/plain": [
       "{'nodeId': 105, 'score': 4.983351491354544}"
      ]
     },
     "metadata": {},
     "output_type": "display_data"
    },
    {
     "data": {
      "text/plain": [
       "{'nodeId': 106, 'score': 0.47745017736230666}"
      ]
     },
     "metadata": {},
     "output_type": "display_data"
    },
    {
     "data": {
      "text/plain": [
       "{'nodeId': 107, 'score': 0.47745017736230666}"
      ]
     },
     "metadata": {},
     "output_type": "display_data"
    },
    {
     "data": {
      "text/plain": [
       "{'nodeId': 108, 'score': 0.47745017736230666}"
      ]
     },
     "metadata": {},
     "output_type": "display_data"
    },
    {
     "data": {
      "text/plain": [
       "{'nodeId': 109, 'score': 0.47745017736230666}"
      ]
     },
     "metadata": {},
     "output_type": "display_data"
    },
    {
     "data": {
      "text/plain": [
       "{'nodeId': 110, 'score': 0.459298981371927}"
      ]
     },
     "metadata": {},
     "output_type": "display_data"
    },
    {
     "data": {
      "text/plain": [
       "{'nodeId': 111, 'score': 0.459298981371927}"
      ]
     },
     "metadata": {},
     "output_type": "display_data"
    },
    {
     "data": {
      "text/plain": [
       "{'nodeId': 112, 'score': 0.459298981371927}"
      ]
     },
     "metadata": {},
     "output_type": "display_data"
    },
    {
     "data": {
      "text/plain": [
       "{'nodeId': 113, 'score': 0.459298981371927}"
      ]
     },
     "metadata": {},
     "output_type": "display_data"
    },
    {
     "data": {
      "text/plain": [
       "{'nodeId': 114, 'score': 0.459298981371927}"
      ]
     },
     "metadata": {},
     "output_type": "display_data"
    },
    {
     "data": {
      "text/plain": [
       "{'nodeId': 115, 'score': 0.459298981371927}"
      ]
     },
     "metadata": {},
     "output_type": "display_data"
    },
    {
     "data": {
      "text/plain": [
       "{'nodeId': 116, 'score': 1.0564919296086186}"
      ]
     },
     "metadata": {},
     "output_type": "display_data"
    },
    {
     "data": {
      "text/plain": [
       "{'nodeId': 117, 'score': 0.459298981371927}"
      ]
     },
     "metadata": {},
     "output_type": "display_data"
    },
    {
     "data": {
      "text/plain": [
       "{'nodeId': 118, 'score': 0.459298981371927}"
      ]
     },
     "metadata": {},
     "output_type": "display_data"
    },
    {
     "data": {
      "text/plain": [
       "{'nodeId': 119, 'score': 0.7851670203467805}"
      ]
     },
     "metadata": {},
     "output_type": "display_data"
    },
    {
     "data": {
      "text/plain": [
       "{'nodeId': 120, 'score': 0.4985100805484842}"
      ]
     },
     "metadata": {},
     "output_type": "display_data"
    },
    {
     "data": {
      "text/plain": [
       "{'nodeId': 121, 'score': 0.4985100805484842}"
      ]
     },
     "metadata": {},
     "output_type": "display_data"
    },
    {
     "data": {
      "text/plain": [
       "{'nodeId': 122, 'score': 0.4985100805484842}"
      ]
     },
     "metadata": {},
     "output_type": "display_data"
    },
    {
     "data": {
      "text/plain": [
       "{'nodeId': 123, 'score': 0.4985100805484842}"
      ]
     },
     "metadata": {},
     "output_type": "display_data"
    },
    {
     "data": {
      "text/plain": [
       "{'nodeId': 124, 'score': 0.4985100805484842}"
      ]
     },
     "metadata": {},
     "output_type": "display_data"
    },
    {
     "data": {
      "text/plain": [
       "{'nodeId': 125, 'score': 0.4985100805484842}"
      ]
     },
     "metadata": {},
     "output_type": "display_data"
    },
    {
     "data": {
      "text/plain": [
       "{'nodeId': 126, 'score': 0.4985100805484842}"
      ]
     },
     "metadata": {},
     "output_type": "display_data"
    },
    {
     "data": {
      "text/plain": [
       "{'nodeId': 127, 'score': 0.4985100805484842}"
      ]
     },
     "metadata": {},
     "output_type": "display_data"
    },
    {
     "data": {
      "text/plain": [
       "{'nodeId': 128, 'score': 0.4985100805484842}"
      ]
     },
     "metadata": {},
     "output_type": "display_data"
    },
    {
     "data": {
      "text/plain": [
       "{'nodeId': 129, 'score': 0.4985100805484842}"
      ]
     },
     "metadata": {},
     "output_type": "display_data"
    },
    {
     "data": {
      "text/plain": [
       "{'nodeId': 130, 'score': 0.4985100805484842}"
      ]
     },
     "metadata": {},
     "output_type": "display_data"
    },
    {
     "data": {
      "text/plain": [
       "{'nodeId': 131, 'score': 0.4985100805484842}"
      ]
     },
     "metadata": {},
     "output_type": "display_data"
    },
    {
     "data": {
      "text/plain": [
       "{'nodeId': 132, 'score': 0.4985100805484842}"
      ]
     },
     "metadata": {},
     "output_type": "display_data"
    },
    {
     "data": {
      "text/plain": [
       "{'nodeId': 133, 'score': 0.7894587801463201}"
      ]
     },
     "metadata": {},
     "output_type": "display_data"
    },
    {
     "data": {
      "text/plain": [
       "{'nodeId': 134, 'score': 0.4985100805484842}"
      ]
     },
     "metadata": {},
     "output_type": "display_data"
    },
    {
     "data": {
      "text/plain": [
       "{'nodeId': 135, 'score': 0.4985100805484842}"
      ]
     },
     "metadata": {},
     "output_type": "display_data"
    },
    {
     "data": {
      "text/plain": [
       "{'nodeId': 136, 'score': 0.4985100805484842}"
      ]
     },
     "metadata": {},
     "output_type": "display_data"
    },
    {
     "data": {
      "text/plain": [
       "{'nodeId': 137, 'score': 0.4985100805484842}"
      ]
     },
     "metadata": {},
     "output_type": "display_data"
    },
    {
     "data": {
      "text/plain": [
       "{'nodeId': 138, 'score': 0.4985100805484842}"
      ]
     },
     "metadata": {},
     "output_type": "display_data"
    },
    {
     "data": {
      "text/plain": [
       "{'nodeId': 139, 'score': 0.4985100805484842}"
      ]
     },
     "metadata": {},
     "output_type": "display_data"
    },
    {
     "data": {
      "text/plain": [
       "{'nodeId': 140, 'score': 0.4985100805484842}"
      ]
     },
     "metadata": {},
     "output_type": "display_data"
    },
    {
     "data": {
      "text/plain": [
       "{'nodeId': 141, 'score': 0.4985100805484842}"
      ]
     },
     "metadata": {},
     "output_type": "display_data"
    },
    {
     "data": {
      "text/plain": [
       "{'nodeId': 142, 'score': 0.4985100805484842}"
      ]
     },
     "metadata": {},
     "output_type": "display_data"
    },
    {
     "data": {
      "text/plain": [
       "{'nodeId': 143, 'score': 0.4985100805484842}"
      ]
     },
     "metadata": {},
     "output_type": "display_data"
    },
    {
     "data": {
      "text/plain": [
       "{'nodeId': 144, 'score': 0.4985100805484842}"
      ]
     },
     "metadata": {},
     "output_type": "display_data"
    },
    {
     "data": {
      "text/plain": [
       "{'nodeId': 145, 'score': 0.4985100805484842}"
      ]
     },
     "metadata": {},
     "output_type": "display_data"
    },
    {
     "data": {
      "text/plain": [
       "{'nodeId': 146, 'score': 0.4985100805484842}"
      ]
     },
     "metadata": {},
     "output_type": "display_data"
    },
    {
     "data": {
      "text/plain": [
       "{'nodeId': 147, 'score': 0.4985100805484842}"
      ]
     },
     "metadata": {},
     "output_type": "display_data"
    },
    {
     "data": {
      "text/plain": [
       "{'nodeId': 148, 'score': 0.4985100805484842}"
      ]
     },
     "metadata": {},
     "output_type": "display_data"
    },
    {
     "data": {
      "text/plain": [
       "{'nodeId': 149, 'score': 0.44094869959783606}"
      ]
     },
     "metadata": {},
     "output_type": "display_data"
    },
    {
     "data": {
      "text/plain": [
       "{'nodeId': 150, 'score': 0.9687493139512466}"
      ]
     },
     "metadata": {},
     "output_type": "display_data"
    },
    {
     "data": {
      "text/plain": [
       "{'nodeId': 151, 'score': 0.44094869959783606}"
      ]
     },
     "metadata": {},
     "output_type": "display_data"
    },
    {
     "data": {
      "text/plain": [
       "{'nodeId': 152, 'score': 0.44094869959783606}"
      ]
     },
     "metadata": {},
     "output_type": "display_data"
    },
    {
     "data": {
      "text/plain": [
       "{'nodeId': 153, 'score': 0.44094869959783606}"
      ]
     },
     "metadata": {},
     "output_type": "display_data"
    },
    {
     "data": {
      "text/plain": [
       "{'nodeId': 154, 'score': 0.44094869959783606}"
      ]
     },
     "metadata": {},
     "output_type": "display_data"
    },
    {
     "data": {
      "text/plain": [
       "{'nodeId': 155, 'score': 0.44094869959783606}"
      ]
     },
     "metadata": {},
     "output_type": "display_data"
    },
    {
     "data": {
      "text/plain": [
       "{'nodeId': 156, 'score': 0.44094869959783606}"
      ]
     },
     "metadata": {},
     "output_type": "display_data"
    },
    {
     "data": {
      "text/plain": [
       "{'nodeId': 157, 'score': 0.44094869959783606}"
      ]
     },
     "metadata": {},
     "output_type": "display_data"
    },
    {
     "data": {
      "text/plain": [
       "{'nodeId': 158, 'score': 0.44094869959783606}"
      ]
     },
     "metadata": {},
     "output_type": "display_data"
    },
    {
     "data": {
      "text/plain": [
       "{'nodeId': 159, 'score': 0.44094869959783606}"
      ]
     },
     "metadata": {},
     "output_type": "display_data"
    },
    {
     "data": {
      "text/plain": [
       "{'nodeId': 160, 'score': 0.44094869959783606}"
      ]
     },
     "metadata": {},
     "output_type": "display_data"
    },
    {
     "data": {
      "text/plain": [
       "{'nodeId': 161, 'score': 0.44094869959783606}"
      ]
     },
     "metadata": {},
     "output_type": "display_data"
    },
    {
     "data": {
      "text/plain": [
       "{'nodeId': 162, 'score': 0.44094869959783606}"
      ]
     },
     "metadata": {},
     "output_type": "display_data"
    },
    {
     "data": {
      "text/plain": [
       "{'nodeId': 163, 'score': 0.44094869959783606}"
      ]
     },
     "metadata": {},
     "output_type": "display_data"
    },
    {
     "data": {
      "text/plain": [
       "{'nodeId': 164, 'score': 0.44094869959783606}"
      ]
     },
     "metadata": {},
     "output_type": "display_data"
    },
    {
     "data": {
      "text/plain": [
       "{'nodeId': 165, 'score': 0.44094869959783606}"
      ]
     },
     "metadata": {},
     "output_type": "display_data"
    },
    {
     "data": {
      "text/plain": [
       "{'nodeId': 166, 'score': 0.44094869959783606}"
      ]
     },
     "metadata": {},
     "output_type": "display_data"
    },
    {
     "data": {
      "text/plain": [
       "{'nodeId': 167, 'score': 0.44094869959783606}"
      ]
     },
     "metadata": {},
     "output_type": "display_data"
    },
    {
     "data": {
      "text/plain": [
       "{'nodeId': 168, 'score': 0.44094869959783606}"
      ]
     },
     "metadata": {},
     "output_type": "display_data"
    },
    {
     "data": {
      "text/plain": [
       "{'nodeId': 169, 'score': 0.44094869959783606}"
      ]
     },
     "metadata": {},
     "output_type": "display_data"
    },
    {
     "data": {
      "text/plain": [
       "{'nodeId': 170, 'score': 0.44094869959783606}"
      ]
     },
     "metadata": {},
     "output_type": "display_data"
    },
    {
     "data": {
      "text/plain": [
       "{'nodeId': 171, 'score': 0.45908337699799034}"
      ]
     },
     "metadata": {},
     "output_type": "display_data"
    },
    {
     "data": {
      "text/plain": [
       "{'nodeId': 172, 'score': 0.45908337699799034}"
      ]
     },
     "metadata": {},
     "output_type": "display_data"
    },
    {
     "data": {
      "text/plain": [
       "{'nodeId': 173, 'score': 0.45908337699799034}"
      ]
     },
     "metadata": {},
     "output_type": "display_data"
    },
    {
     "data": {
      "text/plain": [
       "{'nodeId': 174, 'score': 1.014085788776728}"
      ]
     },
     "metadata": {},
     "output_type": "display_data"
    },
    {
     "data": {
      "text/plain": [
       "{'nodeId': 175, 'score': 0.4064757050915725}"
      ]
     },
     "metadata": {},
     "output_type": "display_data"
    },
    {
     "data": {
      "text/plain": [
       "{'nodeId': 176, 'score': 0.7041167864424932}"
      ]
     },
     "metadata": {},
     "output_type": "display_data"
    },
    {
     "data": {
      "text/plain": [
       "{'nodeId': 177, 'score': 0.4064757050915725}"
      ]
     },
     "metadata": {},
     "output_type": "display_data"
    },
    {
     "data": {
      "text/plain": [
       "{'nodeId': 178, 'score': 0.4064757050915725}"
      ]
     },
     "metadata": {},
     "output_type": "display_data"
    },
    {
     "data": {
      "text/plain": [
       "{'nodeId': 179, 'score': 0.4064757050915725}"
      ]
     },
     "metadata": {},
     "output_type": "display_data"
    },
    {
     "data": {
      "text/plain": [
       "{'nodeId': 180, 'score': 0.4064757050915725}"
      ]
     },
     "metadata": {},
     "output_type": "display_data"
    },
    {
     "data": {
      "text/plain": [
       "{'nodeId': 181, 'score': 0.4064757050915725}"
      ]
     },
     "metadata": {},
     "output_type": "display_data"
    },
    {
     "data": {
      "text/plain": [
       "{'nodeId': 182, 'score': 0.4064757050915725}"
      ]
     },
     "metadata": {},
     "output_type": "display_data"
    },
    {
     "data": {
      "text/plain": [
       "{'nodeId': 183, 'score': 0.4064757050915725}"
      ]
     },
     "metadata": {},
     "output_type": "display_data"
    },
    {
     "data": {
      "text/plain": [
       "{'nodeId': 184, 'score': 0.4064757050915725}"
      ]
     },
     "metadata": {},
     "output_type": "display_data"
    },
    {
     "data": {
      "text/plain": [
       "{'nodeId': 185, 'score': 0.4064757050915725}"
      ]
     },
     "metadata": {},
     "output_type": "display_data"
    },
    {
     "data": {
      "text/plain": [
       "{'nodeId': 186, 'score': 0.4064757050915725}"
      ]
     },
     "metadata": {},
     "output_type": "display_data"
    },
    {
     "data": {
      "text/plain": [
       "{'nodeId': 187, 'score': 0.4064757050915725}"
      ]
     },
     "metadata": {},
     "output_type": "display_data"
    },
    {
     "data": {
      "text/plain": [
       "{'nodeId': 188, 'score': 0.4064757050915725}"
      ]
     },
     "metadata": {},
     "output_type": "display_data"
    },
    {
     "data": {
      "text/plain": [
       "{'nodeId': 189, 'score': 0.4064757050915725}"
      ]
     },
     "metadata": {},
     "output_type": "display_data"
    },
    {
     "data": {
      "text/plain": [
       "{'nodeId': 190, 'score': 0.4064757050915725}"
      ]
     },
     "metadata": {},
     "output_type": "display_data"
    },
    {
     "data": {
      "text/plain": [
       "{'nodeId': 191, 'score': 0.4064757050915725}"
      ]
     },
     "metadata": {},
     "output_type": "display_data"
    },
    {
     "data": {
      "text/plain": [
       "{'nodeId': 192, 'score': 0.6221342210179971}"
      ]
     },
     "metadata": {},
     "output_type": "display_data"
    },
    {
     "data": {
      "text/plain": [
       "{'nodeId': 193, 'score': 0.4080405890061903}"
      ]
     },
     "metadata": {},
     "output_type": "display_data"
    },
    {
     "data": {
      "text/plain": [
       "{'nodeId': 194, 'score': 0.6221342210179971}"
      ]
     },
     "metadata": {},
     "output_type": "display_data"
    },
    {
     "data": {
      "text/plain": [
       "{'nodeId': 195, 'score': 0.6221342210179971}"
      ]
     },
     "metadata": {},
     "output_type": "display_data"
    },
    {
     "data": {
      "text/plain": [
       "{'nodeId': 196, 'score': 0.4080405890061903}"
      ]
     },
     "metadata": {},
     "output_type": "display_data"
    },
    {
     "data": {
      "text/plain": [
       "{'nodeId': 197, 'score': 0.408539784217058}"
      ]
     },
     "metadata": {},
     "output_type": "display_data"
    },
    {
     "data": {
      "text/plain": [
       "{'nodeId': 198, 'score': 0.408539784217058}"
      ]
     },
     "metadata": {},
     "output_type": "display_data"
    },
    {
     "data": {
      "text/plain": [
       "{'nodeId': 199, 'score': 0.408539784217058}"
      ]
     },
     "metadata": {},
     "output_type": "display_data"
    },
    {
     "data": {
      "text/plain": [
       "{'nodeId': 200, 'score': 0.408539784217058}"
      ]
     },
     "metadata": {},
     "output_type": "display_data"
    },
    {
     "data": {
      "text/plain": [
       "{'nodeId': 201, 'score': 0.408539784217058}"
      ]
     },
     "metadata": {},
     "output_type": "display_data"
    },
    {
     "data": {
      "text/plain": [
       "{'nodeId': 202, 'score': 0.408539784217058}"
      ]
     },
     "metadata": {},
     "output_type": "display_data"
    },
    {
     "data": {
      "text/plain": [
       "{'nodeId': 203, 'score': 0.408539784217058}"
      ]
     },
     "metadata": {},
     "output_type": "display_data"
    },
    {
     "data": {
      "text/plain": [
       "{'nodeId': 204, 'score': 0.408539784217058}"
      ]
     },
     "metadata": {},
     "output_type": "display_data"
    },
    {
     "data": {
      "text/plain": [
       "{'nodeId': 205, 'score': 0.408539784217058}"
      ]
     },
     "metadata": {},
     "output_type": "display_data"
    },
    {
     "data": {
      "text/plain": [
       "{'nodeId': 206, 'score': 0.408539784217058}"
      ]
     },
     "metadata": {},
     "output_type": "display_data"
    },
    {
     "data": {
      "text/plain": [
       "{'nodeId': 207, 'score': 0.7185087865512931}"
      ]
     },
     "metadata": {},
     "output_type": "display_data"
    },
    {
     "data": {
      "text/plain": [
       "{'nodeId': 208, 'score': 0.408539784217058}"
      ]
     },
     "metadata": {},
     "output_type": "display_data"
    },
    {
     "data": {
      "text/plain": [
       "{'nodeId': 209, 'score': 0.9920985927342219}"
      ]
     },
     "metadata": {},
     "output_type": "display_data"
    },
    {
     "data": {
      "text/plain": [
       "{'nodeId': 210, 'score': 0.408539784217058}"
      ]
     },
     "metadata": {},
     "output_type": "display_data"
    },
    {
     "data": {
      "text/plain": [
       "{'nodeId': 211, 'score': 0.408539784217058}"
      ]
     },
     "metadata": {},
     "output_type": "display_data"
    },
    {
     "data": {
      "text/plain": [
       "{'nodeId': 212, 'score': 0.408539784217058}"
      ]
     },
     "metadata": {},
     "output_type": "display_data"
    },
    {
     "data": {
      "text/plain": [
       "{'nodeId': 213, 'score': 0.408539784217058}"
      ]
     },
     "metadata": {},
     "output_type": "display_data"
    },
    {
     "data": {
      "text/plain": [
       "{'nodeId': 214, 'score': 1.427125745484834}"
      ]
     },
     "metadata": {},
     "output_type": "display_data"
    },
    {
     "data": {
      "text/plain": [
       "{'nodeId': 215, 'score': 0.5163967020172764}"
      ]
     },
     "metadata": {},
     "output_type": "display_data"
    },
    {
     "data": {
      "text/plain": [
       "{'nodeId': 216, 'score': 0.5163967020172764}"
      ]
     },
     "metadata": {},
     "output_type": "display_data"
    },
    {
     "data": {
      "text/plain": [
       "{'nodeId': 217, 'score': 0.5163967020172764}"
      ]
     },
     "metadata": {},
     "output_type": "display_data"
    },
    {
     "data": {
      "text/plain": [
       "{'nodeId': 218, 'score': 0.5163967020172764}"
      ]
     },
     "metadata": {},
     "output_type": "display_data"
    },
    {
     "data": {
      "text/plain": [
       "{'nodeId': 219, 'score': 0.5163967020172764}"
      ]
     },
     "metadata": {},
     "output_type": "display_data"
    },
    {
     "data": {
      "text/plain": [
       "{'nodeId': 220, 'score': 0.5163967020172764}"
      ]
     },
     "metadata": {},
     "output_type": "display_data"
    },
    {
     "data": {
      "text/plain": [
       "{'nodeId': 221, 'score': 0.5163967020172764}"
      ]
     },
     "metadata": {},
     "output_type": "display_data"
    },
    {
     "data": {
      "text/plain": [
       "{'nodeId': 222, 'score': 0.5163967020172764}"
      ]
     },
     "metadata": {},
     "output_type": "display_data"
    },
    {
     "data": {
      "text/plain": [
       "{'nodeId': 223, 'score': 0.5163967020172764}"
      ]
     },
     "metadata": {},
     "output_type": "display_data"
    },
    {
     "data": {
      "text/plain": [
       "{'nodeId': 224, 'score': 0.5163967020172764}"
      ]
     },
     "metadata": {},
     "output_type": "display_data"
    },
    {
     "data": {
      "text/plain": [
       "{'nodeId': 225, 'score': 0.5163967020172764}"
      ]
     },
     "metadata": {},
     "output_type": "display_data"
    },
    {
     "data": {
      "text/plain": [
       "{'nodeId': 226, 'score': 0.5163967020172764}"
      ]
     },
     "metadata": {},
     "output_type": "display_data"
    },
    {
     "data": {
      "text/plain": [
       "{'nodeId': 227, 'score': 0.44764108135092034}"
      ]
     },
     "metadata": {},
     "output_type": "display_data"
    },
    {
     "data": {
      "text/plain": [
       "{'nodeId': 228, 'score': 0.44764108135092034}"
      ]
     },
     "metadata": {},
     "output_type": "display_data"
    },
    {
     "data": {
      "text/plain": [
       "{'nodeId': 229, 'score': 0.44764108135092034}"
      ]
     },
     "metadata": {},
     "output_type": "display_data"
    },
    {
     "data": {
      "text/plain": [
       "{'nodeId': 230, 'score': 0.44764108135092034}"
      ]
     },
     "metadata": {},
     "output_type": "display_data"
    },
    {
     "data": {
      "text/plain": [
       "{'nodeId': 231, 'score': 0.44764108135092034}"
      ]
     },
     "metadata": {},
     "output_type": "display_data"
    },
    {
     "data": {
      "text/plain": [
       "{'nodeId': 232, 'score': 0.44764108135092034}"
      ]
     },
     "metadata": {},
     "output_type": "display_data"
    },
    {
     "data": {
      "text/plain": [
       "{'nodeId': 233, 'score': 0.44764108135092034}"
      ]
     },
     "metadata": {},
     "output_type": "display_data"
    },
    {
     "data": {
      "text/plain": [
       "{'nodeId': 234, 'score': 0.44764108135092034}"
      ]
     },
     "metadata": {},
     "output_type": "display_data"
    },
    {
     "data": {
      "text/plain": [
       "{'nodeId': 235, 'score': 0.44764108135092034}"
      ]
     },
     "metadata": {},
     "output_type": "display_data"
    },
    {
     "data": {
      "text/plain": [
       "{'nodeId': 236, 'score': 0.44764108135092034}"
      ]
     },
     "metadata": {},
     "output_type": "display_data"
    },
    {
     "data": {
      "text/plain": [
       "{'nodeId': 237, 'score': 0.44764108135092034}"
      ]
     },
     "metadata": {},
     "output_type": "display_data"
    },
    {
     "data": {
      "text/plain": [
       "{'nodeId': 238, 'score': 0.7576100836851557}"
      ]
     },
     "metadata": {},
     "output_type": "display_data"
    },
    {
     "data": {
      "text/plain": [
       "{'nodeId': 239, 'score': 0.44764108135092034}"
      ]
     },
     "metadata": {},
     "output_type": "display_data"
    },
    {
     "data": {
      "text/plain": [
       "{'nodeId': 240, 'score': 0.44764108135092034}"
      ]
     },
     "metadata": {},
     "output_type": "display_data"
    },
    {
     "data": {
      "text/plain": [
       "{'nodeId': 241, 'score': 0.44764108135092034}"
      ]
     },
     "metadata": {},
     "output_type": "display_data"
    },
    {
     "data": {
      "text/plain": [
       "{'nodeId': 242, 'score': 0.44764108135092034}"
      ]
     },
     "metadata": {},
     "output_type": "display_data"
    },
    {
     "data": {
      "text/plain": [
       "{'nodeId': 243, 'score': 0.44764108135092034}"
      ]
     },
     "metadata": {},
     "output_type": "display_data"
    },
    {
     "data": {
      "text/plain": [
       "{'nodeId': 244, 'score': 0.44764108135092034}"
      ]
     },
     "metadata": {},
     "output_type": "display_data"
    },
    {
     "data": {
      "text/plain": [
       "{'nodeId': 245, 'score': 0.44764108135092034}"
      ]
     },
     "metadata": {},
     "output_type": "display_data"
    },
    {
     "data": {
      "text/plain": [
       "{'nodeId': 246, 'score': 0.44764108135092034}"
      ]
     },
     "metadata": {},
     "output_type": "display_data"
    },
    {
     "data": {
      "text/plain": [
       "{'nodeId': 247, 'score': 0.44764108135092034}"
      ]
     },
     "metadata": {},
     "output_type": "display_data"
    },
    {
     "data": {
      "text/plain": [
       "{'nodeId': 248, 'score': 0.44764108135092034}"
      ]
     },
     "metadata": {},
     "output_type": "display_data"
    },
    {
     "data": {
      "text/plain": [
       "{'nodeId': 249, 'score': 0.36569560277998137}"
      ]
     },
     "metadata": {},
     "output_type": "display_data"
    },
    {
     "data": {
      "text/plain": [
       "{'nodeId': 250, 'score': 0.36569560277998137}"
      ]
     },
     "metadata": {},
     "output_type": "display_data"
    },
    {
     "data": {
      "text/plain": [
       "{'nodeId': 251, 'score': 0.851114144053626}"
      ]
     },
     "metadata": {},
     "output_type": "display_data"
    },
    {
     "data": {
      "text/plain": [
       "{'nodeId': 252, 'score': 0.579789234791788}"
      ]
     },
     "metadata": {},
     "output_type": "display_data"
    },
    {
     "data": {
      "text/plain": [
       "{'nodeId': 253, 'score': 0.8002632658984824}"
      ]
     },
     "metadata": {},
     "output_type": "display_data"
    },
    {
     "data": {
      "text/plain": [
       "{'nodeId': 254, 'score': 0.8002632658984824}"
      ]
     },
     "metadata": {},
     "output_type": "display_data"
    },
    {
     "data": {
      "text/plain": [
       "{'nodeId': 255, 'score': 0.36569560277998137}"
      ]
     },
     "metadata": {},
     "output_type": "display_data"
    },
    {
     "data": {
      "text/plain": [
       "{'nodeId': 256, 'score': 0.8002632658984824}"
      ]
     },
     "metadata": {},
     "output_type": "display_data"
    },
    {
     "data": {
      "text/plain": [
       "{'nodeId': 257, 'score': 0.8002632658984824}"
      ]
     },
     "metadata": {},
     "output_type": "display_data"
    },
    {
     "data": {
      "text/plain": [
       "{'nodeId': 258, 'score': 0.5149755621181696}"
      ]
     },
     "metadata": {},
     "output_type": "display_data"
    },
    {
     "data": {
      "text/plain": [
       "{'nodeId': 259, 'score': 0.5149755621181696}"
      ]
     },
     "metadata": {},
     "output_type": "display_data"
    },
    {
     "data": {
      "text/plain": [
       "{'nodeId': 260, 'score': 0.5149755621181696}"
      ]
     },
     "metadata": {},
     "output_type": "display_data"
    },
    {
     "data": {
      "text/plain": [
       "{'nodeId': 261, 'score': 0.5149755621181696}"
      ]
     },
     "metadata": {},
     "output_type": "display_data"
    },
    {
     "data": {
      "text/plain": [
       "{'nodeId': 262, 'score': 0.5149755621181696}"
      ]
     },
     "metadata": {},
     "output_type": "display_data"
    },
    {
     "data": {
      "text/plain": [
       "{'nodeId': 263, 'score': 0.5149755621181696}"
      ]
     },
     "metadata": {},
     "output_type": "display_data"
    },
    {
     "data": {
      "text/plain": [
       "{'nodeId': 264, 'score': 0.5149755621181696}"
      ]
     },
     "metadata": {},
     "output_type": "display_data"
    },
    {
     "data": {
      "text/plain": [
       "{'nodeId': 265, 'score': 0.5149755621181696}"
      ]
     },
     "metadata": {},
     "output_type": "display_data"
    },
    {
     "data": {
      "text/plain": [
       "{'nodeId': 266, 'score': 0.41608699130301385}"
      ]
     },
     "metadata": {},
     "output_type": "display_data"
    },
    {
     "data": {
      "text/plain": [
       "{'nodeId': 267, 'score': 0.41608699130301385}"
      ]
     },
     "metadata": {},
     "output_type": "display_data"
    },
    {
     "data": {
      "text/plain": [
       "{'nodeId': 268, 'score': 0.41608699130301385}"
      ]
     },
     "metadata": {},
     "output_type": "display_data"
    },
    {
     "data": {
      "text/plain": [
       "{'nodeId': 269, 'score': 0.41608699130301385}"
      ]
     },
     "metadata": {},
     "output_type": "display_data"
    },
    {
     "data": {
      "text/plain": [
       "{'nodeId': 270, 'score': 0.7409683906178977}"
      ]
     },
     "metadata": {},
     "output_type": "display_data"
    },
    {
     "data": {
      "text/plain": [
       "{'nodeId': 271, 'score': 0.41608699130301385}"
      ]
     },
     "metadata": {},
     "output_type": "display_data"
    },
    {
     "data": {
      "text/plain": [
       "{'nodeId': 272, 'score': 0.41608699130301385}"
      ]
     },
     "metadata": {},
     "output_type": "display_data"
    },
    {
     "data": {
      "text/plain": [
       "{'nodeId': 273, 'score': 0.41608699130301385}"
      ]
     },
     "metadata": {},
     "output_type": "display_data"
    },
    {
     "data": {
      "text/plain": [
       "{'nodeId': 274, 'score': 0.41608699130301385}"
      ]
     },
     "metadata": {},
     "output_type": "display_data"
    },
    {
     "data": {
      "text/plain": [
       "{'nodeId': 275, 'score': 0.41608699130301385}"
      ]
     },
     "metadata": {},
     "output_type": "display_data"
    },
    {
     "data": {
      "text/plain": [
       "{'nodeId': 276, 'score': 0.41608699130301385}"
      ]
     },
     "metadata": {},
     "output_type": "display_data"
    },
    {
     "data": {
      "text/plain": [
       "{'nodeId': 277, 'score': 0.41608699130301385}"
      ]
     },
     "metadata": {},
     "output_type": "display_data"
    },
    {
     "data": {
      "text/plain": [
       "{'nodeId': 278, 'score': 0.41608699130301385}"
      ]
     },
     "metadata": {},
     "output_type": "display_data"
    },
    {
     "data": {
      "text/plain": [
       "{'nodeId': 279, 'score': 0.41608699130301385}"
      ]
     },
     "metadata": {},
     "output_type": "display_data"
    },
    {
     "data": {
      "text/plain": [
       "{'nodeId': 280, 'score': 0.41608699130301385}"
      ]
     },
     "metadata": {},
     "output_type": "display_data"
    },
    {
     "data": {
      "text/plain": [
       "{'nodeId': 281, 'score': 0.41608699130301385}"
      ]
     },
     "metadata": {},
     "output_type": "display_data"
    },
    {
     "data": {
      "text/plain": [
       "{'nodeId': 282, 'score': 0.41608699130301385}"
      ]
     },
     "metadata": {},
     "output_type": "display_data"
    },
    {
     "data": {
      "text/plain": [
       "{'nodeId': 283, 'score': 0.41608699130301385}"
      ]
     },
     "metadata": {},
     "output_type": "display_data"
    },
    {
     "data": {
      "text/plain": [
       "{'nodeId': 284, 'score': 0.41608699130301385}"
      ]
     },
     "metadata": {},
     "output_type": "display_data"
    },
    {
     "data": {
      "text/plain": [
       "{'nodeId': 285, 'score': 0.41608699130301385}"
      ]
     },
     "metadata": {},
     "output_type": "display_data"
    },
    {
     "data": {
      "text/plain": [
       "{'nodeId': 286, 'score': 0.4959378086102559}"
      ]
     },
     "metadata": {},
     "output_type": "display_data"
    },
    {
     "data": {
      "text/plain": [
       "{'nodeId': 287, 'score': 0.4959378086102559}"
      ]
     },
     "metadata": {},
     "output_type": "display_data"
    },
    {
     "data": {
      "text/plain": [
       "{'nodeId': 288, 'score': 0.4959378086102559}"
      ]
     },
     "metadata": {},
     "output_type": "display_data"
    },
    {
     "data": {
      "text/plain": [
       "{'nodeId': 289, 'score': 0.4959378086102559}"
      ]
     },
     "metadata": {},
     "output_type": "display_data"
    },
    {
     "data": {
      "text/plain": [
       "{'nodeId': 290, 'score': 0.4959378086102559}"
      ]
     },
     "metadata": {},
     "output_type": "display_data"
    },
    {
     "data": {
      "text/plain": [
       "{'nodeId': 291, 'score': 0.4959378086102559}"
      ]
     },
     "metadata": {},
     "output_type": "display_data"
    },
    {
     "data": {
      "text/plain": [
       "{'nodeId': 292, 'score': 0.4959378086102559}"
      ]
     },
     "metadata": {},
     "output_type": "display_data"
    },
    {
     "data": {
      "text/plain": [
       "{'nodeId': 293, 'score': 0.4959378086102559}"
      ]
     },
     "metadata": {},
     "output_type": "display_data"
    },
    {
     "data": {
      "text/plain": [
       "{'nodeId': 294, 'score': 0.4959378086102559}"
      ]
     },
     "metadata": {},
     "output_type": "display_data"
    },
    {
     "data": {
      "text/plain": [
       "{'nodeId': 295, 'score': 0.4959378086102559}"
      ]
     },
     "metadata": {},
     "output_type": "display_data"
    },
    {
     "data": {
      "text/plain": [
       "{'nodeId': 296, 'score': 0.4959378086102559}"
      ]
     },
     "metadata": {},
     "output_type": "display_data"
    },
    {
     "data": {
      "text/plain": [
       "{'nodeId': 297, 'score': 0.4959378086102559}"
      ]
     },
     "metadata": {},
     "output_type": "display_data"
    },
    {
     "data": {
      "text/plain": [
       "{'nodeId': 298, 'score': 0.4959378086102559}"
      ]
     },
     "metadata": {},
     "output_type": "display_data"
    },
    {
     "data": {
      "text/plain": [
       "{'nodeId': 299, 'score': 0.4959378086102559}"
      ]
     },
     "metadata": {},
     "output_type": "display_data"
    },
    {
     "data": {
      "text/plain": [
       "{'nodeId': 300, 'score': 0.4959378086102559}"
      ]
     },
     "metadata": {},
     "output_type": "display_data"
    },
    {
     "data": {
      "text/plain": [
       "{'nodeId': 301, 'score': 0.4959378086102559}"
      ]
     },
     "metadata": {},
     "output_type": "display_data"
    },
    {
     "data": {
      "text/plain": [
       "{'nodeId': 302, 'score': 0.4959378086102559}"
      ]
     },
     "metadata": {},
     "output_type": "display_data"
    },
    {
     "data": {
      "text/plain": [
       "{'nodeId': 303, 'score': 0.4674718172141504}"
      ]
     },
     "metadata": {},
     "output_type": "display_data"
    },
    {
     "data": {
      "text/plain": [
       "{'nodeId': 304, 'score': 0.4674718172141504}"
      ]
     },
     "metadata": {},
     "output_type": "display_data"
    },
    {
     "data": {
      "text/plain": [
       "{'nodeId': 305, 'score': 0.4674718172141504}"
      ]
     },
     "metadata": {},
     "output_type": "display_data"
    },
    {
     "data": {
      "text/plain": [
       "{'nodeId': 306, 'score': 0.4674718172141504}"
      ]
     },
     "metadata": {},
     "output_type": "display_data"
    },
    {
     "data": {
      "text/plain": [
       "{'nodeId': 307, 'score': 0.4674718172141504}"
      ]
     },
     "metadata": {},
     "output_type": "display_data"
    },
    {
     "data": {
      "text/plain": [
       "{'nodeId': 308, 'score': 0.4674718172141504}"
      ]
     },
     "metadata": {},
     "output_type": "display_data"
    },
    {
     "data": {
      "text/plain": [
       "{'nodeId': 309, 'score': 0.4674718172141504}"
      ]
     },
     "metadata": {},
     "output_type": "display_data"
    },
    {
     "data": {
      "text/plain": [
       "{'nodeId': 310, 'score': 0.4674718172141504}"
      ]
     },
     "metadata": {},
     "output_type": "display_data"
    },
    {
     "data": {
      "text/plain": [
       "{'nodeId': 311, 'score': 0.4674718172141504}"
      ]
     },
     "metadata": {},
     "output_type": "display_data"
    },
    {
     "data": {
      "text/plain": [
       "{'nodeId': 312, 'score': 0.4674718172141504}"
      ]
     },
     "metadata": {},
     "output_type": "display_data"
    },
    {
     "data": {
      "text/plain": [
       "{'nodeId': 313, 'score': 0.4674718172141504}"
      ]
     },
     "metadata": {},
     "output_type": "display_data"
    },
    {
     "data": {
      "text/plain": [
       "{'nodeId': 314, 'score': 0.4674718172141504}"
      ]
     },
     "metadata": {},
     "output_type": "display_data"
    },
    {
     "data": {
      "text/plain": [
       "{'nodeId': 315, 'score': 0.4674718172141504}"
      ]
     },
     "metadata": {},
     "output_type": "display_data"
    },
    {
     "data": {
      "text/plain": [
       "{'nodeId': 316, 'score': 0.4674718172141504}"
      ]
     },
     "metadata": {},
     "output_type": "display_data"
    },
    {
     "data": {
      "text/plain": [
       "{'nodeId': 317, 'score': 0.4674718172141504}"
      ]
     },
     "metadata": {},
     "output_type": "display_data"
    },
    {
     "data": {
      "text/plain": [
       "{'nodeId': 318, 'score': 0.4674718172141504}"
      ]
     },
     "metadata": {},
     "output_type": "display_data"
    },
    {
     "data": {
      "text/plain": [
       "{'nodeId': 319, 'score': 0.4674718172141504}"
      ]
     },
     "metadata": {},
     "output_type": "display_data"
    },
    {
     "data": {
      "text/plain": [
       "{'nodeId': 320, 'score': 0.4519253506550547}"
      ]
     },
     "metadata": {},
     "output_type": "display_data"
    },
    {
     "data": {
      "text/plain": [
       "{'nodeId': 321, 'score': 0.4519253506550547}"
      ]
     },
     "metadata": {},
     "output_type": "display_data"
    },
    {
     "data": {
      "text/plain": [
       "{'nodeId': 322, 'score': 0.4213249092618379}"
      ]
     },
     "metadata": {},
     "output_type": "display_data"
    },
    {
     "data": {
      "text/plain": [
       "{'nodeId': 323, 'score': 0.4213249092618379}"
      ]
     },
     "metadata": {},
     "output_type": "display_data"
    },
    {
     "data": {
      "text/plain": [
       "{'nodeId': 324, 'score': 0.4213249092618379}"
      ]
     },
     "metadata": {},
     "output_type": "display_data"
    },
    {
     "data": {
      "text/plain": [
       "{'nodeId': 325, 'score': 0.4213249092618379}"
      ]
     },
     "metadata": {},
     "output_type": "display_data"
    },
    {
     "data": {
      "text/plain": [
       "{'nodeId': 326, 'score': 0.4213249092618379}"
      ]
     },
     "metadata": {},
     "output_type": "display_data"
    },
    {
     "data": {
      "text/plain": [
       "{'nodeId': 327, 'score': 0.4213249092618379}"
      ]
     },
     "metadata": {},
     "output_type": "display_data"
    },
    {
     "data": {
      "text/plain": [
       "{'nodeId': 328, 'score': 0.4213249092618379}"
      ]
     },
     "metadata": {},
     "output_type": "display_data"
    },
    {
     "data": {
      "text/plain": [
       "{'nodeId': 329, 'score': 0.4213249092618379}"
      ]
     },
     "metadata": {},
     "output_type": "display_data"
    },
    {
     "data": {
      "text/plain": [
       "{'nodeId': 330, 'score': 0.4213249092618379}"
      ]
     },
     "metadata": {},
     "output_type": "display_data"
    },
    {
     "data": {
      "text/plain": [
       "{'nodeId': 331, 'score': 0.4213249092618379}"
      ]
     },
     "metadata": {},
     "output_type": "display_data"
    },
    {
     "data": {
      "text/plain": [
       "{'nodeId': 332, 'score': 0.4213249092618379}"
      ]
     },
     "metadata": {},
     "output_type": "display_data"
    },
    {
     "data": {
      "text/plain": [
       "{'nodeId': 333, 'score': 0.4213249092618379}"
      ]
     },
     "metadata": {},
     "output_type": "display_data"
    },
    {
     "data": {
      "text/plain": [
       "{'nodeId': 334, 'score': 0.4213249092618379}"
      ]
     },
     "metadata": {},
     "output_type": "display_data"
    },
    {
     "data": {
      "text/plain": [
       "{'nodeId': 335, 'score': 0.4213249092618379}"
      ]
     },
     "metadata": {},
     "output_type": "display_data"
    },
    {
     "data": {
      "text/plain": [
       "{'nodeId': 336, 'score': 0.4213249092618379}"
      ]
     },
     "metadata": {},
     "output_type": "display_data"
    },
    {
     "data": {
      "text/plain": [
       "{'nodeId': 337, 'score': 0.4213249092618379}"
      ]
     },
     "metadata": {},
     "output_type": "display_data"
    },
    {
     "data": {
      "text/plain": [
       "{'nodeId': 338, 'score': 0.4213249092618379}"
      ]
     },
     "metadata": {},
     "output_type": "display_data"
    },
    {
     "data": {
      "text/plain": [
       "{'nodeId': 339, 'score': 0.4213249092618379}"
      ]
     },
     "metadata": {},
     "output_type": "display_data"
    },
    {
     "data": {
      "text/plain": [
       "{'nodeId': 340, 'score': 0.4213249092618379}"
      ]
     },
     "metadata": {},
     "output_type": "display_data"
    },
    {
     "data": {
      "text/plain": [
       "{'nodeId': 341, 'score': 0.5343111435323016}"
      ]
     },
     "metadata": {},
     "output_type": "display_data"
    },
    {
     "data": {
      "text/plain": [
       "{'nodeId': 342, 'score': 0.5343111435323016}"
      ]
     },
     "metadata": {},
     "output_type": "display_data"
    },
    {
     "data": {
      "text/plain": [
       "{'nodeId': 343, 'score': 0.5343111435323016}"
      ]
     },
     "metadata": {},
     "output_type": "display_data"
    },
    {
     "data": {
      "text/plain": [
       "{'nodeId': 344, 'score': 0.5343111435323016}"
      ]
     },
     "metadata": {},
     "output_type": "display_data"
    },
    {
     "data": {
      "text/plain": [
       "{'nodeId': 345, 'score': 0.5343111435323016}"
      ]
     },
     "metadata": {},
     "output_type": "display_data"
    },
    {
     "data": {
      "text/plain": [
       "{'nodeId': 346, 'score': 0.5343111435323016}"
      ]
     },
     "metadata": {},
     "output_type": "display_data"
    },
    {
     "data": {
      "text/plain": [
       "{'nodeId': 347, 'score': 0.5343111435323016}"
      ]
     },
     "metadata": {},
     "output_type": "display_data"
    },
    {
     "data": {
      "text/plain": [
       "{'nodeId': 348, 'score': 0.5343111435323016}"
      ]
     },
     "metadata": {},
     "output_type": "display_data"
    },
    {
     "data": {
      "text/plain": [
       "{'nodeId': 349, 'score': 0.5343111435323016}"
      ]
     },
     "metadata": {},
     "output_type": "display_data"
    },
    {
     "data": {
      "text/plain": [
       "{'nodeId': 350, 'score': 0.5343111435323016}"
      ]
     },
     "metadata": {},
     "output_type": "display_data"
    },
    {
     "data": {
      "text/plain": [
       "{'nodeId': 351, 'score': 0.5343111435323016}"
      ]
     },
     "metadata": {},
     "output_type": "display_data"
    },
    {
     "data": {
      "text/plain": [
       "{'nodeId': 352, 'score': 0.5343111435323016}"
      ]
     },
     "metadata": {},
     "output_type": "display_data"
    },
    {
     "data": {
      "text/plain": [
       "{'nodeId': 353, 'score': 0.5343111435323016}"
      ]
     },
     "metadata": {},
     "output_type": "display_data"
    },
    {
     "data": {
      "text/plain": [
       "{'nodeId': 354, 'score': 0.5343111435323016}"
      ]
     },
     "metadata": {},
     "output_type": "display_data"
    },
    {
     "data": {
      "text/plain": [
       "{'nodeId': 355, 'score': 0.5343111435323016}"
      ]
     },
     "metadata": {},
     "output_type": "display_data"
    },
    {
     "data": {
      "text/plain": [
       "{'nodeId': 356, 'score': 0.5343111435323016}"
      ]
     },
     "metadata": {},
     "output_type": "display_data"
    },
    {
     "data": {
      "text/plain": [
       "{'nodeId': 357, 'score': 0.5343111435323016}"
      ]
     },
     "metadata": {},
     "output_type": "display_data"
    },
    {
     "data": {
      "text/plain": [
       "{'nodeId': 358, 'score': 0.5343111435323016}"
      ]
     },
     "metadata": {},
     "output_type": "display_data"
    },
    {
     "data": {
      "text/plain": [
       "{'nodeId': 359, 'score': 0.5343111435323016}"
      ]
     },
     "metadata": {},
     "output_type": "display_data"
    },
    {
     "data": {
      "text/plain": [
       "{'nodeId': 360, 'score': 0.5343111435323016}"
      ]
     },
     "metadata": {},
     "output_type": "display_data"
    },
    {
     "data": {
      "text/plain": [
       "{'nodeId': 361, 'score': 0.5343111435323016}"
      ]
     },
     "metadata": {},
     "output_type": "display_data"
    },
    {
     "data": {
      "text/plain": [
       "{'nodeId': 362, 'score': 0.5343111435323016}"
      ]
     },
     "metadata": {},
     "output_type": "display_data"
    },
    {
     "data": {
      "text/plain": [
       "{'nodeId': 363, 'score': 0.5343111435323016}"
      ]
     },
     "metadata": {},
     "output_type": "display_data"
    },
    {
     "data": {
      "text/plain": [
       "{'nodeId': 364, 'score': 0.5343111435323016}"
      ]
     },
     "metadata": {},
     "output_type": "display_data"
    },
    {
     "data": {
      "text/plain": [
       "{'nodeId': 365, 'score': 0.5343111435323016}"
      ]
     },
     "metadata": {},
     "output_type": "display_data"
    },
    {
     "data": {
      "text/plain": [
       "{'nodeId': 366, 'score': 0.5343111435323016}"
      ]
     },
     "metadata": {},
     "output_type": "display_data"
    },
    {
     "data": {
      "text/plain": [
       "{'nodeId': 367, 'score': 0.5343111435323016}"
      ]
     },
     "metadata": {},
     "output_type": "display_data"
    },
    {
     "data": {
      "text/plain": [
       "{'nodeId': 368, 'score': 0.5343111435323016}"
      ]
     },
     "metadata": {},
     "output_type": "display_data"
    },
    {
     "data": {
      "text/plain": [
       "{'nodeId': 369, 'score': 0.5343111435323016}"
      ]
     },
     "metadata": {},
     "output_type": "display_data"
    },
    {
     "data": {
      "text/plain": [
       "{'nodeId': 370, 'score': 0.5343111435323016}"
      ]
     },
     "metadata": {},
     "output_type": "display_data"
    },
    {
     "data": {
      "text/plain": [
       "{'nodeId': 371, 'score': 0.43804654172769386}"
      ]
     },
     "metadata": {},
     "output_type": "display_data"
    },
    {
     "data": {
      "text/plain": [
       "{'nodeId': 372, 'score': 0.43804654172769386}"
      ]
     },
     "metadata": {},
     "output_type": "display_data"
    },
    {
     "data": {
      "text/plain": [
       "{'nodeId': 373, 'score': 0.43804654172769386}"
      ]
     },
     "metadata": {},
     "output_type": "display_data"
    },
    {
     "data": {
      "text/plain": [
       "{'nodeId': 374, 'score': 0.7480155440619292}"
      ]
     },
     "metadata": {},
     "output_type": "display_data"
    },
    {
     "data": {
      "text/plain": [
       "{'nodeId': 375, 'score': 0.43804654172769386}"
      ]
     },
     "metadata": {},
     "output_type": "display_data"
    },
    {
     "data": {
      "text/plain": [
       "{'nodeId': 376, 'score': 0.43804654172769386}"
      ]
     },
     "metadata": {},
     "output_type": "display_data"
    },
    {
     "data": {
      "text/plain": [
       "{'nodeId': 377, 'score': 0.43804654172769386}"
      ]
     },
     "metadata": {},
     "output_type": "display_data"
    },
    {
     "data": {
      "text/plain": [
       "{'nodeId': 378, 'score': 0.43804654172769386}"
      ]
     },
     "metadata": {},
     "output_type": "display_data"
    },
    {
     "data": {
      "text/plain": [
       "{'nodeId': 379, 'score': 0.43804654172769386}"
      ]
     },
     "metadata": {},
     "output_type": "display_data"
    },
    {
     "data": {
      "text/plain": [
       "{'nodeId': 380, 'score': 0.43804654172769386}"
      ]
     },
     "metadata": {},
     "output_type": "display_data"
    },
    {
     "data": {
      "text/plain": [
       "{'nodeId': 381, 'score': 0.43804654172769386}"
      ]
     },
     "metadata": {},
     "output_type": "display_data"
    },
    {
     "data": {
      "text/plain": [
       "{'nodeId': 382, 'score': 0.43804654172769386}"
      ]
     },
     "metadata": {},
     "output_type": "display_data"
    },
    {
     "data": {
      "text/plain": [
       "{'nodeId': 383, 'score': 0.43804654172769386}"
      ]
     },
     "metadata": {},
     "output_type": "display_data"
    },
    {
     "data": {
      "text/plain": [
       "{'nodeId': 384, 'score': 0.43804654172769386}"
      ]
     },
     "metadata": {},
     "output_type": "display_data"
    },
    {
     "data": {
      "text/plain": [
       "{'nodeId': 385, 'score': 0.43804654172769386}"
      ]
     },
     "metadata": {},
     "output_type": "display_data"
    },
    {
     "data": {
      "text/plain": [
       "{'nodeId': 386, 'score': 0.43804654172769386}"
      ]
     },
     "metadata": {},
     "output_type": "display_data"
    },
    {
     "data": {
      "text/plain": [
       "{'nodeId': 387, 'score': 0.43804654172769386}"
      ]
     },
     "metadata": {},
     "output_type": "display_data"
    },
    {
     "data": {
      "text/plain": [
       "{'nodeId': 388, 'score': 0.43804654172769386}"
      ]
     },
     "metadata": {},
     "output_type": "display_data"
    },
    {
     "data": {
      "text/plain": [
       "{'nodeId': 389, 'score': 0.43804654172769386}"
      ]
     },
     "metadata": {},
     "output_type": "display_data"
    },
    {
     "data": {
      "text/plain": [
       "{'nodeId': 390, 'score': 0.43804654172769386}"
      ]
     },
     "metadata": {},
     "output_type": "display_data"
    },
    {
     "data": {
      "text/plain": [
       "{'nodeId': 391, 'score': 0.43804654172769386}"
      ]
     },
     "metadata": {},
     "output_type": "display_data"
    },
    {
     "data": {
      "text/plain": [
       "{'nodeId': 392, 'score': 0.5115528656430867}"
      ]
     },
     "metadata": {},
     "output_type": "display_data"
    },
    {
     "data": {
      "text/plain": [
       "{'nodeId': 393, 'score': 0.5115528656430867}"
      ]
     },
     "metadata": {},
     "output_type": "display_data"
    },
    {
     "data": {
      "text/plain": [
       "{'nodeId': 394, 'score': 0.5115528656430867}"
      ]
     },
     "metadata": {},
     "output_type": "display_data"
    },
    {
     "data": {
      "text/plain": [
       "{'nodeId': 395, 'score': 0.5115528656430867}"
      ]
     },
     "metadata": {},
     "output_type": "display_data"
    },
    {
     "data": {
      "text/plain": [
       "{'nodeId': 396, 'score': 0.4758680389748535}"
      ]
     },
     "metadata": {},
     "output_type": "display_data"
    },
    {
     "data": {
      "text/plain": [
       "{'nodeId': 397, 'score': 0.4758680389748535}"
      ]
     },
     "metadata": {},
     "output_type": "display_data"
    },
    {
     "data": {
      "text/plain": [
       "{'nodeId': 398, 'score': 0.4758680389748535}"
      ]
     },
     "metadata": {},
     "output_type": "display_data"
    },
    {
     "data": {
      "text/plain": [
       "{'nodeId': 399, 'score': 0.4758680389748535}"
      ]
     },
     "metadata": {},
     "output_type": "display_data"
    },
    {
     "data": {
      "text/plain": [
       "{'nodeId': 400, 'score': 0.4758680389748535}"
      ]
     },
     "metadata": {},
     "output_type": "display_data"
    },
    {
     "data": {
      "text/plain": [
       "{'nodeId': 401, 'score': 0.4758680389748535}"
      ]
     },
     "metadata": {},
     "output_type": "display_data"
    },
    {
     "data": {
      "text/plain": [
       "{'nodeId': 402, 'score': 0.4758680389748535}"
      ]
     },
     "metadata": {},
     "output_type": "display_data"
    },
    {
     "data": {
      "text/plain": [
       "{'nodeId': 403, 'score': 0.4758680389748535}"
      ]
     },
     "metadata": {},
     "output_type": "display_data"
    },
    {
     "data": {
      "text/plain": [
       "{'nodeId': 404, 'score': 0.4758680389748535}"
      ]
     },
     "metadata": {},
     "output_type": "display_data"
    },
    {
     "data": {
      "text/plain": [
       "{'nodeId': 405, 'score': 0.4758680389748535}"
      ]
     },
     "metadata": {},
     "output_type": "display_data"
    },
    {
     "data": {
      "text/plain": [
       "{'nodeId': 406, 'score': 0.4758680389748535}"
      ]
     },
     "metadata": {},
     "output_type": "display_data"
    },
    {
     "data": {
      "text/plain": [
       "{'nodeId': 407, 'score': 0.4758680389748535}"
      ]
     },
     "metadata": {},
     "output_type": "display_data"
    },
    {
     "data": {
      "text/plain": [
       "{'nodeId': 408, 'score': 0.4758680389748535}"
      ]
     },
     "metadata": {},
     "output_type": "display_data"
    },
    {
     "data": {
      "text/plain": [
       "{'nodeId': 409, 'score': 0.4758680389748535}"
      ]
     },
     "metadata": {},
     "output_type": "display_data"
    },
    {
     "data": {
      "text/plain": [
       "{'nodeId': 410, 'score': 0.4758680389748535}"
      ]
     },
     "metadata": {},
     "output_type": "display_data"
    },
    {
     "data": {
      "text/plain": [
       "{'nodeId': 411, 'score': 0.4758680389748535}"
      ]
     },
     "metadata": {},
     "output_type": "display_data"
    },
    {
     "data": {
      "text/plain": [
       "{'nodeId': 412, 'score': 0.4758680389748535}"
      ]
     },
     "metadata": {},
     "output_type": "display_data"
    },
    {
     "data": {
      "text/plain": [
       "{'nodeId': 413, 'score': 0.4758680389748535}"
      ]
     },
     "metadata": {},
     "output_type": "display_data"
    },
    {
     "data": {
      "text/plain": [
       "{'nodeId': 414, 'score': 0.4758680389748535}"
      ]
     },
     "metadata": {},
     "output_type": "display_data"
    },
    {
     "data": {
      "text/plain": [
       "{'nodeId': 415, 'score': 0.4758680389748535}"
      ]
     },
     "metadata": {},
     "output_type": "display_data"
    },
    {
     "data": {
      "text/plain": [
       "{'nodeId': 416, 'score': 0.4758680389748535}"
      ]
     },
     "metadata": {},
     "output_type": "display_data"
    },
    {
     "data": {
      "text/plain": [
       "{'nodeId': 417, 'score': 0.4758680389748535}"
      ]
     },
     "metadata": {},
     "output_type": "display_data"
    },
    {
     "data": {
      "text/plain": [
       "{'nodeId': 418, 'score': 0.4758680389748535}"
      ]
     },
     "metadata": {},
     "output_type": "display_data"
    },
    {
     "data": {
      "text/plain": [
       "{'nodeId': 419, 'score': 0.4430215927754181}"
      ]
     },
     "metadata": {},
     "output_type": "display_data"
    },
    {
     "data": {
      "text/plain": [
       "{'nodeId': 420, 'score': 0.36409363201180667}"
      ]
     },
     "metadata": {},
     "output_type": "display_data"
    },
    {
     "data": {
      "text/plain": [
       "{'nodeId': 421, 'score': 0.36409363201180667}"
      ]
     },
     "metadata": {},
     "output_type": "display_data"
    },
    {
     "data": {
      "text/plain": [
       "{'nodeId': 422, 'score': 0.47488139931488377}"
      ]
     },
     "metadata": {},
     "output_type": "display_data"
    },
    {
     "data": {
      "text/plain": [
       "{'nodeId': 423, 'score': 0.47488139931488377}"
      ]
     },
     "metadata": {},
     "output_type": "display_data"
    },
    {
     "data": {
      "text/plain": [
       "{'nodeId': 424, 'score': 0.47488139931488377}"
      ]
     },
     "metadata": {},
     "output_type": "display_data"
    },
    {
     "data": {
      "text/plain": [
       "{'nodeId': 425, 'score': 0.47488139931488377}"
      ]
     },
     "metadata": {},
     "output_type": "display_data"
    },
    {
     "data": {
      "text/plain": [
       "{'nodeId': 426, 'score': 0.47488139931488377}"
      ]
     },
     "metadata": {},
     "output_type": "display_data"
    },
    {
     "data": {
      "text/plain": [
       "{'nodeId': 427, 'score': 0.47488139931488377}"
      ]
     },
     "metadata": {},
     "output_type": "display_data"
    },
    {
     "data": {
      "text/plain": [
       "{'nodeId': 428, 'score': 0.47488139931488377}"
      ]
     },
     "metadata": {},
     "output_type": "display_data"
    },
    {
     "data": {
      "text/plain": [
       "{'nodeId': 429, 'score': 0.47488139931488377}"
      ]
     },
     "metadata": {},
     "output_type": "display_data"
    },
    {
     "data": {
      "text/plain": [
       "{'nodeId': 430, 'score': 0.47488139931488377}"
      ]
     },
     "metadata": {},
     "output_type": "display_data"
    },
    {
     "data": {
      "text/plain": [
       "{'nodeId': 431, 'score': 0.47488139931488377}"
      ]
     },
     "metadata": {},
     "output_type": "display_data"
    },
    {
     "data": {
      "text/plain": [
       "{'nodeId': 432, 'score': 0.47488139931488377}"
      ]
     },
     "metadata": {},
     "output_type": "display_data"
    },
    {
     "data": {
      "text/plain": [
       "{'nodeId': 433, 'score': 0.47488139931488377}"
      ]
     },
     "metadata": {},
     "output_type": "display_data"
    },
    {
     "data": {
      "text/plain": [
       "{'nodeId': 434, 'score': 0.47488139931488377}"
      ]
     },
     "metadata": {},
     "output_type": "display_data"
    },
    {
     "data": {
      "text/plain": [
       "{'nodeId': 435, 'score': 0.47488139931488377}"
      ]
     },
     "metadata": {},
     "output_type": "display_data"
    },
    {
     "data": {
      "text/plain": [
       "{'nodeId': 436, 'score': 0.47488139931488377}"
      ]
     },
     "metadata": {},
     "output_type": "display_data"
    },
    {
     "data": {
      "text/plain": [
       "{'nodeId': 437, 'score': 0.47488139931488377}"
      ]
     },
     "metadata": {},
     "output_type": "display_data"
    },
    {
     "data": {
      "text/plain": [
       "{'nodeId': 438, 'score': 0.47488139931488377}"
      ]
     },
     "metadata": {},
     "output_type": "display_data"
    },
    {
     "data": {
      "text/plain": [
       "{'nodeId': 439, 'score': 0.47488139931488377}"
      ]
     },
     "metadata": {},
     "output_type": "display_data"
    },
    {
     "data": {
      "text/plain": [
       "{'nodeId': 440, 'score': 0.47488139931488377}"
      ]
     },
     "metadata": {},
     "output_type": "display_data"
    },
    {
     "data": {
      "text/plain": [
       "{'nodeId': 441, 'score': 0.47488139931488377}"
      ]
     },
     "metadata": {},
     "output_type": "display_data"
    },
    {
     "data": {
      "text/plain": [
       "{'nodeId': 442, 'score': 0.47488139931488377}"
      ]
     },
     "metadata": {},
     "output_type": "display_data"
    },
    {
     "data": {
      "text/plain": [
       "{'nodeId': 443, 'score': 0.47488139931488377}"
      ]
     },
     "metadata": {},
     "output_type": "display_data"
    },
    {
     "data": {
      "text/plain": [
       "{'nodeId': 444, 'score': 0.47488139931488377}"
      ]
     },
     "metadata": {},
     "output_type": "display_data"
    },
    {
     "data": {
      "text/plain": [
       "{'nodeId': 445, 'score': 0.47488139931488377}"
      ]
     },
     "metadata": {},
     "output_type": "display_data"
    },
    {
     "data": {
      "text/plain": [
       "{'nodeId': 446, 'score': 0.47488139931488377}"
      ]
     },
     "metadata": {},
     "output_type": "display_data"
    },
    {
     "data": {
      "text/plain": [
       "{'nodeId': 447, 'score': 0.45996900233423543}"
      ]
     },
     "metadata": {},
     "output_type": "display_data"
    },
    {
     "data": {
      "text/plain": [
       "{'nodeId': 448, 'score': 0.45996900233423543}"
      ]
     },
     "metadata": {},
     "output_type": "display_data"
    },
    {
     "data": {
      "text/plain": [
       "{'nodeId': 449, 'score': 0.45996900233423543}"
      ]
     },
     "metadata": {},
     "output_type": "display_data"
    },
    {
     "data": {
      "text/plain": [
       "{'nodeId': 450, 'score': 0.45996900233423543}"
      ]
     },
     "metadata": {},
     "output_type": "display_data"
    },
    {
     "data": {
      "text/plain": [
       "{'nodeId': 451, 'score': 0.45996900233423543}"
      ]
     },
     "metadata": {},
     "output_type": "display_data"
    },
    {
     "data": {
      "text/plain": [
       "{'nodeId': 452, 'score': 0.45996900233423543}"
      ]
     },
     "metadata": {},
     "output_type": "display_data"
    },
    {
     "data": {
      "text/plain": [
       "{'nodeId': 453, 'score': 0.45996900233423543}"
      ]
     },
     "metadata": {},
     "output_type": "display_data"
    },
    {
     "data": {
      "text/plain": [
       "{'nodeId': 454, 'score': 0.45996900233423543}"
      ]
     },
     "metadata": {},
     "output_type": "display_data"
    },
    {
     "data": {
      "text/plain": [
       "{'nodeId': 455, 'score': 0.45996900233423543}"
      ]
     },
     "metadata": {},
     "output_type": "display_data"
    },
    {
     "data": {
      "text/plain": [
       "{'nodeId': 456, 'score': 0.45996900233423543}"
      ]
     },
     "metadata": {},
     "output_type": "display_data"
    },
    {
     "data": {
      "text/plain": [
       "{'nodeId': 457, 'score': 0.45996900233423543}"
      ]
     },
     "metadata": {},
     "output_type": "display_data"
    },
    {
     "data": {
      "text/plain": [
       "{'nodeId': 458, 'score': 0.45996900233423543}"
      ]
     },
     "metadata": {},
     "output_type": "display_data"
    },
    {
     "data": {
      "text/plain": [
       "{'nodeId': 459, 'score': 0.45996900233423543}"
      ]
     },
     "metadata": {},
     "output_type": "display_data"
    },
    {
     "data": {
      "text/plain": [
       "{'nodeId': 460, 'score': 0.45996900233423543}"
      ]
     },
     "metadata": {},
     "output_type": "display_data"
    },
    {
     "data": {
      "text/plain": [
       "{'nodeId': 461, 'score': 0.45996900233423543}"
      ]
     },
     "metadata": {},
     "output_type": "display_data"
    },
    {
     "data": {
      "text/plain": [
       "{'nodeId': 462, 'score': 0.45996900233423543}"
      ]
     },
     "metadata": {},
     "output_type": "display_data"
    },
    {
     "data": {
      "text/plain": [
       "{'nodeId': 463, 'score': 0.45996900233423543}"
      ]
     },
     "metadata": {},
     "output_type": "display_data"
    },
    {
     "data": {
      "text/plain": [
       "{'nodeId': 464, 'score': 0.45996900233423543}"
      ]
     },
     "metadata": {},
     "output_type": "display_data"
    },
    {
     "data": {
      "text/plain": [
       "{'nodeId': 465, 'score': 0.45996900233423543}"
      ]
     },
     "metadata": {},
     "output_type": "display_data"
    },
    {
     "data": {
      "text/plain": [
       "{'nodeId': 466, 'score': 0.45996900233423543}"
      ]
     },
     "metadata": {},
     "output_type": "display_data"
    },
    {
     "data": {
      "text/plain": [
       "{'nodeId': 467, 'score': 0.45996900233423543}"
      ]
     },
     "metadata": {},
     "output_type": "display_data"
    },
    {
     "data": {
      "text/plain": [
       "{'nodeId': 468, 'score': 0.45996900233423543}"
      ]
     },
     "metadata": {},
     "output_type": "display_data"
    },
    {
     "data": {
      "text/plain": [
       "{'nodeId': 469, 'score': 0.4520653627093811}"
      ]
     },
     "metadata": {},
     "output_type": "display_data"
    },
    {
     "data": {
      "text/plain": [
       "{'nodeId': 470, 'score': 0.15000000000000002}"
      ]
     },
     "metadata": {},
     "output_type": "display_data"
    },
    {
     "data": {
      "text/plain": [
       "{'nodeId': 471, 'score': 0.15000000000000002}"
      ]
     },
     "metadata": {},
     "output_type": "display_data"
    },
    {
     "data": {
      "text/plain": [
       "{'nodeId': 472, 'score': 0.15000000000000002}"
      ]
     },
     "metadata": {},
     "output_type": "display_data"
    },
    {
     "data": {
      "text/plain": [
       "{'nodeId': 473, 'score': 0.15000000000000002}"
      ]
     },
     "metadata": {},
     "output_type": "display_data"
    },
    {
     "data": {
      "text/plain": [
       "{'nodeId': 474, 'score': 0.15000000000000002}"
      ]
     },
     "metadata": {},
     "output_type": "display_data"
    },
    {
     "data": {
      "text/plain": [
       "{'nodeId': 475, 'score': 0.15000000000000002}"
      ]
     },
     "metadata": {},
     "output_type": "display_data"
    },
    {
     "data": {
      "text/plain": [
       "{'nodeId': 476, 'score': 0.15000000000000002}"
      ]
     },
     "metadata": {},
     "output_type": "display_data"
    },
    {
     "data": {
      "text/plain": [
       "{'nodeId': 477, 'score': 0.15000000000000002}"
      ]
     },
     "metadata": {},
     "output_type": "display_data"
    },
    {
     "data": {
      "text/plain": [
       "{'nodeId': 478, 'score': 0.15000000000000002}"
      ]
     },
     "metadata": {},
     "output_type": "display_data"
    },
    {
     "data": {
      "text/plain": [
       "{'nodeId': 479, 'score': 0.15000000000000002}"
      ]
     },
     "metadata": {},
     "output_type": "display_data"
    },
    {
     "data": {
      "text/plain": [
       "{'nodeId': 480, 'score': 0.15000000000000002}"
      ]
     },
     "metadata": {},
     "output_type": "display_data"
    },
    {
     "data": {
      "text/plain": [
       "{'nodeId': 481, 'score': 0.15000000000000002}"
      ]
     },
     "metadata": {},
     "output_type": "display_data"
    },
    {
     "data": {
      "text/plain": [
       "{'nodeId': 482, 'score': 0.15000000000000002}"
      ]
     },
     "metadata": {},
     "output_type": "display_data"
    },
    {
     "data": {
      "text/plain": [
       "{'nodeId': 483, 'score': 0.15000000000000002}"
      ]
     },
     "metadata": {},
     "output_type": "display_data"
    },
    {
     "data": {
      "text/plain": [
       "{'nodeId': 484, 'score': 0.15000000000000002}"
      ]
     },
     "metadata": {},
     "output_type": "display_data"
    },
    {
     "data": {
      "text/plain": [
       "{'nodeId': 485, 'score': 0.15000000000000002}"
      ]
     },
     "metadata": {},
     "output_type": "display_data"
    },
    {
     "data": {
      "text/plain": [
       "{'nodeId': 486, 'score': 0.15000000000000002}"
      ]
     },
     "metadata": {},
     "output_type": "display_data"
    },
    {
     "data": {
      "text/plain": [
       "{'nodeId': 487, 'score': 0.15000000000000002}"
      ]
     },
     "metadata": {},
     "output_type": "display_data"
    },
    {
     "data": {
      "text/plain": [
       "{'nodeId': 488, 'score': 0.15000000000000002}"
      ]
     },
     "metadata": {},
     "output_type": "display_data"
    },
    {
     "data": {
      "text/plain": [
       "{'nodeId': 489, 'score': 0.15000000000000002}"
      ]
     },
     "metadata": {},
     "output_type": "display_data"
    },
    {
     "data": {
      "text/plain": [
       "{'nodeId': 490, 'score': 0.15000000000000002}"
      ]
     },
     "metadata": {},
     "output_type": "display_data"
    },
    {
     "data": {
      "text/plain": [
       "{'nodeId': 491, 'score': 0.15000000000000002}"
      ]
     },
     "metadata": {},
     "output_type": "display_data"
    },
    {
     "data": {
      "text/plain": [
       "{'nodeId': 492, 'score': 0.15000000000000002}"
      ]
     },
     "metadata": {},
     "output_type": "display_data"
    },
    {
     "data": {
      "text/plain": [
       "{'nodeId': 493, 'score': 0.15000000000000002}"
      ]
     },
     "metadata": {},
     "output_type": "display_data"
    },
    {
     "data": {
      "text/plain": [
       "{'nodeId': 494, 'score': 0.15000000000000002}"
      ]
     },
     "metadata": {},
     "output_type": "display_data"
    },
    {
     "data": {
      "text/plain": [
       "{'nodeId': 495, 'score': 0.15000000000000002}"
      ]
     },
     "metadata": {},
     "output_type": "display_data"
    },
    {
     "data": {
      "text/plain": [
       "{'nodeId': 496, 'score': 0.15000000000000002}"
      ]
     },
     "metadata": {},
     "output_type": "display_data"
    },
    {
     "data": {
      "text/plain": [
       "{'nodeId': 497, 'score': 0.15000000000000002}"
      ]
     },
     "metadata": {},
     "output_type": "display_data"
    },
    {
     "data": {
      "text/plain": [
       "{'nodeId': 498, 'score': 0.15000000000000002}"
      ]
     },
     "metadata": {},
     "output_type": "display_data"
    },
    {
     "data": {
      "text/plain": [
       "{'nodeId': 499, 'score': 0.15000000000000002}"
      ]
     },
     "metadata": {},
     "output_type": "display_data"
    },
    {
     "data": {
      "text/plain": [
       "{'nodeId': 500, 'score': 0.15000000000000002}"
      ]
     },
     "metadata": {},
     "output_type": "display_data"
    },
    {
     "data": {
      "text/plain": [
       "{'nodeId': 501, 'score': 0.15000000000000002}"
      ]
     },
     "metadata": {},
     "output_type": "display_data"
    },
    {
     "data": {
      "text/plain": [
       "{'nodeId': 502, 'score': 0.15000000000000002}"
      ]
     },
     "metadata": {},
     "output_type": "display_data"
    },
    {
     "data": {
      "text/plain": [
       "{'nodeId': 503, 'score': 0.15000000000000002}"
      ]
     },
     "metadata": {},
     "output_type": "display_data"
    },
    {
     "data": {
      "text/plain": [
       "{'nodeId': 504, 'score': 0.15000000000000002}"
      ]
     },
     "metadata": {},
     "output_type": "display_data"
    },
    {
     "data": {
      "text/plain": [
       "{'nodeId': 505, 'score': 0.15000000000000002}"
      ]
     },
     "metadata": {},
     "output_type": "display_data"
    },
    {
     "data": {
      "text/plain": [
       "{'nodeId': 506, 'score': 0.15000000000000002}"
      ]
     },
     "metadata": {},
     "output_type": "display_data"
    },
    {
     "data": {
      "text/plain": [
       "{'nodeId': 507, 'score': 0.15000000000000002}"
      ]
     },
     "metadata": {},
     "output_type": "display_data"
    },
    {
     "data": {
      "text/plain": [
       "{'nodeId': 508, 'score': 0.15000000000000002}"
      ]
     },
     "metadata": {},
     "output_type": "display_data"
    },
    {
     "data": {
      "text/plain": [
       "{'nodeId': 509, 'score': 0.15000000000000002}"
      ]
     },
     "metadata": {},
     "output_type": "display_data"
    },
    {
     "data": {
      "text/plain": [
       "{'nodeId': 510, 'score': 0.15000000000000002}"
      ]
     },
     "metadata": {},
     "output_type": "display_data"
    },
    {
     "data": {
      "text/plain": [
       "{'nodeId': 511, 'score': 0.15000000000000002}"
      ]
     },
     "metadata": {},
     "output_type": "display_data"
    },
    {
     "data": {
      "text/plain": [
       "{'nodeId': 512, 'score': 0.15000000000000002}"
      ]
     },
     "metadata": {},
     "output_type": "display_data"
    },
    {
     "data": {
      "text/plain": [
       "{'nodeId': 513, 'score': 0.15000000000000002}"
      ]
     },
     "metadata": {},
     "output_type": "display_data"
    },
    {
     "data": {
      "text/plain": [
       "{'nodeId': 514, 'score': 0.15000000000000002}"
      ]
     },
     "metadata": {},
     "output_type": "display_data"
    },
    {
     "data": {
      "text/plain": [
       "{'nodeId': 515, 'score': 0.15000000000000002}"
      ]
     },
     "metadata": {},
     "output_type": "display_data"
    },
    {
     "data": {
      "text/plain": [
       "{'nodeId': 516, 'score': 0.15000000000000002}"
      ]
     },
     "metadata": {},
     "output_type": "display_data"
    },
    {
     "data": {
      "text/plain": [
       "{'nodeId': 517, 'score': 0.15000000000000002}"
      ]
     },
     "metadata": {},
     "output_type": "display_data"
    },
    {
     "data": {
      "text/plain": [
       "{'nodeId': 518, 'score': 0.15000000000000002}"
      ]
     },
     "metadata": {},
     "output_type": "display_data"
    },
    {
     "data": {
      "text/plain": [
       "{'nodeId': 519, 'score': 0.15000000000000002}"
      ]
     },
     "metadata": {},
     "output_type": "display_data"
    },
    {
     "data": {
      "text/plain": [
       "{'nodeId': 520, 'score': 0.15000000000000002}"
      ]
     },
     "metadata": {},
     "output_type": "display_data"
    },
    {
     "data": {
      "text/plain": [
       "{'nodeId': 521, 'score': 0.15000000000000002}"
      ]
     },
     "metadata": {},
     "output_type": "display_data"
    },
    {
     "data": {
      "text/plain": [
       "{'nodeId': 522, 'score': 0.15000000000000002}"
      ]
     },
     "metadata": {},
     "output_type": "display_data"
    },
    {
     "data": {
      "text/plain": [
       "{'nodeId': 523, 'score': 0.15000000000000002}"
      ]
     },
     "metadata": {},
     "output_type": "display_data"
    },
    {
     "data": {
      "text/plain": [
       "{'nodeId': 524, 'score': 0.15000000000000002}"
      ]
     },
     "metadata": {},
     "output_type": "display_data"
    },
    {
     "data": {
      "text/plain": [
       "{'nodeId': 525, 'score': 0.15000000000000002}"
      ]
     },
     "metadata": {},
     "output_type": "display_data"
    },
    {
     "data": {
      "text/plain": [
       "{'nodeId': 526, 'score': 0.15000000000000002}"
      ]
     },
     "metadata": {},
     "output_type": "display_data"
    },
    {
     "data": {
      "text/plain": [
       "{'nodeId': 527, 'score': 0.15000000000000002}"
      ]
     },
     "metadata": {},
     "output_type": "display_data"
    },
    {
     "data": {
      "text/plain": [
       "{'nodeId': 528, 'score': 0.15000000000000002}"
      ]
     },
     "metadata": {},
     "output_type": "display_data"
    },
    {
     "data": {
      "text/plain": [
       "{'nodeId': 529, 'score': 0.15000000000000002}"
      ]
     },
     "metadata": {},
     "output_type": "display_data"
    },
    {
     "data": {
      "text/plain": [
       "{'nodeId': 530, 'score': 0.15000000000000002}"
      ]
     },
     "metadata": {},
     "output_type": "display_data"
    },
    {
     "data": {
      "text/plain": [
       "{'nodeId': 531, 'score': 0.15000000000000002}"
      ]
     },
     "metadata": {},
     "output_type": "display_data"
    },
    {
     "data": {
      "text/plain": [
       "{'nodeId': 532, 'score': 0.15000000000000002}"
      ]
     },
     "metadata": {},
     "output_type": "display_data"
    },
    {
     "data": {
      "text/plain": [
       "{'nodeId': 533, 'score': 0.15000000000000002}"
      ]
     },
     "metadata": {},
     "output_type": "display_data"
    },
    {
     "data": {
      "text/plain": [
       "{'nodeId': 534, 'score': 0.15000000000000002}"
      ]
     },
     "metadata": {},
     "output_type": "display_data"
    },
    {
     "data": {
      "text/plain": [
       "{'nodeId': 535, 'score': 0.15000000000000002}"
      ]
     },
     "metadata": {},
     "output_type": "display_data"
    },
    {
     "data": {
      "text/plain": [
       "{'nodeId': 536, 'score': 0.15000000000000002}"
      ]
     },
     "metadata": {},
     "output_type": "display_data"
    },
    {
     "data": {
      "text/plain": [
       "{'nodeId': 537, 'score': 0.15000000000000002}"
      ]
     },
     "metadata": {},
     "output_type": "display_data"
    },
    {
     "data": {
      "text/plain": [
       "{'nodeId': 538, 'score': 0.15000000000000002}"
      ]
     },
     "metadata": {},
     "output_type": "display_data"
    },
    {
     "data": {
      "text/plain": [
       "{'nodeId': 539, 'score': 0.15000000000000002}"
      ]
     },
     "metadata": {},
     "output_type": "display_data"
    },
    {
     "data": {
      "text/plain": [
       "{'nodeId': 540, 'score': 0.15000000000000002}"
      ]
     },
     "metadata": {},
     "output_type": "display_data"
    },
    {
     "data": {
      "text/plain": [
       "{'nodeId': 541, 'score': 0.15000000000000002}"
      ]
     },
     "metadata": {},
     "output_type": "display_data"
    },
    {
     "data": {
      "text/plain": [
       "{'nodeId': 542, 'score': 0.15000000000000002}"
      ]
     },
     "metadata": {},
     "output_type": "display_data"
    },
    {
     "data": {
      "text/plain": [
       "{'nodeId': 543, 'score': 0.15000000000000002}"
      ]
     },
     "metadata": {},
     "output_type": "display_data"
    },
    {
     "data": {
      "text/plain": [
       "{'nodeId': 544, 'score': 0.15000000000000002}"
      ]
     },
     "metadata": {},
     "output_type": "display_data"
    },
    {
     "data": {
      "text/plain": [
       "{'nodeId': 545, 'score': 0.15000000000000002}"
      ]
     },
     "metadata": {},
     "output_type": "display_data"
    },
    {
     "data": {
      "text/plain": [
       "{'nodeId': 546, 'score': 0.15000000000000002}"
      ]
     },
     "metadata": {},
     "output_type": "display_data"
    },
    {
     "data": {
      "text/plain": [
       "{'nodeId': 547, 'score': 0.15000000000000002}"
      ]
     },
     "metadata": {},
     "output_type": "display_data"
    },
    {
     "data": {
      "text/plain": [
       "{'nodeId': 548, 'score': 0.15000000000000002}"
      ]
     },
     "metadata": {},
     "output_type": "display_data"
    },
    {
     "data": {
      "text/plain": [
       "{'nodeId': 549, 'score': 0.15000000000000002}"
      ]
     },
     "metadata": {},
     "output_type": "display_data"
    },
    {
     "data": {
      "text/plain": [
       "{'nodeId': 550, 'score': 0.15000000000000002}"
      ]
     },
     "metadata": {},
     "output_type": "display_data"
    },
    {
     "data": {
      "text/plain": [
       "{'nodeId': 551, 'score': 0.15000000000000002}"
      ]
     },
     "metadata": {},
     "output_type": "display_data"
    },
    {
     "data": {
      "text/plain": [
       "{'nodeId': 552, 'score': 0.15000000000000002}"
      ]
     },
     "metadata": {},
     "output_type": "display_data"
    },
    {
     "data": {
      "text/plain": [
       "{'nodeId': 553, 'score': 0.15000000000000002}"
      ]
     },
     "metadata": {},
     "output_type": "display_data"
    },
    {
     "data": {
      "text/plain": [
       "{'nodeId': 554, 'score': 0.15000000000000002}"
      ]
     },
     "metadata": {},
     "output_type": "display_data"
    },
    {
     "data": {
      "text/plain": [
       "{'nodeId': 555, 'score': 0.15000000000000002}"
      ]
     },
     "metadata": {},
     "output_type": "display_data"
    },
    {
     "data": {
      "text/plain": [
       "{'nodeId': 556, 'score': 0.15000000000000002}"
      ]
     },
     "metadata": {},
     "output_type": "display_data"
    },
    {
     "data": {
      "text/plain": [
       "{'nodeId': 557, 'score': 0.15000000000000002}"
      ]
     },
     "metadata": {},
     "output_type": "display_data"
    },
    {
     "data": {
      "text/plain": [
       "{'nodeId': 558, 'score': 0.15000000000000002}"
      ]
     },
     "metadata": {},
     "output_type": "display_data"
    },
    {
     "data": {
      "text/plain": [
       "{'nodeId': 559, 'score': 0.15000000000000002}"
      ]
     },
     "metadata": {},
     "output_type": "display_data"
    },
    {
     "data": {
      "text/plain": [
       "{'nodeId': 560, 'score': 0.15000000000000002}"
      ]
     },
     "metadata": {},
     "output_type": "display_data"
    },
    {
     "data": {
      "text/plain": [
       "{'nodeId': 561, 'score': 0.15000000000000002}"
      ]
     },
     "metadata": {},
     "output_type": "display_data"
    },
    {
     "data": {
      "text/plain": [
       "{'nodeId': 562, 'score': 0.15000000000000002}"
      ]
     },
     "metadata": {},
     "output_type": "display_data"
    },
    {
     "data": {
      "text/plain": [
       "{'nodeId': 563, 'score': 0.15000000000000002}"
      ]
     },
     "metadata": {},
     "output_type": "display_data"
    },
    {
     "data": {
      "text/plain": [
       "{'nodeId': 564, 'score': 0.15000000000000002}"
      ]
     },
     "metadata": {},
     "output_type": "display_data"
    },
    {
     "data": {
      "text/plain": [
       "{'nodeId': 565, 'score': 0.15000000000000002}"
      ]
     },
     "metadata": {},
     "output_type": "display_data"
    },
    {
     "data": {
      "text/plain": [
       "{'nodeId': 566, 'score': 0.15000000000000002}"
      ]
     },
     "metadata": {},
     "output_type": "display_data"
    },
    {
     "data": {
      "text/plain": [
       "{'nodeId': 567, 'score': 0.15000000000000002}"
      ]
     },
     "metadata": {},
     "output_type": "display_data"
    },
    {
     "data": {
      "text/plain": [
       "{'nodeId': 568, 'score': 0.15000000000000002}"
      ]
     },
     "metadata": {},
     "output_type": "display_data"
    },
    {
     "data": {
      "text/plain": [
       "{'nodeId': 569, 'score': 0.15000000000000002}"
      ]
     },
     "metadata": {},
     "output_type": "display_data"
    },
    {
     "data": {
      "text/plain": [
       "{'nodeId': 570, 'score': 0.15000000000000002}"
      ]
     },
     "metadata": {},
     "output_type": "display_data"
    },
    {
     "data": {
      "text/plain": [
       "{'nodeId': 571, 'score': 0.15000000000000002}"
      ]
     },
     "metadata": {},
     "output_type": "display_data"
    },
    {
     "data": {
      "text/plain": [
       "{'nodeId': 572, 'score': 0.15000000000000002}"
      ]
     },
     "metadata": {},
     "output_type": "display_data"
    },
    {
     "data": {
      "text/plain": [
       "{'nodeId': 573, 'score': 0.15000000000000002}"
      ]
     },
     "metadata": {},
     "output_type": "display_data"
    },
    {
     "data": {
      "text/plain": [
       "{'nodeId': 574, 'score': 0.15000000000000002}"
      ]
     },
     "metadata": {},
     "output_type": "display_data"
    },
    {
     "data": {
      "text/plain": [
       "{'nodeId': 575, 'score': 0.15000000000000002}"
      ]
     },
     "metadata": {},
     "output_type": "display_data"
    },
    {
     "data": {
      "text/plain": [
       "{'nodeId': 576, 'score': 0.15000000000000002}"
      ]
     },
     "metadata": {},
     "output_type": "display_data"
    },
    {
     "data": {
      "text/plain": [
       "{'nodeId': 577, 'score': 0.15000000000000002}"
      ]
     },
     "metadata": {},
     "output_type": "display_data"
    },
    {
     "data": {
      "text/plain": [
       "{'nodeId': 578, 'score': 0.15000000000000002}"
      ]
     },
     "metadata": {},
     "output_type": "display_data"
    },
    {
     "data": {
      "text/plain": [
       "{'nodeId': 579, 'score': 0.15000000000000002}"
      ]
     },
     "metadata": {},
     "output_type": "display_data"
    },
    {
     "data": {
      "text/plain": [
       "{'nodeId': 580, 'score': 0.15000000000000002}"
      ]
     },
     "metadata": {},
     "output_type": "display_data"
    },
    {
     "data": {
      "text/plain": [
       "{'nodeId': 581, 'score': 0.15000000000000002}"
      ]
     },
     "metadata": {},
     "output_type": "display_data"
    },
    {
     "data": {
      "text/plain": [
       "{'nodeId': 582, 'score': 0.15000000000000002}"
      ]
     },
     "metadata": {},
     "output_type": "display_data"
    },
    {
     "data": {
      "text/plain": [
       "{'nodeId': 583, 'score': 0.15000000000000002}"
      ]
     },
     "metadata": {},
     "output_type": "display_data"
    },
    {
     "data": {
      "text/plain": [
       "{'nodeId': 584, 'score': 0.15000000000000002}"
      ]
     },
     "metadata": {},
     "output_type": "display_data"
    },
    {
     "data": {
      "text/plain": [
       "{'nodeId': 585, 'score': 0.15000000000000002}"
      ]
     },
     "metadata": {},
     "output_type": "display_data"
    },
    {
     "data": {
      "text/plain": [
       "{'nodeId': 586, 'score': 0.15000000000000002}"
      ]
     },
     "metadata": {},
     "output_type": "display_data"
    },
    {
     "data": {
      "text/plain": [
       "{'nodeId': 587, 'score': 0.15000000000000002}"
      ]
     },
     "metadata": {},
     "output_type": "display_data"
    },
    {
     "data": {
      "text/plain": [
       "{'nodeId': 588, 'score': 0.15000000000000002}"
      ]
     },
     "metadata": {},
     "output_type": "display_data"
    },
    {
     "data": {
      "text/plain": [
       "{'nodeId': 589, 'score': 0.15000000000000002}"
      ]
     },
     "metadata": {},
     "output_type": "display_data"
    },
    {
     "data": {
      "text/plain": [
       "{'nodeId': 590, 'score': 0.15000000000000002}"
      ]
     },
     "metadata": {},
     "output_type": "display_data"
    },
    {
     "data": {
      "text/plain": [
       "{'nodeId': 591, 'score': 0.15000000000000002}"
      ]
     },
     "metadata": {},
     "output_type": "display_data"
    },
    {
     "data": {
      "text/plain": [
       "{'nodeId': 592, 'score': 0.15000000000000002}"
      ]
     },
     "metadata": {},
     "output_type": "display_data"
    },
    {
     "data": {
      "text/plain": [
       "{'nodeId': 593, 'score': 0.15000000000000002}"
      ]
     },
     "metadata": {},
     "output_type": "display_data"
    },
    {
     "data": {
      "text/plain": [
       "{'nodeId': 594, 'score': 0.15000000000000002}"
      ]
     },
     "metadata": {},
     "output_type": "display_data"
    },
    {
     "data": {
      "text/plain": [
       "{'nodeId': 595, 'score': 0.15000000000000002}"
      ]
     },
     "metadata": {},
     "output_type": "display_data"
    }
   ],
   "source": [
    "with driver.session() as session:\n",
    "    result = session.run(\n",
    "        \"CALL gds.pageRank.stream($graphName, $algoConfig)\",\n",
    "        graphName=graphName,\n",
    "        algoConfig=algoConfig,\n",
    "    )\n",
    "    for record in result:\n",
    "        display(record.data())"
   ]
  },
  {
   "cell_type": "markdown",
   "metadata": {},
   "source": [
    "### Using `gds.util.asNode` to get more meaningful results"
   ]
  },
  {
   "cell_type": "code",
   "execution_count": 12,
   "metadata": {},
   "outputs": [
    {
     "name": "stdout",
     "output_type": "stream",
     "text": [
      "1 0.15000000000000002\n",
      "31 1.2015889465401788\n",
      "32 0.9368947641923059\n",
      "33 0.40118663210085753\n",
      "34 0.6474721600976866\n",
      "35 1.7195233403071672\n",
      "36 1.9510034872007922\n",
      "37 0.40118663210085753\n",
      "38 2.7849972380498356\n",
      "39 0.9060119443147444\n",
      "40 8.958210849039709\n",
      "41 11.39142650805512\n",
      "42 10.281084237399568\n",
      "43 3.5017948106256043\n",
      "44 4.415276402886349\n",
      "45 12.85524284850597\n",
      "46 10.37241246941699\n",
      "47 1.8365514900370796\n",
      "48 14.577395463398377\n",
      "49 2.150172397267708\n",
      "50 9.217454568749671\n",
      "51 5.671682283086752\n",
      "52 10.595479889706656\n",
      "53 4.629366092607626\n",
      "54 3.908020961206628\n",
      "55 10.428847456696767\n",
      "56 7.819638819061649\n",
      "57 7.9270567014025275\n",
      "58 1.4355091719974722\n",
      "59 9.681024473826707\n",
      "60 13.769120230411012\n",
      "61 10.271747985774319\n",
      "62 2.1484198026774175\n",
      "63 10.858332639222349\n",
      "64 1.0451680935984478\n",
      "65 5.106388740052653\n",
      "66 1.3150636204630122\n",
      "67 11.588365163700056\n",
      "68 11.04530351721124\n",
      "69 1.0750426913683968\n",
      "80 0.40118663210085753\n",
      "81 0.40118663210085753\n",
      "82 0.40118663210085753\n",
      "83 0.40118663210085753\n",
      "84 0.6597264163179154\n",
      "85 0.40118663210085753\n",
      "86 2.485155219999961\n",
      "87 0.40118663210085753\n",
      "88 0.40118663210085753\n",
      "89 0.40118663210085753\n",
      "90 0.6892331738285513\n",
      "91 1.914974093402249\n",
      "92 0.40118663210085753\n",
      "93 1.626927551674555\n",
      "94 0.40118663210085753\n",
      "95 0.40118663210085753\n",
      "96 0.40118663210085753\n",
      "97 1.626927551674555\n",
      "98 0.9848753089455855\n",
      "99 0.3962855279968291\n",
      "100 0.9504023144393219\n",
      "101 0.7062545303310644\n",
      "102 0.6527612330884018\n",
      "103 0.6527612330884018\n",
      "104 0.7062545303310644\n",
      "105 0.3962855279968291\n",
      "106 0.6527612330884018\n",
      "107 0.3962855279968291\n",
      "108 0.9319936600882777\n",
      "109 0.7211669273117128\n",
      "110 0.3962855279968291\n",
      "111 0.3962855279968291\n",
      "112 0.6548253122138868\n",
      "113 0.3962855279968291\n",
      "114 0.3962855279968291\n",
      "115 0.3962855279968291\n",
      "116 0.3962855279968291\n",
      "117 0.3962855279968291\n",
      "118 0.9600136006507631\n",
      "119 0.3962855279968291\n",
      "120 0.4292324269998761\n",
      "121 0.4292324269998761\n",
      "122 0.4292324269998761\n",
      "123 0.4292324269998761\n",
      "124 0.4292324269998761\n",
      "125 0.4292324269998761\n",
      "126 0.4292324269998761\n",
      "127 0.4292324269998761\n",
      "128 0.4292324269998761\n",
      "129 0.4292324269998761\n",
      "130 0.4292324269998761\n",
      "131 0.4292324269998761\n",
      "132 0.4292324269998761\n",
      "133 0.7172789687275696\n",
      "134 0.4292324269998761\n",
      "135 0.4292324269998761\n",
      "136 0.4292324269998761\n",
      "137 0.4292324269998761\n",
      "138 0.7172789687275696\n",
      "139 0.4292324269998761\n",
      "140 0.4292324269998761\n",
      "141 1.008227668325406\n",
      "142 0.47745017736230666\n",
      "143 0.47745017736230666\n",
      "144 0.47745017736230666\n",
      "145 4.983351491354544\n",
      "146 0.47745017736230666\n",
      "147 0.47745017736230666\n",
      "148 0.47745017736230666\n",
      "149 0.47745017736230666\n",
      "150 0.459298981371927\n",
      "151 0.459298981371927\n",
      "152 0.459298981371927\n",
      "153 0.459298981371927\n",
      "154 0.459298981371927\n",
      "155 0.459298981371927\n",
      "156 1.0564919296086186\n",
      "157 0.459298981371927\n",
      "158 0.459298981371927\n",
      "159 0.7851670203467805\n",
      "160 0.4985100805484842\n",
      "161 0.4985100805484842\n",
      "162 0.4985100805484842\n",
      "163 0.4985100805484842\n",
      "164 0.4985100805484842\n",
      "165 0.4985100805484842\n",
      "166 0.4985100805484842\n",
      "167 0.4985100805484842\n",
      "168 0.4985100805484842\n",
      "169 0.4985100805484842\n",
      "170 0.4985100805484842\n",
      "171 0.4985100805484842\n",
      "172 0.4985100805484842\n",
      "173 0.7894587801463201\n",
      "174 0.4985100805484842\n",
      "175 0.4985100805484842\n",
      "176 0.4985100805484842\n",
      "177 0.4985100805484842\n",
      "178 0.4985100805484842\n",
      "179 0.4985100805484842\n",
      "180 0.4985100805484842\n",
      "181 0.4985100805484842\n",
      "182 0.4985100805484842\n",
      "183 0.4985100805484842\n",
      "184 0.4985100805484842\n",
      "185 0.4985100805484842\n",
      "186 0.4985100805484842\n",
      "187 0.4985100805484842\n",
      "188 0.4985100805484842\n",
      "189 0.44094869959783606\n",
      "190 0.9687493139512466\n",
      "191 0.44094869959783606\n",
      "192 0.44094869959783606\n",
      "193 0.44094869959783606\n",
      "194 0.44094869959783606\n",
      "195 0.44094869959783606\n",
      "196 0.44094869959783606\n",
      "197 0.44094869959783606\n",
      "198 0.44094869959783606\n",
      "199 0.44094869959783606\n",
      "200 0.44094869959783606\n",
      "201 0.44094869959783606\n",
      "202 0.44094869959783606\n",
      "203 0.44094869959783606\n",
      "204 0.44094869959783606\n",
      "205 0.44094869959783606\n",
      "206 0.44094869959783606\n",
      "207 0.44094869959783606\n",
      "208 0.44094869959783606\n",
      "209 0.44094869959783606\n",
      "210 0.44094869959783606\n",
      "211 0.45908337699799034\n",
      "212 0.45908337699799034\n",
      "213 0.45908337699799034\n",
      "214 1.014085788776728\n",
      "215 0.4064757050915725\n",
      "216 0.7041167864424932\n",
      "217 0.4064757050915725\n",
      "218 0.4064757050915725\n",
      "219 0.4064757050915725\n",
      "220 0.4064757050915725\n",
      "221 0.4064757050915725\n",
      "222 0.4064757050915725\n",
      "223 0.4064757050915725\n",
      "224 0.4064757050915725\n",
      "225 0.4064757050915725\n",
      "226 0.4064757050915725\n",
      "227 0.4064757050915725\n",
      "228 0.4064757050915725\n",
      "229 0.4064757050915725\n",
      "230 0.4064757050915725\n",
      "231 0.4064757050915725\n",
      "232 0.6221342210179971\n",
      "233 0.4080405890061903\n",
      "234 0.6221342210179971\n",
      "235 0.6221342210179971\n",
      "236 0.4080405890061903\n",
      "237 0.408539784217058\n",
      "238 0.408539784217058\n",
      "239 0.408539784217058\n",
      "240 0.408539784217058\n",
      "241 0.408539784217058\n",
      "242 0.408539784217058\n",
      "243 0.408539784217058\n",
      "244 0.408539784217058\n",
      "245 0.408539784217058\n",
      "246 0.408539784217058\n",
      "247 0.7185087865512931\n",
      "248 0.408539784217058\n",
      "249 0.9920985927342219\n",
      "250 0.408539784217058\n",
      "251 0.408539784217058\n",
      "252 0.408539784217058\n",
      "253 0.408539784217058\n",
      "254 1.427125745484834\n",
      "255 0.5163967020172764\n",
      "256 0.5163967020172764\n",
      "257 0.5163967020172764\n",
      "258 0.5163967020172764\n",
      "259 0.5163967020172764\n",
      "260 0.5163967020172764\n",
      "261 0.5163967020172764\n",
      "262 0.5163967020172764\n",
      "263 0.5163967020172764\n",
      "264 0.5163967020172764\n",
      "265 0.5163967020172764\n",
      "266 0.5163967020172764\n",
      "267 0.44764108135092034\n",
      "268 0.44764108135092034\n",
      "269 0.44764108135092034\n",
      "270 0.44764108135092034\n",
      "271 0.44764108135092034\n",
      "272 0.44764108135092034\n",
      "273 0.44764108135092034\n",
      "274 0.44764108135092034\n",
      "275 0.44764108135092034\n",
      "276 0.44764108135092034\n",
      "277 0.44764108135092034\n",
      "278 0.7576100836851557\n",
      "279 0.44764108135092034\n",
      "280 0.44764108135092034\n",
      "281 0.44764108135092034\n",
      "282 0.44764108135092034\n",
      "283 0.44764108135092034\n",
      "284 0.44764108135092034\n",
      "285 0.44764108135092034\n",
      "286 0.44764108135092034\n",
      "287 0.44764108135092034\n",
      "288 0.44764108135092034\n",
      "289 0.36569560277998137\n",
      "290 0.36569560277998137\n",
      "291 0.851114144053626\n",
      "292 0.579789234791788\n",
      "293 0.8002632658984824\n",
      "294 0.8002632658984824\n",
      "295 0.36569560277998137\n",
      "296 0.8002632658984824\n",
      "297 0.8002632658984824\n",
      "298 0.5149755621181696\n",
      "299 0.5149755621181696\n",
      "300 0.5149755621181696\n",
      "301 0.5149755621181696\n",
      "302 0.5149755621181696\n",
      "303 0.5149755621181696\n",
      "304 0.5149755621181696\n",
      "305 0.5149755621181696\n",
      "306 0.41608699130301385\n",
      "307 0.41608699130301385\n",
      "308 0.41608699130301385\n",
      "309 0.41608699130301385\n",
      "310 0.7409683906178977\n",
      "311 0.41608699130301385\n",
      "312 0.41608699130301385\n",
      "313 0.41608699130301385\n",
      "314 0.41608699130301385\n",
      "315 0.41608699130301385\n",
      "316 0.41608699130301385\n",
      "317 0.41608699130301385\n",
      "318 0.41608699130301385\n",
      "319 0.41608699130301385\n",
      "320 0.41608699130301385\n",
      "321 0.41608699130301385\n",
      "322 0.41608699130301385\n",
      "323 0.41608699130301385\n",
      "324 0.41608699130301385\n",
      "325 0.41608699130301385\n",
      "326 0.4959378086102559\n",
      "327 0.4959378086102559\n",
      "328 0.4959378086102559\n",
      "329 0.4959378086102559\n",
      "330 0.4959378086102559\n",
      "331 0.4959378086102559\n",
      "332 0.4959378086102559\n",
      "333 0.4959378086102559\n",
      "334 0.4959378086102559\n",
      "335 0.4959378086102559\n",
      "336 0.4959378086102559\n",
      "337 0.4959378086102559\n",
      "338 0.4959378086102559\n",
      "339 0.4959378086102559\n",
      "340 0.4959378086102559\n",
      "341 0.4959378086102559\n",
      "342 0.4959378086102559\n",
      "343 0.4674718172141504\n",
      "344 0.4674718172141504\n",
      "345 0.4674718172141504\n",
      "346 0.4674718172141504\n",
      "347 0.4674718172141504\n",
      "348 0.4674718172141504\n",
      "349 0.4674718172141504\n",
      "350 0.4674718172141504\n",
      "351 0.4674718172141504\n",
      "352 0.4674718172141504\n",
      "353 0.4674718172141504\n",
      "354 0.4674718172141504\n",
      "355 0.4674718172141504\n",
      "356 0.4674718172141504\n",
      "357 0.4674718172141504\n",
      "358 0.4674718172141504\n",
      "359 0.4674718172141504\n",
      "360 0.4519253506550547\n",
      "361 0.4519253506550547\n",
      "362 0.4213249092618379\n",
      "363 0.4213249092618379\n",
      "364 0.4213249092618379\n",
      "365 0.4213249092618379\n",
      "366 0.4213249092618379\n",
      "367 0.4213249092618379\n",
      "368 0.4213249092618379\n",
      "369 0.4213249092618379\n",
      "370 0.4213249092618379\n",
      "371 0.4213249092618379\n",
      "372 0.4213249092618379\n",
      "373 0.4213249092618379\n",
      "374 0.4213249092618379\n",
      "375 0.4213249092618379\n",
      "376 0.4213249092618379\n",
      "377 0.4213249092618379\n",
      "378 0.4213249092618379\n",
      "379 0.4213249092618379\n",
      "380 0.4213249092618379\n",
      "381 0.5343111435323016\n",
      "382 0.5343111435323016\n",
      "383 0.5343111435323016\n",
      "384 0.5343111435323016\n",
      "385 0.5343111435323016\n",
      "386 0.5343111435323016\n",
      "387 0.5343111435323016\n",
      "388 0.5343111435323016\n",
      "389 0.5343111435323016\n",
      "390 0.5343111435323016\n",
      "391 0.5343111435323016\n",
      "392 0.5343111435323016\n",
      "393 0.5343111435323016\n",
      "394 0.5343111435323016\n",
      "395 0.5343111435323016\n",
      "396 0.5343111435323016\n",
      "397 0.5343111435323016\n",
      "398 0.5343111435323016\n",
      "399 0.5343111435323016\n",
      "400 0.5343111435323016\n",
      "401 0.5343111435323016\n",
      "402 0.5343111435323016\n",
      "403 0.5343111435323016\n",
      "404 0.5343111435323016\n",
      "405 0.5343111435323016\n",
      "406 0.5343111435323016\n",
      "407 0.5343111435323016\n",
      "408 0.5343111435323016\n",
      "409 0.5343111435323016\n",
      "410 0.5343111435323016\n",
      "411 0.43804654172769386\n",
      "412 0.43804654172769386\n",
      "413 0.43804654172769386\n",
      "414 0.7480155440619292\n",
      "415 0.43804654172769386\n",
      "416 0.43804654172769386\n",
      "417 0.43804654172769386\n",
      "418 0.43804654172769386\n",
      "419 0.43804654172769386\n",
      "420 0.43804654172769386\n",
      "421 0.43804654172769386\n",
      "422 0.43804654172769386\n",
      "423 0.43804654172769386\n",
      "424 0.43804654172769386\n",
      "425 0.43804654172769386\n",
      "426 0.43804654172769386\n",
      "427 0.43804654172769386\n",
      "428 0.43804654172769386\n",
      "429 0.43804654172769386\n",
      "430 0.43804654172769386\n",
      "431 0.43804654172769386\n",
      "432 0.5115528656430867\n",
      "433 0.5115528656430867\n",
      "434 0.5115528656430867\n",
      "435 0.5115528656430867\n",
      "436 0.4758680389748535\n",
      "437 0.4758680389748535\n",
      "438 0.4758680389748535\n",
      "439 0.4758680389748535\n",
      "440 0.4758680389748535\n",
      "441 0.4758680389748535\n",
      "442 0.4758680389748535\n",
      "443 0.4758680389748535\n",
      "444 0.4758680389748535\n",
      "445 0.4758680389748535\n",
      "446 0.4758680389748535\n",
      "447 0.4758680389748535\n",
      "448 0.4758680389748535\n",
      "449 0.4758680389748535\n",
      "450 0.4758680389748535\n",
      "451 0.4758680389748535\n",
      "452 0.4758680389748535\n",
      "453 0.4758680389748535\n",
      "454 0.4758680389748535\n",
      "455 0.4758680389748535\n",
      "456 0.4758680389748535\n",
      "457 0.4758680389748535\n",
      "458 0.4758680389748535\n",
      "459 0.4430215927754181\n",
      "460 0.36409363201180667\n",
      "461 0.36409363201180667\n",
      "462 0.47488139931488377\n",
      "463 0.47488139931488377\n",
      "464 0.47488139931488377\n",
      "465 0.47488139931488377\n",
      "466 0.47488139931488377\n",
      "467 0.47488139931488377\n",
      "468 0.47488139931488377\n",
      "469 0.47488139931488377\n",
      "470 0.47488139931488377\n",
      "471 0.47488139931488377\n",
      "472 0.47488139931488377\n",
      "473 0.47488139931488377\n",
      "474 0.47488139931488377\n",
      "475 0.47488139931488377\n",
      "476 0.47488139931488377\n",
      "477 0.47488139931488377\n",
      "478 0.47488139931488377\n",
      "479 0.47488139931488377\n",
      "480 0.47488139931488377\n",
      "481 0.47488139931488377\n",
      "482 0.47488139931488377\n",
      "483 0.47488139931488377\n",
      "484 0.47488139931488377\n",
      "485 0.47488139931488377\n",
      "486 0.47488139931488377\n",
      "487 0.45996900233423543\n",
      "488 0.45996900233423543\n",
      "489 0.45996900233423543\n",
      "490 0.45996900233423543\n",
      "491 0.45996900233423543\n",
      "492 0.45996900233423543\n",
      "493 0.45996900233423543\n",
      "494 0.45996900233423543\n",
      "495 0.45996900233423543\n",
      "496 0.45996900233423543\n",
      "497 0.45996900233423543\n",
      "498 0.45996900233423543\n",
      "499 0.45996900233423543\n",
      "500 0.45996900233423543\n",
      "501 0.45996900233423543\n",
      "502 0.45996900233423543\n",
      "503 0.45996900233423543\n",
      "504 0.45996900233423543\n",
      "505 0.45996900233423543\n",
      "506 0.45996900233423543\n",
      "507 0.45996900233423543\n",
      "508 0.45996900233423543\n",
      "509 0.4520653627093811\n",
      "11760 0.15000000000000002\n",
      "11779 0.15000000000000002\n",
      "11811 0.15000000000000002\n",
      "11842 0.15000000000000002\n",
      "11995 0.15000000000000002\n",
      "12019 0.15000000000000002\n",
      "12027 0.15000000000000002\n",
      "12111 0.15000000000000002\n",
      "12120 0.15000000000000002\n",
      "12147 0.15000000000000002\n",
      "12179 0.15000000000000002\n",
      "12241 0.15000000000000002\n",
      "12265 0.15000000000000002\n",
      "12377 0.15000000000000002\n",
      "12397 0.15000000000000002\n",
      "12425 0.15000000000000002\n",
      "12436 0.15000000000000002\n",
      "12464 0.15000000000000002\n",
      "12478 0.15000000000000002\n",
      "12501 0.15000000000000002\n",
      "12503 0.15000000000000002\n",
      "12528 0.15000000000000002\n",
      "12531 0.15000000000000002\n",
      "12534 0.15000000000000002\n",
      "12544 0.15000000000000002\n",
      "12559 0.15000000000000002\n",
      "12582 0.15000000000000002\n",
      "12622 0.15000000000000002\n",
      "12629 0.15000000000000002\n",
      "12630 0.15000000000000002\n",
      "12637 0.15000000000000002\n",
      "12667 0.15000000000000002\n",
      "12669 0.15000000000000002\n",
      "12692 0.15000000000000002\n",
      "12702 0.15000000000000002\n",
      "12703 0.15000000000000002\n",
      "12706 0.15000000000000002\n",
      "12736 0.15000000000000002\n",
      "12739 0.15000000000000002\n",
      "12761 0.15000000000000002\n",
      "12766 0.15000000000000002\n",
      "12772 0.15000000000000002\n",
      "12795 0.15000000000000002\n",
      "12825 0.15000000000000002\n",
      "12841 0.15000000000000002\n",
      "12869 0.15000000000000002\n",
      "12926 0.15000000000000002\n",
      "12972 0.15000000000000002\n",
      "12993 0.15000000000000002\n",
      "12994 0.15000000000000002\n",
      "13022 0.15000000000000002\n",
      "13041 0.15000000000000002\n",
      "13043 0.15000000000000002\n",
      "13046 0.15000000000000002\n",
      "13077 0.15000000000000002\n",
      "13094 0.15000000000000002\n",
      "13121 0.15000000000000002\n",
      "13149 0.15000000000000002\n",
      "13180 0.15000000000000002\n",
      "13209 0.15000000000000002\n",
      "13234 0.15000000000000002\n",
      "13263 0.15000000000000002\n",
      "13287 0.15000000000000002\n",
      "13314 0.15000000000000002\n",
      "13330 0.15000000000000002\n",
      "13342 0.15000000000000002\n",
      "13371 0.15000000000000002\n",
      "13401 0.15000000000000002\n",
      "13448 0.15000000000000002\n",
      "13478 0.15000000000000002\n",
      "13508 0.15000000000000002\n",
      "13510 0.15000000000000002\n",
      "13527 0.15000000000000002\n",
      "13531 0.15000000000000002\n",
      "13547 0.15000000000000002\n",
      "13635 0.15000000000000002\n",
      "13649 0.15000000000000002\n",
      "13663 0.15000000000000002\n",
      "13681 0.15000000000000002\n",
      "13689 0.15000000000000002\n",
      "13707 0.15000000000000002\n",
      "13745 0.15000000000000002\n",
      "13758 0.15000000000000002\n",
      "13771 0.15000000000000002\n",
      "13799 0.15000000000000002\n",
      "13805 0.15000000000000002\n",
      "13807 0.15000000000000002\n",
      "13808 0.15000000000000002\n",
      "13824 0.15000000000000002\n",
      "13848 0.15000000000000002\n",
      "13879 0.15000000000000002\n",
      "13886 0.15000000000000002\n",
      "13914 0.15000000000000002\n",
      "13938 0.15000000000000002\n",
      "13940 0.15000000000000002\n",
      "13968 0.15000000000000002\n",
      "13991 0.15000000000000002\n",
      "14017 0.15000000000000002\n",
      "14027 0.15000000000000002\n",
      "14034 0.15000000000000002\n",
      "14057 0.15000000000000002\n",
      "14079 0.15000000000000002\n",
      "14110 0.15000000000000002\n",
      "14113 0.15000000000000002\n",
      "14143 0.15000000000000002\n",
      "14162 0.15000000000000002\n",
      "14163 0.15000000000000002\n",
      "14192 0.15000000000000002\n",
      "14204 0.15000000000000002\n",
      "14217 0.15000000000000002\n",
      "14242 0.15000000000000002\n",
      "14272 0.15000000000000002\n",
      "14300 0.15000000000000002\n",
      "14318 0.15000000000000002\n",
      "14344 0.15000000000000002\n",
      "14371 0.15000000000000002\n",
      "14375 0.15000000000000002\n",
      "14401 0.15000000000000002\n",
      "14428 0.15000000000000002\n",
      "14455 0.15000000000000002\n",
      "14483 0.15000000000000002\n",
      "14510 0.15000000000000002\n",
      "14541 0.15000000000000002\n",
      "14569 0.15000000000000002\n",
      "14598 0.15000000000000002\n",
      "14599 0.15000000000000002\n"
     ]
    }
   ],
   "source": [
    "with driver.session() as session:\n",
    "    result = session.run(\n",
    "        \"\"\"CALL gds.pageRank.stream($graphName, $algoConfig)\n",
    "            YIELD nodeId, score\n",
    "            RETURN gds.util.asNode(nodeId) as node, score\n",
    "        \"\"\",\n",
    "        graphName=graphName,\n",
    "        algoConfig=algoConfig,\n",
    "    )\n",
    "    for record in result:\n",
    "        print(record.get(\"node\").get(\"user_id\"), record.get(\"score\"))"
   ]
  },
  {
   "cell_type": "markdown",
   "metadata": {},
   "source": [
    "### Writing results back to the graph"
   ]
  },
  {
   "cell_type": "code",
   "execution_count": 13,
   "metadata": {},
   "outputs": [
    {
     "data": {
      "text/plain": [
       "{'writeMillis': 2871,\n",
       " 'nodePropertiesWritten': 596,\n",
       " 'ranIterations': 20,\n",
       " 'didConverge': False,\n",
       " 'centralityDistribution': {'p99': 10.858336448669434,\n",
       "  'min': 0.14999961853027344,\n",
       "  'max': 14.577452659606934,\n",
       "  'mean': 0.7883754192582713,\n",
       "  'p90': 0.7409696578979492,\n",
       "  'p50': 0.44764041900634766,\n",
       "  'p999': 13.769164085388184,\n",
       "  'p95': 1.8365545272827148,\n",
       "  'p75': 0.49850940704345703},\n",
       " 'postProcessingMillis': 1727,\n",
       " 'preProcessingMillis': 0,\n",
       " 'computeMillis': 45,\n",
       " 'configuration': {'maxIterations': 20,\n",
       "  'writeConcurrency': 4,\n",
       "  'relationshipWeightProperty': None,\n",
       "  'concurrency': 4,\n",
       "  'sourceNodes': [],\n",
       "  'writeProperty': 'pr',\n",
       "  'scaler': 'NONE',\n",
       "  'nodeLabels': ['*'],\n",
       "  'sudo': False,\n",
       "  'dampingFactor': 0.85,\n",
       "  'relationshipTypes': ['*'],\n",
       "  'tolerance': 1e-07,\n",
       "  'username': None}}"
      ]
     },
     "metadata": {},
     "output_type": "display_data"
    }
   ],
   "source": [
    "algoConfig[\"writeProperty\"] = \"pr\"\n",
    "\n",
    "with driver.session() as session:\n",
    "    result = session.run(\n",
    "        \"CALL gds.pageRank.write($graphName, $algoConfig)\",\n",
    "        graphName=graphName,\n",
    "        algoConfig=algoConfig,\n",
    "    )\n",
    "    display(result.single().data())"
   ]
  },
  {
   "cell_type": "markdown",
   "metadata": {},
   "source": [
    "## Dropping a named projected graph"
   ]
  },
  {
   "cell_type": "code",
   "execution_count": 14,
   "metadata": {},
   "outputs": [
    {
     "data": {
      "text/plain": [
       "[{'graphName': 'my_complex_projected_graph',\n",
       "  'database': 'neo4j',\n",
       "  'memoryUsage': '',\n",
       "  'sizeInBytes': -1,\n",
       "  'nodeCount': 596,\n",
       "  'relationshipCount': 1192,\n",
       "  'configuration': {'relationshipProjection': {'FOLLOWS': {'orientation': 'UNDIRECTED',\n",
       "     'aggregation': 'SINGLE',\n",
       "     'type': 'FOLLOWS',\n",
       "     'properties': {}}},\n",
       "   'nodeProjection': {'User': {'label': 'User', 'properties': {}}},\n",
       "   'relationshipProperties': [],\n",
       "   'creationTime': neo4j.time.DateTime(2022, 9, 21, 14, 0, 29, 20704300, tzinfo=<DstTzInfo 'America/Denver' MDT-1 day, 18:00:00 DST>),\n",
       "   'validateRelationships': False,\n",
       "   'readConcurrency': 4,\n",
       "   'sudo': False,\n",
       "   'nodeProperties': [],\n",
       "   'username': None},\n",
       "  'density': 0.0033613445378151263,\n",
       "  'creationTime': neo4j.time.DateTime(2022, 9, 21, 14, 0, 29, 20704300, tzinfo=<DstTzInfo 'America/Denver' MDT-1 day, 18:00:00 DST>),\n",
       "  'modificationTime': neo4j.time.DateTime(2022, 9, 21, 14, 0, 29, 878875300, tzinfo=<DstTzInfo 'America/Denver' MDT-1 day, 18:00:00 DST>),\n",
       "  'schema': {'relationships': {'FOLLOWS': {}}, 'nodes': {'User': {}}}}]"
      ]
     },
     "metadata": {},
     "output_type": "display_data"
    }
   ],
   "source": [
    "with driver.session() as session:\n",
    "    result = session.run(\n",
    "        \"CALL gds.graph.drop($graphName)\",\n",
    "        graphName=graphName,\n",
    "    )\n",
    "    display(result.data())"
   ]
  }
 ],
 "metadata": {
  "kernelspec": {
   "display_name": "Python 3",
   "language": "python",
   "name": "python3"
  },
  "language_info": {
   "codemirror_mode": {
    "name": "ipython",
    "version": 3
   },
   "file_extension": ".py",
   "mimetype": "text/x-python",
   "name": "python",
   "nbconvert_exporter": "python",
   "pygments_lexer": "ipython3",
   "version": "3.8.5"
  }
 },
 "nbformat": 4,
 "nbformat_minor": 4
}

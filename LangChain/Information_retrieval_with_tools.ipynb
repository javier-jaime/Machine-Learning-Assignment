{
  "nbformat": 4,
  "nbformat_minor": 0,
  "metadata": {
    "colab": {
      "provenance": [],
      "authorship_tag": "ABX9TyNBLvn4Ivj5YGM78Nf0mt+E",
      "include_colab_link": true
    },
    "kernelspec": {
      "name": "python3",
      "display_name": "Python 3"
    },
    "language_info": {
      "name": "python"
    }
  },
  "cells": [
    {
      "cell_type": "markdown",
      "metadata": {
        "id": "view-in-github",
        "colab_type": "text"
      },
      "source": [
        "<a href=\"https://colab.research.google.com/github/javier-jaime/Tool-Crib/blob/master/LangChain/Information_retrieval_with_tools.ipynb\" target=\"_parent\"><img src=\"https://colab.research.google.com/assets/colab-badge.svg\" alt=\"Open In Colab\"/></a>"
      ]
    },
    {
      "cell_type": "code",
      "source": [
        "# Install the necessary libraries, it will take a while\n",
        "!pip install langchain\n",
        "!pip install -q streamlit\n",
        "!npm install localtunnel\n",
        "!pip install -U duckduckgo-search\n",
        "!pip install arxiv\n",
        "!pip install wikipedia\n"
      ],
      "metadata": {
        "id": "M68WgOw_tiTM"
      },
      "execution_count": null,
      "outputs": []
    },
    {
      "cell_type": "code",
      "source": [
        "# Set up an agent with tools funtion &\n",
        "# deploy the function in an streamlit app\n",
        "%%writefile app.py\n",
        "import streamlit as st\n",
        "from langchain.callbacks import StreamlitCallbackHandler\n",
        "from langchain.chat_models import ChatOpenAI\n",
        "from langchain.agents import (\n",
        "AgentExecutor, AgentType, initialize_agent, load_tools\n",
        ")\n",
        "\n",
        "def load_agent() -> AgentExecutor:\n",
        "    llm = ChatOpenAI(temperature=0, streaming=True)\n",
        "    # DuckDuckGoSearchRun, arxiv search, wikipedia\n",
        "    tools = load_tools(\n",
        "        tool_names=[\"ddg-search\", \"arxiv\", \"wikipedia\"],\n",
        "        llm=llm\n",
        "    )\n",
        "    return initialize_agent(\n",
        "        tools=tools, llm=llm, agent=AgentType.ZERO_SHOT_REACT_DESCRIPTION,\n",
        "        verbose=True\n",
        "    )\n",
        "\n",
        "chain = load_agent()\n",
        "st_callback = StreamlitCallbackHandler(st.container())\n",
        "\n",
        "if prompt := st.chat_input():\n",
        "    st.chat_message(\"user\").write(prompt)\n",
        "    with st.chat_message(\"assistant\"):\n",
        "        st_callback = StreamlitCallbackHandler(st.container())\n",
        "        response = chain.run(prompt, callbacks=[st_callback])\n",
        "        st.write(response)"
      ],
      "metadata": {
        "colab": {
          "base_uri": "https://localhost:8080/"
        },
        "id": "6yc4T9q6uUM7",
        "outputId": "7b6de128-74d3-42b1-c5e5-f8011298f5da"
      },
      "execution_count": 6,
      "outputs": [
        {
          "output_type": "stream",
          "name": "stdout",
          "text": [
            "Overwriting app.py\n"
          ]
        }
      ]
    },
    {
      "cell_type": "code",
      "source": [
        "# Start the app locally\n",
        "!streamlit run app.py &>/content/logs.txt & curl https://loca.lt/mytunnelpassword"
      ],
      "metadata": {
        "colab": {
          "base_uri": "https://localhost:8080/"
        },
        "id": "68pAsXSwu--T",
        "outputId": "74f9d46a-2584-466a-c2a5-9085cca1d853"
      },
      "execution_count": 8,
      "outputs": [
        {
          "output_type": "stream",
          "name": "stdout",
          "text": [
            "35.236.240.22"
          ]
        }
      ]
    },
    {
      "cell_type": "code",
      "source": [
        "# Expose the app to the world\n",
        "!npx localtunnel --port 8501"
      ],
      "metadata": {
        "colab": {
          "base_uri": "https://localhost:8080/"
        },
        "id": "dqb1C1NFvEMs",
        "outputId": "8f8ddf53-fadd-4776-d079-4b4068dc8e56"
      },
      "execution_count": 9,
      "outputs": [
        {
          "output_type": "stream",
          "name": "stdout",
          "text": [
            "\u001b[K\u001b[?25hnpx: installed 22 in 2.068s\n",
            "your url is: https://rich-pigs-jump.loca.lt\n",
            "^C\n"
          ]
        }
      ]
    }
  ]
}
{
  "nbformat": 4,
  "nbformat_minor": 0,
  "metadata": {
    "colab": {
      "provenance": [],
      "authorship_tag": "ABX9TyPc9xpeH2KsIJoi8IdU756s",
      "include_colab_link": true
    },
    "kernelspec": {
      "name": "python3",
      "display_name": "Python 3"
    },
    "language_info": {
      "name": "python"
    }
  },
  "cells": [
    {
      "cell_type": "markdown",
      "metadata": {
        "id": "view-in-github",
        "colab_type": "text"
      },
      "source": [
        "<a href=\"https://colab.research.google.com/github/javier-jaime/Tool-Crib/blob/master/LangChain/QA_Chain_Neo4j_Cypher.ipynb\" target=\"_parent\"><img src=\"https://colab.research.google.com/assets/colab-badge.svg\" alt=\"Open In Colab\"/></a>"
      ]
    },
    {
      "cell_type": "markdown",
      "source": [
        "## GraphCypherQAChain"
      ],
      "metadata": {
        "id": "-eEXOeyaGWl6"
      }
    },
    {
      "cell_type": "markdown",
      "source": [
        "\n",
        "This notebook shows how to use an LLMs to provide a natural language interface to a graph database you can query with the Cypher query language."
      ],
      "metadata": {
        "id": "ftxXUq64GRg0"
      }
    },
    {
      "cell_type": "code",
      "source": [
        "# Install necessary Libraries\n",
        "!pip install openai\n",
        "!pip install neo4j-driver\n",
        "!pip install langchain\n",
        "from neo4j import GraphDatabase, basic_auth\n",
        "from langchain.chat_models import ChatOpenAI\n",
        "from langchain.chains import GraphCypherQAChain\n",
        "from langchain.graphs import Neo4jGraph"
      ],
      "metadata": {
        "colab": {
          "base_uri": "https://localhost:8080/"
        },
        "id": "LR5PfXHMIT0E",
        "outputId": "a3b67081-90bb-478e-ddc4-1a39d0654fb5"
      },
      "execution_count": null,
      "outputs": [
        {
          "output_type": "stream",
          "name": "stdout",
          "text": [
            "Looking in indexes: https://pypi.org/simple, https://us-python.pkg.dev/colab-wheels/public/simple/\n",
            "Collecting openai\n",
            "  Downloading openai-0.27.7-py3-none-any.whl (71 kB)\n",
            "\u001b[2K     \u001b[90m━━━━━━━━━━━━━━━━━━━━━━━━━━━━━━━━━━━━━━━━\u001b[0m \u001b[32m72.0/72.0 kB\u001b[0m \u001b[31m4.4 MB/s\u001b[0m eta \u001b[36m0:00:00\u001b[0m\n",
            "\u001b[?25hRequirement already satisfied: requests>=2.20 in /usr/local/lib/python3.10/dist-packages (from openai) (2.27.1)\n",
            "Requirement already satisfied: tqdm in /usr/local/lib/python3.10/dist-packages (from openai) (4.65.0)\n",
            "Requirement already satisfied: aiohttp in /usr/local/lib/python3.10/dist-packages (from openai) (3.8.4)\n",
            "Requirement already satisfied: urllib3<1.27,>=1.21.1 in /usr/local/lib/python3.10/dist-packages (from requests>=2.20->openai) (1.26.15)\n",
            "Requirement already satisfied: certifi>=2017.4.17 in /usr/local/lib/python3.10/dist-packages (from requests>=2.20->openai) (2022.12.7)\n",
            "Requirement already satisfied: charset-normalizer~=2.0.0 in /usr/local/lib/python3.10/dist-packages (from requests>=2.20->openai) (2.0.12)\n",
            "Requirement already satisfied: idna<4,>=2.5 in /usr/local/lib/python3.10/dist-packages (from requests>=2.20->openai) (3.4)\n",
            "Requirement already satisfied: attrs>=17.3.0 in /usr/local/lib/python3.10/dist-packages (from aiohttp->openai) (23.1.0)\n",
            "Requirement already satisfied: multidict<7.0,>=4.5 in /usr/local/lib/python3.10/dist-packages (from aiohttp->openai) (6.0.4)\n",
            "Requirement already satisfied: async-timeout<5.0,>=4.0.0a3 in /usr/local/lib/python3.10/dist-packages (from aiohttp->openai) (4.0.2)\n",
            "Requirement already satisfied: yarl<2.0,>=1.0 in /usr/local/lib/python3.10/dist-packages (from aiohttp->openai) (1.9.2)\n",
            "Requirement already satisfied: frozenlist>=1.1.1 in /usr/local/lib/python3.10/dist-packages (from aiohttp->openai) (1.3.3)\n",
            "Requirement already satisfied: aiosignal>=1.1.2 in /usr/local/lib/python3.10/dist-packages (from aiohttp->openai) (1.3.1)\n",
            "Installing collected packages: openai\n",
            "Successfully installed openai-0.27.7\n"
          ]
        }
      ]
    },
    {
      "cell_type": "code",
      "source": [
        "# Access your Secret Key and declare it as an environmental variable\n",
        "import os\n",
        "from google.colab import userdata\n",
        "os.environ[\"OPENAI_API_KEY\"] = userdata.get('OPENAI_API_KEY')"
      ],
      "metadata": {
        "id": "-14o7CieJOrQ"
      },
      "execution_count": null,
      "outputs": []
    },
    {
      "cell_type": "code",
      "source": [
        "# Initialize the Neo4j Driver\n",
        "graph = Neo4jGraph(\n",
        "    url=\"bolt://3.231.56.117:7687\", username=\"neo4j\", password=\"progress-charge-chief\"\n",
        ")"
      ],
      "metadata": {
        "id": "cSzzI1-0GDuw"
      },
      "execution_count": null,
      "outputs": []
    },
    {
      "cell_type": "code",
      "source": [
        "# Refresh Graph Schema (if required)\n",
        "graph.refresh_schema()\n",
        "print(graph.get_schema)"
      ],
      "metadata": {
        "colab": {
          "base_uri": "https://localhost:8080/"
        },
        "id": "xGF76PngHWc8",
        "outputId": "71045006-6d04-424b-a7b7-bb85d21d8458"
      },
      "execution_count": null,
      "outputs": [
        {
          "output_type": "stream",
          "name": "stdout",
          "text": [
            "\n",
            "        Node properties are the following:\n",
            "        [{'properties': [{'property': 'name', 'type': 'STRING'}, {'property': 'born', 'type': 'INTEGER'}], 'labels': 'Person'}, {'properties': [{'property': 'tagline', 'type': 'STRING'}, {'property': 'title', 'type': 'STRING'}, {'property': 'released', 'type': 'INTEGER'}], 'labels': 'Movie'}]\n",
            "        Relationship properties are the following:\n",
            "        [{'type': 'ACTED_IN', 'properties': [{'property': 'roles', 'type': 'LIST'}]}, {'type': 'REVIEWED', 'properties': [{'property': 'summary', 'type': 'STRING'}, {'property': 'rating', 'type': 'INTEGER'}]}]\n",
            "        The relationships are the following:\n",
            "        ['(:Person)-[:ACTED_IN]->(:Movie)', '(:Person)-[:DIRECTED]->(:Movie)', '(:Person)-[:PRODUCED]->(:Movie)', '(:Person)-[:WROTE]->(:Movie)', '(:Person)-[:FOLLOWS]->(:Person)', '(:Person)-[:REVIEWED]->(:Movie)']\n",
            "        \n"
          ]
        }
      ]
    },
    {
      "cell_type": "code",
      "source": [
        "# Initialize the QA Chain\n",
        "chain = GraphCypherQAChain.from_llm(\n",
        "    ChatOpenAI(temperature=0), graph=graph, verbose=True\n",
        ")"
      ],
      "metadata": {
        "id": "foekLBJzHhti"
      },
      "execution_count": null,
      "outputs": []
    },
    {
      "cell_type": "markdown",
      "source": [
        "## Prompt/Query the Neo4j Sandbox"
      ],
      "metadata": {
        "id": "DW5H_2k_OX5O"
      }
    },
    {
      "cell_type": "code",
      "source": [
        "prompt = input('Enter your question: ')\n",
        "chain.run(prompt)"
      ],
      "metadata": {
        "colab": {
          "base_uri": "https://localhost:8080/",
          "height": 238
        },
        "id": "lh0N7-s8ObyO",
        "outputId": "e188b2f2-c633-4bfe-bd5b-384fdf2fda9a"
      },
      "execution_count": null,
      "outputs": [
        {
          "output_type": "stream",
          "name": "stdout",
          "text": [
            "Enter your question: Who directed Forrest Gump?\n",
            "\n",
            "\n",
            "\u001b[1m> Entering new GraphCypherQAChain chain...\u001b[0m\n",
            "Generated Cypher:\n",
            "\u001b[32;1m\u001b[1;3mMATCH (:Person)-[:DIRECTED]->(m:Movie {title: 'Forrest Gump'}) RETURN DISTINCT labels(m) as Type, m.title as Title, m.released as Released, m.tagline as Tagline, m.summary as Summary, m.rating as Rating, m.roles as Roles, m.born as Born, m.name as Name\u001b[0m\n",
            "Full Context:\n",
            "\u001b[32;1m\u001b[1;3m[]\u001b[0m\n",
            "\n",
            "\u001b[1m> Finished chain.\u001b[0m\n"
          ]
        },
        {
          "output_type": "execute_result",
          "data": {
            "text/plain": [
              "'Robert Zemeckis.'"
            ],
            "application/vnd.google.colaboratory.intrinsic+json": {
              "type": "string"
            }
          },
          "metadata": {},
          "execution_count": 43
        }
      ]
    }
  ]
}
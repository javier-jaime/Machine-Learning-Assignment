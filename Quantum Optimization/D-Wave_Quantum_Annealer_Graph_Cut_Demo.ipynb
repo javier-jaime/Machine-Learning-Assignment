{
 "cells": [
  {
   "cell_type": "markdown",
   "metadata": {
    "id": "9Ld6xO_gU1GD"
   },
   "source": [
    "# D-Wave Quantum Annealer Graph Cut Demo"
   ]
  },
  {
   "cell_type": "markdown",
   "metadata": {},
   "source": [
    "In this demo we will use a quantum annealer (a special type of quantum computers) from D-Wave online, to approximate a solution to combinatorial optimization problems for graph analytics."
   ]
  },
  {
   "cell_type": "markdown",
   "metadata": {},
   "source": [
    "In order to access D-Wave quantum annealer from a Notebook (Jupyter or Colab) first we need to sign up for a D-Wave account: https://cloud.dwavesys.com/leap/signup/. This will give you a free minute, you will need to copy the token for use at set-up."
   ]
  },
  {
   "cell_type": "markdown",
   "metadata": {},
   "source": [
    "### Notebook Preparation"
   ]
  },
  {
   "cell_type": "code",
   "execution_count": null,
   "metadata": {},
   "outputs": [],
   "source": [
    "# Install d-wave ocean libraries the first time, uncomment if required\n",
    "# !pip install dwave-ocean-sdk==6.0.1"
   ]
  },
  {
   "cell_type": "code",
   "execution_count": 4,
   "metadata": {},
   "outputs": [],
   "source": [
    "# Set-up access to D-Wave quantum annealers\n",
    "# enter token when prompted, if not (colab) run it in command line\n",
    "#! dwave config create"
   ]
  },
  {
   "cell_type": "markdown",
   "metadata": {},
   "source": [
    "### Simple Max-Cut Problem"
   ]
  },
  {
   "cell_type": "markdown",
   "metadata": {},
   "source": [
    "In a graph, some given *elements* are represented as **nodes** or vertices, and the *connections* between pairs of these nodes are called **relationships** or edges.\n",
    "\n",
    "The **Max-Cut problem** consists in finding a maximum cut of a graph. So, we want to divide the nodes of the graph in two sets such that the number of relationships with extremes in different set of the cut is the maximum possible, this number is the size of the cut.\n",
    "\n",
    "For example, in a community building networking event, the relationships represent the people that already know each other, and we need to form teams trying to minimize the people that know each other, so they can work with new people."
   ]
  },
  {
   "cell_type": "markdown",
   "metadata": {},
   "source": [
    "We start with a very simple instance of the Max-Cut problem to show how easy be transformed into quantum form, consider this graph:"
   ]
  },
  {
   "attachments": {
    "image.png": {
     "image/png": "[encoded data removed]"
    }
   },
   "cell_type": "markdown",
   "metadata": {},
   "source": [
    "![image.png](attachment:image.png)"
   ]
  },
  {
   "cell_type": "markdown",
   "metadata": {},
   "source": [
    "The Max-Cut problem can be written as follows:"
   ]
  },
  {
   "cell_type": "markdown",
   "metadata": {},
   "source": [
    "Minimize      $Z_0Z_1 + Z_0Z_1$"
   ]
  },
  {
   "cell_type": "markdown",
   "metadata": {},
   "source": [
    "Subject to     $Z_j \\in \\{-1,1\\},  ~ \\forall j$"
   ]
  },
  {
   "cell_type": "code",
   "execution_count": 1,
   "metadata": {},
   "outputs": [],
   "source": [
    "# If you don't like physics you can skip this paragraph"
   ]
  },
  {
   "cell_type": "markdown",
   "metadata": {},
   "source": [
    "It can be seen as just a case of an unrelated problem in statistical physics: finding the state of **minimum energy** of an instance of the **Ising Model**, this is a mathematical model for the ferromagnetic interaction of particles with spin, usually arranged in a lattice.  The particle spins are represented by variables $Z_j$ that can take values 1 (spin up) or -1 (spin down).\n",
    "\n",
    "The total energy of the system is given by a quantity called the Hamiltonian function, so in quantum terms the Math Model above is equivalent to found the ground state of:\n",
    "$Z_0Z_1 + Z_0Z_1$ which is an Ising Hamiltonian in which $J_{01} = J_{02} = 1$ and the rest of the coeficients are 0.\n",
    "\n",
    "Finding the state of minimum energy of the system consists in obtaining a spin configuration for which the Hamiltonian function attains its minimum value."
   ]
  },
  {
   "cell_type": "markdown",
   "metadata": {},
   "source": [
    "To specify the problem we can use the dimod package included in the D-Wave Ocean library, as follows:"
   ]
  },
  {
   "cell_type": "code",
   "execution_count": 2,
   "metadata": {
    "id": "UUFTKnf6FMb4"
   },
   "outputs": [
    {
     "name": "stdout",
     "output_type": "stream",
     "text": [
      "The problem we are going to solve is:\n",
      "BinaryQuadraticModel({0: 0.0, 1: 0.0, 2: 0.0}, {(1, 0): 1.0, (2, 0): 1.0}, 0.0, 'SPIN')\n"
     ]
    }
   ],
   "source": [
    "import dimod\n",
    "J = {(0,1):1, (0,2):1}\n",
    "h = {}\n",
    "problem = dimod.BinaryQuadraticModel(h, J, 0.0, dimod.SPIN)\n",
    "print(\"The problem we are going to solve is:\")\n",
    "print(problem)\n"
   ]
  },
  {
   "cell_type": "markdown",
   "metadata": {},
   "source": [
    "Note:\n",
    "\n",
    " - We used $J$ for the coefficients of the degree 2 terms: (0,1):1 sets the $J_{01}$ coefficient to 1 and (0,2):1 sets the $J_{02}$ coefficient to 1 and $h$ for the linear ones, if we don't specify the coefficients, they are automatically set to 0 by the constructor, but we need to pass both $J$ and $h$ parameters.\n",
    "\n",
    " - We used 0.0 as the value for the offset (second parameter) which is a constant term that can be added to the Hamiltonian.\n",
    " - We used the dimod.SPIN parameter because we are working with an Ising Hamiltonian, so the values of the variables are 1 and -1.\n",
    " \n",
    " The following code runs the annealing process on one of the quantum annealers:"
   ]
  },
  {
   "cell_type": "code",
   "execution_count": 4,
   "metadata": {
    "id": "qgAnVWndFlUT"
   },
   "outputs": [
    {
     "name": "stdout",
     "output_type": "stream",
     "text": [
      "The solutions that we have obtained are\n",
      "   0  1  2 energy num_oc. chain_.\n",
      "0 +1 -1 -1   -2.0       6     0.0\n",
      "1 -1 +1 +1   -2.0       4     0.0\n",
      "['SPIN', 2 rows, 10 samples, 3 variables]\n"
     ]
    }
   ],
   "source": [
    "# Access the quantum annealers\n",
    "from dwave.system import DWaveSampler\n",
    "\n",
    "# Map or embed the problem in the qubits\n",
    "from dwave.system import EmbeddingComposite\n",
    "\n",
    "# Create an object sampler\n",
    "sampler = EmbeddingComposite(DWaveSampler())\n",
    "\n",
    "# Obtain 10 samples or possible solutions\n",
    "result = sampler.sample(problem, num_reads=10)\n",
    "print(\"The solutions that we have obtained are\")\n",
    "print(result)"
   ]
  },
  {
   "cell_type": "markdown",
   "metadata": {},
   "source": [
    "This means that we obtained 2 different solutions $Z_0 = 1$, $Z_1 = -1$, $Z_2 = -1$ and $Z_0 = -1$, $Z_1 = 1$, $Z_2 = 1$ both with energy -2. These two solutions are, the maximum cuts of the graph. As you can easily check the two groups assigned to 1 and -1 in the graph above. "
   ]
  },
  {
   "cell_type": "code",
   "execution_count": 15,
   "metadata": {},
   "outputs": [
    {
     "name": "stdout",
     "output_type": "stream",
     "text": [
      "The best solution is:\n",
      " Sample(sample={0: 1, 1: -1, 2: -1}, energy=-2.0, num_occurrences=6, chain_break_fraction=0.0)\n",
      "\n",
      " Access Time 16479.17 microseconds\n"
     ]
    }
   ],
   "source": [
    "# We can get additional information from the result\n",
    "\n",
    "print('The best solution is:\\n', result.first)\n",
    "print ('\\n Access Time', result.info['timing']['qpu_access_time'], 'microseconds')"
   ]
  }
 ],
 "metadata": {
  "accelerator": "TPU",
  "colab": {
   "provenance": []
  },
  "kernelspec": {
   "display_name": "Python 3 (ipykernel)",
   "language": "python",
   "name": "python3"
  },
  "language_info": {
   "codemirror_mode": {
    "name": "ipython",
    "version": 3
   },
   "file_extension": ".py",
   "mimetype": "text/x-python",
   "name": "python",
   "nbconvert_exporter": "python",
   "pygments_lexer": "ipython3",
   "version": "3.11.0"
  }
 },
 "nbformat": 4,
 "nbformat_minor": 1
}

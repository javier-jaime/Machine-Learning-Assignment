{
 "cells": [
  {
   "cell_type": "markdown",
   "metadata": {},
   "source": [
    "# Inspecting TFX metadata\n",
    "\n",
    "\n",
    "## Learning Objectives\n",
    "\n",
    "1. Use a GRPC server to access and analyze pipeline artifacts stored in the ML Metadata service of your AI Platform Pipelines instance.\n",
    "\n",
    "In this lab, you will explore TFX pipeline metadata including pipeline and run artifacts. A hosted **AI Platform Pipelines** instance includes the [ML Metadata](https://github.com/google/ml-metadata) service. In **AI Platform Pipelines**, ML Metadata uses *MySQL* as a database backend and can be accessed using a GRPC server."
   ]
  },
  {
   "cell_type": "markdown",
   "metadata": {},
   "source": [
    "## Setup"
   ]
  },
  {
   "cell_type": "code",
   "execution_count": 3,
   "metadata": {},
   "outputs": [],
   "source": [
    "import os\n",
    "import json\n",
    "\n",
    "import ml_metadata\n",
    "import tensorflow_data_validation as tfdv\n",
    "import tensorflow_model_analysis as tfma\n",
    "\n",
    "\n",
    "from ml_metadata.metadata_store import metadata_store\n",
    "from ml_metadata.proto import metadata_store_pb2\n",
    "\n",
    "from tfx.orchestration import metadata\n",
    "from tfx.types import standard_artifacts\n",
    "\n",
    "from tensorflow.python.lib.io import file_io"
   ]
  },
  {
   "cell_type": "code",
   "execution_count": 4,
   "metadata": {},
   "outputs": [
    {
     "name": "stdout",
     "output_type": "stream",
     "text": [
      "TFX version: 0.25.0\n",
      "KFP version: 1.0.4\n"
     ]
    }
   ],
   "source": [
    "!python -c \"import tfx; print('TFX version: {}'.format(tfx.__version__))\"\n",
    "!python -c \"import kfp; print('KFP version: {}'.format(kfp.__version__))\""
   ]
  },
  {
   "cell_type": "markdown",
   "metadata": {},
   "source": [
    "### Option 1: Explore metadata from existing TFX pipeline runs from AI Pipelines instance created in `lab-02` or `lab-03`."
   ]
  },
  {
   "cell_type": "markdown",
   "metadata": {},
   "source": [
    "#### 1.1 Configure Kubernetes port forwarding\n",
    "\n",
    "To enable access to the ML Metadata GRPC server, configure Kubernetes port forwarding.\n",
    "\n",
    "From a JupyterLab terminal, execute the following commands:\n",
    "\n",
    "```\n",
    "gcloud container clusters get-credentials [YOUR CLUSTER] --zone [YOUR CLUSTER ZONE]  \n",
    "kubectl port-forward  service/metadata-grpc-service --namespace [YOUR NAMESPACE] 7000:8080\n",
    "```"
   ]
  },
  {
   "cell_type": "markdown",
   "metadata": {},
   "source": [
    "Proceed to the next step, \"Connecting to ML Metadata\"."
   ]
  },
  {
   "cell_type": "markdown",
   "metadata": {},
   "source": [
    "### Option 2: Create new AI Pipelines instance and evaluate metadata on newly triggered pipeline runs.\n",
    "\n",
    "Hosted AI Pipelines incurs cost for the duration your Kubernetes cluster is running. If you deleted your previous lab instance, proceed with the 6 steps below to deploy a new TFX pipeline and triggers runs to inspect its metadata."
   ]
  },
  {
   "cell_type": "code",
   "execution_count": 5,
   "metadata": {},
   "outputs": [
    {
     "name": "stdout",
     "output_type": "stream",
     "text": [
      "env: PATH=/home/jupyter/.local/bin:/opt/conda/bin:/opt/conda/condabin:/usr/local/bin:/usr/bin:/bin:/usr/local/games:/usr/games\n"
     ]
    }
   ],
   "source": [
    "import yaml\n",
    "\n",
    "# Set `PATH` to include the directory containing TFX CLI.\n",
    "PATH=%env PATH\n",
    "%env PATH=/home/jupyter/.local/bin:{PATH}"
   ]
  },
  {
   "cell_type": "markdown",
   "metadata": {},
   "source": [
    "The pipeline source can be found in the `pipeline` folder. Switch to the `pipeline` folder and compile the pipeline."
   ]
  },
  {
   "cell_type": "code",
   "execution_count": 6,
   "metadata": {},
   "outputs": [
    {
     "name": "stdout",
     "output_type": "stream",
     "text": [
      "/home/jupyter/mlops-on-gcp/workshops/tfx-caip-tf23/lab-04-tfx-metadata/labs/pipeline\n"
     ]
    }
   ],
   "source": [
    "%cd pipeline"
   ]
  },
  {
   "cell_type": "markdown",
   "metadata": {},
   "source": [
    "#### 2.1 Create AI Platform Pipelines cluster\n",
    "\n",
    "Navigate to [AI Platform Pipelines](https://console.cloud.google.com/ai-platform/pipelines/clusters) page in the Google Cloud Console.\n",
    "\n",
    "Create or select an existing Kubernetes cluster (GKE) and deploy AI Platform. Make sure to select `\"Allow access to the following Cloud APIs https://www.googleapis.com/auth/cloud-platform\"` to allow for programmatic access to your pipeline by the Kubeflow SDK for the rest of the lab. Also, provide an `App instance name` such as \"TFX-lab-04\"."
   ]
  },
  {
   "cell_type": "markdown",
   "metadata": {},
   "source": [
    "#### 2.2 Configure environment settings"
   ]
  },
  {
   "cell_type": "markdown",
   "metadata": {},
   "source": [
    "Update  the below constants  with the settings reflecting your lab environment.\n",
    "\n",
    "- `GCP_REGION` - the compute region for AI Platform Training and Prediction\n",
    "- `ARTIFACT_STORE` - the GCS bucket created during installation of AI Platform Pipelines. The bucket name starts with the `kubeflowpipelines-` prefix. Alternatively, you can specify create a new storage bucket to write pipeline artifacts to."
   ]
  },
  {
   "cell_type": "code",
   "execution_count": 7,
   "metadata": {},
   "outputs": [
    {
     "name": "stdout",
     "output_type": "stream",
     "text": [
      "gs://qwiklabs-gcp-02-56f147a7387f-kubeflowpipelines-default/\n"
     ]
    }
   ],
   "source": [
    "!gsutil ls"
   ]
  },
  {
   "cell_type": "markdown",
   "metadata": {},
   "source": [
    "* `CUSTOM_SERVICE_ACCOUNT` - In the gcp console Click on the Navigation Menu. Navigate to `IAM & Admin`, then to `Service Accounts` and use the service account starting with prifix - `'tfx-tuner-caip-service-account'`. This enables CloudTuner and the Google Cloud AI Platform extensions Tuner component to work together and allows for distributed and parallel tuning backed by AI Platform Vizier's hyperparameter search algorithm. Please see the lab setup `README` for setup instructions."
   ]
  },
  {
   "cell_type": "markdown",
   "metadata": {},
   "source": [
    "- `ENDPOINT` - set the `ENDPOINT` constant to the endpoint to your AI Platform Pipelines instance. The endpoint to the AI Platform Pipelines instance can be found on the [AI Platform Pipelines](https://console.cloud.google.com/ai-platform/pipelines/clusters) page in the Google Cloud Console.\n",
    "\n",
    "1. Open the *SETTINGS* for your instance\n",
    "2. Use the value of the `host` variable in the *Connect to this Kubeflow Pipelines instance from a Python client via Kubeflow Pipelines SKD* section of the *SETTINGS* window."
   ]
  },
  {
   "cell_type": "code",
   "execution_count": 8,
   "metadata": {},
   "outputs": [],
   "source": [
    "#TODO: Set your environment resource settings here for GCP_REGION, ARTIFACT_STORE_URI, ENDPOINT, and CUSTOM_SERVICE_ACCOUNT.\n",
    "GCP_REGION = 'us-central1'\n",
    "ARTIFACT_STORE_URI = 'gs://qwiklabs-gcp-02-56f147a7387f-kubeflowpipelines-default' #Change\n",
    "ENDPOINT = 'https://24ccbbd82d13fef6-dot-us-central1.pipelines.googleusercontent.com' #Change\n",
    "CUSTOM_SERVICE_ACCOUNT = 'tfx-tuner-caip-service-account@qwiklabs-gcp-02-56f147a7387f.iam.gserviceaccount.com' #Change\n",
    "\n",
    "PROJECT_ID = !(gcloud config get-value core/project)\n",
    "PROJECT_ID = PROJECT_ID[0]"
   ]
  },
  {
   "cell_type": "code",
   "execution_count": 9,
   "metadata": {},
   "outputs": [
    {
     "name": "stdout",
     "output_type": "stream",
     "text": [
      "env: GCP_REGION=us-central1\n",
      "env: ARTIFACT_STORE_URI=gs://qwiklabs-gcp-02-56f147a7387f-kubeflowpipelines-default\n",
      "env: CUSTOM_SERVICE_ACCOUNT=tfx-tuner-caip-service-account@qwiklabs-gcp-02-56f147a7387f.iam.gserviceaccount.com\n",
      "env: PROJECT_ID=qwiklabs-gcp-02-56f147a7387f\n"
     ]
    }
   ],
   "source": [
    "# Set your resource settings as environment variables. These override the default values in pipeline/config.py.\n",
    "%env GCP_REGION={GCP_REGION}\n",
    "%env ARTIFACT_STORE_URI={ARTIFACT_STORE_URI}\n",
    "%env CUSTOM_SERVICE_ACCOUNT={CUSTOM_SERVICE_ACCOUNT}\n",
    "%env PROJECT_ID={PROJECT_ID}"
   ]
  },
  {
   "cell_type": "markdown",
   "metadata": {},
   "source": [
    "#### 2.3 Compile pipeline"
   ]
  },
  {
   "cell_type": "code",
   "execution_count": 10,
   "metadata": {},
   "outputs": [],
   "source": [
    "PIPELINE_NAME = 'tfx_covertype_lab_04'\n",
    "MODEL_NAME = 'tfx_covertype_classifier'\n",
    "DATA_ROOT_URI = 'gs://workshop-datasets/covertype/small'\n",
    "CUSTOM_TFX_IMAGE = 'gcr.io/{}/{}'.format(PROJECT_ID, PIPELINE_NAME)\n",
    "RUNTIME_VERSION = '2.3'\n",
    "PYTHON_VERSION = '3.7'\n",
    "USE_KFP_SA=False\n",
    "ENABLE_TUNING=True"
   ]
  },
  {
   "cell_type": "code",
   "execution_count": 11,
   "metadata": {},
   "outputs": [
    {
     "name": "stdout",
     "output_type": "stream",
     "text": [
      "env: PIPELINE_NAME=tfx_covertype_lab_04\n",
      "env: MODEL_NAME=tfx_covertype_classifier\n",
      "env: DATA_ROOT_URI=gs://workshop-datasets/covertype/small\n",
      "env: KUBEFLOW_TFX_IMAGE=gcr.io/qwiklabs-gcp-02-56f147a7387f/tfx_covertype_lab_04\n",
      "env: RUNTIME_VERSION=2.3\n",
      "env: PYTHON_VERIONS=3.7\n",
      "env: USE_KFP_SA=False\n",
      "env: ENABLE_TUNING=True\n"
     ]
    }
   ],
   "source": [
    "%env PIPELINE_NAME={PIPELINE_NAME}\n",
    "%env MODEL_NAME={MODEL_NAME}\n",
    "%env DATA_ROOT_URI={DATA_ROOT_URI}\n",
    "%env KUBEFLOW_TFX_IMAGE={CUSTOM_TFX_IMAGE}\n",
    "%env RUNTIME_VERSION={RUNTIME_VERSION}\n",
    "%env PYTHON_VERIONS={PYTHON_VERSION}\n",
    "%env USE_KFP_SA={USE_KFP_SA}\n",
    "%env ENABLE_TUNING={ENABLE_TUNING}"
   ]
  },
  {
   "cell_type": "code",
   "execution_count": 12,
   "metadata": {},
   "outputs": [
    {
     "name": "stdout",
     "output_type": "stream",
     "text": [
      "CLI\n",
      "Compiling pipeline\n",
      "WARNING:absl:RuntimeParameter is only supported on Cloud-based DAG runner currently.\n",
      "WARNING:absl:RuntimeParameter is only supported on Cloud-based DAG runner currently.\n",
      "WARNING:absl:RuntimeParameter is only supported on Cloud-based DAG runner currently.\n",
      "WARNING:absl:RuntimeParameter is only supported on Cloud-based DAG runner currently.\n",
      "WARNING:absl:`instance_name` is deprecated, please set node id directly using`with_id()` or `.id` setter.\n",
      "WARNING:absl:`instance_name` is deprecated, please set node id directly using`with_id()` or `.id` setter.\n",
      "\u001b[0mPipeline compiled successfully.\n",
      "Pipeline package path: /home/jupyter/mlops-on-gcp/workshops/tfx-caip-tf23/lab-04-tfx-metadata/labs/pipeline/tfx_covertype_lab_04.tar.gz\n"
     ]
    }
   ],
   "source": [
    "!tfx pipeline compile --engine kubeflow --pipeline_path runner.py"
   ]
  },
  {
   "cell_type": "markdown",
   "metadata": {},
   "source": [
    "#### 2.4 Deploy pipeline to AI Platform"
   ]
  },
  {
   "cell_type": "code",
   "execution_count": 13,
   "metadata": {},
   "outputs": [
    {
     "name": "stdout",
     "output_type": "stream",
     "text": [
      "CLI\n",
      "Creating pipeline\n",
      "Detected Kubeflow.\n",
      "Use --engine flag if you intend to use a different orchestrator.\n",
      "Reading build spec from build.yaml\n",
      "[Skaffold] Generating tags...\n",
      "[Skaffold]  - gcr.io/qwiklabs-gcp-02-56f147a7387f/tfx_covertype_lab_04 -> gcr.io/qwiklabs-gcp-02-56f147a7387f/tfx_covertype_lab_04:latest\n",
      "[Skaffold] Checking cache...\n",
      "[Skaffold]  - gcr.io/qwiklabs-gcp-02-56f147a7387f/tfx_covertype_lab_04: Not found. Building\n",
      "[Skaffold] Starting build...\n",
      "[Skaffold] Building [gcr.io/qwiklabs-gcp-02-56f147a7387f/tfx_covertype_lab_04]...\n",
      "[Skaffold] Sending build context to Docker daemon   59.9kB\n",
      "[Skaffold] Step 1/4 : FROM tensorflow/tfx:0.25.0\n",
      "[Skaffold] 0.25.0: Pulling from tensorflow/tfx\n",
      "[Skaffold] bd47987755ba: Pulling fs layer\n",
      "[Skaffold] 831c222b21d8: Pulling fs layer\n",
      "[Skaffold] 3c2cba919283: Pulling fs layer\n",
      "[Skaffold] e378d88a5f59: Pulling fs layer\n",
      "[Skaffold] df37508d2f5c: Pulling fs layer\n",
      "[Skaffold] c28e7cc900d1: Pulling fs layer\n",
      "[Skaffold] 9019978541a7: Pulling fs layer\n",
      "[Skaffold] 80dc388c898c: Pulling fs layer\n",
      "[Skaffold] afebcf787e04: Pulling fs layer\n",
      "[Skaffold] b32cc9704312: Pulling fs layer\n",
      "[Skaffold] a0336ba74309: Pulling fs layer\n",
      "[Skaffold] e378d88a5f59: Waiting\n",
      "[Skaffold] df37508d2f5c: Waiting\n",
      "[Skaffold] c28e7cc900d1: Waiting\n",
      "[Skaffold] 9019978541a7: Waiting\n",
      "[Skaffold] 80dc388c898c: Waiting\n",
      "[Skaffold] afebcf787e04: Waiting\n",
      "[Skaffold] b32cc9704312: Waiting\n",
      "[Skaffold] a0336ba74309: Waiting\n",
      "[Skaffold] 3c2cba919283: Verifying Checksum\n",
      "[Skaffold] 3c2cba919283: Download complete\n",
      "[Skaffold] 831c222b21d8: Verifying Checksum\n",
      "[Skaffold] 831c222b21d8: Download complete\n",
      "[Skaffold] bd47987755ba: Verifying Checksum\n",
      "[Skaffold] bd47987755ba: Download complete\n",
      "[Skaffold] c28e7cc900d1: Verifying Checksum\n",
      "[Skaffold] c28e7cc900d1: Download complete\n",
      "[Skaffold] 9019978541a7: Verifying Checksum\n",
      "[Skaffold] 9019978541a7: Download complete\n",
      "[Skaffold] e378d88a5f59: Verifying Checksum\n",
      "[Skaffold] e378d88a5f59: Download complete\n",
      "[Skaffold] df37508d2f5c: Verifying Checksum\n",
      "[Skaffold] df37508d2f5c: Download complete\n",
      "[Skaffold] afebcf787e04: Verifying Checksum\n",
      "[Skaffold] afebcf787e04: Download complete\n",
      "[Skaffold] a0336ba74309: Verifying Checksum\n",
      "[Skaffold] a0336ba74309: Download complete\n",
      "[Skaffold] b32cc9704312: Verifying Checksum\n",
      "[Skaffold] b32cc9704312: Download complete\n",
      "[Skaffold] 80dc388c898c: Verifying Checksum\n",
      "[Skaffold] 80dc388c898c: Download complete\n",
      "[Skaffold] bd47987755ba: Pull complete\n",
      "[Skaffold] 831c222b21d8: Pull complete\n",
      "[Skaffold] 3c2cba919283: Pull complete\n",
      "[Skaffold] e378d88a5f59: Pull complete\n",
      "[Skaffold] df37508d2f5c: Pull complete\n",
      "[Skaffold] c28e7cc900d1: Pull complete\n",
      "[Skaffold] 9019978541a7: Pull complete\n",
      "[Skaffold] 80dc388c898c: Pull complete\n",
      "[Skaffold] afebcf787e04: Pull complete\n",
      "[Skaffold] b32cc9704312: Pull complete\n",
      "[Skaffold] a0336ba74309: Pull complete\n",
      "[Skaffold] Digest: sha256:0700c27c6492b8b2998e7d543ca13088db8d40ef26bd5c6eec58245ff8cdec35\n",
      "[Skaffold] Status: Downloaded newer image for tensorflow/tfx:0.25.0\n",
      "[Skaffold]  ---> 05d9b228cf63\n",
      "[Skaffold] Step 2/4 : WORKDIR ./pipeline\n",
      "[Skaffold]  ---> Running in 011eb8bf2e98\n",
      "[Skaffold] Removing intermediate container 011eb8bf2e98\n",
      "[Skaffold]  ---> 015ad49871cc\n",
      "[Skaffold] Step 3/4 : COPY ./ ./\n",
      "[Skaffold]  ---> c592f1e90262\n",
      "[Skaffold] Step 4/4 : ENV PYTHONPATH=\"/pipeline:${PYTHONPATH}\"\n",
      "[Skaffold]  ---> Running in 7b0f344122d4\n",
      "[Skaffold] Removing intermediate container 7b0f344122d4\n",
      "[Skaffold]  ---> c87597b7b317\n",
      "[Skaffold] Successfully built c87597b7b317\n",
      "[Skaffold] Successfully tagged gcr.io/qwiklabs-gcp-02-56f147a7387f/tfx_covertype_lab_04:latest\n",
      "[Skaffold] The push refers to repository [gcr.io/qwiklabs-gcp-02-56f147a7387f/tfx_covertype_lab_04]\n",
      "[Skaffold] 0a1279634f02: Preparing\n",
      "[Skaffold] 6f643c853d53: Preparing\n",
      "[Skaffold] 5dadc0a09248: Preparing\n",
      "[Skaffold] 8fb12d3bda49: Preparing\n",
      "[Skaffold] 2471eac28ba8: Preparing\n",
      "[Skaffold] 674ba689ae71: Preparing\n",
      "[Skaffold] 4058ae03fa32: Preparing\n",
      "[Skaffold] e3437c61d457: Preparing\n",
      "[Skaffold] 84ff92691f90: Preparing\n",
      "[Skaffold] 54b00d861a7a: Preparing\n",
      "[Skaffold] c547358928ab: Preparing\n",
      "[Skaffold] 84ff92691f90: Preparing\n",
      "[Skaffold] c4e66be694ce: Preparing\n",
      "[Skaffold] 47cc65c6dd57: Preparing\n",
      "[Skaffold] 674ba689ae71: Waiting\n",
      "[Skaffold] 4058ae03fa32: Waiting\n",
      "[Skaffold] e3437c61d457: Waiting\n",
      "[Skaffold] 84ff92691f90: Waiting\n",
      "[Skaffold] 54b00d861a7a: Waiting\n",
      "[Skaffold] c547358928ab: Waiting\n",
      "[Skaffold] c4e66be694ce: Waiting\n",
      "[Skaffold] 47cc65c6dd57: Waiting\n",
      "[Skaffold] 0a1279634f02: Pushed\n",
      "[Skaffold] 5dadc0a09248: Pushed\n",
      "[Skaffold] 6f643c853d53: Pushed\n",
      "[Skaffold] 4058ae03fa32: Layer already exists\n",
      "[Skaffold] e3437c61d457: Layer already exists\n",
      "[Skaffold] 54b00d861a7a: Layer already exists\n",
      "[Skaffold] 84ff92691f90: Layer already exists\n",
      "[Skaffold] c547358928ab: Layer already exists\n",
      "[Skaffold] c4e66be694ce: Pushed\n",
      "[Skaffold] 47cc65c6dd57: Pushed\n",
      "[Skaffold] 2471eac28ba8: Pushed\n",
      "[Skaffold] 674ba689ae71: Pushed\n",
      "[Skaffold] 8fb12d3bda49: Pushed\n",
      "[Skaffold] latest: digest: sha256:d72b318c9f46cee73f67fe2a7070aa19caa59386c394e4a1866ba587e96005ec size: 3267\n",
      "[Skaffold] \n",
      "[Skaffold] Help improve Skaffold with our 2-minute anonymous survey: run 'skaffold survey'\n",
      "[Skaffold] To help improve the quality of this product, we collect anonymized usage data for details on what is tracked and how we use this data visit <https://skaffold.dev/docs/resources/telemetry/>. This data is handled in accordance with our privacy policy <https://policies.google.com/privacy>\n",
      "[Skaffold] \n",
      "[Skaffold] You may choose to opt out of this collection by running the following command:\n",
      "[Skaffold] \tskaffold config set --global collect-metrics false\n",
      "New container image is built. Target image is available in the build spec file.\n",
      "WARNING:absl:RuntimeParameter is only supported on Cloud-based DAG runner currently.\n",
      "WARNING:absl:RuntimeParameter is only supported on Cloud-based DAG runner currently.\n",
      "WARNING:absl:RuntimeParameter is only supported on Cloud-based DAG runner currently.\n",
      "WARNING:absl:RuntimeParameter is only supported on Cloud-based DAG runner currently.\n",
      "WARNING:absl:`instance_name` is deprecated, please set node id directly using`with_id()` or `.id` setter.\n",
      "WARNING:absl:`instance_name` is deprecated, please set node id directly using`with_id()` or `.id` setter.\n",
      "\u001b[0mPipeline compiled successfully.\n",
      "Pipeline package path: /home/jupyter/mlops-on-gcp/workshops/tfx-caip-tf23/lab-04-tfx-metadata/labs/pipeline/tfx_covertype_lab_04.tar.gz\n",
      "{'created_at': datetime.datetime(2021, 10, 4, 20, 6, 18, tzinfo=tzlocal()),\n",
      " 'default_version': {'code_source_url': None,\n",
      "                     'created_at': datetime.datetime(2021, 10, 4, 20, 6, 18, tzinfo=tzlocal()),\n",
      "                     'description': None,\n",
      "                     'id': 'e8b56fbf-0689-4f29-aa89-7a41ea1edb8c',\n",
      "                     'name': 'tfx_covertype_lab_04',\n",
      "                     'package_url': None,\n",
      "                     'parameters': [{'name': 'pipeline-root',\n",
      "                                     'value': 'gs://qwiklabs-gcp-02-56f147a7387f-kubeflowpipelines-default/tfx_covertype_lab_04/{{workflow.uid}}'},\n",
      "                                    {'name': 'data-root-uri',\n",
      "                                     'value': 'gs://workshop-datasets/covertype/small'},\n",
      "                                    {'name': 'eval-steps', 'value': '500'},\n",
      "                                    {'name': 'train-steps', 'value': '5000'}],\n",
      "                     'resource_references': [{'key': {'id': 'e8b56fbf-0689-4f29-aa89-7a41ea1edb8c',\n",
      "                                                      'type': 'PIPELINE'},\n",
      "                                              'name': None,\n",
      "                                              'relationship': 'OWNER'}]},\n",
      " 'description': None,\n",
      " 'error': None,\n",
      " 'id': 'e8b56fbf-0689-4f29-aa89-7a41ea1edb8c',\n",
      " 'name': 'tfx_covertype_lab_04',\n",
      " 'parameters': [{'name': 'pipeline-root',\n",
      "                 'value': 'gs://qwiklabs-gcp-02-56f147a7387f-kubeflowpipelines-default/tfx_covertype_lab_04/{{workflow.uid}}'},\n",
      "                {'name': 'data-root-uri',\n",
      "                 'value': 'gs://workshop-datasets/covertype/small'},\n",
      "                {'name': 'eval-steps', 'value': '500'},\n",
      "                {'name': 'train-steps', 'value': '5000'}],\n",
      " 'resource_references': None,\n",
      " 'url': None}\n",
      "Please access the pipeline detail page at https://24ccbbd82d13fef6-dot-us-central1.pipelines.googleusercontent.com/#/pipelines/details/e8b56fbf-0689-4f29-aa89-7a41ea1edb8c\n",
      "Pipeline \"tfx_covertype_lab_04\" created successfully.\n"
     ]
    }
   ],
   "source": [
    "!tfx pipeline create  \\\n",
    "--pipeline_path=runner.py \\\n",
    "--endpoint={ENDPOINT} \\\n",
    "--build_target_image={CUSTOM_TFX_IMAGE}"
   ]
  },
  {
   "cell_type": "markdown",
   "metadata": {},
   "source": [
    "(optional) If you make local changes to the pipeline, you can update the deployed package on AI Platform with the following command:"
   ]
  },
  {
   "cell_type": "code",
   "execution_count": 14,
   "metadata": {},
   "outputs": [
    {
     "name": "stdout",
     "output_type": "stream",
     "text": [
      "CLI\n",
      "Updating pipeline\n",
      "Detected Kubeflow.\n",
      "Use --engine flag if you intend to use a different orchestrator.\n",
      "Reading build spec from build.yaml\n",
      "[Skaffold] Generating tags...\n",
      "[Skaffold]  - gcr.io/qwiklabs-gcp-02-56f147a7387f/tfx_covertype_lab_04 -> gcr.io/qwiklabs-gcp-02-56f147a7387f/tfx_covertype_lab_04:latest\n",
      "[Skaffold] Checking cache...\n",
      "[Skaffold]  - gcr.io/qwiklabs-gcp-02-56f147a7387f/tfx_covertype_lab_04: Not found. Building\n",
      "[Skaffold] Starting build...\n",
      "[Skaffold] Building [gcr.io/qwiklabs-gcp-02-56f147a7387f/tfx_covertype_lab_04]...\n",
      "[Skaffold] Sending build context to Docker daemon   59.9kB\n",
      "[Skaffold] Step 1/4 : FROM tensorflow/tfx:0.25.0\n",
      "[Skaffold]  ---> 05d9b228cf63\n",
      "[Skaffold] Step 2/4 : WORKDIR ./pipeline\n",
      "[Skaffold]  ---> Using cache\n",
      "[Skaffold]  ---> 015ad49871cc\n",
      "[Skaffold] Step 3/4 : COPY ./ ./\n",
      "[Skaffold]  ---> 3f9b903ca879\n",
      "[Skaffold] Step 4/4 : ENV PYTHONPATH=\"/pipeline:${PYTHONPATH}\"\n",
      "[Skaffold]  ---> Running in ed5acc82a211\n",
      "[Skaffold] Removing intermediate container ed5acc82a211\n",
      "[Skaffold]  ---> c2b4f627f24f\n",
      "[Skaffold] Successfully built c2b4f627f24f\n",
      "[Skaffold] Successfully tagged gcr.io/qwiklabs-gcp-02-56f147a7387f/tfx_covertype_lab_04:latest\n",
      "[Skaffold] The push refers to repository [gcr.io/qwiklabs-gcp-02-56f147a7387f/tfx_covertype_lab_04]\n",
      "[Skaffold] 3d0c2837d111: Preparing\n",
      "[Skaffold] 6f643c853d53: Preparing\n",
      "[Skaffold] 5dadc0a09248: Preparing\n",
      "[Skaffold] 8fb12d3bda49: Preparing\n",
      "[Skaffold] 2471eac28ba8: Preparing\n",
      "[Skaffold] 674ba689ae71: Preparing\n",
      "[Skaffold] 4058ae03fa32: Preparing\n",
      "[Skaffold] e3437c61d457: Preparing\n",
      "[Skaffold] 84ff92691f90: Preparing\n",
      "[Skaffold] 54b00d861a7a: Preparing\n",
      "[Skaffold] c547358928ab: Preparing\n",
      "[Skaffold] 84ff92691f90: Preparing\n",
      "[Skaffold] c4e66be694ce: Preparing\n",
      "[Skaffold] 47cc65c6dd57: Preparing\n",
      "[Skaffold] 674ba689ae71: Waiting\n",
      "[Skaffold] 4058ae03fa32: Waiting\n",
      "[Skaffold] e3437c61d457: Waiting\n",
      "[Skaffold] 84ff92691f90: Waiting\n",
      "[Skaffold] 54b00d861a7a: Waiting\n",
      "[Skaffold] c547358928ab: Waiting\n",
      "[Skaffold] c4e66be694ce: Waiting\n",
      "[Skaffold] 47cc65c6dd57: Waiting\n",
      "[Skaffold] 8fb12d3bda49: Layer already exists\n",
      "[Skaffold] 5dadc0a09248: Layer already exists\n",
      "[Skaffold] 2471eac28ba8: Layer already exists\n",
      "[Skaffold] 6f643c853d53: Layer already exists\n",
      "[Skaffold] 674ba689ae71: Layer already exists\n",
      "[Skaffold] e3437c61d457: Layer already exists\n",
      "[Skaffold] 4058ae03fa32: Layer already exists\n",
      "[Skaffold] 84ff92691f90: Layer already exists\n",
      "[Skaffold] c547358928ab: Layer already exists\n",
      "[Skaffold] c4e66be694ce: Layer already exists\n",
      "[Skaffold] 54b00d861a7a: Layer already exists\n",
      "[Skaffold] 47cc65c6dd57: Layer already exists\n",
      "[Skaffold] 3d0c2837d111: Pushed\n",
      "[Skaffold] latest: digest: sha256:fb20207cbe9daba365a44d2ef35b822a60640f929b9eacd273fe3a5ae44f352e size: 3267\n",
      "[Skaffold] \n",
      "New container image is built. Target image is available in the build spec file.\n",
      "WARNING:absl:RuntimeParameter is only supported on Cloud-based DAG runner currently.\n",
      "WARNING:absl:RuntimeParameter is only supported on Cloud-based DAG runner currently.\n",
      "WARNING:absl:RuntimeParameter is only supported on Cloud-based DAG runner currently.\n",
      "WARNING:absl:RuntimeParameter is only supported on Cloud-based DAG runner currently.\n",
      "WARNING:absl:`instance_name` is deprecated, please set node id directly using`with_id()` or `.id` setter.\n",
      "WARNING:absl:`instance_name` is deprecated, please set node id directly using`with_id()` or `.id` setter.\n",
      "\u001b[0mPipeline compiled successfully.\n",
      "Pipeline package path: /home/jupyter/mlops-on-gcp/workshops/tfx-caip-tf23/lab-04-tfx-metadata/labs/pipeline/tfx_covertype_lab_04.tar.gz\n",
      "{'code_source_url': None,\n",
      " 'created_at': datetime.datetime(2021, 10, 4, 20, 6, 47, tzinfo=tzlocal()),\n",
      " 'description': None,\n",
      " 'id': '4dbb22be-05ad-4cf2-a281-cca42af790f6',\n",
      " 'name': 'tfx_covertype_lab_04_20211004200647',\n",
      " 'package_url': None,\n",
      " 'parameters': [{'name': 'pipeline-root',\n",
      "                 'value': 'gs://qwiklabs-gcp-02-56f147a7387f-kubeflowpipelines-default/tfx_covertype_lab_04/{{workflow.uid}}'},\n",
      "                {'name': 'data-root-uri',\n",
      "                 'value': 'gs://workshop-datasets/covertype/small'},\n",
      "                {'name': 'eval-steps', 'value': '500'},\n",
      "                {'name': 'train-steps', 'value': '5000'}],\n",
      " 'resource_references': [{'key': {'id': 'e8b56fbf-0689-4f29-aa89-7a41ea1edb8c',\n",
      "                                  'type': 'PIPELINE'},\n",
      "                          'name': None,\n",
      "                          'relationship': 'OWNER'}]}\n",
      "Please access the pipeline detail page at https://24ccbbd82d13fef6-dot-us-central1.pipelines.googleusercontent.com/#/pipelines/details/e8b56fbf-0689-4f29-aa89-7a41ea1edb8c\n",
      "Pipeline \"tfx_covertype_lab_04\" updated successfully.\n"
     ]
    }
   ],
   "source": [
    "!tfx pipeline update --pipeline_path runner.py --endpoint {ENDPOINT}"
   ]
  },
  {
   "cell_type": "markdown",
   "metadata": {},
   "source": [
    "#### 2.5 Create and monitor pipeline run"
   ]
  },
  {
   "cell_type": "code",
   "execution_count": 15,
   "metadata": {},
   "outputs": [
    {
     "name": "stdout",
     "output_type": "stream",
     "text": [
      "CLI\n",
      "Creating a run for pipeline: tfx_covertype_lab_04\n",
      "Detected Kubeflow.\n",
      "Use --engine flag if you intend to use a different orchestrator.\n",
      "Run created for pipeline: tfx_covertype_lab_04\n",
      "+----------------------+--------------------------------------+----------+---------------------------+------------------------------------------------------------------------------------------------------------------------------+\n",
      "| pipeline_name        | run_id                               | status   | created_at                | link                                                                                                                         |\n",
      "+======================+======================================+==========+===========================+==============================================================================================================================+\n",
      "| tfx_covertype_lab_04 | e3015338-56ec-4312-babd-d7d4f8b23c77 |          | 2021-10-04T20:06:56+00:00 | https://24ccbbd82d13fef6-dot-us-central1.pipelines.googleusercontent.com/#/runs/details/e3015338-56ec-4312-babd-d7d4f8b23c77 |\n",
      "+----------------------+--------------------------------------+----------+---------------------------+------------------------------------------------------------------------------------------------------------------------------+\n"
     ]
    }
   ],
   "source": [
    "!tfx run create --pipeline_name={PIPELINE_NAME} --endpoint={ENDPOINT}"
   ]
  },
  {
   "cell_type": "markdown",
   "metadata": {},
   "source": [
    "#### 2.6 Configure Kubernetes port forwarding"
   ]
  },
  {
   "cell_type": "markdown",
   "metadata": {},
   "source": [
    "To enable access to the ML Metadata GRPC server, configure Kubernetes port forwarding.\n",
    "\n",
    "From a JupyterLab terminal, execute the following commands:\n",
    "\n",
    "```\n",
    "gcloud container clusters get-credentials [YOUR CLUSTER] --zone [YOURE CLUSTER ZONE]  \n",
    "kubectl port-forward  service/metadata-grpc-service --namespace [YOUR NAMESPACE] 7000:8080\n",
    "```"
   ]
  },
  {
   "cell_type": "markdown",
   "metadata": {},
   "source": [
    "## Connecting to ML Metadata "
   ]
  },
  {
   "cell_type": "markdown",
   "metadata": {},
   "source": [
    "### Configure ML Metadata GRPC client"
   ]
  },
  {
   "cell_type": "code",
   "execution_count": 40,
   "metadata": {},
   "outputs": [],
   "source": [
    "grpc_host = 'localhost'\n",
    "grpc_port = 7000\n",
    "connection_config = metadata_store_pb2.MetadataStoreClientConfig()\n",
    "connection_config.host = grpc_host\n",
    "connection_config.port = grpc_port"
   ]
  },
  {
   "cell_type": "markdown",
   "metadata": {},
   "source": [
    "### Connect to ML Metadata service"
   ]
  },
  {
   "cell_type": "code",
   "execution_count": 41,
   "metadata": {},
   "outputs": [],
   "source": [
    "store = metadata_store.MetadataStore(connection_config)"
   ]
  },
  {
   "cell_type": "markdown",
   "metadata": {
    "jp-MarkdownHeadingCollapsed": true,
    "tags": []
   },
   "source": [
    "### Important\n",
    "\n",
    "A full pipeline run without tuning takes about 40-45 minutes to complete. You need to wait until a pipeline run is complete before proceeding with the steps below."
   ]
  },
  {
   "cell_type": "markdown",
   "metadata": {},
   "source": [
    "## Exploring ML Metadata \n",
    "\n",
    "The Metadata Store uses the following data model:\n",
    "\n",
    "- `ArtifactType` describes an artifact's type and its properties that are stored in the Metadata Store. These types can be registered on-the-fly with the Metadata Store in code, or they can be loaded in the store from a serialized format. Once a type is registered, its definition is available throughout the lifetime of the store.\n",
    "- `Artifact` describes a specific instances of an ArtifactType, and its properties that are written to the Metadata Store.\n",
    "- `ExecutionType` describes a type of component or step in a workflow, and its runtime parameters.\n",
    "- `Execution` is a record of a component run or a step in an ML workflow and the runtime parameters. An Execution can be thought of as an instance of an ExecutionType. Every time a developer runs an ML pipeline or step, executions are recorded for each step.\n",
    "- `Event` is a record of the relationship between an Artifact and Executions. When an Execution happens, Events record every Artifact that was used by the Execution, and every Artifact that was produced. These records allow for provenance tracking throughout a workflow. By looking at all Events MLMD knows what Executions happened, what Artifacts were created as a result, and can recurse back from any Artifact to all of its upstream inputs.\n",
    "- `ContextType` describes a type of conceptual group of Artifacts and Executions in a workflow, and its structural properties. For example: projects, pipeline runs, experiments, owners.\n",
    "- `Context` is an instances of a ContextType. It captures the shared information within the group. For example: project name, changelist commit id, experiment annotations. It has a user-defined unique name within its ContextType.\n",
    "- `Attribution` is a record of the relationship between Artifacts and Contexts.\n",
    "- `Association` is a record of the relationship between Executions and Contexts."
   ]
  },
  {
   "cell_type": "markdown",
   "metadata": {},
   "source": [
    "List the registered artifact types."
   ]
  },
  {
   "cell_type": "code",
   "execution_count": 42,
   "metadata": {},
   "outputs": [
    {
     "name": "stdout",
     "output_type": "stream",
     "text": [
      "Schema\n",
      "Examples\n",
      "ExampleStatistics\n",
      "TransformGraph\n",
      "TransformCache\n",
      "ExampleAnomalies\n",
      "HyperParameters\n",
      "Model\n",
      "ModelRun\n",
      "InfraBlessing\n",
      "ModelBlessing\n",
      "ModelEvaluation\n",
      "PushedModel\n"
     ]
    }
   ],
   "source": [
    "for artifact_type in store.get_artifact_types():\n",
    "    print(artifact_type.name)"
   ]
  },
  {
   "cell_type": "markdown",
   "metadata": {},
   "source": [
    "Display the registered execution types."
   ]
  },
  {
   "cell_type": "code",
   "execution_count": 43,
   "metadata": {},
   "outputs": [
    {
     "name": "stdout",
     "output_type": "stream",
     "text": [
      "DummyExecutionType\n",
      "tfx.components.common_nodes.resolver_node.ResolverNode\n",
      "tfx.components.common_nodes.importer_node.ImporterNode\n",
      "tfx.components.example_gen.csv_example_gen.component.CsvExampleGen\n",
      "tfx.components.statistics_gen.component.StatisticsGen\n",
      "tfx.components.transform.component.Transform\n",
      "tfx.components.schema_gen.component.SchemaGen\n",
      "tfx.components.example_validator.component.ExampleValidator\n",
      "tfx.extensions.google_cloud_ai_platform.tuner.component.Tuner\n",
      "tfx.components.trainer.component.Trainer\n",
      "tfx.components.infra_validator.component.InfraValidator\n",
      "tfx.components.evaluator.component.Evaluator\n",
      "tfx.components.pusher.component.Pusher\n"
     ]
    }
   ],
   "source": [
    "for execution_type in store.get_execution_types():\n",
    "    print(execution_type.name)"
   ]
  },
  {
   "cell_type": "markdown",
   "metadata": {},
   "source": [
    "List the registered context types."
   ]
  },
  {
   "cell_type": "code",
   "execution_count": 44,
   "metadata": {},
   "outputs": [
    {
     "name": "stdout",
     "output_type": "stream",
     "text": [
      "pipeline\n",
      "run\n",
      "component_run\n"
     ]
    }
   ],
   "source": [
    "for context_type in store.get_context_types():\n",
    "    print(context_type.name)"
   ]
  },
  {
   "cell_type": "markdown",
   "metadata": {},
   "source": [
    "## Visualizing TFX artifacts"
   ]
  },
  {
   "cell_type": "markdown",
   "metadata": {},
   "source": [
    "### Retrieve data analysis and validation artifacts"
   ]
  },
  {
   "cell_type": "code",
   "execution_count": 45,
   "metadata": {},
   "outputs": [],
   "source": [
    "with metadata.Metadata(connection_config) as store:\n",
    "    schema_artifacts = store.get_artifacts_by_type(standard_artifacts.Schema.TYPE_NAME)    \n",
    "    stats_artifacts = store.get_artifacts_by_type(standard_artifacts.ExampleStatistics.TYPE_NAME)\n",
    "    anomalies_artifacts = store.get_artifacts_by_type(standard_artifacts.ExampleAnomalies.TYPE_NAME)"
   ]
  },
  {
   "cell_type": "code",
   "execution_count": 46,
   "metadata": {},
   "outputs": [
    {
     "name": "stdout",
     "output_type": "stream",
     "text": [
      "Generated schame file:gs://qwiklabs-gcp-02-56f147a7387f-kubeflowpipelines-default/tfx_covertype_lab_04/e3015338-56ec-4312-babd-d7d4f8b23c77/SchemaGen/schema/6/schema.pbtxt\n",
      "Train stats file:gs://qwiklabs-gcp-02-56f147a7387f-kubeflowpipelines-default/tfx_covertype_lab_04/e3015338-56ec-4312-babd-d7d4f8b23c77/StatisticsGen/statistics/4/train/stats_tfrecord, Eval stats file:gs://qwiklabs-gcp-02-56f147a7387f-kubeflowpipelines-default/tfx_covertype_lab_04/e3015338-56ec-4312-babd-d7d4f8b23c77/StatisticsGen/statistics/4/eval/stats_tfrecord\n",
      "Train anomalies file:gs://qwiklabs-gcp-02-56f147a7387f-kubeflowpipelines-default/tfx_covertype_lab_04/e3015338-56ec-4312-babd-d7d4f8b23c77/ExampleValidator/anomalies/7/train/anomalies.pbtxt, Eval anomalies file:gs://qwiklabs-gcp-02-56f147a7387f-kubeflowpipelines-default/tfx_covertype_lab_04/e3015338-56ec-4312-babd-d7d4f8b23c77/ExampleValidator/anomalies/7/eval/anomalies.pbtxt\n"
     ]
    }
   ],
   "source": [
    "schema_file = os.path.join(schema_artifacts[-1].uri, 'schema.pbtxt')\n",
    "print(\"Generated schame file:{}\".format(schema_file))\n",
    "\n",
    "stats_path = stats_artifacts[-1].uri\n",
    "train_stats_file = os.path.join(stats_path, 'train', 'stats_tfrecord')\n",
    "eval_stats_file = os.path.join(stats_path, 'eval', 'stats_tfrecord')\n",
    "print(\"Train stats file:{}, Eval stats file:{}\".format(\n",
    "    train_stats_file, eval_stats_file))\n",
    "\n",
    "anomalies_path = anomalies_artifacts[-1].uri\n",
    "train_anomalies_file = os.path.join(anomalies_path, 'train', 'anomalies.pbtxt')\n",
    "eval_anomalies_file = os.path.join(anomalies_path, 'eval', 'anomalies.pbtxt')\n",
    "\n",
    "print(\"Train anomalies file:{}, Eval anomalies file:{}\".format(\n",
    "    train_anomalies_file, eval_anomalies_file))"
   ]
  },
  {
   "cell_type": "markdown",
   "metadata": {},
   "source": [
    "### Visualize schema"
   ]
  },
  {
   "cell_type": "code",
   "execution_count": 47,
   "metadata": {},
   "outputs": [
    {
     "data": {
      "text/html": [
       "<div>\n",
       "<style scoped>\n",
       "    .dataframe tbody tr th:only-of-type {\n",
       "        vertical-align: middle;\n",
       "    }\n",
       "\n",
       "    .dataframe tbody tr th {\n",
       "        vertical-align: top;\n",
       "    }\n",
       "\n",
       "    .dataframe thead th {\n",
       "        text-align: right;\n",
       "    }\n",
       "</style>\n",
       "<table border=\"1\" class=\"dataframe\">\n",
       "  <thead>\n",
       "    <tr style=\"text-align: right;\">\n",
       "      <th></th>\n",
       "      <th>Type</th>\n",
       "      <th>Presence</th>\n",
       "      <th>Valency</th>\n",
       "      <th>Domain</th>\n",
       "    </tr>\n",
       "    <tr>\n",
       "      <th>Feature name</th>\n",
       "      <th></th>\n",
       "      <th></th>\n",
       "      <th></th>\n",
       "      <th></th>\n",
       "    </tr>\n",
       "  </thead>\n",
       "  <tbody>\n",
       "    <tr>\n",
       "      <th>'Soil_Type'</th>\n",
       "      <td>STRING</td>\n",
       "      <td>required</td>\n",
       "      <td>single</td>\n",
       "      <td>'Soil_Type'</td>\n",
       "    </tr>\n",
       "    <tr>\n",
       "      <th>'Wilderness_Area'</th>\n",
       "      <td>STRING</td>\n",
       "      <td>required</td>\n",
       "      <td>single</td>\n",
       "      <td>'Wilderness_Area'</td>\n",
       "    </tr>\n",
       "    <tr>\n",
       "      <th>'Aspect'</th>\n",
       "      <td>INT</td>\n",
       "      <td>required</td>\n",
       "      <td>single</td>\n",
       "      <td>-</td>\n",
       "    </tr>\n",
       "    <tr>\n",
       "      <th>'Cover_Type'</th>\n",
       "      <td>INT</td>\n",
       "      <td>required</td>\n",
       "      <td>single</td>\n",
       "      <td>-</td>\n",
       "    </tr>\n",
       "    <tr>\n",
       "      <th>'Elevation'</th>\n",
       "      <td>INT</td>\n",
       "      <td>required</td>\n",
       "      <td>single</td>\n",
       "      <td>-</td>\n",
       "    </tr>\n",
       "    <tr>\n",
       "      <th>'Hillshade_3pm'</th>\n",
       "      <td>INT</td>\n",
       "      <td>required</td>\n",
       "      <td>single</td>\n",
       "      <td>-</td>\n",
       "    </tr>\n",
       "    <tr>\n",
       "      <th>'Hillshade_9am'</th>\n",
       "      <td>INT</td>\n",
       "      <td>required</td>\n",
       "      <td>single</td>\n",
       "      <td>-</td>\n",
       "    </tr>\n",
       "    <tr>\n",
       "      <th>'Hillshade_Noon'</th>\n",
       "      <td>INT</td>\n",
       "      <td>required</td>\n",
       "      <td>single</td>\n",
       "      <td>-</td>\n",
       "    </tr>\n",
       "    <tr>\n",
       "      <th>'Horizontal_Distance_To_Fire_Points'</th>\n",
       "      <td>INT</td>\n",
       "      <td>required</td>\n",
       "      <td>single</td>\n",
       "      <td>-</td>\n",
       "    </tr>\n",
       "    <tr>\n",
       "      <th>'Horizontal_Distance_To_Hydrology'</th>\n",
       "      <td>INT</td>\n",
       "      <td>required</td>\n",
       "      <td>single</td>\n",
       "      <td>-</td>\n",
       "    </tr>\n",
       "    <tr>\n",
       "      <th>'Horizontal_Distance_To_Roadways'</th>\n",
       "      <td>INT</td>\n",
       "      <td>required</td>\n",
       "      <td>single</td>\n",
       "      <td>-</td>\n",
       "    </tr>\n",
       "    <tr>\n",
       "      <th>'Slope'</th>\n",
       "      <td>INT</td>\n",
       "      <td>required</td>\n",
       "      <td>single</td>\n",
       "      <td>-</td>\n",
       "    </tr>\n",
       "    <tr>\n",
       "      <th>'Vertical_Distance_To_Hydrology'</th>\n",
       "      <td>INT</td>\n",
       "      <td>required</td>\n",
       "      <td>single</td>\n",
       "      <td>-</td>\n",
       "    </tr>\n",
       "  </tbody>\n",
       "</table>\n",
       "</div>"
      ],
      "text/plain": [
       "                                        Type  Presence Valency  \\\n",
       "Feature name                                                     \n",
       "'Soil_Type'                           STRING  required  single   \n",
       "'Wilderness_Area'                     STRING  required  single   \n",
       "'Aspect'                              INT     required  single   \n",
       "'Cover_Type'                          INT     required  single   \n",
       "'Elevation'                           INT     required  single   \n",
       "'Hillshade_3pm'                       INT     required  single   \n",
       "'Hillshade_9am'                       INT     required  single   \n",
       "'Hillshade_Noon'                      INT     required  single   \n",
       "'Horizontal_Distance_To_Fire_Points'  INT     required  single   \n",
       "'Horizontal_Distance_To_Hydrology'    INT     required  single   \n",
       "'Horizontal_Distance_To_Roadways'     INT     required  single   \n",
       "'Slope'                               INT     required  single   \n",
       "'Vertical_Distance_To_Hydrology'      INT     required  single   \n",
       "\n",
       "                                                 Domain  \n",
       "Feature name                                             \n",
       "'Soil_Type'                           'Soil_Type'        \n",
       "'Wilderness_Area'                     'Wilderness_Area'  \n",
       "'Aspect'                              -                  \n",
       "'Cover_Type'                          -                  \n",
       "'Elevation'                           -                  \n",
       "'Hillshade_3pm'                       -                  \n",
       "'Hillshade_9am'                       -                  \n",
       "'Hillshade_Noon'                      -                  \n",
       "'Horizontal_Distance_To_Fire_Points'  -                  \n",
       "'Horizontal_Distance_To_Hydrology'    -                  \n",
       "'Horizontal_Distance_To_Roadways'     -                  \n",
       "'Slope'                               -                  \n",
       "'Vertical_Distance_To_Hydrology'      -                  "
      ]
     },
     "metadata": {},
     "output_type": "display_data"
    },
    {
     "name": "stderr",
     "output_type": "stream",
     "text": [
      "/home/jupyter/.local/lib/python3.7/site-packages/tensorflow_data_validation/utils/display_util.py:151: FutureWarning: Passing a negative integer is deprecated in version 1.0 and will not be supported in future version. Instead, use None to not limit the column width.\n",
      "  pd.set_option('max_colwidth', -1)\n"
     ]
    },
    {
     "data": {
      "text/html": [
       "<div>\n",
       "<style scoped>\n",
       "    .dataframe tbody tr th:only-of-type {\n",
       "        vertical-align: middle;\n",
       "    }\n",
       "\n",
       "    .dataframe tbody tr th {\n",
       "        vertical-align: top;\n",
       "    }\n",
       "\n",
       "    .dataframe thead th {\n",
       "        text-align: right;\n",
       "    }\n",
       "</style>\n",
       "<table border=\"1\" class=\"dataframe\">\n",
       "  <thead>\n",
       "    <tr style=\"text-align: right;\">\n",
       "      <th></th>\n",
       "      <th>Values</th>\n",
       "    </tr>\n",
       "    <tr>\n",
       "      <th>Domain</th>\n",
       "      <th></th>\n",
       "    </tr>\n",
       "  </thead>\n",
       "  <tbody>\n",
       "    <tr>\n",
       "      <th>'Soil_Type'</th>\n",
       "      <td>'C2702', 'C2703', 'C2704', 'C2705', 'C2706', 'C2717', 'C3501', 'C3502', 'C4201', 'C4703', 'C4704', 'C4744', 'C4758', 'C5101', 'C5151', 'C6101', 'C6102', 'C6731', 'C7101', 'C7102', 'C7103', 'C7201', 'C7202', 'C7700', 'C7701', 'C7702', 'C7709', 'C7710', 'C7745', 'C7746', 'C7755', 'C7756', 'C7757', 'C7790', 'C8703', 'C8707', 'C8708', 'C8771', 'C8772', 'C8776'</td>\n",
       "    </tr>\n",
       "    <tr>\n",
       "      <th>'Wilderness_Area'</th>\n",
       "      <td>'Cache', 'Commanche', 'Neota', 'Rawah'</td>\n",
       "    </tr>\n",
       "  </tbody>\n",
       "</table>\n",
       "</div>"
      ],
      "text/plain": [
       "                                                                                                                                                                                                                                                                                                                                                                                   Values\n",
       "Domain                                                                                                                                                                                                                                                                                                                                                                                   \n",
       "'Soil_Type'        'C2702', 'C2703', 'C2704', 'C2705', 'C2706', 'C2717', 'C3501', 'C3502', 'C4201', 'C4703', 'C4704', 'C4744', 'C4758', 'C5101', 'C5151', 'C6101', 'C6102', 'C6731', 'C7101', 'C7102', 'C7103', 'C7201', 'C7202', 'C7700', 'C7701', 'C7702', 'C7709', 'C7710', 'C7745', 'C7746', 'C7755', 'C7756', 'C7757', 'C7790', 'C8703', 'C8707', 'C8708', 'C8771', 'C8772', 'C8776'\n",
       "'Wilderness_Area'  'Cache', 'Commanche', 'Neota', 'Rawah'                                                                                                                                                                                                                                                                                                                                "
      ]
     },
     "metadata": {},
     "output_type": "display_data"
    }
   ],
   "source": [
    "schema = tfdv.load_schema_text(schema_file)\n",
    "tfdv.display_schema(schema=schema)"
   ]
  },
  {
   "cell_type": "markdown",
   "metadata": {},
   "source": [
    "### Visualize statistics"
   ]
  },
  {
   "cell_type": "markdown",
   "metadata": {},
   "source": [
    "#### Exercise: looking at the features visualized below, answer the following questions:\n",
    "\n",
    "- Which feature transformations would you apply to each feature with TF Transform?\n",
    "- Are there data quality issues with certain features that may impact your model performance? How might you deal with it?"
   ]
  },
  {
   "cell_type": "code",
   "execution_count": 48,
   "metadata": {},
   "outputs": [
    {
     "data": {
      "text/html": [
       "<iframe id='facets-iframe' width=\"100%\" height=\"500px\"></iframe>\n",
       "        <script>\n",
       "        facets_iframe = document.getElementById('facets-iframe');\n",
       "        facets_html = '<script src=\"https://cdnjs.cloudflare.com/ajax/libs/webcomponentsjs/1.3.3/webcomponents-lite.js\"><\\/script><link rel=\"import\" href=\"https://raw.githubusercontent.com/PAIR-code/facets/master/facets-dist/facets-jupyter.html\"><facets-overview proto-input=\"CpJiCgxFVkFMX0RBVEFTRVQQtJ0BGqkHGpwHCrgCCLSdARgBIAEtAACAPzKkAhobCQAAAAAAAPA/EQAAAAAAAPA/ITMzMzMze59AGhsJAAAAAAAA8D8RAAAAAAAA8D8hMzMzMzN7n0AaGwkAAAAAAADwPxEAAAAAAADwPyEzMzMzM3ufQBobCQAAAAAAAPA/EQAAAAAAAPA/ITMzMzMze59AGhsJAAAAAAAA8D8RAAAAAAAA8D8hMzMzMzN7n0AaGwkAAAAAAADwPxEAAAAAAADwPyEzMzMzM3ufQBobCQAAAAAAAPA/EQAAAAAAAPA/ITMzMzMze59AGhsJAAAAAAAA8D8RAAAAAAAA8D8hMzMzMzN7n0AaGwkAAAAAAADwPxEAAAAAAADwPyEzMzMzM3ufQBobCQAAAAAAAPA/EQAAAAAAAPA/ITMzMzMze59AIAFAtJ0BEThLGOpKlmNAGYJc4UW1BVxAIK0BMQAAAAAAIGBAOQAAAAAAgHZAQpkCGhIRAAAAAAAAQkAhjpduEoMjp0AaGwkAAAAAAABCQBEAAAAAAABSQCF7FK5H4WWoQBobCQAAAAAAAFJAEQAAAAAAAFtAIcdLN4lBaKVAGhsJAAAAAAAAW0ARAAAAAAAAYkAh1XjpJjEOoEAaGwkAAAAAAABiQBEAAAAAAIBmQCFmZmZmZpyXQBobCQAAAAAAgGZAEQAAAAAAAGtAIRSuR+F6dpRAGhsJAAAAAAAAa0ARAAAAAACAb0AhSzeJQWCvkEAaGwkAAAAAAIBvQBEAAAAAAAByQCEmMQisHDSTQBobCQAAAAAAAHJAEQAAAAAAQHRAIRxaZDvfpZxAGhsJAAAAAABAdEARAAAAAACAdkAh16NwPQoaokBCmwIaEhEAAAAAAAA4QCEzMzMzM3ufQBobCQAAAAAAADhAEQAAAAAAgEdAITMzMzMze59AGhsJAAAAAACAR0ARAAAAAADAUUAhMzMzMzN7n0AaGwkAAAAAAMBRQBEAAAAAAEBYQCEzMzMzM3ufQBobCQAAAAAAQFhAEQAAAAAAIGBAITMzMzMze59AGhsJAAAAAAAgYEARAAAAAACAZUAhMzMzMzN7n0AaGwkAAAAAAIBlQBEAAAAAAMBsQCEzMzMzM3ufQBobCQAAAAAAwGxAEQAAAAAAMHJAITMzMzMze59AGhsJAAAAAAAwckARAAAAAACQdEAhMzMzMzN7n0AaGwkAAAAAAJB0QBEAAAAAAIB2QCEzMzMzM3ufQCABQggKBkFzcGVjdBr3BhrmBgq4Agi0nQEYASABLQAAgD8ypAIaGwkAAAAAAADwPxEAAAAAAADwPyEzMzMzM3ufQBobCQAAAAAAAPA/EQAAAAAAAPA/ITMzMzMze59AGhsJAAAAAAAA8D8RAAAAAAAA8D8hMzMzMzN7n0AaGwkAAAAAAADwPxEAAAAAAADwPyEzMzMzM3ufQBobCQAAAAAAAPA/EQAAAAAAAPA/ITMzMzMze59AGhsJAAAAAAAA8D8RAAAAAAAA8D8hMzMzMzN7n0AaGwkAAAAAAADwPxEAAAAAAADwPyEzMzMzM3ufQBobCQAAAAAAAPA/EQAAAAAAAPA/ITMzMzMze59AGhsJAAAAAAAA8D8RAAAAAAAA8D8hMzMzMzN7n0AaGwkAAAAAAADwPxEAAAAAAADwPyEzMzMzM3ufQCABQLSdAREHM+QOp+3wPxkXtEuy11L2PyDnODEAAAAAAADwPzkAAAAAAAAYQEKZAhoSETMzMzMzM+M/IcRCrWleYbxAGhsJMzMzMzMz4z8RMzMzMzMz8z8hGJXUCSg6w0AaGwkzMzMzMzPzPxHMzMzMzMz8PyEDxY8xdy0oQBobCczMzMzMzPw/ETMzMzMzMwNAISgPC7WmBZRAGhsJMzMzMzMzA0ARAAAAAAAACEAhBcWPMXctKEAaGwkAAAAAAAAIQBHMzMzMzMwMQCHD0ytlGSJSQBobCczMzMzMzAxAEc3MzMzMzBBAIe/Jw0KtKXZAGhsJzczMzMzMEEARMzMzMzMzE0AhAMWPMXctKEAaGwkzMzMzMzMTQBGZmZmZmZkVQCGI0t7gC6OCQBobCZmZmZmZmRVAEQAAAAAAABhAIdqK/WX3yIVAQuUBGgkhMzMzMzN7n0AaCSEzMzMzM3ufQBoJITMzMzMze59AGhIRAAAAAAAA8D8hMzMzMzN7n0AaGwkAAAAAAADwPxEAAAAAAADwPyEzMzMzM3ufQBobCQAAAAAAAPA/EQAAAAAAAPA/ITMzMzMze59AGhsJAAAAAAAA8D8RAAAAAAAA8D8hMzMzMzN7n0AaGwkAAAAAAADwPxEAAAAAAADwPyEzMzMzM3ufQBobCQAAAAAAAPA/EQAAAAAAAABAITMzMzMze59AGhsJAAAAAAAAAEARAAAAAAAAGEAhMzMzMzN7n0AgAUIMCgpDb3Zlcl9UeXBlGsQHGrQHCrgCCLSdARgBIAEtAACAPzKkAhobCQAAAAAAAPA/EQAAAAAAAPA/ITMzMzMze59AGhsJAAAAAAAA8D8RAAAAAAAA8D8hMzMzMzN7n0AaGwkAAAAAAADwPxEAAAAAAADwPyEzMzMzM3ufQBobCQAAAAAAAPA/EQAAAAAAAPA/ITMzMzMze59AGhsJAAAAAAAA8D8RAAAAAAAA8D8hMzMzMzN7n0AaGwkAAAAAAADwPxEAAAAAAADwPyEzMzMzM3ufQBobCQAAAAAAAPA/EQAAAAAAAPA/ITMzMzMze59AGhsJAAAAAAAA8D8RAAAAAAAA8D8hMzMzMzN7n0AaGwkAAAAAAADwPxEAAAAAAADwPyEzMzMzM3ufQBobCQAAAAAAAPA/EQAAAAAAAPA/ITMzMzMze59AIAFAtJ0BEUde5burGqdAGQC41oBupnFAKQAAAAAAtJ1AMQAAAAAAZqdAOQAAAAAACq5AQqICGhsJAAAAAAC0nUARzczMzMxeoEAhEMmL4nSHZkAaGwnNzMzMzF6gQBGamZmZmeOhQCEGrkL9/h16QBobCZqZmZmZ46FAEWZmZmZmaKNAIbYkmRZ3aIlAGhsJZmZmZmZoo0ARMzMzMzPtpEAhjBSRYRWtmUAaGwkzMzMzM+2kQBEAAAAAAHKmQCE7GsBboFOpQBobCQAAAAAAcqZAEc3MzMzM9qdAIWyad5ximrdAGhsJzczMzMz2p0ARmpmZmZl7qUAhUmuad5yYtUAaGwmamZmZmXupQBFmZmZmZgCrQCFNxwQP5qqgQBobCWZmZmZmAKtAETQzMzMzhaxAIcuM7o9mO19AGhsJNDMzMzOFrEARAAAAAAAKrkAh7mXcK0pgNkBCpAIaGwkAAAAAALSdQBEAAAAAAB6kQCEzMzMzM3ufQBobCQAAAAAAHqRAEQAAAAAAeqVAITMzMzMze59AGhsJAAAAAAB6pUARAAAAAABYpkAhMzMzMzN7n0AaGwkAAAAAAFimQBEAAAAAAPKmQCEzMzMzM3ufQBobCQAAAAAA8qZAEQAAAAAAZqdAITMzMzMze59AGhsJAAAAAABmp0ARAAAAAADmp0AhMzMzMzN7n0AaGwkAAAAAAOanQBEAAAAAAG6oQCEzMzMzM3ufQBobCQAAAAAAbqhAEQAAAAAA9qhAITMzMzMze59AGhsJAAAAAAD2qEARAAAAAACUqUAhMzMzMzN7n0AaGwkAAAAAAJSpQBEAAAAAAAquQCEzMzMzM3ufQCABQgsKCUVsZXZhdGlvbhqvBxqbBwq4Agi0nQEYASABLQAAgD8ypAIaGwkAAAAAAADwPxEAAAAAAADwPyEzMzMzM3ufQBobCQAAAAAAAPA/EQAAAAAAAPA/ITMzMzMze59AGhsJAAAAAAAA8D8RAAAAAAAA8D8hMzMzMzN7n0AaGwkAAAAAAADwPxEAAAAAAADwPyEzMzMzM3ufQBobCQAAAAAAAPA/EQAAAAAAAPA/ITMzMzMze59AGhsJAAAAAAAA8D8RAAAAAAAA8D8hMzMzMzN7n0AaGwkAAAAAAADwPxEAAAAAAADwPyEzMzMzM3ufQBobCQAAAAAAAPA/EQAAAAAAAPA/ITMzMzMze59AGhsJAAAAAAAA8D8RAAAAAAAA8D8hMzMzMzN7n0AaGwkAAAAAAADwPxEAAAAAAADwPyEzMzMzM3ufQCABQLSdARG3RJj8ruFhQBmZ1WUjiSBDQCAeMQAAAAAA4GFAOQAAAAAAoG9AQpkCGhIRzczMzMxMOUAhUAEwnkFzVEAaGwnNzMzMzEw5QBHNzMzMzExJQCGlpfJ2hItqQBobCc3MzMzMTElAEZqZmZmZ+VJAIWPuWkI+VoRAGhsJmpmZmZn5UkARzczMzMxMWUAhkDF3LSGYmUAaGwnNzMzMzExZQBEAAAAAAKBfQCET0ETYcHutQBobCQAAAAAAoF9AEZqZmZmZ+WJAIZF++zow57VAGhsJmpmZmZn5YkARMzMzMzMjZkAhFmpN804usUAaGwkzMzMzMyNmQBHNzMzMzExpQCGVZYhj3aqkQBobCc3MzMzMTGlAEWdmZmZmdmxAIdLVVuwvaY5AGhsJZ2ZmZmZ2bEARAAAAAACgb0Ah9UyEDU/nZEBCmwIaEhEAAAAAAMBXQCEzMzMzM3ufQBobCQAAAAAAwFdAEQAAAAAAgFxAITMzMzMze59AGhsJAAAAAACAXEARAAAAAABAX0AhMzMzMzN7n0AaGwkAAAAAAEBfQBEAAAAAAOBgQCEzMzMzM3ufQBobCQAAAAAA4GBAEQAAAAAA4GFAITMzMzMze59AGhsJAAAAAADgYUARAAAAAAAAY0AhMzMzMzN7n0AaGwkAAAAAAABjQBEAAAAAAGBkQCEzMzMzM3ufQBobCQAAAAAAYGRAEQAAAAAAAGZAITMzMzMze59AGhsJAAAAAAAAZkARAAAAAAAAaEAhMzMzMzN7n0AaGwkAAAAAAABoQBEAAAAAAKBvQCEzMzMzM3ufQCABQg8KDUhpbGxzaGFkZV8zcG0arwcamwcKuAIItJ0BGAEgAS0AAIA/MqQCGhsJAAAAAAAA8D8RAAAAAAAA8D8hMzMzMzN7n0AaGwkAAAAAAADwPxEAAAAAAADwPyEzMzMzM3ufQBobCQAAAAAAAPA/EQAAAAAAAPA/ITMzMzMze59AGhsJAAAAAAAA8D8RAAAAAAAA8D8hMzMzMzN7n0AaGwkAAAAAAADwPxEAAAAAAADwPyEzMzMzM3ufQBobCQAAAAAAAPA/EQAAAAAAAPA/ITMzMzMze59AGhsJAAAAAAAA8D8RAAAAAAAA8D8hMzMzMzN7n0AaGwkAAAAAAADwPxEAAAAAAADwPyEzMzMzM3ufQBobCQAAAAAAAPA/EQAAAAAAAPA/ITMzMzMze59AGhsJAAAAAAAA8D8RAAAAAAAA8D8hMzMzMzN7n0AgAUC0nQERUyAUxGZ6akAZ/iVO/+4CO0AgATEAAAAAAEBrQDkAAAAAAMBvQEKZAhoSEWZmZmZmZjlAIRzr4jYaQBZAGhsJZmZmZmZmOUARZmZmZmZmSUAhHOviNhpAFkAaGwlmZmZmZmZJQBHMzMzMzAxTQCEa6+I2GkAWQBobCczMzMzMDFNAEWZmZmZmZllAIT1g5dAi+zxAGhsJZmZmZmZmWUARAAAAAADAX0AhWMoyxLH+ZUAaGwkAAAAAAMBfQBHMzMzMzAxjQCFv1xLyQZ+AQBobCczMzMzMDGNAEZmZmZmZOWZAISupE9BEepZAGhsJmZmZmZk5ZkARZmZmZmZmaUAh0LNZ9bk6r0AaGwlmZmZmZmZpQBEzMzMzM5NsQCF3nKIjOfa+QBobCTMzMzMzk2xAEQAAAAAAwG9AIYOezapPkLdAQpsCGhIRAAAAAAAAZkAhMzMzMzN7n0AaGwkAAAAAAABmQBEAAAAAAABoQCEzMzMzM3ufQBobCQAAAAAAAGhAEQAAAAAAYGlAITMzMzMze59AGhsJAAAAAABgaUARAAAAAABgakAhMzMzMzN7n0AaGwkAAAAAAGBqQBEAAAAAAEBrQCEzMzMzM3ufQBobCQAAAAAAQGtAEQAAAAAA4GtAITMzMzMze59AGhsJAAAAAADga0ARAAAAAACAbEAhMzMzMzN7n0AaGwkAAAAAAIBsQBEAAAAAAEBtQCEzMzMzM3ufQBobCQAAAAAAQG1AEQAAAAAAIG5AITMzMzMze59AGhsJAAAAAAAgbkARAAAAAADAb0AhMzMzMzN7n0AgAUIPCg1IaWxsc2hhZGVfOWFtGskHGrQHCrgCCLSdARgBIAEtAACAPzKkAhobCQAAAAAAAPA/EQAAAAAAAPA/ITMzMzMze59AGhsJAAAAAAAA8D8RAAAAAAAA8D8hMzMzMzN7n0AaGwkAAAAAAADwPxEAAAAAAADwPyEzMzMzM3ufQBobCQAAAAAAAPA/EQAAAAAAAPA/ITMzMzMze59AGhsJAAAAAAAA8D8RAAAAAAAA8D8hMzMzMzN7n0AaGwkAAAAAAADwPxEAAAAAAADwPyEzMzMzM3ufQBobCQAAAAAAAPA/EQAAAAAAAPA/ITMzMzMze59AGhsJAAAAAAAA8D8RAAAAAAAA8D8hMzMzMzN7n0AaGwkAAAAAAADwPxEAAAAAAADwPyEzMzMzM3ufQBobCQAAAAAAAPA/EQAAAAAAAPA/ITMzMzMze59AIAFAtJ0BEYnp4Y/V7mtAGfoufo2apjNAKQAAAAAAwFhAMQAAAAAAQGxAOQAAAAAAwG9AQqICGhsJAAAAAADAWEARAAAAAACgXEAhVQBaRnnhIEAaGwkAAAAAAKBcQBEAAAAAAEBgQCFVAFpGeeEgQBobCQAAAAAAQGBAEQAAAAAAMGJAITiXFMwJ7zlAGhsJAAAAAAAwYkARAAAAAAAgZEAhw/UoXI9QYUAaGwkAAAAAACBkQBEAAAAAABBmQCE+CtejcAl2QBobCQAAAAAAEGZAEQAAAAAAAGhAIbgehetRwopAGhsJAAAAAAAAaEARAAAAAADwaUAhL90kBgGNoUAaGwkAAAAAAPBpQBEAAAAAAOBrQCFwPQrX4xWzQBobCQAAAAAA4GtAEQAAAAAA0G1AIanx0k0iMbtAGhsJAAAAAADQbUARAAAAAADAb0AhjZduEkM4skBCpAIaGwkAAAAAAMBYQBEAAAAAAMBoQCEzMzMzM3ufQBobCQAAAAAAwGhAEQAAAAAAIGpAITMzMzMze59AGhsJAAAAAAAgakARAAAAAAAAa0AhMzMzMzN7n0AaGwkAAAAAAABrQBEAAAAAAKBrQCEzMzMzM3ufQBobCQAAAAAAoGtAEQAAAAAAQGxAITMzMzMze59AGhsJAAAAAABAbEARAAAAAADgbEAhMzMzMzN7n0AaGwkAAAAAAOBsQBEAAAAAAGBtQCEzMzMzM3ufQBobCQAAAAAAYG1AEQAAAAAAAG5AITMzMzMze59AGhsJAAAAAAAAbkARAAAAAADgbkAhMzMzMzN7n0AaGwkAAAAAAOBuQBEAAAAAAMBvQCEzMzMzM3ufQCABQhAKDkhpbGxzaGFkZV9Ob29uGsQHGpsHCrgCCLSdARgBIAEtAACAPzKkAhobCQAAAAAAAPA/EQAAAAAAAPA/ITMzMzMze59AGhsJAAAAAAAA8D8RAAAAAAAA8D8hMzMzMzN7n0AaGwkAAAAAAADwPxEAAAAAAADwPyEzMzMzM3ufQBobCQAAAAAAAPA/EQAAAAAAAPA/ITMzMzMze59AGhsJAAAAAAAA8D8RAAAAAAAA8D8hMzMzMzN7n0AaGwkAAAAAAADwPxEAAAAAAADwPyEzMzMzM3ufQBobCQAAAAAAAPA/EQAAAAAAAPA/ITMzMzMze59AGhsJAAAAAAAA8D8RAAAAAAAA8D8hMzMzMzN7n0AaGwkAAAAAAADwPxEAAAAAAADwPyEzMzMzM3ufQBobCQAAAAAAAPA/EQAAAAAAAPA/ITMzMzMze59AIAFAtJ0BEQ6IFxUFzp5AGQyhPPSojpRAIAMxAAAAAACMmkA5AAAAAACxu0BCmQIaEhEzMzMzMyeGQCEixUHEismlQBobCTMzMzMzJ4ZAETMzMzMzJ5ZAIbDsRXNikLRAGhsJMzMzMzMnlkARZmZmZmadoEAhJjYf14Z3skAaGwlmZmZmZp2gQBEzMzMzMyemQCFqrOrSLFysQBobCTMzMzMzJ6ZAEQAAAAAAsatAIUb2D1ooqpdAGhsJAAAAAACxq0ARZmZmZmadsEAh3ss9yxU9h0AaGwlmZmZmZp2wQBHNzMzMTGKzQCHjE4hPzTaAQBobCc3MzMxMYrNAETMzMzMzJ7ZAIcktNkOJxnxAGhsJMzMzMzMntkARmZmZmRnsuEAhoqDbS9pcdkAaGwmZmZmZGey4QBEAAAAAALG7QCFXvtnmxr9hQEKbAhoSEQAAAAAAaIJAITMzMzMze59AGhsJAAAAAABogkARAAAAAACwi0AhMzMzMzN7n0AaGwkAAAAAALCLQBEAAAAAADSSQCEzMzMzM3ufQBobCQAAAAAANJJAEQAAAAAALJZAITMzMzMze59AGhsJAAAAAAAslkARAAAAAACMmkAhMzMzMzN7n0AaGwkAAAAAAIyaQBEAAAAAAHifQCEzMzMzM3ufQBobCQAAAAAAeJ9AEQAAAAAAZqJAITMzMzMze59AGhsJAAAAAABmokARAAAAAACWpUAhMzMzMzN7n0AaGwkAAAAAAJalQBEAAAAAACStQCEzMzMzM3ufQBobCQAAAAAAJK1AEQAAAAAAsbtAITMzMzMze59AIAFCJAoiSG9yaXpvbnRhbF9EaXN0YW5jZV9Ub19GaXJlX1BvaW50cxrDBxqcBwq4Agi0nQEYASABLQAAgD8ypAIaGwkAAAAAAADwPxEAAAAAAADwPyEzMzMzM3ufQBobCQAAAAAAAPA/EQAAAAAAAPA/ITMzMzMze59AGhsJAAAAAAAA8D8RAAAAAAAA8D8hMzMzMzN7n0AaGwkAAAAAAADwPxEAAAAAAADwPyEzMzMzM3ufQBobCQAAAAAAAPA/EQAAAAAAAPA/ITMzMzMze59AGhsJAAAAAAAA8D8RAAAAAAAA8D8hMzMzMzN7n0AaGwkAAAAAAADwPxEAAAAAAADwPyEzMzMzM3ufQBobCQAAAAAAAPA/EQAAAAAAAPA/ITMzMzMze59AGhsJAAAAAAAA8D8RAAAAAAAA8D8hMzMzMzN7n0AaGwkAAAAAAADwPxEAAAAAAADwPyEzMzMzM3ufQCABQLSdARGV9aBF/sFwQBn++U076HNqQCDHBjEAAAAAAEBrQDkAAAAAAMCUQEKZAhoSEZqZmZmZmWBAIdaNuIIqx7hAGhsJmpmZmZmZYEARmpmZmZmZcEAhzJDpTvNgtEAaGwmamZmZmZlwQBFnZmZmZuZ4QCG86CtIM4auQBobCWdmZmZm5nhAEZqZmZmZmYBAIf+3kh0btqFAGhsJmpmZmZmZgEARAAAAAADAhEAhuw6cM6IwlEAaGwkAAAAAAMCEQBFnZmZmZuaIQCGQgbB2fYqDQBobCWdmZmZm5ohAEc7MzMzMDI1AIapwL/1TZXJAGhsJzszMzMwMjUARmpmZmZmZkEAhWZNdUqrqYEAaGwmamZmZmZmQQBHNzMzMzKySQCH6zZIThKpIQBobCc3MzMzMrJJAEQAAAAAAwJRAIX3cczQlQzFAQpsCGhIRAAAAAAAAPkAhMzMzMzN7n0AaGwkAAAAAAAA+QBEAAAAAAEBVQCEzMzMzM3ufQBobCQAAAAAAQFVAEQAAAAAAAF9AITMzMzMze59AGhsJAAAAAAAAX0ARAAAAAADgZUAhMzMzMzN7n0AaGwkAAAAAAOBlQBEAAAAAAEBrQCEzMzMzM3ufQBobCQAAAAAAQGtAEQAAAAAAUHFAITMzMzMze59AGhsJAAAAAABQcUARAAAAAABgdUAhMzMzMzN7n0AaGwkAAAAAAGB1QBEAAAAAAKB6QCEzMzMzM3ufQBobCQAAAAAAoHpAEQAAAAAAsIFAITMzMzMze59AGhsJAAAAAACwgUARAAAAAADAlEAhMzMzMzN7n0AgAUIiCiBIb3Jpem9udGFsX0Rpc3RhbmNlX1RvX0h5ZHJvbG9neRrBBxqbBwq4Agi0nQEYASABLQAAgD8ypAIaGwkAAAAAAADwPxEAAAAAAADwPyEzMzMzM3ufQBobCQAAAAAAAPA/EQAAAAAAAPA/ITMzMzMze59AGhsJAAAAAAAA8D8RAAAAAAAA8D8hMzMzMzN7n0AaGwkAAAAAAADwPxEAAAAAAADwPyEzMzMzM3ufQBobCQAAAAAAAPA/EQAAAAAAAPA/ITMzMzMze59AGhsJAAAAAAAA8D8RAAAAAAAA8D8hMzMzMzN7n0AaGwkAAAAAAADwPxEAAAAAAADwPyEzMzMzM3ufQBobCQAAAAAAAPA/EQAAAAAAAPA/ITMzMzMze59AGhsJAAAAAAAA8D8RAAAAAAAA8D8hMzMzMzN7n0AaGwkAAAAAAADwPxEAAAAAAADwPyEzMzMzM3ufQCABQLSdARF77/gWrFSiQBmUgd78WGqYQCAFMQAAAAAA4J5AOQAAAAAAb7tAQpkCGhIRZmZmZmbyhUAhxMZSQ1AupEAaGwlmZmZmZvKFQBFmZmZmZvKVQCEHk5cJCHOxQBobCWZmZmZm8pVAEczMzMzMdaBAIfibUIhANqxAGhsJzMzMzMx1oEARZmZmZmbypUAh1Ze4aBtjpUAaGwlmZmZmZvKlQBEAAAAAAG+rQCFhCvzO3A+hQBobCQAAAAAAb6tAEczMzMzMdbBAIWwlOzaCWZdAGhsJzMzMzMx1sEARmZmZmRk0s0Ah+9ozSwIdk0AaGwmZmZmZGTSzQBFmZmZmZvK1QCFUUiegidaPQBobCWZmZmZm8rVAETMzMzOzsLhAIW1xZx+D4oZAGhsJMzMzM7OwuEARAAAAAABvu0AhTHu0Gy8cWEBCmwIaEhEAAAAAAMCCQCEzMzMzM3ufQBobCQAAAAAAwIJAEQAAAAAAcI1AITMzMzMze59AGhsJAAAAAABwjUARAAAAAACUk0AhMzMzMzN7n0AaGwkAAAAAAJSTQBEAAAAAAKyYQCEzMzMzM3ufQBobCQAAAAAArJhAEQAAAAAA4J5AITMzMzMze59AGhsJAAAAAADgnkARAAAAAAAso0AhMzMzMzN7n0AaGwkAAAAAACyjQBEAAAAAAHynQCEzMzMzM3ufQBobCQAAAAAAfKdAEQAAAAAAMK1AITMzMzMze59AGhsJAAAAAAAwrUARAAAAAACzskAhMzMzMzN7n0AaGwkAAAAAALOyQBEAAAAAAG+7QCEzMzMzM3ufQCABQiEKH0hvcml6b250YWxfRGlzdGFuY2VfVG9fUm9hZHdheXMapwcamwcKuAIItJ0BGAEgAS0AAIA/MqQCGhsJAAAAAAAA8D8RAAAAAAAA8D8hMzMzMzN7n0AaGwkAAAAAAADwPxEAAAAAAADwPyEzMzMzM3ufQBobCQAAAAAAAPA/EQAAAAAAAPA/ITMzMzMze59AGhsJAAAAAAAA8D8RAAAAAAAA8D8hMzMzMzN7n0AaGwkAAAAAAADwPxEAAAAAAADwPyEzMzMzM3ufQBobCQAAAAAAAPA/EQAAAAAAAPA/ITMzMzMze59AGhsJAAAAAAAA8D8RAAAAAAAA8D8hMzMzMzN7n0AaGwkAAAAAAADwPxEAAAAAAADwPyEzMzMzM3ufQBobCQAAAAAAAPA/EQAAAAAAAPA/ITMzMzMze59AGhsJAAAAAAAA8D8RAAAAAAAA8D8hMzMzMzN7n0AgAUC0nQERpZMj1Lo0LEAZJASbU9rmHUAgFDEAAAAAAAAqQDkAAAAAAABLQEKZAhoSEZqZmZmZmRVAISWX/5B+v6BAGhsJmpmZmZmZFUARmpmZmZmZJUAh7S+7Jw+1s0AaGwmamZmZmZklQBE0MzMzMzMwQCFK6gQ0kUu5QBobCTQzMzMzMzBAEZqZmZmZmTVAISxDHOvi7qhAGhsJmpmZmZmZNUARAAAAAAAAO0AhzhlR2hvGnEAaGwkAAAAAAAA7QBE0MzMzMzNAQCGHONbFbS6QQBobCTQzMzMzM0BAEWdmZmZm5kJAIZ3Nqs/VpnRAGhsJZ2ZmZmbmQkARmpmZmZmZRUAhbtcS8kGfUEAaGwmamZmZmZlFQBHNzMzMzExIQCHC0ytlGSIiQBobCc3MzMzMTEhAEQAAAAAAAEtAIcLTK2UZIiJAQpsCGhIRAAAAAAAAFEAhMzMzMzN7n0AaGwkAAAAAAAAUQBEAAAAAAAAgQCEzMzMzM3ufQBobCQAAAAAAACBAEQAAAAAAACRAITMzMzMze59AGhsJAAAAAAAAJEARAAAAAAAAJkAhMzMzMzN7n0AaGwkAAAAAAAAmQBEAAAAAAAAqQCEzMzMzM3ufQBobCQAAAAAAACpAEQAAAAAAAC5AITMzMzMze59AGhsJAAAAAAAALkARAAAAAAAAMUAhMzMzMzN7n0AaGwkAAAAAAAAxQBEAAAAAAAA0QCEzMzMzM3ufQBobCQAAAAAAADRAEQAAAAAAADlAITMzMzMze59AGhsJAAAAAAAAOUARAAAAAAAAS0AhMzMzMzN7n0AgAUIHCgVTbG9wZRqVDBACIoMMCrgCCLSdARgBIAEtAACAPzKkAhobCQAAAAAAAPA/EQAAAAAAAPA/ITMzMzMze59AGhsJAAAAAAAA8D8RAAAAAAAA8D8hMzMzMzN7n0AaGwkAAAAAAADwPxEAAAAAAADwPyEzMzMzM3ufQBobCQAAAAAAAPA/EQAAAAAAAPA/ITMzMzMze59AGhsJAAAAAAAA8D8RAAAAAAAA8D8hMzMzMzN7n0AaGwkAAAAAAADwPxEAAAAAAADwPyEzMzMzM3ufQBobCQAAAAAAAPA/EQAAAAAAAPA/ITMzMzMze59AGhsJAAAAAAAA8D8RAAAAAAAA8D8hMzMzMzN7n0AaGwkAAAAAAADwPxEAAAAAAADwPyEzMzMzM3ufQBobCQAAAAAAAPA/EQAAAAAAAPA/ITMzMzMze59AIAFAtJ0BECcaEBIFQzc3NDUZAAAAAAAQr0AaEBIFQzcyMDIZAAAAAAAIn0AaEBIFQzc3NTYZAAAAAABQnEAaEBIFQzc3NTcZAAAAAAAEmUAaEBIFQzQ3MDMZAAAAAAAIkkAaEBIFQzcyMDEZAAAAAADYkUAaEBIFQzc3NDYZAAAAAAAwkEAaEBIFQzQ3NDQZAAAAAAAoj0AaEBIFQzc3NTUZAAAAAAAojUAaEBIFQzc3MDAZAAAAAABQhkAaEBIFQzQ3NTgZAAAAAABIg0AaEBIFQzg3NzEZAAAAAADggUAaEBIFQzg3NzIZAAAAAACQfkAaEBIFQzQ3MDQZAAAAAAAwe0AaEBIFQzI3MDUZAAAAAADgekAaEBIFQzcxMDIZAAAAAAAQckAaEBIFQzg3NzYZAAAAAADgcUAaEBIFQzI3MDMZAAAAAABAb0AaEBIFQzI3MTcZAAAAAAAAbkAaEBIFQzI3MDQZAAAAAAAgZ0AlAACgQCrWBgoQIgVDNzc0NSkAAAAAABCvQAoUCAEQASIFQzcyMDIpAAAAAAAIn0AKFAgCEAIiBUM3NzU2KQAAAAAAUJxAChQIAxADIgVDNzc1NykAAAAAAASZQAoUCAQQBCIFQzQ3MDMpAAAAAAAIkkAKFAgFEAUiBUM3MjAxKQAAAAAA2JFAChQIBhAGIgVDNzc0NikAAAAAADCQQAoUCAcQByIFQzQ3NDQpAAAAAAAoj0AKFAgIEAgiBUM3NzU1KQAAAAAAKI1AChQICRAJIgVDNzcwMCkAAAAAAFCGQAoUCAoQCiIFQzQ3NTgpAAAAAABIg0AKFAgLEAsiBUM4NzcxKQAAAAAA4IFAChQIDBAMIgVDODc3MikAAAAAAJB+QAoUCA0QDSIFQzQ3MDQpAAAAAAAwe0AKFAgOEA4iBUMyNzA1KQAAAAAA4HpAChQIDxAPIgVDNzEwMikAAAAAABByQAoUCBAQECIFQzg3NzYpAAAAAADgcUAKFAgREBEiBUMyNzAzKQAAAAAAQG9AChQIEhASIgVDMjcxNykAAAAAAABuQAoUCBMQEyIFQzI3MDQpAAAAAAAgZ0AKFAgUEBQiBUM3MTAxKQAAAAAAoGBAChQIFRAVIgVDNjEwMikAAAAAAABfQAoUCBYQFiIFQzI3MDIpAAAAAADAWkAKFAgXEBciBUM2MTAxKQAAAAAAwFlAChQIGBAYIgVDNzcwMikAAAAAAEBXQAoUCBkQGSIFQzY3MzEpAAAAAAAAUUAKFAgaEBoiBUMyNzA2KQAAAAAAAFFAChQIGxAbIgVDNzc5MCkAAAAAAIBPQAoUCBwQHCIFQzg3MDMpAAAAAACATUAKFAgdEB0iBUM0MjAxKQAAAAAAgEZAChQIHhAeIgVDNzcwOSkAAAAAAABCQAoUCB8QHyIFQzcxMDMpAAAAAAAAP0AKFAggECAiBUM3NzEwKQAAAAAAADRAChQIIRAhIgVDNTEwMSkAAAAAAAAzQAoUCCIQIiIFQzc3MDEpAAAAAAAALkAKFAgjECMiBUM4NzA4KQAAAAAAACBAChQIJBAkIgVDODcwNykAAAAAAAAYQAoUCCUQJSIFQzM1MDIpAAAAAAAAFEAKFAgmECYiBUMzNTAxKQAAAAAAAPA/QgsKCVNvaWxfVHlwZRrKBxqlBwq4Agi0nQEYASABLQAAgD8ypAIaGwkAAAAAAADwPxEAAAAAAADwPyEzMzMzM3ufQBobCQAAAAAAAPA/EQAAAAAAAPA/ITMzMzMze59AGhsJAAAAAAAA8D8RAAAAAAAA8D8hMzMzMzN7n0AaGwkAAAAAAADwPxEAAAAAAADwPyEzMzMzM3ufQBobCQAAAAAAAPA/EQAAAAAAAPA/ITMzMzMze59AGhsJAAAAAAAA8D8RAAAAAAAA8D8hMzMzMzN7n0AaGwkAAAAAAADwPxEAAAAAAADwPyEzMzMzM3ufQBobCQAAAAAAAPA/EQAAAAAAAPA/ITMzMzMze59AGhsJAAAAAAAA8D8RAAAAAAAA8D8hMzMzMzN7n0AaGwkAAAAAAADwPxEAAAAAAADwPyEzMzMzM3ufQCABQLSdARFpiBScJSxHQBkg0OA9aeZMQCDNCikAAAAAACBjwDEAAAAAAAA9QDkAAAAAALCCQEKiAhobCQAAAAAAIGPAEZqZmZmZeVPAISQ+NkcZgENAGhsJmpmZmZl5U8ARgGZmZmZmBsAhxdJCBrOxl0AaGwmAZmZmZmYGwBEyMzMzMxNSQCHYX3ZP/h3LQBobCTIzMzMzE1JAEczMzMzMbGJAIZoIG57e/KlAGhsJzMzMzMxsYkARAAAAAADQa0AhbG/whUmjkEAaGwkAAAAAANBrQBGZmZmZmZlyQCGAW3fzVLNuQBobCZmZmZmZmXJAETIzMzMzS3dAIQ+mffx2mUpAGhsJMjMzMzNLd0ARzMzMzMz8e0AhBG22xzO0GEAaGwnMzMzMzPx7QBEzMzMzM1eAQCEEbbbHM7QYQBobCTMzMzMzV4BAEQAAAAAAsIJAIQRttscztBhAQpICGhIJAAAAAAAgY8AhMzMzMzN7n0AaEhEAAAAAAAAIQCEzMzMzM3ufQBobCQAAAAAAAAhAEQAAAAAAACRAITMzMzMze59AGhsJAAAAAAAAJEARAAAAAAAAM0AhMzMzMzN7n0AaGwkAAAAAAAAzQBEAAAAAAAA9QCEzMzMzM3ufQBobCQAAAAAAAD1AEQAAAAAAAEVAITMzMzMze59AGhsJAAAAAAAARUARAAAAAACATUAhMzMzMzN7n0AaGwkAAAAAAIBNQBEAAAAAAEBUQCEzMzMzM3ufQBobCQAAAAAAQFRAEQAAAAAAgF5AITMzMzMze59AGhsJAAAAAACAXkARAAAAAACwgkAhMzMzMzN7n0AgAUIgCh5WZXJ0aWNhbF9EaXN0YW5jZV9Ub19IeWRyb2xvZ3kagAQQAiLoAwq4Agi0nQEYASABLQAAgD8ypAIaGwkAAAAAAADwPxEAAAAAAADwPyEzMzMzM3ufQBobCQAAAAAAAPA/EQAAAAAAAPA/ITMzMzMze59AGhsJAAAAAAAA8D8RAAAAAAAA8D8hMzMzMzN7n0AaGwkAAAAAAADwPxEAAAAAAADwPyEzMzMzM3ufQBobCQAAAAAAAPA/EQAAAAAAAPA/ITMzMzMze59AGhsJAAAAAAAA8D8RAAAAAAAA8D8hMzMzMzN7n0AaGwkAAAAAAADwPxEAAAAAAADwPyEzMzMzM3ufQBobCQAAAAAAAPA/EQAAAAAAAPA/ITMzMzMze59AGhsJAAAAAAAA8D8RAAAAAAAA8D8hMzMzMzN7n0AaGwkAAAAAAADwPxEAAAAAAADwPyEzMzMzM3ufQCABQLSdARAEGhASBVJhd2FoGQAAAACAfsFAGhQSCUNvbW1hbmNoZRkAAAAAADPBQBoQEgVDYWNoZRkAAAAAABSVQBoQEgVOZW90YRkAAAAAADCQQCXF8ddAKlgKECIFUmF3YWgpAAAAAIB+wUAKGAgBEAEiCUNvbW1hbmNoZSkAAAAAADPBQAoUCAIQAiIFQ2FjaGUpAAAAAAAUlUAKFAgDEAMiBU5lb3RhKQAAAAAAMJBAQhEKD1dpbGRlcm5lc3NfQXJlYQqSYgoNVFJBSU5fREFUQVNFVBDs7wQaqwwQAiKZDAq4Agjs7wQYASABLQAAgD8ypAIaGwkAAAAAAADwPxEAAAAAAADwPyEzMzMzMzG/QBobCQAAAAAAAPA/EQAAAAAAAPA/ITMzMzMzMb9AGhsJAAAAAAAA8D8RAAAAAAAA8D8hMzMzMzMxv0AaGwkAAAAAAADwPxEAAAAAAADwPyEzMzMzMzG/QBobCQAAAAAAAPA/EQAAAAAAAPA/ITMzMzMzMb9AGhsJAAAAAAAA8D8RAAAAAAAA8D8hMzMzMzMxv0AaGwkAAAAAAADwPxEAAAAAAADwPyEzMzMzMzG/QBobCQAAAAAAAPA/EQAAAAAAAPA/ITMzMzMzMb9AGhsJAAAAAAAA8D8RAAAAAAAA8D8hMzMzMzMxv0AaGwkAAAAAAADwPxEAAAAAAADwPyEzMzMzMzG/QCABQOzvBBAoGhASBUM3NzQ1GQAAAACA6s5AGhASBUM3MjAyGQAAAAAAOr9AGhASBUM3NzU2GQAAAAAARrxAGhASBUM3NzU3GQAAAAAAJrhAGhASBUM3MjAxGQAAAAAAELJAGhASBUM0NzAzGQAAAAAAc7FAGhASBUM3NzQ2GQAAAAAAUrBAGhASBUM0NzQ0GQAAAAAAAbBAGhASBUM3NzU1GQAAAAAAdKpAGhASBUM3NzAwGQAAAAAAKqdAGhASBUM0NzU4GQAAAAAAjqJAGhASBUM4NzcxGQAAAAAA9qBAGhASBUM4NzcyGQAAAAAAiJ1AGhASBUM0NzA0GQAAAAAA0JpAGhASBUMyNzA1GQAAAAAA8JlAGhASBUM3MTAyGQAAAAAAlJRAGhASBUM4Nzc2GQAAAAAAgJNAGhASBUMyNzAzGQAAAAAAfJBAGhASBUMyNzE3GQAAAAAAgItAGhASBUMyNzA0GQAAAAAAeINAJQAAoEAq7AYKECIFQzc3NDUpAAAAAIDqzkAKFAgBEAEiBUM3MjAyKQAAAAAAOr9AChQIAhACIgVDNzc1NikAAAAAAEa8QAoUCAMQAyIFQzc3NTcpAAAAAAAmuEAKFAgEEAQiBUM3MjAxKQAAAAAAELJAChQIBRAFIgVDNDcwMykAAAAAAHOxQAoUCAYQBiIFQzc3NDYpAAAAAABSsEAKFAgHEAciBUM0NzQ0KQAAAAAAAbBAChQICBAIIgVDNzc1NSkAAAAAAHSqQAoUCAkQCSIFQzc3MDApAAAAAAAqp0AKFAgKEAoiBUM0NzU4KQAAAAAAjqJAChQICxALIgVDODc3MSkAAAAAAPagQAoUCAwQDCIFQzg3NzIpAAAAAACInUAKFAgNEA0iBUM0NzA0KQAAAAAA0JpAChQIDhAOIgVDMjcwNSkAAAAAAPCZQAoUCA8QDyIFQzcxMDIpAAAAAACUlEAKFAgQEBAiBUM4Nzc2KQAAAAAAgJNAChQIERARIgVDMjcwMykAAAAAAHyQQAoUCBIQEiIFQzI3MTcpAAAAAACAi0AKFAgTEBMiBUMyNzA0KQAAAAAAeINAChQIFBAUIgVDNzEwMSkAAAAAAFiBQAoUCBUQFSIFQzYxMDIpAAAAAACwfEAKFAgWEBYiBUMyNzAyKQAAAAAAwHpAChQIFxAXIgVDNzcwMikAAAAAAAB4QAoUCBgQGCIFQzYxMDEpAAAAAADwdkAKFAgZEBkiBUM2NzMxKQAAAAAA4HBAChQIGhAaIgVDODcwMykAAAAAACBvQAoUCBsQGyIFQzI3MDYpAAAAAACgbEAKFAgcEBwiBUM3NzkwKQAAAAAAAGpAChQIHRAdIgVDNDIwMSkAAAAAAOBjQAoUCB4QHiIFQzc3MDkpAAAAAACAYUAKFAgfEB8iBUM3MTAzKQAAAAAAIGBAChQIIBAgIgVDNzcxMCkAAAAAAMBcQAoUCCEQISIFQzUxMDEpAAAAAACAVUAKFAgiECIiBUM3NzAxKQAAAAAAwFBAChQIIxAjIgVDODcwOCkAAAAAAIBGQAoUCCQQJCIFQzM1MDIpAAAAAAAAQkAKFAglECUiBUM4NzA3KQAAAAAAADBAChQIJhAmIgVDMzUwMSkAAAAAAAAsQAoUCCcQJyIFQzUxNTEpAAAAAAAA8D9CCwoJU29pbF9UeXBlGoAEEAIi6AMKuAII7O8EGAEgAS0AAIA/MqQCGhsJAAAAAAAA8D8RAAAAAAAA8D8hMzMzMzMxv0AaGwkAAAAAAADwPxEAAAAAAADwPyEzMzMzMzG/QBobCQAAAAAAAPA/EQAAAAAAAPA/ITMzMzMzMb9AGhsJAAAAAAAA8D8RAAAAAAAA8D8hMzMzMzMxv0AaGwkAAAAAAADwPxEAAAAAAADwPyEzMzMzMzG/QBobCQAAAAAAAPA/EQAAAAAAAPA/ITMzMzMzMb9AGhsJAAAAAAAA8D8RAAAAAAAA8D8hMzMzMzMxv0AaGwkAAAAAAADwPxEAAAAAAADwPyEzMzMzMzG/QBobCQAAAAAAAPA/EQAAAAAAAPA/ITMzMzMzMb9AGhsJAAAAAAAA8D8RAAAAAAAA8D8hMzMzMzMxv0AgAUDs7wQQBBoQEgVSYXdhaBkAAAAAoI/hQBoUEglDb21tYW5jaGUZAAAAAMD14EAaEBIFQ2FjaGUZAAAAAAC/s0AaEBIFTmVvdGEZAAAAAAACsEAlaq3XQCpYChAiBVJhd2FoKQAAAACgj+FAChgIARABIglDb21tYW5jaGUpAAAAAMD14EAKFAgCEAIiBUNhY2hlKQAAAAAAv7NAChQIAxADIgVOZW90YSkAAAAAAAKwQEIRCg9XaWxkZXJuZXNzX0FyZWEaqQcanAcKuAII7O8EGAEgAS0AAIA/MqQCGhsJAAAAAAAA8D8RAAAAAAAA8D8hMzMzMzMxv0AaGwkAAAAAAADwPxEAAAAAAADwPyEzMzMzMzG/QBobCQAAAAAAAPA/EQAAAAAAAPA/ITMzMzMzMb9AGhsJAAAAAAAA8D8RAAAAAAAA8D8hMzMzMzMxv0AaGwkAAAAAAADwPxEAAAAAAADwPyEzMzMzMzG/QBobCQAAAAAAAPA/EQAAAAAAAPA/ITMzMzMzMb9AGhsJAAAAAAAA8D8RAAAAAAAA8D8hMzMzMzMxv0AaGwkAAAAAAADwPxEAAAAAAADwPyEzMzMzMzG/QBobCQAAAAAAAPA/EQAAAAAAAPA/ITMzMzMzMb9AGhsJAAAAAAAA8D8RAAAAAAAA8D8hMzMzMzMxv0AgAUDs7wQR77tzDQViY0AZ/5Hku+j0W0AgoAUxAAAAAACAX0A5AAAAAACAdkBCmQIaEhEAAAAAAABCQCGAarx004zHQBobCQAAAAAAAEJAEQAAAAAAAFJAIRODwMphfMhAGhsJAAAAAAAAUkARAAAAAAAAW0AhxSCwcii+xEAaGwkAAAAAAABbQBEAAAAAAABiQCEusp3vJ4jAQBobCQAAAAAAAGJAEQAAAAAAgGZAIZhuEoPAtLdAGhsJAAAAAACAZkARAAAAAAAAa0AhSgwCK4f2s0AaGwkAAAAAAABrQBEAAAAAAIBvQCGWQ4ts59CvQBobCQAAAAAAgG9AEQAAAAAAAHJAIVTjpZtEZ7JAGhsJAAAAAAAAckARAAAAAABAdEAh5tAi2/lyu0AaGwkAAAAAAEB0QBEAAAAAAIB2QCEK16Nwfe/BQEKbAhoSEQAAAAAAADhAITQzMzMzMb9AGhsJAAAAAAAAOEARAAAAAACAR0AhNDMzMzMxv0AaGwkAAAAAAIBHQBEAAAAAAEBRQCE0MzMzMzG/QBobCQAAAAAAQFFAEQAAAAAAAFhAITQzMzMzMb9AGhsJAAAAAAAAWEARAAAAAACAX0AhNDMzMzMxv0AaGwkAAAAAAIBfQBEAAAAAAOBkQCE0MzMzMzG/QBobCQAAAAAA4GRAEQAAAAAAIGxAITQzMzMzMb9AGhsJAAAAAAAgbEARAAAAAAAQckAhNDMzMzMxv0AaGwkAAAAAABByQBEAAAAAAJB0QCE0MzMzMzG/QBobCQAAAAAAkHRAEQAAAAAAgHZAITQzMzMzMb9AIAFCCAoGQXNwZWN0GvgGGucGCrgCCOzvBBgBIAEtAACAPzKkAhobCQAAAAAAAPA/EQAAAAAAAPA/ITMzMzMzMb9AGhsJAAAAAAAA8D8RAAAAAAAA8D8hMzMzMzMxv0AaGwkAAAAAAADwPxEAAAAAAADwPyEzMzMzMzG/QBobCQAAAAAAAPA/EQAAAAAAAPA/ITMzMzMzMb9AGhsJAAAAAAAA8D8RAAAAAAAA8D8hMzMzMzMxv0AaGwkAAAAAAADwPxEAAAAAAADwPyEzMzMzMzG/QBobCQAAAAAAAPA/EQAAAAAAAPA/ITMzMzMzMb9AGhsJAAAAAAAA8D8RAAAAAAAA8D8hMzMzMzMxv0AaGwkAAAAAAADwPxEAAAAAAADwPyEzMzMzMzG/QBobCQAAAAAAAPA/EQAAAAAAAPA/ITMzMzMzMb9AIAFA7O8EETJsMTYazPA/GfJjND1bWfY/IIXkATEAAAAAAADwPzkAAAAAAAAYQEKZAhoSETMzMzMzM+M/IY25awl5gtxAGhsJMzMzMzMz4z8RMzMzMzMz8z8hrdhfdv/44kAaGwkzMzMzMzPzPxHMzMzMzMz8PyG+DpwzovRHQBobCczMzMzMzPw/ETMzMzMzMwNAIaQjufwH57JAGhsJMzMzMzMzA0ARAAAAAAAACEAhwA6cM6L0R0AaGwkAAAAAAAAIQBHMzMzMzMwMQCEhjnVxG/V2QBobCczMzMzMzAxAEc3MzMzMzBBAIfvL7snDdpNAGhsJzczMzMzMEEARMzMzMzMzE0Ahuw6cM6L0R0AaGwkzMzMzMzMTQBGZmZmZmZkVQCFeS8gHPXeiQBobCZmZmZmZmRVAEQAAAAAAABhAIayt2F92NaZAQuUBGgkhNDMzMzMxv0AaCSE0MzMzMzG/QBoJITQzMzMzMb9AGhIRAAAAAAAA8D8hNDMzMzMxv0AaGwkAAAAAAADwPxEAAAAAAADwPyE0MzMzMzG/QBobCQAAAAAAAPA/EQAAAAAAAPA/ITQzMzMzMb9AGhsJAAAAAAAA8D8RAAAAAAAA8D8hNDMzMzMxv0AaGwkAAAAAAADwPxEAAAAAAADwPyE0MzMzMzG/QBobCQAAAAAAAPA/EQAAAAAAAABAITQzMzMzMb9AGhsJAAAAAAAAAEARAAAAAAAAGEAhNDMzMzMxv0AgAUIMCgpDb3Zlcl9UeXBlGsQHGrQHCrgCCOzvBBgBIAEtAACAPzKkAhobCQAAAAAAAPA/EQAAAAAAAPA/ITMzMzMzMb9AGhsJAAAAAAAA8D8RAAAAAAAA8D8hMzMzMzMxv0AaGwkAAAAAAADwPxEAAAAAAADwPyEzMzMzMzG/QBobCQAAAAAAAPA/EQAAAAAAAPA/ITMzMzMzMb9AGhsJAAAAAAAA8D8RAAAAAAAA8D8hMzMzMzMxv0AaGwkAAAAAAADwPxEAAAAAAADwPyEzMzMzMzG/QBobCQAAAAAAAPA/EQAAAAAAAPA/ITMzMzMzMb9AGhsJAAAAAAAA8D8RAAAAAAAA8D8hMzMzMzMxv0AaGwkAAAAAAADwPxEAAAAAAADwPyEzMzMzMzG/QBobCQAAAAAAAPA/EQAAAAAAAPA/ITMzMzMzMb9AIAFA7O8EEQrW1/NbH6dAGZDxafNUfXFAKQAAAAAADJ1AMQAAAAAAaqdAOQAAAAAAIq5AQqICGhsJAAAAAAAMnUARmpmZmZkVoEAhcmfsTnGweUAaGwmamZmZmRWgQBEzMzMzM6WhQCGvzWWBgTCXQBobCTMzMzMzpaFAEc3MzMzMNKNAITfBg3kimqdAGhsJzczMzMw0o0ARZmZmZmbEpEAhRMXZhw/Ct0AaGwlmZmZmZsSkQBEAAAAAAFSmQCGj0NiE4dbIQBobCQAAAAAAVKZAEZqZmZmZ46dAIYHQs1nViNdAGhsJmpmZmZnjp0ARNDMzMzNzqUAho6ut2H8h1kAaGwk0MzMzM3OpQBHNzMzMzAKrQCHzzr2Haz3BQBobCc3MzMzMAqtAEWZmZmZmkqxAIU0pZpzWTH1AGhsJZmZmZmaSrEARAAAAAAAirkAhs3ujaN6+U0BCpAIaGwkAAAAAAAydQBEAAAAAACykQCE0MzMzMzG/QBobCQAAAAAALKRAEQAAAAAAfqVAITQzMzMzMb9AGhsJAAAAAAB+pUARAAAAAABapkAhNDMzMzMxv0AaGwkAAAAAAFqmQBEAAAAAAPamQCE0MzMzMzG/QBobCQAAAAAA9qZAEQAAAAAAaqdAITQzMzMzMb9AGhsJAAAAAABqp0ARAAAAAADmp0AhNDMzMzMxv0AaGwkAAAAAAOanQBEAAAAAAHKoQCE0MzMzMzG/QBobCQAAAAAAcqhAEQAAAAAA+qhAITQzMzMzMb9AGhsJAAAAAAD6qEARAAAAAACQqUAhNDMzMzMxv0AaGwkAAAAAAJCpQBEAAAAAACKuQCE0MzMzMzG/QCABQgsKCUVsZXZhdGlvbhqwBxqcBwq4Agjs7wQYASABLQAAgD8ypAIaGwkAAAAAAADwPxEAAAAAAADwPyEzMzMzMzG/QBobCQAAAAAAAPA/EQAAAAAAAPA/ITMzMzMzMb9AGhsJAAAAAAAA8D8RAAAAAAAA8D8hMzMzMzMxv0AaGwkAAAAAAADwPxEAAAAAAADwPyEzMzMzMzG/QBobCQAAAAAAAPA/EQAAAAAAAPA/ITMzMzMzMb9AGhsJAAAAAAAA8D8RAAAAAAAA8D8hMzMzMzMxv0AaGwkAAAAAAADwPxEAAAAAAADwPyEzMzMzMzG/QBobCQAAAAAAAPA/EQAAAAAAAPA/ITMzMzMzMb9AGhsJAAAAAAAA8D8RAAAAAAAA8D8hMzMzMzMxv0AaGwkAAAAAAADwPxEAAAAAAADwPyEzMzMzMzG/QCABQOzvBBG4PSlQr8thQBniEQVxOxBDQCCtATEAAAAAAOBhQDkAAAAAAKBvQEKZAhoSEc3MzMzMTDlAIYSB597DQXdAGhsJzczMzMxMOUARzczMzMxMSUAhv/bMkgCNikAaGwnNzMzMzExJQBGamZmZmflSQCHBWyBB8RajQBobCZqZmZmZ+VJAEc3MzMzMTFlAIf5D+u2r+7lAGhsJzczMzMxMWUARAAAAAACgX0AhXdxGA9jVzUAaGwkAAAAAAKBfQBGamZmZmfliQCF1JJf/oNvVQBobCZqZmZmZ+WJAETMzMzMzI2ZAIW6jAbz18dBAGhsJMzMzMzMjZkARzczMzMxMaUAhUdobfIECxEAaGwnNzMzMzExpQBFnZmZmZnZsQCFoGeJYl0KsQBobCWdmZmZmdmxAEQAAAAAAoG9AIbTsnjwstoRAQpsCGhIRAAAAAADAV0AhNDMzMzMxv0AaGwkAAAAAAMBXQBEAAAAAAEBcQCE0MzMzMzG/QBobCQAAAAAAQFxAEQAAAAAAAF9AITQzMzMzMb9AGhsJAAAAAAAAX0ARAAAAAADAYEAhNDMzMzMxv0AaGwkAAAAAAMBgQBEAAAAAAOBhQCE0MzMzMzG/QBobCQAAAAAA4GFAEQAAAAAA4GJAITQzMzMzMb9AGhsJAAAAAADgYkARAAAAAABAZEAhNDMzMzMxv0AaGwkAAAAAAEBkQBEAAAAAAOBlQCE0MzMzMzG/QBobCQAAAAAA4GVAEQAAAAAA4GdAITQzMzMzMb9AGhsJAAAAAADgZ0ARAAAAAACgb0AhNDMzMzMxv0AgAUIPCg1IaWxsc2hhZGVfM3BtGq8HGpsHCrgCCOzvBBgBIAEtAACAPzKkAhobCQAAAAAAAPA/EQAAAAAAAPA/ITMzMzMzMb9AGhsJAAAAAAAA8D8RAAAAAAAA8D8hMzMzMzMxv0AaGwkAAAAAAADwPxEAAAAAAADwPyEzMzMzMzG/QBobCQAAAAAAAPA/EQAAAAAAAPA/ITMzMzMzMb9AGhsJAAAAAAAA8D8RAAAAAAAA8D8hMzMzMzMxv0AaGwkAAAAAAADwPxEAAAAAAADwPyEzMzMzMzG/QBobCQAAAAAAAPA/EQAAAAAAAPA/ITMzMzMzMb9AGhsJAAAAAAAA8D8RAAAAAAAA8D8hMzMzMzMxv0AaGwkAAAAAAADwPxEAAAAAAADwPyEzMzMzMzG/QBobCQAAAAAAAPA/EQAAAAAAAPA/ITMzMzMzMb9AIAFA7O8EEebNWGlriGpAGVcRoSwJrDpAIAExAAAAAABAa0A5AAAAAADAb0BCmQIaEhFmZmZmZmY5QCEjk7bszAs2QBobCWZmZmZmZjlAEWZmZmZmZklAISOTtuzMCzZAGhsJZmZmZmZmSUARzMzMzMwMU0AhIZO27MwLNkAaGwnMzMzMzAxTQBFmZmZmZmZZQCGG9vXVyJdWQBobCWZmZmZmZllAEQAAAAAAwF9AIcGy0qQUEIRAGhsJAAAAAADAX0ARzMzMzMwMY0Ahe3NGlPawn0AaGwnMzMzMzAxjQBGZmZmZmTlmQCFUBaOSuqW1QBobCZmZmZmZOWZAEWZmZmZmZmlAIfOOU3Rkyc5AGhsJZmZmZmZmaUARMzMzMzOTbEAh71pCPmjB3kAaGwkzMzMzM5NsQBEAAAAAAMBvQCGRoPgxxqjXQEKbAhoSEQAAAAAAAGZAITQzMzMzMb9AGhsJAAAAAAAAZkARAAAAAAAgaEAhNDMzMzMxv0AaGwkAAAAAACBoQBEAAAAAAGBpQCE0MzMzMzG/QBobCQAAAAAAYGlAEQAAAAAAYGpAITQzMzMzMb9AGhsJAAAAAABgakARAAAAAABAa0AhNDMzMzMxv0AaGwkAAAAAAEBrQBEAAAAAAOBrQCE0MzMzMzG/QBobCQAAAAAA4GtAEQAAAAAAoGxAITQzMzMzMb9AGhsJAAAAAACgbEARAAAAAABAbUAhNDMzMzMxv0AaGwkAAAAAAEBtQBEAAAAAACBuQCE0MzMzMzG/QBobCQAAAAAAIG5AEQAAAAAAwG9AITQzMzMzMb9AIAFCDwoNSGlsbHNoYWRlXzlhbRqwBxqbBwq4Agjs7wQYASABLQAAgD8ypAIaGwkAAAAAAADwPxEAAAAAAADwPyEzMzMzMzG/QBobCQAAAAAAAPA/EQAAAAAAAPA/ITMzMzMzMb9AGhsJAAAAAAAA8D8RAAAAAAAA8D8hMzMzMzMxv0AaGwkAAAAAAADwPxEAAAAAAADwPyEzMzMzMzG/QBobCQAAAAAAAPA/EQAAAAAAAPA/ITMzMzMzMb9AGhsJAAAAAAAA8D8RAAAAAAAA8D8hMzMzMzMxv0AaGwkAAAAAAADwPxEAAAAAAADwPyEzMzMzMzG/QBobCQAAAAAAAPA/EQAAAAAAAPA/ITMzMzMzMb9AGhsJAAAAAAAA8D8RAAAAAAAA8D8hMzMzMzMxv0AaGwkAAAAAAADwPxEAAAAAAADwPyEzMzMzMzG/QCABQOzvBBF32ab3sOhrQBl3VU5y+MgzQCABMQAAAAAAQGxAOQAAAAAAwG9AQpkCGhIRZmZmZmZmOUAhHebsjiv3LkAaGwlmZmZmZmY5QBFmZmZmZmZJQCEd5uyOK/cuQBobCWZmZmZmZklAEczMzMzMDFNAIRrm7I4r9y5AGhsJzMzMzMwMU0ARZmZmZmZmWUAhH+bsjiv3LkAaGwlmZmZmZmZZQBEAAAAAAMBfQCEf5uyOK/cuQBobCQAAAAAAwF9AEczMzMzMDGNAIfULlOkQHXVAGhsJzMzMzMwMY0ARmZmZmZk5ZkAh4vIf0m+xnkAaGwmZmZmZmTlmQBFmZmZmZmZpQCGyLm6jwV/BQBobCWZmZmZmZmlAETMzMzMzk2xAIf9D+u1LPOBAGhsJMzMzMzOTbEARAAAAAADAb0Ahn14py9A/4UBCmwIaEhEAAAAAAMBoQCE0MzMzMzG/QBobCQAAAAAAwGhAEQAAAAAAIGpAITQzMzMzMb9AGhsJAAAAAAAgakARAAAAAAAAa0AhNDMzMzMxv0AaGwkAAAAAAABrQBEAAAAAAKBrQCE0MzMzMzG/QBobCQAAAAAAoGtAEQAAAAAAQGxAITQzMzMzMb9AGhsJAAAAAABAbEARAAAAAADAbEAhNDMzMzMxv0AaGwkAAAAAAMBsQBEAAAAAAGBtQCE0MzMzMzG/QBobCQAAAAAAYG1AEQAAAAAAAG5AITQzMzMzMb9AGhsJAAAAAAAAbkARAAAAAADgbkAhNDMzMzMxv0AaGwkAAAAAAOBuQBEAAAAAAMBvQCE0MzMzMzG/QCABQhAKDkhpbGxzaGFkZV9Ob29uGsQHGpsHCrgCCOzvBBgBIAEtAACAPzKkAhobCQAAAAAAAPA/EQAAAAAAAPA/ITMzMzMzMb9AGhsJAAAAAAAA8D8RAAAAAAAA8D8hMzMzMzMxv0AaGwkAAAAAAADwPxEAAAAAAADwPyEzMzMzMzG/QBobCQAAAAAAAPA/EQAAAAAAAPA/ITMzMzMzMb9AGhsJAAAAAAAA8D8RAAAAAAAA8D8hMzMzMzMxv0AaGwkAAAAAAADwPxEAAAAAAADwPyEzMzMzMzG/QBobCQAAAAAAAPA/EQAAAAAAAPA/ITMzMzMzMb9AGhsJAAAAAAAA8D8RAAAAAAAA8D8hMzMzMzMxv0AaGwkAAAAAAADwPxEAAAAAAADwPyEzMzMzMzG/QBobCQAAAAAAAPA/EQAAAAAAAPA/ITMzMzMzMb9AIAFA7O8EEXqg+niS855AGT+T6O3AvZRAIAQxAAAAAAC8mkA5AAAAAADuu0BCmQIaEhEAAAAAAFiGQCG+5kLSVMjFQBobCQAAAAAAWIZAEQAAAAAAWJZAIdS/EcoITdRAGhsJAAAAAABYlkARAAAAAADCoEAhxpJfLNmV0kAaGwkAAAAAAMKgQBEAAAAAAFimQCG49iuKRD3MQBobCQAAAAAAWKZAEQAAAAAA7qtAIZjdk4eFFbZAGhsJAAAAAADuq0ARAAAAAADCsEAh0Bx/j0fkpUAaGwkAAAAAAMKwQBEAAAAAAI2zQCFPxDVR/k+gQBobCQAAAAAAjbNAEQAAAAAAWLZAIUwycha2bZxAGhsJAAAAAABYtkARAAAAAAAjuUAhkct/SP9LmUAaGwkAAAAAACO5QBEAAAAAAO67QCHl0CLb+XJ7QEKbAhoSEQAAAAAAmIJAITQzMzMzMb9AGhsJAAAAAACYgkARAAAAAADAi0AhNDMzMzMxv0AaGwkAAAAAAMCLQBEAAAAAADSSQCE0MzMzMzG/QBobCQAAAAAANJJAEQAAAAAAWJZAITQzMzMzMb9AGhsJAAAAAABYlkARAAAAAAC8mkAhNDMzMzMxv0AaGwkAAAAAALyaQBEAAAAAAIifQCE0MzMzMzG/QBobCQAAAAAAiJ9AEQAAAAAAdqJAITQzMzMzMb9AGhsJAAAAAAB2okARAAAAAACMpUAhNDMzMzMxv0AaGwkAAAAAAIylQBEAAAAAAFatQCE0MzMzMzG/QBobCQAAAAAAVq1AEQAAAAAA7rtAITQzMzMzMb9AIAFCJAoiSG9yaXpvbnRhbF9EaXN0YW5jZV9Ub19GaXJlX1BvaW50cxrDBxqcBwq4Agjs7wQYASABLQAAgD8ypAIaGwkAAAAAAADwPxEAAAAAAADwPyEzMzMzMzG/QBobCQAAAAAAAPA/EQAAAAAAAPA/ITMzMzMzMb9AGhsJAAAAAAAA8D8RAAAAAAAA8D8hMzMzMzMxv0AaGwkAAAAAAADwPxEAAAAAAADwPyEzMzMzMzG/QBobCQAAAAAAAPA/EQAAAAAAAPA/ITMzMzMzMb9AGhsJAAAAAAAA8D8RAAAAAAAA8D8hMzMzMzMxv0AaGwkAAAAAAADwPxEAAAAAAADwPyEzMzMzMzG/QBobCQAAAAAAAPA/EQAAAAAAAPA/ITMzMzMzMb9AGhsJAAAAAAAA8D8RAAAAAAAA8D8hMzMzMzMxv0AaGwkAAAAAAADwPxEAAAAAAADwPyEzMzMzMzG/QCABQOzvBBHKVrCL6cxwQBlxpGMrbItqQCCeGjEAAAAAAEBrQDkAAAAAANSVQEKZAhoSEWZmZmZmdmFAIRPyQc/5mtlAGhsJZmZmZmZ2YUARZmZmZmZ2cUAh8RZIUKmG1UAaGwlmZmZmZnZxQBGZmZmZmTF6QCF80LNZhWjMQBobCZmZmZmZMXpAEWZmZmZmdoFAIb3jFB25ccFAGhsJZmZmZmZ2gUARAAAAAADUhUAhu/yH9LtrsUAaGwkAAAAAANSFQBGZmZmZmTGKQCEcFmpNM3CgQBobCZmZmZmZMYpAETIzMzMzj45AIY8tBDmozo1AGhsJMjMzMzOPjkARZmZmZmZ2kUAh3Wg0tPxIekAaGwlmZmZmZnaRQBEzMzMzM6WTQCHRx9a8RpldQBobCTMzMzMzpZNAEQAAAAAA1JVAIcwtItmFK0xAQpsCGhIRAAAAAAAAPkAhNDMzMzMxv0AaGwkAAAAAAAA+QBEAAAAAAEBVQCE0MzMzMzG/QBobCQAAAAAAQFVAEQAAAAAAAF9AITQzMzMzMb9AGhsJAAAAAAAAX0ARAAAAAADgZUAhNDMzMzMxv0AaGwkAAAAAAOBlQBEAAAAAAEBrQCE0MzMzMzG/QBobCQAAAAAAQGtAEQAAAAAAUHFAITQzMzMzMb9AGhsJAAAAAABQcUARAAAAAABgdUAhNDMzMzMxv0AaGwkAAAAAAGB1QBEAAAAAAOB6QCE0MzMzMzG/QBobCQAAAAAA4HpAEQAAAAAAoIFAITQzMzMzMb9AGhsJAAAAAACggUARAAAAAADUlUAhNDMzMzMxv0AgAUIiCiBIb3Jpem9udGFsX0Rpc3RhbmNlX1RvX0h5ZHJvbG9neRrBBxqbBwq4Agjs7wQYASABLQAAgD8ypAIaGwkAAAAAAADwPxEAAAAAAADwPyEzMzMzMzG/QBobCQAAAAAAAPA/EQAAAAAAAPA/ITMzMzMzMb9AGhsJAAAAAAAA8D8RAAAAAAAA8D8hMzMzMzMxv0AaGwkAAAAAAADwPxEAAAAAAADwPyEzMzMzMzG/QBobCQAAAAAAAPA/EQAAAAAAAPA/ITMzMzMzMb9AGhsJAAAAAAAA8D8RAAAAAAAA8D8hMzMzMzMxv0AaGwkAAAAAAADwPxEAAAAAAADwPyEzMzMzMzG/QBobCQAAAAAAAPA/EQAAAAAAAPA/ITMzMzMzMb9AGhsJAAAAAAAA8D8RAAAAAAAA8D8hMzMzMzMxv0AaGwkAAAAAAADwPxEAAAAAAADwPyEzMzMzMzG/QCABQOzvBBEl2aGpvGeiQBkUmggzBF6YQCAOMQAAAAAAVJ9AOQAAAAAAprtAQpkCGhIRZmZmZmYehkAhVg1zIC84xEAaGwlmZmZmZh6GQBFmZmZmZh6WQCGPZ1t+fuXQQBobCWZmZmZmHpZAEczMzMzMlqBAIUOx3NK6Y8xAGhsJzMzMzMyWoEARZmZmZmYepkAhKEmSJHmVxUAaGwlmZmZmZh6mQBEAAAAAAKarQCEs1YNFLBnBQBobCQAAAAAApqtAEczMzMzMlrBAIdVipAR6lbdAGhsJzMzMzMyWsEARmZmZmZlas0AhBaFN5PsyskAaGwmZmZmZmVqzQBFmZmZmZh62QCEWEKErqXywQBobCWZmZmZmHrZAETMzMzMz4rhAIZ5Lay4YoaRAGhsJMzMzMzPiuEARAAAAAACmu0AhG+Pe/8GzckBCmwIaEhEAAAAAALCCQCE0MzMzMzG/QBobCQAAAAAAsIJAEQAAAAAAqI1AITQzMzMzMb9AGhsJAAAAAACojUARAAAAAADEk0AhNDMzMzMxv0AaGwkAAAAAAMSTQBEAAAAAAAiZQCE0MzMzMzG/QBobCQAAAAAACJlAEQAAAAAAVJ9AITQzMzMzMb9AGhsJAAAAAABUn0ARAAAAAABKo0AhNDMzMzMxv0AaGwkAAAAAAEqjQBEAAAAAAJ6nQCE0MzMzMzG/QBobCQAAAAAAnqdAEQAAAAAASK1AITQzMzMzMb9AGhsJAAAAAABIrUARAAAAAADIskAhNDMzMzMxv0AaGwkAAAAAAMiyQBEAAAAAAKa7QCE0MzMzMzG/QCABQiEKH0hvcml6b250YWxfRGlzdGFuY2VfVG9fUm9hZHdheXMapwcamwcKuAII7O8EGAEgAS0AAIA/MqQCGhsJAAAAAAAA8D8RAAAAAAAA8D8hMzMzMzMxv0AaGwkAAAAAAADwPxEAAAAAAADwPyEzMzMzMzG/QBobCQAAAAAAAPA/EQAAAAAAAPA/ITMzMzMzMb9AGhsJAAAAAAAA8D8RAAAAAAAA8D8hMzMzMzMxv0AaGwkAAAAAAADwPxEAAAAAAADwPyEzMzMzMzG/QBobCQAAAAAAAPA/EQAAAAAAAPA/ITMzMzMzMb9AGhsJAAAAAAAA8D8RAAAAAAAA8D8hMzMzMzMxv0AaGwkAAAAAAADwPxEAAAAAAADwPyEzMzMzMzG/QBobCQAAAAAAAPA/EQAAAAAAAPA/ITMzMzMzMb9AGhsJAAAAAAAA8D8RAAAAAAAA8D8hMzMzMzMxv0AgAUDs7wQRFUe7nCYnLEAZwCBh8fDeHUAgVzEAAAAAAAAqQDkAAAAAAEBQQEKZAhoSEQAAAAAAABpAISlcj8IVAcdAGhsJAAAAAAAAGkARAAAAAAAAKkAhuR6F6+GJ2UAaGwkAAAAAAAAqQBEAAAAAAIAzQCH0/dR4eUrYQBobCQAAAAAAgDNAEQAAAAAAADpAIYcW2c5XWsRAGhsJAAAAAAAAOkARAAAAAABAQEAhAQAAAMB+s0AaGwkAAAAAAEBAQBEAAAAAAIBDQCFxPQrXo9WVQBobCQAAAAAAgENAEQAAAAAAwEZAIZ6ulV1fe2VAGhsJAAAAAADARkARAAAAAAAASkAh2bQjXR6RNkAaGwkAAAAAAABKQBEAAAAAAEBNQCHZtCNdHpE2QBobCQAAAAAAQE1AEQAAAAAAQFBAIdm0I10ekTZAQpsCGhIRAAAAAAAAFEAhNDMzMzMxv0AaGwkAAAAAAAAUQBEAAAAAAAAgQCE0MzMzMzG/QBobCQAAAAAAACBAEQAAAAAAACJAITQzMzMzMb9AGhsJAAAAAAAAIkARAAAAAAAAJkAhNDMzMzMxv0AaGwkAAAAAAAAmQBEAAAAAAAAqQCE0MzMzMzG/QBobCQAAAAAAACpAEQAAAAAAAC5AITQzMzMzMb9AGhsJAAAAAAAALkARAAAAAAAAMUAhNDMzMzMxv0AaGwkAAAAAAAAxQBEAAAAAAAA0QCE0MzMzMzG/QBobCQAAAAAAADRAEQAAAAAAADhAITQzMzMzMb9AGhsJAAAAAAAAOEARAAAAAABAUEAhNDMzMzMxv0AgAUIHCgVTbG9wZRrKBxqlBwq4Agjs7wQYASABLQAAgD8ypAIaGwkAAAAAAADwPxEAAAAAAADwPyEzMzMzMzG/QBobCQAAAAAAAPA/EQAAAAAAAPA/ITMzMzMzMb9AGhsJAAAAAAAA8D8RAAAAAAAA8D8hMzMzMzMxv0AaGwkAAAAAAADwPxEAAAAAAADwPyEzMzMzMzG/QBobCQAAAAAAAPA/EQAAAAAAAPA/ITMzMzMzMb9AGhsJAAAAAAAA8D8RAAAAAAAA8D8hMzMzMzMxv0AaGwkAAAAAAADwPxEAAAAAAADwPyEzMzMzMzG/QBobCQAAAAAAAPA/EQAAAAAAAPA/ITMzMzMzMb9AGhsJAAAAAAAA8D8RAAAAAAAA8D8hMzMzMzMxv0AaGwkAAAAAAADwPxEAAAAAAADwPyEzMzMzMzG/QCABQOzvBBHFB0YRpxRHQBmztxomPNtMQCDMKSkAAAAAAMBkwDEAAAAAAAA9QDkAAAAAAMiCQEKiAhobCQAAAAAAwGTAETMzMzMzU1bAIXKKjuTy92BAGhsJMzMzMzNTVsARMDMzMzMzKcAhthX7y25FpkAaGwkwMzMzMzMpwBFoZmZmZgZQQCEt1JrmJRbrQBobCWhmZmZmBlBAEZqZmZmZmWFAIbBQa5qXXc5AGhsJmpmZmZmZYUARAAAAAAAwa0AhF9z8rF96sUAaGwkAAAAAADBrQBE0MzMzM2NyQCH4NYL+4VmQQBobCTQzMzMzY3JAEWZmZmZmLndAIRQpc63rzm5AGhsJZmZmZmYud0ARmpmZmZn5e0Ah/g/pt6/zOUAaGwmamZmZmfl7QBFnZmZmZmKAQCH+D+m3r/M5QBobCWdmZmZmYoBAEQAAAAAAyIJAIfMP6bev8zlAQpICGhIJAAAAAADAZMAhNDMzMzMxv0AaEhEAAAAAAAAIQCE0MzMzMzG/QBobCQAAAAAAAAhAEQAAAAAAACZAITQzMzMzMb9AGhsJAAAAAAAAJkARAAAAAAAAM0AhNDMzMzMxv0AaGwkAAAAAAAAzQBEAAAAAAAA9QCE0MzMzMzG/QBobCQAAAAAAAD1AEQAAAAAAAEVAITQzMzMzMb9AGhsJAAAAAAAARUARAAAAAAAATUAhNDMzMzMxv0AaGwkAAAAAAABNQBEAAAAAAEBUQCE0MzMzMzG/QBobCQAAAAAAQFRAEQAAAAAAQF5AITQzMzMzMb9AGhsJAAAAAABAXkARAAAAAADIgkAhNDMzMzMxv0AgAUIgCh5WZXJ0aWNhbF9EaXN0YW5jZV9Ub19IeWRyb2xvZ3k=\"></facets-overview>';\n",
       "        facets_iframe.srcdoc = facets_html;\n",
       "         facets_iframe.id = \"\";\n",
       "         setTimeout(() => {\n",
       "           facets_iframe.setAttribute('height', facets_iframe.contentWindow.document.body.offsetHeight + 'px')\n",
       "         }, 1500)\n",
       "         </script>"
      ],
      "text/plain": [
       "<IPython.core.display.HTML object>"
      ]
     },
     "metadata": {},
     "output_type": "display_data"
    }
   ],
   "source": [
    "train_stats = tfdv.load_statistics(train_stats_file)\n",
    "eval_stats = tfdv.load_statistics(eval_stats_file)\n",
    "tfdv.visualize_statistics(lhs_statistics=eval_stats, rhs_statistics=train_stats,\n",
    "                          lhs_name='EVAL_DATASET', rhs_name='TRAIN_DATASET')"
   ]
  },
  {
   "cell_type": "markdown",
   "metadata": {},
   "source": [
    "### Visualize anomalies"
   ]
  },
  {
   "cell_type": "code",
   "execution_count": 49,
   "metadata": {},
   "outputs": [
    {
     "data": {
      "text/html": [
       "<h4 style=\"color:green;\">No anomalies found.</h4>"
      ],
      "text/plain": [
       "<IPython.core.display.HTML object>"
      ]
     },
     "metadata": {},
     "output_type": "display_data"
    }
   ],
   "source": [
    "train_anomalies = tfdv.load_anomalies_text(train_anomalies_file)\n",
    "tfdv.display_anomalies(train_anomalies)"
   ]
  },
  {
   "cell_type": "code",
   "execution_count": 50,
   "metadata": {},
   "outputs": [
    {
     "data": {
      "text/html": [
       "<h4 style=\"color:green;\">No anomalies found.</h4>"
      ],
      "text/plain": [
       "<IPython.core.display.HTML object>"
      ]
     },
     "metadata": {},
     "output_type": "display_data"
    }
   ],
   "source": [
    "eval_anomalies = tfdv.load_anomalies_text(eval_anomalies_file)\n",
    "tfdv.display_anomalies(eval_anomalies)"
   ]
  },
  {
   "cell_type": "markdown",
   "metadata": {},
   "source": [
    "### Retrieve model artifacts"
   ]
  },
  {
   "cell_type": "code",
   "execution_count": 51,
   "metadata": {},
   "outputs": [
    {
     "name": "stdout",
     "output_type": "stream",
     "text": [
      "Generated model evaluation result:gs://qwiklabs-gcp-02-56f147a7387f-kubeflowpipelines-default/tfx_covertype_lab_04/e3015338-56ec-4312-babd-d7d4f8b23c77/Evaluator/evaluation/11\n",
      "Generated model best hyperparameters result:gs://qwiklabs-gcp-02-56f147a7387f-kubeflowpipelines-default/tfx_covertype_lab_04/e3015338-56ec-4312-babd-d7d4f8b23c77/Tuner/best_hyperparameters/8/best_hyperparameters.txt\n"
     ]
    }
   ],
   "source": [
    "with metadata.Metadata(connection_config) as store:\n",
    "    model_eval_artifacts = store.get_artifacts_by_type(standard_artifacts.ModelEvaluation.TYPE_NAME)\n",
    "    hyperparam_artifacts = store.get_artifacts_by_type(standard_artifacts.HyperParameters.TYPE_NAME)\n",
    "    \n",
    "model_eval_path = model_eval_artifacts[-1].uri\n",
    "print(\"Generated model evaluation result:{}\".format(model_eval_path))\n",
    "best_hparams_path = os.path.join(hyperparam_artifacts[-1].uri, 'best_hyperparameters.txt')\n",
    "print(\"Generated model best hyperparameters result:{}\".format(best_hparams_path))"
   ]
  },
  {
   "cell_type": "markdown",
   "metadata": {},
   "source": [
    "### Return best hyperparameters"
   ]
  },
  {
   "cell_type": "code",
   "execution_count": 52,
   "metadata": {},
   "outputs": [
    {
     "data": {
      "text/plain": [
       "[{'class_name': 'Float',\n",
       "  'config': {'name': 'learning_rate',\n",
       "   'default': 0.001,\n",
       "   'min_value': 0.0001,\n",
       "   'max_value': 0.01,\n",
       "   'step': None,\n",
       "   'sampling': 'log'}},\n",
       " {'class_name': 'Int',\n",
       "  'config': {'name': 'n_layers',\n",
       "   'default': 1,\n",
       "   'min_value': 1,\n",
       "   'max_value': 2,\n",
       "   'step': 1,\n",
       "   'sampling': None}},\n",
       " {'class_name': 'Int',\n",
       "  'config': {'name': 'n_layers=1/n_units_1',\n",
       "   'default': 8,\n",
       "   'min_value': 8,\n",
       "   'max_value': 128,\n",
       "   'step': 8,\n",
       "   'sampling': None}},\n",
       " {'class_name': 'Int',\n",
       "  'config': {'name': 'n_layers=2/n_units_1',\n",
       "   'default': 8,\n",
       "   'min_value': 8,\n",
       "   'max_value': 128,\n",
       "   'step': 8,\n",
       "   'sampling': None}},\n",
       " {'class_name': 'Int',\n",
       "  'config': {'name': 'n_layers=2/n_units_2',\n",
       "   'default': 8,\n",
       "   'min_value': 8,\n",
       "   'max_value': 128,\n",
       "   'step': 8,\n",
       "   'sampling': None}}]"
      ]
     },
     "execution_count": 52,
     "metadata": {},
     "output_type": "execute_result"
    }
   ],
   "source": [
    "# Latest pipeline run Tuner search space.\n",
    "json.loads(file_io.read_file_to_string(best_hparams_path))['space']"
   ]
  },
  {
   "cell_type": "code",
   "execution_count": 53,
   "metadata": {},
   "outputs": [
    {
     "data": {
      "text/plain": [
       "{'learning_rate': 0.0010000000000000002,\n",
       " 'n_layers': 2,\n",
       " 'n_layers=1/n_units_1': 72.0,\n",
       " 'n_layers=2/n_units_1': 72.0,\n",
       " 'n_layers=2/n_units_2': 72.0}"
      ]
     },
     "execution_count": 53,
     "metadata": {},
     "output_type": "execute_result"
    }
   ],
   "source": [
    "# Latest pipeline run Tuner searched best_hyperparameters artifacts.\n",
    "json.loads(file_io.read_file_to_string(best_hparams_path))['values']"
   ]
  },
  {
   "cell_type": "markdown",
   "metadata": {},
   "source": [
    "### Visualize model evaluations"
   ]
  },
  {
   "cell_type": "markdown",
   "metadata": {},
   "source": [
    "#### Exercise: review the model evaluation results below and answer the following questions:\n",
    "\n",
    "- Which Wilderness Area had the highest accuracy?\n",
    "- Which Wilderness Area had the lowest performance? Why do you think that is? What are some steps you could take to improve your next model runs?"
   ]
  },
  {
   "cell_type": "code",
   "execution_count": 54,
   "metadata": {},
   "outputs": [
    {
     "data": {
      "application/vnd.jupyter.widget-view+json": {
       "model_id": "16e6e3fbb0f748abaf010ec6c582ffe3",
       "version_major": 2,
       "version_minor": 0
      },
      "text/plain": [
       "SlicingMetricsViewer(config={'weightedExamplesColumn': 'example_count'}, data=[{'slice': 'Wilderness_Area:Cach…"
      ]
     },
     "metadata": {},
     "output_type": "display_data"
    }
   ],
   "source": [
    "eval_result = tfma.load_eval_result(model_eval_path)\n",
    "tfma.view.render_slicing_metrics(\n",
    "    eval_result, slicing_column='Wilderness_Area')"
   ]
  },
  {
   "cell_type": "markdown",
   "metadata": {},
   "source": [
    "**Debugging tip**: If the TFMA visualization of the Evaluator results do not render, try switching to view in a Classic Jupyter Notebook. You do so by clicking `Help > Launch Classic Notebook` and re-opening the notebook and running the above cell to see the interactive TFMA results."
   ]
  },
  {
   "cell_type": "markdown",
   "metadata": {},
   "source": [
    "## License"
   ]
  },
  {
   "cell_type": "markdown",
   "metadata": {},
   "source": [
    "<font size=-1>Licensed under the Apache License, Version 2.0 (the \\\"License\\\");\n",
    "you may not use this file except in compliance with the License.\n",
    "You may obtain a copy of the License at [https://www.apache.org/licenses/LICENSE-2.0](https://www.apache.org/licenses/LICENSE-2.0)\n",
    "\n",
    "Unless required by applicable law or agreed to in writing, software distributed under the License is distributed on an \\\"AS IS\\\" BASIS, WITHOUT WARRANTIES OR CONDITIONS OF ANY KIND, either express or implied.  See the License for the specific language governing permissions and limitations under the License.</font>\n"
   ]
  }
 ],
 "metadata": {
  "environment": {
   "name": "tf2-cpu.2-3.m80",
   "type": "gcloud",
   "uri": "gcr.io/deeplearning-platform-release/tf2-cpu.2-3:m80"
  },
  "kernelspec": {
   "display_name": "Python [conda env:root] *",
   "language": "python",
   "name": "conda-root-py"
  },
  "language_info": {
   "codemirror_mode": {
    "name": "ipython",
    "version": 3
   },
   "file_extension": ".py",
   "mimetype": "text/x-python",
   "name": "python",
   "nbconvert_exporter": "python",
   "pygments_lexer": "ipython3",
   "version": "3.7.10"
  }
 },
 "nbformat": 4,
 "nbformat_minor": 4
}

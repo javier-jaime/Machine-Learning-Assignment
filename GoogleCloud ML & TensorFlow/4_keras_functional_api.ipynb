{
 "cells": [
  {
   "cell_type": "markdown",
   "metadata": {},
   "source": [
    "# Introducing the Keras Functional API\n",
    "\n",
    "**Learning Objectives**\n",
    "  1. Understand embeddings and how to create them with the feature column API\n",
    "  1. Understand Deep and Wide models and when to use them\n",
    "  1. Understand the Keras functional API and how to build a deep and wide model with it\n",
    "\n",
    "## Introduction\n",
    "\n",
    "In the last notebook, we learned about the Keras Sequential API. The [Keras Functional API](https://www.tensorflow.org/guide/keras#functional_api) provides an alternate way of building models which is more flexible. With the Functional API, we can build models with more complex topologies, multiple input or output layers, shared layers or non-sequential data flows (e.g. residual layers).\n",
    "\n",
    "In this notebook we'll use what we learned about feature columns to build a Wide & Deep model. Recall, that the idea behind Wide & Deep models is to join the two methods of learning through memorization and generalization by making a wide linear model and a deep learning model to accommodate both. You can have a look at the original research paper here: [Wide & Deep Learning for Recommender Systems](https://arxiv.org/abs/1606.07792).\n",
    "\n",
    "<img src='assets/wide_deep.png' width='80%'>\n",
    "<sup>(image: https://ai.googleblog.com/2016/06/wide-deep-learning-better-together-with.html)</sup>\n",
    "\n",
    "The Wide part of the model is associated with the memory element. In this case, we train a linear model with a wide set of crossed features and learn the correlation of this related data with the assigned label. The Deep part of the model is associated with the generalization element where we use embedding vectors for features. The best embeddings are then learned through the training process. While both of these methods can work well alone, Wide & Deep models excel by combining these techniques together.\n",
    "\n",
    "Each learning objective will correspond to a __#TODO__  in this student lab notebook -- try to complete this notebook first and then review the [solution notebook](https://github.com/GoogleCloudPlatform/training-data-analyst/blob/master/courses/machine_learning/deepdive2/introduction_to_tensorflow/solutions/4_keras_functional_api.ipynb)\n"
   ]
  },
  {
   "cell_type": "code",
   "execution_count": 1,
   "metadata": {},
   "outputs": [],
   "source": [
    "# Use the chown command to change the ownership of the repository.\n",
    "!sudo chown -R jupyter:jupyter /home/jupyter/training-data-analyst"
   ]
  },
  {
   "cell_type": "code",
   "execution_count": 4,
   "metadata": {},
   "outputs": [
    {
     "name": "stdout",
     "output_type": "stream",
     "text": [
      "tensorflow==2.3.0\n"
     ]
    }
   ],
   "source": [
    "# Ensure the right version of Tensorflow is installed.\n",
    "!pip freeze | grep tensorflow==2.3.0 || pip install tensorflow==2.3.0"
   ]
  },
  {
   "cell_type": "markdown",
   "metadata": {},
   "source": [
    "Kindly ignore the deprecation warnings and incompatibility errors."
   ]
  },
  {
   "cell_type": "code",
   "execution_count": 5,
   "metadata": {},
   "outputs": [
    {
     "name": "stdout",
     "output_type": "stream",
     "text": [
      "Requirement already satisfied: numpy==1.21.0 in /opt/conda/lib/python3.7/site-packages (1.21.0)\n"
     ]
    }
   ],
   "source": [
    "# Install the required numpy version.\n",
    "!pip install numpy==1.21.0"
   ]
  },
  {
   "cell_type": "markdown",
   "metadata": {},
   "source": [
    "Kindly ignore the deprecation warnings and incompatibility errors."
   ]
  },
  {
   "cell_type": "markdown",
   "metadata": {},
   "source": [
    "Start by importing the necessary libraries for this lab."
   ]
  },
  {
   "cell_type": "code",
   "execution_count": 7,
   "metadata": {},
   "outputs": [
    {
     "name": "stdout",
     "output_type": "stream",
     "text": [
      "2.3.0\n"
     ]
    }
   ],
   "source": [
    "import datetime\n",
    "import os\n",
    "import shutil\n",
    "\n",
    "import numpy as np\n",
    "import pandas as pd\n",
    "import tensorflow as tf\n",
    "\n",
    "from matplotlib import pyplot as plt\n",
    "from tensorflow import keras\n",
    "\n",
    "from tensorflow import feature_column as fc\n",
    "\n",
    "from tensorflow.keras import Model\n",
    "from tensorflow.keras.layers import (\n",
    "    Input, Dense, DenseFeatures, concatenate)\n",
    "from tensorflow.keras.callbacks import TensorBoard\n",
    "\n",
    "print(tf.__version__)"
   ]
  },
  {
   "cell_type": "code",
   "execution_count": 8,
   "metadata": {},
   "outputs": [],
   "source": [
    "%matplotlib inline"
   ]
  },
  {
   "cell_type": "markdown",
   "metadata": {},
   "source": [
    "## Load raw data \n",
    "\n",
    "We will use the taxifare dataset, using the CSV files that we created in the first notebook of this sequence. Those files have been saved into `../data`."
   ]
  },
  {
   "cell_type": "code",
   "execution_count": 9,
   "metadata": {},
   "outputs": [
    {
     "name": "stdout",
     "output_type": "stream",
     "text": [
      "-rw-r--r-- 1 jupyter jupyter 123590 Sep 28 19:34 ../data/taxi-test.csv\n",
      "-rw-r--r-- 1 jupyter jupyter 579055 Sep 28 19:34 ../data/taxi-train.csv\n",
      "-rw-r--r-- 1 jupyter jupyter 123114 Sep 28 19:34 ../data/taxi-valid.csv\n"
     ]
    }
   ],
   "source": [
    "!ls -l ../data/*.csv"
   ]
  },
  {
   "cell_type": "markdown",
   "metadata": {},
   "source": [
    "## Use tf.data to read the CSV files\n",
    "\n",
    "We wrote these functions for reading data from the csv files above in the [previous notebook](2_dataset_api.ipynb). For this lab we will also include some additional engineered features in our model. In particular, we will compute the difference in latitude and longitude, as well as the Euclidean distance between the pick-up and drop-off locations. We can accomplish this by adding these new features to the features dictionary with the function `add_engineered_features` below. \n",
    "\n",
    "Note that we include a call to this function when collecting our features dict and labels in the `features_and_labels` function below as well. "
   ]
  },
  {
   "cell_type": "code",
   "execution_count": 10,
   "metadata": {},
   "outputs": [],
   "source": [
    "CSV_COLUMNS = [\n",
    "    'fare_amount',\n",
    "    'pickup_datetime',\n",
    "    'pickup_longitude',\n",
    "    'pickup_latitude',\n",
    "    'dropoff_longitude',\n",
    "    'dropoff_latitude',\n",
    "    'passenger_count',\n",
    "    'key'\n",
    "]\n",
    "LABEL_COLUMN = 'fare_amount'\n",
    "DEFAULTS = [[0.0], ['na'], [0.0], [0.0], [0.0], [0.0], [0.0], ['na']]\n",
    "UNWANTED_COLS = ['pickup_datetime', 'key']\n",
    "\n",
    "\n",
    "def features_and_labels(row_data):\n",
    "    label = row_data.pop(LABEL_COLUMN)\n",
    "    features = row_data\n",
    "        \n",
    "    for unwanted_col in UNWANTED_COLS:\n",
    "        features.pop(unwanted_col)\n",
    "\n",
    "    return features, label\n",
    "\n",
    "\n",
    "def create_dataset(pattern, batch_size=1, mode='eval'):\n",
    "    dataset = tf.data.experimental.make_csv_dataset(\n",
    "        pattern, batch_size, CSV_COLUMNS, DEFAULTS)\n",
    "\n",
    "    dataset = dataset.map(features_and_labels)\n",
    "    \n",
    "    if mode == 'train':\n",
    "        dataset = dataset.shuffle(buffer_size=1000).repeat()\n",
    "\n",
    "    # take advantage of multi-threading; 1=AUTOTUNE\n",
    "    dataset = dataset.prefetch(1)\n",
    "    return dataset"
   ]
  },
  {
   "cell_type": "markdown",
   "metadata": {},
   "source": [
    "## Feature columns for Wide and Deep model\n",
    "\n",
    "For the Wide columns, we will create feature columns of crossed features. To do this, we'll create a collection of Tensorflow feature columns to pass to the `tf.feature_column.crossed_column` constructor. The Deep columns will consist of numeric columns and the embedding columns we want to create. "
   ]
  },
  {
   "cell_type": "markdown",
   "metadata": {},
   "source": [
    "**Lab Task #1:** In the cell below, create feature columns for our wide-and-deep model. You'll need to build \n",
    "1. bucketized columns using [tf.feature_column.bucketized_column](https://www.tensorflow.org/api_docs/python/tf/feature_column/bucketized_column) for the pickup and dropoff latitude and longitude,\n",
    "2. crossed columns using [tf.feature_column.crossed_column](https://www.tensorflow.org/api_docs/python/tf/feature_column/crossed_column) for those bucketized columns, and \n",
    "3. embedding columns using [tf.feature_column.embedding_column](https://www.tensorflow.org/api_docs/python/tf/feature_column/embedding_column) for the crossed columns."
   ]
  },
  {
   "cell_type": "code",
   "execution_count": 11,
   "metadata": {},
   "outputs": [],
   "source": [
    "# TODO 1\n",
    "\n",
    "# 1. Bucketize latitudes and longitudes\n",
    "NBUCKETS = 16\n",
    "latbuckets = np.linspace(start=38.0, stop=42.0, num=NBUCKETS).tolist()\n",
    "lonbuckets = np.linspace(start=-76.0, stop=-72.0, num=NBUCKETS).tolist()\n",
    "\n",
    "# TODO: Your code goes here.\n",
    "fc_bucketized_plat = fc.bucketized_column(\n",
    "    source_column=fc.numeric_column(\"pickup_longitude\"), boundaries=lonbuckets)\n",
    "fc_bucketized_plon = fc.bucketized_column(\n",
    "    source_column=fc.numeric_column(\"pickup_latitude\"), boundaries=latbuckets)\n",
    "fc_bucketized_dlat = fc.bucketized_column(\n",
    "    source_column=fc.numeric_column(\"dropoff_longitude\"), boundaries=lonbuckets)\n",
    "fc_bucketized_dlon = fc.bucketized_column(\n",
    "    source_column=fc.numeric_column(\"dropoff_latitude\"), boundaries=latbuckets)\n",
    "\n",
    "# 2. Cross features for locations\n",
    "# TODO: Your code goes here.\n",
    "fc_crossed_dloc = fc.crossed_column(\n",
    "    [fc_bucketized_dlat, fc_bucketized_dlon],\n",
    "    hash_bucket_size=NBUCKETS * NBUCKETS)\n",
    "fc_crossed_ploc = fc.crossed_column(\n",
    "    [fc_bucketized_plat, fc_bucketized_plon],\n",
    "    hash_bucket_size=NBUCKETS * NBUCKETS)\n",
    "fc_crossed_pd_pair = fc.crossed_column(\n",
    "    [fc_crossed_dloc, fc_crossed_ploc],\n",
    "    hash_bucket_size=NBUCKETS**4)\n",
    "\n",
    "# 3. Create embedding columns for the crossed columns\n",
    "# TODO: Your code goes here.\n",
    "fc_pd_pair = fc.embedding_column(categorical_column=fc_crossed_pd_pair, dimension=3)\n",
    "fc_dloc = fc.embedding_column(categorical_column=fc_crossed_dloc, dimension=3)\n",
    "fc_ploc = fc.embedding_column(categorical_column=fc_crossed_ploc, dimension=3)"
   ]
  },
  {
   "cell_type": "markdown",
   "metadata": {},
   "source": [
    "### Gather list of feature columns\n",
    "\n",
    "Next we gather the list of wide and deep feature columns we'll pass to our Wide & Deep model in Tensorflow. Recall, wide columns are sparse, have linear relationship with the output while continuous columns are deep, have a complex relationship with the output. We will use our previously bucketized columns to collect crossed feature columns and sparse feature columns for our wide columns, and embedding feature columns and numeric features columns for the deep columns."
   ]
  },
  {
   "cell_type": "markdown",
   "metadata": {},
   "source": [
    "**Lab Task #2:** Collect the wide and deep columns into two separate lists. You'll have two lists: One called `wide_columns` containing the one-hot encoded features from the crossed features and one called `deep_columns` which contains numeric and embedding feature columns."
   ]
  },
  {
   "cell_type": "code",
   "execution_count": 12,
   "metadata": {},
   "outputs": [],
   "source": [
    "# TODO 2\n",
    "wide_columns = [\n",
    "    # One-hot encoded feature crosses\n",
    "    # TODO: Your code goes here.\n",
    "    fc.indicator_column(fc_crossed_dloc),\n",
    "    fc.indicator_column(fc_crossed_ploc),\n",
    "    fc.indicator_column(fc_crossed_pd_pair)\n",
    "]\n",
    "\n",
    "deep_columns = [\n",
    "    # Embedding_column to \"group\" together ...\n",
    "    # TODO: Your code goes here.\n",
    "    fc.embedding_column(fc_crossed_pd_pair, dimension=10),\n",
    "    # Numeric columns\n",
    "    # TODO: Your code goes here.\n",
    "    fc.numeric_column(\"pickup_latitude\"),\n",
    "    fc.numeric_column(\"pickup_longitude\"),\n",
    "    fc.numeric_column(\"dropoff_longitude\"),\n",
    "    fc.numeric_column(\"dropoff_latitude\")\n",
    "]"
   ]
  },
  {
   "cell_type": "markdown",
   "metadata": {},
   "source": [
    "## Build a Wide and Deep model in Keras\n",
    "\n",
    "To build a wide-and-deep network, we connect the sparse (i.e. wide) features directly to the output node, but pass the dense (i.e. deep) features through a set of fully connected layers. Here’s that model architecture looks using the Functional API.\n",
    "\n",
    "First, we'll create our input columns using [tf.keras.layers.Input](https://www.tensorflow.org/versions/r2.0/api_docs/python/tf/keras/Input)."
   ]
  },
  {
   "cell_type": "code",
   "execution_count": 13,
   "metadata": {},
   "outputs": [],
   "source": [
    "INPUT_COLS = [\n",
    "    'pickup_longitude',\n",
    "    'pickup_latitude',\n",
    "    'dropoff_longitude',\n",
    "    'dropoff_latitude',\n",
    "    'passenger_count'\n",
    "]\n",
    "\n",
    "inputs = {colname : Input(name=colname, shape=(), dtype='float32')\n",
    "          for colname in INPUT_COLS\n",
    "}"
   ]
  },
  {
   "cell_type": "markdown",
   "metadata": {},
   "source": [
    "Then, we'll define our custom RMSE evaluation metric and build our wide and deep model."
   ]
  },
  {
   "cell_type": "markdown",
   "metadata": {},
   "source": [
    "**Lab Task #3:** Complete the code in the function `build_model` below so that it returns a compiled Keras model. The argument `dnn_hidden_units` should represent the number of units in each layer of your network. Use the Functional API to build a wide-and-deep model. Use the `deep_columns` you created above to build the deep layers and the `wide_columns` to create the wide layers. Once you have the wide and deep components, you will combine them to feed to a final fully connected layer. "
   ]
  },
  {
   "cell_type": "code",
   "execution_count": 14,
   "metadata": {},
   "outputs": [],
   "source": [
    "def rmse(y_true, y_pred):\n",
    "    return tf.sqrt(tf.reduce_mean(tf.square(y_pred - y_true)))\n",
    "\n",
    "# TODO 3\n",
    "def build_model(dnn_hidden_units):\n",
    "    # Create the deep part of model\n",
    "    # TODO: Your code goes here.\n",
    "    deep = DenseFeatures(deep_columns, name='deep_inputs')(inputs)\n",
    "    for num_nodes in dnn_hidden_units:\n",
    "        deep = Dense(num_nodes, activation='relu')(deep) \n",
    "    \n",
    "    # Create the wide part of model\n",
    "    # TODO: Your code goes here.\n",
    "    wide = DenseFeatures(wide_columns, name='wide_inputs')(inputs)\n",
    "    \n",
    "    # Combine deep and wide parts of the model\n",
    "    # TODO: Your code goes here.\n",
    "    combined = concatenate(inputs=[deep, wide], name='combined')\n",
    "    \n",
    "    # Map the combined outputs into a single prediction value\n",
    "    # TODO: Your code goes here.\n",
    "    output = Dense(units=1, activation=None, name='prediction')(combined)\n",
    "    \n",
    "    # Finalize the model\n",
    "    # TODO: Your code goes here.\n",
    "    model = Model(inputs=list(inputs.values()), outputs=output)\n",
    "\n",
    "    # Compile the keras model\n",
    "    # TODO: Your code goes here.\n",
    "    model.compile(optimizer=\"adam\", loss=\"mse\", metrics=[rmse, \"mse\"])\n",
    "    \n",
    "    return model"
   ]
  },
  {
   "cell_type": "markdown",
   "metadata": {},
   "source": [
    "Next, we can call the `build_model` to create the model. Here we'll have two hidden layers, each with 10 neurons, for the deep part of our model. We can also use `plot_model` to see a diagram of the model we've created."
   ]
  },
  {
   "cell_type": "code",
   "execution_count": 16,
   "metadata": {},
   "outputs": [
    {
     "data": {
      "image/png": "[encoded data removed]",
      "text/plain": [
       "<IPython.core.display.Image object>"
      ]
     },
     "execution_count": 16,
     "metadata": {},
     "output_type": "execute_result"
    }
   ],
   "source": [
    "HIDDEN_UNITS = [10,10]\n",
    "\n",
    "model = build_model(dnn_hidden_units=HIDDEN_UNITS)\n",
    "\n",
    "tf.keras.utils.plot_model(model, show_shapes=False, rankdir='LR')"
   ]
  },
  {
   "cell_type": "markdown",
   "metadata": {},
   "source": [
    "Next, we'll set up our training variables, create our datasets for training and validation, and train our model.\n",
    "\n",
    "(We refer you the the blog post [ML Design Pattern #3: Virtual Epochs](https://medium.com/google-cloud/ml-design-pattern-3-virtual-epochs-f842296de730) for further details on why express the training in terms of `NUM_TRAIN_EXAMPLES` and `NUM_EVALS` and why, in this training code, the number of epochs is really equal to the number of evaluations we perform.)"
   ]
  },
  {
   "cell_type": "code",
   "execution_count": 17,
   "metadata": {},
   "outputs": [],
   "source": [
    "BATCH_SIZE = 1000\n",
    "NUM_TRAIN_EXAMPLES = 10000 * 5  # training dataset will repeat, wrap around\n",
    "NUM_EVALS = 50  # how many times to evaluate\n",
    "NUM_EVAL_EXAMPLES = 10000  # enough to get a reasonable sample\n",
    "\n",
    "trainds = create_dataset(\n",
    "    pattern='../data/taxi-train*',\n",
    "    batch_size=BATCH_SIZE,\n",
    "    mode='train')\n",
    "\n",
    "evalds = create_dataset(\n",
    "    pattern='../data/taxi-valid*',\n",
    "    batch_size=BATCH_SIZE,\n",
    "    mode='eval').take(NUM_EVAL_EXAMPLES//1000)"
   ]
  },
  {
   "cell_type": "code",
   "execution_count": 18,
   "metadata": {},
   "outputs": [
    {
     "name": "stderr",
     "output_type": "stream",
     "text": [
      "2021-09-28 19:52:04.164341: I tensorflow/core/profiler/lib/profiler_session.cc:164] Profiler session started.\n"
     ]
    },
    {
     "name": "stdout",
     "output_type": "stream",
     "text": [
      "Epoch 1/50\n"
     ]
    },
    {
     "name": "stderr",
     "output_type": "stream",
     "text": [
      "2021-09-28 19:52:15.367633: I tensorflow/core/kernels/data/shuffle_dataset_op.cc:172] Filling up shuffle buffer (this may take a while): 834 of 1000\n",
      "2021-09-28 19:52:17.373770: I tensorflow/core/kernels/data/shuffle_dataset_op.cc:221] Shuffle buffer filled.\n"
     ]
    },
    {
     "name": "stdout",
     "output_type": "stream",
     "text": [
      "1/1 [==============================] - 2s 2s/step - loss: 215.0378 - rmse: 14.6642 - mse: 215.0378 - val_loss: 235.6503 - val_rmse: 15.3477 - val_mse: 235.6503\n",
      "Epoch 2/50\n",
      "WARNING:tensorflow:From /opt/conda/lib/python3.7/site-packages/tensorflow/python/ops/summary_ops_v2.py:1277: stop (from tensorflow.python.eager.profiler) is deprecated and will be removed after 2020-07-01.\n",
      "Instructions for updating:\n",
      "use `tf.profiler.experimental.stop` instead.\n"
     ]
    },
    {
     "name": "stderr",
     "output_type": "stream",
     "text": [
      "2021-09-28 19:52:19.570307: I tensorflow/core/profiler/lib/profiler_session.cc:164] Profiler session started.\n"
     ]
    },
    {
     "name": "stdout",
     "output_type": "stream",
     "text": [
      "1/1 [==============================] - ETA: 0s - loss: 204.0266 - rmse: 14.2838 - mse: 204.0266"
     ]
    },
    {
     "name": "stderr",
     "output_type": "stream",
     "text": [
      "2021-09-28 19:52:19.812970: I tensorflow/core/profiler/rpc/client/save_profile.cc:176] Creating directory: ./taxi_trained/train/plugins/profile/2021_09_28_19_52_19\n",
      "2021-09-28 19:52:19.825697: I tensorflow/core/profiler/rpc/client/save_profile.cc:182] Dumped gzipped tool data for trace.json.gz to ./taxi_trained/train/plugins/profile/2021_09_28_19_52_19/tensorflow-2-6-20210928-132956.trace.json.gz\n",
      "2021-09-28 19:52:19.843916: I tensorflow/core/profiler/rpc/client/save_profile.cc:176] Creating directory: ./taxi_trained/train/plugins/profile/2021_09_28_19_52_19\n",
      "2021-09-28 19:52:19.844063: I tensorflow/core/profiler/rpc/client/save_profile.cc:182] Dumped gzipped tool data for memory_profile.json.gz to ./taxi_trained/train/plugins/profile/2021_09_28_19_52_19/tensorflow-2-6-20210928-132956.memory_profile.json.gz\n",
      "2021-09-28 19:52:19.844581: I tensorflow/python/profiler/internal/profiler_wrapper.cc:111] Creating directory: ./taxi_trained/train/plugins/profile/2021_09_28_19_52_19Dumped tool data for xplane.pb to ./taxi_trained/train/plugins/profile/2021_09_28_19_52_19/tensorflow-2-6-20210928-132956.xplane.pb\n",
      "Dumped tool data for overview_page.pb to ./taxi_trained/train/plugins/profile/2021_09_28_19_52_19/tensorflow-2-6-20210928-132956.overview_page.pb\n",
      "Dumped tool data for input_pipeline.pb to ./taxi_trained/train/plugins/profile/2021_09_28_19_52_19/tensorflow-2-6-20210928-132956.input_pipeline.pb\n",
      "Dumped tool data for tensorflow_stats.pb to ./taxi_trained/train/plugins/profile/2021_09_28_19_52_19/tensorflow-2-6-20210928-132956.tensorflow_stats.pb\n",
      "Dumped tool data for kernel_stats.pb to ./taxi_trained/train/plugins/profile/2021_09_28_19_52_19/tensorflow-2-6-20210928-132956.kernel_stats.pb\n",
      "\n"
     ]
    },
    {
     "name": "stdout",
     "output_type": "stream",
     "text": [
      "1/1 [==============================] - 1s 1s/step - loss: 204.0266 - rmse: 14.2838 - mse: 204.0266 - val_loss: 231.2651 - val_rmse: 15.1949 - val_mse: 231.2651\n",
      "Epoch 3/50\n",
      "1/1 [==============================] - 1s 1s/step - loss: 203.1002 - rmse: 14.2513 - mse: 203.1002 - val_loss: 223.5753 - val_rmse: 14.9466 - val_mse: 223.5753\n",
      "Epoch 4/50\n",
      "1/1 [==============================] - 1s 1s/step - loss: 188.3893 - rmse: 13.7255 - mse: 188.3893 - val_loss: 219.1690 - val_rmse: 14.7944 - val_mse: 219.1690\n",
      "Epoch 5/50\n",
      "1/1 [==============================] - 1s 1s/step - loss: 192.8592 - rmse: 13.8874 - mse: 192.8592 - val_loss: 215.5578 - val_rmse: 14.6765 - val_mse: 215.5578\n",
      "Epoch 6/50\n",
      "1/1 [==============================] - 1s 1s/step - loss: 177.9420 - rmse: 13.3395 - mse: 177.9420 - val_loss: 211.2018 - val_rmse: 14.5256 - val_mse: 211.2018\n",
      "Epoch 7/50\n",
      "1/1 [==============================] - 1s 1s/step - loss: 184.6880 - rmse: 13.5900 - mse: 184.6880 - val_loss: 208.5397 - val_rmse: 14.4299 - val_mse: 208.5397\n",
      "Epoch 8/50\n",
      "1/1 [==============================] - 1s 1s/step - loss: 173.7259 - rmse: 13.1805 - mse: 173.7259 - val_loss: 204.8696 - val_rmse: 14.3056 - val_mse: 204.8696\n",
      "Epoch 9/50\n",
      "1/1 [==============================] - 1s 1s/step - loss: 163.2215 - rmse: 12.7758 - mse: 163.2215 - val_loss: 198.0886 - val_rmse: 14.0605 - val_mse: 198.0886\n",
      "Epoch 10/50\n",
      "1/1 [==============================] - 1s 1s/step - loss: 164.1544 - rmse: 12.8123 - mse: 164.1544 - val_loss: 193.1694 - val_rmse: 13.8851 - val_mse: 193.1694\n",
      "Epoch 11/50\n",
      "1/1 [==============================] - 1s 1s/step - loss: 155.6899 - rmse: 12.4776 - mse: 155.6899 - val_loss: 190.5565 - val_rmse: 13.7878 - val_mse: 190.5565\n",
      "Epoch 12/50\n",
      "1/1 [==============================] - 1s 1s/step - loss: 193.1006 - rmse: 13.8961 - mse: 193.1006 - val_loss: 186.4011 - val_rmse: 13.6459 - val_mse: 186.4011\n",
      "Epoch 13/50\n",
      "1/1 [==============================] - 1s 1s/step - loss: 166.4569 - rmse: 12.9018 - mse: 166.4569 - val_loss: 182.6605 - val_rmse: 13.5103 - val_mse: 182.6605\n",
      "Epoch 14/50\n",
      "1/1 [==============================] - 1s 1s/step - loss: 171.4266 - rmse: 13.0930 - mse: 171.4266 - val_loss: 177.2414 - val_rmse: 13.3056 - val_mse: 177.2414\n",
      "Epoch 15/50\n",
      "1/1 [==============================] - 1s 1s/step - loss: 168.6397 - rmse: 12.9861 - mse: 168.6397 - val_loss: 174.8523 - val_rmse: 13.2133 - val_mse: 174.8523\n",
      "Epoch 16/50\n",
      "1/1 [==============================] - 1s 1s/step - loss: 151.1896 - rmse: 12.2959 - mse: 151.1896 - val_loss: 168.6414 - val_rmse: 12.9753 - val_mse: 168.6414\n",
      "Epoch 17/50\n",
      "1/1 [==============================] - 1s 1s/step - loss: 152.6986 - rmse: 12.3571 - mse: 152.6986 - val_loss: 167.6186 - val_rmse: 12.9405 - val_mse: 167.6186\n",
      "Epoch 18/50\n",
      "1/1 [==============================] - 1s 1s/step - loss: 143.9031 - rmse: 11.9960 - mse: 143.9031 - val_loss: 164.2132 - val_rmse: 12.8094 - val_mse: 164.2132\n",
      "Epoch 19/50\n",
      "1/1 [==============================] - 1s 1s/step - loss: 114.7512 - rmse: 10.7122 - mse: 114.7512 - val_loss: 161.2430 - val_rmse: 12.6865 - val_mse: 161.2430\n",
      "Epoch 20/50\n",
      "1/1 [==============================] - 1s 1s/step - loss: 122.6938 - rmse: 11.0767 - mse: 122.6938 - val_loss: 155.0596 - val_rmse: 12.4440 - val_mse: 155.0596\n",
      "Epoch 21/50\n",
      "1/1 [==============================] - 1s 1s/step - loss: 138.9518 - rmse: 11.7878 - mse: 138.9518 - val_loss: 151.7760 - val_rmse: 12.3107 - val_mse: 151.7760\n",
      "Epoch 22/50\n",
      "1/1 [==============================] - 1s 1s/step - loss: 121.2947 - rmse: 11.0134 - mse: 121.2947 - val_loss: 147.1466 - val_rmse: 12.1220 - val_mse: 147.1466\n",
      "Epoch 23/50\n",
      "1/1 [==============================] - 1s 1s/step - loss: 138.6461 - rmse: 11.7748 - mse: 138.6461 - val_loss: 145.6066 - val_rmse: 12.0553 - val_mse: 145.6066\n",
      "Epoch 24/50\n",
      "1/1 [==============================] - 1s 1s/step - loss: 84.7860 - rmse: 9.2079 - mse: 84.7860 - val_loss: 142.4941 - val_rmse: 11.9178 - val_mse: 142.4941\n",
      "Epoch 25/50\n",
      "1/1 [==============================] - 1s 1s/step - loss: 119.7762 - rmse: 10.9442 - mse: 119.7762 - val_loss: 139.3648 - val_rmse: 11.7919 - val_mse: 139.3648\n",
      "Epoch 26/50\n",
      "1/1 [==============================] - 1s 1s/step - loss: 104.9599 - rmse: 10.2450 - mse: 104.9599 - val_loss: 138.3114 - val_rmse: 11.7511 - val_mse: 138.3114\n",
      "Epoch 27/50\n",
      "1/1 [==============================] - 1s 1s/step - loss: 95.0120 - rmse: 9.7474 - mse: 95.0120 - val_loss: 135.5607 - val_rmse: 11.6141 - val_mse: 135.5607\n",
      "Epoch 28/50\n",
      "1/1 [==============================] - 2s 2s/step - loss: 118.6537 - rmse: 10.8928 - mse: 118.6537 - val_loss: 131.5988 - val_rmse: 11.4516 - val_mse: 131.5988\n",
      "Epoch 29/50\n",
      "1/1 [==============================] - 2s 2s/step - loss: 105.5005 - rmse: 10.2713 - mse: 105.5005 - val_loss: 129.8794 - val_rmse: 11.3915 - val_mse: 129.8794\n",
      "Epoch 30/50\n",
      "1/1 [==============================] - 1s 1s/step - loss: 91.9369 - rmse: 9.5884 - mse: 91.9369 - val_loss: 127.9726 - val_rmse: 11.3022 - val_mse: 127.9726\n",
      "Epoch 31/50\n",
      "1/1 [==============================] - 1s 1s/step - loss: 134.9309 - rmse: 11.6160 - mse: 134.9309 - val_loss: 123.5160 - val_rmse: 11.0925 - val_mse: 123.5160\n",
      "Epoch 32/50\n",
      "1/1 [==============================] - 1s 1s/step - loss: 95.3156 - rmse: 9.7630 - mse: 95.3156 - val_loss: 122.4734 - val_rmse: 11.0594 - val_mse: 122.4734\n",
      "Epoch 33/50\n",
      "1/1 [==============================] - 1s 1s/step - loss: 101.9100 - rmse: 10.0950 - mse: 101.9100 - val_loss: 119.6886 - val_rmse: 10.9268 - val_mse: 119.6886\n",
      "Epoch 34/50\n",
      "1/1 [==============================] - 1s 1s/step - loss: 90.2117 - rmse: 9.4980 - mse: 90.2117 - val_loss: 119.0738 - val_rmse: 10.8910 - val_mse: 119.0738\n",
      "Epoch 35/50\n",
      "1/1 [==============================] - 1s 1s/step - loss: 105.3145 - rmse: 10.2623 - mse: 105.3145 - val_loss: 119.8834 - val_rmse: 10.9065 - val_mse: 119.8834\n",
      "Epoch 36/50\n",
      "1/1 [==============================] - 1s 1s/step - loss: 106.6261 - rmse: 10.3260 - mse: 106.6261 - val_loss: 116.5596 - val_rmse: 10.7932 - val_mse: 116.5596\n",
      "Epoch 37/50\n",
      "1/1 [==============================] - 1s 1s/step - loss: 113.2571 - rmse: 10.6422 - mse: 113.2571 - val_loss: 116.6377 - val_rmse: 10.7755 - val_mse: 116.6377\n",
      "Epoch 38/50\n",
      "1/1 [==============================] - 1s 1s/step - loss: 120.2456 - rmse: 10.9657 - mse: 120.2456 - val_loss: 112.8450 - val_rmse: 10.6122 - val_mse: 112.8450\n",
      "Epoch 39/50\n",
      "1/1 [==============================] - 1s 1s/step - loss: 120.3489 - rmse: 10.9704 - mse: 120.3489 - val_loss: 113.8919 - val_rmse: 10.6454 - val_mse: 113.8919\n",
      "Epoch 40/50\n",
      "1/1 [==============================] - 1s 1s/step - loss: 104.7603 - rmse: 10.2352 - mse: 104.7603 - val_loss: 111.7880 - val_rmse: 10.5678 - val_mse: 111.7880\n",
      "Epoch 41/50\n",
      "1/1 [==============================] - 1s 1s/step - loss: 100.7509 - rmse: 10.0375 - mse: 100.7509 - val_loss: 113.0787 - val_rmse: 10.6139 - val_mse: 113.0787\n",
      "Epoch 42/50\n",
      "1/1 [==============================] - 1s 1s/step - loss: 82.9921 - rmse: 9.1100 - mse: 82.9921 - val_loss: 113.8366 - val_rmse: 10.6574 - val_mse: 113.8366\n",
      "Epoch 43/50\n",
      "1/1 [==============================] - 1s 1s/step - loss: 101.4834 - rmse: 10.0739 - mse: 101.4834 - val_loss: 112.4225 - val_rmse: 10.5961 - val_mse: 112.4225\n",
      "Epoch 44/50\n",
      "1/1 [==============================] - 1s 1s/step - loss: 92.2443 - rmse: 9.6044 - mse: 92.2443 - val_loss: 111.1288 - val_rmse: 10.5386 - val_mse: 111.1288\n",
      "Epoch 45/50\n",
      "1/1 [==============================] - 1s 1s/step - loss: 93.3956 - rmse: 9.6641 - mse: 93.3956 - val_loss: 110.5447 - val_rmse: 10.5054 - val_mse: 110.5447\n",
      "Epoch 46/50\n",
      "1/1 [==============================] - 1s 1s/step - loss: 104.5583 - rmse: 10.2254 - mse: 104.5583 - val_loss: 112.0555 - val_rmse: 10.5776 - val_mse: 112.0555\n",
      "Epoch 47/50\n",
      "1/1 [==============================] - 1s 1s/step - loss: 86.1361 - rmse: 9.2810 - mse: 86.1361 - val_loss: 109.5667 - val_rmse: 10.4490 - val_mse: 109.5667\n",
      "Epoch 48/50\n",
      "1/1 [==============================] - 1s 1s/step - loss: 100.5357 - rmse: 10.0267 - mse: 100.5357 - val_loss: 109.6622 - val_rmse: 10.4588 - val_mse: 109.6622\n",
      "Epoch 49/50\n",
      "1/1 [==============================] - 1s 1s/step - loss: 72.2539 - rmse: 8.5002 - mse: 72.2539 - val_loss: 110.1376 - val_rmse: 10.4768 - val_mse: 110.1376\n",
      "Epoch 50/50\n",
      "1/1 [==============================] - 1s 1s/step - loss: 114.2982 - rmse: 10.6910 - mse: 114.2982 - val_loss: 112.0702 - val_rmse: 10.5812 - val_mse: 112.0702\n",
      "CPU times: user 2min 54s, sys: 2min 10s, total: 5min 4s\n",
      "Wall time: 1min 35s\n"
     ]
    }
   ],
   "source": [
    "%%time\n",
    "steps_per_epoch = NUM_TRAIN_EXAMPLES // (BATCH_SIZE * NUM_EVALS)\n",
    "\n",
    "OUTDIR = \"./taxi_trained\"\n",
    "shutil.rmtree(path=OUTDIR, ignore_errors=True) # start fresh each time\n",
    "\n",
    "history = model.fit(x=trainds,\n",
    "                    steps_per_epoch=steps_per_epoch,\n",
    "                    epochs=NUM_EVALS,\n",
    "                    validation_data=evalds,\n",
    "                    callbacks=[TensorBoard(OUTDIR)])"
   ]
  },
  {
   "cell_type": "markdown",
   "metadata": {},
   "source": [
    "Just as before, we can examine the history to see how the RMSE changes through training on the train set and validation set. "
   ]
  },
  {
   "cell_type": "code",
   "execution_count": 19,
   "metadata": {},
   "outputs": [
    {
     "data": {
      "text/plain": [
       "<AxesSubplot:>"
      ]
     },
     "execution_count": 19,
     "metadata": {},
     "output_type": "execute_result"
    },
    {
     "data": {
      "image/png": "[encoded data removed]",
      "text/plain": [
       "<Figure size 432x288 with 1 Axes>"
      ]
     },
     "metadata": {
      "needs_background": "light"
     },
     "output_type": "display_data"
    }
   ],
   "source": [
    "RMSE_COLS = ['rmse', 'val_rmse']\n",
    "\n",
    "pd.DataFrame(history.history)[RMSE_COLS].plot()"
   ]
  },
  {
   "cell_type": "markdown",
   "metadata": {},
   "source": [
    "Copyright 2021 Google Inc. Licensed under the Apache License, Version 2.0 (the \"License\"); you may not use this file except in compliance with the License. You may obtain a copy of the License at http://www.apache.org/licenses/LICENSE-2.0 Unless required by applicable law or agreed to in writing, software distributed under the License is distributed on an \"AS IS\" BASIS, WITHOUT WARRANTIES OR CONDITIONS OF ANY KIND, either express or implied. See the License for the specific language governing permissions and limitations under the License"
   ]
  }
 ],
 "metadata": {
  "environment": {
   "name": "tf2-gpu.2-6.m80",
   "type": "gcloud",
   "uri": "gcr.io/deeplearning-platform-release/tf2-gpu.2-6:m80"
  },
  "kernelspec": {
   "display_name": "Python 3",
   "language": "python",
   "name": "python3"
  },
  "language_info": {
   "codemirror_mode": {
    "name": "ipython",
    "version": 3
   },
   "file_extension": ".py",
   "mimetype": "text/x-python",
   "name": "python",
   "nbconvert_exporter": "python",
   "pygments_lexer": "ipython3",
   "version": "3.7.10"
  }
 },
 "nbformat": 4,
 "nbformat_minor": 4
}

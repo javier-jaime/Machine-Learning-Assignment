{
 "cells": [
  {
   "cell_type": "markdown",
   "metadata": {},
   "source": [
    "# Introducing the Keras Functional API\n",
    "\n",
    "**Learning Objectives**\n",
    "  1. Understand embeddings and how to create them with the feature column API\n",
    "  1. Understand Deep and Wide models and when to use them\n",
    "  1. Understand the Keras functional API and how to build a deep and wide model with it\n",
    "\n",
    "## Introduction\n",
    "\n",
    "In the last notebook, we learned about the Keras Sequential API. The [Keras Functional API](https://www.tensorflow.org/guide/keras#functional_api) provides an alternate way of building models which is more flexible. With the Functional API, we can build models with more complex topologies, multiple input or output layers, shared layers or non-sequential data flows (e.g. residual layers).\n",
    "\n",
    "In this notebook we'll use what we learned about feature columns to build a Wide & Deep model. Recall, that the idea behind Wide & Deep models is to join the two methods of learning through memorization and generalization by making a wide linear model and a deep learning model to accommodate both. You can have a look at the original research paper here: [Wide & Deep Learning for Recommender Systems](https://arxiv.org/abs/1606.07792).\n",
    "\n",
    "<img src='assets/wide_deep.png' width='80%'>\n",
    "<sup>(image: https://ai.googleblog.com/2016/06/wide-deep-learning-better-together-with.html)</sup>\n",
    "\n",
    "The Wide part of the model is associated with the memory element. In this case, we train a linear model with a wide set of crossed features and learn the correlation of this related data with the assigned label. The Deep part of the model is associated with the generalization element where we use embedding vectors for features. The best embeddings are then learned through the training process. While both of these methods can work well alone, Wide & Deep models excel by combining these techniques together.\n",
    "\n",
    "Each learning objective will correspond to a __#TODO__  in this student lab notebook -- try to complete this notebook first and then review the [solution notebook](https://github.com/GoogleCloudPlatform/training-data-analyst/blob/master/courses/machine_learning/deepdive2/introduction_to_tensorflow/solutions/4_keras_functional_api.ipynb)\n"
   ]
  },
  {
   "cell_type": "code",
   "execution_count": 1,
   "metadata": {},
   "outputs": [],
   "source": [
    "# Use the chown command to change the ownership of the repository.\n",
    "!sudo chown -R jupyter:jupyter /home/jupyter/training-data-analyst"
   ]
  },
  {
   "cell_type": "code",
   "execution_count": 2,
   "metadata": {},
   "outputs": [
    {
     "name": "stdout",
     "output_type": "stream",
     "text": [
      "Collecting tensorflow==2.3.0\n",
      "  Downloading tensorflow-2.3.0-cp37-cp37m-manylinux2010_x86_64.whl (320.4 MB)\n",
      "\u001b[K     |████████████████████████████████| 320.4 MB 33 kB/s s eta 0:00:01\n",
      "\u001b[?25hRequirement already satisfied: wrapt>=1.11.1 in /opt/conda/lib/python3.7/site-packages (from tensorflow==2.3.0) (1.12.1)\n",
      "Requirement already satisfied: astunparse==1.6.3 in /opt/conda/lib/python3.7/site-packages (from tensorflow==2.3.0) (1.6.3)\n",
      "Collecting h5py<2.11.0,>=2.10.0\n",
      "  Downloading h5py-2.10.0-cp37-cp37m-manylinux1_x86_64.whl (2.9 MB)\n",
      "\u001b[K     |████████████████████████████████| 2.9 MB 61.4 MB/s eta 0:00:01\n",
      "\u001b[?25hRequirement already satisfied: google-pasta>=0.1.8 in /opt/conda/lib/python3.7/site-packages (from tensorflow==2.3.0) (0.2.0)\n",
      "Collecting scipy==1.4.1\n",
      "  Downloading scipy-1.4.1-cp37-cp37m-manylinux1_x86_64.whl (26.1 MB)\n",
      "\u001b[K     |████████████████████████████████| 26.1 MB 56.6 MB/s eta 0:00:01\n",
      "\u001b[?25hRequirement already satisfied: absl-py>=0.7.0 in /opt/conda/lib/python3.7/site-packages (from tensorflow==2.3.0) (0.14.0)\n",
      "Collecting gast==0.3.3\n",
      "  Downloading gast-0.3.3-py2.py3-none-any.whl (9.7 kB)\n",
      "Requirement already satisfied: keras-preprocessing<1.2,>=1.1.1 in /opt/conda/lib/python3.7/site-packages (from tensorflow==2.3.0) (1.1.2)\n",
      "Collecting numpy<1.19.0,>=1.16.0\n",
      "  Downloading numpy-1.18.5-cp37-cp37m-manylinux1_x86_64.whl (20.1 MB)\n",
      "\u001b[K     |████████████████████████████████| 20.1 MB 48.8 MB/s eta 0:00:01\n",
      "\u001b[?25hRequirement already satisfied: tensorboard<3,>=2.3.0 in /opt/conda/lib/python3.7/site-packages (from tensorflow==2.3.0) (2.5.0)\n",
      "Requirement already satisfied: wheel>=0.26 in /opt/conda/lib/python3.7/site-packages (from tensorflow==2.3.0) (0.37.0)\n",
      "Collecting tensorflow-estimator<2.4.0,>=2.3.0\n",
      "  Downloading tensorflow_estimator-2.3.0-py2.py3-none-any.whl (459 kB)\n",
      "\u001b[K     |████████████████████████████████| 459 kB 59.8 MB/s eta 0:00:01\n",
      "\u001b[?25hRequirement already satisfied: termcolor>=1.1.0 in /opt/conda/lib/python3.7/site-packages (from tensorflow==2.3.0) (1.1.0)\n",
      "Requirement already satisfied: six>=1.12.0 in /opt/conda/lib/python3.7/site-packages (from tensorflow==2.3.0) (1.16.0)\n",
      "Requirement already satisfied: protobuf>=3.9.2 in /opt/conda/lib/python3.7/site-packages (from tensorflow==2.3.0) (3.18.0)\n",
      "Requirement already satisfied: opt-einsum>=2.3.2 in /opt/conda/lib/python3.7/site-packages (from tensorflow==2.3.0) (3.3.0)\n",
      "Requirement already satisfied: grpcio>=1.8.6 in /opt/conda/lib/python3.7/site-packages (from tensorflow==2.3.0) (1.38.1)\n",
      "Requirement already satisfied: markdown>=2.6.8 in /opt/conda/lib/python3.7/site-packages (from tensorboard<3,>=2.3.0->tensorflow==2.3.0) (3.3.4)\n",
      "Requirement already satisfied: google-auth-oauthlib<0.5,>=0.4.1 in /opt/conda/lib/python3.7/site-packages (from tensorboard<3,>=2.3.0->tensorflow==2.3.0) (0.4.6)\n",
      "Requirement already satisfied: google-auth<2,>=1.6.3 in /opt/conda/lib/python3.7/site-packages (from tensorboard<3,>=2.3.0->tensorflow==2.3.0) (1.35.0)\n",
      "Requirement already satisfied: tensorboard-data-server<0.7.0,>=0.6.0 in /opt/conda/lib/python3.7/site-packages (from tensorboard<3,>=2.3.0->tensorflow==2.3.0) (0.6.1)\n",
      "Requirement already satisfied: requests<3,>=2.21.0 in /opt/conda/lib/python3.7/site-packages (from tensorboard<3,>=2.3.0->tensorflow==2.3.0) (2.25.1)\n",
      "Requirement already satisfied: werkzeug>=0.11.15 in /opt/conda/lib/python3.7/site-packages (from tensorboard<3,>=2.3.0->tensorflow==2.3.0) (2.0.1)\n",
      "Requirement already satisfied: tensorboard-plugin-wit>=1.6.0 in /opt/conda/lib/python3.7/site-packages (from tensorboard<3,>=2.3.0->tensorflow==2.3.0) (1.8.0)\n",
      "Requirement already satisfied: setuptools>=41.0.0 in /opt/conda/lib/python3.7/site-packages (from tensorboard<3,>=2.3.0->tensorflow==2.3.0) (58.0.4)\n",
      "Requirement already satisfied: cachetools<5.0,>=2.0.0 in /opt/conda/lib/python3.7/site-packages (from google-auth<2,>=1.6.3->tensorboard<3,>=2.3.0->tensorflow==2.3.0) (4.2.2)\n",
      "Requirement already satisfied: pyasn1-modules>=0.2.1 in /opt/conda/lib/python3.7/site-packages (from google-auth<2,>=1.6.3->tensorboard<3,>=2.3.0->tensorflow==2.3.0) (0.2.7)\n",
      "Requirement already satisfied: rsa<5,>=3.1.4 in /opt/conda/lib/python3.7/site-packages (from google-auth<2,>=1.6.3->tensorboard<3,>=2.3.0->tensorflow==2.3.0) (4.7.2)\n",
      "Requirement already satisfied: requests-oauthlib>=0.7.0 in /opt/conda/lib/python3.7/site-packages (from google-auth-oauthlib<0.5,>=0.4.1->tensorboard<3,>=2.3.0->tensorflow==2.3.0) (1.3.0)\n",
      "Requirement already satisfied: importlib-metadata in /opt/conda/lib/python3.7/site-packages (from markdown>=2.6.8->tensorboard<3,>=2.3.0->tensorflow==2.3.0) (4.8.1)\n",
      "Requirement already satisfied: pyasn1<0.5.0,>=0.4.6 in /opt/conda/lib/python3.7/site-packages (from pyasn1-modules>=0.2.1->google-auth<2,>=1.6.3->tensorboard<3,>=2.3.0->tensorflow==2.3.0) (0.4.8)\n",
      "Requirement already satisfied: certifi>=2017.4.17 in /opt/conda/lib/python3.7/site-packages (from requests<3,>=2.21.0->tensorboard<3,>=2.3.0->tensorflow==2.3.0) (2021.5.30)\n",
      "Requirement already satisfied: chardet<5,>=3.0.2 in /opt/conda/lib/python3.7/site-packages (from requests<3,>=2.21.0->tensorboard<3,>=2.3.0->tensorflow==2.3.0) (4.0.0)\n",
      "Requirement already satisfied: urllib3<1.27,>=1.21.1 in /opt/conda/lib/python3.7/site-packages (from requests<3,>=2.21.0->tensorboard<3,>=2.3.0->tensorflow==2.3.0) (1.26.6)\n",
      "Requirement already satisfied: idna<3,>=2.5 in /opt/conda/lib/python3.7/site-packages (from requests<3,>=2.21.0->tensorboard<3,>=2.3.0->tensorflow==2.3.0) (2.10)\n",
      "Requirement already satisfied: oauthlib>=3.0.0 in /opt/conda/lib/python3.7/site-packages (from requests-oauthlib>=0.7.0->google-auth-oauthlib<0.5,>=0.4.1->tensorboard<3,>=2.3.0->tensorflow==2.3.0) (3.1.1)\n",
      "Requirement already satisfied: typing-extensions>=3.6.4 in /opt/conda/lib/python3.7/site-packages (from importlib-metadata->markdown>=2.6.8->tensorboard<3,>=2.3.0->tensorflow==2.3.0) (3.10.0.2)\n",
      "Requirement already satisfied: zipp>=0.5 in /opt/conda/lib/python3.7/site-packages (from importlib-metadata->markdown>=2.6.8->tensorboard<3,>=2.3.0->tensorflow==2.3.0) (3.5.0)\n",
      "Installing collected packages: numpy, tensorflow-estimator, scipy, h5py, gast, tensorflow\n",
      "  Attempting uninstall: numpy\n",
      "    Found existing installation: numpy 1.19.5\n",
      "    Uninstalling numpy-1.19.5:\n",
      "      Successfully uninstalled numpy-1.19.5\n",
      "  Attempting uninstall: tensorflow-estimator\n",
      "    Found existing installation: tensorflow-estimator 2.6.0\n",
      "    Uninstalling tensorflow-estimator-2.6.0:\n",
      "      Successfully uninstalled tensorflow-estimator-2.6.0\n",
      "  Attempting uninstall: scipy\n",
      "    Found existing installation: scipy 1.7.1\n",
      "    Uninstalling scipy-1.7.1:\n",
      "      Successfully uninstalled scipy-1.7.1\n",
      "  Attempting uninstall: h5py\n",
      "    Found existing installation: h5py 3.1.0\n",
      "    Uninstalling h5py-3.1.0:\n",
      "      Successfully uninstalled h5py-3.1.0\n",
      "  Attempting uninstall: gast\n",
      "    Found existing installation: gast 0.4.0\n",
      "    Uninstalling gast-0.4.0:\n",
      "      Successfully uninstalled gast-0.4.0\n",
      "  Attempting uninstall: tensorflow\n",
      "    Found existing installation: tensorflow 2.6.0\n",
      "    Uninstalling tensorflow-2.6.0:\n",
      "      Successfully uninstalled tensorflow-2.6.0\n",
      "\u001b[31mERROR: pip's dependency resolver does not currently take into account all the packages that are installed. This behaviour is the source of the following dependency conflicts.\n",
      "tensorflow-io 0.18.0 requires tensorflow-io-gcs-filesystem==0.18.0, which is not installed.\n",
      "explainable-ai-sdk 1.3.2 requires xai-image-widget, which is not installed.\n",
      "tfx-bsl 1.3.0 requires absl-py<0.13,>=0.9, but you have absl-py 0.14.0 which is incompatible.\n",
      "tfx-bsl 1.3.0 requires google-api-python-client<2,>=1.7.11, but you have google-api-python-client 2.22.0 which is incompatible.\n",
      "tfx-bsl 1.3.0 requires pyarrow<3,>=1, but you have pyarrow 5.0.0 which is incompatible.\n",
      "tfx-bsl 1.3.0 requires tensorflow!=2.0.*,!=2.1.*,!=2.2.*,!=2.3.*,!=2.4.*,!=2.5.*,<3,>=1.15.2, but you have tensorflow 2.3.0 which is incompatible.\n",
      "tensorflow-transform 1.3.0 requires absl-py<0.13,>=0.9, but you have absl-py 0.14.0 which is incompatible.\n",
      "tensorflow-transform 1.3.0 requires pyarrow<3,>=1, but you have pyarrow 5.0.0 which is incompatible.\n",
      "tensorflow-transform 1.3.0 requires tensorflow!=2.0.*,!=2.1.*,!=2.2.*,!=2.3.*,!=2.4.*,!=2.5.*,<2.7,>=1.15.2, but you have tensorflow 2.3.0 which is incompatible.\n",
      "tensorflow-serving-api 2.6.0 requires tensorflow<3,>=2.6.0, but you have tensorflow 2.3.0 which is incompatible.\n",
      "tensorflow-io 0.18.0 requires tensorflow<2.6.0,>=2.5.0, but you have tensorflow 2.3.0 which is incompatible.\n",
      "phik 0.11.2 requires scipy>=1.5.2, but you have scipy 1.4.1 which is incompatible.\n",
      "apache-beam 2.32.0 requires dill<0.3.2,>=0.3.1.1, but you have dill 0.3.4 which is incompatible.\n",
      "apache-beam 2.32.0 requires pyarrow<5.0.0,>=0.15.1, but you have pyarrow 5.0.0 which is incompatible.\n",
      "apache-beam 2.32.0 requires typing-extensions<3.8.0,>=3.7.0, but you have typing-extensions 3.10.0.2 which is incompatible.\u001b[0m\n",
      "Successfully installed gast-0.3.3 h5py-2.10.0 numpy-1.18.5 scipy-1.4.1 tensorflow-2.3.0 tensorflow-estimator-2.3.0\n"
     ]
    }
   ],
   "source": [
    "# Ensure the right version of Tensorflow is installed.\n",
    "!pip freeze | grep tensorflow==2.3.0 || pip install tensorflow==2.3.0"
   ]
  },
  {
   "cell_type": "markdown",
   "metadata": {},
   "source": [
    "Kindly ignore the deprecation warnings and incompatibility errors."
   ]
  },
  {
   "cell_type": "code",
   "execution_count": 3,
   "metadata": {},
   "outputs": [
    {
     "name": "stdout",
     "output_type": "stream",
     "text": [
      "Collecting numpy==1.21.0\n",
      "  Downloading numpy-1.21.0-cp37-cp37m-manylinux_2_12_x86_64.manylinux2010_x86_64.whl (15.7 MB)\n",
      "\u001b[K     |████████████████████████████████| 15.7 MB 6.6 MB/s eta 0:00:01\n",
      "\u001b[?25hInstalling collected packages: numpy\n",
      "  Attempting uninstall: numpy\n",
      "    Found existing installation: numpy 1.18.5\n",
      "    Uninstalling numpy-1.18.5:\n",
      "      Successfully uninstalled numpy-1.18.5\n",
      "\u001b[31mERROR: pip's dependency resolver does not currently take into account all the packages that are installed. This behaviour is the source of the following dependency conflicts.\n",
      "tensorflow-io 0.18.0 requires tensorflow-io-gcs-filesystem==0.18.0, which is not installed.\n",
      "explainable-ai-sdk 1.3.2 requires xai-image-widget, which is not installed.\n",
      "tfx-bsl 1.3.0 requires absl-py<0.13,>=0.9, but you have absl-py 0.14.0 which is incompatible.\n",
      "tfx-bsl 1.3.0 requires google-api-python-client<2,>=1.7.11, but you have google-api-python-client 2.22.0 which is incompatible.\n",
      "tfx-bsl 1.3.0 requires numpy<1.20,>=1.16, but you have numpy 1.21.0 which is incompatible.\n",
      "tfx-bsl 1.3.0 requires pyarrow<3,>=1, but you have pyarrow 5.0.0 which is incompatible.\n",
      "tfx-bsl 1.3.0 requires tensorflow!=2.0.*,!=2.1.*,!=2.2.*,!=2.3.*,!=2.4.*,!=2.5.*,<3,>=1.15.2, but you have tensorflow 2.3.0 which is incompatible.\n",
      "tensorflow 2.3.0 requires numpy<1.19.0,>=1.16.0, but you have numpy 1.21.0 which is incompatible.\n",
      "tensorflow-transform 1.3.0 requires absl-py<0.13,>=0.9, but you have absl-py 0.14.0 which is incompatible.\n",
      "tensorflow-transform 1.3.0 requires numpy<1.20,>=1.16, but you have numpy 1.21.0 which is incompatible.\n",
      "tensorflow-transform 1.3.0 requires pyarrow<3,>=1, but you have pyarrow 5.0.0 which is incompatible.\n",
      "tensorflow-transform 1.3.0 requires tensorflow!=2.0.*,!=2.1.*,!=2.2.*,!=2.3.*,!=2.4.*,!=2.5.*,<2.7,>=1.15.2, but you have tensorflow 2.3.0 which is incompatible.\n",
      "tensorflow-serving-api 2.6.0 requires tensorflow<3,>=2.6.0, but you have tensorflow 2.3.0 which is incompatible.\n",
      "tensorflow-io 0.18.0 requires tensorflow<2.6.0,>=2.5.0, but you have tensorflow 2.3.0 which is incompatible.\n",
      "phik 0.11.2 requires scipy>=1.5.2, but you have scipy 1.4.1 which is incompatible.\n",
      "numba 0.54.0 requires numpy<1.21,>=1.17, but you have numpy 1.21.0 which is incompatible.\n",
      "apache-beam 2.32.0 requires dill<0.3.2,>=0.3.1.1, but you have dill 0.3.4 which is incompatible.\n",
      "apache-beam 2.32.0 requires numpy<1.21.0,>=1.14.3, but you have numpy 1.21.0 which is incompatible.\n",
      "apache-beam 2.32.0 requires pyarrow<5.0.0,>=0.15.1, but you have pyarrow 5.0.0 which is incompatible.\n",
      "apache-beam 2.32.0 requires typing-extensions<3.8.0,>=3.7.0, but you have typing-extensions 3.10.0.2 which is incompatible.\u001b[0m\n",
      "Successfully installed numpy-1.21.0\n"
     ]
    }
   ],
   "source": [
    "# Install the required numpy version.\n",
    "!pip install numpy==1.21.0"
   ]
  },
  {
   "cell_type": "markdown",
   "metadata": {},
   "source": [
    "Kindly ignore the deprecation warnings and incompatibility errors."
   ]
  },
  {
   "cell_type": "markdown",
   "metadata": {},
   "source": [
    "Start by importing the necessary libraries for this lab."
   ]
  },
  {
   "cell_type": "code",
   "execution_count": 4,
   "metadata": {},
   "outputs": [
    {
     "name": "stderr",
     "output_type": "stream",
     "text": [
      "2021-09-24 15:07:17.291849: W tensorflow/stream_executor/platform/default/dso_loader.cc:59] Could not load dynamic library 'libcudart.so.10.1'; dlerror: libcudart.so.10.1: cannot open shared object file: No such file or directory; LD_LIBRARY_PATH: /usr/local/cuda/lib64:/usr/local/nccl2/lib:/usr/local/cuda/extras/CUPTI/lib64\n",
      "2021-09-24 15:07:17.291897: I tensorflow/stream_executor/cuda/cudart_stub.cc:29] Ignore above cudart dlerror if you do not have a GPU set up on your machine.\n"
     ]
    },
    {
     "name": "stdout",
     "output_type": "stream",
     "text": [
      "2.3.0\n"
     ]
    }
   ],
   "source": [
    "import datetime\n",
    "import os\n",
    "import shutil\n",
    "\n",
    "import numpy as np\n",
    "import pandas as pd\n",
    "import tensorflow as tf\n",
    "\n",
    "from matplotlib import pyplot as plt\n",
    "from tensorflow import keras\n",
    "\n",
    "from tensorflow import feature_column as fc\n",
    "\n",
    "from tensorflow.keras import Model\n",
    "from tensorflow.keras.layers import (\n",
    "    Input, Dense, DenseFeatures, concatenate)\n",
    "from tensorflow.keras.callbacks import TensorBoard\n",
    "\n",
    "print(tf.__version__)"
   ]
  },
  {
   "cell_type": "code",
   "execution_count": 5,
   "metadata": {},
   "outputs": [],
   "source": [
    "%matplotlib inline"
   ]
  },
  {
   "cell_type": "markdown",
   "metadata": {},
   "source": [
    "## Load raw data \n",
    "\n",
    "We will use the taxifare dataset, using the CSV files that we created in the first notebook of this sequence. Those files have been saved into `../data`."
   ]
  },
  {
   "cell_type": "code",
   "execution_count": 6,
   "metadata": {},
   "outputs": [
    {
     "name": "stdout",
     "output_type": "stream",
     "text": [
      "-rw-r--r-- 1 jupyter jupyter 123590 Sep 24 15:02 ../data/taxi-test.csv\n",
      "-rw-r--r-- 1 jupyter jupyter 579055 Sep 24 15:02 ../data/taxi-train.csv\n",
      "-rw-r--r-- 1 jupyter jupyter 123114 Sep 24 15:02 ../data/taxi-valid.csv\n"
     ]
    }
   ],
   "source": [
    "!ls -l ../data/*.csv"
   ]
  },
  {
   "cell_type": "markdown",
   "metadata": {},
   "source": [
    "## Use tf.data to read the CSV files\n",
    "\n",
    "We wrote these functions for reading data from the csv files above in the [previous notebook](2_dataset_api.ipynb). For this lab we will also include some additional engineered features in our model. In particular, we will compute the difference in latitude and longitude, as well as the Euclidean distance between the pick-up and drop-off locations. We can accomplish this by adding these new features to the features dictionary with the function `add_engineered_features` below. \n",
    "\n",
    "Note that we include a call to this function when collecting our features dict and labels in the `features_and_labels` function below as well. "
   ]
  },
  {
   "cell_type": "code",
   "execution_count": 7,
   "metadata": {},
   "outputs": [],
   "source": [
    "CSV_COLUMNS = [\n",
    "    'fare_amount',\n",
    "    'pickup_datetime',\n",
    "    'pickup_longitude',\n",
    "    'pickup_latitude',\n",
    "    'dropoff_longitude',\n",
    "    'dropoff_latitude',\n",
    "    'passenger_count',\n",
    "    'key'\n",
    "]\n",
    "LABEL_COLUMN = 'fare_amount'\n",
    "DEFAULTS = [[0.0], ['na'], [0.0], [0.0], [0.0], [0.0], [0.0], ['na']]\n",
    "UNWANTED_COLS = ['pickup_datetime', 'key']\n",
    "\n",
    "\n",
    "def features_and_labels(row_data):\n",
    "    label = row_data.pop(LABEL_COLUMN)\n",
    "    features = row_data\n",
    "        \n",
    "    for unwanted_col in UNWANTED_COLS:\n",
    "        features.pop(unwanted_col)\n",
    "\n",
    "    return features, label\n",
    "\n",
    "\n",
    "def create_dataset(pattern, batch_size=1, mode='eval'):\n",
    "    dataset = tf.data.experimental.make_csv_dataset(\n",
    "        pattern, batch_size, CSV_COLUMNS, DEFAULTS)\n",
    "\n",
    "    dataset = dataset.map(features_and_labels)\n",
    "    \n",
    "    if mode == 'train':\n",
    "        dataset = dataset.shuffle(buffer_size=1000).repeat()\n",
    "\n",
    "    # take advantage of multi-threading; 1=AUTOTUNE\n",
    "    dataset = dataset.prefetch(1)\n",
    "    return dataset"
   ]
  },
  {
   "cell_type": "markdown",
   "metadata": {},
   "source": [
    "## Feature columns for Wide and Deep model\n",
    "\n",
    "For the Wide columns, we will create feature columns of crossed features. To do this, we'll create a collection of Tensorflow feature columns to pass to the `tf.feature_column.crossed_column` constructor. The Deep columns will consist of numeric columns and the embedding columns we want to create. "
   ]
  },
  {
   "cell_type": "markdown",
   "metadata": {},
   "source": [
    "**Lab Task #1:** In the cell below, create feature columns for our wide-and-deep model. You'll need to build \n",
    "1. bucketized columns using [tf.feature_column.bucketized_column](https://www.tensorflow.org/api_docs/python/tf/feature_column/bucketized_column) for the pickup and dropoff latitude and longitude,\n",
    "2. crossed columns using [tf.feature_column.crossed_column](https://www.tensorflow.org/api_docs/python/tf/feature_column/crossed_column) for those bucketized columns, and \n",
    "3. embedding columns using [tf.feature_column.embedding_column](https://www.tensorflow.org/api_docs/python/tf/feature_column/embedding_column) for the crossed columns."
   ]
  },
  {
   "cell_type": "code",
   "execution_count": 8,
   "metadata": {},
   "outputs": [],
   "source": [
    "# TODO 1\n",
    "\n",
    "# 1. Bucketize latitudes and longitudes\n",
    "NBUCKETS = 16\n",
    "latbuckets = np.linspace(start=38.0, stop=42.0, num=NBUCKETS).tolist()\n",
    "lonbuckets = np.linspace(start=-76.0, stop=-72.0, num=NBUCKETS).tolist()\n",
    "\n",
    "# TODO: Your code goes here.\n",
    "fc_bucketized_plat = fc.bucketized_column(\n",
    "    source_column=fc.numeric_column(\"pickup_longitude\"), boundaries=lonbuckets)\n",
    "fc_bucketized_plon = fc.bucketized_column(\n",
    "    source_column=fc.numeric_column(\"pickup_latitude\"), boundaries=latbuckets)\n",
    "fc_bucketized_dlat = fc.bucketized_column(\n",
    "    source_column=fc.numeric_column(\"dropoff_longitude\"), boundaries=lonbuckets)\n",
    "fc_bucketized_dlon = fc.bucketized_column(\n",
    "    source_column=fc.numeric_column(\"dropoff_latitude\"), boundaries=latbuckets)\n",
    "\n",
    "# 2. Cross features for locations\n",
    "# TODO: Your code goes here.\n",
    "fc_crossed_dloc = fc.crossed_column(\n",
    "    [fc_bucketized_dlat, fc_bucketized_dlon],\n",
    "    hash_bucket_size=NBUCKETS * NBUCKETS)\n",
    "fc_crossed_ploc = fc.crossed_column(\n",
    "    [fc_bucketized_plat, fc_bucketized_plon],\n",
    "    hash_bucket_size=NBUCKETS * NBUCKETS)\n",
    "fc_crossed_pd_pair = fc.crossed_column(\n",
    "    [fc_crossed_dloc, fc_crossed_ploc],\n",
    "    hash_bucket_size=NBUCKETS**4)\n",
    "\n",
    "# 3. Create embedding columns for the crossed columns\n",
    "# TODO: Your code goes here.\n",
    "fc_pd_pair = fc.embedding_column(categorical_column=fc_crossed_pd_pair, dimension=3)\n",
    "fc_dloc = fc.embedding_column(categorical_column=fc_crossed_dloc, dimension=3)\n",
    "fc_ploc = fc.embedding_column(categorical_column=fc_crossed_ploc, dimension=3)\n"
   ]
  },
  {
   "cell_type": "markdown",
   "metadata": {},
   "source": [
    "### Gather list of feature columns\n",
    "\n",
    "Next we gather the list of wide and deep feature columns we'll pass to our Wide & Deep model in Tensorflow. Recall, wide columns are sparse, have linear relationship with the output while continuous columns are deep, have a complex relationship with the output. We will use our previously bucketized columns to collect crossed feature columns and sparse feature columns for our wide columns, and embedding feature columns and numeric features columns for the deep columns."
   ]
  },
  {
   "cell_type": "markdown",
   "metadata": {},
   "source": [
    "**Lab Task #2:** Collect the wide and deep columns into two separate lists. You'll have two lists: One called `wide_columns` containing the one-hot encoded features from the crossed features and one called `deep_columns` which contains numeric and embedding feature columns."
   ]
  },
  {
   "cell_type": "code",
   "execution_count": 9,
   "metadata": {},
   "outputs": [],
   "source": [
    "# TODO 2\n",
    "\n",
    "wide_columns = [\n",
    "    # One-hot encoded feature crosses\n",
    "    # TODO: Your code goes here.\n",
    "    fc.indicator_column(fc_crossed_dloc),\n",
    "    fc.indicator_column(fc_crossed_ploc),\n",
    "    fc.indicator_column(fc_crossed_pd_pair)\n",
    "]\n",
    "\n",
    "deep_columns = [\n",
    "    # Embedding_column to \"group\" together ...\n",
    "    # TODO: Your code goes here.\n",
    "    fc.embedding_column(fc_crossed_pd_pair, dimension=10),\n",
    "    \n",
    "    # Numeric columns\n",
    "    # TODO: Your code goes here.\n",
    "    fc.numeric_column(\"pickup_latitude\"),\n",
    "    fc.numeric_column(\"pickup_longitude\"),\n",
    "    fc.numeric_column(\"dropoff_longitude\"),\n",
    "    fc.numeric_column(\"dropoff_latitude\")    \n",
    "]"
   ]
  },
  {
   "cell_type": "markdown",
   "metadata": {},
   "source": [
    "## Build a Wide and Deep model in Keras\n",
    "\n",
    "To build a wide-and-deep network, we connect the sparse (i.e. wide) features directly to the output node, but pass the dense (i.e. deep) features through a set of fully connected layers. Here’s that model architecture looks using the Functional API.\n",
    "\n",
    "First, we'll create our input columns using [tf.keras.layers.Input](https://www.tensorflow.org/versions/r2.0/api_docs/python/tf/keras/Input)."
   ]
  },
  {
   "cell_type": "code",
   "execution_count": 10,
   "metadata": {},
   "outputs": [],
   "source": [
    "INPUT_COLS = [\n",
    "    'pickup_longitude',\n",
    "    'pickup_latitude',\n",
    "    'dropoff_longitude',\n",
    "    'dropoff_latitude',\n",
    "    'passenger_count'\n",
    "]\n",
    "\n",
    "inputs = {colname : Input(name=colname, shape=(), dtype='float32')\n",
    "          for colname in INPUT_COLS\n",
    "}"
   ]
  },
  {
   "cell_type": "markdown",
   "metadata": {},
   "source": [
    "Then, we'll define our custom RMSE evaluation metric and build our wide and deep model."
   ]
  },
  {
   "cell_type": "markdown",
   "metadata": {},
   "source": [
    "**Lab Task #3:** Complete the code in the function `build_model` below so that it returns a compiled Keras model. The argument `dnn_hidden_units` should represent the number of units in each layer of your network. Use the Functional API to build a wide-and-deep model. Use the `deep_columns` you created above to build the deep layers and the `wide_columns` to create the wide layers. Once you have the wide and deep components, you will combine them to feed to a final fully connected layer. "
   ]
  },
  {
   "cell_type": "code",
   "execution_count": 11,
   "metadata": {},
   "outputs": [],
   "source": [
    "def rmse(y_true, y_pred):\n",
    "    return tf.sqrt(tf.reduce_mean(tf.square(y_pred - y_true)))\n",
    "\n",
    "# TODO 3\n",
    "def build_model(dnn_hidden_units):\n",
    "    # Create the deep part of model\n",
    "    # TODO: Your code goes here.\n",
    "    deep = DenseFeatures(deep_columns, name='deep_inputs')(inputs)\n",
    "    for num_nodes in dnn_hidden_units:\n",
    "        deep = Dense(num_nodes, activation='relu')(deep) \n",
    "        \n",
    "    # Create the wide part of model\n",
    "    # TODO: Your code goes here.\n",
    "    wide = DenseFeatures(wide_columns, name='wide_inputs')(inputs)\n",
    "    \n",
    "    # Combine deep and wide parts of the model\n",
    "    # TODO: Your code goes here.\n",
    "    combined = concatenate(inputs=[deep, wide], name='combined')\n",
    "\n",
    "    # Map the combined outputs into a single prediction value\n",
    "    # TODO: Your code goes here.\n",
    "    output = Dense(units=1, activation=None, name='prediction')(combined)\n",
    "    \n",
    "    # Finalize the model\n",
    "    # TODO: Your code goes here.\n",
    "    model = Model(inputs=list(inputs.values()), outputs=output)\n",
    "\n",
    "    # Compile the keras model\n",
    "    # TODO: Your code goes here.\n",
    "    model.compile(optimizer=\"adam\", loss=\"mse\", metrics=[rmse, \"mse\"])\n",
    "    \n",
    "    return model"
   ]
  },
  {
   "cell_type": "markdown",
   "metadata": {},
   "source": [
    "Next, we can call the `build_model` to create the model. Here we'll have two hidden layers, each with 10 neurons, for the deep part of our model. We can also use `plot_model` to see a diagram of the model we've created."
   ]
  },
  {
   "cell_type": "code",
   "execution_count": 13,
   "metadata": {},
   "outputs": [
    {
     "data": {
      "image/png": "[encoded data removed]",
      "text/plain": [
       "<IPython.core.display.Image object>"
      ]
     },
     "execution_count": 13,
     "metadata": {},
     "output_type": "execute_result"
    }
   ],
   "source": [
    "HIDDEN_UNITS = [10,10]\n",
    "\n",
    "model = build_model(dnn_hidden_units=HIDDEN_UNITS)\n",
    "\n",
    "tf.keras.utils.plot_model(model, show_shapes=False, rankdir='LR')"
   ]
  },
  {
   "cell_type": "markdown",
   "metadata": {},
   "source": [
    "Next, we'll set up our training variables, create our datasets for training and validation, and train our model.\n",
    "\n",
    "(We refer you the the blog post [ML Design Pattern #3: Virtual Epochs](https://medium.com/google-cloud/ml-design-pattern-3-virtual-epochs-f842296de730) for further details on why express the training in terms of `NUM_TRAIN_EXAMPLES` and `NUM_EVALS` and why, in this training code, the number of epochs is really equal to the number of evaluations we perform.)"
   ]
  },
  {
   "cell_type": "code",
   "execution_count": 14,
   "metadata": {},
   "outputs": [],
   "source": [
    "BATCH_SIZE = 1000\n",
    "NUM_TRAIN_EXAMPLES = 10000 * 5  # training dataset will repeat, wrap around\n",
    "NUM_EVALS = 50  # how many times to evaluate\n",
    "NUM_EVAL_EXAMPLES = 10000  # enough to get a reasonable sample\n",
    "\n",
    "trainds = create_dataset(\n",
    "    pattern='../data/taxi-train*',\n",
    "    batch_size=BATCH_SIZE,\n",
    "    mode='train')\n",
    "\n",
    "evalds = create_dataset(\n",
    "    pattern='../data/taxi-valid*',\n",
    "    batch_size=BATCH_SIZE,\n",
    "    mode='eval').take(NUM_EVAL_EXAMPLES//1000)"
   ]
  },
  {
   "cell_type": "code",
   "execution_count": 15,
   "metadata": {},
   "outputs": [
    {
     "name": "stderr",
     "output_type": "stream",
     "text": [
      "2021-09-24 15:29:46.454643: I tensorflow/core/profiler/lib/profiler_session.cc:164] Profiler session started.\n"
     ]
    },
    {
     "name": "stdout",
     "output_type": "stream",
     "text": [
      "Epoch 1/50\n"
     ]
    },
    {
     "name": "stderr",
     "output_type": "stream",
     "text": [
      "2021-09-24 15:29:57.750413: I tensorflow/core/kernels/data/shuffle_dataset_op.cc:172] Filling up shuffle buffer (this may take a while): 623 of 1000\n",
      "2021-09-24 15:30:03.721843: I tensorflow/core/kernels/data/shuffle_dataset_op.cc:221] Shuffle buffer filled.\n"
     ]
    },
    {
     "name": "stdout",
     "output_type": "stream",
     "text": [
      "1/1 [==============================] - 2s 2s/step - loss: 254.2530 - rmse: 15.9453 - mse: 254.2530 - val_loss: 252.4907 - val_rmse: 15.8850 - val_mse: 252.4907\n",
      "Epoch 2/50\n",
      "WARNING:tensorflow:From /opt/conda/lib/python3.7/site-packages/tensorflow/python/ops/summary_ops_v2.py:1277: stop (from tensorflow.python.eager.profiler) is deprecated and will be removed after 2020-07-01.\n",
      "Instructions for updating:\n",
      "use `tf.profiler.experimental.stop` instead.\n"
     ]
    },
    {
     "name": "stderr",
     "output_type": "stream",
     "text": [
      "2021-09-24 15:30:06.068413: I tensorflow/core/profiler/lib/profiler_session.cc:164] Profiler session started.\n"
     ]
    },
    {
     "name": "stdout",
     "output_type": "stream",
     "text": [
      "1/1 [==============================] - ETA: 0s - loss: 230.4667 - rmse: 15.1811 - mse: 230.4667"
     ]
    },
    {
     "name": "stderr",
     "output_type": "stream",
     "text": [
      "2021-09-24 15:30:06.330543: I tensorflow/core/profiler/rpc/client/save_profile.cc:176] Creating directory: ./taxi_trained/train/plugins/profile/2021_09_24_15_30_06\n",
      "2021-09-24 15:30:06.343711: I tensorflow/core/profiler/rpc/client/save_profile.cc:182] Dumped gzipped tool data for trace.json.gz to ./taxi_trained/train/plugins/profile/2021_09_24_15_30_06/x.trace.json.gz\n",
      "2021-09-24 15:30:06.368772: I tensorflow/core/profiler/rpc/client/save_profile.cc:176] Creating directory: ./taxi_trained/train/plugins/profile/2021_09_24_15_30_06\n",
      "2021-09-24 15:30:06.368945: I tensorflow/core/profiler/rpc/client/save_profile.cc:182] Dumped gzipped tool data for memory_profile.json.gz to ./taxi_trained/train/plugins/profile/2021_09_24_15_30_06/x.memory_profile.json.gz\n",
      "2021-09-24 15:30:06.369642: I tensorflow/python/profiler/internal/profiler_wrapper.cc:111] Creating directory: ./taxi_trained/train/plugins/profile/2021_09_24_15_30_06Dumped tool data for xplane.pb to ./taxi_trained/train/plugins/profile/2021_09_24_15_30_06/x.xplane.pb\n",
      "Dumped tool data for overview_page.pb to ./taxi_trained/train/plugins/profile/2021_09_24_15_30_06/x.overview_page.pb\n",
      "Dumped tool data for input_pipeline.pb to ./taxi_trained/train/plugins/profile/2021_09_24_15_30_06/x.input_pipeline.pb\n",
      "Dumped tool data for tensorflow_stats.pb to ./taxi_trained/train/plugins/profile/2021_09_24_15_30_06/x.tensorflow_stats.pb\n",
      "Dumped tool data for kernel_stats.pb to ./taxi_trained/train/plugins/profile/2021_09_24_15_30_06/x.kernel_stats.pb\n",
      "\n"
     ]
    },
    {
     "name": "stdout",
     "output_type": "stream",
     "text": [
      "1/1 [==============================] - 1s 1s/step - loss: 230.4667 - rmse: 15.1811 - mse: 230.4667 - val_loss: 249.5576 - val_rmse: 15.7844 - val_mse: 249.5576\n",
      "Epoch 3/50\n",
      "1/1 [==============================] - 1s 1s/step - loss: 249.4444 - rmse: 15.7938 - mse: 249.4444 - val_loss: 249.7207 - val_rmse: 15.7998 - val_mse: 249.7207\n",
      "Epoch 4/50\n",
      "1/1 [==============================] - 1s 1s/step - loss: 222.0434 - rmse: 14.9011 - mse: 222.0434 - val_loss: 249.0458 - val_rmse: 15.7735 - val_mse: 249.0458\n",
      "Epoch 5/50\n",
      "1/1 [==============================] - 2s 2s/step - loss: 225.7778 - rmse: 15.0259 - mse: 225.7778 - val_loss: 245.4237 - val_rmse: 15.6624 - val_mse: 245.4237\n",
      "Epoch 6/50\n",
      "1/1 [==============================] - 1s 1s/step - loss: 222.2694 - rmse: 14.9087 - mse: 222.2694 - val_loss: 247.2296 - val_rmse: 15.7143 - val_mse: 247.2296\n",
      "Epoch 7/50\n",
      "1/1 [==============================] - 1s 1s/step - loss: 255.4319 - rmse: 15.9822 - mse: 255.4319 - val_loss: 245.0580 - val_rmse: 15.6459 - val_mse: 245.0580\n",
      "Epoch 8/50\n",
      "1/1 [==============================] - 1s 1s/step - loss: 206.1898 - rmse: 14.3593 - mse: 206.1898 - val_loss: 241.1191 - val_rmse: 15.5255 - val_mse: 241.1191\n",
      "Epoch 9/50\n",
      "1/1 [==============================] - 1s 1s/step - loss: 195.1859 - rmse: 13.9709 - mse: 195.1859 - val_loss: 241.3666 - val_rmse: 15.5257 - val_mse: 241.3666\n",
      "Epoch 10/50\n",
      "1/1 [==============================] - 1s 1s/step - loss: 219.2756 - rmse: 14.8080 - mse: 219.2756 - val_loss: 238.0508 - val_rmse: 15.4242 - val_mse: 238.0508\n",
      "Epoch 11/50\n",
      "1/1 [==============================] - 1s 1s/step - loss: 230.4160 - rmse: 15.1795 - mse: 230.4160 - val_loss: 237.3524 - val_rmse: 15.3929 - val_mse: 237.3524\n",
      "Epoch 12/50\n",
      "1/1 [==============================] - 1s 1s/step - loss: 196.6141 - rmse: 14.0219 - mse: 196.6141 - val_loss: 232.9612 - val_rmse: 15.2465 - val_mse: 232.9612\n",
      "Epoch 13/50\n",
      "1/1 [==============================] - 1s 1s/step - loss: 197.6806 - rmse: 14.0599 - mse: 197.6806 - val_loss: 232.4158 - val_rmse: 15.2382 - val_mse: 232.4158\n",
      "Epoch 14/50\n",
      "1/1 [==============================] - 1s 1s/step - loss: 222.3625 - rmse: 14.9118 - mse: 222.3625 - val_loss: 230.6786 - val_rmse: 15.1827 - val_mse: 230.6786\n",
      "Epoch 15/50\n",
      "1/1 [==============================] - 1s 1s/step - loss: 204.0936 - rmse: 14.2861 - mse: 204.0936 - val_loss: 230.7469 - val_rmse: 15.1771 - val_mse: 230.7469\n",
      "Epoch 16/50\n",
      "1/1 [==============================] - 1s 1s/step - loss: 200.0493 - rmse: 14.1439 - mse: 200.0493 - val_loss: 225.2253 - val_rmse: 14.9986 - val_mse: 225.2253\n",
      "Epoch 17/50\n",
      "1/1 [==============================] - 1s 1s/step - loss: 199.7936 - rmse: 14.1348 - mse: 199.7936 - val_loss: 224.8057 - val_rmse: 14.9818 - val_mse: 224.8057\n",
      "Epoch 18/50\n",
      "1/1 [==============================] - 1s 1s/step - loss: 212.4141 - rmse: 14.5744 - mse: 212.4141 - val_loss: 223.3321 - val_rmse: 14.9253 - val_mse: 223.3321\n",
      "Epoch 19/50\n",
      "1/1 [==============================] - 1s 1s/step - loss: 219.3032 - rmse: 14.8089 - mse: 219.3032 - val_loss: 219.3113 - val_rmse: 14.7969 - val_mse: 219.3113\n",
      "Epoch 20/50\n",
      "1/1 [==============================] - 1s 1s/step - loss: 146.5319 - rmse: 12.1050 - mse: 146.5319 - val_loss: 216.5445 - val_rmse: 14.7023 - val_mse: 216.5445\n",
      "Epoch 21/50\n",
      "1/1 [==============================] - 1s 1s/step - loss: 193.8423 - rmse: 13.9227 - mse: 193.8423 - val_loss: 215.8259 - val_rmse: 14.6839 - val_mse: 215.8259\n",
      "Epoch 22/50\n",
      "1/1 [==============================] - 1s 1s/step - loss: 189.0294 - rmse: 13.7488 - mse: 189.0294 - val_loss: 212.0896 - val_rmse: 14.5513 - val_mse: 212.0896\n",
      "Epoch 23/50\n",
      "1/1 [==============================] - 2s 2s/step - loss: 193.8853 - rmse: 13.9243 - mse: 193.8853 - val_loss: 213.0116 - val_rmse: 14.5888 - val_mse: 213.0116\n",
      "Epoch 24/50\n",
      "1/1 [==============================] - 1s 1s/step - loss: 149.0816 - rmse: 12.2099 - mse: 149.0816 - val_loss: 207.1562 - val_rmse: 14.3858 - val_mse: 207.1562\n",
      "Epoch 25/50\n",
      "1/1 [==============================] - 1s 1s/step - loss: 161.5154 - rmse: 12.7089 - mse: 161.5154 - val_loss: 205.2267 - val_rmse: 14.3215 - val_mse: 205.2267\n",
      "Epoch 26/50\n",
      "1/1 [==============================] - 1s 1s/step - loss: 162.9821 - rmse: 12.7664 - mse: 162.9821 - val_loss: 201.8228 - val_rmse: 14.1973 - val_mse: 201.8228\n",
      "Epoch 27/50\n",
      "1/1 [==============================] - 1s 1s/step - loss: 162.2314 - rmse: 12.7370 - mse: 162.2314 - val_loss: 198.2497 - val_rmse: 14.0726 - val_mse: 198.2497\n",
      "Epoch 28/50\n",
      "1/1 [==============================] - 1s 1s/step - loss: 184.3977 - rmse: 13.5793 - mse: 184.3977 - val_loss: 194.6206 - val_rmse: 13.9465 - val_mse: 194.6206\n",
      "Epoch 29/50\n",
      "1/1 [==============================] - 1s 1s/step - loss: 154.8708 - rmse: 12.4447 - mse: 154.8708 - val_loss: 194.3908 - val_rmse: 13.9350 - val_mse: 194.3908\n",
      "Epoch 30/50\n",
      "1/1 [==============================] - 1s 1s/step - loss: 164.1128 - rmse: 12.8107 - mse: 164.1128 - val_loss: 192.0473 - val_rmse: 13.8443 - val_mse: 192.0473\n",
      "Epoch 31/50\n",
      "1/1 [==============================] - 1s 1s/step - loss: 174.7588 - rmse: 13.2196 - mse: 174.7588 - val_loss: 188.5047 - val_rmse: 13.7230 - val_mse: 188.5047\n",
      "Epoch 32/50\n",
      "1/1 [==============================] - 1s 1s/step - loss: 160.8351 - rmse: 12.6821 - mse: 160.8351 - val_loss: 185.5682 - val_rmse: 13.6043 - val_mse: 185.5682\n",
      "Epoch 33/50\n",
      "1/1 [==============================] - 1s 1s/step - loss: 190.2077 - rmse: 13.7916 - mse: 190.2077 - val_loss: 182.5724 - val_rmse: 13.4985 - val_mse: 182.5724\n",
      "Epoch 34/50\n",
      "1/1 [==============================] - 1s 1s/step - loss: 166.1568 - rmse: 12.8902 - mse: 166.1568 - val_loss: 178.6989 - val_rmse: 13.3614 - val_mse: 178.6989\n",
      "Epoch 35/50\n",
      "1/1 [==============================] - 1s 1s/step - loss: 145.4686 - rmse: 12.0610 - mse: 145.4686 - val_loss: 175.5672 - val_rmse: 13.2297 - val_mse: 175.5672\n",
      "Epoch 36/50\n",
      "1/1 [==============================] - 1s 1s/step - loss: 143.2485 - rmse: 11.9686 - mse: 143.2485 - val_loss: 173.2587 - val_rmse: 13.1540 - val_mse: 173.2587\n",
      "Epoch 37/50\n",
      "1/1 [==============================] - 1s 1s/step - loss: 144.4952 - rmse: 12.0206 - mse: 144.4952 - val_loss: 171.5679 - val_rmse: 13.0882 - val_mse: 171.5679\n",
      "Epoch 38/50\n",
      "1/1 [==============================] - 1s 1s/step - loss: 129.1363 - rmse: 11.3638 - mse: 129.1363 - val_loss: 168.5763 - val_rmse: 12.9788 - val_mse: 168.5763\n",
      "Epoch 39/50\n",
      "1/1 [==============================] - 1s 1s/step - loss: 132.1207 - rmse: 11.4944 - mse: 132.1207 - val_loss: 163.6772 - val_rmse: 12.7752 - val_mse: 163.6772\n",
      "Epoch 40/50\n",
      "1/1 [==============================] - 1s 1s/step - loss: 167.7340 - rmse: 12.9512 - mse: 167.7340 - val_loss: 162.6680 - val_rmse: 12.7284 - val_mse: 162.6680\n",
      "Epoch 41/50\n",
      "1/1 [==============================] - 1s 1s/step - loss: 191.5140 - rmse: 13.8389 - mse: 191.5140 - val_loss: 157.3231 - val_rmse: 12.5286 - val_mse: 157.3231\n",
      "Epoch 42/50\n",
      "1/1 [==============================] - 1s 1s/step - loss: 144.8919 - rmse: 12.0371 - mse: 144.8919 - val_loss: 158.4853 - val_rmse: 12.5651 - val_mse: 158.4853\n",
      "Epoch 43/50\n",
      "1/1 [==============================] - 1s 1s/step - loss: 160.5889 - rmse: 12.6724 - mse: 160.5889 - val_loss: 155.1920 - val_rmse: 12.4386 - val_mse: 155.1920\n",
      "Epoch 44/50\n",
      "1/1 [==============================] - 1s 1s/step - loss: 146.4924 - rmse: 12.1034 - mse: 146.4924 - val_loss: 150.8563 - val_rmse: 12.2757 - val_mse: 150.8563\n",
      "Epoch 45/50\n",
      "1/1 [==============================] - 1s 1s/step - loss: 124.7763 - rmse: 11.1703 - mse: 124.7763 - val_loss: 147.2821 - val_rmse: 12.1252 - val_mse: 147.2821\n",
      "Epoch 46/50\n",
      "1/1 [==============================] - 1s 1s/step - loss: 94.9471 - rmse: 9.7441 - mse: 94.9471 - val_loss: 145.6072 - val_rmse: 12.0504 - val_mse: 145.6072\n",
      "Epoch 47/50\n",
      "1/1 [==============================] - 1s 1s/step - loss: 122.5289 - rmse: 11.0693 - mse: 122.5289 - val_loss: 144.9946 - val_rmse: 12.0145 - val_mse: 144.9946\n",
      "Epoch 48/50\n",
      "1/1 [==============================] - 1s 1s/step - loss: 136.6708 - rmse: 11.6906 - mse: 136.6708 - val_loss: 142.1154 - val_rmse: 11.9193 - val_mse: 142.1154\n",
      "Epoch 49/50\n",
      "1/1 [==============================] - 1s 1s/step - loss: 109.9629 - rmse: 10.4863 - mse: 109.9629 - val_loss: 139.2321 - val_rmse: 11.7916 - val_mse: 139.2321\n",
      "Epoch 50/50\n",
      "1/1 [==============================] - 1s 1s/step - loss: 123.4113 - rmse: 11.1091 - mse: 123.4113 - val_loss: 136.1008 - val_rmse: 11.6412 - val_mse: 136.1008\n",
      "CPU times: user 3min 4s, sys: 2min 13s, total: 5min 18s\n",
      "Wall time: 1min 41s\n"
     ]
    }
   ],
   "source": [
    "%%time\n",
    "steps_per_epoch = NUM_TRAIN_EXAMPLES // (BATCH_SIZE * NUM_EVALS)\n",
    "\n",
    "OUTDIR = \"./taxi_trained\"\n",
    "shutil.rmtree(path=OUTDIR, ignore_errors=True) # start fresh each time\n",
    "\n",
    "history = model.fit(x=trainds,\n",
    "                    steps_per_epoch=steps_per_epoch,\n",
    "                    epochs=NUM_EVALS,\n",
    "                    validation_data=evalds,\n",
    "                    callbacks=[TensorBoard(OUTDIR)])"
   ]
  },
  {
   "cell_type": "markdown",
   "metadata": {},
   "source": [
    "Just as before, we can examine the history to see how the RMSE changes through training on the train set and validation set. "
   ]
  },
  {
   "cell_type": "code",
   "execution_count": 16,
   "metadata": {},
   "outputs": [
    {
     "data": {
      "text/plain": [
       "<AxesSubplot:>"
      ]
     },
     "execution_count": 16,
     "metadata": {},
     "output_type": "execute_result"
    },
    {
     "data": {
      "image/png": "[encoded data removed]",
      "text/plain": [
       "<Figure size 432x288 with 1 Axes>"
      ]
     },
     "metadata": {
      "needs_background": "light"
     },
     "output_type": "display_data"
    }
   ],
   "source": [
    "RMSE_COLS = ['rmse', 'val_rmse']\n",
    "\n",
    "pd.DataFrame(history.history)[RMSE_COLS].plot()"
   ]
  },
  {
   "cell_type": "markdown",
   "metadata": {},
   "source": [
    "Copyright 2021 Google Inc. Licensed under the Apache License, Version 2.0 (the \"License\"); you may not use this file except in compliance with the License. You may obtain a copy of the License at http://www.apache.org/licenses/LICENSE-2.0 Unless required by applicable law or agreed to in writing, software distributed under the License is distributed on an \"AS IS\" BASIS, WITHOUT WARRANTIES OR CONDITIONS OF ANY KIND, either express or implied. See the License for the specific language governing permissions and limitations under the License"
   ]
  }
 ],
 "metadata": {
  "environment": {
   "name": "tf2-gpu.2-6.m80",
   "type": "gcloud",
   "uri": "gcr.io/deeplearning-platform-release/tf2-gpu.2-6:m80"
  },
  "kernelspec": {
   "display_name": "Python 3",
   "language": "python",
   "name": "python3"
  },
  "language_info": {
   "codemirror_mode": {
    "name": "ipython",
    "version": 3
   },
   "file_extension": ".py",
   "mimetype": "text/x-python",
   "name": "python",
   "nbconvert_exporter": "python",
   "pygments_lexer": "ipython3",
   "version": "3.7.10"
  }
 },
 "nbformat": 4,
 "nbformat_minor": 4
}

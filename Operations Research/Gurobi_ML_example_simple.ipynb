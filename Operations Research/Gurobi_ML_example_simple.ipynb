{
  "cells": [
    {
      "cell_type": "markdown",
      "metadata": {
        "id": "view-in-github",
        "colab_type": "text"
      },
      "source": [
        "<a href=\"https://colab.research.google.com/github/javier-jaime/Tool-Crib/blob/master/Operations%20Research/Gurobi_ML_example_simple.ipynb\" target=\"_parent\"><img src=\"https://colab.research.google.com/assets/colab-badge.svg\" alt=\"Open In Colab\"/></a>"
      ]
    },
    {
      "cell_type": "markdown",
      "metadata": {
        "id": "PadrjjXNOyth"
      },
      "source": [
        "\n",
        "# Usage Example\n",
        "\n",
        "In this page, we provide a simple example of using the Gurobi Machine\n",
        "Learning package.\n",
        "\n",
        "The example is entirely abstract. Its aim is only to illustrate the\n",
        "basic functionalities of the package in the most simple way. For some\n",
        "more realistic applications, please refer to the notebooks in the\n",
        "[examples](../examples.rst)_ section.\n",
        "\n",
        "Before proceeding to the example itself, we need to import a number of\n",
        "packages. Here, we will use Scikit-learn to train regression models. We\n",
        "generate random data for the regression using the\n",
        "[make_regression](https://scikit-learn.org/stable/modules/generated/sklearn.datasets.make_regression.html)_\n",
        "function. For the regression model, we use a [multi-layer perceptron\n",
        "regressor](https://scikit-learn.org/stable/modules/generated/sklearn.neural_network.MLPRegressor.html)_\n",
        "neural network. We import the corresponding objects.\n"
      ]
    },
    {
      "cell_type": "code",
      "source": [
        "!pip install gurobipy gurobi-machinelearning"
      ],
      "metadata": {
        "colab": {
          "base_uri": "https://localhost:8080/"
        },
        "id": "xmJqBwshO4im",
        "outputId": "d43ea24e-1241-4a6e-9b9d-26a2cf20c913"
      },
      "execution_count": 6,
      "outputs": [
        {
          "output_type": "stream",
          "name": "stdout",
          "text": [
            "Requirement already satisfied: gurobipy in /usr/local/lib/python3.10/dist-packages (11.0.1)\n",
            "Collecting gurobi-machinelearning\n",
            "  Downloading gurobi_machinelearning-1.4.1-py3-none-any.whl (66 kB)\n",
            "\u001b[2K     \u001b[90m━━━━━━━━━━━━━━━━━━━━━━━━━━━━━━━━━━━━━━━━\u001b[0m \u001b[32m66.8/66.8 kB\u001b[0m \u001b[31m1.9 MB/s\u001b[0m eta \u001b[36m0:00:00\u001b[0m\n",
            "\u001b[?25hRequirement already satisfied: numpy>=1.22.0 in /usr/local/lib/python3.10/dist-packages (from gurobi-machinelearning) (1.25.2)\n",
            "Requirement already satisfied: scipy>=1.9.3 in /usr/local/lib/python3.10/dist-packages (from gurobi-machinelearning) (1.11.4)\n",
            "Installing collected packages: gurobi-machinelearning\n",
            "Successfully installed gurobi-machinelearning-1.4.1\n"
          ]
        }
      ]
    },
    {
      "cell_type": "code",
      "execution_count": 7,
      "metadata": {
        "id": "L-ifhI2KOyti"
      },
      "outputs": [],
      "source": [
        "import gurobipy as gp\n",
        "import numpy as np\n",
        "from sklearn.datasets import make_regression\n",
        "from sklearn.metrics import mean_squared_error\n",
        "from sklearn.neural_network import MLPRegressor\n",
        "\n",
        "from gurobi_ml import add_predictor_constr"
      ]
    },
    {
      "cell_type": "markdown",
      "metadata": {
        "id": "hRrt9HBlOytj"
      },
      "source": [
        "Certainly, we need gurobipy to build an optimization model and from the\n",
        "gurobi_ml package we need the\n",
        "[add_predictor_constr](../auto_generated/gurobi_ml.add_predictor_constr.rst)_\n",
        "function. We also need numpy.\n",
        "\n",
        "\n"
      ]
    },
    {
      "cell_type": "markdown",
      "metadata": {
        "id": "1nZT051cOytj"
      },
      "source": [
        "We start by building artificial data to train our regressions. To do so,\n",
        "we use *make_regression* to obtain data with 10 features.\n",
        "\n",
        "\n"
      ]
    },
    {
      "cell_type": "code",
      "execution_count": 8,
      "metadata": {
        "id": "grBX9JgJOytj"
      },
      "outputs": [],
      "source": [
        "X, y = make_regression(n_features=10, noise=1.0)"
      ]
    },
    {
      "cell_type": "markdown",
      "metadata": {
        "id": "SE5Cw1NAOytj"
      },
      "source": [
        "Now, create the *MLPRegressor* object and fit it.\n",
        "\n",
        "\n"
      ]
    },
    {
      "cell_type": "code",
      "execution_count": 9,
      "metadata": {
        "colab": {
          "base_uri": "https://localhost:8080/",
          "height": 74
        },
        "id": "OcxeqaRBOytk",
        "outputId": "32d15be8-6ea4-4a00-801e-e96882af8b44"
      },
      "outputs": [
        {
          "output_type": "execute_result",
          "data": {
            "text/plain": [
              "MLPRegressor(hidden_layer_sizes=[20, 20], max_iter=10000, random_state=1)"
            ],
            "text/html": [
              "<style>#sk-container-id-1 {color: black;background-color: white;}#sk-container-id-1 pre{padding: 0;}#sk-container-id-1 div.sk-toggleable {background-color: white;}#sk-container-id-1 label.sk-toggleable__label {cursor: pointer;display: block;width: 100%;margin-bottom: 0;padding: 0.3em;box-sizing: border-box;text-align: center;}#sk-container-id-1 label.sk-toggleable__label-arrow:before {content: \"▸\";float: left;margin-right: 0.25em;color: #696969;}#sk-container-id-1 label.sk-toggleable__label-arrow:hover:before {color: black;}#sk-container-id-1 div.sk-estimator:hover label.sk-toggleable__label-arrow:before {color: black;}#sk-container-id-1 div.sk-toggleable__content {max-height: 0;max-width: 0;overflow: hidden;text-align: left;background-color: #f0f8ff;}#sk-container-id-1 div.sk-toggleable__content pre {margin: 0.2em;color: black;border-radius: 0.25em;background-color: #f0f8ff;}#sk-container-id-1 input.sk-toggleable__control:checked~div.sk-toggleable__content {max-height: 200px;max-width: 100%;overflow: auto;}#sk-container-id-1 input.sk-toggleable__control:checked~label.sk-toggleable__label-arrow:before {content: \"▾\";}#sk-container-id-1 div.sk-estimator input.sk-toggleable__control:checked~label.sk-toggleable__label {background-color: #d4ebff;}#sk-container-id-1 div.sk-label input.sk-toggleable__control:checked~label.sk-toggleable__label {background-color: #d4ebff;}#sk-container-id-1 input.sk-hidden--visually {border: 0;clip: rect(1px 1px 1px 1px);clip: rect(1px, 1px, 1px, 1px);height: 1px;margin: -1px;overflow: hidden;padding: 0;position: absolute;width: 1px;}#sk-container-id-1 div.sk-estimator {font-family: monospace;background-color: #f0f8ff;border: 1px dotted black;border-radius: 0.25em;box-sizing: border-box;margin-bottom: 0.5em;}#sk-container-id-1 div.sk-estimator:hover {background-color: #d4ebff;}#sk-container-id-1 div.sk-parallel-item::after {content: \"\";width: 100%;border-bottom: 1px solid gray;flex-grow: 1;}#sk-container-id-1 div.sk-label:hover label.sk-toggleable__label {background-color: #d4ebff;}#sk-container-id-1 div.sk-serial::before {content: \"\";position: absolute;border-left: 1px solid gray;box-sizing: border-box;top: 0;bottom: 0;left: 50%;z-index: 0;}#sk-container-id-1 div.sk-serial {display: flex;flex-direction: column;align-items: center;background-color: white;padding-right: 0.2em;padding-left: 0.2em;position: relative;}#sk-container-id-1 div.sk-item {position: relative;z-index: 1;}#sk-container-id-1 div.sk-parallel {display: flex;align-items: stretch;justify-content: center;background-color: white;position: relative;}#sk-container-id-1 div.sk-item::before, #sk-container-id-1 div.sk-parallel-item::before {content: \"\";position: absolute;border-left: 1px solid gray;box-sizing: border-box;top: 0;bottom: 0;left: 50%;z-index: -1;}#sk-container-id-1 div.sk-parallel-item {display: flex;flex-direction: column;z-index: 1;position: relative;background-color: white;}#sk-container-id-1 div.sk-parallel-item:first-child::after {align-self: flex-end;width: 50%;}#sk-container-id-1 div.sk-parallel-item:last-child::after {align-self: flex-start;width: 50%;}#sk-container-id-1 div.sk-parallel-item:only-child::after {width: 0;}#sk-container-id-1 div.sk-dashed-wrapped {border: 1px dashed gray;margin: 0 0.4em 0.5em 0.4em;box-sizing: border-box;padding-bottom: 0.4em;background-color: white;}#sk-container-id-1 div.sk-label label {font-family: monospace;font-weight: bold;display: inline-block;line-height: 1.2em;}#sk-container-id-1 div.sk-label-container {text-align: center;}#sk-container-id-1 div.sk-container {/* jupyter's `normalize.less` sets `[hidden] { display: none; }` but bootstrap.min.css set `[hidden] { display: none !important; }` so we also need the `!important` here to be able to override the default hidden behavior on the sphinx rendered scikit-learn.org. See: https://github.com/scikit-learn/scikit-learn/issues/21755 */display: inline-block !important;position: relative;}#sk-container-id-1 div.sk-text-repr-fallback {display: none;}</style><div id=\"sk-container-id-1\" class=\"sk-top-container\"><div class=\"sk-text-repr-fallback\"><pre>MLPRegressor(hidden_layer_sizes=[20, 20], max_iter=10000, random_state=1)</pre><b>In a Jupyter environment, please rerun this cell to show the HTML representation or trust the notebook. <br />On GitHub, the HTML representation is unable to render, please try loading this page with nbviewer.org.</b></div><div class=\"sk-container\" hidden><div class=\"sk-item\"><div class=\"sk-estimator sk-toggleable\"><input class=\"sk-toggleable__control sk-hidden--visually\" id=\"sk-estimator-id-1\" type=\"checkbox\" checked><label for=\"sk-estimator-id-1\" class=\"sk-toggleable__label sk-toggleable__label-arrow\">MLPRegressor</label><div class=\"sk-toggleable__content\"><pre>MLPRegressor(hidden_layer_sizes=[20, 20], max_iter=10000, random_state=1)</pre></div></div></div></div></div>"
            ]
          },
          "metadata": {},
          "execution_count": 9
        }
      ],
      "source": [
        "nn = MLPRegressor([20] * 2, max_iter=10000, random_state=1)\n",
        "\n",
        "nn.fit(X, y)"
      ]
    },
    {
      "cell_type": "markdown",
      "metadata": {
        "id": "v3Smnjh3Oytk"
      },
      "source": [
        "We now turn to the optimization model. In the spirit of adversarial\n",
        "machine learning examples, we use some training examples. We pick\n",
        "$n$ training examples randomly. For each of the examples, we want\n",
        "to find an input that is in a small neighborhood of it that leads to the\n",
        "output that is closer to $0$ with the regression.\n",
        "\n",
        "Denoting by $X^E$ our set of examples and by $g$ the\n",
        "prediction function of our regression model, our optimization problem\n",
        "reads:\n",
        "\n",
        "\\begin{align}\\begin{aligned}\n",
        "   &\\min \\sum_{i=1}^n y_i^2 \\\\\n",
        "   &\\text{s.t.:}\\\\\n",
        "   &y_i = g(X_i) & & i = 1, \\ldots, n,\\\\\n",
        "   &X^E - \\delta \\leq X \\leq X^E + \\delta,\\\\\n",
        "   \\end{aligned}\\end{align}\n",
        "\n",
        "where $X$ is a matrix of variables of dimension\n",
        "$n \\times 10$ (the number of examples we consider and number of\n",
        "features in the regression respectively), $y$ is a vector of free\n",
        "(unbounded) variables and $\\delta$ a small positive constant.\n",
        "\n",
        "First, let’s pick randomly 2 training examples using numpy, and create\n",
        "our gurobipy model.\n",
        "\n",
        "\n"
      ]
    },
    {
      "cell_type": "code",
      "execution_count": 10,
      "metadata": {
        "colab": {
          "base_uri": "https://localhost:8080/"
        },
        "id": "wTylMyxxOytk",
        "outputId": "a3566f88-9069-4fee-e369-315174b91c26"
      },
      "outputs": [
        {
          "output_type": "stream",
          "name": "stdout",
          "text": [
            "Restricted license - for non-production use only - expires 2025-11-24\n"
          ]
        }
      ],
      "source": [
        "n = 2\n",
        "index = np.random.choice(X.shape[0], n, replace=False)\n",
        "X_examples = X[index, :]\n",
        "y_examples = y[index]\n",
        "\n",
        "m = gp.Model()"
      ]
    },
    {
      "cell_type": "markdown",
      "metadata": {
        "id": "mwauQkIZOytk"
      },
      "source": [
        "Our only decision variables in this case, are the five inputs and\n",
        "outputs for the regression. We use ``gurobipy.MVar`` matrix variables\n",
        "that are most convenient in this case.\n",
        "\n",
        "The input variables have the same shape as ``X_examples``. Their lower\n",
        "bound is ``X_examples - delta`` and their upper bound\n",
        "``X_examples + delta``.\n",
        "\n",
        "The output variables have the shape of ``y_examples`` and are unbounded.\n",
        "By default, in Gurobi variables are non-negative, we therefore need to\n",
        "set an infinite lower bound.\n",
        "\n",
        "\n"
      ]
    },
    {
      "cell_type": "code",
      "execution_count": 11,
      "metadata": {
        "id": "GYj7qIhmOytl"
      },
      "outputs": [],
      "source": [
        "input_vars = m.addMVar(X_examples.shape, lb=X_examples - 0.2, ub=X_examples + 0.2)\n",
        "output_vars = m.addMVar(y_examples.shape, lb=-gp.GRB.INFINITY)"
      ]
    },
    {
      "cell_type": "markdown",
      "metadata": {
        "id": "siN9FrhxOytl"
      },
      "source": [
        "The constraints linking ``input_vars`` and ``output_vars`` can now be\n",
        "added with the function\n",
        ":func:`add_predictor_constr <gurobi_ml.add_predictor_constr.rst>`.\n",
        "\n",
        "Note that because of the shape of the variables this will add the 5\n",
        "different constraints.\n",
        "\n",
        "The function returns an instance of a :class:`modeling\n",
        "object <gurobi_ml.modeling.base_predictor_constr.AbstractPredictorConstr>`\n",
        "that we can use later on.\n",
        "\n",
        "\n"
      ]
    },
    {
      "cell_type": "code",
      "execution_count": 12,
      "metadata": {
        "id": "b6jvKY0mOytl"
      },
      "outputs": [],
      "source": [
        "pred_constr = add_predictor_constr(m, nn, input_vars, output_vars)"
      ]
    },
    {
      "cell_type": "markdown",
      "metadata": {
        "id": "LrSx6LRNOytl"
      },
      "source": [
        "The method\n",
        ":func:`print_stats <gurobi_ml.modeling.base_predictor_constr.AbstractPredictorConstr.print_stats>`\n",
        "of the modeling object outputs the details of the regression model that\n",
        "was added to the Gurobi.\n",
        "\n",
        "\n"
      ]
    },
    {
      "cell_type": "code",
      "execution_count": 13,
      "metadata": {
        "colab": {
          "base_uri": "https://localhost:8080/"
        },
        "id": "58N39kldOytm",
        "outputId": "3b00db2b-a775-464c-d143-50d271256849"
      },
      "outputs": [
        {
          "output_type": "stream",
          "name": "stdout",
          "text": [
            "Model for mlpregressor:\n",
            "160 variables\n",
            "82 constraints\n",
            "80 general constraints\n",
            "Input has shape (2, 10)\n",
            "Output has shape (2, 1)\n",
            "\n",
            "--------------------------------------------------------------------------------\n",
            "Layer           Output Shape    Variables              Constraints              \n",
            "                                                Linear    Quadratic      General\n",
            "================================================================================\n",
            "dense                (2, 20)           80           40            0           40 (relu)\n",
            "\n",
            "dense0               (2, 20)           80           40            0           40 (relu)\n",
            "\n",
            "dense1                (2, 1)            0            2            0            0\n",
            "\n",
            "--------------------------------------------------------------------------------\n"
          ]
        }
      ],
      "source": [
        "pred_constr.print_stats()"
      ]
    },
    {
      "cell_type": "markdown",
      "metadata": {
        "id": "jwEjKTWkOytm"
      },
      "source": [
        "To finish the model, we set the objective, and then we can optimize it.\n",
        "\n",
        "\n"
      ]
    },
    {
      "cell_type": "code",
      "execution_count": 14,
      "metadata": {
        "colab": {
          "base_uri": "https://localhost:8080/"
        },
        "id": "Kqr3uDH_Oytm",
        "outputId": "38df6c06-3522-4d7c-e7f5-7e45987707da"
      },
      "outputs": [
        {
          "output_type": "stream",
          "name": "stdout",
          "text": [
            "Gurobi Optimizer version 11.0.1 build v11.0.1rc0 (linux64 - \"Ubuntu 22.04.3 LTS\")\n",
            "\n",
            "CPU model: Intel(R) Xeon(R) CPU @ 2.20GHz, instruction set [SSE2|AVX|AVX2]\n",
            "Thread count: 1 physical cores, 2 logical processors, using up to 2 threads\n",
            "\n",
            "Optimize a model with 82 rows, 182 columns and 1322 nonzeros\n",
            "Model fingerprint: 0xa25d70ec\n",
            "Model has 2 quadratic objective terms\n",
            "Model has 80 general constraints\n",
            "Variable types: 182 continuous, 0 integer (0 binary)\n",
            "Coefficient statistics:\n",
            "  Matrix range     [4e-03, 3e+00]\n",
            "  Objective range  [0e+00, 0e+00]\n",
            "  QObjective range [2e+00, 2e+00]\n",
            "  Bounds range     [1e-02, 2e+00]\n",
            "  RHS range        [4e-02, 1e+00]\n",
            "Presolve removed 26 rows and 116 columns\n",
            "Presolve time: 0.05s\n",
            "Presolved: 56 rows, 66 columns, 393 nonzeros\n",
            "Presolved model has 1 quadratic objective terms\n",
            "Variable types: 50 continuous, 16 integer (16 binary)\n",
            "\n",
            "Root relaxation: objective 4.343798e+04, 73 iterations, 0.00 seconds (0.00 work units)\n",
            "\n",
            "    Nodes    |    Current Node    |     Objective Bounds      |     Work\n",
            " Expl Unexpl |  Obj  Depth IntInf | Incumbent    BestBd   Gap | It/Node Time\n",
            "\n",
            "     0     0 43437.9798    0    9          - 43437.9798      -     -    0s\n",
            "H    0     0                    43437.979804 43437.9798  0.00%     -    0s\n",
            "\n",
            "Explored 1 nodes (73 simplex iterations) in 0.09 seconds (0.01 work units)\n",
            "Thread count was 2 (of 2 available processors)\n",
            "\n",
            "Solution count 1: 43438 \n",
            "\n",
            "Optimal solution found (tolerance 1.00e-04)\n",
            "Best objective 4.343797980401e+04, best bound 4.343797980401e+04, gap 0.0000%\n"
          ]
        }
      ],
      "source": [
        "m.setObjective(output_vars @ output_vars, gp.GRB.MINIMIZE)\n",
        "\n",
        "m.optimize()"
      ]
    },
    {
      "cell_type": "markdown",
      "metadata": {
        "id": "t_7j5-QpOytm"
      },
      "source": [
        "The method\n",
        ":func:`get_error <gurobi_ml.modeling.base_predictor_constr.AbstractPredictorConstr.get_error>`\n",
        "is useful to check that the solution computed by Gurobi is correct with\n",
        "respect to the regression model we use.\n",
        "\n",
        "Let $(\\bar X, \\bar y)$ be the values of the input and output\n",
        "variables in the computed solution. The function returns\n",
        "$g(\\bar X) - y$ using the original regression object.\n",
        "\n",
        "Normally, all values should be small and below Gurobi’s tolerances in this example.\n",
        "\n",
        "\n"
      ]
    },
    {
      "cell_type": "code",
      "execution_count": 15,
      "metadata": {
        "colab": {
          "base_uri": "https://localhost:8080/"
        },
        "id": "71KqX6aROytm",
        "outputId": "27739534-8bab-47bd-c9ab-9ef6061d2b28"
      },
      "outputs": [
        {
          "output_type": "execute_result",
          "data": {
            "text/plain": [
              "array([[5.68434189e-14],\n",
              "       [2.10942375e-15]])"
            ]
          },
          "metadata": {},
          "execution_count": 15
        }
      ],
      "source": [
        "pred_constr.get_error()"
      ]
    },
    {
      "cell_type": "markdown",
      "metadata": {
        "id": "pk-s1Bt_Oytm"
      },
      "source": [
        "We can look at the computed values for the output variables and compare\n",
        "them with the original target values.\n",
        "\n",
        "\n"
      ]
    },
    {
      "cell_type": "code",
      "execution_count": 16,
      "metadata": {
        "colab": {
          "base_uri": "https://localhost:8080/"
        },
        "id": "xGmUuYRIOytm",
        "outputId": "78604ec7-b3b2-47fc-dcec-46f79c56f22d"
      },
      "outputs": [
        {
          "output_type": "stream",
          "name": "stdout",
          "text": [
            "Computed values\n",
            "[208.41780107   0.        ]\n"
          ]
        }
      ],
      "source": [
        "print(\"Computed values\")\n",
        "print(pred_constr.output_values.flatten())"
      ]
    },
    {
      "cell_type": "code",
      "execution_count": 17,
      "metadata": {
        "colab": {
          "base_uri": "https://localhost:8080/"
        },
        "id": "a5m7F4epOytn",
        "outputId": "43491b92-dbba-4f0f-d138-c226ee1eb610"
      },
      "outputs": [
        {
          "output_type": "stream",
          "name": "stdout",
          "text": [
            "Original values\n",
            "[288.07664021 -35.1215552 ]\n"
          ]
        }
      ],
      "source": [
        "print(\"Original values\")\n",
        "print(y_examples)"
      ]
    },
    {
      "cell_type": "markdown",
      "metadata": {
        "id": "cZOxjBeBOytn"
      },
      "source": [
        "Finally, we can remove ``pred_constr`` with the method\n",
        ":func:`remove() <gurobi_ml.modeling.base_predictor_constr.AbstractPredictorConstr.remove>`.\n",
        "\n",
        "\n"
      ]
    },
    {
      "cell_type": "code",
      "execution_count": 18,
      "metadata": {
        "id": "Xgb2IDnqOytn"
      },
      "outputs": [],
      "source": [
        "pred_constr.remove()"
      ]
    }
  ],
  "metadata": {
    "kernelspec": {
      "display_name": "Python 3",
      "language": "python",
      "name": "python3"
    },
    "language_info": {
      "codemirror_mode": {
        "name": "ipython",
        "version": 3
      },
      "file_extension": ".py",
      "mimetype": "text/x-python",
      "name": "python",
      "nbconvert_exporter": "python",
      "pygments_lexer": "ipython3",
      "version": "3.9.18"
    },
    "colab": {
      "provenance": [],
      "include_colab_link": true
    }
  },
  "nbformat": 4,
  "nbformat_minor": 0
}
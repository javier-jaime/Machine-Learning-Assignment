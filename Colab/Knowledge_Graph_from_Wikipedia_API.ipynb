{
  "nbformat": 4,
  "nbformat_minor": 0,
  "metadata": {
    "colab": {
      "name": "Knowledge_Graph_from_Wikipedia-API.ipynb",
      "provenance": [],
      "collapsed_sections": [],
      "authorship_tag": "ABX9TyOpsJwUIZksC6PvJWFYuHB+",
      "include_colab_link": true
    },
    "kernelspec": {
      "name": "python3",
      "display_name": "Python 3"
    },
    "language_info": {
      "name": "python"
    }
  },
  "cells": [
    {
      "cell_type": "markdown",
      "metadata": {
        "id": "view-in-github",
        "colab_type": "text"
      },
      "source": [
        "<a href=\"https://colab.research.google.com/github/javier-jaime/Tool-Crib/blob/master/Colab/Knowledge_Graph_from_Wikipedia_API.ipynb\" target=\"_parent\"><img src=\"https://colab.research.google.com/assets/colab-badge.svg\" alt=\"Open In Colab\"/></a>"
      ]
    },
    {
      "cell_type": "markdown",
      "source": [
        "## Install dependencies and Scrape data"
      ],
      "metadata": {
        "id": "FU1V8YPLbPYC"
      }
    },
    {
      "cell_type": "code",
      "execution_count": 43,
      "metadata": {
        "id": "PO0dJ3570Lc3",
        "colab": {
          "base_uri": "https://localhost:8080/"
        },
        "outputId": "f29d1966-abcd-4caa-ec0b-2f1593e03791"
      },
      "outputs": [
        {
          "output_type": "stream",
          "name": "stdout",
          "text": [
            "Requirement already satisfied: wikipedia-api in /usr/local/lib/python3.7/dist-packages (0.5.4)\n",
            "Requirement already satisfied: pandas in /usr/local/lib/python3.7/dist-packages (1.3.5)\n",
            "Requirement already satisfied: spacy in /usr/local/lib/python3.7/dist-packages (2.2.4)\n",
            "Requirement already satisfied: networkx in /usr/local/lib/python3.7/dist-packages (2.6.3)\n",
            "Requirement already satisfied: scipy in /usr/local/lib/python3.7/dist-packages (1.4.1)\n",
            "Requirement already satisfied: requests in /usr/local/lib/python3.7/dist-packages (from wikipedia-api) (2.23.0)\n",
            "Requirement already satisfied: python-dateutil>=2.7.3 in /usr/local/lib/python3.7/dist-packages (from pandas) (2.8.2)\n",
            "Requirement already satisfied: numpy>=1.17.3 in /usr/local/lib/python3.7/dist-packages (from pandas) (1.21.6)\n",
            "Requirement already satisfied: pytz>=2017.3 in /usr/local/lib/python3.7/dist-packages (from pandas) (2022.1)\n",
            "Requirement already satisfied: six>=1.5 in /usr/local/lib/python3.7/dist-packages (from python-dateutil>=2.7.3->pandas) (1.15.0)\n",
            "Requirement already satisfied: tqdm<5.0.0,>=4.38.0 in /usr/local/lib/python3.7/dist-packages (from spacy) (4.64.0)\n",
            "Requirement already satisfied: srsly<1.1.0,>=1.0.2 in /usr/local/lib/python3.7/dist-packages (from spacy) (1.0.5)\n",
            "Requirement already satisfied: murmurhash<1.1.0,>=0.28.0 in /usr/local/lib/python3.7/dist-packages (from spacy) (1.0.7)\n",
            "Requirement already satisfied: setuptools in /usr/local/lib/python3.7/dist-packages (from spacy) (57.4.0)\n",
            "Requirement already satisfied: thinc==7.4.0 in /usr/local/lib/python3.7/dist-packages (from spacy) (7.4.0)\n",
            "Requirement already satisfied: cymem<2.1.0,>=2.0.2 in /usr/local/lib/python3.7/dist-packages (from spacy) (2.0.6)\n",
            "Requirement already satisfied: preshed<3.1.0,>=3.0.2 in /usr/local/lib/python3.7/dist-packages (from spacy) (3.0.6)\n",
            "Requirement already satisfied: plac<1.2.0,>=0.9.6 in /usr/local/lib/python3.7/dist-packages (from spacy) (1.1.3)\n",
            "Requirement already satisfied: wasabi<1.1.0,>=0.4.0 in /usr/local/lib/python3.7/dist-packages (from spacy) (0.9.1)\n",
            "Requirement already satisfied: blis<0.5.0,>=0.4.0 in /usr/local/lib/python3.7/dist-packages (from spacy) (0.4.1)\n",
            "Requirement already satisfied: catalogue<1.1.0,>=0.0.7 in /usr/local/lib/python3.7/dist-packages (from spacy) (1.0.0)\n",
            "Requirement already satisfied: importlib-metadata>=0.20 in /usr/local/lib/python3.7/dist-packages (from catalogue<1.1.0,>=0.0.7->spacy) (4.11.3)\n",
            "Requirement already satisfied: typing-extensions>=3.6.4 in /usr/local/lib/python3.7/dist-packages (from importlib-metadata>=0.20->catalogue<1.1.0,>=0.0.7->spacy) (4.2.0)\n",
            "Requirement already satisfied: zipp>=0.5 in /usr/local/lib/python3.7/dist-packages (from importlib-metadata>=0.20->catalogue<1.1.0,>=0.0.7->spacy) (3.8.0)\n",
            "Requirement already satisfied: urllib3!=1.25.0,!=1.25.1,<1.26,>=1.21.1 in /usr/local/lib/python3.7/dist-packages (from requests->wikipedia-api) (1.25.11)\n",
            "Requirement already satisfied: certifi>=2017.4.17 in /usr/local/lib/python3.7/dist-packages (from requests->wikipedia-api) (2021.10.8)\n",
            "Requirement already satisfied: idna<3,>=2.5 in /usr/local/lib/python3.7/dist-packages (from requests->wikipedia-api) (2.10)\n",
            "Requirement already satisfied: chardet<4,>=3.0.2 in /usr/local/lib/python3.7/dist-packages (from requests->wikipedia-api) (3.0.4)\n",
            "Collecting en_core_web_sm==2.2.5\n",
            "  Downloading https://github.com/explosion/spacy-models/releases/download/en_core_web_sm-2.2.5/en_core_web_sm-2.2.5.tar.gz (12.0 MB)\n",
            "\u001b[K     |████████████████████████████████| 12.0 MB 4.3 MB/s \n",
            "\u001b[?25hRequirement already satisfied: spacy>=2.2.2 in /usr/local/lib/python3.7/dist-packages (from en_core_web_sm==2.2.5) (2.2.4)\n",
            "Requirement already satisfied: plac<1.2.0,>=0.9.6 in /usr/local/lib/python3.7/dist-packages (from spacy>=2.2.2->en_core_web_sm==2.2.5) (1.1.3)\n",
            "Requirement already satisfied: wasabi<1.1.0,>=0.4.0 in /usr/local/lib/python3.7/dist-packages (from spacy>=2.2.2->en_core_web_sm==2.2.5) (0.9.1)\n",
            "Requirement already satisfied: srsly<1.1.0,>=1.0.2 in /usr/local/lib/python3.7/dist-packages (from spacy>=2.2.2->en_core_web_sm==2.2.5) (1.0.5)\n",
            "Requirement already satisfied: requests<3.0.0,>=2.13.0 in /usr/local/lib/python3.7/dist-packages (from spacy>=2.2.2->en_core_web_sm==2.2.5) (2.23.0)\n",
            "Requirement already satisfied: thinc==7.4.0 in /usr/local/lib/python3.7/dist-packages (from spacy>=2.2.2->en_core_web_sm==2.2.5) (7.4.0)\n",
            "Requirement already satisfied: setuptools in /usr/local/lib/python3.7/dist-packages (from spacy>=2.2.2->en_core_web_sm==2.2.5) (57.4.0)\n",
            "Requirement already satisfied: blis<0.5.0,>=0.4.0 in /usr/local/lib/python3.7/dist-packages (from spacy>=2.2.2->en_core_web_sm==2.2.5) (0.4.1)\n",
            "Requirement already satisfied: preshed<3.1.0,>=3.0.2 in /usr/local/lib/python3.7/dist-packages (from spacy>=2.2.2->en_core_web_sm==2.2.5) (3.0.6)\n",
            "Requirement already satisfied: tqdm<5.0.0,>=4.38.0 in /usr/local/lib/python3.7/dist-packages (from spacy>=2.2.2->en_core_web_sm==2.2.5) (4.64.0)\n",
            "Requirement already satisfied: murmurhash<1.1.0,>=0.28.0 in /usr/local/lib/python3.7/dist-packages (from spacy>=2.2.2->en_core_web_sm==2.2.5) (1.0.7)\n",
            "Requirement already satisfied: cymem<2.1.0,>=2.0.2 in /usr/local/lib/python3.7/dist-packages (from spacy>=2.2.2->en_core_web_sm==2.2.5) (2.0.6)\n",
            "Requirement already satisfied: catalogue<1.1.0,>=0.0.7 in /usr/local/lib/python3.7/dist-packages (from spacy>=2.2.2->en_core_web_sm==2.2.5) (1.0.0)\n",
            "Requirement already satisfied: numpy>=1.15.0 in /usr/local/lib/python3.7/dist-packages (from spacy>=2.2.2->en_core_web_sm==2.2.5) (1.21.6)\n",
            "Requirement already satisfied: importlib-metadata>=0.20 in /usr/local/lib/python3.7/dist-packages (from catalogue<1.1.0,>=0.0.7->spacy>=2.2.2->en_core_web_sm==2.2.5) (4.11.3)\n",
            "Requirement already satisfied: zipp>=0.5 in /usr/local/lib/python3.7/dist-packages (from importlib-metadata>=0.20->catalogue<1.1.0,>=0.0.7->spacy>=2.2.2->en_core_web_sm==2.2.5) (3.8.0)\n",
            "Requirement already satisfied: typing-extensions>=3.6.4 in /usr/local/lib/python3.7/dist-packages (from importlib-metadata>=0.20->catalogue<1.1.0,>=0.0.7->spacy>=2.2.2->en_core_web_sm==2.2.5) (4.2.0)\n",
            "Requirement already satisfied: idna<3,>=2.5 in /usr/local/lib/python3.7/dist-packages (from requests<3.0.0,>=2.13.0->spacy>=2.2.2->en_core_web_sm==2.2.5) (2.10)\n",
            "Requirement already satisfied: urllib3!=1.25.0,!=1.25.1,<1.26,>=1.21.1 in /usr/local/lib/python3.7/dist-packages (from requests<3.0.0,>=2.13.0->spacy>=2.2.2->en_core_web_sm==2.2.5) (1.25.11)\n",
            "Requirement already satisfied: certifi>=2017.4.17 in /usr/local/lib/python3.7/dist-packages (from requests<3.0.0,>=2.13.0->spacy>=2.2.2->en_core_web_sm==2.2.5) (2021.10.8)\n",
            "Requirement already satisfied: chardet<4,>=3.0.2 in /usr/local/lib/python3.7/dist-packages (from requests<3.0.0,>=2.13.0->spacy>=2.2.2->en_core_web_sm==2.2.5) (3.0.4)\n",
            "\u001b[38;5;2m✔ Download and installation successful\u001b[0m\n",
            "You can now load the model via spacy.load('en_core_web_sm')\n",
            "\u001b[38;5;2m✔ Linking successful\u001b[0m\n",
            "/usr/local/lib/python3.7/dist-packages/en_core_web_sm -->\n",
            "/usr/local/lib/python3.7/dist-packages/spacy/data/en\n",
            "You can now load the model via spacy.load('en')\n"
          ]
        }
      ],
      "source": [
        "!pip install wikipedia-api spacy networkx scipy\n",
        "\n",
        "import wikipediaapi  # pip install wikipedia-api\n",
        "import pandas as pd\n",
        "import concurrent.futures\n",
        "import requests\n",
        "from tqdm import tqdm\n",
        "import spacy\n",
        "from spacy import displacy\n",
        "\n",
        "# import en_core_web_sm\n",
        "!python -m spacy download en \n",
        "nlp = spacy.load('en_core_web_sm')\n",
        " \n",
        "from spacy.tokens import Span\n",
        "from spacy.matcher import Matcher\n",
        " \n",
        "import matplotlib.pyplot as plot\n",
        "import networkx as ntx\n",
        " \n",
        "%matplotlib inline"
      ]
    },
    {
      "cell_type": "code",
      "source": [
        "# function that fetch wikipedia articles based on the topic provided\n",
        "\n",
        "def scrape_wikipedia(name_topic, verbose=True):\n",
        "   def link_to_wikipedia(link):\n",
        "       try:\n",
        "           page = api_wikipedia.page(link)\n",
        "           if page.exists():\n",
        "               return {'page': link, 'text': page.text, 'link': page.fullurl, 'categories': list(page.categories.keys())}\n",
        "       except:\n",
        "           return None\n",
        "      \n",
        "   api_wikipedia = wikipediaapi.Wikipedia(language='en', extract_format=wikipediaapi.ExtractFormat.WIKI)\n",
        "   name_of_page = api_wikipedia.page(name_topic)\n",
        "   if not name_of_page.exists():\n",
        "       print('Page {} is not present'.format(name_of_page))\n",
        "       return\n",
        "  \n",
        "   links_to_page = list(name_of_page.links.keys())\n",
        "   procceed = tqdm(desc='Scraped links', unit='', total=len(links_to_page)) if verbose else None\n",
        "   origin = [{'page': name_topic, 'text': name_of_page.text, 'link': name_of_page.fullurl, 'categories': list(name_of_page.categories.keys())}]\n",
        "  \n",
        "   with concurrent.futures.ThreadPoolExecutor(max_workers=5) as executor:\n",
        "       links_future = {executor.submit(link_to_wikipedia, link): link for link in links_to_page}\n",
        "       for future in concurrent.futures.as_completed(links_future):\n",
        "           info = future.result()\n",
        "           origin.append(info) if info else None\n",
        "           procceed.update(1) if verbose else None\n",
        "   procceed.close() if verbose else None\n",
        "  \n",
        "   namespaces = ('Wikipedia', 'Special', 'Talk', 'LyricWiki', 'File', 'MediaWiki',\n",
        "                 'Template', 'Help', 'User', 'Category talk', 'Portal talk')\n",
        "   origin = pd.DataFrame(origin)\n",
        "   origin = origin[(len(origin['text']) > 20)\n",
        "                     & ~(origin['page'].str.startswith(namespaces, na=True))]\n",
        "   origin['categories'] = origin.categories.apply(lambda a: [b[9:] for b in a])\n",
        "\n",
        "   origin['topic'] = name_topic\n",
        "   print('Scraped pages', len(origin))\n",
        "  \n",
        "   return origin"
      ],
      "metadata": {
        "id": "9NJ2jmp61NK1"
      },
      "execution_count": 47,
      "outputs": []
    },
    {
      "cell_type": "code",
      "source": [
        "# Test the function on a topic\n",
        "\n",
        "topic = 'COVID-19'\n",
        "\n",
        "data = scrape_wikipedia(topic)"
      ],
      "metadata": {
        "colab": {
          "base_uri": "https://localhost:8080/"
        },
        "id": "nnjvCfkkNmD4",
        "outputId": "018da221-9a1c-4312-e0e1-a7d186dc5e2c"
      },
      "execution_count": 70,
      "outputs": [
        {
          "output_type": "stream",
          "name": "stderr",
          "text": [
            "Scraped links: 100%|██████████| 2358/2358 [01:13<00:00, 32.04/s]"
          ]
        },
        {
          "output_type": "stream",
          "name": "stdout",
          "text": [
            "Scraped pages 211\n"
          ]
        },
        {
          "output_type": "stream",
          "name": "stderr",
          "text": [
            "\n"
          ]
        }
      ]
    },
    {
      "cell_type": "code",
      "source": [
        "# Save the date to csv\n",
        "data.to_csv('scraped_data.csv')"
      ],
      "metadata": {
        "id": "L2G8qZYNN-Hf"
      },
      "execution_count": 71,
      "outputs": []
    },
    {
      "cell_type": "code",
      "source": [
        "data['text'][10]"
      ],
      "metadata": {
        "colab": {
          "base_uri": "https://localhost:8080/",
          "height": 157
        },
        "id": "GXcD3R_fWVA8",
        "outputId": "15751ca5-25c0-4700-8e73-f4deac373ec8"
      },
      "execution_count": 72,
      "outputs": [
        {
          "output_type": "execute_result",
          "data": {
            "text/plain": [
              "'On 20 February 2020, stock markets across the world suddenly crashed after growing instability due to the COVID-19 pandemic. It ended on 7 April 2020.\\nBeginning on 13 May 2019, the yield curve on U.S. Treasury securities inverted, and remained so until 11 October 2019, when it reverted to normal. Through 2019, while some economists (including Campbell Harvey and former New York Federal Reserve economist Arturo Estrella) argued that a recession in the following year was likely, other economists (including the managing director of Wells Fargo Securities Michael Schumacher and San Francisco Federal Reserve President Mary C. Daly) argued that inverted yield curves may no longer be a reliable recession predictor. The yield curve on U.S. Treasuries would not invert again until 30 January 2020 when the World Health Organization declared the COVID-19 outbreak to be a Public Health Emergency of International Concern, four weeks after local health commission officials in Wuhan, China announced the first 27 COVID-19 cases as a viral pneumonia strain outbreak on 1 January.The curve did not return to normal until 3 March when the Federal Open Market Committee (FOMC) lowered the federal funds rate target by 50 basis points. In noting decisions by the FOMC to cut the federal funds rate by 25 basis points three times between 31 July and 30 October 2019, on 25 February 2020, former U.S. Under Secretary of the Treasury for International Affairs Nathan Sheets suggested that the attention of the Federal Reserve to the inversion of the yield curve in the U.S. Treasuries market when setting monetary policy may be having the perverse effect of making inverted yield curves less predictive of recessions.During 2019, the IMF reported that the world economy was going through a \\'synchronized slowdown\\', which entered into its slowest pace since the Great Recession. Weakness was exhibited in the consumer market as global markets began to suffer through a \\'sharp deterioration\\' of manufacturing activity. Global growth was believed to have peaked in 2017, when the world\\'s total industrial sector output began to start a sustained decline in early 2018. The IMF blamed \\'heightened trade and geopolitical tensions\\' as the main reason for the slowdown, citing Brexit and the China – United States trade war as primary reasons for slowdown in 2019, while other economists blamed liquidity issues.The crash caused a short-lived bear market, and in April 2020 global stock markets re-entered a bull market, though U.S. market indices did not return to January 2020 levels until November 2020. The crash signaled the beginning of the COVID-19 recession. The 2020 stock market crash followed a decade of economic prosperity and sustained global growth after recovery from the Great Recession. Global unemployment was at its lowest in history, whilst quality of life was generally improving across the world. However, in 2020, the COVID-19 pandemic, the most impactful pandemic since the Spanish flu, began decimating the economy. Global economic shutdowns occurred due to the pandemic, and panic buying and supply disruptions exacerbated the market. The International Monetary Fund had pointed to other mitigating factors seen pre-pandemic, such as a global synchronized slowdown in 2019, as exacerbants to the crash, especially given that the market was already vulnerable.\\n\\nCrash\\nThough the crash began on 20 February, selling was intensified during the first half of March to mid-March. During the crash, there were multiple severe daily drops in the global stock market, the largest drop was on 16 March, nicknamed \\'Black Monday II\\' of 12–13% in most global markets. There were two other significant dates of crashes in the stock markets, one being 9 March, nicknamed \\'Black Monday I\\', and on 12 March, nicknamed \\'Black Thursday\\'. To deal with the panic, banks and reserves across the world cut their interest rates, bank rates and cash flow rates, as well as offering unprecedented support to investors and markets.\\n\\n17–21 February\\nOn Monday, 17 February 2020, Asia-Pacific stock markets closed down but European stock markets closed up, while U.S. stock markets were closed in observance of Presidents Day. Oil prices fell, while the yield on 10-year U.S. Treasury securities fell to 1.59%. On 18 February, Asia-Pacific stock markets closed up, while European stock markets, the Dow Jones Industrial Average, NASDAQ Composite, and S&P 500 all closed down. Oil prices rose by more than 2%, while the yields on 10-year and 30-year U.S. Treasury securities fell to 1.54% and 1.99%. Singaporean Finance Minister Heng Swee Keat announced a $4.5 billion fiscal stimulus program. On 19 February, Asia-Pacific and European stock markets closed mostly up, while the Dow Jones Industrial Average finished up and the NASDAQ Composite and the S&P 500 finished at record highs. Oil prices rose by another 2%, while yields on 10-year and 30-year U.S. Treasury securities fell to 1.56% and 2.00% respectively. The People\\'s Bank of China and the Central Bank of the Republic of Turkey cut their repo rates by 10 and 50 basis points respectively, while the Central Bank of Argentina cut its bank rate by 400 basis points.On 20 February, stock markets worldwide closed mostly down, while oil prices fell by 1% and yields on 10-year and 30-year U.S. Treasury securities fell to 1.51% and 1.96% respectively. Bank Indonesia cut its overnight rate by 25 basis points, while the Central Bank of Brazil announced it would cut its reserve requirement on 16 March from 31% to 25%, which is expected to release R$135 billion (or $29 billion) into the money supply. On 21 February, stock markets worldwide closed down on the day (with the Dow Jones Industrial Average, the NASDAQ Composite, and S&P 500 closing down on the week), while oil prices fell and yields on 10-year and 30-year U.S. Treasury securities fell to 1.45% and 1.89% respectively (with the 30-year finish being an all-time low).\\n\\n24–28 February\\nOn Monday, 24 February 2020, the Dow Jones Industrial Average and FTSE 100 dropped more than 3% as the coronavirus outbreak spread worsened substantially outside China over the weekend. This follows benchmark indices falling sharply in continental Europe after steep declines across Asia. The DAX, CAC 40 and IBEX 35 each fell by about 4% and the FTSE MIB fell over 5%. There was a large fall in the price of oil and a large increase in the price of gold, to a 7-year high. Yields on 10-year and 30-year U.S. Treasury securities fell to 1.36% and 1.81% respectively. On 25 February, stock markets worldwide closed down, while oil prices fell to their lowest level in more than a year and the yields on 10-year and 30-year U.S. Treasury securities fell to new record lows of 1.31% and 1.80% respectively. Indonesian Finance Minister Sri Mulyani announced a $742 million fiscal stimulus program.On 26 February, stock markets worldwide finish with mixed records, while oil prices fell for the fourth session in a row while the yields on 10-year and 30-year U.S. Treasury securities fell 1.30% and 1.80% respectively. The Bank of Korea declined to cut its overnight rate. On 27 February, due to mounting worries about the COVID-19 pandemic, stock markets in Asia-Pacific and Europe saw 3–5% declines, with the NASDAQ-100, the S&P 500, and the Dow Jones Industrial Average posting their sharpest falls since 2008 (and the Dow falling 1,191 points, its largest one-day drop since the financial crisis of 2007–2008). Oil prices sank to their lowest level in over a year, while yields on 10-year and 30-year U.S. Treasury securities fell to 1.28% and 1.77% respectively. European Central Bank President Christine Lagarde indicated that while the European Central Bank was monitoring the outbreak, it was not yet causing a long-term impact on inflation and thus did not yet require a monetary policy response.On 28 February, stock markets worldwide reported their largest single-week declines since the financial crisis of 2007–2008, while oil futures saw their largest single week decline since 2009 and the yields on 10-year and 30-year U.S. Treasury securities fell to new record lows at 1.12% and 1.30% respectively. Outgoing Bank of England Governor Mark Carney stated that the British economy (which saw stagnation and car manufacturing declines in the 4th quarter of 2019) was being impacted by the outbreak because it relies heavily on tourism revenues and international manufacturing supply lines. Federal Reserve Chair Jerome Powell stated that the outbreak was posing \"evolving risks to economic activity\" and that the Federal Reserve would use monetary policy to \"act as appropriate to support the economy\" but that \"The fundamentals of the U.S. economy remain strong.\" Outgoing Malaysian Prime Minister Mahathir Mohamad announced a RM20 billion fiscal stimulus package.Ultimately, from 24 to 28 February, stock markets globally plummeted several percentage points, while on Wall Street the indices were down at least 10%. It was the fastest correction in market history from all-time high, taking merely six days to enter into correction territory. The sudden drop in late February was attributed to fears that China could produce a global economic shock, primarily due to quarantines imposed by the state to combat the COVID-19 pandemic, which at the time was classified as an epidemic. Within weeks, stocks fell sufficiently enough to enter bear market territory. Concerning reports of the viruses spread in South Korea, Italy and Iran also prompted fear in investors, mounting to a mass sell-off in Asia-Pacific stock markets as well as European ones.\\n\\n2–6 March\\nOver the preceding weekend, Bank of Japan Governor Haruhiko Kuroda stated that the Bank of Japan would \"strive to stabilise markets and offer sufficient liquidity via market operations and asset purchases\", and the Bank of Japan subsequently announced that it would repurchase up to ¥500 billion ($4.6 billion) worth of government bonds. On Monday 2 March, European and Asia-Pacific stock markets mostly ended the previous week\\'s consecutive daily losses, while in the United States, the S&P 500 gained 3.9%, the NASDAQ Composite gained 3.7%, and the Dow Jones Industrial Average finished 1,126 points up (or 4.4%; its largest one-day gain since 2009). Oil futures saw their largest daily gain of 2020, while yields on 10-year and 30-year U.S. Treasury securities fell to 1.03% and 1.62% respectively.On 3 March, the finance ministers and central bank executives of the G7 countries released a joint statement to \"reaffirm our commitment to use all appropriate policy tools\" to address the socioeconomic impact of the outbreak including \"fiscal measures where appropriate\" with the central banks continuing to \"fulfill their mandates, thus supporting price stability and economic growth.\" On the same day, the Reserve Bank of Australia and the Central Bank of Malaysia announced overnight rate cuts of 25 basis points (which brought the Australian rate to its lowest level in history), Bank Indonesia announced it would cut its reserve requirement from 8 to 4 percent starting on 16 March, while the People\\'s Bank of China declined to conduct open market operations. South Korean Finance Minister Hong Nam-ki announced a ₩11.7 trillion ($9.8 billion) fiscal stimulus program.Also on 3 March, due to the Bank of Mexico declining to cut its overnight rate further, Mexican Finance Minister Arturo Herrera Gutiérrez announced a fiscal stimulus program to accelerate government spending. The Federal Open Market Committee lowered the federal funds rate target by 50 basis points with Federal Reserve Chair Powell stating that the central bank \"saw a risk to the outlook for the economy and chose to act\" and that \"the magnitude and persistence of the overall effect [of the outbreak] on the U.S. economy remain highly uncertain\". At the close of trading on 3 March, European and Asia-Pacific stock markets had mostly risen, but the S&P 500, the NASDAQ Composite, and the Dow Jones Industrial Average all fell (with the Dow reversing more than two-thirds of the previous day\\'s gain). Oil futures rose and the yield on 10-year and 30-year U.S. Treasury securities fell to record lows of 0.91% and 1.60% respectively (with the fall below 1% on the 10-year securities occurring for the first time in history).On 4 March, Asia-Pacific and European stock markets continued mostly rising (with the KOSPI alone rising by 2%), while the S&P 500 rose by 4.2%, the NASDAQ Composite rose by 3.8%, and the Dow Jones Industrial Average reversed the previous day\\'s loss by rising by 1,173 points (or 4.5%). However, oil futures fell and the yield on 10-year and 30-year U.S. Treasury securities finished at 0.99% and 1.64% respectively. The Bank of Canada and the Saudi Arabian Monetary Authority announced 50 basis point cuts to their overnight and repo rates respectively, International Monetary Fund managing director Kristalina Georgieva announced a $50 billion emergency credit-line program to assist low-income and emerging market countries with policy responses to the epidemic, and the Central Bank of Brazil announced that it would auction up to $1 billion in foreign exchange swaps.On 5 March, Asia-Pacific stock markets continued rising while European stock markets closed down. The S&P 500, the NASDAQ Composite, and Dow Jones Industrial Average all fell by more than 3%. Oil futures rose following reports of OPEC agreeing to production cuts with Russia, while the yields on 10-year and 30-year U.S. Treasury securities fell to 0.91% and 1.54% respectively. The Central Bank of Argentina cut its bank rate by an additional 200 basis points, and after declining to cut its overnight rate on 27 February, the Bank of Korea renewed a currency swap agreement with Bank Indonesia. On 6 March, stock markets worldwide closed down (although the Dow Jones Industrial Average, NASDAQ Composite, and S&P 500 closed up on the week). Oil prices fell by 9% (the largest one-day price drop in 11 years), while the yields on 10-year and 30-year U.S. Treasury securities fell to new record lows under 0.71% and 1.22% respectively. U.S. President Donald Trump signed into law an emergency appropriations and pandemic countermeasures bill including $8.3 billion in government spending.\\n\\nRussia–Saudi Arabia oil price war\\nThe reduction in the demand for travel and the lack of factory activity due to the COVID-19 pandemic significantly impacted demand for oil, causing its price to fall. In mid-February, the International Energy Agency forecast that oil demand growth in 2020 would be the smallest since 2011. Chinese demand slump resulted in a meeting of the Organization of the Petroleum Exporting Countries (OPEC) to discuss a potential cut in production to balance the loss in demand. The cartel initially made a tentative agreement to cut oil production by 1.5 million barrels per day following a meeting in Vienna on 5 March 2020, which would bring production levels to the lowest since the Iraq War.After OPEC and Russia failed to agree on oil production cuts on 6 March and Saudi Arabia and Russia both announced increases in oil production on 7 March, oil prices fell by 25 percent. On 8 March, Saudi Arabia unexpectedly announced that it would increase production of crude oil and sell it at a discount (of $6–8 a barrel) to customers in Asia, the US, and Europe, following the breakdown of negotiations as Russia resisted calls to cut production. The biggest discounts targeted Russian oil customers in northwestern Europe.Prior to the announcement, the price of oil had gone down by more than 30% since the start of the year, and upon Saudi Arabia\\'s announcement it dropped a further 30 percent, though later recovered somewhat. Brent Crude, used to price two-thirds of the world\\'s crude oil supplies, experienced the largest drop since the 1991 Gulf War on the night of 8 March. Also, the price of West Texas Intermediate fell to its lowest level since February 2016. Former George W. Bush administration energy policy advisor Bob McNally noted, \"This is the first time since 1930 and \\'31 that a massive negative demand shock has coincided with a supply shock;\" in that case it was the Smoot–Hawley Tariff Act precipitating a collapse in international trade during the Great Depression, coinciding with discovery of the East Texas Oil Field during the Texas oil boom. Fears of the Russian–Saudi Arabian oil price war caused a plunge in U.S. stocks, and have had a particular impact on American producers of shale oil.\\n\\n9–13 March\\nBlack Monday I (9 March)\\nCrash\\nPrior to opening, the Dow Jones Industrial Average futures market experienced a 1,300-point drop based on the coronavirus and fall in the oil price described above, triggering a trading curb, or circuit breaker, that caused the futures market to suspend trading for 15 minutes. Over the previous weekend, on 8 March, the TA-35 and TA-125 Indices of the Tel Aviv Stock Exchange fell by 4.5% and 4.7% respectively, entering bear markets from their 19 February peaks.The United States\\' Dow Jones Industrial Average lost more than 2000 points, described by The News International as \"the biggest ever fall in intraday trading.\" The Dow Jones Industrial Average hit a number of trading \"circuit breakers\" to curb panicked selling. Oil firms Chevron and ExxonMobil fell about 15%. The NASDAQ Composite, also in the United States, lost over 620 points. The S&P 500 fell by 7.6%. Oil prices fell 22%, and the yields on 10-year and 30-year U.S. Treasury securities fell below 0.40% and 1.02% respectively. Canada\\'s S&P/TSX Composite Index finished the day off by more than 10%. Brazil\\'s IBOVESPA gave up 12%, erasing over 15 months of gains for the index. Australia\\'s ASX 200 lost 7.3% – its biggest daily drop since 2008, though it rebounded later in the day. London\\'s FTSE 100 lost 7.7%, suffering its worst drop since the financial crisis of 2007–2008. BP and Shell Oil experienced intraday price drops of nearly 20% The FTSE MIB, CAC 40, and DAX tanked as well, with Italy affected the most as the COVID-19 pandemic in the country continues. They fell 11.2%, 8.4%, and 7.9% respectively. The STOXX Europe 600 fell to more than 20% below its peak earlier in the year.In a number of Asian markets—Japan, Singapore, the Philippines, and Indonesia—shares declined over 20% from their most recent peaks, entering bear market territory. In Japan, the Nikkei 225 plummeted 5.1%. In Singapore, the Straits Times Index fell 6.03%. In China, the CSI 300 Index lost 3%. In Hong Kong, the Hang Seng index sank 4.2%. In Pakistan, the PSX saw the largest ever intra-day plunge in the country\\'s history, losing 2,302 points or 6.0%. The market closed with the KSE 100 index down 3.1%. In India, the BSE SENSEX closed 1,942 points lower at 35,635 while the NSE Nifty 50 was down by 538 points to 10,451.The Washington Post posited that coronavirus-related turmoil could spark a collapse of the corporate debt bubble, sparking and worsening a recession. The Central Bank of Russia announced that it would suspend foreign exchange market purchases in domestic markets for 30 days, while the Central Bank of Brazil auctioned an additional $3.465 billion the foreign exchange market in two separate transactions and the Bank of Mexico increased its foreign exchange auctions program from $20 billion to $30 billion. After announcing a $120 billion fiscal stimulus programs on 2 December, Japanese Prime Minister Shinzo Abe announced additional government spending, while Indonesian Finance Minister Sri Mulyani announced additional stimulus as well.\\n\\nEtymology\\nAs the hashtag #BlackMonday trended on Twitter, news organizations such as the Associated Press, The Economist, and Yahoo Finance UK adopted the term on the day it occurred. While The Guardian initially referred to it as \"Crash Monday\", they also later referred to it as \"The Black Monday of 2020\" to distinguish it from the 1987 crash of the same name. The Associated Press also quoted an analyst of the Australian finance company OFX as saying, \"A blend of shocks have sent the markets into a frenzy on what may only be described as \\'Black Monday\\' ... A combination of a Russia vs. Saudi Arabia oil price war, a crash in equities, and escalations in coronavirus woes have created a killer cocktail to worsen last week’s hangover.\"\\n\\n10–11 March\\nOn the following day of trading, US stocks recouped some of the losses which happened on Monday, rising by more than 4%. This was attributed to a potential fiscal stimulus, such as a potential 0% payroll tax, being proposed by US President Donald Trump. On Wednesday, however, stocks fell once more, and resulted in the DJIA entering a bear market (i.e. 20% drop from the most recent peak) for the first time in 11 years, ending the longest bull market in American stock market history.On 10 March, the Dow Jones Industrial Average, the NASDAQ Composite, and the S&P 500 all closed 4.9% up, while Asia-Pacific stock markets closed up and European stock markets closed down. Oil prices rose by 10%, while yields on 10-year and 30-year U.S. Treasury securities rose to 0.70% and 1.16% respectively. The Central Bank of Russia announced a repo auction of ₽500 billion (or $7 billion) and increased its foreign exchange swap operation limit to up to $5 billion. while Bank Indonesia conducted open market purchases of government bonds and Indonesian Finance Minister Sri Mulyani announced tax-related stimulus. Australian Prime Minister Scott Morrison announced A$2.4 billion in government spending for pandemic countermeasures.On 11 March, Asia-Pacific and European stock markets closed down (with the S&P/ASX 200 on the Australian Securities Exchange falling to more than 20% below its 52-week high), while the NASDAQ Composite and the S&P 500 both fell by 5% and the Dow Jones Industrial Average by 6% (with the Dow also falling to more than 20% below its most recent record high set on 19 February). Oil prices fell by 4%, while the yield on 10-year and 30-year U.S. Treasury securities rose to 0.82% and 1.33% respectively. The Índice Bovespa of the Brazil Stock Exchange fell by 8.5% to 27% on the year, while the S&P/TSX Composite Index on the Toronto Stock Exchange also fell to more than 20 percent below its most recent peak on 20 February. The Bank of England announced that it would cut its bank rate by 25 basis points, while Chancellor of the Exchequer Rishi Sunak announced £30 billion in government spending with £12 billion specifically directed at pandemic countermeasures. The Federal Reserve announced that it would increase the top level of its overnight repurchase operations to $175 billion. The Bank of Japan announced that it was increasing its annual target of purchases of exchange-traded funds above the current ¥6 trillion (or $57 billion). Indonesian Finance Minister Sri Mulyani announced tax relief for the Indonesian manufacturing sector during the COVID-19 pandemic. Italian Prime Minister Giuseppe Conte announced a €25 billion (or $28 billion) fiscal stimulus.\\n\\nUnited States presidential address\\nOn 11 March, US president Donald Trump gave a public address. In the speech, the president announced a temporary 30-day travel ban on all European goods and passengers from Europe in response to the COVID-19 pandemic. Trump\\'s initial statements were later corrected: the ban affected people who were not US citizens and who in the past two weeks had visited the 26-member Schengen Area, but did not include trade goods and cargo and excluded the United Kingdom and Republic of Ireland. These countries were added to the ban 3 days later. Trump did not consult with the European Union before imposing the travel ban.Carmen Reinicke of Business Insider wrote that Trump\\'s address to the nation \"failed to calm investors\\' concerns about the economic fallout from the coronavirus outbreak\". According to Ben Levisohn, writer for Barron\\'s, \"Dow futures were up around 300 points before the president’s address began. And then the president started talking—and futures started falling.\"\\n\\nBlack Thursday (12 March)\\nBlack Thursday was a global stock market crash on 12 March 2020, as part of the greater 2020 stock market crash. US stock markets suffered from the greatest single-day percentage fall since the 1987 stock market crash. Following Black Monday three days earlier, Black Thursday was attributed to the COVID-19 pandemic and a lack of investor confidence in US President Donald Trump after he declared a 30-day travel ban against the Schengen Area. Additionally, the European Central Bank, under the lead of Christine Lagarde, decided to not cut interest rates despite market expectations, leading to a drop in S&P 500 futures of more than 200 points in less than an hour.Bank Indonesia announced open market purchases of Rp4 trillion (or $276.53 million) in government bonds, while Bank Indonesia Governor Perry Warjiyo stated that Bank Indonesia\\'s open market purchases of government bonds had climbed to Rp130 trillion on the year and Rp110 trillion since the end of January. Despite declining to cut its deposit rate, the European Central Bank increased its asset purchases by €120 billion (or $135 billion), while the Federal Reserve announced $1.5 trillion in open market purchases. Australian Prime Minister Scott Morrison announced a A$17.6 billion fiscal stimulus package. The Reserve Bank of India announced that it would conduct a six-month $2 billion currency swap for U.S. dollars, while the Reserve Bank of Australia announced A$8.8 billion in repurchases of government bonds. The Central Bank of Brazil auctioned $1.78 billion foreign exchange spots.Asia-Pacific stock markets closed down with the Nikkei 225 of the Tokyo Stock Exchange, the Hang Seng Index of the Hong Kong Stock Exchange, and the IDX Composite of the Indonesia Stock Exchange falling more than 20% below their 52-week highs. European stock markets closed down 11% with the UK FTSE 100, German DAX, French CAC 40, Italian FTSE MIB, Finnish OMX Helsinki 25, Swedish OMX Stockholm 30, OMX Nordic 40, and the Latvian OMX Riga indices all closing more than 20% below their most recent peaks. In the US, the Dow Jones Industrial Average closed down an additional 10%, the NASDAQ Composite closed down 9.4%, and the S&P 500 closed down 9.5%. This caused the NASDAQ and S&P 500 to fall to more than 20% below their all time highs, and so the declines activated a trading curb at the New York Stock Exchange for the second time that week. Oil prices dropped by 8%, while the yields on 10-year and 30-year U.S. Treasury securities increased to 0.86% and 1.45% (and their yield curve finished normal).\\n\\nCrash\\nThe US\\'s Dow Jones Industrial Average and S&P 500 suffered from the greatest single-day percentage fall since the 1987 stock market crash, as did the UK\\'s FTSE 100, which fell 10.87%. The Canadian S&P/TSX Composite Index dropped 12%, its largest one-day drop since 1940. The FTSE MIB Italian index closed with a −16.92% loss, the worst in its history. Germany\\'s DAX fell 12.24% and France\\'s CAC 12.28%. In Brazil, the Ibovespa plummeted 14.78%, after trading in the B3 was halted twice within the intraday; it also moved below the 70,000 mark before closing above it. The NIFTY 50 on the National Stock Exchange of India fell 7.89% to more than 20% below its most recent peak, while the BSE SENSEX on the Bombay Stock Exchange fell 2,919 (or 8.18%) to 32,778. The benchmark stock market index on the Johannesburg Stock Exchange fell by 9.3%. The MERVAL on the Buenos Aires Stock Exchange fell 9.5% to 19.5% on the week. 12 March was the second time, following 9 March drop, that the 7%-drop circuit breaker was triggered since being implemented in 2013.In Colombia, the peso set an all-time low against the U.S. dollar, when it traded above 4000 pesos for the first time on record. The Mexican peso also set an all-time record low against the U.S. dollar, trading at 22.99 pesos.\\n\\nUnited States\\nSoon after trading began, a Level-1 trading curb was triggered on major US stock markets due to increased selling, leading to a 15-minute halt on trading. Level-1 circuit breaker is triggered with a fall of 7% on the S&P 500. The trading halt occurred after the markets reached a drop of 7.2 percent within 15 minutes. The crash temporarily recovered after the Federal Reserve Bank of New York offered at least $1.5 trillion worth of short-term loans to banks for 12–13 March, but the market quickly resumed its decline soon after. The Dow fell 2,353 points, losing all of its gains from its lowest point in 2018. The drop surpassed Black Monday, which occurred just a few days before, to be the greatest single-day point drop ever. Together with the drops of 1,191 and 1,465 points on 27 February and 11 March, the four largest Dow daily losses up to Black Thursday were all linked to the COVID-19 pandemic. President Trump reacted to the crash by defending his travel ban and predicting that the stock market would eventually recover with central bank intervention.\\n\\n13 March\\nOn 13 March, European stock markets closed mostly up while Asia-Pacific stock markets mostly closed down (except for the S&P/ASX 200 which rose by 4.4%), while the Dow Jones Industrial Average, NASDAQ Composite, and the S&P 500 all rose by more than 9% (in their largest rally since 2008). The RTS Index on the Moscow Exchange finished 27% down on the week, the Tadawul All-Share Index on the Saudi Stock Exchange finished 17% percent down, the benchmark index on the Borsa Istanbul finished 15% down, and the Indice de Precios y Cotizaciones on the Mexican Stock Exchange finished 9% down. Though finishing up on the day, oil prices posted their largest single-week decline since 2008, while yields on 10-year and 30-year U.S. Treasury securities rose to over 1% and 1.6% respectively (and their yield curve remained normal). The Índice Bovespa of the Brazil Stock Exchange closed 13% up. U.S. President Donald Trump declared the COVID-19 pandemic to be a national public health emergency thus releasing $50 billion in government spending directed to pandemic countermeasures.Speaker of the U.S. House of Representatives Nancy Pelosi stated that the U.S. House of Representatives would pass a subsequent appropriations and pandemic countermeasures bill including a sick leave expansion, which President Trump reversed his initial opposition to and endorsed. Canadian Prime Minister Justin Trudeau announced that the Government of Canada was preparing a fiscal stimulus program, with Canadian Finance Minister Bill Morneau stating that it would include a C$10 billion business credit-line. The Bank of Canada announced an additional 50 basis point cut to its overnight rate. The People\\'s Bank of China announced that it would reduce its reserve requirement by 50 to 100 basis points from the current 12.5%, releasing $79 billion into the money supply. The Bank of Japan announced ¥200 billion (or $1.9 billion) of open market purchases of government bonds.The Bank of Canada announced C$7.5 billion of open market purchases. The Brazilian Finance Ministry announced that it was cancelling a series of bond auctions for the upcoming week. The Central Bank of Russia announced that it would purchase at auction ₽500 billion (or $6.8 billion) in repurchase agreements. The Central Bank of the Republic of Turkey conducted ₺29 billion (or $4.6 billion) in open market repurchases of government bonds. Bank Indonesia conducted Rp6 trillion (or $405 billion) of open market purchases of government bonds, while Indonesian Finance Minister Sri Mulyani announced Rp120 trillion ($8.1 billion) in additional fiscal stimulus.\\n\\n16–20 March\\nBlack Monday II (16 March)\\nOver the preceding weekend, the Saudi Arabian Monetary Authority announced a $13 billion credit-line package to small and medium-sized companies, while South African President Cyril Ramaphosa announced a fiscal stimulus package. The Federal Reserve announced that it would cut the federal funds rate target to 0%–0.25%, lower reserve requirements to zero, and begin a $700 billion quantitative easing program.Dow futures tumbled more than 1,000 points and Standard & Poor\\'s 500 futures dropped 5%, triggering a circuit breaker. On Monday 16 March, Asia-Pacific and European stock markets closed down, with the S&P/ASX 200 setting a one-day record fall of 9.7%, collapsing 30% from the peak that was reached on 20 February, and the OMX Copenhagen 25, the OMX Tallinn, and OMX Vilnius on the Nasdaq Nordic exchanges all fell below 20 percent from their most recent peaks on 19 February in Copenhagen and on 21 February in Tallinn and Vilnius. The Dow Jones Industrial Average, the NASDAQ Composite, and the S&P 500 all fell by 12–13%, with the Dow eclipsing the one-day drop record set on 12 March and the trading curb being activated at the beginning of trading for the third time (after 9 and 12 March). Oil prices fell by 10%, while the yields on 10-year and 30-year U.S. Treasury securities fell to 0.76% and 1.38% respectively (while their yield curve remained normal for the third straight trading session).The CBOE Volatility Index closed at 82.69 on 16 March, the highest ever closing for the index (though there were higher intraday peaks in 2008). Around noon on 16 March, the Federal Reserve Bank of New York announced that it would conduct a $500 billion repurchase through the afternoon of that day. Indonesian Finance Minister Sri Mulyani announced an additional Rp22 trillion in tax-related fiscal stimulus. The Central Bank of the Republic of Turkey lowered its reserve requirement from 8% to 6%. The Bank of Japan announced that it would not cut its bank rate lower from −0.1% but that it would conduct more open market purchases of exchange-traded funds. After cutting its bank rate by 25 basis points on 7 February, the Central Bank of Russia announced that it would keep its bank rate at 6%, while the Bank of Korea announced that it would cut its overnight rate by 50 basis points to 0.75%. The Central Bank of Chile cut its benchmark rate,.\\n\\n17–20 March\\nOn 17 March, Asia-Pacific stock markets closed with mixed finishes, while European stock markets finished more than 2% up, whereas the NASDAQ Composite and the S&P 500 finished more than 6% up and the Dow Jones Industrial Average finished more than 5% up. Oil prices fell by 6%, while the yields on 10-year and 30-year U.S. Treasury securities rose to 1.04% and 1.62% respectively. The Federal Reserve announced that it would reestablish its Commercial Paper Funding Facility (CPFF) with up to $1 trillion for short-term corporate bonds, while Chancellor of the Exchequer Rishi Sunak announced a £330 billion government-backed business loan guarantee program. The Central Bank of the Republic of Turkey announced that it would cut its repo rate by 100 basis points from 10.75% to 9.75%, while providing the Turkish lira repo auctions at 150 basis points lower than its benchmark repo rate. The Bank of Israel announced that it would cut its bank rate by 15 basis points to 0.10%.The Bank of Japan conducted ¥120 billion in open market purchases of exchange-traded funds. Spanish Prime Minister Pedro Sánchez and French President Emmanuel Macron announced €200 billion and €45 billion ($220 billion and $50 billion) fiscal stimulus programs respectively, while Canadian Prime Minister Justin Trudeau released the Canadian federal government\\'s C$82 billion ($56.7 billion) fiscal stimulus package he announced the previous week. New Zealand Finance Minister Grant Robertson also announced a NZ$12.1 billion fiscal stimulus program. The National Bank of Poland announced that it would cut its reference rate by 50 basis points to 1%, its lombard rate by 100 basis points to 1.5%, its bank rate by 70 basis points to 1.05%, and cut its reserve requirement from 3.5% to 0.5%.On 18 March, Asia-Pacific and European stock markets closed down, while the NASDAQ Composite and the S&P 500 both fell by 5%, and the Dow Jones Industrial Average by more than 6% and below 20,000 points for the first time since February 2017 (with the trading curb activated for the fourth time within the course of a week). Oil prices fell by 24% to an 18-year low, while the yields on 10-year and 30-year U.S. Treasury securities rose to 1.23% and 1.68% respectively (while their yield curve remained normal). U.S. Senate Majority Leader Mitch McConnell stated that he expected the $100 billion appropriations and pandemic countermeasures bill passed by the U.S. House of Representatives the previous Friday to pass the U.S. Senate that day, which it did by a vote of 90 to 8 and President Donald Trump signed the bill into law.The European Central Bank announced that it would purchase up to €750 billion ($820 billion) of government and corporate bonds and commercial paper. The Central Bank of Brazil cut its overnight rate by 50 basis points to a record-low 3.75% and sold $830 million in foreign exchange spots, while the Reserve Bank of Australia cut its official cash rate to 0.25%. The Reserve Bank of India announced that it would conduct $1.35 billion in open market purchases of government bonds, the Bank of Korea announced that it would conduct a ₩1 trillion ($793.5 million) repo auction the following day, and the National Bank of Poland announced that it would conduct open market purchases of government bonds to support fiscal stimulus implemented by the Polish government. The New York Stock Exchange announced that it would temporarily close its trading floor and move to all-electronic trading beginning on 23 March when two traders tested positive for COVID-19 at screenings set up by the NYSE.On 19 March, Asia-Pacific stock markets closed down while European stock markets closed 3% up, while the Dow Jones Industrial Average, the NASDAQ Composite, and S&P 500 also all closed up. Oil prices rose by 23%, while the yields on 10-year and 30-year U.S. Treasury securities fell to 1.06% and 1.68% respectively (while their yield curve remained normal). The Federal Reserve announced $450 billion in foreign exchange swap lines to the central banks of Australia, Brazil, South Korea, Mexico, Singapore, Sweden, Denmark, Norway and New Zealand, with the swap lines for the Central Bank of Brazil, the Monetary Authority of Singapore, and the Bank of Korea amounting to $60 billion each. The Federal Reserve also established an additional lending facility similar to the CPFF for money market mutual funds. The Bank of Japan conducted ¥1.3 trillion ($12 billion) in emergency open market purchases of government bonds.The Bank of England announced that it would cut its overnight rate by 15 basis points to 0.1% and would increase its open market purchases of government bonds by £200 billion to a total of £645 billion, while the Danmarks Nationalbank raised its deposit rate by 15 basis points to −0.60%. The Central Bank of the Republic of China cut its bank rate by 25 basis points to 1.125%. After cutting its repo rate by 25 basis points on 16 January, the South African Reserve Bank announced that it would cut its repo rate by an additional 100 basis points to 5.25%. Bank Indonesia also cut its repo rate by 25 basis points to 4.50%. Chilean President Sebastián Piñera announced an $11.7 billion fiscal stimulus package. U.S. Senate Majority Leader Mitch McConnell introduced legislation for a third fiscal stimulus package of up to $1 trillion that includes cash payments to households under $75,000 in adjusted gross income (with $1,200 per individual, $2,400 for couples, and $500 per child) and $208 billion for industries severely distressed by the pandemic.On Friday, 20 March 2020, Asia-Pacific and European stock markets closed mostly up, while the Dow Jones Industrial Average, the NASDAQ Composite, and the S&P 500 all closed down 4% (with the Dow eclipsing its one-week decline from 24 to 28 February 2020 to finish at its largest one-week decline since the financial crisis of 2007–2008). Oil prices fell by 11%, while the yields on 10-year and 30-year U.S. Treasury securities fell to 0.93% and 1.52% respectively (while their yield curve remained normal for at least the sixth trading session of the preceding seven). The Federal Reserve announced that it would expand its asset purchases to include municipal bonds, while the Reserve Bank of Australia announced that it would also purchase A$5 billion ($2.9 billion) in municipal bonds. Bank Indonesia and the Central Bank of Brazil announced $10.1 billion and $3 billion of open market purchases of government bonds respectively, while the Reserve Bank of India announced that it would conduct ₹300 billion in open market purchases the following week.The Bank of Mexico announced that it would cut its overnight rate by 50 basis points, while the National Bank of Romania announced that it would cut its bank rate by 25 basis points to 2.0%. The European Central Bank opened a €24 billion foreign exchange swap line with Danmarks Nationalbank. U.S. Treasury Secretary Steven Mnuchin announced that the Internal Revenue Service would extend the federal tax filing deadline from 15 April to 15 July, while Maryland Governor Larry Hogan and New York Governor Andrew Cuomo, as chair and vice-chair of the National Governors Association, wrote an open letter to the Trump Administration and the 116th U.S. Congress to request $150 billion in federal aid to U.S. state governments to address the COVID-19 pandemic. The Swiss federal government and the Saudi Arabian national government both announced $32 billion fiscal stimulus programs, while the German federal government has been reported to be planning a €100 billion fiscal stimulus program. Indonesian Finance Minister Sri Mulyani announced that the Indonesian government would reallocate Rp62.3 trillion ($3.9 billion) from the 2020 fiscal year budget for COVID-19 pandemic countermeasures.\\n\\n23–27 March\\nOn Monday, 23 March 2020, Asia-Pacific stock markets closed up while European and U.S. stock markets closed mostly down. Oil prices rose, while the yields on 10-year and 30-year U.S. Treasury securities fell to 0.82% and 1.34% respectively. The finance ministers and central bank executives of the G20 countries agreed to develop a joint action plan to address the economic effects of the COVID-19 pandemic. The Reserve Bank of New Zealand and the Bank of Japan announced NZ$30 billion and $7.3 billion in open market purchases of government bonds respectively, the Reserve Bank of India and Sveriges Riksbank announced ₹1 trillion and kr10 billion ($956.3 million) in repo operations, while the Bank of Korea and the Federal Reserve announced that they would conduct additional repo operations and asset purchases respectively of undisclosed amounts.The Bank of Japan lent $34.9 billion to its nation\\'s banks in a one-week dollar funding operation, Sveriges Riksbank announced kr400 billion ($38.8 billion) in loans to its nation\\'s banks, the World Bank announced $300 million in loans to banks in Indonesia, while the Central Bank of Brazil announced that it would expand its money supply by R$1.2 trillion ($234 billion) in loans to banks and by cutting its reserve requirement from 25% to 17%. The Hungarian National Bank announced Ft74.5 billion ($227 million) in foreign exchange swaps of domestic currency with euros. The Australian parliament passed an A$80 billion fiscal stimulus program, while Japanese Prime Minister Shinzo Abe announced that a fiscal stimulus program his government was considering would amount to at least ¥15 trillion ($137 billion). The Central Bank of Iceland announced that it would initiate a quantitative easing program to purchase government bonds in support of a $1.6 billion fiscal stimulus program announced by the Icelandic government over the preceding weekend.On 24 March, Asia-Pacific and European stock markets closed up, while the Dow Jones Industrial Average closed more than 11% up, the NASDAQ Composite closed more than 8% up, and the S&P 500 closed more than 9% up. Oil prices rose by more than 2%, while the yields on 10-year and 30-year U.S. Treasury securities rose to 0.82% and 1.40% respectively. After agreeing to a joint investment €37 billion financial assistance program to European businesses the preceding week, the finance ministers of the Eurozone meeting did not agree to more joint fiscal stimulus. The Bank of Japan lent an additional $89 billion in two-dollar funding operations, while the Indonesian Financial Services Authority raised the capital requirement for the nation\\'s banks to Rp3 trillion ($182.1 million) by 2022. South Korean President Moon Jae-in announced that a planned fiscal stimulus package would be doubled in size to ₩100 trillion ($80 billion). The Hungarian National Bank announced that it would leave its bank and overnight rates at 0.9% and −0.05% respectively but waived its reserve requirements and is expected to announce further quantitative easing measures. Romanian Finance Minister Florin Cîțu announced that the Romanian government would allow banks to defer loan repayments for approximately six months.On 25 March, Asia-Pacific and European stock markets closed up, while the NASDAQ Composite closed down, but the S&P 500 and the Dow Jones Industrial Average also closed up (with the Dow posting its first consecutive gain since the previous month). Oil prices rose, and the yields on 10-year and 30-year U.S. Treasury securities fell to 0.79% and 1.33% respectively. The U.S. Senate unanimously passed the $2.2 trillion fiscal stimulus package introduced by Senate Majority Leader Mitch McConnell the preceding week. The heads of government in nine Eurozone countries called for the issuance of corona bonds. The Reserve Bank of New Zealand announced NZ$250 million ($146 million) of open market purchases of governments bonds as part of its quantitative easing program.Mexican Finance Minister Arturo Herrera Gutiérrez announce that the Mexican federal government would allow Mexican banks to defer loan repayments. The South African Reserve Bank announced a quantitative easing program of open market purchases of an unspecified amount of government bonds. The Bank of Korea announced that it would finance half of the South Korean government\\'s stimulus program. The Central Bank of Iceland announced that it would lower its average reserve maintenance requirement from 1% to 0%. The Swiss federal government announced a $20.4 billion business credit-line program and the Swiss National Bank announced the creation of a refinancing facility with an unlimited supply of credit for the Swiss banking system.On 26 March, Asia-Pacific stock markets finished with mixed closings while European stock markets closed higher, and the Dow Jones Industrial Average, the NASDAQ Composite, and the S&P 500 all rose by 6% (and the Dow capping its largest 3-day upswing since 1931). Oil prices fell, while the yields on 10-year and 30-year U.S. Treasury securities rose slightly to 0.80% and 1.37% respectively. At a virtual summit, European Union heads of state and government did not agree to begin issuing corona bonds. The Reserve Bank of Australia announce that it would conduct A$3 billion of open market purchases of government bonds. The central banks of Denmark, Norway, Singapore, and Sweden announced foreign exchange swaps of U.S. dollars with their nation\\'s banks, while the Sveriges Riksbank also announced that it would purchase kr300 billion ($29.84 billion) of commercial paper.The Indonesian government announced that it would issue bonds whose proceeds would dedicated for financial assistance programs to business severely distressed by the COVID-19 pandemic. The Central Bank of Russia announced that it continue selling foreign currency in domestic markets the following week. The Bank of Korea announced that it would conduct open-ended open market purchases of government bonds at repo auctions every Tuesday for the following three months. The Mexican federal government\\'s credit rating was downgraded by S&P Global Ratings to BBB. The Czech National Bank cut its bank rate by an additional 75 basis points to 1%. Singaporean Finance Minister Heng Swee Keat announced a second fiscal stimulus package of S$48 billion (US$33.7 billion). Indian Finance Minister Nirmala Sitharaman announced a $23 billion fiscal stimulus package. The Chinese government announced that it was implementing a $344 billion fiscal stimulus program.On 27 March, Asia-Pacific stock markets finished with mixed closings, European stock markets closed down, and the Dow Jones Industrial Average, the NASDAQ Composite, and S&P 500 all closed more than 3% down (while finishing up on the week). Oil prices fell by 5% (and closed down for the fifth consecutive week), and yields on 10-year and 30-year U.S. Treasury securities fell to 0.77% and 1.36% respectively. The U.S. House of Representatives passed the $2.2 trillion fiscal stimulus package passed by the U.S. Senate on 25 March with U.S. President Donald Trump signing the bill into law the same day. The European Central Bank announced an additional €750 billion ($820 billion) in open market purchases of government bonds. The Bank of Canada cut its overnight rate by an additional 50 basis points to 0.25%.The Reserve Bank of India announced that it would cut its repo rate by 75 basis points to 4.4%. The Central Bank of Brazil auctioned $610 million in foreign exchange spots, while Central Bank of Brazil President Roberto Campos Neto formally requested the legal authority to implement a quantitative easing program from the National Congress of Brazil. Malaysian Prime Minister Muhyiddin Yassin announced a RM250 billion ($57 billion) fiscal stimulus package. The South African government\\'s credit rating was downgraded by Moody\\'s to Ba1 (its highest non-investment grade). The Central Bank of Russia announced a ₽150 billion ($1.92 billion) credit-line program for small- and medium-sized business. Sveriges Riksbank announced that it would conduct kr20 billion ($2.01 billion) of open market purchases of covered bonds.\\n\\nOverall size of the falls\\n\"In the 33 days between 19 February and 23 March, the FTSE All-Share Index fell by 33 per cent [...] The MSCI World Index declined by 34 per cent.\"\\n\\nSubsequent recovery\\nOver the preceding weekend, the Central Bank of Taiwan announced a T$200 billion ($6.6 billion) credit-line program to small and medium-sized businesses, while the Bank of Korea announced that it would conduct a $12 billion U.S. dollar-funding operation at auctions to South Korean banks. The South African Reserve Bank announced that it would ease banking accounting and capital regulations to release R300 billion in credit, while the Bank of Israel announced that it would ease its capital requirements to facilitate greater lending by its banking system as well.On Monday, 30 March 2020, Asia-Pacific stock markets closed mostly down while European stock markets closed mostly 1% higher, and the Dow Jones Industrial Average, the NASDAQ Composite, and S&P 500 all closed more than 3% higher. Oil prices fell by more than 6% to an 18-year low, while the yields on 10-year and 30-year U.S. Treasury securities fell to 0.66% and 1.24% respectively (while their yield curve remained normal).On 31 March, Asia-Pacific stock markets finished with mixed closings while European stock markets closed up, and the Dow Jones Industrial Average, the NASDAQ Composite, and S&P 500 all fell by more than 1% (with the Dow closing to its worst one-quarter decline in history). Oil prices rose by 2% (but closed at their worst one-month and one-quarter declines in history), while the yields on 10-year and 30-year U.S. Treasury securities rose to 0.68% and 1.34% respectively.On 1 April, Asia-Pacific and European stock markets closed mostly down, while the Dow Jones Industrial Average, the NASDAQ Composite, and S&P 500 all closed 5% down. Oil prices fell, while the yields on 10-year and 30-year U.S. Treasury securities fell to 0.61% and 1.23% respectively (while their yield curve finished normal).On 9 April, Saudi Arabia and Russia agreed to oil production cuts. Reuters reported that \"If Saudi Arabia failed to rein in output, US senators called on the White House to impose sanctions on Riyadh, pull out US troops from the kingdom and impose import tariffs on Saudi oil.\"On 11 June, the Dow Jones Industrial Average plunged 1861 points, around 7%, as fears of a second wave of COVID-19 along with a press conference from Federal Reserve chairman Jerome Powell on the previous day weighed on investor sentiment.\\nThe Dow Jones Industrial Average rose throughout August 2020, reaching a peak of 29,199 points on 3 September 2020 at 9:48 EST before plunging nearly 1,000 points throughout the remainder of the day.  On 16 September, Jerome Powell and the FOMC gave their final economic projections, which led the DJIA falling approximately 4% over the next three days.  Throughout September, the DJIA saw a substantial −9% retreat amidst growing fears of a second COVID-19 infection wave, lack of federal stimulus outlook, and U.S. election instability. However, optimism soon recovered, and the DJIA and S&P 500 both closed 2020 at all-time highs of\\n30,606 and 3,756 respectively. The MSCI ACWI Index also had recovered to its February peak by September 2020, and closed 2020 at an all-time high of 645 points.\\n\\nSee also\\nCOVID-19 recession\\nEconomic impact of the COVID-19 pandemic\\nFinancial market impact of the COVID-19 pandemic\\n2020 Congressional insider trading scandal\\n\\nReferences\\n\\nBundled references'"
            ],
            "application/vnd.google.colaboratory.intrinsic+json": {
              "type": "string"
            }
          },
          "metadata": {},
          "execution_count": 72
        }
      ]
    },
    {
      "cell_type": "markdown",
      "source": [
        "## Segment Sentences"
      ],
      "metadata": {
        "id": "d6q4tzlyWldd"
      }
    },
    {
      "cell_type": "code",
      "source": [
        "# Lets take part of the above extracted article\n",
        "docu = nlp('''The AbC-19 rapid antibody test is an immunological test for COVID-19 exposure developed by\n",
        "the UK Rapid Test Consortium and manufactured by Abingdon Health. It uses a lateral flow test to determine\n",
        "whether a person has IgG antibodies to the SARS-CoV-2 virus that causes COVID-19. The test uses a single\n",
        "drop of blood obtained from a finger prick and yields results in 20 minutes.\\n\\nSee also\\nCOVID-19 rapid\n",
        "antigen test''')\n",
        " \n",
        "for tokn in docu:\n",
        "   print(tokn.text, \"---\", tokn.dep_)"
      ],
      "metadata": {
        "colab": {
          "base_uri": "https://localhost:8080/"
        },
        "id": "bxWlTalOWUIp",
        "outputId": "a20499a2-9f05-44be-c9c8-1eef1d103365"
      },
      "execution_count": 73,
      "outputs": [
        {
          "output_type": "stream",
          "name": "stdout",
          "text": [
            "The --- det\n",
            "AbC-19 --- compound\n",
            "rapid --- amod\n",
            "antibody --- compound\n",
            "test --- nsubj\n",
            "is --- ROOT\n",
            "an --- det\n",
            "immunological --- amod\n",
            "test --- attr\n",
            "for --- prep\n",
            "COVID-19 --- nummod\n",
            "exposure --- pobj\n",
            "developed --- acl\n",
            "by --- agent\n",
            "\n",
            " --- \n",
            "the --- det\n",
            "UK --- compound\n",
            "Rapid --- compound\n",
            "Test --- compound\n",
            "Consortium --- pobj\n",
            "and --- cc\n",
            "manufactured --- conj\n",
            "by --- agent\n",
            "Abingdon --- compound\n",
            "Health --- pobj\n",
            ". --- punct\n",
            "It --- nsubj\n",
            "uses --- ROOT\n",
            "a --- det\n",
            "lateral --- amod\n",
            "flow --- compound\n",
            "test --- dobj\n",
            "to --- aux\n",
            "determine --- xcomp\n",
            "\n",
            " --- \n",
            "whether --- mark\n",
            "a --- det\n",
            "person --- nsubj\n",
            "has --- ccomp\n",
            "IgG --- compound\n",
            "antibodies --- dobj\n",
            "to --- prep\n",
            "the --- det\n",
            "SARS --- compound\n",
            "- --- punct\n",
            "CoV-2 --- compound\n",
            "virus --- pobj\n",
            "that --- nsubj\n",
            "causes --- relcl\n",
            "COVID-19 --- dobj\n",
            ". --- punct\n",
            "The --- det\n",
            "test --- nsubj\n",
            "uses --- ROOT\n",
            "a --- det\n",
            "single --- amod\n",
            "\n",
            " --- \n",
            "drop --- dobj\n",
            "of --- prep\n",
            "blood --- pobj\n",
            "obtained --- acl\n",
            "from --- prep\n",
            "a --- det\n",
            "finger --- compound\n",
            "prick --- pobj\n",
            "and --- cc\n",
            "yields --- compound\n",
            "results --- conj\n",
            "in --- prep\n",
            "20 --- nummod\n",
            "minutes --- pobj\n",
            ". --- punct\n",
            "\n",
            "\n",
            " --- \n",
            "See --- ROOT\n",
            "also --- advmod\n",
            "\n",
            " --- \n",
            "COVID-19 --- punct\n",
            "rapid --- amod\n",
            "\n",
            " --- \n",
            "antigen --- compound\n",
            "test --- dep\n"
          ]
        }
      ]
    },
    {
      "cell_type": "markdown",
      "source": [
        "## Extract Entities"
      ],
      "metadata": {
        "id": "3-h47_-BbrfL"
      }
    },
    {
      "cell_type": "code",
      "source": [
        "def extract_entities(sents):\n",
        "   # chunk one\n",
        "   enti_one = \"\"\n",
        "   enti_two = \"\"\n",
        "  \n",
        "   dep_prev_token = \"\" # dependency tag of previous token in sentence\n",
        "  \n",
        "   txt_prev_token = \"\" # previous token in sentence\n",
        "  \n",
        "   prefix = \"\"\n",
        "   modifier = \"\"\n",
        "  \n",
        "  \n",
        "  \n",
        "   for tokn in nlp(sents):\n",
        "       # chunk two\n",
        "       ## move to next token if token is punctuation\n",
        "      \n",
        "       if tokn.dep_ != \"punct\":\n",
        "           #  check if token is compound word or not\n",
        "           if tokn.dep_ == \"compound\":\n",
        "               prefix = tokn.text\n",
        "               # add the current word to it if the previous word is 'compound’\n",
        "               if dep_prev_token == \"compound\":\n",
        "                   prefix = txt_prev_token + \" \"+ tokn.text\n",
        "                  \n",
        "           # verify if token is modifier or not\n",
        "           if tokn.dep_.endswith(\"mod\") == True:\n",
        "               modifier = tokn.text\n",
        "               # add it to the current word if the previous word is 'compound'\n",
        "               if dep_prev_token == \"compound\":\n",
        "                   modifier = txt_prev_token + \" \"+ tokn.text\n",
        "                  \n",
        "           # chunk3\n",
        "           if tokn.dep_.find(\"subj\") == True:\n",
        "               enti_one = modifier +\" \"+ prefix + \" \"+ tokn.text\n",
        "               prefix = \"\"\n",
        "               modifier = \"\"\n",
        "               dep_prev_token = \"\"\n",
        "               txt_prev_token = \"\"\n",
        "              \n",
        "           # chunk4\n",
        "           if tokn.dep_.find(\"obj\") == True:\n",
        "               enti_two = modifier +\" \"+ prefix +\" \"+ tokn.text\n",
        "              \n",
        "           # chunk 5\n",
        "           # update variable\n",
        "           dep_prev_token = tokn.dep_\n",
        "           txt_prev_token = tokn.text\n",
        "          \n",
        "   return [enti_one.strip(), enti_two.strip()]"
      ],
      "metadata": {
        "id": "UZ8mPjTYWuW6"
      },
      "execution_count": 74,
      "outputs": []
    },
    {
      "cell_type": "code",
      "source": [
        "extract_entities(\"The AbC-19 rapid antibody test is an immunological test for COVID-19 exposure developed by the UK Rapid Test\")"
      ],
      "metadata": {
        "colab": {
          "base_uri": "https://localhost:8080/"
        },
        "id": "dQ1z0MwsXm7y",
        "outputId": "88b9b4a0-34a0-429c-dcbb-cec057028f3a"
      },
      "execution_count": 75,
      "outputs": [
        {
          "output_type": "execute_result",
          "data": {
            "text/plain": [
              "['AbC-19 rapid antibody test', 'COVID-19 UK Rapid Test']"
            ]
          },
          "metadata": {},
          "execution_count": 75
        }
      ]
    },
    {
      "cell_type": "code",
      "source": [
        "# Use the above function to extract entity pairs for 800 sentences\n",
        "pairs_of_entities = []\n",
        "for i in tqdm(data['text'][:800]):\n",
        "   pairs_of_entities.append(extract_entities(i))"
      ],
      "metadata": {
        "colab": {
          "base_uri": "https://localhost:8080/"
        },
        "id": "FROVpEq2XseV",
        "outputId": "30aa484f-880d-41cb-973a-6f2abd631b51"
      },
      "execution_count": 76,
      "outputs": [
        {
          "output_type": "stream",
          "name": "stderr",
          "text": [
            "100%|██████████| 211/211 [01:23<00:00,  2.54it/s]\n"
          ]
        }
      ]
    },
    {
      "cell_type": "code",
      "source": [
        "# Subject object pairs from sentences\n",
        "pairs_of_entities[40:44]"
      ],
      "metadata": {
        "colab": {
          "base_uri": "https://localhost:8080/"
        },
        "id": "aifqQyoCYFft",
        "outputId": "a4d5a658-e831-4ce7-be6f-62685fd84075"
      },
      "execution_count": 77,
      "outputs": [
        {
          "output_type": "execute_result",
          "data": {
            "text/plain": [
              "[['Global Aerosol Works', 'External aerosol sampling'],\n",
              " ['respectively Africa CDC', 'National public World Health Africa'],\n",
              " ['specific  patient', 'specific  tastes'],\n",
              " ['also  she', 'original Whistle Giver']]"
            ]
          },
          "metadata": {},
          "execution_count": 77
        }
      ]
    },
    {
      "cell_type": "markdown",
      "source": [
        "## Relations extraction"
      ],
      "metadata": {
        "id": "fDJu4yQQYYFh"
      }
    },
    {
      "cell_type": "code",
      "source": [
        "# Function that capture the entities relationships from the sentences\n",
        "def obtain_relation(sent):\n",
        "  \n",
        "   doc = nlp(sent)\n",
        "  \n",
        "   matcher = Matcher(nlp.vocab)\n",
        "  \n",
        "   pattern = [{'DEP':'ROOT'},\n",
        "           {'DEP':'prep','OP':\"?\"},\n",
        "           {'DEP':'agent','OP':\"?\"}, \n",
        "           {'POS':'ADJ','OP':\"?\"}]\n",
        "  \n",
        "   matcher.add(\"matching_1\", None, pattern)\n",
        "  \n",
        "   matcher = matcher(doc)\n",
        "   h = len(matcher) - 1\n",
        "  \n",
        "   span = doc[matcher[h][1]:matcher[h][2]]\n",
        "  \n",
        "   return (span.text)"
      ],
      "metadata": {
        "id": "ftkDJHtaYZr1"
      },
      "execution_count": 78,
      "outputs": []
    },
    {
      "cell_type": "code",
      "source": [
        "relations = [obtain_relation(j) for j in tqdm(data['text'][:800])]"
      ],
      "metadata": {
        "colab": {
          "base_uri": "https://localhost:8080/"
        },
        "id": "zYyDnFByYlAA",
        "outputId": "462aa41c-5aac-4940-d9cc-73a2b08aba84"
      },
      "execution_count": null,
      "outputs": [
        {
          "output_type": "stream",
          "name": "stderr",
          "text": [
            " 40%|████      | 90/225 [00:29<01:06,  2.03it/s]"
          ]
        }
      ]
    },
    {
      "cell_type": "code",
      "source": [
        "# Most frequent relations extracted\n",
        "pd.Series(relations).value_counts()[:10]"
      ],
      "metadata": {
        "id": "rt19M1C7YpZQ"
      },
      "execution_count": null,
      "outputs": []
    },
    {
      "cell_type": "markdown",
      "source": [
        "## Build a knowledge graph"
      ],
      "metadata": {
        "id": "6Z0P7bPMY7EZ"
      }
    },
    {
      "cell_type": "code",
      "source": [
        "# subject extraction\n",
        "source = [j[0] for j in pairs_of_entities]\n",
        "\n",
        "#object extraction\n",
        "target = [k[1] for k in pairs_of_entities]\n",
        "\n",
        "data_kgf = pd.DataFrame({'source':source, 'target':target, 'edge':relations})\n",
        "\n",
        "# Create DG from the dataframe\n",
        "graph = ntx.from_pandas_edgelist(data_kgf, \"source\", \"target\",\n",
        "                         edge_attr=True, create_using=ntx.MultiDiGraph())"
      ],
      "metadata": {
        "id": "Sx1DKwlJY97O"
      },
      "execution_count": null,
      "outputs": []
    },
    {
      "cell_type": "code",
      "source": [
        "# plotting the network\n",
        "plot.figure(figsize=(20, 20))\n",
        "posn = ntx.spring_layout(graph)\n",
        "ntx.draw(graph, with_labels=True, node_color='blue', edge_cmap=plot.cm.Blues, pos = posn)\n",
        "plot.show()"
      ],
      "metadata": {
        "id": "3L1CiP9KZTrs"
      },
      "execution_count": null,
      "outputs": []
    },
    {
      "cell_type": "code",
      "source": [
        "# Pick one relation to visualize a sub-graph\n",
        "\n",
        "relation = \"links\"\n",
        "\n",
        "sub_graph = ntx.from_pandas_edgelist(data_kgf[data_kgf['edge']==relation], \"source\", \"target\",\n",
        "                         edge_attr=True, create_using=ntx.MultiDiGraph())\n",
        " \n",
        "plot.figure(figsize=(20,20))\n",
        "pos = ntx.spring_layout(sub_graph, k = 1) # k regulates the distance between nodes\n",
        "ntx.draw(sub_graph, with_labels=True, node_color='green', node_size=1400, edge_cmap=plot.cm.Blues, pos = posn)\n",
        "plot.show()"
      ],
      "metadata": {
        "id": "FsC8IpVRZbRI"
      },
      "execution_count": null,
      "outputs": []
    }
  ]
}
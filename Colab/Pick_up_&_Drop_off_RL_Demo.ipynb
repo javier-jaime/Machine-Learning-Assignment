{
  "nbformat": 4,
  "nbformat_minor": 5,
  "metadata": {
    "kernelspec": {
      "display_name": "Python 3",
      "language": "python",
      "name": "python3"
    },
    "language_info": {
      "codemirror_mode": {
        "name": "ipython",
        "version": 3
      },
      "file_extension": ".py",
      "mimetype": "text/x-python",
      "name": "python",
      "nbconvert_exporter": "python",
      "pygments_lexer": "ipython3",
      "version": "3.8.5"
    },
    "colab": {
      "name": "Pick_up_&_Drop_off_RL_Demo.ipynb",
      "provenance": [],
      "include_colab_link": true
    }
  },
  "cells": [
    {
      "cell_type": "markdown",
      "metadata": {
        "id": "view-in-github",
        "colab_type": "text"
      },
      "source": [
        "<a href=\"https://colab.research.google.com/github/javier-jaime/Tool-Crib/blob/master/Colab/Pick_up_%26_Drop_off_RL_Demo.ipynb\" target=\"_parent\"><img src=\"https://colab.research.google.com/assets/colab-badge.svg\" alt=\"Open In Colab\"/></a>"
      ]
    },
    {
      "cell_type": "markdown",
      "metadata": {
        "id": "2TNO0phsMypJ"
      },
      "source": [
        "# Final Assignment: Deep Learning and Reinforcement Learning\n",
        "## Package Pick up and Drop off Reinforcement Learning Demo\n",
        "\n",
        "Based on:  https://www.learndatasci.com/tutorials/reinforcement-q-learning-scratch-python-openai-gym/"
      ],
      "id": "2TNO0phsMypJ"
    },
    {
      "cell_type": "code",
      "metadata": {
        "id": "given-segment"
      },
      "source": [
        "import gym\n",
        "import os\n",
        "import time\n",
        "import pandas as pd\n",
        "import numpy as np\n",
        "import random\n",
        "from IPython.display import clear_output\n",
        "import seaborn as sns\n",
        "from collections import deque\n",
        "from collections import defaultdict\n",
        "import sys\n",
        "import math"
      ],
      "id": "given-segment",
      "execution_count": 119,
      "outputs": []
    },
    {
      "cell_type": "markdown",
      "metadata": {
        "id": "encouraging-surname"
      },
      "source": [
        "## This Demo use the Taxi-v3 Environment\n",
        "from OpenAI Gym (https://gym.openai.com/docs/)\n",
        "\n",
        "The job is to pick up a package at one location and drop him off in the right location in the minimum time possible."
      ],
      "id": "encouraging-surname"
    },
    {
      "cell_type": "code",
      "metadata": {
        "id": "unlimited-friendly"
      },
      "source": [
        "env = gym.make(\"Taxi-v3\").env # Build a fresh environment"
      ],
      "id": "unlimited-friendly",
      "execution_count": 6,
      "outputs": []
    },
    {
      "cell_type": "code",
      "metadata": {
        "id": "duplicate-registration",
        "colab": {
          "base_uri": "https://localhost:8080/"
        },
        "outputId": "fe86111c-ea1b-443a-f2e1-5888b3f0d26f"
      },
      "source": [
        "env.render() # Renders one frame of the environment "
      ],
      "id": "duplicate-registration",
      "execution_count": 4,
      "outputs": [
        {
          "output_type": "stream",
          "text": [
            "+---------+\n",
            "|R: | : :\u001b[34;1m\u001b[43mG\u001b[0m\u001b[0m|\n",
            "| : | : : |\n",
            "| : : : : |\n",
            "| | : | : |\n",
            "|\u001b[35mY\u001b[0m| : |B: |\n",
            "+---------+\n",
            "\n"
          ],
          "name": "stdout"
        }
      ]
    },
    {
      "cell_type": "code",
      "metadata": {
        "id": "dried-inclusion",
        "colab": {
          "base_uri": "https://localhost:8080/"
        },
        "outputId": "7ae73290-0350-4354-e184-1dc97dd3430c"
      },
      "source": [
        "env.reset()  # Resets the environment and returns a random initial state\n",
        "env.render()\n",
        "\n",
        "print(\"Action Space {}\".format(env.action_space))\n",
        "print(\"State Space {}\".format(env.observation_space))"
      ],
      "id": "dried-inclusion",
      "execution_count": 5,
      "outputs": [
        {
          "output_type": "stream",
          "text": [
            "+---------+\n",
            "|\u001b[35mR\u001b[0m: | : :\u001b[34;1mG\u001b[0m|\n",
            "| : | : : |\n",
            "| : : : : |\n",
            "|\u001b[43m \u001b[0m| : | : |\n",
            "|Y| : |B: |\n",
            "+---------+\n",
            "\n",
            "Action Space Discrete(6)\n",
            "State Space Discrete(500)\n"
          ],
          "name": "stdout"
        }
      ]
    },
    {
      "cell_type": "markdown",
      "metadata": {
        "id": "vhKFSqEaRopX"
      },
      "source": [
        "### Action/State Space"
      ],
      "id": "vhKFSqEaRopX"
    },
    {
      "cell_type": "markdown",
      "metadata": {
        "id": "expensive-course"
      },
      "source": [
        "We have 6 posible actions:\n",
        "0 = south,\n",
        "1 = north,\n",
        "2 = east,\n",
        "3 = west,\n",
        "4 = pickup &\n",
        "5 = dropoff\n",
        "\n",
        "And 4 possible pickup and destination locations: R, G, Y & B.\n",
        "\n",
        "The blue letter represents the current pick-up location, and the purple letter is the current destination. The filled square represents the vehicle, which is yellow without a package and green with one. The pipe (\"|\") represents a wall which the vehicle cannot cross."
      ],
      "id": "expensive-course"
    },
    {
      "cell_type": "code",
      "metadata": {
        "id": "external-inventory",
        "colab": {
          "base_uri": "https://localhost:8080/"
        },
        "outputId": "253386bc-028d-45f4-befb-82533c09483c"
      },
      "source": [
        "state = env.encode(3, 2, 1, 0) # (row, column, passenger index, destination index)\n",
        "print(\"State:\", state)\n",
        "\n",
        "env.s = state\n",
        "env.render()"
      ],
      "id": "external-inventory",
      "execution_count": 12,
      "outputs": [
        {
          "output_type": "stream",
          "text": [
            "State: 344\n",
            "+---------+\n",
            "|\u001b[35mR\u001b[0m: | : :\u001b[34;1mG\u001b[0m|\n",
            "| : | : : |\n",
            "| : : : : |\n",
            "| | :\u001b[43m \u001b[0m| : |\n",
            "|Y| : |B: |\n",
            "+---------+\n",
            "\n"
          ],
          "name": "stdout"
        }
      ]
    },
    {
      "cell_type": "code",
      "metadata": {
        "id": "removed-smooth",
        "colab": {
          "base_uri": "https://localhost:8080/"
        },
        "outputId": "17499c96-5fed-406d-b5e4-f0f8858c031c"
      },
      "source": [
        "env.P[344] # Dictionary with structure: {action: [(probability, nextstate, reward, done)]}"
      ],
      "id": "removed-smooth",
      "execution_count": 15,
      "outputs": [
        {
          "output_type": "execute_result",
          "data": {
            "text/plain": [
              "{0: [(1.0, 444, -1, False)],\n",
              " 1: [(1.0, 244, -1, False)],\n",
              " 2: [(1.0, 344, -1, False)],\n",
              " 3: [(1.0, 324, -1, False)],\n",
              " 4: [(1.0, 344, -10, False)],\n",
              " 5: [(1.0, 344, -10, False)]}"
            ]
          },
          "metadata": {
            "tags": []
          },
          "execution_count": 15
        }
      ]
    },
    {
      "cell_type": "markdown",
      "metadata": {
        "id": "ih_fK2kUtvRt"
      },
      "source": [
        "### Try to Solve the environment with brute force (random) and not RL\n",
        "Rewards: You will receive +20 points for a successful dropoff, and lose 1 point for every timestep it takes.\n",
        "\n",
        "There is also a 10 point penalty for illegal pick-up and drop-off actions."
      ],
      "id": "ih_fK2kUtvRt"
    },
    {
      "cell_type": "code",
      "metadata": {
        "colab": {
          "base_uri": "https://localhost:8080/"
        },
        "id": "c-zGJaFitGI9",
        "outputId": "2514fd35-1ac5-4844-a5aa-4c2461f1841d"
      },
      "source": [
        "env.s = 344  # set environment to the state above\n",
        "\n",
        "epochs = 0\n",
        "penalties = 0\n",
        "reward = 0\n",
        "\n",
        "frames = [] # for animation\n",
        "\n",
        "done = False\n",
        "\n",
        "while not done:\n",
        "    action = env.action_space.sample() # we can randomly sample actions\n",
        "    state, reward, done, info = env.step(action) # Step the environment by one timestep\n",
        "\n",
        "    if reward == -10:\n",
        "        penalties += 1\n",
        "    \n",
        "    # Put each rendered frame into dict for animation\n",
        "    frames.append({\n",
        "        'frame': env.render(mode='ansi'),\n",
        "        'state': state,\n",
        "        'action': action,\n",
        "        'reward': reward\n",
        "        }\n",
        "    )\n",
        "    epochs += 1\n",
        "    \n",
        "print(\"Timesteps taken: {}\".format(epochs))\n",
        "print(\"Penalties incurred: {}\".format(penalties))"
      ],
      "id": "c-zGJaFitGI9",
      "execution_count": 18,
      "outputs": [
        {
          "output_type": "stream",
          "text": [
            "Timesteps taken: 213\n",
            "Penalties incurred: 60\n"
          ],
          "name": "stdout"
        }
      ]
    },
    {
      "cell_type": "code",
      "metadata": {
        "colab": {
          "base_uri": "https://localhost:8080/"
        },
        "id": "EYbxp79Hu-9-",
        "outputId": "30f4c824-a465-4b5a-964f-c9b6bc4a0a76"
      },
      "source": [
        "def print_frames(frames):\n",
        "    for i, frame in enumerate(frames):\n",
        "        clear_output(wait=True)\n",
        "        print(frame['frame'])\n",
        "        print(f\"Timestep: {i + 1}\")\n",
        "        print(f\"State: {frame['state']}\")\n",
        "        print(f\"Action: {frame['action']}\")\n",
        "        print(f\"Reward: {frame['reward']}\")\n",
        "        sleep(.1)\n",
        "        \n",
        "print_frames(frames)"
      ],
      "id": "EYbxp79Hu-9-",
      "execution_count": 60,
      "outputs": [
        {
          "output_type": "stream",
          "text": [
            "+---------+\n",
            "|\u001b[35m\u001b[34;1m\u001b[43mR\u001b[0m\u001b[0m\u001b[0m: | : :G|\n",
            "| : | : : |\n",
            "| : : : : |\n",
            "| | : | : |\n",
            "|Y| : |B: |\n",
            "+---------+\n",
            "  (Dropoff)\n",
            "\n",
            "Timestep: 213\n",
            "State: 0\n",
            "Action: 5\n",
            "Reward: 20\n"
          ],
          "name": "stdout"
        }
      ]
    },
    {
      "cell_type": "markdown",
      "metadata": {
        "id": "ZCn1qZqFyFOs"
      },
      "source": [
        "Not good! It took a lot of steps for only one drop."
      ],
      "id": "ZCn1qZqFyFOs"
    },
    {
      "cell_type": "markdown",
      "metadata": {
        "id": "g7NoAiPgydS7"
      },
      "source": [
        "## Q-Learning\n",
        "\n",
        "Q-values are updated using the equation:\n",
        "\n",
        "Q(state,action)←(1−α)Q(state,action)+α(reward+γmaxaQ(next state,all actions))\n",
        "\n",
        "Where:\n",
        "- α (alpha) is the learning rate (0<α≤1)\n",
        "- γ (gamma) is the discount factor (0≤γ≤1)\n",
        "\n",
        "The Q-table is a matrix where we have a row for every state (500) and a column for every action (6). "
      ],
      "id": "g7NoAiPgydS7"
    },
    {
      "cell_type": "code",
      "metadata": {
        "id": "technological-charge"
      },
      "source": [
        "q_table = np.zeros([env.observation_space.n, env.action_space.n]) # Initialize the Q-table by all zeros"
      ],
      "id": "technological-charge",
      "execution_count": 38,
      "outputs": []
    },
    {
      "cell_type": "markdown",
      "metadata": {
        "id": "9kGiWPNn1lVM"
      },
      "source": [
        "### Training the agent (See below for Hyperparameters Optimization)"
      ],
      "id": "9kGiWPNn1lVM"
    },
    {
      "cell_type": "code",
      "metadata": {
        "id": "chronic-things",
        "colab": {
          "base_uri": "https://localhost:8080/"
        },
        "outputId": "bbcf7693-bfcf-45cd-be6c-e06dbad4e930"
      },
      "source": [
        "%%time\n",
        "\n",
        "max_episodes = 500000\n",
        "\n",
        "# Set Hyperparameters\n",
        "alpha = 0.25\n",
        "gamma = 0.775\n",
        "epsilon = 0\n",
        "\n",
        "# For storing and plotting the metrics\n",
        "all_epochs = []\n",
        "all_penalties = []\n",
        "\n",
        "random_seed= 42 # 42 is The Answer To Life, The Universe and Everything\n",
        "rng =np.random.default_rng(random_seed)\n",
        "\n",
        "for i in range(1, max_episodes+1):\n",
        "    state = env.reset()\n",
        "\n",
        "    epochs, penalties, reward, = 0, 0, 0\n",
        "    done = False\n",
        "    \n",
        "    while not done:\n",
        "        if rng.random() < epsilon:\n",
        "            action = env.action_space.sample() # Explore action space\n",
        "        else:\n",
        "            action = np.argmax(q_table[state]) # Exploit learned values\n",
        "\n",
        "        next_state, reward, done, info = env.step(action) \n",
        "        \n",
        "        old_value = q_table[state, action]\n",
        "        next_max = np.max(q_table[next_state])\n",
        "        \n",
        "        new_value = (1 - alpha) * old_value + alpha * (reward + gamma * next_max)\n",
        "        q_table[state, action] = new_value\n",
        "\n",
        "        if reward == -10:\n",
        "            penalties += 1\n",
        "\n",
        "        state = next_state\n",
        "        epochs += 1\n",
        "        \n",
        "    if i % 1000 == 0:\n",
        "        clear_output(wait=True)\n",
        "        print(f\"Episode: {i}\")\n",
        "\n",
        "print(\"Training finished.\\n\")"
      ],
      "id": "chronic-things",
      "execution_count": 120,
      "outputs": [
        {
          "output_type": "stream",
          "text": [
            "Episode: 500000\n",
            "Training finished.\n",
            "\n",
            "CPU times: user 3min 51s, sys: 31.4 s, total: 4min 22s\n",
            "Wall time: 3min 49s\n"
          ],
          "name": "stdout"
        }
      ]
    },
    {
      "cell_type": "code",
      "metadata": {
        "colab": {
          "base_uri": "https://localhost:8080/"
        },
        "id": "GHL5d32T3tFq",
        "outputId": "515e340a-4a78-4fc2-a501-2890a5485d80"
      },
      "source": [
        "# From the Q-Table if we are in the state 344 from above, we should go north\n",
        "\n",
        "print(q_table[344], \"max value\", max(q_table[344]), \"is in place 1, this is north\")"
      ],
      "id": "GHL5d32T3tFq",
      "execution_count": 121,
      "outputs": [
        {
          "output_type": "stream",
          "text": [
            "[ -4.4426257   -3.75515122  -3.82461653  -4.44523844 -12.8157211\n",
            " -12.80997337] max value -3.755151224845913 is in place 1, this is north\n"
          ],
          "name": "stdout"
        }
      ]
    },
    {
      "cell_type": "markdown",
      "metadata": {
        "id": "1_yuVxOK6nAQ"
      },
      "source": [
        "### Evaluating the Agent"
      ],
      "id": "1_yuVxOK6nAQ"
    },
    {
      "cell_type": "code",
      "metadata": {
        "id": "arctic-lawyer",
        "colab": {
          "base_uri": "https://localhost:8080/"
        },
        "outputId": "cb6b0a39-8076-4a06-f79d-dcd43ee32fb8"
      },
      "source": [
        "total_epochs, total_penalties = 0, 0\n",
        "episodes = 1000\n",
        "\n",
        "for _ in range(episodes):\n",
        "    state = env.reset()  # reset environment to a new, random state\n",
        "    epochs, penalties, reward = 0, 0, 0\n",
        "    \n",
        "    done = False\n",
        "    \n",
        "    while not done:\n",
        "        action = np.argmax(q_table[state])\n",
        "        state, reward, done, info = env.step(action)\n",
        "\n",
        "        if reward == -10:\n",
        "            penalties += 1\n",
        "\n",
        "        epochs += 1\n",
        "\n",
        "    total_penalties += penalties\n",
        "    total_epochs += epochs\n",
        "\n",
        "print(f\"Results after {episodes} episodes:\")\n",
        "print(f\"Average timesteps per episode: {total_epochs / episodes}\")\n",
        "print(f\"Average penalties per episode: {total_penalties / episodes}\")"
      ],
      "id": "arctic-lawyer",
      "execution_count": 124,
      "outputs": [
        {
          "output_type": "stream",
          "text": [
            "Results after 1000 episodes:\n",
            "Average timesteps per episode: 12.911\n",
            "Average penalties per episode: 0.0\n"
          ],
          "name": "stdout"
        }
      ]
    },
    {
      "cell_type": "markdown",
      "metadata": {
        "id": "introductory-fashion"
      },
      "source": [
        "The agent's performance improved considerably from the random example above"
      ],
      "id": "introductory-fashion"
    },
    {
      "cell_type": "markdown",
      "metadata": {
        "id": "LOegG8Ap52o3"
      },
      "source": [
        "### Play a random episode in slow motion"
      ],
      "id": "LOegG8Ap52o3"
    },
    {
      "cell_type": "code",
      "metadata": {
        "id": "rocky-initial",
        "colab": {
          "base_uri": "https://localhost:8080/"
        },
        "outputId": "fe2c83b8-345e-47ff-e740-b46e930d8df3"
      },
      "source": [
        "state = env.reset()  # reset environment to a new, random state\n",
        "env.render()\n",
        "time.sleep(0.5)\n",
        "done = False\n",
        "\n",
        "while not done:\n",
        "    action = np.argmax(q_table[state])\n",
        "    state, reward, done, info = env.step(action)\n",
        "    clear_output(wait=True)\n",
        "    env.render()\n",
        "    print(reward)\n",
        "    time.sleep(0.5)"
      ],
      "id": "rocky-initial",
      "execution_count": 125,
      "outputs": [
        {
          "output_type": "stream",
          "text": [
            "+---------+\n",
            "|R: | : :G|\n",
            "| : | : : |\n",
            "| : : : : |\n",
            "| | : | : |\n",
            "|\u001b[35m\u001b[34;1m\u001b[43mY\u001b[0m\u001b[0m\u001b[0m| : |B: |\n",
            "+---------+\n",
            "  (Dropoff)\n",
            "20\n"
          ],
          "name": "stdout"
        }
      ]
    },
    {
      "cell_type": "markdown",
      "metadata": {
        "id": "PCS3Xh7A-ryt"
      },
      "source": [
        "## Hyperparameter Tuning"
      ],
      "id": "PCS3Xh7A-ryt"
    },
    {
      "cell_type": "code",
      "metadata": {
        "id": "c8YewDcCA59l"
      },
      "source": [
        "# Define Agent Class\n",
        "\n",
        "class Agent:\n",
        "\n",
        "    def __init__(self, algorithm='sarsamax', start_epsilon=1, epsilon_decay=0.9, epsilon_cut=0.1, alpha=0.01, gamma=1,\n",
        "                 nA=6):\n",
        "        \"\"\" Initialize agent.\n",
        "        Params\n",
        "        ======\n",
        "        - nA: number of actions available to the agent\n",
        "        \"\"\"\n",
        "\n",
        "        algos = {\n",
        "            'sarsamax': self.step_sarsamax,\n",
        "            'exp_sarsa': self.step_exp_sarsa\n",
        "        }\n",
        "\n",
        "        self.step = algos[algorithm]\n",
        "        self.Q = defaultdict(lambda: np.zeros(self.nA))\n",
        "        self.epsilon, self.epsilon_decay, self.epsilon_cut, self.alpha, self.gamma, self.nA = \\\n",
        "            start_epsilon, epsilon_decay, epsilon_cut, alpha, gamma, nA\n",
        "\n",
        "    def select_action(self, state):\n",
        "        r = random.random()\n",
        "        if r > self.epsilon:   # select greedy action with probability epsilon\n",
        "            return np.argmax(self.Q[state])\n",
        "        else:  # otherwise, select an action randomly\n",
        "            return random.randint(0, 5)\n",
        "\n",
        "    def get_probs(self, Q_s, epsilon, nA):\n",
        "        \"\"\" obtains the action probabilities corresponding to epsilon-greedy policy \"\"\"\n",
        "        policy_s = np.ones(nA) * epsilon / nA\n",
        "        best_a = np.argmax(Q_s)\n",
        "        policy_s[best_a] = 1 - epsilon + (epsilon / nA)\n",
        "        return policy_s\n",
        "\n",
        "    def step_exp_sarsa(self, state, action, reward, next_state, done):\n",
        "        \"\"\" Update the agent's knowledge, using the most recently sampled tuple.\n",
        "        Params\n",
        "        ======\n",
        "        - state: the previous state of the environment\n",
        "        - action: the agent's previous choice of action\n",
        "        - reward: last reward received\n",
        "        - next_state: the current state of the environment\n",
        "        - done: whether the episode is complete (True or False)\n",
        "        \"\"\"\n",
        "        if not done:\n",
        "            probs = self.get_probs(self.Q[next_state], self.epsilon, self.nA)\n",
        "\n",
        "            self.Q[state][action] += self.alpha * (\n",
        "                        reward + self.gamma * np.dot(probs, self.Q[next_state]) - self.Q[state][action])\n",
        "        else:\n",
        "            self.Q[state][action] += self.alpha * (reward - self.Q[state][action])\n",
        "            self.epsilon = self.epsilon * self.epsilon_decay\n",
        "            if self.epsilon_cut is not None:\n",
        "                self.epsilon = max(self.epsilon, self.epsilon_cut)\n",
        "\n",
        "    def step_sarsamax(self, state, action, reward, next_state, done):\n",
        "        \"\"\" Update the agent's knowledge, using the most recently sampled tuple.\n",
        "        Params\n",
        "        ======\n",
        "        - state: the previous state of the environment\n",
        "        - action: the agent's previous choice of action\n",
        "        - reward: last reward received\n",
        "        - next_state: the current state of the environment\n",
        "        - done: whether the episode is complete (True or False)\n",
        "        \"\"\"\n",
        "        if not done:\n",
        "            self.Q[state][action] += self.alpha * (\n",
        "                        reward + self.gamma * np.max(self.Q[next_state]) - self.Q[state][action])\n",
        "        else:\n",
        "            self.Q[state][action] += self.alpha * (reward - self.Q[state][action])\n",
        "            self.epsilon = self.epsilon * self.epsilon_decay\n",
        "            if self.epsilon_cut is not None:\n",
        "                self.epsilon = max(self.epsilon, self.epsilon_cut)\n",
        "\n",
        "# Function interact to Monitor performance.\n",
        "\n",
        "def interact(env, agent, num_episodes=20000, window=100, print_logs=True):\n",
        "    \"\"\" Monitor agent's performance.\n",
        "    \n",
        "    Params\n",
        "    ======\n",
        "    - env: instance of OpenAI Gym's Taxi-v1 environment\n",
        "    - agent: instance of class Agent (see Agent.py for details)\n",
        "    - num_episodes: number of episodes of agent-environment interaction\n",
        "    - window: number of episodes to consider when calculating average rewards\n",
        "    Returns\n",
        "    =======\n",
        "    - avg_rewards: deque containing average rewards\n",
        "    - best_avg_reward: largest value in the avg_rewards deque\n",
        "    \"\"\"\n",
        "    # initialize average rewards\n",
        "    avg_rewards = deque(maxlen=num_episodes)\n",
        "    # initialize best average reward\n",
        "    best_avg_reward = -math.inf\n",
        "    # initialize monitor for most recent rewards\n",
        "    samp_rewards = deque(maxlen=window)\n",
        "    # for each episode\n",
        "    for i_episode in range(1, num_episodes+1):\n",
        "        # begin the episode\n",
        "        state = env.reset()\n",
        "        # initialize the sampled reward\n",
        "        samp_reward = 0\n",
        "        while True:\n",
        "            # agent selects an action\n",
        "            action = agent.select_action(state)\n",
        "            # agent performs the selected action\n",
        "            next_state, reward, done, _ = env.step(action)\n",
        "            # agent performs internal updates based on sampled experience\n",
        "            agent.step(state, action, reward, next_state, done)\n",
        "            # update the sampled reward\n",
        "            samp_reward += reward\n",
        "            # update the state (s <- s') to next time step\n",
        "            state = next_state\n",
        "            if done:\n",
        "                # save final sampled reward\n",
        "                samp_rewards.append(samp_reward)\n",
        "                break\n",
        "        if (i_episode >= 100):\n",
        "            # get average reward from last 100 episodes\n",
        "            avg_reward = np.mean(samp_rewards)\n",
        "            # append to deque\n",
        "            avg_rewards.append(avg_reward)\n",
        "            # update best average reward\n",
        "            if avg_reward > best_avg_reward:\n",
        "                best_avg_reward = avg_reward\n",
        "        # monitor progress\n",
        "        if print_logs:\n",
        "            print(\"\\rEpisode {}/{} || Best average reward {}\".format(i_episode, num_episodes, best_avg_reward), end=\"\")\n",
        "        sys.stdout.flush()\n",
        "        # check if task is solved (according to OpenAI Gym)\n",
        "        if best_avg_reward >= 9.7:\n",
        "            if print_logs:\n",
        "                print('\\nEnvironment solved in {} episodes.'.format(i_episode), end=\"\")\n",
        "            break\n",
        "        if i_episode == num_episodes: print('\\n')\n",
        "    return avg_rewards, best_avg_reward"
      ],
      "id": "c8YewDcCA59l",
      "execution_count": 76,
      "outputs": []
    },
    {
      "cell_type": "markdown",
      "metadata": {
        "id": "VI4QpQYOWXvH"
      },
      "source": [
        "From a the python function we obtained the optimal sarsamax parameters"
      ],
      "id": "VI4QpQYOWXvH"
    },
    {
      "cell_type": "code",
      "metadata": {
        "id": "r4VLxUewJU7y"
      },
      "source": [
        "optimal_sarsa_max = {'algorithm': 'sarsamax','alpha': 0.2512238484351891, 'epsilon_cut': 0, 'epsilon_decay': 0.8888782926665223, 'start_epsilon': 0.9957089031634627, 'gamma': 0.7749915552696941}"
      ],
      "id": "r4VLxUewJU7y",
      "execution_count": 77,
      "outputs": []
    },
    {
      "cell_type": "code",
      "metadata": {
        "colab": {
          "base_uri": "https://localhost:8080/"
        },
        "id": "fGp7QyUnKUcm",
        "outputId": "8c31a488-8957-47ad-d326-e9887e4615b4"
      },
      "source": [
        "env = gym.make('Taxi-v3')\n",
        "agent = Agent(**optimal_sarsa_max)\n",
        "avg_rewards_sarsamax, best_avg_reward_sarsamax = interact(env, agent)"
      ],
      "id": "fGp7QyUnKUcm",
      "execution_count": 123,
      "outputs": [
        {
          "output_type": "stream",
          "text": [
            "Episode 20000/20000 || Best average reward 8.87\n",
            "\n"
          ],
          "name": "stdout"
        }
      ]
    },
    {
      "cell_type": "code",
      "metadata": {
        "colab": {
          "base_uri": "https://localhost:8080/",
          "height": 517
        },
        "id": "-Eg4qYGALf_m",
        "outputId": "b340ce14-39a6-4915-dec2-7b18744859ce"
      },
      "source": [
        "sns.set(rc={'figure.figsize':(11.7,8.27)})\n",
        "sns_plot = sns.lineplot(x='episode', y='reward',data = data[data.episode<1000])\n",
        "sns_plot.figure.savefig(\"tax1v3.png\")"
      ],
      "id": "-Eg4qYGALf_m",
      "execution_count": 105,
      "outputs": [
        {
          "output_type": "display_data",
          "data": {
            "image/png": "[encoded data removed]",
            "text/plain": [
              "<Figure size 842.4x595.44 with 1 Axes>"
            ]
          },
          "metadata": {
            "tags": []
          }
        }
      ]
    }
  ]
}
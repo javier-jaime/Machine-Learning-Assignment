{
  "nbformat": 4,
  "nbformat_minor": 5,
  "metadata": {
    "kernelspec": {
      "display_name": "Python 3 (ipykernel)",
      "language": "python",
      "name": "python3"
    },
    "language_info": {
      "codemirror_mode": {
        "name": "ipython",
        "version": 3
      },
      "file_extension": ".py",
      "mimetype": "text/x-python",
      "name": "python",
      "nbconvert_exporter": "python",
      "pygments_lexer": "ipython3",
      "version": "3.7.11"
    },
    "colab": {
      "name": "Pokemon_Optimization.ipynb",
      "provenance": [],
      "collapsed_sections": [
        "0f91f12a"
      ],
      "include_colab_link": true
    }
  },
  "cells": [
    {
      "cell_type": "markdown",
      "metadata": {
        "id": "view-in-github",
        "colab_type": "text"
      },
      "source": [
        "<a href=\"https://colab.research.google.com/github/javier-jaime/Tool-Crib/blob/master/Colab/Pokemon_Optimization_with_PuLP.ipynb\" target=\"_parent\"><img src=\"https://colab.research.google.com/assets/colab-badge.svg\" alt=\"Open In Colab\"/></a>"
      ]
    },
    {
      "cell_type": "markdown",
      "metadata": {
        "id": "f1790d83"
      },
      "source": [
        "# Optimal Pokemon Team Selector - Pokemon (DP/Gen 4)\n",
        "\n",
        "<br>\n",
        "Pokemon are animal-like creatures that can be captured and trained to battle against other Pokemon. At the start of each game, you’re given a choice between three initial Pokemon, known as starter Pokemon. In the Diamond and Pearl games, these are Turtwig, a grass-type turtle Pokemon; Chimchar, a fire-type chimp Pokemon; and Piplup, a water-type penguin Pokemon. They and many other Pokemon can undergo a metamorphosis called evolution up to two times, allowing them to get stronger and in some cases gain an additional typing.\n",
        "</br>\n",
        "\n",
        "The three starter Pokemon in Diamond and Pearl, some brief in-game information on each of them, and their evolutions below.\n",
        "\n",
        "The objective of most games is to train a team of up to six Pokemon and become the strongest trainer in the region.\n",
        "\n",
        "To achieve this goal, you must battle a series of eight bosses called gym leaders who each specialize in a specific element, or type, of Pokemon. \n",
        "\n",
        "<div>\n",
        "    [For example, Pikachu, the Pokemon mascot, is an electric type Pokemon. This means it has a natural advantage against water type Pokemon, but a weakness to ground types. To gain the upper hand, you want to use Pokemon strong against the type you’re facing (think of it as an advanced version of rock, paper, scissors).]\n",
        "</div> \n",
        "    \n",
        "After you defeat all eight gym leaders, you can then face off against the Elite Four at the Pokemon League. These are considered some of the strongest trainers in the land and like gym leaders, specialize in a specific type of Pokemon. Following the Elite Four is the final boss fight against the Pokemon Champion, who are users of  a myriad of different Pokemon types and is regarded as one of the hardest boss fights in the entire series. There are 18 types and you can use up to 6 Pokemon at a time. \n",
        "\n",
        "**In this case, what is the best team of Pokemon you can assemble to take on these 12 trainers prior to Champion?**"
      ],
      "id": "f1790d83"
    },
    {
      "cell_type": "markdown",
      "metadata": {
        "id": "8c39ab92"
      },
      "source": [
        "# Dataset:\n",
        "- https://www.kaggle.com/abcsds/pokemon - Pokemon List - All till XYZ\n",
        "- https://www.kaggle.com/mrinalshankar/pokemon-types - Type Matchup"
      ],
      "id": "8c39ab92"
    },
    {
      "cell_type": "markdown",
      "metadata": {
        "id": "97cfc470"
      },
      "source": [
        "# INDEX\n",
        "- Importing Libraries\n",
        "-----------------------------------------------\n",
        "**PART 1 - Creating Pokedex Gen IV - 206 * 13**\n",
        "- Loading Data -  Pokemon List , \n",
        "- Understanding Dataset - Pokemon List\n",
        "- Pre Preprocessing \n",
        "  - Renaming\n",
        "  - Filtering Pokemon Based On Pokedex\n",
        "  - Dropping Duplicates\n",
        "  - Filtering Legendaries\n",
        "\n",
        "**-------------------------------------------------------** \n",
        "\n",
        "\n",
        "**Part 2 - Creating Type Chart Matrix**\n",
        "\n",
        "- Loading Dataset\n",
        "- Understanding Dataset\n",
        "- Pre Processing \n",
        "  - Filtering type matchups based on gym & elite 4\n",
        "\n",
        "**-------------------------------------------------------** \n",
        "\n",
        "**Part 3 - Optimization**\n",
        "- Understanding Optimization Problem\n",
        "- Creating Vector Matrix\n",
        "- Performing Optimization\n",
        "    - Printing Results\n",
        "    - Optmizing Results by removing mytical pokemons and pseudo legendaries\n",
        "\n",
        "**-------------------------------------------------------** \n",
        "\n",
        "**Part 4 - Extras**\n",
        "- Creating team based on starter choice\n"
      ],
      "id": "97cfc470"
    },
    {
      "cell_type": "markdown",
      "metadata": {
        "id": "45bf5f96"
      },
      "source": [
        "## Importing Libraries"
      ],
      "id": "45bf5f96"
    },
    {
      "cell_type": "code",
      "metadata": {
        "colab": {
          "base_uri": "https://localhost:8080/"
        },
        "id": "474bfc23",
        "outputId": "a19901b2-606e-47d2-8a09-e42b555fc06b"
      },
      "source": [
        "!pip install pulp\n",
        "import numpy as np\n",
        "import pandas as pd\n",
        "from pulp import * # optimization Library"
      ],
      "id": "474bfc23",
      "execution_count": 1,
      "outputs": [
        {
          "output_type": "stream",
          "name": "stdout",
          "text": [
            "Collecting pulp\n",
            "  Downloading PuLP-2.6.0-py3-none-any.whl (14.2 MB)\n",
            "\u001b[K     |████████████████████████████████| 14.2 MB 11.3 MB/s \n",
            "\u001b[?25hInstalling collected packages: pulp\n",
            "Successfully installed pulp-2.6.0\n"
          ]
        }
      ]
    },
    {
      "cell_type": "markdown",
      "metadata": {
        "id": "eaff9051"
      },
      "source": [
        "## Loading Data - Pokemon List"
      ],
      "id": "eaff9051"
    },
    {
      "cell_type": "code",
      "metadata": {
        "id": "oZfUGJESdE-B"
      },
      "source": [
        "from google.colab import drive\n",
        "drive.mount('/content/drive')"
      ],
      "id": "oZfUGJESdE-B",
      "execution_count": null,
      "outputs": []
    },
    {
      "cell_type": "code",
      "metadata": {
        "id": "00f7f8d3"
      },
      "source": [
        "team_df = pd.read_csv(\"drive/MyDrive/Colab Notebooks/Datasets/Pokemon.csv\")"
      ],
      "id": "00f7f8d3",
      "execution_count": null,
      "outputs": []
    },
    {
      "cell_type": "markdown",
      "metadata": {
        "id": "785a60e4"
      },
      "source": [
        "## Understanding Dataset"
      ],
      "id": "785a60e4"
    },
    {
      "cell_type": "code",
      "metadata": {
        "id": "90c16629"
      },
      "source": [
        "team_df.head()"
      ],
      "id": "90c16629",
      "execution_count": null,
      "outputs": []
    },
    {
      "cell_type": "markdown",
      "metadata": {
        "id": "6d93f0de"
      },
      "source": [
        "Dataset Break Down:\n",
        "-  **Dataset - team df**\n",
        "<br>\n",
        "\n",
        "- `#` -  Id of each pokemon - Replacing with name `id` in next stage.\n",
        "\n",
        "- Name- Name Of Pokemon.\n",
        "\n",
        "- Type 1 & Type 2- Pokemon Types - NaN if no secondary type avaliable.\n",
        "    \n",
        "- Total - Total Stats.\n",
        "\n",
        "- [HP,\tAttack,\tDefense,Sp. Atk,Sp. Def,Speed] - Indivisual Breakdown of total stats - states how strong a pokemon abilities are.\n",
        "\n",
        "- Generation- Genration/ Game Titles in which pokemon was introduced in like **Red-Blue, Black White, Daimond And Pearl**.\n",
        "\n",
        "- Legendary - Legendary pokemons - rare and have very high stats. - will not consider for fairenss , hence droped in data -processing stage."
      ],
      "id": "6d93f0de"
    },
    {
      "cell_type": "markdown",
      "metadata": {
        "id": "fd57672e"
      },
      "source": [
        "##  Pre Processing "
      ],
      "id": "fd57672e"
    },
    {
      "cell_type": "code",
      "metadata": {
        "id": "f7f6fed7"
      },
      "source": [
        "# renaming # -> Id\n",
        "team_df = team_df.rename(columns= {\"#\" : \"id\"})\n",
        "team_df.head()"
      ],
      "id": "f7f6fed7",
      "execution_count": null,
      "outputs": []
    },
    {
      "cell_type": "code",
      "metadata": {
        "id": "51ac3ac7"
      },
      "source": [
        "# storing gen 4 pokemon index(id) from observation 387-493\n",
        "gen4 = list(range(387 , 494))\n",
        "# storing gen1-gen3 pokemon index from bulbapedia \n",
        "gen1_gen3 = [63, 64, 65, 129, 130, 315, 41, 42, 169, 74, 75, 76,\n",
        "               95, 208, 66, 67, 68, 54, 55, 265, 266, 267, 268, 269, \n",
        "                214, 190, 92, 93, 94, 200, 198, 118, 119, 339, 340, \n",
        "                358, 307, 308, 77, 78, 185, 122, 113, 242, 173, 35, 36,\n",
        "               172, 25, 26, 163, 164, 143, 201, 194, 195, 278, 279, 203,\n",
        "                298, 183, 184, 223, 224, 72, 73, 349, 350, 226, 215, 207, \n",
        "                299, 280, 281, 282, 108, 133, 134, 135, 136, 196, 197,\n",
        "               333, 334, 175, 176, 228, 229, 81, 82, 114, 193, 357, 111, \n",
        "                112, 355, 356, 137, 233, 123, 212, 239, 125, 240, 126, \n",
        "                220, 221, 361, 362, 359]\n",
        "\n",
        "# checking len\n",
        "len(gen1_gen3)"
      ],
      "id": "51ac3ac7",
      "execution_count": null,
      "outputs": []
    },
    {
      "cell_type": "code",
      "metadata": {
        "id": "bd01e349"
      },
      "source": [
        "# storing gen1-gen3 pokemon index from bulbapedia \n",
        "gen1_gen3 = [63, 64, 65, 129, 130, 315, 41, 42, 169, 74, 75, 76,\n",
        "               95, 208, 66, 67, 68, 54, 55, 265, 266, 267, 268, 269, \n",
        "                214, 190, 92, 93, 94, 200, 198, 118, 119, 339, 340, \n",
        "                358, 307, 308, 77, 78, 185, 122, 113, 242, 173, 35, 36,\n",
        "               172, 25, 26, 163, 164, 143, 201, 194, 195, 278, 279, 203,\n",
        "                298, 183, 184, 223, 224, 72, 73, 349, 350, 226, 215, 207, \n",
        "                299, 280, 281, 282, 108, 133, 134, 135, 136, 196, 197,\n",
        "               333, 334, 175, 176, 228, 229, 81, 82, 114, 193, 357, 111, \n",
        "                112, 355, 356, 137, 233, 123, 212, 239, 125, 240, 126, \n",
        "                220, 221, 361, 362, 359]\n",
        "\n",
        "# checking len\n",
        "len(gen1_gen3)"
      ],
      "id": "bd01e349",
      "execution_count": null,
      "outputs": []
    },
    {
      "cell_type": "code",
      "metadata": {
        "id": "4de14679"
      },
      "source": [
        "# creating pokedex\n",
        "pokedex = gen4+gen1_gen3"
      ],
      "id": "4de14679",
      "execution_count": null,
      "outputs": []
    },
    {
      "cell_type": "code",
      "metadata": {
        "id": "3c82cc50"
      },
      "source": [
        "# filtering out the dataset based on pokedex till gen 4\n",
        "gen4_dex =  team_df[team_df.id.isin(pokedex)]"
      ],
      "id": "3c82cc50",
      "execution_count": null,
      "outputs": []
    },
    {
      "cell_type": "code",
      "metadata": {
        "id": "ac7cbfa8"
      },
      "source": [
        "gen4_dex"
      ],
      "id": "ac7cbfa8",
      "execution_count": null,
      "outputs": []
    },
    {
      "cell_type": "code",
      "metadata": {
        "id": "5f684c16"
      },
      "source": [
        "len(gen4_dex)"
      ],
      "id": "5f684c16",
      "execution_count": null,
      "outputs": []
    },
    {
      "cell_type": "code",
      "metadata": {
        "id": "6516e879"
      },
      "source": [
        "# removing dupilacates like id -550,551 - Shaymin forms \n",
        "gen4_dex= gen4_dex.drop_duplicates(subset = ['id'])\n",
        "gen4_dex"
      ],
      "id": "6516e879",
      "execution_count": null,
      "outputs": []
    },
    {
      "cell_type": "code",
      "metadata": {
        "id": "e5d51540"
      },
      "source": [
        "# removing Legendary pokemon for fairness - just filtering non legendaries\n",
        "gen4_dex = gen4_dex[gen4_dex.Legendary == False]\n",
        "gen4_dex"
      ],
      "id": "e5d51540",
      "execution_count": null,
      "outputs": []
    },
    {
      "cell_type": "markdown",
      "metadata": {
        "id": "4f73ecf0"
      },
      "source": [
        "**-----------------------------------------------------------------------------------------------------------------**"
      ],
      "id": "4f73ecf0"
    },
    {
      "cell_type": "markdown",
      "metadata": {
        "id": "48d67972"
      },
      "source": [
        "# Creating Type Chart Matrix"
      ],
      "id": "48d67972"
    },
    {
      "cell_type": "code",
      "metadata": {
        "id": "7d94331b"
      },
      "source": [
        "# loading dataset- type_chart\n",
        "type_chart = pd.read_csv(\"drive/MyDrive/Colab Notebooks/Datasets/Pokemon Type Chart.csv\" , index_col=[0])"
      ],
      "id": "7d94331b",
      "execution_count": null,
      "outputs": []
    },
    {
      "cell_type": "markdown",
      "metadata": {
        "id": "11be436c"
      },
      "source": [
        "## Understanding Dataset"
      ],
      "id": "11be436c"
    },
    {
      "cell_type": "code",
      "metadata": {
        "id": "71591002"
      },
      "source": [
        "type_chart"
      ],
      "id": "71591002",
      "execution_count": null,
      "outputs": []
    },
    {
      "cell_type": "markdown",
      "metadata": {
        "id": "0f91f12a"
      },
      "source": [
        "### Dataset Break Down:\n",
        "-  **Dataset - type_chart**\n",
        "\n",
        "* Basics\n",
        "    - Row - Repersents the pokemon type we are using\n",
        "    - Column - Represents the opposing pokemon_type\n",
        "\n",
        "Values - Effect on type matchups\n",
        "- 0.0 - Has no effect in type matchups - ex: pikachu(electric) vs geodude(ground)\n",
        "- 0.5 - Not so effective - ex: pikachu(electric) vs Dragonite(dragon) \n",
        "- 1.0 - Effective/ Neutral Damange Ex: pikachu(electric) vs charmander(fire) \n",
        "- 2.0 - Super Effective  Ex: pikachu(electric) vs  starmie (water)\n",
        "\n",
        "**exception : pikachu defeated dragonite in orange cup/league, but we are leaving the anime/manga.Also used pikchau as it is pokemon mascot**"
      ],
      "id": "0f91f12a"
    },
    {
      "cell_type": "markdown",
      "metadata": {
        "id": "26cd244d"
      },
      "source": [
        "## Pre Processing - Type Matrix\n",
        "---\n",
        "Filtering `type_chart` based on type of pokemon used by gym leaders & Elite Fours"
      ],
      "id": "26cd244d"
    },
    {
      "cell_type": "code",
      "metadata": {
        "id": "3b14f87b"
      },
      "source": [
        "# storing types for reference\n",
        "pkmn_types = ['Rock', 'Grass', 'Fighting', 'Water', 'Ghost', 'Steel',\n",
        "         'Ice', 'Electric', 'Bug', 'Ground', 'Fire', 'Psychic'] # more can be included in later gen\n",
        "\n"
      ],
      "id": "3b14f87b",
      "execution_count": null,
      "outputs": []
    },
    {
      "cell_type": "code",
      "metadata": {
        "id": "07fbe9e1"
      },
      "source": [
        "# filtering  \n",
        "gym_elite_four = type_chart[[c for c in type_chart.columns if c in pkmn_types]]\n",
        "gym_elite_four"
      ],
      "id": "07fbe9e1",
      "execution_count": null,
      "outputs": []
    },
    {
      "cell_type": "markdown",
      "metadata": {
        "id": "ae204d28"
      },
      "source": [
        "**----------------------------------------------------------------------------------------------------------------------------**"
      ],
      "id": "ae204d28"
    },
    {
      "cell_type": "markdown",
      "metadata": {
        "id": "334b245e"
      },
      "source": [
        "# Optimization"
      ],
      "id": "334b245e"
    },
    {
      "cell_type": "markdown",
      "metadata": {
        "id": "241199ed"
      },
      "source": [
        "## Understanding Optimization Problem\n",
        "Objective: \n",
        "\n",
        "Need Team Of 6 Pokemons Whose Type Are Super Effective Then The Gym Leaders And Elite Fours Under Following Constraints\n",
        "- Must Have A Starter Pokemon And Their Evolutions(S)\n",
        "- No Legendary or Mythical Pokemond (C, S) # upto gen4\n",
        "- Pokemon must be on team (P[i])\n",
        "\n",
        "\n",
        "With all these rules applied the problem in hand becomes an optimization problem as :\n",
        "\n",
        "$T_i P_i$\n",
        "\n",
        "With Constraints\n",
        "\n",
        "$\\sum P_i =6$\n",
        "\n",
        "$\\sum_{i\\in S} P_i =1$\n",
        "\n",
        "$\\sum_{i\\in P} A_{ij} P_i \\ge 1  ~ \\forall j$\n",
        "\n",
        "Where:\n",
        "- T - Total Stats of Pokemon at **i**th pos - (total column in gen4_dex)\n",
        "- P[i] -   Decision variavble to decide if pokemon[i] is on team or not\n",
        "- S - Set of starter pokemon\n",
        "- A[i][j] - Binary matrix for type effec **if pokemon@(ith) pos effective against pokemon@(jth) pos then 1 else 0**\n",
        "\n",
        "\n",
        "- P[i] = 6 - Total no of pokemon 6\n",
        "- P[i] = 1 , i belongs to S - One Pokemon As Starter\n",
        "-  C & M - Refefers to Cresalia and Manaphy whose use are to be restricted\n",
        "\n",
        "\n",
        "\n",
        "\n",
        "All we need is to maximize the total stats under following contraints - Cost fn - Similar to Gradient Decent which can be solved using linear programing (`plup`)"
      ],
      "id": "241199ed"
    },
    {
      "cell_type": "code",
      "metadata": {
        "id": "cc158baa"
      },
      "source": [
        "# changing Types 1 to Type to insure no error \n",
        "#while iterating using pandas\n",
        "gen4_dex = gen4_dex.rename(columns= {\"Type 1\" : \"Type1\"})\n",
        "gen4_dex = gen4_dex.rename(columns= {\"Type 2\" : \"Type2\"})"
      ],
      "id": "cc158baa",
      "execution_count": null,
      "outputs": []
    },
    {
      "cell_type": "code",
      "metadata": {
        "id": "8f322144"
      },
      "source": [
        "gen4_dex"
      ],
      "id": "8f322144",
      "execution_count": null,
      "outputs": []
    },
    {
      "cell_type": "code",
      "metadata": {
        "id": "3ce1b6d7"
      },
      "source": [
        "# creating list to store req variable\n",
        "ids = [] # contains the id of each pokemon\n",
        "names = [] # list containg all the pokemon names\n",
        "total_stats = []  # total stats/ total column of pokemon dataset\n",
        "effective_type =[] # store pokemon type which are effective agaist the opponents pokemon\n",
        "\n",
        "# iterating through entire data to store different variables\n",
        "i = 0 # counter/ iterator\n",
        "for row in gen4_dex.itertuples(index=True, name='Pandas'):\n",
        "    ids.append(row.id)\n",
        "    names.append(row.Name)\n",
        "    \n",
        "    # Check what types the Pokemon is strong against\n",
        "    effective_type.append([1 if s >= 2.0 else 0 for s in list(gym_elite_four.loc[row.Type1])])\n",
        "    total_stats.append(row.Total)\n",
        "    \n",
        "    # checking for type 2 for additional typings(advantage) \n",
        "    try:\n",
        "        effective_type[i] = list(np.add(effective_type[i], \n",
        "                                        [1 if s >= 2.0 else 0 \n",
        "                                         for s in list(gym_elite_four.loc[row.Type2])]))\n",
        "        \n",
        "    except:\n",
        "        KeyError\n",
        "        \n",
        "    i += 1\n",
        "    \n",
        "# Equals 1 if the Pokemon is strong against the type indicated; 0 otherwise \n",
        "#--> 206 by 18 matrix # Aij\n",
        "advantage = [[1 if r >= 1 else 0 for r in effective_type[i]] for i in range(206)]\n",
        "\n",
        "# Create the set of starter Pokemon\n",
        "starterNames = ['Turtwig', 'Grotle', 'Torterra', \n",
        "                'Chimchar', 'Monferno', 'Infernape',\n",
        "               'Piplup', 'Prinplup', 'Empoleon']\n",
        "\n",
        "starter_idx = []\n",
        "for pkmn in starterNames:\n",
        "    starter_idx.append(names.index(pkmn))\n",
        "    \n",
        "# creating mythyical indices list to later include the constraints\n",
        "mythical_names = ['Cresselia', 'Manaphy'] # list of names \n",
        "\n",
        "# using names to find the index of pokemon and adding mythical index\n",
        "mythical_idx = []\n",
        "\n",
        "for i in mythical_names:\n",
        "    mythical_idx.append(names.index(i))\n"
      ],
      "id": "3ce1b6d7",
      "execution_count": null,
      "outputs": []
    },
    {
      "cell_type": "code",
      "metadata": {
        "id": "747cb968"
      },
      "source": [
        "starter_idx"
      ],
      "id": "747cb968",
      "execution_count": null,
      "outputs": []
    },
    {
      "cell_type": "markdown",
      "metadata": {
        "id": "f6f35b2c"
      },
      "source": [
        "## Creating Model"
      ],
      "id": "f6f35b2c"
    },
    {
      "cell_type": "code",
      "metadata": {
        "id": "40894919"
      },
      "source": [
        "# define model name and objective end goal - max/min\n",
        "best_team = LpProblem(\"optimal_team\", LpMaximize)\n",
        "\n",
        "# defining a sparce matrix for pokemon i.e mask with 0 & 1s which will be later populated\n",
        "Pokemon = LpVariable.dicts(\"Pokemon\", range(206), cat=LpBinary) # 206 pokemon to consider\n",
        "\n",
        "# defining the objective fn to maximize - defined earlier\n",
        "# Ti Pi\n",
        "best_team += lpSum([total_stats[pkmn] * Pokemon[pkmn] \n",
        "                    for pkmn in range(206)])\n",
        "\n",
        "# adding contraint that we need only 6 pokemon on team(pi = 6)\n",
        "best_team += lpSum([Pokemon[pkmn] for pkmn in range(206)]) == 6\n",
        "\n",
        "# adding 2nd constraint that out team should have one starter pokemon(S)\n",
        "best_team += lpSum([Pokemon[pkmn] for pkmn in starter_idx]) == 1\n",
        "\n",
        "# adding contraints that we can't use mythical pokemon(C,M)\n",
        "best_team += lpSum([Pokemon[pkmn] for pkmn in mythical_idx]) == 0\n",
        "\n",
        "# adding contraint that team should have \n",
        "#atleast one pokemon which has type advantage against\n",
        "#one of the Gym leader/Elite Four\n",
        "for i in range(12):\n",
        "    best_team += lpSum([advantage[pkmn][i] * Pokemon[pkmn] \n",
        "                        for pkmn in range(206)]) >=1\n",
        "    \n",
        "# finding the soltution\n",
        "best_team.solve()"
      ],
      "id": "40894919",
      "execution_count": null,
      "outputs": []
    },
    {
      "cell_type": "code",
      "metadata": {
        "id": "d18020ba"
      },
      "source": [
        "# printing out results - > Best 6 pokemons \n",
        "for i in range(206):\n",
        "    if Pokemon[i].value() == 1:\n",
        "        print(names[i])"
      ],
      "id": "d18020ba",
      "execution_count": null,
      "outputs": []
    },
    {
      "cell_type": "markdown",
      "metadata": {
        "id": "33fdb22a"
      },
      "source": [
        "Now we have a more balanced team in terms of both stats and types with:\n",
        "- Gyarados (water+flying),\n",
        "- Infernape (fire+fighting), \n",
        "- Garchomp (dragon+ground), \n",
        "- Electivire (electric), \n",
        "- Togekiss (fairy+flying).\n",
        "- Dusknoir (ghost)"
      ],
      "id": "33fdb22a"
    },
    {
      "cell_type": "markdown",
      "metadata": {
        "id": "43cb9c6d"
      },
      "source": [
        "# Extras\n",
        "\n",
        "This section covers how to use own starters and create an effective team around that!\n",
        "The previous part is optimal for any type but this is\n",
        "for those who are affinated towards a specific type and want them as a starters"
      ],
      "id": "43cb9c6d"
    },
    {
      "cell_type": "markdown",
      "metadata": {
        "id": "5f69df20"
      },
      "source": [
        "Logic:\n",
        "- create each of stater index, (Piplup - penguin)\n",
        "- then use set difference to remove the other stater which are in starter_idx and \n",
        "- finally include constraints that no other starter can be used and the stater we wish must me included\n",
        "\n"
      ],
      "id": "5f69df20"
    },
    {
      "cell_type": "code",
      "metadata": {
        "id": "ab8aa11d"
      },
      "source": [
        "# Storing starter index -> full evolution chain\n",
        "water_starters = [116, 117, 118] \n",
        "grass_starters = [110,111,112] \n",
        "fire_starters = [113,114,115]"
      ],
      "id": "ab8aa11d",
      "execution_count": null,
      "outputs": []
    },
    {
      "cell_type": "code",
      "metadata": {
        "id": "a0eda13e"
      },
      "source": [
        "# creating a list of non stater_types using set diffrence\n",
        "not_water_starters = list(set(starter_idx)- set(water_starters))\n",
        "\n",
        "not_fire_starters = list(set(starter_idx)- set(fire_starters))\n",
        "\n",
        "not_grass_starters = list(set(starter_idx)- set(grass_starters))"
      ],
      "id": "a0eda13e",
      "execution_count": null,
      "outputs": []
    },
    {
      "cell_type": "code",
      "metadata": {
        "id": "601265c7"
      },
      "source": [
        "# complements quick verify\n",
        "print(\"Not water staters: \",not_water_starters)\n",
        "print(\"Not fire staters: \",not_fire_starters)\n",
        "print(\"Not grass staters: \",not_grass_starters)"
      ],
      "id": "601265c7",
      "execution_count": null,
      "outputs": []
    },
    {
      "cell_type": "code",
      "metadata": {
        "id": "c6dd0709"
      },
      "source": [
        "# Intialize problem using name and objective\n",
        "best_team = LpProblem(\"optimal_team\", LpMaximize)\n",
        "\n",
        "# defining a sparce matrix for pokemon i.e mask with 0 & 1s which will be later populated\n",
        "Pokemon = LpVariable.dicts(\"Pokemon\", range(206), cat=LpBinary) # 206 pokemon to consider\n",
        "\n",
        "# defining the objective fn to maximize TiPi\n",
        "best_team += lpSum([total_stats[pkmn] * Pokemon[pkmn] for pkmn in range(206)])\n",
        "\n",
        "# adding contraint that we need only 6 pokemon on team\n",
        "best_team += lpSum([Pokemon[pkmn] for pkmn in range(206)]) == 6\n",
        "\n",
        "\n",
        "# constraint that we cant have mythical and pseudo legendary pokemons\n",
        "best_team += lpSum([Pokemon[pkmn] for pkmn in mythical_idx]) == 0\n",
        "\n",
        "# need alteast 1 user defined stater - here water\n",
        "best_team += lpSum([Pokemon[pkmn] for pkmn in water_starters]) == 1\n",
        "\n",
        "# No other staters  \n",
        "best_team += lpSum([Pokemon[pkmn] for pkmn in not_water_starters]) == 0    \n",
        "\n",
        "\n",
        "# adding contraint that team should have atleast one pokemon which has type \n",
        "# advantage against one of the Gym leader/Elite Four\n",
        "for i in range(12):\n",
        "    best_team += lpSum([advantage[pkmn][i] * Pokemon[pkmn] for pkmn in range(206)]) >=1\n",
        "    \n",
        "    \n",
        "# finding the soltution\n",
        "best_team.solve()"
      ],
      "id": "c6dd0709",
      "execution_count": null,
      "outputs": []
    },
    {
      "cell_type": "code",
      "metadata": {
        "id": "56ffbaf1"
      },
      "source": [
        "for i in range(206):\n",
        "    if Pokemon[i].value() == 1:\n",
        "        print(names[i])"
      ],
      "id": "56ffbaf1",
      "execution_count": null,
      "outputs": []
    },
    {
      "cell_type": "markdown",
      "metadata": {
        "id": "86b78328"
      },
      "source": [
        "# Tutorial - must have desired pokemon"
      ],
      "id": "86b78328"
    },
    {
      "cell_type": "code",
      "metadata": {
        "id": "0584c901"
      },
      "source": [
        "def index_finder(desired_name, name_list):\n",
        "    # iterate throught the name_list\n",
        "    idx = []\n",
        "    for i in desired_name:\n",
        "        idx.append(names.index((i)))\n",
        "    return idx"
      ],
      "id": "0584c901",
      "execution_count": null,
      "outputs": []
    },
    {
      "cell_type": "code",
      "metadata": {
        "id": "a4795814"
      },
      "source": [
        "desired_idx = index_finder([\"Pikachu\", \"Altaria\", \"Rotom\", \"Milotic\"], names)\n",
        "desired_idx"
      ],
      "id": "a4795814",
      "execution_count": null,
      "outputs": []
    },
    {
      "cell_type": "code",
      "metadata": {
        "id": "ed2194e7"
      },
      "source": [
        "# define model name and objective end goal - max/min\n",
        "best_team = LpProblem(\"optimal_team\", LpMaximize)\n",
        "\n",
        "# defining a sparce matrix for pokemon i.e mask with 0 & 1s which will be later populated\n",
        "Pokemon = LpVariable.dicts(\"Pokemon\", range(206), cat=LpBinary) # 206 pokemin to consider\n",
        "\n",
        "# defining the objective fn to maximize - defined earlier\n",
        "best_team += lpSum([total_stats[pkmn] * Pokemon[pkmn] for pkmn in range(206)])\n",
        "\n",
        "# adding contraint that we need only 6 pokemon on team\n",
        "best_team += lpSum([Pokemon[pkmn] for pkmn in range(206)]) == 6\n",
        "\n",
        "\n",
        "# constraint that we cant have mythical and pseudo legendary pokemons\n",
        "best_team += lpSum([Pokemon[pkmn] for pkmn in mythical_idx]) == 0\n",
        "\n",
        "# must have desired one\n",
        "best_team += lpSum([Pokemon[pkmn] for pkmn in desired_idx]) == 1\n",
        "\n",
        "# adding contraint that team should have atleast one pokemon which has type advantage against one of the Gym leader/Elite Four\n",
        "for i in range(12):\n",
        "    best_team += lpSum([advantage[pkmn][i] * Pokemon[pkmn] for pkmn in range(206)]) >=1\n",
        "\n",
        "    \n",
        "# adding 2nd constraint that out team should have one starter pokemon \n",
        "best_team += lpSum([Pokemon[pkmn] for pkmn in fire_starters]) == 1\n",
        "\n",
        "\n",
        "# adding contraints that we can't use other starters\n",
        "best_team += lpSum([Pokemon[pkmn] for pkmn in not_fire_starters]) == 0    \n",
        "    \n",
        "    \n",
        "# finding the soltution\n",
        "best_team.solve()"
      ],
      "id": "ed2194e7",
      "execution_count": null,
      "outputs": []
    },
    {
      "cell_type": "code",
      "metadata": {
        "id": "89a43564"
      },
      "source": [
        "for i in range(206):\n",
        "    if Pokemon[i].value() == 1:\n",
        "        print(names[i])"
      ],
      "id": "89a43564",
      "execution_count": null,
      "outputs": []
    }
  ]
}
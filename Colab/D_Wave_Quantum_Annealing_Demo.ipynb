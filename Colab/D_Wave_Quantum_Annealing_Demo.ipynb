{
  "cells": [
    {
      "cell_type": "markdown",
      "metadata": {
        "id": "view-in-github",
        "colab_type": "text"
      },
      "source": [
        "<a href=\"https://colab.research.google.com/github/javier-jaime/Tool-Crib/blob/master/Colab/D_Wave_Quantum_Annealing_Demo.ipynb\" target=\"_parent\"><img src=\"https://colab.research.google.com/assets/colab-badge.svg\" alt=\"Open In Colab\"/></a>"
      ]
    },
    {
      "cell_type": "markdown",
      "metadata": {
        "id": "9Ld6xO_gU1GD"
      },
      "source": [
        "# Quantum Annealing Demo"
      ]
    },
    {
      "cell_type": "code",
      "execution_count": 1,
      "metadata": {
        "id": "SKFxM8wQANz2",
        "colab": {
          "base_uri": "https://localhost:8080/"
        },
        "outputId": "c640863a-1461-4696-c73d-b5a08c6785a8"
      },
      "outputs": [
        {
          "output_type": "stream",
          "name": "stdout",
          "text": [
            "Collecting dwave-ocean-sdk==6.0.1\n",
            "  Downloading dwave_ocean_sdk-6.0.1-py3-none-any.whl (8.4 kB)\n",
            "Collecting dimod==0.12.0 (from dwave-ocean-sdk==6.0.1)\n",
            "  Downloading dimod-0.12.0-cp310-cp310-manylinux_2_17_x86_64.manylinux2014_x86_64.whl (15.4 MB)\n",
            "\u001b[2K     \u001b[90m━━━━━━━━━━━━━━━━━━━━━━━━━━━━━━━━━━━━━━━━\u001b[0m \u001b[32m15.4/15.4 MB\u001b[0m \u001b[31m27.1 MB/s\u001b[0m eta \u001b[36m0:00:00\u001b[0m\n",
            "\u001b[?25hCollecting dwave-cloud-client==0.10.3 (from dwave-ocean-sdk==6.0.1)\n",
            "  Downloading dwave_cloud_client-0.10.3-py3-none-any.whl (111 kB)\n",
            "\u001b[2K     \u001b[90m━━━━━━━━━━━━━━━━━━━━━━━━━━━━━━━━━━━━━━\u001b[0m \u001b[32m111.4/111.4 kB\u001b[0m \u001b[31m11.2 MB/s\u001b[0m eta \u001b[36m0:00:00\u001b[0m\n",
            "\u001b[?25hCollecting dwave-greedy==0.2.5 (from dwave-ocean-sdk==6.0.1)\n",
            "  Downloading dwave_greedy-0.2.5-cp310-cp310-manylinux_2_17_x86_64.manylinux2014_x86_64.whl (684 kB)\n",
            "\u001b[2K     \u001b[90m━━━━━━━━━━━━━━━━━━━━━━━━━━━━━━━━━━━━━━\u001b[0m \u001b[32m684.2/684.2 kB\u001b[0m \u001b[31m39.8 MB/s\u001b[0m eta \u001b[36m0:00:00\u001b[0m\n",
            "\u001b[?25hCollecting dwave-hybrid==0.6.9 (from dwave-ocean-sdk==6.0.1)\n",
            "  Downloading dwave_hybrid-0.6.9-py3-none-any.whl (74 kB)\n",
            "\u001b[2K     \u001b[90m━━━━━━━━━━━━━━━━━━━━━━━━━━━━━━━━━━━━━━━━\u001b[0m \u001b[32m74.7/74.7 kB\u001b[0m \u001b[31m7.3 MB/s\u001b[0m eta \u001b[36m0:00:00\u001b[0m\n",
            "\u001b[?25hCollecting dwave-inspector==0.3.0 (from dwave-ocean-sdk==6.0.1)\n",
            "  Downloading dwave_inspector-0.3.0-py3-none-any.whl (26 kB)\n",
            "Collecting dwave-neal==0.5.9 (from dwave-ocean-sdk==6.0.1)\n",
            "  Downloading dwave_neal-0.5.9-cp310-cp310-manylinux_2_5_x86_64.manylinux1_x86_64.manylinux_2_12_x86_64.manylinux2010_x86_64.whl (525 kB)\n",
            "\u001b[2K     \u001b[90m━━━━━━━━━━━━━━━━━━━━━━━━━━━━━━━━━━━━━━\u001b[0m \u001b[32m525.6/525.6 kB\u001b[0m \u001b[31m39.4 MB/s\u001b[0m eta \u001b[36m0:00:00\u001b[0m\n",
            "\u001b[?25hCollecting dwave-networkx==0.8.12 (from dwave-ocean-sdk==6.0.1)\n",
            "  Downloading dwave_networkx-0.8.12-py3-none-any.whl (97 kB)\n",
            "\u001b[2K     \u001b[90m━━━━━━━━━━━━━━━━━━━━━━━━━━━━━━━━━━━━━━━━\u001b[0m \u001b[32m97.5/97.5 kB\u001b[0m \u001b[31m10.0 MB/s\u001b[0m eta \u001b[36m0:00:00\u001b[0m\n",
            "\u001b[?25hCollecting dwave-preprocessing==0.5.1 (from dwave-ocean-sdk==6.0.1)\n",
            "  Downloading dwave_preprocessing-0.5.1-cp310-cp310-manylinux_2_17_x86_64.manylinux2014_x86_64.whl (2.2 MB)\n",
            "\u001b[2K     \u001b[90m━━━━━━━━━━━━━━━━━━━━━━━━━━━━━━━━━━━━━━━━\u001b[0m \u001b[32m2.2/2.2 MB\u001b[0m \u001b[31m11.1 MB/s\u001b[0m eta \u001b[36m0:00:00\u001b[0m\n",
            "\u001b[?25hCollecting dwave-system==1.16.0 (from dwave-ocean-sdk==6.0.1)\n",
            "  Downloading dwave_system-1.16.0-py3-none-any.whl (103 kB)\n",
            "\u001b[2K     \u001b[90m━━━━━━━━━━━━━━━━━━━━━━━━━━━━━━━━━━━━━━\u001b[0m \u001b[32m103.4/103.4 kB\u001b[0m \u001b[31m11.3 MB/s\u001b[0m eta \u001b[36m0:00:00\u001b[0m\n",
            "\u001b[?25hCollecting dwave-tabu==0.4.5 (from dwave-ocean-sdk==6.0.1)\n",
            "  Downloading dwave_tabu-0.4.5-cp310-cp310-manylinux_2_17_x86_64.manylinux2014_x86_64.whl (721 kB)\n",
            "\u001b[2K     \u001b[90m━━━━━━━━━━━━━━━━━━━━━━━━━━━━━━━━━━━━━━\u001b[0m \u001b[32m721.8/721.8 kB\u001b[0m \u001b[31m50.6 MB/s\u001b[0m eta \u001b[36m0:00:00\u001b[0m\n",
            "\u001b[?25hCollecting dwavebinarycsp==0.2.0 (from dwave-ocean-sdk==6.0.1)\n",
            "  Downloading dwavebinarycsp-0.2.0-py3-none-any.whl (35 kB)\n",
            "Collecting minorminer==0.2.9 (from dwave-ocean-sdk==6.0.1)\n",
            "  Downloading minorminer-0.2.9-cp310-cp310-manylinux_2_17_x86_64.manylinux2014_x86_64.whl (6.0 MB)\n",
            "\u001b[2K     \u001b[90m━━━━━━━━━━━━━━━━━━━━━━━━━━━━━━━━━━━━━━━━\u001b[0m \u001b[32m6.0/6.0 MB\u001b[0m \u001b[31m57.8 MB/s\u001b[0m eta \u001b[36m0:00:00\u001b[0m\n",
            "\u001b[?25hCollecting penaltymodel==1.0.2 (from dwave-ocean-sdk==6.0.1)\n",
            "  Downloading penaltymodel-1.0.2-py3-none-any.whl (36 kB)\n",
            "Requirement already satisfied: numpy<2.0.0,>=1.17.3 in /usr/local/lib/python3.10/dist-packages (from dimod==0.12.0->dwave-ocean-sdk==6.0.1) (1.23.5)\n",
            "Requirement already satisfied: requests[socks]>=2.18 in /usr/local/lib/python3.10/dist-packages (from dwave-cloud-client==0.10.3->dwave-ocean-sdk==6.0.1) (2.31.0)\n",
            "Requirement already satisfied: pydantic>=1.7.3 in /usr/local/lib/python3.10/dist-packages (from dwave-cloud-client==0.10.3->dwave-ocean-sdk==6.0.1) (1.10.13)\n",
            "Collecting homebase>=1.0 (from dwave-cloud-client==0.10.3->dwave-ocean-sdk==6.0.1)\n",
            "  Downloading homebase-1.0.1-py2.py3-none-any.whl (11 kB)\n",
            "Requirement already satisfied: click>=7.0 in /usr/local/lib/python3.10/dist-packages (from dwave-cloud-client==0.10.3->dwave-ocean-sdk==6.0.1) (8.1.7)\n",
            "Requirement already satisfied: python-dateutil>=2.7 in /usr/local/lib/python3.10/dist-packages (from dwave-cloud-client==0.10.3->dwave-ocean-sdk==6.0.1) (2.8.2)\n",
            "Collecting plucky>=0.4.3 (from dwave-cloud-client==0.10.3->dwave-ocean-sdk==6.0.1)\n",
            "  Downloading plucky-0.4.3-py2.py3-none-any.whl (10 kB)\n",
            "Collecting diskcache>=5.2.1 (from dwave-cloud-client==0.10.3->dwave-ocean-sdk==6.0.1)\n",
            "  Downloading diskcache-5.6.3-py3-none-any.whl (45 kB)\n",
            "\u001b[2K     \u001b[90m━━━━━━━━━━━━━━━━━━━━━━━━━━━━━━━━━━━━━━━━\u001b[0m \u001b[32m45.5/45.5 kB\u001b[0m \u001b[31m4.4 MB/s\u001b[0m eta \u001b[36m0:00:00\u001b[0m\n",
            "\u001b[?25hRequirement already satisfied: networkx in /usr/local/lib/python3.10/dist-packages (from dwave-hybrid==0.6.9->dwave-ocean-sdk==6.0.1) (3.1)\n",
            "Requirement already satisfied: Flask>=1.1.1 in /usr/local/lib/python3.10/dist-packages (from dwave-inspector==0.3.0->dwave-ocean-sdk==6.0.1) (2.2.5)\n",
            "Collecting networkx (from dwave-hybrid==0.6.9->dwave-ocean-sdk==6.0.1)\n",
            "  Downloading networkx-2.8.8-py3-none-any.whl (2.0 MB)\n",
            "\u001b[2K     \u001b[90m━━━━━━━━━━━━━━━━━━━━━━━━━━━━━━━━━━━━━━━━\u001b[0m \u001b[32m2.0/2.0 MB\u001b[0m \u001b[31m70.1 MB/s\u001b[0m eta \u001b[36m0:00:00\u001b[0m\n",
            "\u001b[?25hRequirement already satisfied: scipy<2.0.0,>=1.5.2 in /usr/local/lib/python3.10/dist-packages (from dwave-system==1.16.0->dwave-ocean-sdk==6.0.1) (1.11.3)\n",
            "Collecting fasteners (from minorminer==0.2.9->dwave-ocean-sdk==6.0.1)\n",
            "  Downloading fasteners-0.19-py3-none-any.whl (18 kB)\n",
            "Collecting rectangle-packer>=2.0.1 (from minorminer==0.2.9->dwave-ocean-sdk==6.0.1)\n",
            "  Downloading rectangle_packer-2.0.1-cp310-cp310-manylinux_2_5_x86_64.manylinux1_x86_64.manylinux_2_17_x86_64.manylinux2014_x86_64.whl (300 kB)\n",
            "\u001b[2K     \u001b[90m━━━━━━━━━━━━━━━━━━━━━━━━━━━━━━━━━━━━━━\u001b[0m \u001b[32m300.8/300.8 kB\u001b[0m \u001b[31m25.1 MB/s\u001b[0m eta \u001b[36m0:00:00\u001b[0m\n",
            "\u001b[?25hRequirement already satisfied: Werkzeug>=2.2.2 in /usr/local/lib/python3.10/dist-packages (from Flask>=1.1.1->dwave-inspector==0.3.0->dwave-ocean-sdk==6.0.1) (3.0.0)\n",
            "Requirement already satisfied: Jinja2>=3.0 in /usr/local/lib/python3.10/dist-packages (from Flask>=1.1.1->dwave-inspector==0.3.0->dwave-ocean-sdk==6.0.1) (3.1.2)\n",
            "Requirement already satisfied: itsdangerous>=2.0 in /usr/local/lib/python3.10/dist-packages (from Flask>=1.1.1->dwave-inspector==0.3.0->dwave-ocean-sdk==6.0.1) (2.1.2)\n",
            "Requirement already satisfied: typing-extensions>=4.2.0 in /usr/local/lib/python3.10/dist-packages (from pydantic>=1.7.3->dwave-cloud-client==0.10.3->dwave-ocean-sdk==6.0.1) (4.5.0)\n",
            "Requirement already satisfied: six>=1.5 in /usr/local/lib/python3.10/dist-packages (from python-dateutil>=2.7->dwave-cloud-client==0.10.3->dwave-ocean-sdk==6.0.1) (1.16.0)\n",
            "Requirement already satisfied: charset-normalizer<4,>=2 in /usr/local/lib/python3.10/dist-packages (from requests[socks]>=2.18->dwave-cloud-client==0.10.3->dwave-ocean-sdk==6.0.1) (3.3.0)\n",
            "Requirement already satisfied: idna<4,>=2.5 in /usr/local/lib/python3.10/dist-packages (from requests[socks]>=2.18->dwave-cloud-client==0.10.3->dwave-ocean-sdk==6.0.1) (3.4)\n",
            "Requirement already satisfied: urllib3<3,>=1.21.1 in /usr/local/lib/python3.10/dist-packages (from requests[socks]>=2.18->dwave-cloud-client==0.10.3->dwave-ocean-sdk==6.0.1) (2.0.6)\n",
            "Requirement already satisfied: certifi>=2017.4.17 in /usr/local/lib/python3.10/dist-packages (from requests[socks]>=2.18->dwave-cloud-client==0.10.3->dwave-ocean-sdk==6.0.1) (2023.7.22)\n",
            "Requirement already satisfied: PySocks!=1.5.7,>=1.5.6 in /usr/local/lib/python3.10/dist-packages (from requests[socks]>=2.18->dwave-cloud-client==0.10.3->dwave-ocean-sdk==6.0.1) (1.7.1)\n",
            "Requirement already satisfied: MarkupSafe>=2.0 in /usr/local/lib/python3.10/dist-packages (from Jinja2>=3.0->Flask>=1.1.1->dwave-inspector==0.3.0->dwave-ocean-sdk==6.0.1) (2.1.3)\n",
            "Installing collected packages: rectangle-packer, plucky, homebase, networkx, fasteners, diskcache, dimod, penaltymodel, dwave-tabu, dwave-preprocessing, dwave-networkx, dwave-neal, dwave-greedy, minorminer, dwavebinarycsp, dwave-cloud-client, dwave-system, dwave-inspector, dwave-hybrid, dwave-ocean-sdk\n",
            "  Attempting uninstall: networkx\n",
            "    Found existing installation: networkx 3.1\n",
            "    Uninstalling networkx-3.1:\n",
            "      Successfully uninstalled networkx-3.1\n",
            "Successfully installed dimod-0.12.0 diskcache-5.6.3 dwave-cloud-client-0.10.3 dwave-greedy-0.2.5 dwave-hybrid-0.6.9 dwave-inspector-0.3.0 dwave-neal-0.5.9 dwave-networkx-0.8.12 dwave-ocean-sdk-6.0.1 dwave-preprocessing-0.5.1 dwave-system-1.16.0 dwave-tabu-0.4.5 dwavebinarycsp-0.2.0 fasteners-0.19 homebase-1.0.1 minorminer-0.2.9 networkx-2.8.8 penaltymodel-1.0.2 plucky-0.4.3 rectangle-packer-2.0.1\n"
          ]
        }
      ],
      "source": [
        "# Install d-wave ocean libraries uncomment if required\n",
        "!pip install dwave-ocean-sdk==6.0.1"
      ]
    },
    {
      "cell_type": "code",
      "execution_count": null,
      "metadata": {
        "id": "9WoQF03-EaGu",
        "colab": {
          "base_uri": "https://localhost:8080/"
        },
        "outputId": "c8750a02-d5be-446b-ea6f-f3153d021120"
      },
      "outputs": [
        {
          "output_type": "stream",
          "name": "stdout",
          "text": [
            "Using the simplified configuration flow.\n",
            "Try 'dwave config create --full' for more options.\n",
            "\n",
            "Creating new configuration file: /root/.config/dwave/dwave.conf\n",
            "Profile [defaults]: "
          ]
        }
      ],
      "source": [
        "# Set-up access to D-Wave quantum annealers.\n",
        "!dwave config create"
      ]
    },
    {
      "cell_type": "code",
      "execution_count": null,
      "metadata": {
        "id": "UUFTKnf6FMb4"
      },
      "outputs": [],
      "source": [
        "import dimod\n",
        "J = {(0,1):1, (0,2):1}\n",
        "h = {}\n",
        "problem = dimod.BinaryQuadraticModel(h, J, 0.0, dimod.SPIN)\n",
        "print(\"The problem we are going to solve is:\")\n",
        "print(problem)\n"
      ]
    },
    {
      "cell_type": "code",
      "execution_count": null,
      "metadata": {
        "id": "qgAnVWndFlUT"
      },
      "outputs": [],
      "source": [
        "from dwave.system import DWaveSampler\n",
        "from dwave.system import EmbeddingComposite\n",
        "sampler = EmbeddingComposite(DWaveSampler())\n",
        "result = sampler.sample(problem, num_reads=10)\n",
        "print(\"The solutions that we have obtained are\")\n",
        "print(result)"
      ]
    },
    {
      "cell_type": "code",
      "execution_count": null,
      "metadata": {
        "id": "42ucb8VpFuKt"
      },
      "outputs": [],
      "source": [
        "x0 = dimod.Binary(\"x0\")\n",
        "x1 = dimod.Binary(\"x1\")\n",
        "x2 = dimod.Binary(\"x2\")"
      ]
    },
    {
      "cell_type": "code",
      "execution_count": null,
      "metadata": {
        "id": "7upiqt8eFzy3"
      },
      "outputs": [],
      "source": [
        "blp = dimod.ConstrainedQuadraticModel()\n",
        "blp.set_objective(-5*x0+3*x1-2*x2)\n",
        "blp.add_constraint(x0 + x2 <= 1, \"First constraint\")\n",
        "blp.add_constraint(3*x0 -x1 + 3*x2 <= 4, \"Second constraint\")"
      ]
    },
    {
      "cell_type": "code",
      "execution_count": null,
      "metadata": {
        "id": "hJF69F3LF5Dc"
      },
      "outputs": [],
      "source": [
        "print(\"Our variables are:\")\n",
        "print(blp.variables)\n",
        "print(\"Our objective is:\")\n",
        "print(blp.objective)\n",
        "print(\"Our constraints are:\")\n",
        "print(blp.constraints)"
      ]
    },
    {
      "cell_type": "code",
      "execution_count": null,
      "metadata": {
        "id": "V9Wtt3OlF_uK"
      },
      "outputs": [],
      "source": [
        "sample1 = {\"x0\":1, \"x1\":1, \"x2\":1}\n",
        "print(\"The assignment is\", sample1)\n",
        "print(\"Its cost is\", blp.objective.energy(sample1))\n",
        "print(\"Is it feasible?\",blp.check_feasible(sample1))\n",
        "print(\"The violations of the constraints are\")\n",
        "print(blp.violations(sample1))"
      ]
    },
    {
      "cell_type": "code",
      "execution_count": null,
      "metadata": {
        "id": "tam0h2V1GmP9"
      },
      "outputs": [],
      "source": [
        "sample2 = {\"x0\":0, \"x1\":0, \"x2\":1}\n",
        "print(\"The assignment is\", sample2)\n",
        "print(\"Its cost is\", blp.objective.energy(sample2))\n",
        "print(\"Is it feasible?\",blp.check_feasible(sample2))\n",
        "print(\"The violations of the constraints are\")\n",
        "print(blp.violations(sample2))"
      ]
    },
    {
      "cell_type": "code",
      "execution_count": null,
      "metadata": {
        "id": "xyQzxTkhGsZo"
      },
      "outputs": [],
      "source": [
        "solver = dimod.ExactCQMSolver()\n",
        "solution = solver.sample_cqm(blp)\n",
        "print(\"The list of assignments is\")\n",
        "print(solution)"
      ]
    },
    {
      "cell_type": "code",
      "execution_count": null,
      "metadata": {
        "id": "9dRF20ktG2Wf"
      },
      "outputs": [],
      "source": [
        "feasible_sols = solution.filter(lambda s: s.is_feasible)\n",
        "feasible_sols.first"
      ]
    },
    {
      "cell_type": "code",
      "execution_count": null,
      "metadata": {
        "id": "JSYjdRNuG_x5"
      },
      "outputs": [],
      "source": [
        "y0, y1 = dimod.Binaries([\"y0\", \"y1\"])\n",
        "cqm = dimod.ConstrainedQuadraticModel()\n",
        "cqm.set_objective(-2*y0-3*y1)\n",
        "cqm.add_constraint(y0 + 2*y1 <= 2);"
      ]
    },
    {
      "cell_type": "code",
      "execution_count": null,
      "metadata": {
        "id": "pJko6mDSHF63"
      },
      "outputs": [],
      "source": [
        "qubo, invert = dimod.cqm_to_bqm(cqm, lagrange_multiplier = 5)\n",
        "print(qubo)"
      ]
    },
    {
      "cell_type": "code",
      "execution_count": null,
      "metadata": {
        "id": "zeKwEoWxHJXz"
      },
      "outputs": [],
      "source": [
        "sampler = EmbeddingComposite(DWaveSampler())\n",
        "result = sampler.sample(qubo, num_reads=10)\n",
        "print(\"The solutions that we have obtained are\")\n",
        "print(result)"
      ]
    },
    {
      "cell_type": "code",
      "execution_count": null,
      "metadata": {
        "id": "FrhzIllgHQqz"
      },
      "outputs": [],
      "source": [
        "samples = []\n",
        "occurrences = []\n",
        "for s in result.data():\n",
        "    samples.append(invert(s.sample))\n",
        "    occurrences.append(s.num_occurrences)\n",
        "sampleset = dimod.SampleSet.from_samples_cqm(samples,cqm,\n",
        "    num_occurrences=occurrences)\n",
        "print(\"The solutions to the original problem are\")\n",
        "print(sampleset)"
      ]
    },
    {
      "cell_type": "code",
      "execution_count": null,
      "metadata": {
        "id": "PKDAg5bsHZCl"
      },
      "outputs": [],
      "source": [
        "final_sols = sampleset.filter(lambda s: s.is_feasible)\n",
        "final_sols = final_sols.aggregate()\n",
        "print(\"The final solutions are\")\n",
        "print(final_sols)"
      ]
    },
    {
      "cell_type": "code",
      "execution_count": null,
      "metadata": {
        "id": "ycO77-2JHhCE"
      },
      "outputs": [],
      "source": [
        "from dwave.cloud import Client\n",
        "for solver in Client.from_config().get_solvers():\n",
        "    print(solver)"
      ]
    },
    {
      "cell_type": "code",
      "execution_count": null,
      "metadata": {
        "id": "sICOR7yoHmeB"
      },
      "outputs": [],
      "source": [
        "from dwave.system import DWaveSampler\n",
        "sampler=DWaveSampler(solver='DW_2000Q_6')\n",
        "print(\"Name:\",sampler.properties[\"chip_id\"])\n",
        "print(\"Number of qubits:\",sampler.properties[\"num_qubits\"])\n",
        "print(\"Category:\",sampler.properties[\"category\"])\n",
        "print(\"Supported problems:\",sampler.properties[\"supported_problem_types\"])\n",
        "print(\"Topology:\",sampler.properties[\"topology\"])\n",
        "print(\"Range of reads:\",sampler.properties[\"num_reads_range\"])"
      ]
    },
    {
      "cell_type": "code",
      "execution_count": null,
      "metadata": {
        "id": "SvYDUn4cHwnT"
      },
      "outputs": [],
      "source": [
        "sampler=DWaveSampler(solver='Advantage_system4.1')\n",
        "print(\"Name:\",sampler.properties[\"chip_id\"])\n",
        "print(\"Number of qubits:\",sampler.properties[\"num_qubits\"])\n",
        "print(\"Category:\",sampler.properties[\"category\"])\n",
        "print(\"Supported problems:\",sampler.properties[\"supported_problem_types\"])\n",
        "print(\"Topology:\",sampler.properties[\"topology\"])\n",
        "print(\"Range of reads:\",sampler.properties[\"num_reads_range\"])"
      ]
    },
    {
      "cell_type": "code",
      "execution_count": null,
      "metadata": {
        "id": "BEbRGsy3H5jP"
      },
      "outputs": [],
      "source": [
        "sampler=DWaveSampler(solver='Advantage2_prototype1.1')\n",
        "print(\"Name:\",sampler.properties[\"chip_id\"])\n",
        "print(\"Number of qubits:\",sampler.properties[\"num_qubits\"])\n",
        "print(\"Category:\",sampler.properties[\"category\"])\n",
        "print(\"Supported problems:\",sampler.properties[\"supported_problem_types\"])\n",
        "print(\"Topology:\",sampler.properties[\"topology\"])\n",
        "print(\"Range of reads:\",sampler.properties[\"num_reads_range\"])"
      ]
    },
    {
      "cell_type": "code",
      "execution_count": null,
      "metadata": {
        "id": "qWjDsgeNIDYe"
      },
      "outputs": [],
      "source": [
        "sampler=DWaveSampler(solver='DW_2000Q_6')\n",
        "print(\"Couplings:\",sampler.properties[\"couplers\"])"
      ]
    },
    {
      "cell_type": "code",
      "execution_count": null,
      "metadata": {
        "id": "54L5XKSLIIj-"
      },
      "outputs": [],
      "source": [
        "sampler.adjacency"
      ]
    },
    {
      "cell_type": "code",
      "execution_count": null,
      "metadata": {
        "id": "ntM_2zE4ITU-"
      },
      "outputs": [],
      "source": [
        "# Define the problem\n",
        "J = {(0,1):1, (0,2):1, (1,2):1}\n",
        "h = {}\n",
        "triangle = dimod.BinaryQuadraticModel(h, J, 0.0, dimod.SPIN)\n",
        "# Embed it and solve it on the DW_2000Q_6 annealer\n",
        "sampler = EmbeddingComposite(DWaveSampler(solver = \"DW_2000Q_6\"))\n",
        "result = sampler.sample(triangle, num_reads=10,\n",
        "    return_embedding = True)\n",
        "print(\"The samples obtained are\")\n",
        "print(result)\n",
        "print(\"The embedding used was\")\n",
        "print(result.info[\"embedding_context\"])"
      ]
    },
    {
      "cell_type": "code",
      "execution_count": null,
      "metadata": {
        "id": "p399qlrKIb9g"
      },
      "outputs": [],
      "source": [
        "sampler = DWaveSampler(solver = \"Advantage_system4.1\")\n",
        "print(\"The default annealing time is\",\n",
        "    sampler.properties[\"default_annealing_time\"],\"microseconds\")\n",
        "print(\"The possible values for the annealing time (in microseconds)\"\\\n",
        "    \" lie in the range\",sampler.properties[\"annealing_time_range\"])"
      ]
    },
    {
      "cell_type": "code",
      "execution_count": null,
      "metadata": {
        "id": "erXf3rnXIkOf"
      },
      "outputs": [],
      "source": [
        "J = {(0,1):1, (0,2):1, (1,2):1}\n",
        "h = {}\n",
        "triangle = dimod.BinaryQuadraticModel(h, J, 0.0, dimod.SPIN)\n",
        "sampler = EmbeddingComposite(DWaveSampler(solver = \"DW_2000Q_6\"))\n",
        "result = sampler.sample(triangle, num_reads=10, annealing_time = 100)\n",
        "print(\"The samples obtained are\")\n",
        "print(result)"
      ]
    },
    {
      "cell_type": "code",
      "execution_count": null,
      "metadata": {
        "id": "LYM4kqH3IpGa"
      },
      "outputs": [],
      "source": [
        "forward_schedule=[[0.0, 0.0], [5.0, 0.25], [25, 0.75], [30, 1.0]]\n",
        "sampler = EmbeddingComposite(DWaveSampler())\n",
        "result = sampler.sample(triangle, num_reads=10,\n",
        "    anneal_schedule = forward_schedule)\n",
        "print(\"The samples obtained are\")\n",
        "print(result)"
      ]
    },
    {
      "cell_type": "code",
      "execution_count": null,
      "metadata": {
        "id": "KbH16epAI1jO"
      },
      "outputs": [],
      "source": [
        "reverse_schedule=[[0.0, 1.0], [10.0, 0.5], [20, 1.0]]\n",
        "initial_state = {0:1, 1:1, 2:1}\n",
        "sampler = EmbeddingComposite(DWaveSampler())\n",
        "result = sampler.sample(triangle, num_reads=10,\n",
        "    anneal_schedule = reverse_schedule,\n",
        "    reinitialize_state=False, initial_state = initial_state)\n",
        "print(\"The samples obtained are\")\n",
        "print(result)"
      ]
    },
    {
      "cell_type": "code",
      "execution_count": null,
      "metadata": {
        "id": "7e4K1PxzJDGD"
      },
      "outputs": [],
      "source": [
        "sampler = DWaveSampler(\"Advantage_system4.1\")\n",
        "print(\"The coupling strength range is\", sampler.properties[\"h_range\"])"
      ]
    },
    {
      "cell_type": "code",
      "execution_count": null,
      "metadata": {
        "id": "zbRc9V4CJLKH"
      },
      "outputs": [],
      "source": [
        "sampler = EmbeddingComposite(DWaveSampler(\"Advantage_system4.1\"))\n",
        "# Define the problem\n",
        "x0 = dimod.Binary(\"x0\")\n",
        "x1 = dimod.Binary(\"x1\")\n",
        "x2 = dimod.Binary(\"x2\")\n",
        "blp = dimod.ConstrainedQuadraticModel()\n",
        "blp.set_objective(-5*x0+3*x1-2*x2)\n",
        "blp.add_constraint(x0 + x2 <= 1, \"First constraint\")\n",
        "blp.add_constraint(3*x0 -x1 + 3*x2 <= 4, \"Second constraint\")\n",
        "# Convert the problem and run it\n",
        "qubo, invert = dimod.cqm_to_bqm(blp, lagrange_multiplier = 10)\n",
        "result = sampler.sample(qubo, num_reads=100)\n",
        "# Aggregate and show the results\n",
        "samples = []\n",
        "occurrences = []\n",
        "for s in result.data():\n",
        "    samples.append(invert(s.sample))\n",
        "    occurrences.append(s.num_occurrences)\n",
        "sampleset = dimod.SampleSet.from_samples_cqm(samples,blp,\n",
        "    num_occurrences=occurrences)\n",
        "print(\"The solutions to the original problem are\")\n",
        "print(sampleset.filter(lambda s: s.is_feasible).aggregate())"
      ]
    },
    {
      "cell_type": "code",
      "execution_count": null,
      "metadata": {
        "id": "DiUb5nqIJQNf"
      },
      "outputs": [],
      "source": [
        "# Convert the problem and run it\n",
        "qubo, invert = dimod.cqm_to_bqm(blp, lagrange_multiplier = 4)\n",
        "result = sampler.sample(qubo, num_reads=100)\n",
        "# Aggregate and show the results\n",
        "samples = []\n",
        "occurrences = []\n",
        "for s in result.data():\n",
        "    samples.append(invert(s.sample))\n",
        "    occurrences.append(s.num_occurrences)\n",
        "sampleset = dimod.SampleSet.from_samples_cqm(samples,blp,\n",
        "    num_occurrences=occurrences)\n",
        "print(\"The solutions to the original problem are\")\n",
        "print(sampleset.filter(lambda s: s.is_feasible).aggregate())"
      ]
    },
    {
      "cell_type": "code",
      "execution_count": null,
      "metadata": {
        "id": "ztgEnnB8JYC4"
      },
      "outputs": [],
      "source": [
        "# Convert the problem and run it\n",
        "qubo, invert = dimod.cqm_to_bqm(blp, lagrange_multiplier = 1)\n",
        "result = sampler.sample(qubo, num_reads=100)\n",
        "# Aggregate and show the results\n",
        "samples = []\n",
        "occurrences = []\n",
        "for s in result.data():\n",
        "    samples.append(invert(s.sample))\n",
        "    occurrences.append(s.num_occurrences)\n",
        "sampleset = dimod.SampleSet.from_samples_cqm(samples,blp,\n",
        "    num_occurrences=occurrences)\n",
        "print(\"The solutions to the original problem are\")\n",
        "print(sampleset.filter(lambda s: s.is_feasible).aggregate())"
      ]
    },
    {
      "cell_type": "code",
      "execution_count": null,
      "metadata": {
        "id": "XNpcZwmJJjqs"
      },
      "outputs": [],
      "source": [
        "import greedy\n",
        "import dimod\n",
        "# Define the problem\n",
        "J = {(0,1):1, (1,2):1, (2,3):1, (3,0):1}\n",
        "h = {}\n",
        "problem = dimod.BinaryQuadraticModel(h, J, 0.0, dimod.SPIN)\n",
        "# Sample with SteepestDescentSolver\n",
        "solver = greedy.SteepestDescentSolver()\n",
        "solution = solver.sample(problem, num_reads = 10)\n",
        "print(solution.aggregate())"
      ]
    },
    {
      "cell_type": "code",
      "execution_count": null,
      "metadata": {
        "id": "ED0psiS0Jppm"
      },
      "outputs": [],
      "source": [
        "import tabu\n",
        "solver = tabu.TabuSampler()\n",
        "solution = solver.sample(problem, num_reads = 10)\n",
        "print(solution.aggregate())"
      ]
    },
    {
      "cell_type": "code",
      "execution_count": null,
      "metadata": {
        "id": "Cmeis9TDJtZ1"
      },
      "outputs": [],
      "source": [
        "import neal\n",
        "solver = neal.SimulatedAnnealingSampler()\n",
        "solution = solver.sample(problem, num_reads = 10)\n",
        "print(solution.aggregate())"
      ]
    },
    {
      "cell_type": "code",
      "execution_count": null,
      "metadata": {
        "id": "RHU3aB83Jv0r"
      },
      "outputs": [],
      "source": [
        "import dwave.system\n",
        "sampler = dwave.system.LeapHybridSampler()\n",
        "solution = solver.sample(problem, num_reads = 10)\n",
        "print(solution.aggregate())"
      ]
    },
    {
      "cell_type": "code",
      "execution_count": null,
      "metadata": {
        "id": "YQ2I2UvlJzym"
      },
      "outputs": [],
      "source": [
        "sampler.properties[\"quota_conversion_rate\"]\n"
      ]
    }
  ],
  "metadata": {
    "colab": {
      "provenance": [],
      "include_colab_link": true
    },
    "kernelspec": {
      "display_name": "Python 3",
      "name": "python3"
    },
    "language_info": {
      "codemirror_mode": {
        "name": "ipython",
        "version": 3
      },
      "file_extension": ".py",
      "mimetype": "text/x-python",
      "name": "python",
      "nbconvert_exporter": "python",
      "pygments_lexer": "ipython3",
      "version": "3.10.8"
    }
  },
  "nbformat": 4,
  "nbformat_minor": 0
}